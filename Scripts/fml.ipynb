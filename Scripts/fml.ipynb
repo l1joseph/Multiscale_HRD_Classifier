{
 "cells": [
  {
   "cell_type": "code",
   "execution_count": 85,
   "metadata": {},
   "outputs": [
    {
     "name": "stdout",
     "output_type": "stream",
     "text": [
      "fpkm shape: (887, 19962)\n",
      "deconvo shape: (835, 9853)\n",
      "tpm shape: (887, 19969)\n",
      "event.PAM50\n",
      "LumA     464\n",
      "LumB     193\n",
      "Basal    146\n",
      "Her2      74\n",
      "Name: count, dtype: int64\n"
     ]
    },
    {
     "name": "stderr",
     "output_type": "stream",
     "text": [
      "Fitting size factors...\n",
      "... done in 0.15 seconds.\n",
      "\n",
      "Fitting dispersions...\n",
      "... done in 1.63 seconds.\n",
      "\n",
      "Fitting dispersion trend curve...\n",
      "... done in 1.54 seconds.\n",
      "\n",
      "Fitting MAP dispersions...\n",
      "... done in 2.25 seconds.\n",
      "\n",
      "Fitting LFCs...\n",
      "... done in 3.64 seconds.\n",
      "\n",
      "Refitting 817 outliers.\n",
      "\n",
      "Fitting dispersions...\n",
      "... done in 0.14 seconds.\n",
      "\n",
      "Fitting MAP dispersions...\n",
      "... done in 0.11 seconds.\n",
      "\n",
      "Fitting LFCs...\n",
      "... done in 0.25 seconds.\n",
      "\n",
      "Running Wald tests...\n"
     ]
    },
    {
     "name": "stdout",
     "output_type": "stream",
     "text": [
      "Log2 fold change & Wald test p-value: HRD-status-base HRD vs HR\n"
     ]
    },
    {
     "name": "stderr",
     "output_type": "stream",
     "text": [
      "... done in 2.78 seconds.\n",
      "\n"
     ]
    },
    {
     "data": {
      "text/html": [
       "<div>\n",
       "<style scoped>\n",
       "    .dataframe tbody tr th:only-of-type {\n",
       "        vertical-align: middle;\n",
       "    }\n",
       "\n",
       "    .dataframe tbody tr th {\n",
       "        vertical-align: top;\n",
       "    }\n",
       "\n",
       "    .dataframe thead th {\n",
       "        text-align: right;\n",
       "    }\n",
       "</style>\n",
       "<table border=\"1\" class=\"dataframe\">\n",
       "  <thead>\n",
       "    <tr style=\"text-align: right;\">\n",
       "      <th></th>\n",
       "      <th>baseMean</th>\n",
       "      <th>log2FoldChange</th>\n",
       "      <th>lfcSE</th>\n",
       "      <th>stat</th>\n",
       "      <th>pvalue</th>\n",
       "      <th>padj</th>\n",
       "    </tr>\n",
       "  </thead>\n",
       "  <tbody>\n",
       "    <tr>\n",
       "      <th>A1BG_0</th>\n",
       "      <td>0.000000</td>\n",
       "      <td>NaN</td>\n",
       "      <td>NaN</td>\n",
       "      <td>NaN</td>\n",
       "      <td>NaN</td>\n",
       "      <td>NaN</td>\n",
       "    </tr>\n",
       "    <tr>\n",
       "      <th>A1CF_1</th>\n",
       "      <td>0.000000</td>\n",
       "      <td>NaN</td>\n",
       "      <td>NaN</td>\n",
       "      <td>NaN</td>\n",
       "      <td>NaN</td>\n",
       "      <td>NaN</td>\n",
       "    </tr>\n",
       "    <tr>\n",
       "      <th>A2M_2</th>\n",
       "      <td>108.929448</td>\n",
       "      <td>0.536441</td>\n",
       "      <td>0.082727</td>\n",
       "      <td>6.484505</td>\n",
       "      <td>8.902384e-11</td>\n",
       "      <td>4.955107e-10</td>\n",
       "    </tr>\n",
       "    <tr>\n",
       "      <th>A2ML1_3</th>\n",
       "      <td>2.008594</td>\n",
       "      <td>2.505055</td>\n",
       "      <td>0.496418</td>\n",
       "      <td>5.046257</td>\n",
       "      <td>4.505491e-07</td>\n",
       "      <td>1.596020e-06</td>\n",
       "    </tr>\n",
       "    <tr>\n",
       "      <th>A3GALT2_4</th>\n",
       "      <td>0.000000</td>\n",
       "      <td>NaN</td>\n",
       "      <td>NaN</td>\n",
       "      <td>NaN</td>\n",
       "      <td>NaN</td>\n",
       "      <td>NaN</td>\n",
       "    </tr>\n",
       "    <tr>\n",
       "      <th>...</th>\n",
       "      <td>...</td>\n",
       "      <td>...</td>\n",
       "      <td>...</td>\n",
       "      <td>...</td>\n",
       "      <td>...</td>\n",
       "      <td>...</td>\n",
       "    </tr>\n",
       "    <tr>\n",
       "      <th>ZYG11A_20005</th>\n",
       "      <td>0.878507</td>\n",
       "      <td>0.798181</td>\n",
       "      <td>0.135854</td>\n",
       "      <td>5.875266</td>\n",
       "      <td>4.221655e-09</td>\n",
       "      <td>1.915863e-08</td>\n",
       "    </tr>\n",
       "    <tr>\n",
       "      <th>ZYG11B_20006</th>\n",
       "      <td>5.352988</td>\n",
       "      <td>0.102598</td>\n",
       "      <td>0.049239</td>\n",
       "      <td>2.083669</td>\n",
       "      <td>3.719033e-02</td>\n",
       "      <td>6.202685e-02</td>\n",
       "    </tr>\n",
       "    <tr>\n",
       "      <th>ZYX_20007</th>\n",
       "      <td>50.794143</td>\n",
       "      <td>0.102078</td>\n",
       "      <td>0.053395</td>\n",
       "      <td>1.911762</td>\n",
       "      <td>5.590671e-02</td>\n",
       "      <td>8.963461e-02</td>\n",
       "    </tr>\n",
       "    <tr>\n",
       "      <th>ZZEF1_20008</th>\n",
       "      <td>3.645708</td>\n",
       "      <td>-0.216601</td>\n",
       "      <td>0.063411</td>\n",
       "      <td>-3.415803</td>\n",
       "      <td>6.359434e-04</td>\n",
       "      <td>1.453404e-03</td>\n",
       "    </tr>\n",
       "    <tr>\n",
       "      <th>ZZZ3_20009</th>\n",
       "      <td>5.995797</td>\n",
       "      <td>0.075004</td>\n",
       "      <td>0.055382</td>\n",
       "      <td>1.354311</td>\n",
       "      <td>1.756371e-01</td>\n",
       "      <td>2.485748e-01</td>\n",
       "    </tr>\n",
       "  </tbody>\n",
       "</table>\n",
       "<p>20010 rows × 6 columns</p>\n",
       "</div>"
      ],
      "text/plain": [
       "                baseMean  log2FoldChange     lfcSE      stat        pvalue  \\\n",
       "A1BG_0          0.000000             NaN       NaN       NaN           NaN   \n",
       "A1CF_1          0.000000             NaN       NaN       NaN           NaN   \n",
       "A2M_2         108.929448        0.536441  0.082727  6.484505  8.902384e-11   \n",
       "A2ML1_3         2.008594        2.505055  0.496418  5.046257  4.505491e-07   \n",
       "A3GALT2_4       0.000000             NaN       NaN       NaN           NaN   \n",
       "...                  ...             ...       ...       ...           ...   \n",
       "ZYG11A_20005    0.878507        0.798181  0.135854  5.875266  4.221655e-09   \n",
       "ZYG11B_20006    5.352988        0.102598  0.049239  2.083669  3.719033e-02   \n",
       "ZYX_20007      50.794143        0.102078  0.053395  1.911762  5.590671e-02   \n",
       "ZZEF1_20008     3.645708       -0.216601  0.063411 -3.415803  6.359434e-04   \n",
       "ZZZ3_20009      5.995797        0.075004  0.055382  1.354311  1.756371e-01   \n",
       "\n",
       "                      padj  \n",
       "A1BG_0                 NaN  \n",
       "A1CF_1                 NaN  \n",
       "A2M_2         4.955107e-10  \n",
       "A2ML1_3       1.596020e-06  \n",
       "A3GALT2_4              NaN  \n",
       "...                    ...  \n",
       "ZYG11A_20005  1.915863e-08  \n",
       "ZYG11B_20006  6.202685e-02  \n",
       "ZYX_20007     8.963461e-02  \n",
       "ZZEF1_20008   1.453404e-03  \n",
       "ZZZ3_20009    2.485748e-01  \n",
       "\n",
       "[20010 rows x 6 columns]"
      ]
     },
     "metadata": {},
     "output_type": "display_data"
    },
    {
     "name": "stdout",
     "output_type": "stream",
     "text": [
      "Mean Squared Error: 0.032\n",
      "R^2 Score: 0.650\n"
     ]
    },
    {
     "data": {
      "image/png": "[encoded data removed]",
      "text/plain": [
       "<Figure size 800x600 with 1 Axes>"
      ]
     },
     "metadata": {},
     "output_type": "display_data"
    },
    {
     "data": {
      "image/png": "[encoded data removed]",
      "text/plain": [
       "<Figure size 1000x600 with 1 Axes>"
      ]
     },
     "metadata": {},
     "output_type": "display_data"
    },
    {
     "data": {
      "image/png": "[encoded data removed]",
      "text/plain": [
       "<Figure size 1000x600 with 1 Axes>"
      ]
     },
     "metadata": {},
     "output_type": "display_data"
    }
   ],
   "source": [
    "import pandas as pd\n",
    "from joblib import Parallel, delayed\n",
    "import numpy as np\n",
    "import joblib\n",
    "import matplotlib.pyplot as plt\n",
    "import seaborn as sns\n",
    "from pydeseq2.dds import DeseqDataSet\n",
    "from pydeseq2.ds import DeseqStats\n",
    "from sklearn.preprocessing import StandardScaler \n",
    "from sklearn.linear_model import ElasticNet\n",
    "from sklearn.metrics import mean_squared_error, r2_score\n",
    "from sklearn.model_selection import train_test_split\n",
    "import warnings\n",
    "warnings.filterwarnings(\"ignore\")\n",
    "\n",
    "# -------------------- Data Loading and Preprocessing --------------------\n",
    "\n",
    "# Load metadata and HRD scores\n",
    "ann_tcga = pd.read_csv('../data/toga.breast.brca.status.txt', sep='\\t', index_col=0)\n",
    "hrd_scores = pd.read_excel('../data/tcga.hrdscore.xlsx', index_col=0)\n",
    "\n",
    "# Load RNAseq data\n",
    "fpkm = pd.read_csv('../data/tcga.brca.rnaseq.unstranded.fpkm.counts.matrix.txt', sep='\\t', index_col=0)\n",
    "deconvo = pd.read_csv('../data/Deconvo2.csv',  index_col=0)\n",
    "tpm = pd.read_csv('../data/tpm.csv', index_col=0, low_memory=False)\n",
    "\n",
    "# Filter metadata\n",
    "metadata = ann_tcga[~ann_tcga['event.RAD51C'].ne('0')]\n",
    "metadata = metadata[~metadata['event.PALB2'].ne('0')]\n",
    "metadata = metadata[metadata['event.BRCA1'] != '1']\n",
    "metadata.index = metadata.index.str.replace('.', '-', regex=False)\n",
    "hrd_scores.index = hrd_scores.index.map(lambda x: x[:12])\n",
    "metadata = metadata.merge(hrd_scores[['HRD-sum']], left_index=True, right_index=True, how='inner')\n",
    "\n",
    "# Process fpkm data\n",
    "fpkm = fpkm.set_index('Case ID')\n",
    "fpkm = fpkm[fpkm['Sample Type'] == 'Primary Tumor']\n",
    "fpkm = fpkm.drop(columns=[\"Sample ID\",\"Sample Type\"])\n",
    "\n",
    "# Rename columns using a dictionary constructed from fpkm columns\n",
    "dick = {}\n",
    "for i, v in enumerate(fpkm.columns):\n",
    "    parts = v.split('|')\n",
    "    if len(parts) > 1:\n",
    "        dick[parts[0]] = parts[1]\n",
    "tpm = tpm.rename(columns=dick)\n",
    "tpm = tpm[~tpm.index.duplicated(keep='first')]\n",
    "\n",
    "# Keep only Primary Tumor samples in tpm\n",
    "tpm = tpm.loc[tpm.index.str[13:15] == \"01\"]\n",
    "\n",
    "filtered_columns = [col for col in fpkm.columns if '|' in col and 'protein_coding' in col.split('|')[2]]\n",
    "fpkm = fpkm[filtered_columns]\n",
    "\n",
    "# Further processing for fpkm\n",
    "fpkm.columns = [col.split('|')[1] if '|' in col else col for col in fpkm.columns]\n",
    "fpkm.index = fpkm.index.map(lambda x: x[:12])\n",
    "fpkm = fpkm.loc[fpkm.index.intersection(metadata.index)]\n",
    "fpkm.sort_index(inplace=True)\n",
    "fpkm = fpkm.rename_axis(\"fpkm\", axis=\"index\")\n",
    "fpkm = fpkm.apply(pd.to_numeric, errors='coerce')\n",
    "fpkm.fillna(0, inplace=True)\n",
    "\n",
    "# Process deconvo\n",
    "deconvo.index = deconvo.index.map(lambda x: x[:12])\n",
    "deconvo = deconvo.loc[deconvo.index.intersection(metadata.index)]\n",
    "deconvo.sort_index(inplace=True)\n",
    "deconvo = deconvo.rename_axis(\"deconvo\", axis=\"index\")\n",
    "deconvo.fillna(0, inplace=True)\n",
    "\n",
    "# Process tpm\n",
    "tpm.index = tpm.index.map(lambda x: x[:12])\n",
    "tpm = tpm.loc[tpm.index.intersection(metadata.index)]\n",
    "tpm.sort_index(inplace=True)\n",
    "tpm = tpm.rename_axis(\"tpm\", axis=\"index\")\n",
    "tpm = tpm.apply(pd.to_numeric, errors='coerce')\n",
    "tpm.fillna(0, inplace=True)\n",
    "tpm = tpm[tpm.columns.intersection(fpkm.columns)]\n",
    "\n",
    "\n",
    "print(f\"fpkm shape: {fpkm.shape}\")\n",
    "print(f\"deconvo shape: {deconvo.shape}\")\n",
    "print(f\"tpm shape: {tpm.shape}\")\n",
    "\n",
    "# Display counts for PAM50 subtypes\n",
    "pam50_counts = metadata['event.PAM50'].value_counts()\n",
    "print(pam50_counts)\n",
    "\n",
    "# -------------------- Helper Functions --------------------\n",
    "\n",
    "def downsampling_lumA(metadata, lumA_cutoff):\n",
    "    \"\"\"Downsamples LumA samples to match HRD count.\"\"\"\n",
    "    lumA_HRD = metadata[(metadata['event.PAM50'] == 'LumA') & (metadata['HRD-sum'] >= lumA_cutoff)]\n",
    "    lumA_HRP = metadata[(metadata['event.PAM50'] == 'LumA') & (metadata['HRD-sum'] < lumA_cutoff)]\n",
    "    if lumA_HRP.shape[0] < lumA_HRD.shape[0]:\n",
    "        return metadata, pd.DataFrame()\n",
    "    lumA_HRP_downsampled = lumA_HRP.sample(n=lumA_HRD.shape[0], random_state=42)\n",
    "    df_downsampled = pd.concat([lumA_HRD, lumA_HRP_downsampled])\n",
    "    df_downsampled = pd.concat([df_downsampled, metadata[metadata['event.PAM50'] != 'LumA']])\n",
    "    unused_majority = lumA_HRP.loc[~lumA_HRP.index.isin(lumA_HRP_downsampled.index)]\n",
    "    return df_downsampled, unused_majority\n",
    "\n",
    "def add_back_test(rna_df, removed_samples, X_test, y_test):\n",
    "    \"\"\"Adds back removed samples to the test set if required.\"\"\"\n",
    "    add_back_features = rna_df.loc[rna_df.index.intersection(removed_samples.index)]\n",
    "    add_back_features = add_back_features.sort_index()\n",
    "    add_back_y = removed_samples.loc[removed_samples.index.intersection(rna_df.index)]\n",
    "    add_back_y = add_back_y.sort_index()\n",
    "    X_test = pd.concat([X_test, add_back_features])\n",
    "    y_test = pd.concat([y_test, add_back_y['HRD-sum'].squeeze()])\n",
    "    return X_test, y_test\n",
    "\n",
    "def sigmoid_transform(values, shift=0, scale=1):\n",
    "    \"\"\"Apply sigmoid transformation to a series of values.\"\"\"\n",
    "    return 1 / (1 + np.exp(-scale * (values - shift)))\n",
    "\n",
    "def binary_hrd(values, threshold):\n",
    "    \"\"\"Convert continuous HRD values into binary classes based on a threshold.\"\"\"\n",
    "    return (values >= threshold).astype(int)\n",
    "\n",
    "def plot_test_train_pam50_dist(metadata, X_train, X_test):\n",
    "    \"\"\"Plot HRD-sum distributions for training and test samples, colored by PAM50 subtype.\"\"\"\n",
    "    plt.figure(figsize=(10, 6))\n",
    "    sns.histplot(data=metadata.loc[metadata.index.intersection(X_test.index)],\n",
    "                 x='HRD-sum', hue='event.PAM50', multiple='layer', kde=True)\n",
    "    plt.title('Test Distribution')\n",
    "    plt.xlabel('HRD-sum')\n",
    "    plt.ylabel('Frequency')\n",
    "    plt.show()\n",
    "\n",
    "    plt.figure(figsize=(10, 6))\n",
    "    sns.histplot(data=metadata.loc[metadata.index.intersection(X_train.index)],\n",
    "                 x='HRD-sum', hue='event.PAM50', multiple='layer', kde=True)\n",
    "    plt.title('Train Distribution')\n",
    "    plt.xlabel('HRD-sum')\n",
    "    plt.ylabel('Frequency')\n",
    "    plt.show()\n",
    "\n",
    "def runDESeq2(counts, metadata, design_factors):\n",
    "    \"\"\"Run differential expression analysis using DESeq2 (via pydeseq2).\"\"\"\n",
    "    counts = counts.copy()\n",
    "    # Make gene names unique\n",
    "    counts.columns = pd.Index(counts.columns).str.split('_').str[0] + '_' + pd.Series(range(len(counts.columns))).astype(str)\n",
    "    dds = DeseqDataSet(\n",
    "        counts=counts,\n",
    "        metadata=metadata,\n",
    "        design_factors=design_factors,\n",
    "        # n_jobs=-1\n",
    "    )\n",
    "    dds.deseq2()\n",
    "    stats = DeseqStats(dds)\n",
    "    stats.summary()\n",
    "    results = stats.results_df\n",
    "    return results\n",
    "\n",
    "def check_deseq2_data(counts_df, metadata_df, design_factor):\n",
    "    common_indices = counts_df.index.intersection(metadata_df.index)    \n",
    "    return common_indices\n",
    "\n",
    "def prepare_deseq2_data(counts_df, metadata_df, common_indices):\n",
    "    counts_aligned = counts_df.loc[common_indices]\n",
    "    metadata_aligned = metadata_df.loc[common_indices]\n",
    "    assert counts_aligned.index.equals(metadata_aligned.index), \"Indices not aligned\"\n",
    "    assert counts_aligned.index.is_unique, \"Duplicate indices present\"\n",
    "    return counts_aligned, metadata_aligned\n",
    "\n",
    "# -------------------- Prepare Data for DESeq2 --------------------\n",
    "\n",
    "# Use tpm as your gene expression data\n",
    "features_df = fpkm\n",
    "metadata_truncated = metadata.loc[metadata.index.intersection(features_df.index)]\n",
    "# Add a base HRD status (not used in the final regression but for DESeq2 design)\n",
    "metadata_truncated['HRD_status_base'] = metadata_truncated['HRD-sum'].apply(lambda x: 'HRD' if x >= 42 else 'HR')\n",
    "softLabel_metadata = metadata_truncated.sort_index()\n",
    "\n",
    "features_df = features_df.fillna(0).astype(int)\n",
    "features_df = features_df[sorted(features_df.columns)]\n",
    "gene_expression_int = features_df.sort_index()\n",
    "common_idx = check_deseq2_data(gene_expression_int, softLabel_metadata, 'HRD_status_base')\n",
    "gene_expression_aligned, softLabel_metadata_aligned = prepare_deseq2_data(\n",
    "    gene_expression_int, \n",
    "    softLabel_metadata,\n",
    "    common_idx\n",
    ")\n",
    "basic = runDESeq2(gene_expression_aligned, softLabel_metadata_aligned, 'HRD_status_base')\n",
    "\n",
    "# -------------------- Model Training Function --------------------\n",
    "common_de_genes = []\n",
    "def train_model(params, metadata):\n",
    "    global common_de_genes\n",
    "    # Filter differential expression results based on the provided p-value and fold-change thresholds\n",
    "    basic_filt = basic[(basic[\"padj\"] <= params['pvals'])]\n",
    "    # Extract gene names (removing the added unique suffix)\n",
    "    de_genes = [gene.split('_')[0] for gene in basic_filt.index]\n",
    "\n",
    "    # Subset the expression data to only include DE genes\n",
    "    features_df = gene_expression_int.loc[:, gene_expression_int.columns.isin(de_genes)]\n",
    "    labels_df = metadata_truncated['HRD-sum'].sort_index()\n",
    "    features_df = features_df.sort_index()\n",
    "    \n",
    "    # Normalize features if requested\n",
    "    if params['normalization'] == 'StandardScaler':\n",
    "        scaler = StandardScaler()\n",
    "        features_df = pd.DataFrame(scaler.fit_transform(features_df), index=features_df.index, columns=features_df.columns)\n",
    "    elif params['normalization'] == 'log2':\n",
    "        features_df = np.log2(features_df + 1)\n",
    "    \n",
    "    # Apply soft labeling\n",
    "    if params['softlabels'] == \"Sigmoid\":\n",
    "        labels_df = sigmoid_transform(labels_df, params['softlabel_thresholds'], params['softlabel_gradients'])\n",
    "    elif params['softlabels'] == \"Binary\":\n",
    "        labels_df = binary_hrd(labels_df, params['softlabel_thresholds'])\n",
    "    \n",
    "    # Optionally downsample LumA samples (here, we are not downsampling because fixed params indicate False)\n",
    "    removed_samples = None\n",
    "    if params['downsample'][0]:\n",
    "        df_downsampled, removed_samples = downsampling_lumA(metadata_truncated, params['downsample_thresholds'])\n",
    "        features_df = features_df.loc[features_df.index.intersection(df_downsampled.index)]\n",
    "        labels_df = df_downsampled.loc[df_downsampled.index.intersection(features_df.index), 'HRD-sum']\n",
    "    \n",
    "    labels = labels_df.squeeze()\n",
    "    # Split the data into training and test sets\n",
    "    X_train, X_test, y_train, y_test = train_test_split(features_df, labels, test_size=0.2, random_state=42)\n",
    "    \n",
    "    # Optionally add back removed samples to test set if required\n",
    "    if params['downsample'][1] and removed_samples is not None:\n",
    "        X_test, y_test = add_back_test(features_df, removed_samples, X_test, y_test)\n",
    "    \n",
    "    # Train the ElasticNet model\n",
    "    warnings.filterwarnings(\"ignore\")\n",
    "    model = ElasticNet(alpha=params['alpha'], l1_ratio=params['l1_ratio'], max_iter=1000, random_state=42)\n",
    "    model.fit(X_train, y_train)\n",
    "    \n",
    "    # Predict and evaluate on the test set\n",
    "    y_pred = model.predict(X_test)\n",
    "    mse = mean_squared_error(y_test, y_pred)\n",
    "    r2 = r2_score(y_test, y_pred)\n",
    "    \n",
    "    common_de_genes = features_df.columns\n",
    "    \n",
    "    return mse, r2, model, X_train, X_test, y_test, y_pred\n",
    "\n",
    "# -------------------- Run with Fixed Parameters --------------------\n",
    "\n",
    "# Use the fixed parameters as specified\n",
    "fixed_params = {\n",
    "    'softlabels': 'Sigmoid', \n",
    "    'softlabel_thresholds': 30, \n",
    "    'softlabel_gradients': 0.1, \n",
    "    'pvals': 0.01, \n",
    "    'normalization': 'log2', \n",
    "    'l1_ratio': 0.5, \n",
    "    'downsample_thresholds': 35, \n",
    "    'downsample': (False, False), \n",
    "    'alpha': 0.01\n",
    "}\n",
    "\n",
    "# Train the model with the fixed parameters\n",
    "mse, r2, model, X_train, X_test, y_test, y_pred = train_model(fixed_params, metadata)\n",
    "\n",
    "print(f\"Mean Squared Error: {mse:.3f}\")\n",
    "print(f\"R^2 Score: {r2:.3f}\")\n",
    "\n",
    "# Save the trained model if desired\n",
    "joblib.dump(model, 'best_model.joblib')\n",
    "\n",
    "# -------------------- Plotting --------------------\n",
    "\n",
    "# Plot Predicted vs. Actual values\n",
    "plt.figure(figsize=(8, 6))\n",
    "plt.scatter(y_test, y_pred, alpha=0.6, label='Predicted vs Actual')\n",
    "plt.plot([min(y_test), max(y_test)], [min(y_test), max(y_test)], 'k--', label='Ideal Prediction')\n",
    "plt.xlabel('Actual Values')\n",
    "plt.ylabel('Predicted Values')\n",
    "plt.title('Elastic Net Regression: Predicted vs Actual')\n",
    "plt.legend(loc=\"upper left\")\n",
    "plt.show()\n",
    "\n",
    "# Optionally, plot the training and test distribution of HRD-sum (colored by PAM50 subtype)\n",
    "plot_test_train_pam50_dist(metadata_truncated, X_train, X_test)\n"
   ]
  },
  {
   "cell_type": "code",
   "execution_count": 86,
   "metadata": {},
   "outputs": [],
   "source": [
    "#len(common_de_genes)"
   ]
  },
  {
   "cell_type": "code",
   "execution_count": 87,
   "metadata": {},
   "outputs": [],
   "source": [
    "#[print(n) for n in common_de_genes if n[0]=='R']"
   ]
  },
  {
   "cell_type": "code",
   "execution_count": 88,
   "metadata": {},
   "outputs": [
    {
     "name": "stdout",
     "output_type": "stream",
     "text": [
      "BRCA2\n",
      "RAD51\n",
      "PARP1\n",
      "PARP2\n",
      "PARP3\n"
     ]
    },
    {
     "data": {
      "text/plain": [
       "[None, None, None, None, None]"
      ]
     },
     "execution_count": 88,
     "metadata": {},
     "output_type": "execute_result"
    }
   ],
   "source": [
    "[print(n) for i in ['brca1', 'brca2', 'palb2', 'rad51', 'parp1', 'parp2', 'parp3'] for n in common_de_genes if n == i.upper()]\n"
   ]
  },
  {
   "cell_type": "code",
   "execution_count": 89,
   "metadata": {},
   "outputs": [],
   "source": [
    "import pandas as pd\n",
    "import numpy as np\n",
    "import plotly.express as px\n",
    "from scipy.stats import ttest_ind, mannwhitneyu, pearsonr\n",
    "from sklearn.preprocessing import StandardScaler\n",
    "\n",
    "# -------------------------\n",
    "# 1. Load and Preprocess Expression Data\n",
    "# -------------------------\n",
    "ispy2_expr = pd.read_csv(\n",
    "    '../data/validation/GSE173839_ISPY2_AgilentGeneExp_durvaPlusCtr_FFPE_meanCol_geneLevel_n105.txt',\n",
    "    sep='\\t'\n",
    ")\n",
    "ispy2_expr.set_index('GeneName', inplace=True)\n",
    "ispy2_expr_transposed = ispy2_expr.T\n",
    "ispy2_expr_transposed.sort_index(inplace=True)\n",
    "\n",
    "\n"
   ]
  },
  {
   "cell_type": "code",
   "execution_count": 90,
   "metadata": {},
   "outputs": [
    {
     "data": {
      "text/html": [
       "<div>\n",
       "<style scoped>\n",
       "    .dataframe tbody tr th:only-of-type {\n",
       "        vertical-align: middle;\n",
       "    }\n",
       "\n",
       "    .dataframe tbody tr th {\n",
       "        vertical-align: top;\n",
       "    }\n",
       "\n",
       "    .dataframe thead th {\n",
       "        text-align: right;\n",
       "    }\n",
       "</style>\n",
       "<table border=\"1\" class=\"dataframe\">\n",
       "  <thead>\n",
       "    <tr style=\"text-align: right;\">\n",
       "      <th></th>\n",
       "      <th>A2M</th>\n",
       "      <th>A2ML1</th>\n",
       "      <th>AAAS</th>\n",
       "      <th>AADAT</th>\n",
       "      <th>AAGAB</th>\n",
       "      <th>AAMDC</th>\n",
       "      <th>AARD</th>\n",
       "      <th>AARS1</th>\n",
       "      <th>AARS2</th>\n",
       "      <th>AASS</th>\n",
       "      <th>...</th>\n",
       "      <th>ZSWIM6</th>\n",
       "      <th>ZSWIM7</th>\n",
       "      <th>ZSWIM8</th>\n",
       "      <th>ZUP1</th>\n",
       "      <th>ZW10</th>\n",
       "      <th>ZWILCH</th>\n",
       "      <th>ZWINT</th>\n",
       "      <th>ZXDB</th>\n",
       "      <th>ZYG11A</th>\n",
       "      <th>ZZEF1</th>\n",
       "    </tr>\n",
       "  </thead>\n",
       "  <tbody>\n",
       "    <tr>\n",
       "      <th>102596</th>\n",
       "      <td>8.231</td>\n",
       "      <td>5.691</td>\n",
       "      <td>9.096</td>\n",
       "      <td>6.071</td>\n",
       "      <td>8.448</td>\n",
       "      <td>8.926</td>\n",
       "      <td>6.171</td>\n",
       "      <td>0</td>\n",
       "      <td>7.988</td>\n",
       "      <td>6.231</td>\n",
       "      <td>...</td>\n",
       "      <td>9.856</td>\n",
       "      <td>7.258</td>\n",
       "      <td>8.148</td>\n",
       "      <td>0</td>\n",
       "      <td>7.068</td>\n",
       "      <td>6.504</td>\n",
       "      <td>8.790</td>\n",
       "      <td>9.193</td>\n",
       "      <td>6.736</td>\n",
       "      <td>6.729</td>\n",
       "    </tr>\n",
       "    <tr>\n",
       "      <th>111922</th>\n",
       "      <td>9.978</td>\n",
       "      <td>6.501</td>\n",
       "      <td>8.877</td>\n",
       "      <td>7.883</td>\n",
       "      <td>9.173</td>\n",
       "      <td>8.692</td>\n",
       "      <td>6.329</td>\n",
       "      <td>0</td>\n",
       "      <td>8.315</td>\n",
       "      <td>7.014</td>\n",
       "      <td>...</td>\n",
       "      <td>9.657</td>\n",
       "      <td>7.744</td>\n",
       "      <td>9.097</td>\n",
       "      <td>0</td>\n",
       "      <td>6.992</td>\n",
       "      <td>6.825</td>\n",
       "      <td>7.839</td>\n",
       "      <td>9.536</td>\n",
       "      <td>5.600</td>\n",
       "      <td>5.960</td>\n",
       "    </tr>\n",
       "    <tr>\n",
       "      <th>115724</th>\n",
       "      <td>10.390</td>\n",
       "      <td>5.542</td>\n",
       "      <td>8.672</td>\n",
       "      <td>5.637</td>\n",
       "      <td>8.880</td>\n",
       "      <td>9.297</td>\n",
       "      <td>7.419</td>\n",
       "      <td>0</td>\n",
       "      <td>8.323</td>\n",
       "      <td>8.169</td>\n",
       "      <td>...</td>\n",
       "      <td>10.030</td>\n",
       "      <td>6.964</td>\n",
       "      <td>8.764</td>\n",
       "      <td>0</td>\n",
       "      <td>5.182</td>\n",
       "      <td>6.414</td>\n",
       "      <td>9.675</td>\n",
       "      <td>8.745</td>\n",
       "      <td>5.028</td>\n",
       "      <td>6.755</td>\n",
       "    </tr>\n",
       "    <tr>\n",
       "      <th>123591</th>\n",
       "      <td>8.214</td>\n",
       "      <td>7.183</td>\n",
       "      <td>8.750</td>\n",
       "      <td>5.550</td>\n",
       "      <td>8.967</td>\n",
       "      <td>8.027</td>\n",
       "      <td>8.955</td>\n",
       "      <td>0</td>\n",
       "      <td>8.163</td>\n",
       "      <td>5.863</td>\n",
       "      <td>...</td>\n",
       "      <td>9.503</td>\n",
       "      <td>7.563</td>\n",
       "      <td>7.858</td>\n",
       "      <td>0</td>\n",
       "      <td>6.702</td>\n",
       "      <td>6.451</td>\n",
       "      <td>8.668</td>\n",
       "      <td>9.371</td>\n",
       "      <td>6.971</td>\n",
       "      <td>6.993</td>\n",
       "    </tr>\n",
       "    <tr>\n",
       "      <th>134956</th>\n",
       "      <td>9.422</td>\n",
       "      <td>5.233</td>\n",
       "      <td>9.951</td>\n",
       "      <td>4.866</td>\n",
       "      <td>9.820</td>\n",
       "      <td>8.964</td>\n",
       "      <td>6.489</td>\n",
       "      <td>0</td>\n",
       "      <td>8.059</td>\n",
       "      <td>8.284</td>\n",
       "      <td>...</td>\n",
       "      <td>10.110</td>\n",
       "      <td>7.344</td>\n",
       "      <td>8.386</td>\n",
       "      <td>0</td>\n",
       "      <td>6.594</td>\n",
       "      <td>6.926</td>\n",
       "      <td>8.845</td>\n",
       "      <td>8.784</td>\n",
       "      <td>6.153</td>\n",
       "      <td>7.423</td>\n",
       "    </tr>\n",
       "    <tr>\n",
       "      <th>...</th>\n",
       "      <td>...</td>\n",
       "      <td>...</td>\n",
       "      <td>...</td>\n",
       "      <td>...</td>\n",
       "      <td>...</td>\n",
       "      <td>...</td>\n",
       "      <td>...</td>\n",
       "      <td>...</td>\n",
       "      <td>...</td>\n",
       "      <td>...</td>\n",
       "      <td>...</td>\n",
       "      <td>...</td>\n",
       "      <td>...</td>\n",
       "      <td>...</td>\n",
       "      <td>...</td>\n",
       "      <td>...</td>\n",
       "      <td>...</td>\n",
       "      <td>...</td>\n",
       "      <td>...</td>\n",
       "      <td>...</td>\n",
       "      <td>...</td>\n",
       "    </tr>\n",
       "    <tr>\n",
       "      <th>944184</th>\n",
       "      <td>9.795</td>\n",
       "      <td>5.490</td>\n",
       "      <td>9.553</td>\n",
       "      <td>5.715</td>\n",
       "      <td>9.984</td>\n",
       "      <td>10.150</td>\n",
       "      <td>7.379</td>\n",
       "      <td>0</td>\n",
       "      <td>8.342</td>\n",
       "      <td>7.154</td>\n",
       "      <td>...</td>\n",
       "      <td>9.336</td>\n",
       "      <td>7.395</td>\n",
       "      <td>7.996</td>\n",
       "      <td>0</td>\n",
       "      <td>5.947</td>\n",
       "      <td>6.610</td>\n",
       "      <td>9.070</td>\n",
       "      <td>9.461</td>\n",
       "      <td>5.320</td>\n",
       "      <td>7.225</td>\n",
       "    </tr>\n",
       "    <tr>\n",
       "      <th>965961</th>\n",
       "      <td>9.082</td>\n",
       "      <td>6.861</td>\n",
       "      <td>8.908</td>\n",
       "      <td>5.993</td>\n",
       "      <td>9.535</td>\n",
       "      <td>9.316</td>\n",
       "      <td>9.434</td>\n",
       "      <td>0</td>\n",
       "      <td>7.781</td>\n",
       "      <td>6.939</td>\n",
       "      <td>...</td>\n",
       "      <td>9.441</td>\n",
       "      <td>7.787</td>\n",
       "      <td>8.580</td>\n",
       "      <td>0</td>\n",
       "      <td>6.190</td>\n",
       "      <td>6.837</td>\n",
       "      <td>8.579</td>\n",
       "      <td>8.710</td>\n",
       "      <td>5.536</td>\n",
       "      <td>6.860</td>\n",
       "    </tr>\n",
       "    <tr>\n",
       "      <th>979809</th>\n",
       "      <td>10.630</td>\n",
       "      <td>7.202</td>\n",
       "      <td>9.145</td>\n",
       "      <td>5.997</td>\n",
       "      <td>9.084</td>\n",
       "      <td>9.673</td>\n",
       "      <td>7.870</td>\n",
       "      <td>0</td>\n",
       "      <td>8.191</td>\n",
       "      <td>7.331</td>\n",
       "      <td>...</td>\n",
       "      <td>9.584</td>\n",
       "      <td>7.304</td>\n",
       "      <td>8.539</td>\n",
       "      <td>0</td>\n",
       "      <td>6.703</td>\n",
       "      <td>6.499</td>\n",
       "      <td>8.989</td>\n",
       "      <td>8.701</td>\n",
       "      <td>6.987</td>\n",
       "      <td>6.964</td>\n",
       "    </tr>\n",
       "    <tr>\n",
       "      <th>989123</th>\n",
       "      <td>11.230</td>\n",
       "      <td>6.418</td>\n",
       "      <td>9.251</td>\n",
       "      <td>6.445</td>\n",
       "      <td>8.687</td>\n",
       "      <td>8.880</td>\n",
       "      <td>10.860</td>\n",
       "      <td>0</td>\n",
       "      <td>7.636</td>\n",
       "      <td>7.193</td>\n",
       "      <td>...</td>\n",
       "      <td>9.628</td>\n",
       "      <td>7.799</td>\n",
       "      <td>8.052</td>\n",
       "      <td>0</td>\n",
       "      <td>7.297</td>\n",
       "      <td>7.063</td>\n",
       "      <td>8.721</td>\n",
       "      <td>8.900</td>\n",
       "      <td>5.998</td>\n",
       "      <td>6.777</td>\n",
       "    </tr>\n",
       "    <tr>\n",
       "      <th>999675</th>\n",
       "      <td>9.645</td>\n",
       "      <td>6.168</td>\n",
       "      <td>9.553</td>\n",
       "      <td>8.346</td>\n",
       "      <td>8.910</td>\n",
       "      <td>9.140</td>\n",
       "      <td>7.020</td>\n",
       "      <td>0</td>\n",
       "      <td>7.125</td>\n",
       "      <td>7.071</td>\n",
       "      <td>...</td>\n",
       "      <td>9.716</td>\n",
       "      <td>7.417</td>\n",
       "      <td>8.947</td>\n",
       "      <td>0</td>\n",
       "      <td>6.661</td>\n",
       "      <td>6.862</td>\n",
       "      <td>8.227</td>\n",
       "      <td>7.873</td>\n",
       "      <td>6.110</td>\n",
       "      <td>7.117</td>\n",
       "    </tr>\n",
       "  </tbody>\n",
       "</table>\n",
       "<p>105 rows × 7604 columns</p>\n",
       "</div>"
      ],
      "text/plain": [
       "           A2M  A2ML1   AAAS  AADAT  AAGAB   AAMDC    AARD  AARS1  AARS2  \\\n",
       "102596   8.231  5.691  9.096  6.071  8.448   8.926   6.171      0  7.988   \n",
       "111922   9.978  6.501  8.877  7.883  9.173   8.692   6.329      0  8.315   \n",
       "115724  10.390  5.542  8.672  5.637  8.880   9.297   7.419      0  8.323   \n",
       "123591   8.214  7.183  8.750  5.550  8.967   8.027   8.955      0  8.163   \n",
       "134956   9.422  5.233  9.951  4.866  9.820   8.964   6.489      0  8.059   \n",
       "...        ...    ...    ...    ...    ...     ...     ...    ...    ...   \n",
       "944184   9.795  5.490  9.553  5.715  9.984  10.150   7.379      0  8.342   \n",
       "965961   9.082  6.861  8.908  5.993  9.535   9.316   9.434      0  7.781   \n",
       "979809  10.630  7.202  9.145  5.997  9.084   9.673   7.870      0  8.191   \n",
       "989123  11.230  6.418  9.251  6.445  8.687   8.880  10.860      0  7.636   \n",
       "999675   9.645  6.168  9.553  8.346  8.910   9.140   7.020      0  7.125   \n",
       "\n",
       "         AASS  ...  ZSWIM6  ZSWIM7  ZSWIM8  ZUP1   ZW10  ZWILCH  ZWINT   ZXDB  \\\n",
       "102596  6.231  ...   9.856   7.258   8.148     0  7.068   6.504  8.790  9.193   \n",
       "111922  7.014  ...   9.657   7.744   9.097     0  6.992   6.825  7.839  9.536   \n",
       "115724  8.169  ...  10.030   6.964   8.764     0  5.182   6.414  9.675  8.745   \n",
       "123591  5.863  ...   9.503   7.563   7.858     0  6.702   6.451  8.668  9.371   \n",
       "134956  8.284  ...  10.110   7.344   8.386     0  6.594   6.926  8.845  8.784   \n",
       "...       ...  ...     ...     ...     ...   ...    ...     ...    ...    ...   \n",
       "944184  7.154  ...   9.336   7.395   7.996     0  5.947   6.610  9.070  9.461   \n",
       "965961  6.939  ...   9.441   7.787   8.580     0  6.190   6.837  8.579  8.710   \n",
       "979809  7.331  ...   9.584   7.304   8.539     0  6.703   6.499  8.989  8.701   \n",
       "989123  7.193  ...   9.628   7.799   8.052     0  7.297   7.063  8.721  8.900   \n",
       "999675  7.071  ...   9.716   7.417   8.947     0  6.661   6.862  8.227  7.873   \n",
       "\n",
       "        ZYG11A  ZZEF1  \n",
       "102596   6.736  6.729  \n",
       "111922   5.600  5.960  \n",
       "115724   5.028  6.755  \n",
       "123591   6.971  6.993  \n",
       "134956   6.153  7.423  \n",
       "...        ...    ...  \n",
       "944184   5.320  7.225  \n",
       "965961   5.536  6.860  \n",
       "979809   6.987  6.964  \n",
       "989123   5.998  6.777  \n",
       "999675   6.110  7.117  \n",
       "\n",
       "[105 rows x 7604 columns]"
      ]
     },
     "execution_count": 90,
     "metadata": {},
     "output_type": "execute_result"
    }
   ],
   "source": [
    "df_filtered = ispy2_expr_transposed.loc[:, ispy2_expr_transposed.columns.intersection(common_de_genes)]\n",
    "\n",
    "# Identify missing genes that need to be added\n",
    "missing_genes = set(common_de_genes) - set(df_filtered.columns)\n",
    "\n",
    "# Add missing columns with 0s\n",
    "for gene in missing_genes:\n",
    "    df_filtered[gene] = 0\n",
    "\n",
    "# Reorder columns to match top_genes_de\n",
    "df_filtered = df_filtered[common_de_genes]\n",
    "validation_subset =df_filtered\n",
    "validation_subset.fillna(0, inplace=True)\n",
    "validation_subset"
   ]
  },
  {
   "cell_type": "code",
   "execution_count": 91,
   "metadata": {},
   "outputs": [
    {
     "name": "stdout",
     "output_type": "stream",
     "text": [
      "[-7.06563092e-02 -7.35399995e-02  1.91366652e-01  8.78968267e-02\n",
      "  1.84323011e-02 -9.05062110e-02 -2.36265323e-01 -8.73564680e-02\n",
      " -1.39507330e-01  4.38301810e-02 -2.17798669e-01 -9.30666712e-02\n",
      "  1.79252240e-01 -2.89525095e-01 -6.01593327e-02 -9.20930191e-03\n",
      "  2.54164278e-01 -1.61074728e-02 -1.91049782e-01 -1.70624733e-01\n",
      " -4.48662694e-02 -4.38348202e-03 -5.69689844e-02 -7.92460262e-02\n",
      " -1.75444404e-01 -1.45882694e-02 -1.29379562e-01  4.87825922e-02\n",
      "  1.43676019e-01  1.58161825e-02  2.53432409e-01  3.01130075e-02\n",
      "  7.08990796e-02  6.25704432e-02  2.01292931e-01  1.59037816e-01\n",
      " -1.84878251e-01  5.48727148e-02  8.73517660e-02  5.93861784e-03\n",
      " -2.08062130e-01  2.01299105e-01 -2.11119305e-02 -6.49254987e-02\n",
      " -3.74617799e-02 -2.57222191e-01 -1.52253974e-02 -3.23740674e-01\n",
      "  3.32164710e-01  3.24201105e-01  3.39412582e-02  8.47779800e-02\n",
      "  1.75049782e-01  1.48293017e-01  2.38415103e-01  7.95606331e-02\n",
      " -1.09265604e-01 -1.90108798e-02 -1.35815808e-01 -8.47276715e-02\n",
      " -5.59600772e-02  1.65639098e-01 -6.04544853e-02 -3.00031719e-01\n",
      "  4.93165897e-02  1.50197610e-04  7.23783112e-02 -4.51145815e-01\n",
      "  1.86806415e-01  6.90667046e-02 -2.95909421e-02  8.52356891e-04\n",
      " -6.89704965e-02  1.76671264e-01 -4.15341637e-01  2.35026778e-01\n",
      "  9.84225190e-02  9.63008875e-02  2.14402808e-01 -2.63864386e-01\n",
      " -3.00359219e-01  2.19521204e-01  8.55864403e-03  2.27832984e-01\n",
      " -1.10652460e-01  1.26688809e-01  3.98236310e-02 -1.11401778e-01\n",
      "  1.05158957e-01  1.31357064e-01  5.81899618e-02  1.34414827e-02\n",
      " -3.26289582e-01 -3.18493715e-01  5.53467973e-02 -1.42876912e-01\n",
      "  1.77380244e-01  3.41208198e-02 -1.66703821e-02 -3.49626281e-01\n",
      "  1.27201128e-01  1.86833575e-01  1.26262595e-01  3.37118608e-02\n",
      " -2.14431241e-02]\n",
      "Welch's t-test: t = -3.1187, p = 0.0024\n",
      "Mann-Whitney U test: U = 847.0000, p = 0.0077\n"
     ]
    },
    {
     "data": {
      "application/vnd.plotly.v1+json": {
       "config": {
        "plotlyServerURL": "https://plot.ly"
       },
       "data": [
        {
         "hovertemplate": "PARPi7 Signal=%{x}<br>Predictions=%{y}<br>pCR.status=%{marker.color}<extra></extra>",
         "legendgroup": "",
         "marker": {
          "color": {
           "bdata": "AQEBAQAAAAAAAAABAQABAAEAAAAAAQEAAAABAAAAAQEAAAABAAAAAAABAAEAAAAAAAAAAQEBAQAAAAABAAEBAAAAAAAAAAAAAQEAAAEBAAABAAEBAAEAAAEAAQAAAAAAAAEBAAAAAAEA",
           "dtype": "i1"
          },
          "coloraxis": "coloraxis",
          "symbol": "circle"
         },
         "mode": "markers",
         "name": "",
         "orientation": "v",
         "showlegend": false,
         "type": "scatter",
         "x": {
          "bdata": "gNQmTu53qL+70FynkZaqPz0K16NwPeQ/xY8xdy0h5T93vp8aL930P/kx5q4l5O+/ZmZmZmZm8r8GgZVDi2zzv8iYu5aQD+C/xm00gLdA2j9/+zpwzojqvzsBTYQNT8c/4BCq1OyBpr99PzVeukn8v28Sg8DKoeU/mN2Th4Va1z99PzVeukkAQNlfdk8eFuA/xm00gLdAwj8PnDOitDfIPyuHFtnO9/2/xY8xdy0h7T9rK/aX3ZPjv+XyH9JvX+u/bxKDwMqh479sCfmgZ7Pov0KygAncurO/rkfhehSu9T/eAgmKH2PWv6g1zTtO0dU/N4lBYOXQ9j9Ei2zn+6nRv+Olm8QgsPK/WDm0yHa+6b+TOgFNhA3lv7ByaJHtfPk/9P3UeOkm87+ze/KwUGvaP6JdhZSfVKs/V1uxv+yezL/P91PjpZvMv1WkwthCkKO/orQ3+MJk1r9KDAIrhxb3P5qZmZmZmfE/ZMxdS8gH47/WxW00gLfUP4EmwoanV+i/G55eKcsQ2z9XW7G/7J6svw3gLZCg+IE/ih9j7lpCvj+9VkJ3SZxVP6H4MeauJeg/HVpkO99P8z9Q/Bhz1xLkv6G5TiMtlbc/5ZttbkxPmL9miGNd3EbLv1rwoq8gzZi/48eYu5aQvz9fKcsQx7riP+gTeZJ0zbQ/YOXQItv5AcDufD81Xrrhv9xoAG+BBM0/RIts5/upsb/pJjEIrBz4vxKDwMqhRfo/kxgEVg4t9r+QMXctIR/QP3E9CtejcPE/WMoyxLEu4r/fT42XbhL7vxNhw9MrZeO/5/up8dJN8D8bnl4pyxDPPzMzMzMzM/8/BBxClZo9kL/A7J48LNTqv5huEoPAyvu/c2iR7Xw/8b8r9pfdk4fNP0a28/3UePs/WYY41sVt1L9j7lpCPujpP8/3U+Olm+Y/8fRKWYY40r+HFtnO91P5PwRWDi2ynfM/RPrt68A56z/l0CLb+X76P2Dl0CLb+fi/rthfdk8ezj9/arx0kxjwP8WPMXctIeu/x0s3iUFgBkCbVZ+rrdi/v4enV8oyxMG/ZmZmZmZm9L/IBz2bVZ/Tv0Jg5dAi2/M/f9k9eVioxT9HIF7XL9i1P2ZmZmZmZgjA",
          "dtype": "f8"
         },
         "xaxis": "x",
         "y": {
          "bdata": "C1NvKYgWsr8cUMh0hNOyv6qM5dOzfsg/otsSDGiAtj9InXfJ6t+SPygCUUBqK7e/nyArLfE9zr9a0i9V/ly2vxdcM05g28G/huCs0+hwpj9GBsKo0+DLv41tAKU307e/m5lCxbzxxj8WANBDlIfSv+h3qjw0za6/wdgYlFPcgr9yNf4+OkTQPymD6jN6fpC/ytoVulF0yL8u2+4ACNfFv3J9gi+2+Ka/zjp8/mn0cb9MxeXpCSutv6UQELN3SbS/wsUtVfZ0xr9W671gdOCNv1G+im2Cj8C/e2giLAj6qD/GrGnN+WPCPxfP7woeMpA/g+yhkTw40D+YXni58dWeP91tWCxxJrI/LmtZ150EsD+35NN+98PJP5zCBOVZW8Q/mRGCLBeqx7/1fCPHRhisP3KIanKvXLY/bKKzlhdTeD8YF5umx6HKv/NMJEgrxMk/wRozrF2elb9ahqcd9Z6wv+HdM78wLqO/Zvp+EFR20L9L6+hAfi6Pv6V0qM0quNS/oLgXxi9C1T9X9Y39tb/UPwZ0UaS/YKE/IdmdewK0tT+gNwkBCGjGP0RFTf1D+8I/C0iR12KEzj+BKGbtFV60P1+/dqTU+Lu/mnn0i5Z3k789nKeTaWLBvzdOC3K2sLW/DgkHm8ymrL/vuB12qTPFP23haOrj866/JbRRPbgz078YkAwoBkCpP0BPFqbLryM/RNt8j2KHsj9MKGyykt/cv6dNc8lF6cc/5GKsBVuusT/c3iqCFk2ev1COZHwW7ks/6JIF6wyosb/kB1v6KZ3GP5WlCxf1lNq/YjkIglsVzj/LyxjcNzK5P26xWcosp7g/oez7G41xyz9ZZs9yJ+PQvxodwt8VOdO/0rxgU0UZzD+ZfZPBMYeBP2MiU5ehKc0/5KAJOLhTvL8bnnfBVjfAP1JFs1HDY6Q/gxLfstOEvL/MRLmIsuu6P6bCPetO0MA/pgSbHRPLrT86JF5ENYeLPzKVwLLt4dS/I9hTdjNi1L+G4qlYalasP6qkHGnKScK/v5yuVGW0xj/gbW26SHihP/bVVWcKEpG/gpFy6EZg1r9BpPNmIEjAP4YbiJ4p6sc/QGspa18pwD+LzaVXrkKhP/+WRbMv9ZW/",
          "dtype": "f8"
         },
         "yaxis": "y"
        },
        {
         "hovertemplate": "<b>OLS trendline</b><br>predictions = 0.0862199 * PARPi7_sig. + -0.00558282<br>R<sup>2</sup>=0.270554<br><br>PARPi7 Signal=%{x}<br>Predictions=%{y} <b>(trend)</b><extra></extra>",
         "legendgroup": "",
         "marker": {
          "symbol": "circle"
         },
         "mode": "lines",
         "name": "",
         "showlegend": false,
         "type": "scatter",
         "x": {
          "bdata": "ZmZmZmZmCMBg5dAi2/kBwCuHFtnO9/2/fT81XrpJ/L+YbhKDwMr7v99PjZduEvu/YOXQItv5+L/pJjEIrBz4v5MYBFYOLfa/ZmZmZmZm9L8GgZVDi2zzv/T91HjpJvO/46WbxCCw8r9mZmZmZmbyv3Noke18P/G/+THmriXk77/l8h/Sb1/rv8WPMXctIeu/wOyePCzU6r9/+zpwzojqv1g5tMh2vum/bAn5oGez6L+BJsKGp1fov5M6AU2EDeW/UPwYc9cS5L9vEoPAyqHjv2sr9pfdk+O/E2HD0ytl479kzF1LyAfjv1jKMsSxLuK/7nw/NV664b/ImLuWkA/gv6K0N/jCZNa/3gIJih9j1r9ZhjjWxW3Uv8gHPZtVn9O/8fRKWYY40r9Ei2zn+6nRv1dbsb/snsy/z/dT46WbzL9miGNd3EbLv4enV8oyxMG/m1Wfq63Yv79CsoAJ3Lqzv0SLbOf7qbG/V1uxv+yerL+A1CZO7neov+AQqtTsgaa/VaTC2EKQo79a8KKvIM2Yv+WbbW5MT5i/BBxClZo9kL+9VkJ3SZxVPw3gLZCg+IE/u9Bcp5GWqj+iXYWUn1SrP+gTeZJ0zbQ/RyBe1y/YtT+huU4jLZW3P4ofY+5aQr4/48eYu5aQvz/GbTSAt0DCP3/ZPXlYqMU/OwFNhA1Pxz8PnDOitDfIP9xoAG+BBM0/K/aX3ZOHzT+u2F92Tx7OPxueXinLEM8/kDF3LSEf0D/WxW00gLfUP6g1zTtO0dU/mN2Th4Va1z/GbTSAt0DaP7N78rBQa9o/G55eKcsQ2z/ZX3ZPHhbgP18pyxDHuuI/PQrXo3A95D/FjzF3LSHlP28Sg8DKoeU/z/dT46Wb5j+h+DHmriXoP2PuWkI+6Ok/RPrt68A56z/FjzF3LSHtP39qvHSTGPA/5/up8dJN8D9xPQrXo3DxP5qZmZmZmfE/HVpkO99P8z8EVg4tsp3zP0Jg5dAi2/M/d76fGi/d9D+uR+F6FK71PzeJQWDl0PY/SgwCK4cW9z+HFtnO91P5P7ByaJHtfPk/EoPAyqFF+j/l0CLb+X76P0a28/3UePs/MzMzMzMz/z99PzVeukkAQMdLN4lBYAZA",
          "dtype": "f8"
         },
         "xaxis": "x",
         "y": {
          "bdata": "3mrFy/ov0b9S+Cb+R4PJv3wkV/miYsW/tQOyLPw5xL+MNJf3ZuLDvzaUmQ1EY8O/+e68Xijxwb8syL8SmFjBv1i4qQm9AsC/13u0TEWSvb8SXdf/ljm8vxdhZ/+H2bu/hv5NpKo1u7+o5E8c9c+6vzF9V/weObm/pMnAeyttt7/GtCqEUU+0v+AEWeRfJLS/yri6g0Lvs79HDGxxRruzv5uQAiq1L7O/q/VPTYB3sr9mDeUrNziyv1xODeCv5q+/A5DgROCMrr98ivQN7PCtv7Dxqtq13a2/1mnwakudrb8kWnuLdhytv2wqD3v88Ku/l6bkCoNQq79W49iqugOpv11nFbL5TaK/ysfFY9hMor9xCZnICPOgv9R+aD2kZKC/PfeVfkzanr/3gHdEqRWevwA9gq5QdZm/2v3iEQ5zmb/7VTFx/oeYv5oLAd+p+JG/oYVtxTGzkL83up2b4QqJvzC2nakVnoe/NBSjXulNhb9Bd/CITt+Dv/fE494sMoO/a2Zag0Augr/Y8zPcsWt/v7eddYNMQH+/a0KWEuJ3fL+aQ0svw2Z2v6f4AgCuxHO/LSSqNXkcUr/H6FhFGxBQv7jsuUQ0Ulc/SyucRgwSXT+6rwESxFRjP0HKu9454HI/Yh2irU6tdD8wj9z9Ln57P8WE3fmEcYI/JSpb0qa4hD/QMbCymfmFP0I2O43AmIw/dvL+fpFNjT+BpDnIgR2OPxYnSlQEbI8/lcVfc/KFkD8k5QK6xdyWP2NTAfWGYZg/A4hMyvl/mj8jSBfw2H+ePxuyQ9icup4/hJwXo+Senz8lPL9tRFWjPyseqBq7+qY/LVZ2fSMQqT9joO2HTkqqP959wo67+6o/o5yf22lUrD/WcDr//XOuP+ajJR/GcLA/ngw4I5NZsT+R/r+kx6myP9PDk4SIxrQ/SEjLZv0PtT/fkTX/LKG2P6+8wkqu2bY/ATop80g2uT/AcbUCpaG5P/kxCfRm9rk/gowCUGJauz92gFJRj3q8PwvKvOm+C74/CMYs6s1rvj+4jvIFcMHAPyAkuauw3cA/OQDTpCBowT9l0bVZro/BP8hgJIAFPMI/+flQME7OxD/g/i/1RsHFP8ho629LJ84/",
          "dtype": "f8"
         },
         "yaxis": "y"
        }
       ],
       "layout": {
        "annotations": [
         {
          "align": "center",
          "bgcolor": "white",
          "bordercolor": "black",
          "borderpad": 4,
          "borderwidth": 1,
          "font": {
           "color": "black",
           "size": 14
          },
          "opacity": 1,
          "showarrow": false,
          "text": "Pearson R: 0.52<br>p-value: 1.29e-08",
          "x": 0.010407276190476206,
          "y": 0.33216471047388474
         }
        ],
        "coloraxis": {
         "colorbar": {
          "title": {
           "text": "pCR.status"
          }
         },
         "colorscale": [
          [
           0,
           "rgb(243, 203, 211)"
          ],
          [
           0.16666666666666666,
           "rgb(234, 169, 189)"
          ],
          [
           0.3333333333333333,
           "rgb(221, 136, 172)"
          ],
          [
           0.5,
           "rgb(202, 105, 157)"
          ],
          [
           0.6666666666666666,
           "rgb(177, 77, 142)"
          ],
          [
           0.8333333333333334,
           "rgb(145, 53, 125)"
          ],
          [
           1,
           "rgb(108, 33, 103)"
          ]
         ]
        },
        "legend": {
         "tracegroupgap": 0
        },
        "template": {
         "data": {
          "bar": [
           {
            "error_x": {
             "color": "#2a3f5f"
            },
            "error_y": {
             "color": "#2a3f5f"
            },
            "marker": {
             "line": {
              "color": "#E5ECF6",
              "width": 0.5
             },
             "pattern": {
              "fillmode": "overlay",
              "size": 10,
              "solidity": 0.2
             }
            },
            "type": "bar"
           }
          ],
          "barpolar": [
           {
            "marker": {
             "line": {
              "color": "#E5ECF6",
              "width": 0.5
             },
             "pattern": {
              "fillmode": "overlay",
              "size": 10,
              "solidity": 0.2
             }
            },
            "type": "barpolar"
           }
          ],
          "carpet": [
           {
            "aaxis": {
             "endlinecolor": "#2a3f5f",
             "gridcolor": "white",
             "linecolor": "white",
             "minorgridcolor": "white",
             "startlinecolor": "#2a3f5f"
            },
            "baxis": {
             "endlinecolor": "#2a3f5f",
             "gridcolor": "white",
             "linecolor": "white",
             "minorgridcolor": "white",
             "startlinecolor": "#2a3f5f"
            },
            "type": "carpet"
           }
          ],
          "choropleth": [
           {
            "colorbar": {
             "outlinewidth": 0,
             "ticks": ""
            },
            "type": "choropleth"
           }
          ],
          "contour": [
           {
            "colorbar": {
             "outlinewidth": 0,
             "ticks": ""
            },
            "colorscale": [
             [
              0,
              "#0d0887"
             ],
             [
              0.1111111111111111,
              "#46039f"
             ],
             [
              0.2222222222222222,
              "#7201a8"
             ],
             [
              0.3333333333333333,
              "#9c179e"
             ],
             [
              0.4444444444444444,
              "#bd3786"
             ],
             [
              0.5555555555555556,
              "#d8576b"
             ],
             [
              0.6666666666666666,
              "#ed7953"
             ],
             [
              0.7777777777777778,
              "#fb9f3a"
             ],
             [
              0.8888888888888888,
              "#fdca26"
             ],
             [
              1,
              "#f0f921"
             ]
            ],
            "type": "contour"
           }
          ],
          "contourcarpet": [
           {
            "colorbar": {
             "outlinewidth": 0,
             "ticks": ""
            },
            "type": "contourcarpet"
           }
          ],
          "heatmap": [
           {
            "colorbar": {
             "outlinewidth": 0,
             "ticks": ""
            },
            "colorscale": [
             [
              0,
              "#0d0887"
             ],
             [
              0.1111111111111111,
              "#46039f"
             ],
             [
              0.2222222222222222,
              "#7201a8"
             ],
             [
              0.3333333333333333,
              "#9c179e"
             ],
             [
              0.4444444444444444,
              "#bd3786"
             ],
             [
              0.5555555555555556,
              "#d8576b"
             ],
             [
              0.6666666666666666,
              "#ed7953"
             ],
             [
              0.7777777777777778,
              "#fb9f3a"
             ],
             [
              0.8888888888888888,
              "#fdca26"
             ],
             [
              1,
              "#f0f921"
             ]
            ],
            "type": "heatmap"
           }
          ],
          "histogram": [
           {
            "marker": {
             "pattern": {
              "fillmode": "overlay",
              "size": 10,
              "solidity": 0.2
             }
            },
            "type": "histogram"
           }
          ],
          "histogram2d": [
           {
            "colorbar": {
             "outlinewidth": 0,
             "ticks": ""
            },
            "colorscale": [
             [
              0,
              "#0d0887"
             ],
             [
              0.1111111111111111,
              "#46039f"
             ],
             [
              0.2222222222222222,
              "#7201a8"
             ],
             [
              0.3333333333333333,
              "#9c179e"
             ],
             [
              0.4444444444444444,
              "#bd3786"
             ],
             [
              0.5555555555555556,
              "#d8576b"
             ],
             [
              0.6666666666666666,
              "#ed7953"
             ],
             [
              0.7777777777777778,
              "#fb9f3a"
             ],
             [
              0.8888888888888888,
              "#fdca26"
             ],
             [
              1,
              "#f0f921"
             ]
            ],
            "type": "histogram2d"
           }
          ],
          "histogram2dcontour": [
           {
            "colorbar": {
             "outlinewidth": 0,
             "ticks": ""
            },
            "colorscale": [
             [
              0,
              "#0d0887"
             ],
             [
              0.1111111111111111,
              "#46039f"
             ],
             [
              0.2222222222222222,
              "#7201a8"
             ],
             [
              0.3333333333333333,
              "#9c179e"
             ],
             [
              0.4444444444444444,
              "#bd3786"
             ],
             [
              0.5555555555555556,
              "#d8576b"
             ],
             [
              0.6666666666666666,
              "#ed7953"
             ],
             [
              0.7777777777777778,
              "#fb9f3a"
             ],
             [
              0.8888888888888888,
              "#fdca26"
             ],
             [
              1,
              "#f0f921"
             ]
            ],
            "type": "histogram2dcontour"
           }
          ],
          "mesh3d": [
           {
            "colorbar": {
             "outlinewidth": 0,
             "ticks": ""
            },
            "type": "mesh3d"
           }
          ],
          "parcoords": [
           {
            "line": {
             "colorbar": {
              "outlinewidth": 0,
              "ticks": ""
             }
            },
            "type": "parcoords"
           }
          ],
          "pie": [
           {
            "automargin": true,
            "type": "pie"
           }
          ],
          "scatter": [
           {
            "fillpattern": {
             "fillmode": "overlay",
             "size": 10,
             "solidity": 0.2
            },
            "type": "scatter"
           }
          ],
          "scatter3d": [
           {
            "line": {
             "colorbar": {
              "outlinewidth": 0,
              "ticks": ""
             }
            },
            "marker": {
             "colorbar": {
              "outlinewidth": 0,
              "ticks": ""
             }
            },
            "type": "scatter3d"
           }
          ],
          "scattercarpet": [
           {
            "marker": {
             "colorbar": {
              "outlinewidth": 0,
              "ticks": ""
             }
            },
            "type": "scattercarpet"
           }
          ],
          "scattergeo": [
           {
            "marker": {
             "colorbar": {
              "outlinewidth": 0,
              "ticks": ""
             }
            },
            "type": "scattergeo"
           }
          ],
          "scattergl": [
           {
            "marker": {
             "colorbar": {
              "outlinewidth": 0,
              "ticks": ""
             }
            },
            "type": "scattergl"
           }
          ],
          "scattermap": [
           {
            "marker": {
             "colorbar": {
              "outlinewidth": 0,
              "ticks": ""
             }
            },
            "type": "scattermap"
           }
          ],
          "scattermapbox": [
           {
            "marker": {
             "colorbar": {
              "outlinewidth": 0,
              "ticks": ""
             }
            },
            "type": "scattermapbox"
           }
          ],
          "scatterpolar": [
           {
            "marker": {
             "colorbar": {
              "outlinewidth": 0,
              "ticks": ""
             }
            },
            "type": "scatterpolar"
           }
          ],
          "scatterpolargl": [
           {
            "marker": {
             "colorbar": {
              "outlinewidth": 0,
              "ticks": ""
             }
            },
            "type": "scatterpolargl"
           }
          ],
          "scatterternary": [
           {
            "marker": {
             "colorbar": {
              "outlinewidth": 0,
              "ticks": ""
             }
            },
            "type": "scatterternary"
           }
          ],
          "surface": [
           {
            "colorbar": {
             "outlinewidth": 0,
             "ticks": ""
            },
            "colorscale": [
             [
              0,
              "#0d0887"
             ],
             [
              0.1111111111111111,
              "#46039f"
             ],
             [
              0.2222222222222222,
              "#7201a8"
             ],
             [
              0.3333333333333333,
              "#9c179e"
             ],
             [
              0.4444444444444444,
              "#bd3786"
             ],
             [
              0.5555555555555556,
              "#d8576b"
             ],
             [
              0.6666666666666666,
              "#ed7953"
             ],
             [
              0.7777777777777778,
              "#fb9f3a"
             ],
             [
              0.8888888888888888,
              "#fdca26"
             ],
             [
              1,
              "#f0f921"
             ]
            ],
            "type": "surface"
           }
          ],
          "table": [
           {
            "cells": {
             "fill": {
              "color": "#EBF0F8"
             },
             "line": {
              "color": "white"
             }
            },
            "header": {
             "fill": {
              "color": "#C8D4E3"
             },
             "line": {
              "color": "white"
             }
            },
            "type": "table"
           }
          ]
         },
         "layout": {
          "annotationdefaults": {
           "arrowcolor": "#2a3f5f",
           "arrowhead": 0,
           "arrowwidth": 1
          },
          "autotypenumbers": "strict",
          "coloraxis": {
           "colorbar": {
            "outlinewidth": 0,
            "ticks": ""
           }
          },
          "colorscale": {
           "diverging": [
            [
             0,
             "#8e0152"
            ],
            [
             0.1,
             "#c51b7d"
            ],
            [
             0.2,
             "#de77ae"
            ],
            [
             0.3,
             "#f1b6da"
            ],
            [
             0.4,
             "#fde0ef"
            ],
            [
             0.5,
             "#f7f7f7"
            ],
            [
             0.6,
             "#e6f5d0"
            ],
            [
             0.7,
             "#b8e186"
            ],
            [
             0.8,
             "#7fbc41"
            ],
            [
             0.9,
             "#4d9221"
            ],
            [
             1,
             "#276419"
            ]
           ],
           "sequential": [
            [
             0,
             "#0d0887"
            ],
            [
             0.1111111111111111,
             "#46039f"
            ],
            [
             0.2222222222222222,
             "#7201a8"
            ],
            [
             0.3333333333333333,
             "#9c179e"
            ],
            [
             0.4444444444444444,
             "#bd3786"
            ],
            [
             0.5555555555555556,
             "#d8576b"
            ],
            [
             0.6666666666666666,
             "#ed7953"
            ],
            [
             0.7777777777777778,
             "#fb9f3a"
            ],
            [
             0.8888888888888888,
             "#fdca26"
            ],
            [
             1,
             "#f0f921"
            ]
           ],
           "sequentialminus": [
            [
             0,
             "#0d0887"
            ],
            [
             0.1111111111111111,
             "#46039f"
            ],
            [
             0.2222222222222222,
             "#7201a8"
            ],
            [
             0.3333333333333333,
             "#9c179e"
            ],
            [
             0.4444444444444444,
             "#bd3786"
            ],
            [
             0.5555555555555556,
             "#d8576b"
            ],
            [
             0.6666666666666666,
             "#ed7953"
            ],
            [
             0.7777777777777778,
             "#fb9f3a"
            ],
            [
             0.8888888888888888,
             "#fdca26"
            ],
            [
             1,
             "#f0f921"
            ]
           ]
          },
          "colorway": [
           "#636efa",
           "#EF553B",
           "#00cc96",
           "#ab63fa",
           "#FFA15A",
           "#19d3f3",
           "#FF6692",
           "#B6E880",
           "#FF97FF",
           "#FECB52"
          ],
          "font": {
           "color": "#2a3f5f"
          },
          "geo": {
           "bgcolor": "white",
           "lakecolor": "white",
           "landcolor": "#E5ECF6",
           "showlakes": true,
           "showland": true,
           "subunitcolor": "white"
          },
          "hoverlabel": {
           "align": "left"
          },
          "hovermode": "closest",
          "mapbox": {
           "style": "light"
          },
          "paper_bgcolor": "white",
          "plot_bgcolor": "#E5ECF6",
          "polar": {
           "angularaxis": {
            "gridcolor": "white",
            "linecolor": "white",
            "ticks": ""
           },
           "bgcolor": "#E5ECF6",
           "radialaxis": {
            "gridcolor": "white",
            "linecolor": "white",
            "ticks": ""
           }
          },
          "scene": {
           "xaxis": {
            "backgroundcolor": "#E5ECF6",
            "gridcolor": "white",
            "gridwidth": 2,
            "linecolor": "white",
            "showbackground": true,
            "ticks": "",
            "zerolinecolor": "white"
           },
           "yaxis": {
            "backgroundcolor": "#E5ECF6",
            "gridcolor": "white",
            "gridwidth": 2,
            "linecolor": "white",
            "showbackground": true,
            "ticks": "",
            "zerolinecolor": "white"
           },
           "zaxis": {
            "backgroundcolor": "#E5ECF6",
            "gridcolor": "white",
            "gridwidth": 2,
            "linecolor": "white",
            "showbackground": true,
            "ticks": "",
            "zerolinecolor": "white"
           }
          },
          "shapedefaults": {
           "line": {
            "color": "#2a3f5f"
           }
          },
          "ternary": {
           "aaxis": {
            "gridcolor": "white",
            "linecolor": "white",
            "ticks": ""
           },
           "baxis": {
            "gridcolor": "white",
            "linecolor": "white",
            "ticks": ""
           },
           "bgcolor": "#E5ECF6",
           "caxis": {
            "gridcolor": "white",
            "linecolor": "white",
            "ticks": ""
           }
          },
          "title": {
           "x": 0.05
          },
          "xaxis": {
           "automargin": true,
           "gridcolor": "white",
           "linecolor": "white",
           "ticks": "",
           "title": {
            "standoff": 15
           },
           "zerolinecolor": "white",
           "zerolinewidth": 2
          },
          "yaxis": {
           "automargin": true,
           "gridcolor": "white",
           "linecolor": "white",
           "ticks": "",
           "title": {
            "standoff": 15
           },
           "zerolinecolor": "white",
           "zerolinewidth": 2
          }
         }
        },
        "title": {
         "text": "Regression scores between patients against PARPi7 sig scores"
        },
        "xaxis": {
         "anchor": "y",
         "domain": [
          0,
          1
         ],
         "title": {
          "text": "PARPi7 Signal"
         }
        },
        "yaxis": {
         "anchor": "x",
         "domain": [
          0,
          1
         ],
         "title": {
          "text": "Predictions"
         }
        }
       }
      }
     },
     "metadata": {},
     "output_type": "display_data"
    }
   ],
   "source": [
    "\n",
    "\n",
    "# Scale the data\n",
    "scaler = StandardScaler()\n",
    "scaled_data = scaler.fit_transform(validation_subset)\n",
    "\n",
    "# Step 5: Make predictions using the trained model\n",
    "predictions = model.predict(scaled_data)\n",
    "print(predictions)\n",
    "\n",
    "# -------------------------\n",
    "# 3. Load and Preprocess Response Data\n",
    "# -------------------------\n",
    "ispy2_response = pd.read_csv(\n",
    "    '../data/validation/GSE173839_ISPY2_DurvalumabOlaparibArm_biomarkers.csv'\n",
    ")\n",
    "# Adjust pCR.status (-1 indicates control arm)\n",
    "ispy2_response.loc[ispy2_response[\"pCR.status\"] == -1, \"pCR.status\"] = 0\n",
    "\n",
    "ispy2_response.sort_values(by='ResearchID', inplace=True)\n",
    "ispy2_response[\"ResearchID\"] = ispy2_response[\"ResearchID\"].astype(str).str.strip()\n",
    "\n",
    "# Subset expression data to match the ResearchID order in the response data\n",
    "ispy2_expr = ispy2_expr[ispy2_response[\"ResearchID\"]]\n",
    "ispy2_response.set_index('ResearchID', inplace=True)\n",
    "\n",
    "# -------------------------\n",
    "# 4. Merge Expression and Response Data\n",
    "# -------------------------\n",
    "# Find common indices between the expression and response datasets\n",
    "common_indices = ispy2_expr_transposed.index.intersection(ispy2_response.index)\n",
    "\n",
    "# Filter both DataFrames to include only the common indices (maintaining order)\n",
    "filtered_ispy_probe = ispy2_expr_transposed.loc[common_indices]\n",
    "filtered_ispy_response = ispy2_response.loc[common_indices]\n",
    "\n",
    "# Append model predictions to the response DataFrame\n",
    "filtered_ispy_response['predictions'] = predictions\n",
    "\n",
    "# -------------------------\n",
    "# 5. Visualization: Box Plot of Predictions by pCR.status\n",
    "# -------------------------\n",
    "px.box(\n",
    "    filtered_ispy_response,\n",
    "    y='predictions',\n",
    "    x='pCR.status',\n",
    "    points=\"all\",\n",
    "    title=\"Distribution of regression scores between patients' complete pathological response\"\n",
    ")\n",
    "\n",
    "# -------------------------\n",
    "# 6. Statistical Testing: Welch's t-test & Mann-Whitney U Test\n",
    "# -------------------------\n",
    "group_0 = filtered_ispy_response.loc[filtered_ispy_response['pCR.status'] == 0, 'predictions']\n",
    "group_1 = filtered_ispy_response.loc[filtered_ispy_response['pCR.status'] == 1, 'predictions']\n",
    "\n",
    "t_stat, p_value_t = ttest_ind(group_0, group_1, equal_var=False)\n",
    "print(f\"Welch's t-test: t = {t_stat:.4f}, p = {p_value_t:.4f}\")\n",
    "\n",
    "u_stat, p_value_u = mannwhitneyu(group_0, group_1, alternative='two-sided')\n",
    "print(f\"Mann-Whitney U test: U = {u_stat:.4f}, p = {p_value_u:.4f}\")\n",
    "\n",
    "# -------------------------\n",
    "# 7. Visualization: Scatter Plot with Pearson Correlation\n",
    "# -------------------------\n",
    "# Data for plotting\n",
    "x = filtered_ispy_response['PARPi7_sig.']\n",
    "y = filtered_ispy_response['predictions']\n",
    "\n",
    "# Calculate Pearson correlation coefficient and p-value\n",
    "r_value, p_value = pearsonr(x, y)\n",
    "\n",
    "# Create scatter plot with regression trendline\n",
    "fig = px.scatter(\n",
    "    filtered_ispy_response,\n",
    "    x='PARPi7_sig.',\n",
    "    y='predictions',\n",
    "    title=\"Regression scores between patients against PARPi7 sig scores\",\n",
    "    labels={'PARPi7_sig.': 'PARPi7 Signal', 'predictions': 'Predictions'},\n",
    "    color='pCR.status',\n",
    "    trendline=\"ols\",  # Add regression line\n",
    "    color_continuous_scale='magenta'  # Use a more subtle color palette\n",
    ")\n",
    "\n",
    "# Add annotation for Pearson R and p-value\n",
    "fig.add_annotation(\n",
    "    x=np.mean(x),\n",
    "    y=np.max(y),\n",
    "    text=f\"Pearson R: {r_value:.2f}<br>p-value: {p_value:.2e}\",\n",
    "    showarrow=False,\n",
    "    font=dict(size=14, color=\"black\"),\n",
    "    align=\"center\",\n",
    "    bordercolor=\"black\",\n",
    "    borderwidth=1,\n",
    "    borderpad=4,\n",
    "    bgcolor=\"white\",\n",
    "    opacity=1.0\n",
    ")\n",
    "\n",
    "# Display the scatter plot\n",
    "fig.show()\n"
   ]
  },
  {
   "cell_type": "code",
   "execution_count": null,
   "metadata": {},
   "outputs": [],
   "source": []
  }
 ],
 "metadata": {
  "kernelspec": {
   "display_name": "hrd",
   "language": "python",
   "name": "python3"
  },
  "language_info": {
   "codemirror_mode": {
    "name": "ipython",
    "version": 3
   },
   "file_extension": ".py",
   "mimetype": "text/x-python",
   "name": "python",
   "nbconvert_exporter": "python",
   "pygments_lexer": "ipython3",
   "version": "3.11.8"
  }
 },
 "nbformat": 4,
 "nbformat_minor": 2
}
