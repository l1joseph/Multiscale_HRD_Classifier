{
 "cells": [
  {
   "cell_type": "markdown",
   "metadata": {},
   "source": [
    "# Enet using deconvo genes from Bayes Prism (mirroring feature engineering as closely as possible to original paper)"
   ]
  },
  {
   "cell_type": "code",
   "execution_count": 1,
   "metadata": {},
   "outputs": [],
   "source": [
    "import pandas as pd\n",
    "import pandas as pd\n",
    "import numpy as np\n",
    "from sklearn.linear_model import LogisticRegressionCV\n",
    "from sklearn.model_selection import train_test_split\n",
    "import pickle"
   ]
  },
  {
   "cell_type": "markdown",
   "metadata": {},
   "source": [
    "## Data Filtering"
   ]
  },
  {
   "cell_type": "code",
   "execution_count": 2,
   "metadata": {},
   "outputs": [],
   "source": [
    "# import data\n",
    "ann_tcga = pd.read_csv('../data/toga.breast.brca.status.txt', sep='\\t', index_col=0)\n",
    "tcga_brca = pd.read_csv('../data/tcga.brca.rnaseq.unstranded.fpkm.counts.matrix.txt', sep='\\t', index_col=0)\n",
    "deconvo = pd.read_csv('../data/Deconvo2.csv',  index_col=0)\n",
    "hrd_scores = pd.read_excel('../data/tcga.hrdscore.xlsx')"
   ]
  },
  {
   "cell_type": "code",
   "execution_count": 3,
   "metadata": {},
   "outputs": [],
   "source": [
    "# ann_tcga[ann_tcga['event.PALB2'].ne('0')]\n",
    "# ann_tcga[ann_tcga['event.RAD51C'].ne('0')]\n",
    "ann_tcga = ann_tcga[~ann_tcga['event.RAD51C'].ne('0')]\n",
    "ann_tcga = ann_tcga[~ann_tcga['event.PALB2'].ne('0')]\n",
    "ann_tcga = ann_tcga[ann_tcga['event.BRCA1'] != '1']"
   ]
  },
  {
   "cell_type": "code",
   "execution_count": null,
   "metadata": {},
   "outputs": [
    {
     "name": "stdout",
     "output_type": "stream",
     "text": [
      "annotated shape(962, 33)\n",
      "rna-seq shape(1231, 60662)\n"
     ]
    }
   ],
   "source": [
    "ann_tcga.index = ann_tcga.index.str.replace('.', '-', regex=False)\n",
    "tcga_brca = tcga_brca.set_index('Case ID')\n",
    "tcga_brca = tcga_brca[tcga_brca['Sample Type'] == 'Primary Tumor']\n",
    "print(f\"annotated shape{ann_tcga.shape}\")\n",
    "print(f\"rna-seq shape{tcga_brca.shape}\")"
   ]
  },
  {
   "cell_type": "code",
   "execution_count": 5,
   "metadata": {},
   "outputs": [
    {
     "name": "stdout",
     "output_type": "stream",
     "text": [
      "rna-seq shape(1070, 60662)\n"
     ]
    }
   ],
   "source": [
    "common_indices = ann_tcga.index.intersection(tcga_brca.index)\n",
    "\n",
    "# Filter DataFrames to keep only rows with common indices\n",
    "ann_tcga = ann_tcga.loc[common_indices]\n",
    "tcga_brca = tcga_brca.loc[common_indices]\n",
    "print(f\"rna-seq shape{tcga_brca.shape}\")"
   ]
  },
  {
   "cell_type": "code",
   "execution_count": 7,
   "metadata": {},
   "outputs": [],
   "source": [
    "deconvo.index = deconvo.index.map(lambda x: x[:12])"
   ]
  },
  {
   "cell_type": "code",
   "execution_count": 8,
   "metadata": {},
   "outputs": [
    {
     "data": {
      "text/plain": [
       "(835, 60662)"
      ]
     },
     "execution_count": 8,
     "metadata": {},
     "output_type": "execute_result"
    }
   ],
   "source": [
    "common_indices1 = deconvo.index.intersection(tcga_brca.index)\n",
    "tcga_brca.loc[common_indices1].shape"
   ]
  },
  {
   "cell_type": "code",
   "execution_count": 9,
   "metadata": {},
   "outputs": [],
   "source": [
    "# tcga_brca.loc[tcga_brca.index.difference(deconvo.index)]\n",
    "# deconvo.loc[deconvo.index.difference(tcga_brca.index)]"
   ]
  },
  {
   "cell_type": "code",
   "execution_count": 10,
   "metadata": {},
   "outputs": [],
   "source": [
    "hrd_scores = hrd_scores.set_index('sample')\n",
    "\n",
    "hrd_scores = hrd_scores.loc[hrd_scores.index.intersection(deconvo.index)]\n",
    "labels_df = hrd_scores['HRD-sum'].apply(lambda x: 'HRD' if x >= 79 else 'HR-Proficient')\n",
    "labels_df = labels_df.sort_index()\n",
    "deconvo = deconvo.sort_index()\n",
    "deconvo = np.log2(deconvo + 1)"
   ]
  },
  {
   "cell_type": "code",
   "execution_count": 16,
   "metadata": {},
   "outputs": [],
   "source": [
    "labels = labels_df.squeeze()\n",
    "features_df = deconvo"
   ]
  },
  {
   "cell_type": "markdown",
   "metadata": {},
   "source": [
    "## Regression: Takes 250 hrs 6-cpu"
   ]
  },
  {
   "cell_type": "code",
   "execution_count": null,
   "metadata": {},
   "outputs": [
    {
     "name": "stdout",
     "output_type": "stream",
     "text": [
      "Iteration 1 of 1000\n"
     ]
    },
    {
     "name": "stderr",
     "output_type": "stream",
     "text": [
      "/Users/danirahman/miniforge3/envs/hrdclass/lib/python3.12/site-packages/sklearn/linear_model/_logistic.py:1905: FutureWarning: 'multi_class' was deprecated in version 1.5 and will be removed in 1.7. From then on, it will always use 'multinomial'. Leave it to its default value to avoid this warning.\n",
      "  warnings.warn(\n",
      "/Users/danirahman/miniforge3/envs/hrdclass/lib/python3.12/site-packages/sklearn/linear_model/_sag.py:349: ConvergenceWarning: The max_iter was reached which means the coef_ did not converge\n",
      "  warnings.warn(\n"
     ]
    }
   ],
   "source": [
    "# Initialize a list to store coefficients from each iteration\n",
    "coefficients_list = []\n",
    "\n",
    "# Split the data into training and test sets (1/3 test split)\n",
    "X_train, X_test, y_train, y_test = train_test_split(\n",
    "    features_df, labels, test_size=1/3, stratify=labels, random_state=123\n",
    ")\n",
    "\n",
    "# Run 1000 iterations\n",
    "for iteration in range(1000):\n",
    "    print(f\"Iteration {iteration + 1} of 1000\")\n",
    "    \n",
    "    # Define the LogisticRegressionCV model\n",
    "    logreg_cv = LogisticRegressionCV(\n",
    "        Cs=10,  # Number of Cs to try; you can specify an array of Cs if desired\n",
    "        cv=10,  # Tenfold cross-validation\n",
    "        penalty='elasticnet',\n",
    "        solver='saga',  # Solver that supports elastic net penalty\n",
    "        # multi_class='multinomial',\n",
    "        l1_ratios=[0.25],  # Alpha = 0.25\n",
    "        max_iter=1000,\n",
    "        n_jobs=-1,  # Utilize all processors\n",
    "        random_state=123*iteration\n",
    "    )\n",
    "    \n",
    "    # Fit the model\n",
    "    logreg_cv.fit(X_train, y_train)\n",
    "    \n",
    "    # Get coefficients at the best C (lambda.min)\n",
    "    coef = logreg_cv.coef_  # Shape: (n_classes, n_features)\n",
    "    \n",
    "    # Append the coefficients to the list\n",
    "    coefficients_list.append(coef)\n",
    "\n",
    "\n",
    "with open('../data/output/reg_coefs_list.pkl', 'wb') as f:\n",
    "    pickle.dump(coefficients_list, f)\n"
   ]
  },
  {
   "cell_type": "code",
   "execution_count": null,
   "metadata": {},
   "outputs": [],
   "source": [
    "# If not running reg:\n",
    "with open('../data/output/reg_coefs_list.pkl', 'rb') as f:\n",
    "    coefficients_list = pickle.load(f)\n",
    "coefficients_list"
   ]
  },
  {
   "cell_type": "code",
   "execution_count": null,
   "metadata": {},
   "outputs": [
    {
     "name": "stdout",
     "output_type": "stream",
     "text": [
      "Number of selected genes: 2376\n"
     ]
    }
   ],
   "source": [
    "# Step 1: Identify genes with non-zero coefficients across all iterations\n",
    "coefficients_array = np.array(coefficients_list)  # Shape: (1000, n_classes, n_features)\n",
    "non_zero_coefficients = np.any(coefficients_array != 0, axis=1)  # Shape: (1000, n_features)\n",
    "non_zero_counts = np.sum(non_zero_coefficients, axis=0)  # Shape: (n_features,)\n",
    "genes_selected_mask = non_zero_counts == len(coefficients_list)\n",
    "selected_gene_indices = np.where(genes_selected_mask)[0]\n",
    "feature_names = features_df.columns\n",
    "selected_genes = feature_names[selected_gene_indices]\n",
    "\n",
    "print(f\"Number of selected genes: {len(selected_genes)}\") \n"
   ]
  },
  {
   "cell_type": "code",
   "execution_count": 21,
   "metadata": {},
   "outputs": [
    {
     "data": {
      "text/plain": [
       "array([2, 0, 0, ..., 0, 2, 2])"
      ]
     },
     "execution_count": 21,
     "metadata": {},
     "output_type": "execute_result"
    }
   ],
   "source": [
    "non_zero_counts"
   ]
  },
  {
   "cell_type": "code",
   "execution_count": 24,
   "metadata": {},
   "outputs": [],
   "source": [
    "# Step 2: Compute centroids for each class\n",
    "features_selected = features_df[selected_genes]\n",
    "labels_aligned = labels.loc[features_selected.index]\n",
    "centroids = features_selected.groupby(labels_aligned).mean()"
   ]
  },
  {
   "cell_type": "code",
   "execution_count": 25,
   "metadata": {},
   "outputs": [],
   "source": [
    "# Step 3: Define function to calculate scores for new samples\n",
    "from scipy.stats import pearsonr\n",
    "\n",
    "def calculate_scores(new_sample):\n",
    "    new_sample_selected = new_sample[selected_genes]\n",
    "    scores = {}\n",
    "    for class_label in centroids.index:\n",
    "        centroid = centroids.loc[class_label]\n",
    "        corr_coef, _ = pearsonr(new_sample_selected, centroid)\n",
    "        scores[class_label] = corr_coef\n",
    "    return scores\n",
    "\n",
    "# Example usage with a new sample\n",
    "# new_sample = pd.Series(..., index=selected_genes)\n",
    "\n",
    "# Calculate scores\n",
    "# scores = calculate_scores(new_sample)\n",
    "# print(scores)\n"
   ]
  },
  {
   "cell_type": "code",
   "execution_count": 28,
   "metadata": {},
   "outputs": [
    {
     "name": "stdout",
     "output_type": "stream",
     "text": [
      "{'HR-Proficient': 0.7873614958645063, 'HRD': 0.5378528251342551}\n"
     ]
    }
   ],
   "source": [
    "first_sample = deconvo.iloc[0]\n",
    "new_sample = pd.Series(first_sample.values, index=deconvo.columns)\n",
    "scores = calculate_scores(new_sample)\n",
    "print(scores)"
   ]
  },
  {
   "cell_type": "code",
   "execution_count": null,
   "metadata": {},
   "outputs": [
    {
     "data": {
      "text/plain": [
       "HRD              4\n",
       "Telomeric AI     3\n",
       "LST              6\n",
       "HRD-sum         13\n",
       "Name: TCGA-3C-AAAU, dtype: int64"
      ]
     },
     "execution_count": 30,
     "metadata": {},
     "output_type": "execute_result"
    }
   ],
   "source": []
  },
  {
   "cell_type": "code",
   "execution_count": null,
   "metadata": {},
   "outputs": [],
   "source": []
  }
 ],
 "metadata": {
  "kernelspec": {
   "display_name": "hrdclass",
   "language": "python",
   "name": "python3"
  },
  "language_info": {
   "codemirror_mode": {
    "name": "ipython",
    "version": 3
   },
   "file_extension": ".py",
   "mimetype": "text/x-python",
   "name": "python",
   "nbconvert_exporter": "python",
   "pygments_lexer": "ipython3",
   "version": "3.12.7"
  }
 },
 "nbformat": 4,
 "nbformat_minor": 2
}
