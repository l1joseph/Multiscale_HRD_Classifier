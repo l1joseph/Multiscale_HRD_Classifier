{
 "cells": [
  {
   "cell_type": "code",
   "execution_count": 1,
   "metadata": {},
   "outputs": [
    {
     "ename": "FileNotFoundError",
     "evalue": "[Errno 2] No such file or directory: '../data/toga.breast.brca.status.txt'",
     "output_type": "error",
     "traceback": [
      "\u001b[0;31m---------------------------------------------------------------------------\u001b[0m",
      "\u001b[0;31mFileNotFoundError\u001b[0m                         Traceback (most recent call last)",
      "Cell \u001b[0;32mIn[1], line 19\u001b[0m\n\u001b[1;32m     14\u001b[0m warnings\u001b[38;5;241m.\u001b[39mfilterwarnings(\u001b[38;5;124m\"\u001b[39m\u001b[38;5;124mignore\u001b[39m\u001b[38;5;124m\"\u001b[39m)\n\u001b[1;32m     16\u001b[0m \u001b[38;5;66;03m# -------------------- Data Loading and Preprocessing --------------------\u001b[39;00m\n\u001b[1;32m     17\u001b[0m \n\u001b[1;32m     18\u001b[0m \u001b[38;5;66;03m# Load metadata and HRD scores\u001b[39;00m\n\u001b[0;32m---> 19\u001b[0m ann_tcga \u001b[38;5;241m=\u001b[39m \u001b[43mpd\u001b[49m\u001b[38;5;241;43m.\u001b[39;49m\u001b[43mread_csv\u001b[49m\u001b[43m(\u001b[49m\u001b[38;5;124;43m'\u001b[39;49m\u001b[38;5;124;43m../data/toga.breast.brca.status.txt\u001b[39;49m\u001b[38;5;124;43m'\u001b[39;49m\u001b[43m,\u001b[49m\u001b[43m \u001b[49m\u001b[43msep\u001b[49m\u001b[38;5;241;43m=\u001b[39;49m\u001b[38;5;124;43m'\u001b[39;49m\u001b[38;5;130;43;01m\\t\u001b[39;49;00m\u001b[38;5;124;43m'\u001b[39;49m\u001b[43m,\u001b[49m\u001b[43m \u001b[49m\u001b[43mindex_col\u001b[49m\u001b[38;5;241;43m=\u001b[39;49m\u001b[38;5;241;43m0\u001b[39;49m\u001b[43m)\u001b[49m\n\u001b[1;32m     20\u001b[0m hrd_scores \u001b[38;5;241m=\u001b[39m pd\u001b[38;5;241m.\u001b[39mread_excel(\u001b[38;5;124m'\u001b[39m\u001b[38;5;124m../data/tcga.hrdscore.xlsx\u001b[39m\u001b[38;5;124m'\u001b[39m, index_col\u001b[38;5;241m=\u001b[39m\u001b[38;5;241m0\u001b[39m)\n\u001b[1;32m     22\u001b[0m \u001b[38;5;66;03m# Load RNAseq data\u001b[39;00m\n",
      "File \u001b[0;32m/opt/homebrew/Caskroom/miniconda/base/envs/hrdclas/lib/python3.12/site-packages/pandas/io/parsers/readers.py:1026\u001b[0m, in \u001b[0;36mread_csv\u001b[0;34m(filepath_or_buffer, sep, delimiter, header, names, index_col, usecols, dtype, engine, converters, true_values, false_values, skipinitialspace, skiprows, skipfooter, nrows, na_values, keep_default_na, na_filter, verbose, skip_blank_lines, parse_dates, infer_datetime_format, keep_date_col, date_parser, date_format, dayfirst, cache_dates, iterator, chunksize, compression, thousands, decimal, lineterminator, quotechar, quoting, doublequote, escapechar, comment, encoding, encoding_errors, dialect, on_bad_lines, delim_whitespace, low_memory, memory_map, float_precision, storage_options, dtype_backend)\u001b[0m\n\u001b[1;32m   1013\u001b[0m kwds_defaults \u001b[38;5;241m=\u001b[39m _refine_defaults_read(\n\u001b[1;32m   1014\u001b[0m     dialect,\n\u001b[1;32m   1015\u001b[0m     delimiter,\n\u001b[0;32m   (...)\u001b[0m\n\u001b[1;32m   1022\u001b[0m     dtype_backend\u001b[38;5;241m=\u001b[39mdtype_backend,\n\u001b[1;32m   1023\u001b[0m )\n\u001b[1;32m   1024\u001b[0m kwds\u001b[38;5;241m.\u001b[39mupdate(kwds_defaults)\n\u001b[0;32m-> 1026\u001b[0m \u001b[38;5;28;01mreturn\u001b[39;00m \u001b[43m_read\u001b[49m\u001b[43m(\u001b[49m\u001b[43mfilepath_or_buffer\u001b[49m\u001b[43m,\u001b[49m\u001b[43m \u001b[49m\u001b[43mkwds\u001b[49m\u001b[43m)\u001b[49m\n",
      "File \u001b[0;32m/opt/homebrew/Caskroom/miniconda/base/envs/hrdclas/lib/python3.12/site-packages/pandas/io/parsers/readers.py:620\u001b[0m, in \u001b[0;36m_read\u001b[0;34m(filepath_or_buffer, kwds)\u001b[0m\n\u001b[1;32m    617\u001b[0m _validate_names(kwds\u001b[38;5;241m.\u001b[39mget(\u001b[38;5;124m\"\u001b[39m\u001b[38;5;124mnames\u001b[39m\u001b[38;5;124m\"\u001b[39m, \u001b[38;5;28;01mNone\u001b[39;00m))\n\u001b[1;32m    619\u001b[0m \u001b[38;5;66;03m# Create the parser.\u001b[39;00m\n\u001b[0;32m--> 620\u001b[0m parser \u001b[38;5;241m=\u001b[39m \u001b[43mTextFileReader\u001b[49m\u001b[43m(\u001b[49m\u001b[43mfilepath_or_buffer\u001b[49m\u001b[43m,\u001b[49m\u001b[43m \u001b[49m\u001b[38;5;241;43m*\u001b[39;49m\u001b[38;5;241;43m*\u001b[39;49m\u001b[43mkwds\u001b[49m\u001b[43m)\u001b[49m\n\u001b[1;32m    622\u001b[0m \u001b[38;5;28;01mif\u001b[39;00m chunksize \u001b[38;5;129;01mor\u001b[39;00m iterator:\n\u001b[1;32m    623\u001b[0m     \u001b[38;5;28;01mreturn\u001b[39;00m parser\n",
      "File \u001b[0;32m/opt/homebrew/Caskroom/miniconda/base/envs/hrdclas/lib/python3.12/site-packages/pandas/io/parsers/readers.py:1620\u001b[0m, in \u001b[0;36mTextFileReader.__init__\u001b[0;34m(self, f, engine, **kwds)\u001b[0m\n\u001b[1;32m   1617\u001b[0m     \u001b[38;5;28mself\u001b[39m\u001b[38;5;241m.\u001b[39moptions[\u001b[38;5;124m\"\u001b[39m\u001b[38;5;124mhas_index_names\u001b[39m\u001b[38;5;124m\"\u001b[39m] \u001b[38;5;241m=\u001b[39m kwds[\u001b[38;5;124m\"\u001b[39m\u001b[38;5;124mhas_index_names\u001b[39m\u001b[38;5;124m\"\u001b[39m]\n\u001b[1;32m   1619\u001b[0m \u001b[38;5;28mself\u001b[39m\u001b[38;5;241m.\u001b[39mhandles: IOHandles \u001b[38;5;241m|\u001b[39m \u001b[38;5;28;01mNone\u001b[39;00m \u001b[38;5;241m=\u001b[39m \u001b[38;5;28;01mNone\u001b[39;00m\n\u001b[0;32m-> 1620\u001b[0m \u001b[38;5;28mself\u001b[39m\u001b[38;5;241m.\u001b[39m_engine \u001b[38;5;241m=\u001b[39m \u001b[38;5;28;43mself\u001b[39;49m\u001b[38;5;241;43m.\u001b[39;49m\u001b[43m_make_engine\u001b[49m\u001b[43m(\u001b[49m\u001b[43mf\u001b[49m\u001b[43m,\u001b[49m\u001b[43m \u001b[49m\u001b[38;5;28;43mself\u001b[39;49m\u001b[38;5;241;43m.\u001b[39;49m\u001b[43mengine\u001b[49m\u001b[43m)\u001b[49m\n",
      "File \u001b[0;32m/opt/homebrew/Caskroom/miniconda/base/envs/hrdclas/lib/python3.12/site-packages/pandas/io/parsers/readers.py:1880\u001b[0m, in \u001b[0;36mTextFileReader._make_engine\u001b[0;34m(self, f, engine)\u001b[0m\n\u001b[1;32m   1878\u001b[0m     \u001b[38;5;28;01mif\u001b[39;00m \u001b[38;5;124m\"\u001b[39m\u001b[38;5;124mb\u001b[39m\u001b[38;5;124m\"\u001b[39m \u001b[38;5;129;01mnot\u001b[39;00m \u001b[38;5;129;01min\u001b[39;00m mode:\n\u001b[1;32m   1879\u001b[0m         mode \u001b[38;5;241m+\u001b[39m\u001b[38;5;241m=\u001b[39m \u001b[38;5;124m\"\u001b[39m\u001b[38;5;124mb\u001b[39m\u001b[38;5;124m\"\u001b[39m\n\u001b[0;32m-> 1880\u001b[0m \u001b[38;5;28mself\u001b[39m\u001b[38;5;241m.\u001b[39mhandles \u001b[38;5;241m=\u001b[39m \u001b[43mget_handle\u001b[49m\u001b[43m(\u001b[49m\n\u001b[1;32m   1881\u001b[0m \u001b[43m    \u001b[49m\u001b[43mf\u001b[49m\u001b[43m,\u001b[49m\n\u001b[1;32m   1882\u001b[0m \u001b[43m    \u001b[49m\u001b[43mmode\u001b[49m\u001b[43m,\u001b[49m\n\u001b[1;32m   1883\u001b[0m \u001b[43m    \u001b[49m\u001b[43mencoding\u001b[49m\u001b[38;5;241;43m=\u001b[39;49m\u001b[38;5;28;43mself\u001b[39;49m\u001b[38;5;241;43m.\u001b[39;49m\u001b[43moptions\u001b[49m\u001b[38;5;241;43m.\u001b[39;49m\u001b[43mget\u001b[49m\u001b[43m(\u001b[49m\u001b[38;5;124;43m\"\u001b[39;49m\u001b[38;5;124;43mencoding\u001b[39;49m\u001b[38;5;124;43m\"\u001b[39;49m\u001b[43m,\u001b[49m\u001b[43m \u001b[49m\u001b[38;5;28;43;01mNone\u001b[39;49;00m\u001b[43m)\u001b[49m\u001b[43m,\u001b[49m\n\u001b[1;32m   1884\u001b[0m \u001b[43m    \u001b[49m\u001b[43mcompression\u001b[49m\u001b[38;5;241;43m=\u001b[39;49m\u001b[38;5;28;43mself\u001b[39;49m\u001b[38;5;241;43m.\u001b[39;49m\u001b[43moptions\u001b[49m\u001b[38;5;241;43m.\u001b[39;49m\u001b[43mget\u001b[49m\u001b[43m(\u001b[49m\u001b[38;5;124;43m\"\u001b[39;49m\u001b[38;5;124;43mcompression\u001b[39;49m\u001b[38;5;124;43m\"\u001b[39;49m\u001b[43m,\u001b[49m\u001b[43m \u001b[49m\u001b[38;5;28;43;01mNone\u001b[39;49;00m\u001b[43m)\u001b[49m\u001b[43m,\u001b[49m\n\u001b[1;32m   1885\u001b[0m \u001b[43m    \u001b[49m\u001b[43mmemory_map\u001b[49m\u001b[38;5;241;43m=\u001b[39;49m\u001b[38;5;28;43mself\u001b[39;49m\u001b[38;5;241;43m.\u001b[39;49m\u001b[43moptions\u001b[49m\u001b[38;5;241;43m.\u001b[39;49m\u001b[43mget\u001b[49m\u001b[43m(\u001b[49m\u001b[38;5;124;43m\"\u001b[39;49m\u001b[38;5;124;43mmemory_map\u001b[39;49m\u001b[38;5;124;43m\"\u001b[39;49m\u001b[43m,\u001b[49m\u001b[43m \u001b[49m\u001b[38;5;28;43;01mFalse\u001b[39;49;00m\u001b[43m)\u001b[49m\u001b[43m,\u001b[49m\n\u001b[1;32m   1886\u001b[0m \u001b[43m    \u001b[49m\u001b[43mis_text\u001b[49m\u001b[38;5;241;43m=\u001b[39;49m\u001b[43mis_text\u001b[49m\u001b[43m,\u001b[49m\n\u001b[1;32m   1887\u001b[0m \u001b[43m    \u001b[49m\u001b[43merrors\u001b[49m\u001b[38;5;241;43m=\u001b[39;49m\u001b[38;5;28;43mself\u001b[39;49m\u001b[38;5;241;43m.\u001b[39;49m\u001b[43moptions\u001b[49m\u001b[38;5;241;43m.\u001b[39;49m\u001b[43mget\u001b[49m\u001b[43m(\u001b[49m\u001b[38;5;124;43m\"\u001b[39;49m\u001b[38;5;124;43mencoding_errors\u001b[39;49m\u001b[38;5;124;43m\"\u001b[39;49m\u001b[43m,\u001b[49m\u001b[43m \u001b[49m\u001b[38;5;124;43m\"\u001b[39;49m\u001b[38;5;124;43mstrict\u001b[39;49m\u001b[38;5;124;43m\"\u001b[39;49m\u001b[43m)\u001b[49m\u001b[43m,\u001b[49m\n\u001b[1;32m   1888\u001b[0m \u001b[43m    \u001b[49m\u001b[43mstorage_options\u001b[49m\u001b[38;5;241;43m=\u001b[39;49m\u001b[38;5;28;43mself\u001b[39;49m\u001b[38;5;241;43m.\u001b[39;49m\u001b[43moptions\u001b[49m\u001b[38;5;241;43m.\u001b[39;49m\u001b[43mget\u001b[49m\u001b[43m(\u001b[49m\u001b[38;5;124;43m\"\u001b[39;49m\u001b[38;5;124;43mstorage_options\u001b[39;49m\u001b[38;5;124;43m\"\u001b[39;49m\u001b[43m,\u001b[49m\u001b[43m \u001b[49m\u001b[38;5;28;43;01mNone\u001b[39;49;00m\u001b[43m)\u001b[49m\u001b[43m,\u001b[49m\n\u001b[1;32m   1889\u001b[0m \u001b[43m\u001b[49m\u001b[43m)\u001b[49m\n\u001b[1;32m   1890\u001b[0m \u001b[38;5;28;01massert\u001b[39;00m \u001b[38;5;28mself\u001b[39m\u001b[38;5;241m.\u001b[39mhandles \u001b[38;5;129;01mis\u001b[39;00m \u001b[38;5;129;01mnot\u001b[39;00m \u001b[38;5;28;01mNone\u001b[39;00m\n\u001b[1;32m   1891\u001b[0m f \u001b[38;5;241m=\u001b[39m \u001b[38;5;28mself\u001b[39m\u001b[38;5;241m.\u001b[39mhandles\u001b[38;5;241m.\u001b[39mhandle\n",
      "File \u001b[0;32m/opt/homebrew/Caskroom/miniconda/base/envs/hrdclas/lib/python3.12/site-packages/pandas/io/common.py:873\u001b[0m, in \u001b[0;36mget_handle\u001b[0;34m(path_or_buf, mode, encoding, compression, memory_map, is_text, errors, storage_options)\u001b[0m\n\u001b[1;32m    868\u001b[0m \u001b[38;5;28;01melif\u001b[39;00m \u001b[38;5;28misinstance\u001b[39m(handle, \u001b[38;5;28mstr\u001b[39m):\n\u001b[1;32m    869\u001b[0m     \u001b[38;5;66;03m# Check whether the filename is to be opened in binary mode.\u001b[39;00m\n\u001b[1;32m    870\u001b[0m     \u001b[38;5;66;03m# Binary mode does not support 'encoding' and 'newline'.\u001b[39;00m\n\u001b[1;32m    871\u001b[0m     \u001b[38;5;28;01mif\u001b[39;00m ioargs\u001b[38;5;241m.\u001b[39mencoding \u001b[38;5;129;01mand\u001b[39;00m \u001b[38;5;124m\"\u001b[39m\u001b[38;5;124mb\u001b[39m\u001b[38;5;124m\"\u001b[39m \u001b[38;5;129;01mnot\u001b[39;00m \u001b[38;5;129;01min\u001b[39;00m ioargs\u001b[38;5;241m.\u001b[39mmode:\n\u001b[1;32m    872\u001b[0m         \u001b[38;5;66;03m# Encoding\u001b[39;00m\n\u001b[0;32m--> 873\u001b[0m         handle \u001b[38;5;241m=\u001b[39m \u001b[38;5;28;43mopen\u001b[39;49m\u001b[43m(\u001b[49m\n\u001b[1;32m    874\u001b[0m \u001b[43m            \u001b[49m\u001b[43mhandle\u001b[49m\u001b[43m,\u001b[49m\n\u001b[1;32m    875\u001b[0m \u001b[43m            \u001b[49m\u001b[43mioargs\u001b[49m\u001b[38;5;241;43m.\u001b[39;49m\u001b[43mmode\u001b[49m\u001b[43m,\u001b[49m\n\u001b[1;32m    876\u001b[0m \u001b[43m            \u001b[49m\u001b[43mencoding\u001b[49m\u001b[38;5;241;43m=\u001b[39;49m\u001b[43mioargs\u001b[49m\u001b[38;5;241;43m.\u001b[39;49m\u001b[43mencoding\u001b[49m\u001b[43m,\u001b[49m\n\u001b[1;32m    877\u001b[0m \u001b[43m            \u001b[49m\u001b[43merrors\u001b[49m\u001b[38;5;241;43m=\u001b[39;49m\u001b[43merrors\u001b[49m\u001b[43m,\u001b[49m\n\u001b[1;32m    878\u001b[0m \u001b[43m            \u001b[49m\u001b[43mnewline\u001b[49m\u001b[38;5;241;43m=\u001b[39;49m\u001b[38;5;124;43m\"\u001b[39;49m\u001b[38;5;124;43m\"\u001b[39;49m\u001b[43m,\u001b[49m\n\u001b[1;32m    879\u001b[0m \u001b[43m        \u001b[49m\u001b[43m)\u001b[49m\n\u001b[1;32m    880\u001b[0m     \u001b[38;5;28;01melse\u001b[39;00m:\n\u001b[1;32m    881\u001b[0m         \u001b[38;5;66;03m# Binary mode\u001b[39;00m\n\u001b[1;32m    882\u001b[0m         handle \u001b[38;5;241m=\u001b[39m \u001b[38;5;28mopen\u001b[39m(handle, ioargs\u001b[38;5;241m.\u001b[39mmode)\n",
      "\u001b[0;31mFileNotFoundError\u001b[0m: [Errno 2] No such file or directory: '../data/toga.breast.brca.status.txt'"
     ]
    }
   ],
   "source": [
    "import pandas as pd\n",
    "from joblib import Parallel, delayed\n",
    "import numpy as np\n",
    "import joblib\n",
    "import matplotlib.pyplot as plt\n",
    "import seaborn as sns\n",
    "from pydeseq2.dds import DeseqDataSet\n",
    "from pydeseq2.ds import DeseqStats\n",
    "from sklearn.preprocessing import StandardScaler \n",
    "from sklearn.linear_model import ElasticNet\n",
    "from sklearn.metrics import mean_squared_error, r2_score\n",
    "from sklearn.model_selection import train_test_split\n",
    "import warnings\n",
    "warnings.filterwarnings(\"ignore\")\n",
    "\n",
    "# -------------------- Data Loading and Preprocessing --------------------\n",
    "\n",
    "# Load metadata and HRD scores\n",
    "ann_tcga = pd.read_csv('../data/toga.breast.brca.status.txt', sep='\\t', index_col=0)\n",
    "hrd_scores = pd.read_excel('../data/tcga.hrdscore.xlsx', index_col=0)\n",
    "\n",
    "# Load RNAseq data\n",
    "fpkm = pd.read_csv('../data/tcga.brca.rnaseq.unstranded.fpkm.counts.matrix.txt', sep='\\t', index_col=0)\n",
    "deconvo = pd.read_csv('../data/Deconvo2.csv',  index_col=0)\n",
    "tpm = pd.read_csv('../data/tpm.csv', index_col=0, low_memory=False)\n",
    "\n",
    "# Filter metadata\n",
    "metadata = ann_tcga[~ann_tcga['event.RAD51C'].ne('0')]\n",
    "metadata = metadata[~metadata['event.PALB2'].ne('0')]\n",
    "metadata = metadata[metadata['event.BRCA1'] != '1']\n",
    "metadata.index = metadata.index.str.replace('.', '-', regex=False)\n",
    "hrd_scores.index = hrd_scores.index.map(lambda x: x[:12])\n",
    "metadata = metadata.merge(hrd_scores[['HRD-sum']], left_index=True, right_index=True, how='inner')\n",
    "\n",
    "# Process fpkm data\n",
    "fpkm = fpkm.set_index('Case ID')\n",
    "fpkm = fpkm[fpkm['Sample Type'] == 'Primary Tumor']\n",
    "fpkm = fpkm.drop(columns=[\"Sample ID\",\"Sample Type\"])\n",
    "\n",
    "# Rename columns using a dictionary constructed from fpkm columns\n",
    "dick = {}\n",
    "for i, v in enumerate(fpkm.columns):\n",
    "    parts = v.split('|')\n",
    "    if len(parts) > 1:\n",
    "        dick[parts[0]] = parts[1]\n",
    "tpm = tpm.rename(columns=dick)\n",
    "tpm = tpm[~tpm.index.duplicated(keep='first')]\n",
    "\n",
    "# Keep only Primary Tumor samples in tpm\n",
    "tpm = tpm.loc[tpm.index.str[13:15] == \"01\"]\n",
    "\n",
    "filtered_columns = [col for col in fpkm.columns if '|' in col and 'protein_coding' in col.split('|')[2]]\n",
    "fpkm = fpkm[filtered_columns]\n",
    "\n",
    "# Further processing for fpkm\n",
    "fpkm.columns = [col.split('|')[1] if '|' in col else col for col in fpkm.columns]\n",
    "fpkm.index = fpkm.index.map(lambda x: x[:12])\n",
    "fpkm = fpkm.loc[fpkm.index.intersection(metadata.index)]\n",
    "fpkm.sort_index(inplace=True)\n",
    "fpkm = fpkm.rename_axis(\"fpkm\", axis=\"index\")\n",
    "fpkm = fpkm.apply(pd.to_numeric, errors='coerce')\n",
    "fpkm.fillna(0, inplace=True)\n",
    "\n",
    "# Process deconvo\n",
    "deconvo.index = deconvo.index.map(lambda x: x[:12])\n",
    "deconvo = deconvo.loc[deconvo.index.intersection(metadata.index)]\n",
    "deconvo.sort_index(inplace=True)\n",
    "deconvo = deconvo.rename_axis(\"deconvo\", axis=\"index\")\n",
    "deconvo.fillna(0, inplace=True)\n",
    "\n",
    "# Process tpm\n",
    "tpm.index = tpm.index.map(lambda x: x[:12])\n",
    "tpm = tpm.loc[tpm.index.intersection(metadata.index)]\n",
    "tpm.sort_index(inplace=True)\n",
    "tpm = tpm.rename_axis(\"tpm\", axis=\"index\")\n",
    "tpm = tpm.apply(pd.to_numeric, errors='coerce')\n",
    "tpm.fillna(0, inplace=True)\n",
    "tpm = tpm[tpm.columns.intersection(fpkm.columns)]\n",
    "\n",
    "\n",
    "print(f\"fpkm shape: {fpkm.shape}\")\n",
    "print(f\"deconvo shape: {deconvo.shape}\")\n",
    "print(f\"tpm shape: {tpm.shape}\")\n",
    "\n",
    "# Display counts for PAM50 subtypes\n",
    "pam50_counts = metadata['event.PAM50'].value_counts()\n",
    "print(pam50_counts)\n",
    "\n",
    "# -------------------- Helper Functions --------------------\n",
    "\n",
    "def downsampling_lumA(metadata, lumA_cutoff):\n",
    "    \"\"\"Downsamples LumA samples to match HRD count.\"\"\"\n",
    "    lumA_HRD = metadata[(metadata['event.PAM50'] == 'LumA') & (metadata['HRD-sum'] >= lumA_cutoff)]\n",
    "    lumA_HRP = metadata[(metadata['event.PAM50'] == 'LumA') & (metadata['HRD-sum'] < lumA_cutoff)]\n",
    "    if lumA_HRP.shape[0] < lumA_HRD.shape[0]:\n",
    "        return metadata, pd.DataFrame()\n",
    "    lumA_HRP_downsampled = lumA_HRP.sample(n=lumA_HRD.shape[0], random_state=42)\n",
    "    df_downsampled = pd.concat([lumA_HRD, lumA_HRP_downsampled])\n",
    "    df_downsampled = pd.concat([df_downsampled, metadata[metadata['event.PAM50'] != 'LumA']])\n",
    "    unused_majority = lumA_HRP.loc[~lumA_HRP.index.isin(lumA_HRP_downsampled.index)]\n",
    "    return df_downsampled, unused_majority\n",
    "\n",
    "def add_back_test(rna_df, removed_samples, X_test, y_test):\n",
    "    \"\"\"Adds back removed samples to the test set if required.\"\"\"\n",
    "    add_back_features = rna_df.loc[rna_df.index.intersection(removed_samples.index)]\n",
    "    add_back_features = add_back_features.sort_index()\n",
    "    add_back_y = removed_samples.loc[removed_samples.index.intersection(rna_df.index)]\n",
    "    add_back_y = add_back_y.sort_index()\n",
    "    X_test = pd.concat([X_test, add_back_features])\n",
    "    y_test = pd.concat([y_test, add_back_y['HRD-sum'].squeeze()])\n",
    "    return X_test, y_test\n",
    "\n",
    "def sigmoid_transform(values, shift=0, scale=1):\n",
    "    \"\"\"Apply sigmoid transformation to a series of values.\"\"\"\n",
    "    return 1 / (1 + np.exp(-scale * (values - shift)))\n",
    "\n",
    "def binary_hrd(values, threshold):\n",
    "    \"\"\"Convert continuous HRD values into binary classes based on a threshold.\"\"\"\n",
    "    return (values >= threshold).astype(int)\n",
    "\n",
    "def plot_test_train_pam50_dist(metadata, X_train, X_test):\n",
    "    \"\"\"Plot HRD-sum distributions for training and test samples, colored by PAM50 subtype.\"\"\"\n",
    "    plt.figure(figsize=(10, 6))\n",
    "    sns.histplot(data=metadata.loc[metadata.index.intersection(X_test.index)],\n",
    "                 x='HRD-sum', hue='event.PAM50', multiple='layer', kde=True)\n",
    "    plt.title('Test Distribution')\n",
    "    plt.xlabel('HRD-sum')\n",
    "    plt.ylabel('Frequency')\n",
    "    plt.show()\n",
    "\n",
    "    plt.figure(figsize=(10, 6))\n",
    "    sns.histplot(data=metadata.loc[metadata.index.intersection(X_train.index)],\n",
    "                 x='HRD-sum', hue='event.PAM50', multiple='layer', kde=True)\n",
    "    plt.title('Train Distribution')\n",
    "    plt.xlabel('HRD-sum')\n",
    "    plt.ylabel('Frequency')\n",
    "    plt.show()\n",
    "\n",
    "features_df = deconvo\n",
    "metadata_truncated = metadata.loc[metadata.index.intersection(features_df.index)]\n",
    "# Add a base HRD status (not used in the final regression but for DESeq2 design)\n",
    "metadata_truncated['HRD_status_base'] = metadata_truncated['HRD-sum'].apply(lambda x: 'HRD' if x >= 42 else 'HR')\n",
    "softLabel_metadata = metadata_truncated.sort_index()\n",
    "\n",
    "features_df = features_df.fillna(0).astype(int)\n",
    "features_df = features_df[sorted(features_df.columns)]\n",
    "gene_expression_int = features_df.sort_index()\n",
    "\n",
    "# -------------------- Model Training Function --------------------\n",
    "common_de_genes = []\n",
    "def train_model(params, metadata):\n",
    "    global common_de_genes\n",
    "    # Subset the expression data to only include DE genes\n",
    "    labels_df = metadata_truncated['HRD-sum'].sort_index()\n",
    "    features_df = gene_expression_int\n",
    "    features_df = features_df.sort_index()\n",
    "    \n",
    "    # Normalize features if requested\n",
    "    if params['normalization'] == 'StandardScaler':\n",
    "        scaler = StandardScaler()\n",
    "        features_df = pd.DataFrame(scaler.fit_transform(features_df), index=features_df.index, columns=features_df.columns)\n",
    "    elif params['normalization'] == 'log2':\n",
    "        features_df = np.log2(features_df + 1)\n",
    "    \n",
    "    # Apply soft labeling\n",
    "    if params['softlabels'] == \"Sigmoid\":\n",
    "        labels_df = sigmoid_transform(labels_df, params['softlabel_thresholds'], params['softlabel_gradients'])\n",
    "    elif params['softlabels'] == \"Binary\":\n",
    "        labels_df = binary_hrd(labels_df, params['softlabel_thresholds'])\n",
    "    \n",
    "    # Optionally downsample LumA samples (here, we are not downsampling because fixed params indicate False)\n",
    "    removed_samples = None\n",
    "    if params['downsample'][0]:\n",
    "        df_downsampled, removed_samples = downsampling_lumA(metadata_truncated, params['downsample_thresholds'])\n",
    "        features_df = features_df.loc[features_df.index.intersection(df_downsampled.index)]\n",
    "        labels_df = df_downsampled.loc[df_downsampled.index.intersection(features_df.index), 'HRD-sum']\n",
    "    \n",
    "    labels = labels_df.squeeze()\n",
    "    # Split the data into training and test sets\n",
    "    X_train, X_test, y_train, y_test = train_test_split(features_df, labels, test_size=0.2, random_state=42)\n",
    "    \n",
    "    # Optionally add back removed samples to test set if required\n",
    "    if params['downsample'][1] and removed_samples is not None:\n",
    "        X_test, y_test = add_back_test(features_df, removed_samples, X_test, y_test)\n",
    "    \n",
    "    # Train the ElasticNet model\n",
    "    warnings.filterwarnings(\"ignore\")\n",
    "    model = ElasticNet(alpha=params['alpha'], l1_ratio=params['l1_ratio'], max_iter=1000, random_state=42)\n",
    "    model.fit(X_train, y_train)\n",
    "    \n",
    "    # Predict and evaluate on the test set\n",
    "    y_pred = model.predict(X_test)\n",
    "    mse = mean_squared_error(y_test, y_pred)\n",
    "    r2 = r2_score(y_test, y_pred)\n",
    "    \n",
    "    common_de_genes = features_df.columns\n",
    "    \n",
    "    return mse, r2, model, X_train, X_test, y_test, y_pred\n",
    "\n",
    "# -------------------- Run with Fixed Parameters --------------------\n",
    "\n",
    "# Use the fixed parameters as specified\n",
    "fixed_params = {\n",
    "    'softlabels': 'Sigmoid', \n",
    "    'softlabel_thresholds': 30, \n",
    "    'softlabel_gradients': 0.1, \n",
    "    'normalization': 'log2', \n",
    "    'l1_ratio': 0.5, \n",
    "    'downsample_thresholds': 35, \n",
    "    'downsample': (False, False), \n",
    "    'alpha': 0.1\n",
    "}\n",
    "\n",
    "# Train the model with the fixed parameters\n",
    "mse, r2, model, X_train, X_test, y_test, y_pred = train_model(fixed_params, metadata)\n",
    "\n",
    "print(f\"Mean Squared Error: {mse:.3f}\")\n",
    "print(f\"R^2 Score: {r2:.3f}\")\n",
    "\n",
    "# Save the trained model if desired\n",
    "joblib.dump(model, 'best_model.joblib')\n",
    "\n",
    "# -------------------- Plotting --------------------\n",
    "\n",
    "# Plot Predicted vs. Actual values\n",
    "plt.figure(figsize=(8, 6))\n",
    "plt.scatter(y_test, y_pred, alpha=0.6, label='Predicted vs Actual')\n",
    "plt.plot([min(y_test), max(y_test)], [min(y_test), max(y_test)], 'k--', label='Ideal Prediction')\n",
    "plt.xlabel('Actual Values')\n",
    "plt.ylabel('Predicted Values')\n",
    "plt.title('Elastic Net Regression: Predicted vs Actual')\n",
    "plt.legend(loc=\"upper left\")\n",
    "plt.show()\n",
    "\n",
    "# Optionally, plot the training and test distribution of HRD-sum (colored by PAM50 subtype)\n",
    "plot_test_train_pam50_dist(metadata_truncated, X_train, X_test)\n"
   ]
  },
  {
   "cell_type": "code",
   "execution_count": 19,
   "metadata": {},
   "outputs": [
    {
     "data": {
      "text/plain": [
       "9853"
      ]
     },
     "execution_count": 19,
     "metadata": {},
     "output_type": "execute_result"
    }
   ],
   "source": [
    "len(common_de_genes)\n"
   ]
  },
  {
   "cell_type": "code",
   "execution_count": 20,
   "metadata": {},
   "outputs": [
    {
     "name": "stdout",
     "output_type": "stream",
     "text": [
      "B2M\n",
      "B3GALNT1\n",
      "B3GALNT2\n",
      "B3GALT4\n",
      "B3GALT6\n",
      "B3GAT3\n",
      "B3GNT2\n",
      "B3GNT5\n",
      "B3GNT7\n",
      "B3GNT8\n",
      "B3GNT9\n",
      "B3GNTL1\n",
      "B4GALNT3\n",
      "B4GALNT4\n",
      "B4GALT1\n",
      "B4GALT2\n",
      "B4GALT3\n",
      "B4GALT4\n",
      "B4GALT5\n",
      "B4GALT7\n",
      "B4GAT1\n",
      "B9D1\n",
      "B9D2\n",
      "BAALC\n",
      "BABAM1\n",
      "BACE1\n",
      "BACE2\n",
      "BACH1\n",
      "BAD\n",
      "BAG1\n",
      "BAG2\n",
      "BAG3\n",
      "BAG4\n",
      "BAG5\n",
      "BAG6\n",
      "BAHCC1\n",
      "BAHD1\n",
      "BAIAP2\n",
      "BAIAP2L1\n",
      "BAK1\n",
      "BAMBI\n",
      "BANF1\n",
      "BANP\n",
      "BAP1\n",
      "BARD1\n",
      "BARX2\n",
      "BASP1\n",
      "BATF\n",
      "BAX\n",
      "BAZ1A\n",
      "BAZ1B\n",
      "BAZ2A\n",
      "BAZ2B\n",
      "BBC3\n",
      "BBIP1\n",
      "BBOX1\n",
      "BBS10\n",
      "BBS2\n",
      "BBS4\n",
      "BBS7\n",
      "BBS9\n",
      "BBX\n",
      "BCAM\n",
      "BCAP29\n",
      "BCAR1\n",
      "BCAR3\n",
      "BCAS1\n",
      "BCAS2\n",
      "BCAS3\n",
      "BCAS4\n",
      "BCAT2\n",
      "BCCIP\n",
      "BCDIN3D\n",
      "BCKDHA\n",
      "BCKDHB\n",
      "BCKDK\n",
      "BCL10\n",
      "BCL11A\n",
      "BCL2\n",
      "BCL2A1\n",
      "BCL2L1\n",
      "BCL2L11\n",
      "BCL2L12\n",
      "BCL2L13\n",
      "BCL2L2\n",
      "BCL3\n",
      "BCL6\n",
      "BCL7A\n",
      "BCL7B\n",
      "BCL7C\n",
      "BCL9\n",
      "BCL9L\n",
      "BCLAF1\n",
      "BCR\n",
      "BCS1L\n",
      "BDH1\n",
      "BDH2\n",
      "BDP1\n",
      "BECN1\n",
      "BEND5\n",
      "BEST1\n",
      "BET1\n",
      "BET1L\n",
      "BFAR\n",
      "BHLHE40\n",
      "BHLHE41\n",
      "BICD1\n",
      "BICD2\n",
      "BID\n",
      "BIK\n",
      "BIN1\n",
      "BIN3\n",
      "BIRC2\n",
      "BIRC3\n",
      "BIRC5\n",
      "BIRC6\n",
      "BIVM\n",
      "BLCAP\n",
      "BLMH\n",
      "BLNK\n",
      "BLOC1S1\n",
      "BLOC1S2\n",
      "BLOC1S3\n",
      "BLOC1S4\n",
      "BLOC1S6\n",
      "BLVRA\n",
      "BLVRB\n",
      "BLZF1\n",
      "BMF\n",
      "BMI1\n",
      "BMP2K\n",
      "BMP7\n",
      "BMPR1A\n",
      "BMPR2\n",
      "BMS1\n",
      "BNIP1\n",
      "BNIP2\n",
      "BNIP3\n",
      "BNIP3L\n",
      "BNIPL\n",
      "BOC\n",
      "BOD1\n",
      "BOD1L1\n",
      "BOK\n",
      "BOLA1\n",
      "BOLA2B\n",
      "BOLA3\n",
      "BOP1\n",
      "BPGM\n",
      "BPHL\n",
      "BPI\n",
      "BPNT1\n",
      "BPTF\n",
      "BRAF\n",
      "BRAP\n",
      "BRAT1\n",
      "BRCA1\n",
      "BRCA2\n",
      "BRD1\n",
      "BRD2\n",
      "BRD3\n",
      "BRD4\n",
      "BRD7\n",
      "BRD8\n",
      "BRD9\n",
      "BRF1\n",
      "BRF2\n",
      "BRI3\n",
      "BRI3BP\n",
      "BRIX1\n",
      "BRK1\n",
      "BRMS1\n",
      "BRMS1L\n",
      "BROX\n",
      "BRPF1\n",
      "BRPF3\n",
      "BRWD1\n",
      "BSCL2\n",
      "BSDC1\n",
      "BSG\n",
      "BSPRY\n",
      "BST2\n",
      "BTAF1\n",
      "BTBD1\n",
      "BTBD10\n",
      "BTBD2\n",
      "BTBD3\n",
      "BTBD6\n",
      "BTBD7\n",
      "BTBD9\n",
      "BTD\n",
      "BTF3\n",
      "BTF3L4\n",
      "BTG1\n",
      "BTG2\n",
      "BTG3\n",
      "BTN2A1\n",
      "BTN2A2\n",
      "BTN3A1\n",
      "BTN3A2\n",
      "BTN3A3\n",
      "BTRC\n",
      "BUB3\n",
      "BUD13\n",
      "BUD31\n",
      "BYSL\n",
      "BZW1\n",
      "BZW2\n"
     ]
    },
    {
     "data": {
      "text/plain": [
       "[None,\n",
       " None,\n",
       " None,\n",
       " None,\n",
       " None,\n",
       " None,\n",
       " None,\n",
       " None,\n",
       " None,\n",
       " None,\n",
       " None,\n",
       " None,\n",
       " None,\n",
       " None,\n",
       " None,\n",
       " None,\n",
       " None,\n",
       " None,\n",
       " None,\n",
       " None,\n",
       " None,\n",
       " None,\n",
       " None,\n",
       " None,\n",
       " None,\n",
       " None,\n",
       " None,\n",
       " None,\n",
       " None,\n",
       " None,\n",
       " None,\n",
       " None,\n",
       " None,\n",
       " None,\n",
       " None,\n",
       " None,\n",
       " None,\n",
       " None,\n",
       " None,\n",
       " None,\n",
       " None,\n",
       " None,\n",
       " None,\n",
       " None,\n",
       " None,\n",
       " None,\n",
       " None,\n",
       " None,\n",
       " None,\n",
       " None,\n",
       " None,\n",
       " None,\n",
       " None,\n",
       " None,\n",
       " None,\n",
       " None,\n",
       " None,\n",
       " None,\n",
       " None,\n",
       " None,\n",
       " None,\n",
       " None,\n",
       " None,\n",
       " None,\n",
       " None,\n",
       " None,\n",
       " None,\n",
       " None,\n",
       " None,\n",
       " None,\n",
       " None,\n",
       " None,\n",
       " None,\n",
       " None,\n",
       " None,\n",
       " None,\n",
       " None,\n",
       " None,\n",
       " None,\n",
       " None,\n",
       " None,\n",
       " None,\n",
       " None,\n",
       " None,\n",
       " None,\n",
       " None,\n",
       " None,\n",
       " None,\n",
       " None,\n",
       " None,\n",
       " None,\n",
       " None,\n",
       " None,\n",
       " None,\n",
       " None,\n",
       " None,\n",
       " None,\n",
       " None,\n",
       " None,\n",
       " None,\n",
       " None,\n",
       " None,\n",
       " None,\n",
       " None,\n",
       " None,\n",
       " None,\n",
       " None,\n",
       " None,\n",
       " None,\n",
       " None,\n",
       " None,\n",
       " None,\n",
       " None,\n",
       " None,\n",
       " None,\n",
       " None,\n",
       " None,\n",
       " None,\n",
       " None,\n",
       " None,\n",
       " None,\n",
       " None,\n",
       " None,\n",
       " None,\n",
       " None,\n",
       " None,\n",
       " None,\n",
       " None,\n",
       " None,\n",
       " None,\n",
       " None,\n",
       " None,\n",
       " None,\n",
       " None,\n",
       " None,\n",
       " None,\n",
       " None,\n",
       " None,\n",
       " None,\n",
       " None,\n",
       " None,\n",
       " None,\n",
       " None,\n",
       " None,\n",
       " None,\n",
       " None,\n",
       " None,\n",
       " None,\n",
       " None,\n",
       " None,\n",
       " None,\n",
       " None,\n",
       " None,\n",
       " None,\n",
       " None,\n",
       " None,\n",
       " None,\n",
       " None,\n",
       " None,\n",
       " None,\n",
       " None,\n",
       " None,\n",
       " None,\n",
       " None,\n",
       " None,\n",
       " None,\n",
       " None,\n",
       " None,\n",
       " None,\n",
       " None,\n",
       " None,\n",
       " None,\n",
       " None,\n",
       " None,\n",
       " None,\n",
       " None,\n",
       " None,\n",
       " None,\n",
       " None,\n",
       " None,\n",
       " None,\n",
       " None,\n",
       " None,\n",
       " None,\n",
       " None,\n",
       " None,\n",
       " None,\n",
       " None,\n",
       " None,\n",
       " None,\n",
       " None,\n",
       " None,\n",
       " None,\n",
       " None,\n",
       " None,\n",
       " None,\n",
       " None,\n",
       " None,\n",
       " None,\n",
       " None,\n",
       " None,\n",
       " None,\n",
       " None,\n",
       " None,\n",
       " None,\n",
       " None,\n",
       " None,\n",
       " None]"
      ]
     },
     "execution_count": 20,
     "metadata": {},
     "output_type": "execute_result"
    }
   ],
   "source": [
    "[print(n) for n in common_de_genes if n[0]=='B']"
   ]
  },
  {
   "cell_type": "code",
   "execution_count": 21,
   "metadata": {},
   "outputs": [
    {
     "data": {
      "text/html": [
       "<div>\n",
       "<style scoped>\n",
       "    .dataframe tbody tr th:only-of-type {\n",
       "        vertical-align: middle;\n",
       "    }\n",
       "\n",
       "    .dataframe tbody tr th {\n",
       "        vertical-align: top;\n",
       "    }\n",
       "\n",
       "    .dataframe thead th {\n",
       "        text-align: right;\n",
       "    }\n",
       "</style>\n",
       "<table border=\"1\" class=\"dataframe\">\n",
       "  <thead>\n",
       "    <tr style=\"text-align: right;\">\n",
       "      <th></th>\n",
       "      <th>A1BG</th>\n",
       "      <th>A2M</th>\n",
       "      <th>A4GALT</th>\n",
       "      <th>AAAS</th>\n",
       "      <th>AACS</th>\n",
       "      <th>AAGAB</th>\n",
       "      <th>AAK1</th>\n",
       "      <th>AAMDC</th>\n",
       "      <th>AAMP</th>\n",
       "      <th>AAR2</th>\n",
       "      <th>...</th>\n",
       "      <th>ZSWIM8</th>\n",
       "      <th>ZW10</th>\n",
       "      <th>ZWILCH</th>\n",
       "      <th>ZWINT</th>\n",
       "      <th>ZXDC</th>\n",
       "      <th>ZYG11A</th>\n",
       "      <th>ZYG11B</th>\n",
       "      <th>ZYX</th>\n",
       "      <th>ZZEF1</th>\n",
       "      <th>ZZZ3</th>\n",
       "    </tr>\n",
       "  </thead>\n",
       "  <tbody>\n",
       "    <tr>\n",
       "      <th>102596</th>\n",
       "      <td>12.140</td>\n",
       "      <td>8.231</td>\n",
       "      <td>11.98</td>\n",
       "      <td>9.096</td>\n",
       "      <td>8.422</td>\n",
       "      <td>8.448</td>\n",
       "      <td>8.729</td>\n",
       "      <td>8.926</td>\n",
       "      <td>7.726</td>\n",
       "      <td>9.492</td>\n",
       "      <td>...</td>\n",
       "      <td>8.148</td>\n",
       "      <td>7.068</td>\n",
       "      <td>6.504</td>\n",
       "      <td>8.790</td>\n",
       "      <td>7.767</td>\n",
       "      <td>6.736</td>\n",
       "      <td>6.802</td>\n",
       "      <td>9.972</td>\n",
       "      <td>6.729</td>\n",
       "      <td>8.668</td>\n",
       "    </tr>\n",
       "    <tr>\n",
       "      <th>111922</th>\n",
       "      <td>11.580</td>\n",
       "      <td>9.978</td>\n",
       "      <td>11.59</td>\n",
       "      <td>8.877</td>\n",
       "      <td>9.412</td>\n",
       "      <td>9.173</td>\n",
       "      <td>8.781</td>\n",
       "      <td>8.692</td>\n",
       "      <td>7.713</td>\n",
       "      <td>8.929</td>\n",
       "      <td>...</td>\n",
       "      <td>9.097</td>\n",
       "      <td>6.992</td>\n",
       "      <td>6.825</td>\n",
       "      <td>7.839</td>\n",
       "      <td>6.948</td>\n",
       "      <td>5.600</td>\n",
       "      <td>6.732</td>\n",
       "      <td>11.000</td>\n",
       "      <td>5.960</td>\n",
       "      <td>8.396</td>\n",
       "    </tr>\n",
       "    <tr>\n",
       "      <th>115724</th>\n",
       "      <td>10.820</td>\n",
       "      <td>10.390</td>\n",
       "      <td>12.51</td>\n",
       "      <td>8.672</td>\n",
       "      <td>7.248</td>\n",
       "      <td>8.880</td>\n",
       "      <td>8.488</td>\n",
       "      <td>9.297</td>\n",
       "      <td>7.894</td>\n",
       "      <td>9.028</td>\n",
       "      <td>...</td>\n",
       "      <td>8.764</td>\n",
       "      <td>5.182</td>\n",
       "      <td>6.414</td>\n",
       "      <td>9.675</td>\n",
       "      <td>6.591</td>\n",
       "      <td>5.028</td>\n",
       "      <td>6.132</td>\n",
       "      <td>11.350</td>\n",
       "      <td>6.755</td>\n",
       "      <td>8.488</td>\n",
       "    </tr>\n",
       "    <tr>\n",
       "      <th>123591</th>\n",
       "      <td>11.110</td>\n",
       "      <td>8.214</td>\n",
       "      <td>11.54</td>\n",
       "      <td>8.750</td>\n",
       "      <td>8.120</td>\n",
       "      <td>8.967</td>\n",
       "      <td>8.606</td>\n",
       "      <td>8.027</td>\n",
       "      <td>8.277</td>\n",
       "      <td>9.049</td>\n",
       "      <td>...</td>\n",
       "      <td>7.858</td>\n",
       "      <td>6.702</td>\n",
       "      <td>6.451</td>\n",
       "      <td>8.668</td>\n",
       "      <td>7.118</td>\n",
       "      <td>6.971</td>\n",
       "      <td>7.059</td>\n",
       "      <td>11.040</td>\n",
       "      <td>6.993</td>\n",
       "      <td>9.364</td>\n",
       "    </tr>\n",
       "    <tr>\n",
       "      <th>134956</th>\n",
       "      <td>10.950</td>\n",
       "      <td>9.422</td>\n",
       "      <td>11.42</td>\n",
       "      <td>9.951</td>\n",
       "      <td>8.430</td>\n",
       "      <td>9.820</td>\n",
       "      <td>8.223</td>\n",
       "      <td>8.964</td>\n",
       "      <td>7.857</td>\n",
       "      <td>9.050</td>\n",
       "      <td>...</td>\n",
       "      <td>8.386</td>\n",
       "      <td>6.594</td>\n",
       "      <td>6.926</td>\n",
       "      <td>8.845</td>\n",
       "      <td>7.211</td>\n",
       "      <td>6.153</td>\n",
       "      <td>6.733</td>\n",
       "      <td>10.560</td>\n",
       "      <td>7.423</td>\n",
       "      <td>8.058</td>\n",
       "    </tr>\n",
       "    <tr>\n",
       "      <th>...</th>\n",
       "      <td>...</td>\n",
       "      <td>...</td>\n",
       "      <td>...</td>\n",
       "      <td>...</td>\n",
       "      <td>...</td>\n",
       "      <td>...</td>\n",
       "      <td>...</td>\n",
       "      <td>...</td>\n",
       "      <td>...</td>\n",
       "      <td>...</td>\n",
       "      <td>...</td>\n",
       "      <td>...</td>\n",
       "      <td>...</td>\n",
       "      <td>...</td>\n",
       "      <td>...</td>\n",
       "      <td>...</td>\n",
       "      <td>...</td>\n",
       "      <td>...</td>\n",
       "      <td>...</td>\n",
       "      <td>...</td>\n",
       "      <td>...</td>\n",
       "    </tr>\n",
       "    <tr>\n",
       "      <th>944184</th>\n",
       "      <td>13.450</td>\n",
       "      <td>9.795</td>\n",
       "      <td>10.56</td>\n",
       "      <td>9.553</td>\n",
       "      <td>7.942</td>\n",
       "      <td>9.984</td>\n",
       "      <td>8.386</td>\n",
       "      <td>10.150</td>\n",
       "      <td>8.277</td>\n",
       "      <td>10.240</td>\n",
       "      <td>...</td>\n",
       "      <td>7.996</td>\n",
       "      <td>5.947</td>\n",
       "      <td>6.610</td>\n",
       "      <td>9.070</td>\n",
       "      <td>7.984</td>\n",
       "      <td>5.320</td>\n",
       "      <td>6.649</td>\n",
       "      <td>10.420</td>\n",
       "      <td>7.225</td>\n",
       "      <td>8.538</td>\n",
       "    </tr>\n",
       "    <tr>\n",
       "      <th>965961</th>\n",
       "      <td>9.102</td>\n",
       "      <td>9.082</td>\n",
       "      <td>10.66</td>\n",
       "      <td>8.908</td>\n",
       "      <td>7.646</td>\n",
       "      <td>9.535</td>\n",
       "      <td>8.666</td>\n",
       "      <td>9.316</td>\n",
       "      <td>7.621</td>\n",
       "      <td>8.908</td>\n",
       "      <td>...</td>\n",
       "      <td>8.580</td>\n",
       "      <td>6.190</td>\n",
       "      <td>6.837</td>\n",
       "      <td>8.579</td>\n",
       "      <td>7.064</td>\n",
       "      <td>5.536</td>\n",
       "      <td>7.080</td>\n",
       "      <td>11.000</td>\n",
       "      <td>6.860</td>\n",
       "      <td>8.144</td>\n",
       "    </tr>\n",
       "    <tr>\n",
       "      <th>979809</th>\n",
       "      <td>10.190</td>\n",
       "      <td>10.630</td>\n",
       "      <td>11.45</td>\n",
       "      <td>9.145</td>\n",
       "      <td>7.950</td>\n",
       "      <td>9.084</td>\n",
       "      <td>9.053</td>\n",
       "      <td>9.673</td>\n",
       "      <td>8.313</td>\n",
       "      <td>9.891</td>\n",
       "      <td>...</td>\n",
       "      <td>8.539</td>\n",
       "      <td>6.703</td>\n",
       "      <td>6.499</td>\n",
       "      <td>8.989</td>\n",
       "      <td>7.645</td>\n",
       "      <td>6.987</td>\n",
       "      <td>7.046</td>\n",
       "      <td>10.770</td>\n",
       "      <td>6.964</td>\n",
       "      <td>8.330</td>\n",
       "    </tr>\n",
       "    <tr>\n",
       "      <th>989123</th>\n",
       "      <td>10.060</td>\n",
       "      <td>11.230</td>\n",
       "      <td>12.51</td>\n",
       "      <td>9.251</td>\n",
       "      <td>8.075</td>\n",
       "      <td>8.687</td>\n",
       "      <td>8.911</td>\n",
       "      <td>8.880</td>\n",
       "      <td>8.282</td>\n",
       "      <td>9.364</td>\n",
       "      <td>...</td>\n",
       "      <td>8.052</td>\n",
       "      <td>7.297</td>\n",
       "      <td>7.063</td>\n",
       "      <td>8.721</td>\n",
       "      <td>8.218</td>\n",
       "      <td>5.998</td>\n",
       "      <td>7.030</td>\n",
       "      <td>10.060</td>\n",
       "      <td>6.777</td>\n",
       "      <td>9.020</td>\n",
       "    </tr>\n",
       "    <tr>\n",
       "      <th>999675</th>\n",
       "      <td>9.351</td>\n",
       "      <td>9.645</td>\n",
       "      <td>10.65</td>\n",
       "      <td>9.553</td>\n",
       "      <td>10.070</td>\n",
       "      <td>8.910</td>\n",
       "      <td>8.481</td>\n",
       "      <td>9.140</td>\n",
       "      <td>7.576</td>\n",
       "      <td>10.020</td>\n",
       "      <td>...</td>\n",
       "      <td>8.947</td>\n",
       "      <td>6.661</td>\n",
       "      <td>6.862</td>\n",
       "      <td>8.227</td>\n",
       "      <td>7.155</td>\n",
       "      <td>6.110</td>\n",
       "      <td>6.735</td>\n",
       "      <td>11.360</td>\n",
       "      <td>7.117</td>\n",
       "      <td>7.728</td>\n",
       "    </tr>\n",
       "  </tbody>\n",
       "</table>\n",
       "<p>105 rows × 9853 columns</p>\n",
       "</div>"
      ],
      "text/plain": [
       "          A1BG     A2M  A4GALT   AAAS    AACS  AAGAB   AAK1   AAMDC   AAMP  \\\n",
       "102596  12.140   8.231   11.98  9.096   8.422  8.448  8.729   8.926  7.726   \n",
       "111922  11.580   9.978   11.59  8.877   9.412  9.173  8.781   8.692  7.713   \n",
       "115724  10.820  10.390   12.51  8.672   7.248  8.880  8.488   9.297  7.894   \n",
       "123591  11.110   8.214   11.54  8.750   8.120  8.967  8.606   8.027  8.277   \n",
       "134956  10.950   9.422   11.42  9.951   8.430  9.820  8.223   8.964  7.857   \n",
       "...        ...     ...     ...    ...     ...    ...    ...     ...    ...   \n",
       "944184  13.450   9.795   10.56  9.553   7.942  9.984  8.386  10.150  8.277   \n",
       "965961   9.102   9.082   10.66  8.908   7.646  9.535  8.666   9.316  7.621   \n",
       "979809  10.190  10.630   11.45  9.145   7.950  9.084  9.053   9.673  8.313   \n",
       "989123  10.060  11.230   12.51  9.251   8.075  8.687  8.911   8.880  8.282   \n",
       "999675   9.351   9.645   10.65  9.553  10.070  8.910  8.481   9.140  7.576   \n",
       "\n",
       "          AAR2  ...  ZSWIM8   ZW10  ZWILCH  ZWINT   ZXDC  ZYG11A  ZYG11B  \\\n",
       "102596   9.492  ...   8.148  7.068   6.504  8.790  7.767   6.736   6.802   \n",
       "111922   8.929  ...   9.097  6.992   6.825  7.839  6.948   5.600   6.732   \n",
       "115724   9.028  ...   8.764  5.182   6.414  9.675  6.591   5.028   6.132   \n",
       "123591   9.049  ...   7.858  6.702   6.451  8.668  7.118   6.971   7.059   \n",
       "134956   9.050  ...   8.386  6.594   6.926  8.845  7.211   6.153   6.733   \n",
       "...        ...  ...     ...    ...     ...    ...    ...     ...     ...   \n",
       "944184  10.240  ...   7.996  5.947   6.610  9.070  7.984   5.320   6.649   \n",
       "965961   8.908  ...   8.580  6.190   6.837  8.579  7.064   5.536   7.080   \n",
       "979809   9.891  ...   8.539  6.703   6.499  8.989  7.645   6.987   7.046   \n",
       "989123   9.364  ...   8.052  7.297   7.063  8.721  8.218   5.998   7.030   \n",
       "999675  10.020  ...   8.947  6.661   6.862  8.227  7.155   6.110   6.735   \n",
       "\n",
       "           ZYX  ZZEF1   ZZZ3  \n",
       "102596   9.972  6.729  8.668  \n",
       "111922  11.000  5.960  8.396  \n",
       "115724  11.350  6.755  8.488  \n",
       "123591  11.040  6.993  9.364  \n",
       "134956  10.560  7.423  8.058  \n",
       "...        ...    ...    ...  \n",
       "944184  10.420  7.225  8.538  \n",
       "965961  11.000  6.860  8.144  \n",
       "979809  10.770  6.964  8.330  \n",
       "989123  10.060  6.777  9.020  \n",
       "999675  11.360  7.117  7.728  \n",
       "\n",
       "[105 rows x 9853 columns]"
      ]
     },
     "execution_count": 21,
     "metadata": {},
     "output_type": "execute_result"
    }
   ],
   "source": [
    "import pandas as pd\n",
    "import numpy as np\n",
    "import plotly.express as px\n",
    "from scipy.stats import ttest_ind, mannwhitneyu, pearsonr\n",
    "from sklearn.preprocessing import StandardScaler\n",
    "\n",
    "# -------------------------\n",
    "# 1. Load and Preprocess Expression Data\n",
    "# -------------------------\n",
    "ispy2_expr = pd.read_csv(\n",
    "    '../data/validation/GSE173839_ISPY2_AgilentGeneExp_durvaPlusCtr_FFPE_meanCol_geneLevel_n105.txt',\n",
    "    sep='\\t'\n",
    ")\n",
    "ispy2_expr.set_index('GeneName', inplace=True)\n",
    "ispy2_expr_transposed = ispy2_expr.T\n",
    "ispy2_expr_transposed.sort_index(inplace=True)\n",
    "\n",
    "df_filtered = ispy2_expr_transposed.loc[:, ispy2_expr_transposed.columns.intersection(common_de_genes)]\n",
    "\n",
    "# Identify missing genes that need to be added\n",
    "missing_genes = set(common_de_genes) - set(df_filtered.columns)\n",
    "\n",
    "# Add missing columns with 0s\n",
    "for gene in missing_genes:\n",
    "    df_filtered[gene] = 0\n",
    "\n",
    "# Reorder columns to match top_genes_de\n",
    "df_filtered = df_filtered[common_de_genes]\n",
    "validation_subset =df_filtered\n",
    "validation_subset.fillna(0, inplace=True)\n",
    "validation_subset\n"
   ]
  },
  {
   "cell_type": "code",
   "execution_count": 22,
   "metadata": {},
   "outputs": [
    {
     "name": "stdout",
     "output_type": "stream",
     "text": [
      "[0.47256424 0.36117626 0.77968552 0.53457396 0.51084095 0.38453966\n",
      " 0.2341751  0.32853263 0.34315644 0.50985764 0.37515443 0.46989747\n",
      " 0.60894899 0.26078845 0.38635061 0.39021204 0.66712246 0.5186808\n",
      " 0.30994775 0.43565777 0.4415212  0.43820143 0.4685537  0.35535238\n",
      " 0.2969525  0.5170684  0.44583387 0.47073513 0.59131233 0.5472701\n",
      " 0.81250084 0.42714985 0.46193155 0.51244298 0.70452184 0.65721336\n",
      " 0.13141785 0.46341226 0.52450926 0.52460051 0.32241259 0.50639088\n",
      " 0.52871665 0.56184903 0.52358429 0.2973606  0.50969197 0.26770842\n",
      " 0.76890104 0.67113974 0.43496141 0.41364169 0.39652273 0.54935023\n",
      " 0.6226749  0.37695201 0.37153842 0.35757956 0.35700485 0.54870305\n",
      " 0.46715186 0.52804816 0.4685572  0.24063613 0.51874098 0.40685155\n",
      " 0.50363088 0.08065053 0.76408714 0.50996252 0.54960214 0.44524014\n",
      " 0.39776607 0.55150637 0.16833728 0.53668937 0.65947477 0.57989206\n",
      " 0.64936698 0.21729205 0.15681566 0.71525471 0.40090957 0.69350666\n",
      " 0.44473468 0.57148111 0.42681099 0.42039614 0.53947158 0.48268642\n",
      " 0.55598567 0.40398612 0.1540836  0.17943344 0.51591677 0.19092299\n",
      " 0.83981334 0.34917501 0.27232524 0.10399609 0.51542532 0.62854619\n",
      " 0.43914553 0.4155829  0.30795163]\n",
      "Welch's t-test: t = -2.5723, p = 0.0119\n",
      "Mann-Whitney U test: U = 857.0000, p = 0.0094\n"
     ]
    },
    {
     "data": {
      "application/vnd.plotly.v1+json": {
       "config": {
        "plotlyServerURL": "https://plot.ly"
       },
       "data": [
        {
         "hovertemplate": "PARPi7 Signal=%{x}<br>Predictions=%{y}<br>pCR.status=%{marker.color}<extra></extra>",
         "legendgroup": "",
         "marker": {
          "color": {
           "bdata": "AQEBAQAAAAAAAAABAQABAAEAAAAAAQEAAAABAAAAAQEAAAABAAAAAAABAAEAAAAAAAAAAQEBAQAAAAABAAEBAAAAAAAAAAAAAQEAAAEBAAABAAEBAAEAAAEAAQAAAAAAAAEBAAAAAAEA",
           "dtype": "i1"
          },
          "coloraxis": "coloraxis",
          "symbol": "circle"
         },
         "mode": "markers",
         "name": "",
         "orientation": "v",
         "showlegend": false,
         "type": "scatter",
         "x": {
          "bdata": "gNQmTu53qL+70FynkZaqPz0K16NwPeQ/xY8xdy0h5T93vp8aL930P/kx5q4l5O+/ZmZmZmZm8r8GgZVDi2zzv8iYu5aQD+C/xm00gLdA2j9/+zpwzojqvzsBTYQNT8c/4BCq1OyBpr99PzVeukn8v28Sg8DKoeU/mN2Th4Va1z99PzVeukkAQNlfdk8eFuA/xm00gLdAwj8PnDOitDfIPyuHFtnO9/2/xY8xdy0h7T9rK/aX3ZPjv+XyH9JvX+u/bxKDwMqh479sCfmgZ7Pov0KygAncurO/rkfhehSu9T/eAgmKH2PWv6g1zTtO0dU/N4lBYOXQ9j9Ei2zn+6nRv+Olm8QgsPK/WDm0yHa+6b+TOgFNhA3lv7ByaJHtfPk/9P3UeOkm87+ze/KwUGvaP6JdhZSfVKs/V1uxv+yezL/P91PjpZvMv1WkwthCkKO/orQ3+MJk1r9KDAIrhxb3P5qZmZmZmfE/ZMxdS8gH47/WxW00gLfUP4EmwoanV+i/G55eKcsQ2z9XW7G/7J6svw3gLZCg+IE/ih9j7lpCvj+9VkJ3SZxVP6H4MeauJeg/HVpkO99P8z9Q/Bhz1xLkv6G5TiMtlbc/5ZttbkxPmL9miGNd3EbLv1rwoq8gzZi/48eYu5aQvz9fKcsQx7riP+gTeZJ0zbQ/YOXQItv5AcDufD81Xrrhv9xoAG+BBM0/RIts5/upsb/pJjEIrBz4vxKDwMqhRfo/kxgEVg4t9r+QMXctIR/QP3E9CtejcPE/WMoyxLEu4r/fT42XbhL7vxNhw9MrZeO/5/up8dJN8D8bnl4pyxDPPzMzMzMzM/8/BBxClZo9kL/A7J48LNTqv5huEoPAyvu/c2iR7Xw/8b8r9pfdk4fNP0a28/3UePs/WYY41sVt1L9j7lpCPujpP8/3U+Olm+Y/8fRKWYY40r+HFtnO91P5PwRWDi2ynfM/RPrt68A56z/l0CLb+X76P2Dl0CLb+fi/rthfdk8ezj9/arx0kxjwP8WPMXctIeu/x0s3iUFgBkCbVZ+rrdi/v4enV8oyxMG/ZmZmZmZm9L/IBz2bVZ/Tv0Jg5dAi2/M/f9k9eVioxT9HIF7XL9i1P2ZmZmZmZgjA",
          "dtype": "f8"
         },
         "xaxis": "x",
         "y": {
          "bdata": "g2LfE34+3j+M+pQIgx3XPxGb8wkv8+g/cqzv1job4T/647gdz1jgP+UA4zdMnNg/yf8+HnP5zT8nBQO4rQbVP54gq25G9tU/C+c9+sBQ4D9TFW24hwLYP86gUtPMEt4/FAjPl4J84z/ENpULwrDQP5mrj+33udg/ajUS6Tv52D/ChYIzEVnlP+pi53gImeA/2NygFy/W0z/YiDYj0eHbPxQ61SbiQdw/divW/30L3D8ZLkmryPzdP4EkK+kXvtY/5OyBDUUB0z9ktaYF04vgPw3tAMeKiNw/IkwKOIYg3j/9VZjVB+ziPwj3PZU8g+E/V3abwAEA6j+ye9hPbFbbP1cBMlhJkN0/2xarz+5l4D/ZEg9jcYvmPyR8Z1LkB+U/mvvV0kzSwD/s4jfqi6jdP1WX4qPHyOA/WPKUAIfJ4D8cFGluaKLUP7O9g6daNOA/sJKyKz/r4D9Z8OPOqvrhP5Z09tkzweA/oleiv/QH0z/OwEeJZU/gP0RcOnwiItE/d+58WNaa6D9StJsL+nnlP3qhFF9o1ts/UJ3+/Bp52j/T46HboGDZP8bsbPBGlOE/XBMp6fPs4z8ckRFU+x/YP4k7lhVJx9c/GE1+ZZXi1j/li23gKtnWP9HR/rT5juE/LQGo7dDl3T9epGU/xeXgPyeW/VHX/N0/PLtDLSrNzj/HjnawhpngP9C6LhbbCdo/qrjWf74d4D+AlD1Tg6W0PxF8DN9mc+g/Ce3c6ZxR4D9zfPw3V5bhP1mSDYPQftw/cB/2zf902T82QVCt8KXhPyBaTXwTjMU/0GY+Lo8s4T+t6G7VahrlP7yrccx5juI/UVu0Q53H5D+4YS3KOdDLPzR/4SKJEsQ/lAA12l3j5j/fz12agKjZPzcqgeI0MeY/oq5Zc4h23D+e/b2/kkniP7II4wffUNs/8Yp9N8Xn2j+zXwPnWUPhP9QlAJBV5N4/rcz3d6LK4T+kybSc6NrZP0gIaOMCucM/6jKuwKz3xj9MjVTkY4LgPyoXSh8qcMg/BMjlO8Df6j+S8psn4ljWP82i9NTGbdE/jPOj13yfuj+zUTk9XX7gP0oi2OUMHeQ/njhA2PUa3D8x8OsI6ZjaP94Y9cF6tdM/",
          "dtype": "f8"
         },
         "yaxis": "y"
        },
        {
         "hovertemplate": "<b>OLS trendline</b><br>predictions = 0.0926525 * PARPi7_sig. + 0.456454<br>R<sup>2</sup>=0.351787<br><br>PARPi7 Signal=%{x}<br>Predictions=%{y} <b>(trend)</b><extra></extra>",
         "legendgroup": "",
         "marker": {
          "symbol": "circle"
         },
         "mode": "lines",
         "name": "",
         "showlegend": false,
         "type": "scatter",
         "x": {
          "bdata": "ZmZmZmZmCMBg5dAi2/kBwCuHFtnO9/2/fT81XrpJ/L+YbhKDwMr7v99PjZduEvu/YOXQItv5+L/pJjEIrBz4v5MYBFYOLfa/ZmZmZmZm9L8GgZVDi2zzv/T91HjpJvO/46WbxCCw8r9mZmZmZmbyv3Noke18P/G/+THmriXk77/l8h/Sb1/rv8WPMXctIeu/wOyePCzU6r9/+zpwzojqv1g5tMh2vum/bAn5oGez6L+BJsKGp1fov5M6AU2EDeW/UPwYc9cS5L9vEoPAyqHjv2sr9pfdk+O/E2HD0ytl479kzF1LyAfjv1jKMsSxLuK/7nw/NV664b/ImLuWkA/gv6K0N/jCZNa/3gIJih9j1r9ZhjjWxW3Uv8gHPZtVn9O/8fRKWYY40r9Ei2zn+6nRv1dbsb/snsy/z/dT46WbzL9miGNd3EbLv4enV8oyxMG/m1Wfq63Yv79CsoAJ3Lqzv0SLbOf7qbG/V1uxv+yerL+A1CZO7neov+AQqtTsgaa/VaTC2EKQo79a8KKvIM2Yv+WbbW5MT5i/BBxClZo9kL+9VkJ3SZxVPw3gLZCg+IE/u9Bcp5GWqj+iXYWUn1SrP+gTeZJ0zbQ/RyBe1y/YtT+huU4jLZW3P4ofY+5aQr4/48eYu5aQvz/GbTSAt0DCP3/ZPXlYqMU/OwFNhA1Pxz8PnDOitDfIP9xoAG+BBM0/K/aX3ZOHzT+u2F92Tx7OPxueXinLEM8/kDF3LSEf0D/WxW00gLfUP6g1zTtO0dU/mN2Th4Va1z/GbTSAt0DaP7N78rBQa9o/G55eKcsQ2z/ZX3ZPHhbgP18pyxDHuuI/PQrXo3A95D/FjzF3LSHlP28Sg8DKoeU/z/dT46Wb5j+h+DHmriXoP2PuWkI+6Ok/RPrt68A56z/FjzF3LSHtP39qvHSTGPA/5/up8dJN8D9xPQrXo3DxP5qZmZmZmfE/HVpkO99P8z8EVg4tsp3zP0Jg5dAi2/M/d76fGi/d9D+uR+F6FK71PzeJQWDl0PY/SgwCK4cW9z+HFtnO91P5P7ByaJHtfPk/EoPAyqFF+j/l0CLb+X76P0a28/3UePs/MzMzMzMz/z99PzVeukkAQMdLN4lBYAZA",
          "dtype": "f8"
         },
         "xaxis": "x",
         "y": {
          "bdata": "ZbRVHClBxj/ktidZGcfPP54JUeFJG9I/Qoq7Oq660j8iA1A6venSP7EVWc4MLtM/CUblFun00z8cKfAu4kbUPxvHllaQ/tQ/wdJXXRCn1T+sAp2/qQPWP9zhvCp4HdY/EdeJ8H1J1j8XeI340GTWPzD8mxgd0tY/uwShLq5N1z9jIQ1RBiTYPyF8NsaPL9g/kwAtvNQ92D8OKyn5y0vYP/mR77VKcdg/ldpWfcei2D+7iBr0x7PYP7wrw1rVT9k/rfBi6Eh+2T9lMN3DO5PZPx0tLWjQldk/LDEMgHee2T9KOcqvxa/ZP+jJXe3/19k/j73MOo7t2T/ySY31pDzaP9FgyBxiI9s/zY1F+Ygj2z++UuWG/FHbP6l2gQwdZds/CvKWq1uG2z+aOyGakJPbP/BOWeob49s/7HvWxkLj2z80wrBZDPPbP+tQ/kjWY9w/ip5nT7J53D+drztbi8HcP2H3SnbLzdw/N/xYSq7h3D8sic3w/e3cP3Eq7lPO89w//cQL2oj83D9gDaeLxRHdP7NLZhSAEt0/y4pUWXYe3T+g/z9UijjdP0ZhltPbQ90/SlwAal6F3T+MaBfnkYfdP1fM0G3ksd0/xAxRFRK43T9YrrfDYMLdP2/oo8n36d0/l96TtrXx3T9myPLwAQ/ePwCGAwtjN94/3jAXJvhK3j+yqs5Mv1XeP3+PK0isjt4/1Za6u76U3j8TrDhaupveP9qsZxb2pt4/VNdjU+203j91AXi66yHfP506kt4HPN8/pmbsk3Zg3z8pAG29OqXfP7uRIyItqd8/D1GGH4K43z/vRNy20hjgPxvXzWyEV+A/NE8zsFd74D/ouypocZDgPxwHjQRcnOA/FlMeXYKz4D+dFbeABNjgPxFoLlvDAeE/qZroxwgh4T8+YWADMk7hP9X1WCPVluE/wWEhH7Og4T/jwrbgltbhPxCMKfEt3uE/N47CumQv4j+lPzaN0D3iP2ht4iUzSeI/M8focwR54j/7lZgUup/iPx33Ldad1eI/tea9C4Xi4j8j5wTyx0zjP0+wdwJfVOM/Qr1DBpB54z8aCn5QMITjPw+ioAF9suM/zVdGZ1Zj5D+x5ofBnKTkP8qADfI35uY/",
          "dtype": "f8"
         },
         "yaxis": "y"
        }
       ],
       "layout": {
        "annotations": [
         {
          "align": "center",
          "bgcolor": "white",
          "bordercolor": "black",
          "borderpad": 4,
          "borderwidth": 1,
          "font": {
           "color": "black",
           "size": 14
          },
          "opacity": 1,
          "showarrow": false,
          "text": "Pearson R: 0.59<br>p-value: 2.61e-11",
          "x": 0.010407276190476206,
          "y": 0.8398133439898179
         }
        ],
        "coloraxis": {
         "colorbar": {
          "title": {
           "text": "pCR.status"
          }
         },
         "colorscale": [
          [
           0,
           "rgb(243, 203, 211)"
          ],
          [
           0.16666666666666666,
           "rgb(234, 169, 189)"
          ],
          [
           0.3333333333333333,
           "rgb(221, 136, 172)"
          ],
          [
           0.5,
           "rgb(202, 105, 157)"
          ],
          [
           0.6666666666666666,
           "rgb(177, 77, 142)"
          ],
          [
           0.8333333333333334,
           "rgb(145, 53, 125)"
          ],
          [
           1,
           "rgb(108, 33, 103)"
          ]
         ]
        },
        "legend": {
         "tracegroupgap": 0
        },
        "template": {
         "data": {
          "bar": [
           {
            "error_x": {
             "color": "#2a3f5f"
            },
            "error_y": {
             "color": "#2a3f5f"
            },
            "marker": {
             "line": {
              "color": "#E5ECF6",
              "width": 0.5
             },
             "pattern": {
              "fillmode": "overlay",
              "size": 10,
              "solidity": 0.2
             }
            },
            "type": "bar"
           }
          ],
          "barpolar": [
           {
            "marker": {
             "line": {
              "color": "#E5ECF6",
              "width": 0.5
             },
             "pattern": {
              "fillmode": "overlay",
              "size": 10,
              "solidity": 0.2
             }
            },
            "type": "barpolar"
           }
          ],
          "carpet": [
           {
            "aaxis": {
             "endlinecolor": "#2a3f5f",
             "gridcolor": "white",
             "linecolor": "white",
             "minorgridcolor": "white",
             "startlinecolor": "#2a3f5f"
            },
            "baxis": {
             "endlinecolor": "#2a3f5f",
             "gridcolor": "white",
             "linecolor": "white",
             "minorgridcolor": "white",
             "startlinecolor": "#2a3f5f"
            },
            "type": "carpet"
           }
          ],
          "choropleth": [
           {
            "colorbar": {
             "outlinewidth": 0,
             "ticks": ""
            },
            "type": "choropleth"
           }
          ],
          "contour": [
           {
            "colorbar": {
             "outlinewidth": 0,
             "ticks": ""
            },
            "colorscale": [
             [
              0,
              "#0d0887"
             ],
             [
              0.1111111111111111,
              "#46039f"
             ],
             [
              0.2222222222222222,
              "#7201a8"
             ],
             [
              0.3333333333333333,
              "#9c179e"
             ],
             [
              0.4444444444444444,
              "#bd3786"
             ],
             [
              0.5555555555555556,
              "#d8576b"
             ],
             [
              0.6666666666666666,
              "#ed7953"
             ],
             [
              0.7777777777777778,
              "#fb9f3a"
             ],
             [
              0.8888888888888888,
              "#fdca26"
             ],
             [
              1,
              "#f0f921"
             ]
            ],
            "type": "contour"
           }
          ],
          "contourcarpet": [
           {
            "colorbar": {
             "outlinewidth": 0,
             "ticks": ""
            },
            "type": "contourcarpet"
           }
          ],
          "heatmap": [
           {
            "colorbar": {
             "outlinewidth": 0,
             "ticks": ""
            },
            "colorscale": [
             [
              0,
              "#0d0887"
             ],
             [
              0.1111111111111111,
              "#46039f"
             ],
             [
              0.2222222222222222,
              "#7201a8"
             ],
             [
              0.3333333333333333,
              "#9c179e"
             ],
             [
              0.4444444444444444,
              "#bd3786"
             ],
             [
              0.5555555555555556,
              "#d8576b"
             ],
             [
              0.6666666666666666,
              "#ed7953"
             ],
             [
              0.7777777777777778,
              "#fb9f3a"
             ],
             [
              0.8888888888888888,
              "#fdca26"
             ],
             [
              1,
              "#f0f921"
             ]
            ],
            "type": "heatmap"
           }
          ],
          "histogram": [
           {
            "marker": {
             "pattern": {
              "fillmode": "overlay",
              "size": 10,
              "solidity": 0.2
             }
            },
            "type": "histogram"
           }
          ],
          "histogram2d": [
           {
            "colorbar": {
             "outlinewidth": 0,
             "ticks": ""
            },
            "colorscale": [
             [
              0,
              "#0d0887"
             ],
             [
              0.1111111111111111,
              "#46039f"
             ],
             [
              0.2222222222222222,
              "#7201a8"
             ],
             [
              0.3333333333333333,
              "#9c179e"
             ],
             [
              0.4444444444444444,
              "#bd3786"
             ],
             [
              0.5555555555555556,
              "#d8576b"
             ],
             [
              0.6666666666666666,
              "#ed7953"
             ],
             [
              0.7777777777777778,
              "#fb9f3a"
             ],
             [
              0.8888888888888888,
              "#fdca26"
             ],
             [
              1,
              "#f0f921"
             ]
            ],
            "type": "histogram2d"
           }
          ],
          "histogram2dcontour": [
           {
            "colorbar": {
             "outlinewidth": 0,
             "ticks": ""
            },
            "colorscale": [
             [
              0,
              "#0d0887"
             ],
             [
              0.1111111111111111,
              "#46039f"
             ],
             [
              0.2222222222222222,
              "#7201a8"
             ],
             [
              0.3333333333333333,
              "#9c179e"
             ],
             [
              0.4444444444444444,
              "#bd3786"
             ],
             [
              0.5555555555555556,
              "#d8576b"
             ],
             [
              0.6666666666666666,
              "#ed7953"
             ],
             [
              0.7777777777777778,
              "#fb9f3a"
             ],
             [
              0.8888888888888888,
              "#fdca26"
             ],
             [
              1,
              "#f0f921"
             ]
            ],
            "type": "histogram2dcontour"
           }
          ],
          "mesh3d": [
           {
            "colorbar": {
             "outlinewidth": 0,
             "ticks": ""
            },
            "type": "mesh3d"
           }
          ],
          "parcoords": [
           {
            "line": {
             "colorbar": {
              "outlinewidth": 0,
              "ticks": ""
             }
            },
            "type": "parcoords"
           }
          ],
          "pie": [
           {
            "automargin": true,
            "type": "pie"
           }
          ],
          "scatter": [
           {
            "fillpattern": {
             "fillmode": "overlay",
             "size": 10,
             "solidity": 0.2
            },
            "type": "scatter"
           }
          ],
          "scatter3d": [
           {
            "line": {
             "colorbar": {
              "outlinewidth": 0,
              "ticks": ""
             }
            },
            "marker": {
             "colorbar": {
              "outlinewidth": 0,
              "ticks": ""
             }
            },
            "type": "scatter3d"
           }
          ],
          "scattercarpet": [
           {
            "marker": {
             "colorbar": {
              "outlinewidth": 0,
              "ticks": ""
             }
            },
            "type": "scattercarpet"
           }
          ],
          "scattergeo": [
           {
            "marker": {
             "colorbar": {
              "outlinewidth": 0,
              "ticks": ""
             }
            },
            "type": "scattergeo"
           }
          ],
          "scattergl": [
           {
            "marker": {
             "colorbar": {
              "outlinewidth": 0,
              "ticks": ""
             }
            },
            "type": "scattergl"
           }
          ],
          "scattermap": [
           {
            "marker": {
             "colorbar": {
              "outlinewidth": 0,
              "ticks": ""
             }
            },
            "type": "scattermap"
           }
          ],
          "scattermapbox": [
           {
            "marker": {
             "colorbar": {
              "outlinewidth": 0,
              "ticks": ""
             }
            },
            "type": "scattermapbox"
           }
          ],
          "scatterpolar": [
           {
            "marker": {
             "colorbar": {
              "outlinewidth": 0,
              "ticks": ""
             }
            },
            "type": "scatterpolar"
           }
          ],
          "scatterpolargl": [
           {
            "marker": {
             "colorbar": {
              "outlinewidth": 0,
              "ticks": ""
             }
            },
            "type": "scatterpolargl"
           }
          ],
          "scatterternary": [
           {
            "marker": {
             "colorbar": {
              "outlinewidth": 0,
              "ticks": ""
             }
            },
            "type": "scatterternary"
           }
          ],
          "surface": [
           {
            "colorbar": {
             "outlinewidth": 0,
             "ticks": ""
            },
            "colorscale": [
             [
              0,
              "#0d0887"
             ],
             [
              0.1111111111111111,
              "#46039f"
             ],
             [
              0.2222222222222222,
              "#7201a8"
             ],
             [
              0.3333333333333333,
              "#9c179e"
             ],
             [
              0.4444444444444444,
              "#bd3786"
             ],
             [
              0.5555555555555556,
              "#d8576b"
             ],
             [
              0.6666666666666666,
              "#ed7953"
             ],
             [
              0.7777777777777778,
              "#fb9f3a"
             ],
             [
              0.8888888888888888,
              "#fdca26"
             ],
             [
              1,
              "#f0f921"
             ]
            ],
            "type": "surface"
           }
          ],
          "table": [
           {
            "cells": {
             "fill": {
              "color": "#EBF0F8"
             },
             "line": {
              "color": "white"
             }
            },
            "header": {
             "fill": {
              "color": "#C8D4E3"
             },
             "line": {
              "color": "white"
             }
            },
            "type": "table"
           }
          ]
         },
         "layout": {
          "annotationdefaults": {
           "arrowcolor": "#2a3f5f",
           "arrowhead": 0,
           "arrowwidth": 1
          },
          "autotypenumbers": "strict",
          "coloraxis": {
           "colorbar": {
            "outlinewidth": 0,
            "ticks": ""
           }
          },
          "colorscale": {
           "diverging": [
            [
             0,
             "#8e0152"
            ],
            [
             0.1,
             "#c51b7d"
            ],
            [
             0.2,
             "#de77ae"
            ],
            [
             0.3,
             "#f1b6da"
            ],
            [
             0.4,
             "#fde0ef"
            ],
            [
             0.5,
             "#f7f7f7"
            ],
            [
             0.6,
             "#e6f5d0"
            ],
            [
             0.7,
             "#b8e186"
            ],
            [
             0.8,
             "#7fbc41"
            ],
            [
             0.9,
             "#4d9221"
            ],
            [
             1,
             "#276419"
            ]
           ],
           "sequential": [
            [
             0,
             "#0d0887"
            ],
            [
             0.1111111111111111,
             "#46039f"
            ],
            [
             0.2222222222222222,
             "#7201a8"
            ],
            [
             0.3333333333333333,
             "#9c179e"
            ],
            [
             0.4444444444444444,
             "#bd3786"
            ],
            [
             0.5555555555555556,
             "#d8576b"
            ],
            [
             0.6666666666666666,
             "#ed7953"
            ],
            [
             0.7777777777777778,
             "#fb9f3a"
            ],
            [
             0.8888888888888888,
             "#fdca26"
            ],
            [
             1,
             "#f0f921"
            ]
           ],
           "sequentialminus": [
            [
             0,
             "#0d0887"
            ],
            [
             0.1111111111111111,
             "#46039f"
            ],
            [
             0.2222222222222222,
             "#7201a8"
            ],
            [
             0.3333333333333333,
             "#9c179e"
            ],
            [
             0.4444444444444444,
             "#bd3786"
            ],
            [
             0.5555555555555556,
             "#d8576b"
            ],
            [
             0.6666666666666666,
             "#ed7953"
            ],
            [
             0.7777777777777778,
             "#fb9f3a"
            ],
            [
             0.8888888888888888,
             "#fdca26"
            ],
            [
             1,
             "#f0f921"
            ]
           ]
          },
          "colorway": [
           "#636efa",
           "#EF553B",
           "#00cc96",
           "#ab63fa",
           "#FFA15A",
           "#19d3f3",
           "#FF6692",
           "#B6E880",
           "#FF97FF",
           "#FECB52"
          ],
          "font": {
           "color": "#2a3f5f"
          },
          "geo": {
           "bgcolor": "white",
           "lakecolor": "white",
           "landcolor": "#E5ECF6",
           "showlakes": true,
           "showland": true,
           "subunitcolor": "white"
          },
          "hoverlabel": {
           "align": "left"
          },
          "hovermode": "closest",
          "mapbox": {
           "style": "light"
          },
          "paper_bgcolor": "white",
          "plot_bgcolor": "#E5ECF6",
          "polar": {
           "angularaxis": {
            "gridcolor": "white",
            "linecolor": "white",
            "ticks": ""
           },
           "bgcolor": "#E5ECF6",
           "radialaxis": {
            "gridcolor": "white",
            "linecolor": "white",
            "ticks": ""
           }
          },
          "scene": {
           "xaxis": {
            "backgroundcolor": "#E5ECF6",
            "gridcolor": "white",
            "gridwidth": 2,
            "linecolor": "white",
            "showbackground": true,
            "ticks": "",
            "zerolinecolor": "white"
           },
           "yaxis": {
            "backgroundcolor": "#E5ECF6",
            "gridcolor": "white",
            "gridwidth": 2,
            "linecolor": "white",
            "showbackground": true,
            "ticks": "",
            "zerolinecolor": "white"
           },
           "zaxis": {
            "backgroundcolor": "#E5ECF6",
            "gridcolor": "white",
            "gridwidth": 2,
            "linecolor": "white",
            "showbackground": true,
            "ticks": "",
            "zerolinecolor": "white"
           }
          },
          "shapedefaults": {
           "line": {
            "color": "#2a3f5f"
           }
          },
          "ternary": {
           "aaxis": {
            "gridcolor": "white",
            "linecolor": "white",
            "ticks": ""
           },
           "baxis": {
            "gridcolor": "white",
            "linecolor": "white",
            "ticks": ""
           },
           "bgcolor": "#E5ECF6",
           "caxis": {
            "gridcolor": "white",
            "linecolor": "white",
            "ticks": ""
           }
          },
          "title": {
           "x": 0.05
          },
          "xaxis": {
           "automargin": true,
           "gridcolor": "white",
           "linecolor": "white",
           "ticks": "",
           "title": {
            "standoff": 15
           },
           "zerolinecolor": "white",
           "zerolinewidth": 2
          },
          "yaxis": {
           "automargin": true,
           "gridcolor": "white",
           "linecolor": "white",
           "ticks": "",
           "title": {
            "standoff": 15
           },
           "zerolinecolor": "white",
           "zerolinewidth": 2
          }
         }
        },
        "title": {
         "text": "Regression scores between patients against PARPi7 sig scores"
        },
        "xaxis": {
         "anchor": "y",
         "domain": [
          0,
          1
         ],
         "title": {
          "text": "PARPi7 Signal"
         }
        },
        "yaxis": {
         "anchor": "x",
         "domain": [
          0,
          1
         ],
         "title": {
          "text": "Predictions"
         }
        }
       }
      }
     },
     "metadata": {},
     "output_type": "display_data"
    }
   ],
   "source": [
    "\n",
    "\n",
    "# Scale the data\n",
    "scaler = StandardScaler()\n",
    "scaled_data = scaler.fit_transform(validation_subset)\n",
    "\n",
    "# Step 5: Make predictions using the trained model\n",
    "predictions = model.predict(scaled_data)\n",
    "print(predictions)\n",
    "\n",
    "# -------------------------\n",
    "# 3. Load and Preprocess Response Data\n",
    "# -------------------------\n",
    "ispy2_response = pd.read_csv(\n",
    "    '../data/validation/GSE173839_ISPY2_DurvalumabOlaparibArm_biomarkers.csv'\n",
    ")\n",
    "# Adjust pCR.status (-1 indicates control arm)\n",
    "ispy2_response.loc[ispy2_response[\"pCR.status\"] == -1, \"pCR.status\"] = 0\n",
    "\n",
    "ispy2_response.sort_values(by='ResearchID', inplace=True)\n",
    "ispy2_response[\"ResearchID\"] = ispy2_response[\"ResearchID\"].astype(str).str.strip()\n",
    "\n",
    "# Subset expression data to match the ResearchID order in the response data\n",
    "ispy2_expr = ispy2_expr[ispy2_response[\"ResearchID\"]]\n",
    "ispy2_response.set_index('ResearchID', inplace=True)\n",
    "\n",
    "# -------------------------\n",
    "# 4. Merge Expression and Response Data\n",
    "# -------------------------\n",
    "# Find common indices between the expression and response datasets\n",
    "common_indices = ispy2_expr_transposed.index.intersection(ispy2_response.index)\n",
    "\n",
    "# Filter both DataFrames to include only the common indices (maintaining order)\n",
    "filtered_ispy_probe = ispy2_expr_transposed.loc[common_indices]\n",
    "filtered_ispy_response = ispy2_response.loc[common_indices]\n",
    "\n",
    "# Append model predictions to the response DataFrame\n",
    "filtered_ispy_response['predictions'] = predictions\n",
    "\n",
    "# -------------------------\n",
    "# 5. Visualization: Box Plot of Predictions by pCR.status\n",
    "# -------------------------\n",
    "px.box(\n",
    "    filtered_ispy_response,\n",
    "    y='predictions',\n",
    "    x='pCR.status',\n",
    "    points=\"all\",\n",
    "    title=\"Distribution of regression scores between patients' complete pathological response\"\n",
    ")\n",
    "\n",
    "# -------------------------\n",
    "# 6. Statistical Testing: Welch's t-test & Mann-Whitney U Test\n",
    "# -------------------------\n",
    "group_0 = filtered_ispy_response.loc[filtered_ispy_response['pCR.status'] == 0, 'predictions']\n",
    "group_1 = filtered_ispy_response.loc[filtered_ispy_response['pCR.status'] == 1, 'predictions']\n",
    "\n",
    "t_stat, p_value_t = ttest_ind(group_0, group_1, equal_var=False)\n",
    "print(f\"Welch's t-test: t = {t_stat:.4f}, p = {p_value_t:.4f}\")\n",
    "\n",
    "u_stat, p_value_u = mannwhitneyu(group_0, group_1, alternative='two-sided')\n",
    "print(f\"Mann-Whitney U test: U = {u_stat:.4f}, p = {p_value_u:.4f}\")\n",
    "\n",
    "# -------------------------\n",
    "# 7. Visualization: Scatter Plot with Pearson Correlation\n",
    "# -------------------------\n",
    "# Data for plotting\n",
    "x = filtered_ispy_response['PARPi7_sig.']\n",
    "y = filtered_ispy_response['predictions']\n",
    "\n",
    "# Calculate Pearson correlation coefficient and p-value\n",
    "r_value, p_value = pearsonr(x, y)\n",
    "\n",
    "# Create scatter plot with regression trendline\n",
    "fig = px.scatter(\n",
    "    filtered_ispy_response,\n",
    "    x='PARPi7_sig.',\n",
    "    y='predictions',\n",
    "    title=\"Regression scores between patients against PARPi7 sig scores\",\n",
    "    labels={'PARPi7_sig.': 'PARPi7 Signal', 'predictions': 'Predictions'},\n",
    "    color='pCR.status',\n",
    "    trendline=\"ols\",  # Add regression line\n",
    "    color_continuous_scale='magenta'  # Use a more subtle color palette\n",
    ")\n",
    "\n",
    "# Add annotation for Pearson R and p-value\n",
    "fig.add_annotation(\n",
    "    x=np.mean(x),\n",
    "    y=np.max(y),\n",
    "    text=f\"Pearson R: {r_value:.2f}<br>p-value: {p_value:.2e}\",\n",
    "    showarrow=False,\n",
    "    font=dict(size=14, color=\"black\"),\n",
    "    align=\"center\",\n",
    "    bordercolor=\"black\",\n",
    "    borderwidth=1,\n",
    "    borderpad=4,\n",
    "    bgcolor=\"white\",\n",
    "    opacity=1.0\n",
    ")\n",
    "\n",
    "# Display the scatter plot\n",
    "fig.show()\n"
   ]
  },
  {
   "cell_type": "code",
   "execution_count": null,
   "metadata": {},
   "outputs": [],
   "source": []
  }
 ],
 "metadata": {
  "kernelspec": {
   "display_name": "hrdclas",
   "language": "python",
   "name": "python3"
  },
  "language_info": {
   "codemirror_mode": {
    "name": "ipython",
    "version": 3
   },
   "file_extension": ".py",
   "mimetype": "text/x-python",
   "name": "python",
   "nbconvert_exporter": "python",
   "pygments_lexer": "ipython3",
   "version": "3.12.7"
  }
 },
 "nbformat": 4,
 "nbformat_minor": 2
}
