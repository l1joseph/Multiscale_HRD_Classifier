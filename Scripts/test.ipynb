{
 "cells": [
  {
   "cell_type": "code",
   "execution_count": 7,
   "metadata": {},
   "outputs": [
    {
     "name": "stdout",
     "output_type": "stream",
     "text": [
      "fpkm shape(887, 60660)\n",
      "deconvo shape(835, 9853)\n",
      "tpm shape(887, 60660)\n",
      "event.PAM50\n",
      "LumA     464\n",
      "LumB     193\n",
      "Basal    146\n",
      "Her2      74\n",
      "Name: count, dtype: int64\n"
     ]
    }
   ],
   "source": [
    "import pandas as pd\n",
    "import numpy as np\n",
    "import matplotlib.pyplot as plt\n",
    "import seaborn as sns\n",
    "from sklearn.preprocessing import StandardScaler, LabelEncoder\n",
    "from sklearn.linear_model import LinearRegression, LogisticRegression, ElasticNet, LogisticRegressionCV\n",
    "from sklearn.ensemble import RandomForestClassifier, GradientBoostingClassifier, RandomForestRegressor, GradientBoostingRegressor\n",
    "from sklearn.metrics import roc_curve, auc, confusion_matrix, classification_report, mean_squared_error, r2_score\n",
    "from sklearn.model_selection import ParameterGrid, train_test_split\n",
    "from scipy.stats import pearsonr\n",
    "from sklearn.model_selection import ParameterSampler\n",
    "import joblib\n",
    "\n",
    "# metadata\n",
    "ann_tcga = pd.read_csv('../data/toga.breast.brca.status.txt', sep='\\t', index_col=0)\n",
    "hrd_scores = pd.read_excel('../data/tcga.hrdscore.xlsx', index_col=0)\n",
    "\n",
    "# rnaseq versions\n",
    "fpkm = pd.read_csv('../data/tcga.brca.rnaseq.unstranded.fpkm.counts.matrix.txt', sep='\\t', index_col=0)\n",
    "deconvo = pd.read_csv('../data/Deconvo2.csv',  index_col=0)\n",
    "tpm = pd.read_csv('../data/tpm.csv', index_col=0, low_memory=False)\n",
    "\n",
    "# ann_tcga[ann_tcga['event.PALB2'].ne('0')]\n",
    "# ann_tcga[ann_tcga['event.RAD51C'].ne('0')]\n",
    "metadata = ann_tcga[~ann_tcga['event.RAD51C'].ne('0')]\n",
    "metadata = metadata[~metadata['event.PALB2'].ne('0')]\n",
    "metadata = metadata[metadata['event.BRCA1'] != '1']\n",
    "metadata.index = metadata.index.str.replace('.', '-', regex=False)\n",
    "hrd_scores.index = hrd_scores.index.map(lambda x: x[:12])\n",
    "metadata = metadata.merge(hrd_scores[['HRD-sum']], left_index=True, right_index=True, how='inner')\n",
    "\n",
    "\n",
    "fpkm = fpkm.set_index('Case ID')\n",
    "fpkm = fpkm[fpkm['Sample Type'] == 'Primary Tumor']\n",
    "fpkm = fpkm.drop(columns=[\"Sample ID\",\"Sample Type\"])\n",
    "\n",
    "\n",
    "dick = {}\n",
    "for i, v in enumerate(fpkm.columns):\n",
    "    # print(i,v)\n",
    "    dick[v.split('|')[0]] =v.split('|')[1]\n",
    "tpm = tpm.rename(columns=dick)\n",
    "tpm = tpm[~tpm.index.duplicated(keep='first')]\n",
    "\n",
    "# Keeps only Primary Tumor\n",
    "tpm = tpm.loc[tpm.index.str[13:15] == \"01\"]\n",
    "\n",
    "# deconvo = deconvo.sort_index()\n",
    "# deconvo = np.log2(deconvo + 1)\n",
    "fpkm.columns = [col.split('|')[1] if '|' in col else col for col in fpkm.columns]\n",
    "fpkm.index = fpkm.index.map(lambda x: x[:12])\n",
    "fpkm = fpkm.loc[fpkm.index.intersection(metadata.index)]\n",
    "fpkm.sort_index(inplace=True)\n",
    "fpkm = fpkm.rename_axis(\"fpkm\", axis=\"index\")\n",
    "fpkm = fpkm.apply(pd.to_numeric, errors='coerce')\n",
    "fpkm.fillna(0, inplace=True)\n",
    "\n",
    "deconvo.index = deconvo.index.map(lambda x: x[:12])\n",
    "deconvo = deconvo.loc[deconvo.index.intersection(metadata.index)]\n",
    "deconvo.sort_index(inplace=True)\n",
    "deconvo = deconvo.rename_axis(\"deconvo\", axis=\"index\")\n",
    "deconvo.fillna(0, inplace=True)\n",
    "\n",
    "tpm.index = tpm.index.map(lambda x: x[:12])\n",
    "tpm = tpm.loc[tpm.index.intersection(metadata.index)]\n",
    "tpm.sort_index(inplace=True)\n",
    "tpm = tpm.rename_axis(\"tpm\", axis=\"index\")\n",
    "tpm = tpm.apply(pd.to_numeric, errors='coerce')\n",
    "tpm.fillna(0, inplace=True)\n",
    "\n",
    "\n",
    "\n",
    "print(f\"fpkm shape{fpkm.shape}\")\n",
    "print(f\"deconvo shape{deconvo.shape}\")\n",
    "print(f\"tpm shape{tpm.shape}\")\n",
    "\n",
    "\n",
    "# plt.figure(figsize=(10, 6))\n",
    "# sns.histplot(data=metadata, x='HRD-sum', hue='event.PAM50', multiple='layer', kde=True)\n",
    "# plt.title('Histogram of HRD-sum with PAM50 Subtypes')\n",
    "# plt.xlabel('HRD-sum')\n",
    "# plt.ylabel('Frequency')\n",
    "# plt.show()\n",
    "pam50_counts = metadata['event.PAM50'].value_counts()\n",
    "print(pam50_counts)\n",
    "\n",
    "\n",
    "def downsampling_lumA(metadata, lumA_cutoff):\n",
    "    lumA_HRD = metadata[(metadata['event.PAM50'] == 'LumA') & (metadata['HRD-sum'] >= lumA_cutoff)]\n",
    "    lumA_HRP = metadata[(metadata['event.PAM50'] == 'LumA') & (metadata['HRD-sum'] < lumA_cutoff)]\n",
    "    # print(lumA_HRP.shape, lumA_HRD.shape)\n",
    "    if lumA_HRP.shape[0] < lumA_HRD.shape[0]:\n",
    "        print(f\"Not enough HRP samples ({lumA_HRP.shape[0]}) to match HRD count ({lumA_HRD.shape[0]}). Skipping downsampling.\")\n",
    "        return metadata, pd.DataFrame()\n",
    "    lumA_HRP_downsampled = lumA_HRP.sample(n=lumA_HRD.shape[0], random_state=42)\n",
    "    df_downsampled = pd.concat([lumA_HRD, lumA_HRP_downsampled])\n",
    "    df_downsampled = pd.concat([df_downsampled, metadata[metadata['event.PAM50'] != 'LumA']])\n",
    "    # print(df_downsampled['event.PAM50'].value_counts())\n",
    "    print(f\"number of samples left: {df_downsampled.shape}\")\n",
    "    unused_majority = lumA_HRP.loc[~lumA_HRP.index.isin(lumA_HRP_downsampled.index)]\n",
    "    return df_downsampled, unused_majority\n",
    "\n",
    "# df_downsampled, removed_samples = downsampling_lumA(metadata, 23)\n",
    "\n",
    "def add_back_test(rna_df, removed_samples, X_test,y_test):\n",
    "    add_back_features = rna_df.loc[rna_df.index.intersection(removed_samples.index)]\n",
    "    add_back_features = add_back_features.sort_index()\n",
    "\n",
    "    add_back_y = removed_samples.loc[removed_samples.index.intersection(rna_df.index)]\n",
    "    add_back_y = add_back_y.sort_index()\n",
    "\n",
    "    X_test = pd.concat([X_test, add_back_features])\n",
    "    y_test = pd.concat([y_test, add_back_y['HRD-sum'].squeeze()])\n",
    "    return X_test, y_test\n",
    "\n",
    "# X_test,y_test = add_back_test(deconvo, removed_samples, X_test, y_test)\n",
    "\n",
    "def sigmoid_transform(values, shift=0, scale=1):\n",
    "    return 1 / (1 + np.exp(-scale * (values - shift)))\n",
    "def binary_hrd(values, threshold):\n",
    "    return (values >= threshold).astype(int)\n",
    "\n",
    "def plot_test_train_pam50_dist(metadata, X_train, X_test):\n",
    "    plt.figure(figsize=(10, 6))\n",
    "    sns.histplot(data=metadata.loc[metadata.index.intersection(X_test.index)], x='HRD-sum', hue='event.PAM50', multiple='layer', kde=True)\n",
    "    plt.title('Test Distribution')\n",
    "    plt.xlabel('HRD-sum')\n",
    "    plt.ylabel('Frequency')\n",
    "    plt.show()\n",
    "\n",
    "    plt.figure(figsize=(10, 6))\n",
    "    sns.histplot(data=metadata.loc[metadata.index.intersection(X_train.index)], x='HRD-sum', hue='event.PAM50', multiple='layer', kde=True)\n",
    "    plt.title('Train Distribution')\n",
    "    plt.xlabel('HRD-sum')\n",
    "    plt.ylabel('Frequency')\n",
    "    plt.show()\n",
    "\n",
    "    # pam50_counts = df_downsampled['event.PAM50'].value_counts()\n",
    "    # print(pam50_counts)\n",
    "    # print(df_downsampled.shape)\n",
    "# plot_test_train_pam50_dist(metadata, X_train, X_test)\n",
    "\n",
    "\n",
    "\n",
    "alphas = [0.01, 0.1, 0.25, 0.5, 1.0]\n",
    "l1_ratios = [0.1, 0.5, 0.7, 0.9]\n",
    "rna_seqs = [deconvo, tpm, fpkm]\n",
    "downsample = [(True, False),(True,False), (False,False)]\n",
    "downsample_thresholds = [x for x in range(10, 80, 5)]\n",
    "softlabels = [\"None\", \"Sigmoid\", \"Binary\"]\n",
    "softlabel_thresholds = [x for x in range(10, 80, 5)]\n",
    "softlabel_gradients = np.arange(0, 1, 0.1)\n",
    "normalization = ['StandardScaler','log2','None']\n",
    "\n",
    "\n",
    "\n",
    "best_model = None\n",
    "best_metrics = {'Mean Squared Error': float('inf'), 'R^2 Score': -float('inf')}\n",
    "best_params = {}\n",
    "\n",
    "# Grid search\n",
    "param_distributions = {'alpha': alphas, 'l1_ratio': l1_ratios,\n",
    "                            'rna-seq': rna_seqs, 'downsample': downsample,\n",
    "                            'downsample_thresholds': downsample_thresholds,'softlabels': softlabels,\n",
    "                            'softlabel_thresholds': softlabel_thresholds, 'softlabel_gradients': softlabel_gradients,\n",
    "                            'normalization': normalization}\n",
    "\n",
    "\n",
    "\n"
   ]
  },
  {
   "cell_type": "code",
   "execution_count": 8,
   "metadata": {},
   "outputs": [],
   "source": [
    "n_iter = 50  # You can adjust this value based on your computational resources\n",
    "\n",
    "# Generate random combinations of parameters\n",
    "random_params = list(ParameterSampler(param_distributions, n_iter=n_iter, random_state=42))\n",
    "\n",
    "def get_variable_name(var):\n",
    "    conv = {deconvo:'deconvo', tpm:'tpm', fpkm:'fpkm'}\n",
    "    return conv[var]"
   ]
  },
  {
   "cell_type": "code",
   "execution_count": null,
   "metadata": {},
   "outputs": [],
   "source": [
    "\n",
    "for iteration, params in enumerate(random_params):\n",
    "    # print(params)\n",
    "    # print(iteration, end=' ')\n",
    "    # print({k: (v.index.name if k == 'rna-seq' else v) for k, v in params.items()})\n",
    "    \n",
    "    # Split data into training and test sets and get intersecting indices\n",
    "    features_df = params['rna-seq']\n",
    "\n",
    "    metadata_truncated = metadata.loc[metadata.index.intersection(features_df.index)]\n",
    "    # features_df = features_df.loc[features_df.index.intersection(metadata_truncated.index)]\n",
    "\n",
    "    labels_df = metadata_truncated['HRD-sum']\n",
    "    labels_df = labels_df.sort_index()\n",
    "    features_df = features_df.sort_index()\n",
    "\n",
    "    if params['normalization'] == 'StandardScaler':\n",
    "        scaler = StandardScaler()\n",
    "        features_df = pd.DataFrame(scaler.fit_transform(features_df), index=features_df.index, columns=features_df.columns)\n",
    "    elif params['normalization'] == 'log2':\n",
    "        features_df = np.log2(features_df + 1)\n",
    "\n",
    "    # Apply soft labels\n",
    "    if params['softlabels'] == \"Sigmoid\":\n",
    "        labels_df = sigmoid_transform(labels_df, params['softlabel_thresholds'], params['softlabel_gradients'])\n",
    "    elif params['softlabels'] == \"Binary\":\n",
    "        labels_df = binary_hrd(labels_df, params['softlabel_thresholds'])\n",
    "\n",
    "\n",
    "    # Downsample LumA samples\n",
    "    if params['downsample'][0]:\n",
    "        df_downsampled, removed_samples = downsampling_lumA(metadata_truncated, params['downsample_thresholds'])\n",
    "        features_df = features_df.loc[features_df.index.intersection(df_downsampled.index)]\n",
    "        labels_df = df_downsampled.loc[df_downsampled.index.intersection(features_df.index), 'HRD-sum']\n",
    "    labels = labels_df.squeeze()\n",
    "\n",
    "    #TEST TRAIN SPLIT\n",
    "    X_train, X_test, y_train, y_test = train_test_split(features_df, labels, test_size=0.2, random_state=42)\n",
    "    \n",
    "    if params['downsample'][1]:\n",
    "        X_test,y_test = add_back_test(features_df, removed_samples, X_test, y_test)\n",
    "        \n",
    "    \n",
    "    model = ElasticNet(alpha=params['alpha'], l1_ratio=params['l1_ratio'], max_iter=1000, random_state=42)\n",
    "    model.fit(X_train, y_train)\n",
    "    \n",
    "    # Predict on test set\n",
    "    y_pred = model.predict(X_test)\n",
    "    mse = mean_squared_error(y_test, y_pred)\n",
    "    r2 = r2_score(y_test, y_pred)\n",
    "    \n",
    "    # Update best model if current is better\n",
    "    # if mse < best_metrics['Mean Squared Error']:\n",
    "    if mse < best_metrics['Mean Squared Error'] or (mse == best_metrics['Mean Squared Error'] and r2 > best_metrics['R^2 Score']):\n",
    "        best_model = model\n",
    "        best_metrics = {'Mean Squared Error': mse, 'R^2 Score': r2}\n",
    "        best_params = params\n",
    "        best_X_train = X_train\n",
    "        best_X_test = X_test\n",
    "    if iteration % 100 == 0:\n",
    "        print(iteration, end=' ')\n",
    "        print({k: (v.index.name if k == 'rna-seq' else v) for k, v in best_params.items()})\n",
    "        joblib.dump(best_model, 'model.joblib')\n",
    "        y_pred_best = best_model.predict(X_test)\n",
    "        plt.figure(figsize=(8, 6))\n",
    "        plt.scatter(y_test, y_pred_best, alpha=0.6, label='Predicted vs Actual')\n",
    "        plt.plot([min(y_test), max(y_test)], [min(y_test), max(y_test)], 'k--', label='Ideal Prediction')\n",
    "        plt.xlabel('Actual Values')\n",
    "        plt.ylabel('Predicted Values')\n",
    "        plt.title('Elastic Net Regression: Predicted vs Actual (Best Model)')\n",
    "        plt.legend(loc=\"upper left\")\n",
    "        plt.savefig(\"plot_output.png\")\n",
    "        \n",
    "# Scatter plot of predictions vs actual values for the best model\n",
    "y_pred_best = best_model.predict(X_test)\n",
    "plt.figure(figsize=(8, 6))\n",
    "plt.scatter(y_test, y_pred_best, alpha=0.6, label='Predicted vs Actual')\n",
    "plt.plot([min(y_test), max(y_test)], [min(y_test), max(y_test)], 'k--', label='Ideal Prediction')\n",
    "plt.xlabel('Actual Values')\n",
    "plt.ylabel('Predicted Values')\n",
    "plt.title('Elastic Net Regression: Predicted vs Actual (Best Model)')\n",
    "plt.legend(loc=\"upper left\")\n",
    "plt.show()\n",
    "plot_test_train_pam50_dist(metadata, best_X_train, best_X_test)\n",
    "print(f\"Best Parameters: {best_params}\")\n",
    "print(f\"Mean Squared Error: {best_metrics['Mean Squared Error']:.3f}\")\n",
    "print(f\"R^2 Score: {best_metrics['R^2 Score']:.3f}\")\n",
    "\n",
    "# return best_model, best_metrics, best_params\n",
    "elastic_model = best_model\n",
    "metrics = best_metrics\n",
    "params = best_params\n",
    "joblib.dump(best_model, 'model.joblib')\n"
   ]
  },
  {
   "cell_type": "code",
   "execution_count": 9,
   "metadata": {},
   "outputs": [
    {
     "name": "stdout",
     "output_type": "stream",
     "text": [
      "number of samples left: (463, 34)\n",
      "number of samples left: (451, 34)\n",
      "number of samples left: (781, 34)\n",
      "number of samples left: (463, 34)\n",
      "number of samples left: (493, 34)\n",
      "number of samples left: (487, 34)\n",
      "number of samples left: (427, 34)\n"
     ]
    },
    {
     "name": "stderr",
     "output_type": "stream",
     "text": [
      "/opt/homebrew/Caskroom/miniconda/base/envs/hrd/lib/python3.11/site-packages/sklearn/linear_model/_coordinate_descent.py:695: ConvergenceWarning: Objective did not converge. You might want to increase the number of iterations, check the scale of the features or consider increasing regularisation. Duality gap: 2.053e+03, tolerance: 1.721e+01\n",
      "  model = cd_fast.enet_coordinate_descent(\n",
      "/opt/homebrew/Caskroom/miniconda/base/envs/hrd/lib/python3.11/site-packages/sklearn/linear_model/_coordinate_descent.py:695: ConvergenceWarning: Objective did not converge. You might want to increase the number of iterations, check the scale of the features or consider increasing regularisation. Duality gap: 5.926e+01, tolerance: 1.534e+01\n",
      "  model = cd_fast.enet_coordinate_descent(\n",
      "/opt/homebrew/Caskroom/miniconda/base/envs/hrd/lib/python3.11/site-packages/sklearn/linear_model/_coordinate_descent.py:695: ConvergenceWarning: Objective did not converge. You might want to increase the number of iterations, check the scale of the features or consider increasing regularisation. Duality gap: 2.228e+01, tolerance: 1.465e+01\n",
      "  model = cd_fast.enet_coordinate_descent(\n",
      "/opt/homebrew/Caskroom/miniconda/base/envs/hrd/lib/python3.11/site-packages/sklearn/linear_model/_coordinate_descent.py:695: ConvergenceWarning: Objective did not converge. You might want to increase the number of iterations, check the scale of the features or consider increasing regularisation. Duality gap: 1.676e+04, tolerance: 2.711e+01\n",
      "  model = cd_fast.enet_coordinate_descent(\n"
     ]
    },
    {
     "name": "stdout",
     "output_type": "stream",
     "text": [
      "number of samples left: (475, 34)\n",
      "number of samples left: (781, 34)\n",
      "number of samples left: (563, 34)\n",
      "number of samples left: (441, 34)\n",
      "number of samples left: (475, 34)\n",
      "number of samples left: (475, 34)\n",
      "number of samples left: (441, 34)\n"
     ]
    },
    {
     "name": "stderr",
     "output_type": "stream",
     "text": [
      "/opt/homebrew/Caskroom/miniconda/base/envs/hrd/lib/python3.11/site-packages/sklearn/linear_model/_coordinate_descent.py:695: ConvergenceWarning: Objective did not converge. You might want to increase the number of iterations, check the scale of the features or consider increasing regularisation. Duality gap: 6.202e+02, tolerance: 1.627e+01\n",
      "  model = cd_fast.enet_coordinate_descent(\n",
      "/opt/homebrew/Caskroom/miniconda/base/envs/hrd/lib/python3.11/site-packages/sklearn/linear_model/_coordinate_descent.py:695: ConvergenceWarning: Objective did not converge. You might want to increase the number of iterations, check the scale of the features or consider increasing regularisation. Duality gap: 1.663e+02, tolerance: 1.530e+01\n",
      "  model = cd_fast.enet_coordinate_descent(\n"
     ]
    },
    {
     "name": "stdout",
     "output_type": "stream",
     "text": [
      "number of samples left: (487, 34)\n"
     ]
    },
    {
     "name": "stderr",
     "output_type": "stream",
     "text": [
      "/opt/homebrew/Caskroom/miniconda/base/envs/hrd/lib/python3.11/site-packages/sklearn/linear_model/_coordinate_descent.py:695: ConvergenceWarning: Objective did not converge. You might want to increase the number of iterations, check the scale of the features or consider increasing regularisation. Duality gap: 1.757e+02, tolerance: 2.711e+01\n",
      "  model = cd_fast.enet_coordinate_descent(\n"
     ]
    },
    {
     "name": "stdout",
     "output_type": "stream",
     "text": [
      "number of samples left: (475, 34)\n"
     ]
    },
    {
     "name": "stderr",
     "output_type": "stream",
     "text": [
      "/opt/homebrew/Caskroom/miniconda/base/envs/hrd/lib/python3.11/site-packages/sklearn/linear_model/_coordinate_descent.py:695: ConvergenceWarning: Objective did not converge. You might want to increase the number of iterations, check the scale of the features or consider increasing regularisation. Duality gap: 9.580e+01, tolerance: 1.746e+01\n",
      "  model = cd_fast.enet_coordinate_descent(\n",
      "/opt/homebrew/Caskroom/miniconda/base/envs/hrd/lib/python3.11/site-packages/sklearn/linear_model/_coordinate_descent.py:695: ConvergenceWarning: Objective did not converge. You might want to increase the number of iterations, check the scale of the features or consider increasing regularisation. Duality gap: 7.692e+01, tolerance: 1.746e+01\n",
      "  model = cd_fast.enet_coordinate_descent(\n",
      "/opt/homebrew/Caskroom/miniconda/base/envs/hrd/lib/python3.11/site-packages/sklearn/linear_model/_coordinate_descent.py:695: ConvergenceWarning: Objective did not converge. You might want to increase the number of iterations, check the scale of the features or consider increasing regularisation. Duality gap: 5.210e+02, tolerance: 1.956e+01\n",
      "  model = cd_fast.enet_coordinate_descent(\n",
      "/opt/homebrew/Caskroom/miniconda/base/envs/hrd/lib/python3.11/site-packages/sklearn/linear_model/_coordinate_descent.py:695: ConvergenceWarning: Objective did not converge. You might want to increase the number of iterations, check the scale of the features or consider increasing regularisation. Duality gap: 2.225e+02, tolerance: 1.459e+01\n",
      "  model = cd_fast.enet_coordinate_descent(\n"
     ]
    },
    {
     "name": "stdout",
     "output_type": "stream",
     "text": [
      "number of samples left: (441, 34)\n",
      "number of samples left: (463, 34)\n"
     ]
    },
    {
     "name": "stderr",
     "output_type": "stream",
     "text": [
      "/opt/homebrew/Caskroom/miniconda/base/envs/hrd/lib/python3.11/site-packages/sklearn/linear_model/_coordinate_descent.py:695: ConvergenceWarning: Objective did not converge. You might want to increase the number of iterations, check the scale of the features or consider increasing regularisation. Duality gap: 2.884e+03, tolerance: 1.627e+01\n",
      "  model = cd_fast.enet_coordinate_descent(\n",
      "/opt/homebrew/Caskroom/miniconda/base/envs/hrd/lib/python3.11/site-packages/sklearn/linear_model/_coordinate_descent.py:695: ConvergenceWarning: Objective did not converge. You might want to increase the number of iterations, check the scale of the features or consider increasing regularisation. Duality gap: 4.093e+02, tolerance: 1.465e+01\n",
      "  model = cd_fast.enet_coordinate_descent(\n"
     ]
    },
    {
     "name": "stdout",
     "output_type": "stream",
     "text": [
      "number of samples left: (423, 34)\n"
     ]
    },
    {
     "name": "stderr",
     "output_type": "stream",
     "text": [
      "/opt/homebrew/Caskroom/miniconda/base/envs/hrd/lib/python3.11/site-packages/sklearn/linear_model/_coordinate_descent.py:695: ConvergenceWarning: Objective did not converge. You might want to increase the number of iterations, check the scale of the features or consider increasing regularisation. Duality gap: 1.187e-01, tolerance: 1.430e-02\n",
      "  model = cd_fast.enet_coordinate_descent(\n"
     ]
    },
    {
     "name": "stdout",
     "output_type": "stream",
     "text": [
      "number of samples left: (457, 34)\n"
     ]
    },
    {
     "name": "stderr",
     "output_type": "stream",
     "text": [
      "/opt/homebrew/Caskroom/miniconda/base/envs/hrd/lib/python3.11/site-packages/sklearn/linear_model/_coordinate_descent.py:695: ConvergenceWarning: Objective did not converge. You might want to increase the number of iterations, check the scale of the features or consider increasing regularisation. Duality gap: 7.213e+01, tolerance: 1.449e+01\n",
      "  model = cd_fast.enet_coordinate_descent(\n",
      "/opt/homebrew/Caskroom/miniconda/base/envs/hrd/lib/python3.11/site-packages/sklearn/linear_model/_coordinate_descent.py:695: ConvergenceWarning: Objective did not converge. You might want to increase the number of iterations, check the scale of the features or consider increasing regularisation. Duality gap: 2.429e+02, tolerance: 1.746e+01\n",
      "  model = cd_fast.enet_coordinate_descent(\n"
     ]
    },
    {
     "name": "stdout",
     "output_type": "stream",
     "text": [
      "number of samples left: (409, 34)\n",
      "number of samples left: (427, 34)\n"
     ]
    },
    {
     "name": "stderr",
     "output_type": "stream",
     "text": [
      "/opt/homebrew/Caskroom/miniconda/base/envs/hrd/lib/python3.11/site-packages/sklearn/linear_model/_coordinate_descent.py:695: ConvergenceWarning: Objective did not converge. You might want to increase the number of iterations, check the scale of the features or consider increasing regularisation. Duality gap: 5.634e+02, tolerance: 1.371e+01\n",
      "  model = cd_fast.enet_coordinate_descent(\n"
     ]
    },
    {
     "name": "stdout",
     "output_type": "stream",
     "text": [
      "number of samples left: (719, 34)\n"
     ]
    },
    {
     "name": "stderr",
     "output_type": "stream",
     "text": [
      "/opt/homebrew/Caskroom/miniconda/base/envs/hrd/lib/python3.11/site-packages/sklearn/linear_model/_coordinate_descent.py:695: ConvergenceWarning: Objective did not converge. You might want to increase the number of iterations, check the scale of the features or consider increasing regularisation. Duality gap: 8.486e+02, tolerance: 1.459e+01\n",
      "  model = cd_fast.enet_coordinate_descent(\n"
     ]
    },
    {
     "name": "stdout",
     "output_type": "stream",
     "text": [
      "number of samples left: (675, 34)\n"
     ]
    },
    {
     "name": "stderr",
     "output_type": "stream",
     "text": [
      "/opt/homebrew/Caskroom/miniconda/base/envs/hrd/lib/python3.11/site-packages/sklearn/linear_model/_coordinate_descent.py:695: ConvergenceWarning: Objective did not converge. You might want to increase the number of iterations, check the scale of the features or consider increasing regularisation. Duality gap: 2.313e+01, tolerance: 1.509e+01\n",
      "  model = cd_fast.enet_coordinate_descent(\n"
     ]
    },
    {
     "name": "stdout",
     "output_type": "stream",
     "text": [
      "number of samples left: (563, 34)\n",
      "number of samples left: (529, 34)\n",
      "number of samples left: (447, 34)\n",
      "Not enough HRP samples (169) to match HRD count (295). Skipping downsampling.\n"
     ]
    },
    {
     "name": "stderr",
     "output_type": "stream",
     "text": [
      "/opt/homebrew/Caskroom/miniconda/base/envs/hrd/lib/python3.11/site-packages/sklearn/linear_model/_coordinate_descent.py:695: ConvergenceWarning: Objective did not converge. You might want to increase the number of iterations, check the scale of the features or consider increasing regularisation. Duality gap: 5.250e+01, tolerance: 1.720e+01\n",
      "  model = cd_fast.enet_coordinate_descent(\n"
     ]
    },
    {
     "name": "stdout",
     "output_type": "stream",
     "text": [
      "number of samples left: (833, 34)\n",
      "Not enough HRP samples (169) to match HRD count (295). Skipping downsampling.\n",
      "number of samples left: (781, 34)\n"
     ]
    },
    {
     "name": "stderr",
     "output_type": "stream",
     "text": [
      "/opt/homebrew/Caskroom/miniconda/base/envs/hrd/lib/python3.11/site-packages/sklearn/linear_model/_coordinate_descent.py:695: ConvergenceWarning: Objective did not converge. You might want to increase the number of iterations, check the scale of the features or consider increasing regularisation. Duality gap: 3.587e-01, tolerance: 1.165e-02\n",
      "  model = cd_fast.enet_coordinate_descent(\n",
      "/opt/homebrew/Caskroom/miniconda/base/envs/hrd/lib/python3.11/site-packages/sklearn/linear_model/_coordinate_descent.py:695: ConvergenceWarning: Objective did not converge. You might want to increase the number of iterations, check the scale of the features or consider increasing regularisation. Duality gap: 1.702e-01, tolerance: 9.377e-03\n",
      "  model = cd_fast.enet_coordinate_descent(\n"
     ]
    },
    {
     "name": "stdout",
     "output_type": "stream",
     "text": [
      "number of samples left: (529, 34)\n"
     ]
    },
    {
     "name": "stderr",
     "output_type": "stream",
     "text": [
      "/opt/homebrew/Caskroom/miniconda/base/envs/hrd/lib/python3.11/site-packages/sklearn/linear_model/_coordinate_descent.py:695: ConvergenceWarning: Objective did not converge. You might want to increase the number of iterations, check the scale of the features or consider increasing regularisation. Duality gap: 1.807e+03, tolerance: 1.956e+01\n",
      "  model = cd_fast.enet_coordinate_descent(\n"
     ]
    },
    {
     "name": "stdout",
     "output_type": "stream",
     "text": [
      "number of samples left: (493, 34)\n"
     ]
    },
    {
     "name": "stderr",
     "output_type": "stream",
     "text": [
      "/opt/homebrew/Caskroom/miniconda/base/envs/hrd/lib/python3.11/site-packages/sklearn/linear_model/_coordinate_descent.py:695: ConvergenceWarning: Objective did not converge. You might want to increase the number of iterations, check the scale of the features or consider increasing regularisation. Duality gap: 3.096e+03, tolerance: 2.711e+01\n",
      "  model = cd_fast.enet_coordinate_descent(\n",
      "/opt/homebrew/Caskroom/miniconda/base/envs/hrd/lib/python3.11/site-packages/sklearn/linear_model/_coordinate_descent.py:695: ConvergenceWarning: Objective did not converge. You might want to increase the number of iterations, check the scale of the features or consider increasing regularisation. Duality gap: 6.175e+02, tolerance: 1.720e+01\n",
      "  model = cd_fast.enet_coordinate_descent(\n",
      "/opt/homebrew/Caskroom/miniconda/base/envs/hrd/lib/python3.11/site-packages/sklearn/linear_model/_coordinate_descent.py:695: ConvergenceWarning: Objective did not converge. You might want to increase the number of iterations, check the scale of the features or consider increasing regularisation. Duality gap: 4.056e+02, tolerance: 2.465e+01\n",
      "  model = cd_fast.enet_coordinate_descent(\n",
      "/opt/homebrew/Caskroom/miniconda/base/envs/hrd/lib/python3.11/site-packages/sklearn/linear_model/_coordinate_descent.py:695: ConvergenceWarning: Objective did not converge. You might want to increase the number of iterations, check the scale of the features or consider increasing regularisation. Duality gap: 1.925e+02, tolerance: 1.431e+01\n",
      "  model = cd_fast.enet_coordinate_descent(\n",
      "/opt/homebrew/Caskroom/miniconda/base/envs/hrd/lib/python3.11/site-packages/sklearn/linear_model/_coordinate_descent.py:695: ConvergenceWarning: Objective did not converge. You might want to increase the number of iterations, check the scale of the features or consider increasing regularisation. Duality gap: 4.915e+02, tolerance: 1.721e+01\n",
      "  model = cd_fast.enet_coordinate_descent(\n"
     ]
    },
    {
     "name": "stdout",
     "output_type": "stream",
     "text": [
      "number of samples left: (601, 34)\n",
      "number of samples left: (475, 34)\n"
     ]
    },
    {
     "name": "stderr",
     "output_type": "stream",
     "text": [
      "/opt/homebrew/Caskroom/miniconda/base/envs/hrd/lib/python3.11/site-packages/sklearn/linear_model/_coordinate_descent.py:695: ConvergenceWarning: Objective did not converge. You might want to increase the number of iterations, check the scale of the features or consider increasing regularisation. Duality gap: 2.955e+02, tolerance: 2.050e+01\n",
      "  model = cd_fast.enet_coordinate_descent(\n"
     ]
    },
    {
     "name": "stdout",
     "output_type": "stream",
     "text": [
      "number of samples left: (475, 34)\n",
      "number of samples left: (427, 34)\n"
     ]
    },
    {
     "name": "stderr",
     "output_type": "stream",
     "text": [
      "/opt/homebrew/Caskroom/miniconda/base/envs/hrd/lib/python3.11/site-packages/sklearn/linear_model/_coordinate_descent.py:695: ConvergenceWarning: Objective did not converge. You might want to increase the number of iterations, check the scale of the features or consider increasing regularisation. Duality gap: 5.448e+01, tolerance: 1.509e+01\n",
      "  model = cd_fast.enet_coordinate_descent(\n",
      "/opt/homebrew/Caskroom/miniconda/base/envs/hrd/lib/python3.11/site-packages/sklearn/linear_model/_coordinate_descent.py:695: ConvergenceWarning: Objective did not converge. You might want to increase the number of iterations, check the scale of the features or consider increasing regularisation. Duality gap: 1.953e+03, tolerance: 3.220e+01\n",
      "  model = cd_fast.enet_coordinate_descent(\n",
      "/opt/homebrew/Caskroom/miniconda/base/envs/hrd/lib/python3.11/site-packages/sklearn/linear_model/_coordinate_descent.py:695: ConvergenceWarning: Objective did not converge. You might want to increase the number of iterations, check the scale of the features or consider increasing regularisation. Duality gap: 1.784e+02, tolerance: 2.845e+01\n",
      "  model = cd_fast.enet_coordinate_descent(\n",
      "/opt/homebrew/Caskroom/miniconda/base/envs/hrd/lib/python3.11/site-packages/sklearn/linear_model/_coordinate_descent.py:695: ConvergenceWarning: Objective did not converge. You might want to increase the number of iterations, check the scale of the features or consider increasing regularisation. Duality gap: 2.725e+02, tolerance: 1.746e+01\n",
      "  model = cd_fast.enet_coordinate_descent(\n",
      "/opt/homebrew/Caskroom/miniconda/base/envs/hrd/lib/python3.11/site-packages/sklearn/linear_model/_coordinate_descent.py:695: ConvergenceWarning: Objective did not converge. You might want to increase the number of iterations, check the scale of the features or consider increasing regularisation. Duality gap: 3.684e+02, tolerance: 1.746e+01\n",
      "  model = cd_fast.enet_coordinate_descent(\n",
      "/opt/homebrew/Caskroom/miniconda/base/envs/hrd/lib/python3.11/site-packages/sklearn/linear_model/_coordinate_descent.py:695: ConvergenceWarning: Objective did not converge. You might want to increase the number of iterations, check the scale of the features or consider increasing regularisation. Duality gap: 4.742e-02, tolerance: 6.673e-03\n",
      "  model = cd_fast.enet_coordinate_descent(\n",
      "/opt/homebrew/Caskroom/miniconda/base/envs/hrd/lib/python3.11/site-packages/sklearn/linear_model/_coordinate_descent.py:695: ConvergenceWarning: Objective did not converge. You might want to increase the number of iterations, check the scale of the features or consider increasing regularisation. Duality gap: 2.371e+03, tolerance: 3.220e+01\n",
      "  model = cd_fast.enet_coordinate_descent(\n"
     ]
    },
    {
     "data": {
      "image/png": "[encoded data removed]",
      "text/plain": [
       "<Figure size 800x600 with 1 Axes>"
      ]
     },
     "metadata": {},
     "output_type": "display_data"
    },
    {
     "name": "stdout",
     "output_type": "stream",
     "text": [
      "Best Parameters: {'softlabels': 'Binary', 'softlabel_thresholds': 65, 'softlabel_gradients': 0.8, 'rna-seq':                  NOC2L  PLEKHN1      HES4     ISG15       AGRN    RNF223  \\\n",
      "deconvo                                                                    \n",
      "TCGA-A1-A0SB  2313.860   32.292   121.264    25.136   9276.024    36.484   \n",
      "TCGA-A1-A0SD  2270.804  195.848   177.600  3478.232   7527.404    65.616   \n",
      "TCGA-A1-A0SE  3380.752  150.696    68.580   320.296  11528.724   186.432   \n",
      "TCGA-A1-A0SF  4120.980  343.252    54.152   301.516  10883.852   146.044   \n",
      "TCGA-A1-A0SG  5420.084  408.852   261.284  2210.040  21232.732   257.616   \n",
      "...                ...      ...       ...       ...        ...       ...   \n",
      "TCGA-OL-A6VR  7219.260  503.968   416.080  3813.168  12927.488   223.296   \n",
      "TCGA-PE-A5DC  3238.472   81.540   325.040  4357.596   7780.216   395.696   \n",
      "TCGA-PE-A5DD  2831.028  105.652   307.956   951.340  10387.860    95.368   \n",
      "TCGA-PE-A5DE  2204.604  211.856   220.588  1032.412   5474.124    77.788   \n",
      "TCGA-V7-A7HQ  4401.916  482.160  1327.088  3442.532   9396.168  1138.012   \n",
      "\n",
      "              C1orf159  TNFRSF18      SDF4   B3GALT6  ...     COL6A2  \\\n",
      "deconvo                                               ...              \n",
      "TCGA-A1-A0SB   401.060     7.192  2828.776   551.788  ...   2243.804   \n",
      "TCGA-A1-A0SD   309.488    95.780  3089.480   885.132  ...   4223.628   \n",
      "TCGA-A1-A0SE   377.524   571.384  4192.564  1069.940  ...   4781.904   \n",
      "TCGA-A1-A0SF   541.796   523.308  5013.884  1601.472  ...   4257.988   \n",
      "TCGA-A1-A0SG   723.684   173.744  5229.796  1537.608  ...   6133.100   \n",
      "...                ...       ...       ...       ...  ...        ...   \n",
      "TCGA-OL-A6VR  1207.472   493.736  9955.004  2212.084  ...   5911.856   \n",
      "TCGA-PE-A5DC  1012.512    93.216  3966.128   515.104  ...   6350.352   \n",
      "TCGA-PE-A5DD  1218.648   108.480  4809.672   724.652  ...   6206.088   \n",
      "TCGA-PE-A5DE   587.812   239.868  3328.776   635.828  ...   4382.028   \n",
      "TCGA-V7-A7HQ  1483.968   568.420  6455.292  3187.012  ...  12299.892   \n",
      "\n",
      "               SPATC1L       LSS    MCM3AP      YBEY  C21orf58      PCNT  \\\n",
      "deconvo                                                                    \n",
      "TCGA-A1-A0SB   273.056   921.976  1677.936   326.696   224.600  1275.364   \n",
      "TCGA-A1-A0SD   453.248  2335.632  2081.432   224.372   233.580  1899.052   \n",
      "TCGA-A1-A0SE   247.084  1740.580  2071.824   333.424   193.120  1619.016   \n",
      "TCGA-A1-A0SF   576.748  1591.024  1266.920   211.308   235.060  1601.952   \n",
      "TCGA-A1-A0SG   364.436  2076.056  2683.584   296.604   307.684  1970.432   \n",
      "...                ...       ...       ...       ...       ...       ...   \n",
      "TCGA-OL-A6VR  1310.508  3112.576  3565.688   889.396   428.032  2361.216   \n",
      "TCGA-PE-A5DC   407.840  1987.700  1092.536   201.716  1147.020  1689.956   \n",
      "TCGA-PE-A5DD   631.976  1395.588  1540.508   598.424   920.848  1685.024   \n",
      "TCGA-PE-A5DE   389.956  1132.324   833.332   236.128   325.708   939.880   \n",
      "TCGA-V7-A7HQ  1482.032  1645.128   204.580  1069.556   343.400   901.776   \n",
      "\n",
      "                 DIP2A    S100B     PRMT2  \n",
      "deconvo                                    \n",
      "TCGA-A1-A0SB  1166.680  207.672  2498.916  \n",
      "TCGA-A1-A0SD  1810.340  108.920  3216.580  \n",
      "TCGA-A1-A0SE  1305.312  165.900  3120.104  \n",
      "TCGA-A1-A0SF  1150.512  202.532  2874.544  \n",
      "TCGA-A1-A0SG  1689.644   58.556  3738.876  \n",
      "...                ...      ...       ...  \n",
      "TCGA-OL-A6VR  1612.156  212.044  5121.568  \n",
      "TCGA-PE-A5DC  1683.244   86.288  3300.472  \n",
      "TCGA-PE-A5DD  2587.020   39.492  3402.324  \n",
      "TCGA-PE-A5DE   833.096  225.864  1920.796  \n",
      "TCGA-V7-A7HQ   425.800  123.304  2779.388  \n",
      "\n",
      "[835 rows x 9853 columns], 'normalization': 'log2', 'l1_ratio': 0.9, 'downsample_thresholds': 30, 'downsample': (False, False), 'alpha': 0.25}\n",
      "Mean Squared Error: 0.056\n",
      "R^2 Score: 0.094\n"
     ]
    },
    {
     "ename": "",
     "evalue": "",
     "output_type": "error",
     "traceback": [
      "\u001b[1;31mThe Kernel crashed while executing code in the current cell or a previous cell. \n",
      "\u001b[1;31mPlease review the code in the cell(s) to identify a possible cause of the failure. \n",
      "\u001b[1;31mClick <a href='https://aka.ms/vscodeJupyterKernelCrash'>here</a> for more info. \n",
      "\u001b[1;31mView Jupyter <a href='command:jupyter.viewOutput'>log</a> for further details."
     ]
    }
   ],
   "source": [
    "from joblib import Parallel, delayed\n",
    "from sklearn.preprocessing import StandardScaler\n",
    "from sklearn.linear_model import ElasticNet\n",
    "from sklearn.model_selection import train_test_split\n",
    "from sklearn.metrics import mean_squared_error, r2_score\n",
    "import numpy as np\n",
    "import pandas as pd\n",
    "import joblib\n",
    "import matplotlib.pyplot as plt\n",
    "\n",
    "def train_model(params, metadata, best_metrics):\n",
    "    features_df = params['rna-seq']\n",
    "    metadata_truncated = metadata.loc[metadata.index.intersection(features_df.index)]\n",
    "    \n",
    "    labels_df = metadata_truncated['HRD-sum'].sort_index()\n",
    "    features_df = features_df.sort_index()\n",
    "    \n",
    "    if params['normalization'] == 'StandardScaler':\n",
    "        scaler = StandardScaler()\n",
    "        features_df = pd.DataFrame(scaler.fit_transform(features_df), index=features_df.index, columns=features_df.columns)\n",
    "    elif params['normalization'] == 'log2':\n",
    "        features_df = np.log2(features_df + 1)\n",
    "\n",
    "    # Apply soft labels\n",
    "    if params['softlabels'] == \"Sigmoid\":\n",
    "        labels_df = sigmoid_transform(labels_df, params['softlabel_thresholds'], params['softlabel_gradients'])\n",
    "    elif params['softlabels'] == \"Binary\":\n",
    "        labels_df = binary_hrd(labels_df, params['softlabel_thresholds'])\n",
    "\n",
    "    # Downsample LumA samples\n",
    "    removed_samples = None\n",
    "    if params['downsample'][0]:\n",
    "        df_downsampled, removed_samples = downsampling_lumA(metadata_truncated, params['downsample_thresholds'])\n",
    "        features_df = features_df.loc[features_df.index.intersection(df_downsampled.index)]\n",
    "        labels_df = df_downsampled.loc[df_downsampled.index.intersection(features_df.index), 'HRD-sum']\n",
    "    \n",
    "    labels = labels_df.squeeze()\n",
    "\n",
    "    # Train-test split\n",
    "    X_train, X_test, y_train, y_test = train_test_split(features_df, labels, test_size=0.2, random_state=42)\n",
    "    \n",
    "    if params['downsample'][1] and removed_samples is not None:\n",
    "        X_test, y_test = add_back_test(features_df, removed_samples, X_test, y_test)\n",
    "\n",
    "    # Train model\n",
    "    model = ElasticNet(alpha=params['alpha'], l1_ratio=params['l1_ratio'], max_iter=1000, random_state=42)\n",
    "    model.fit(X_train, y_train)\n",
    "\n",
    "    # Evaluate model\n",
    "    y_pred = model.predict(X_test)\n",
    "    mse = mean_squared_error(y_test, y_pred)\n",
    "    r2 = r2_score(y_test, y_pred)\n",
    "\n",
    "    return mse, r2, model, params, X_train, X_test, y_test, y_pred\n",
    "\n",
    "\n",
    "# Parallel execution\n",
    "num_cores = -1  # Use all available cores\n",
    "results = Parallel(n_jobs=num_cores)(\n",
    "    delayed(train_model)(params, metadata, {'Mean Squared Error': float('inf'), 'R^2 Score': -float('inf')}) for params in random_params\n",
    ")\n",
    "\n",
    "# Extract best model\n",
    "best_metrics = {'Mean Squared Error': float('inf'), 'R^2 Score': -float('inf')}\n",
    "best_model = None\n",
    "best_params = None\n",
    "best_X_train, best_X_test, best_y_test, best_y_pred = None, None, None, None\n",
    "\n",
    "for mse, r2, model, params, X_train, X_test, y_test, y_pred in results:\n",
    "    if mse < best_metrics['Mean Squared Error'] or (mse == best_metrics['Mean Squared Error'] and r2 > best_metrics['R^2 Score']):\n",
    "        best_model = model\n",
    "        best_metrics = {'Mean Squared Error': mse, 'R^2 Score': r2}\n",
    "        best_params = params\n",
    "        best_X_train, best_X_test, best_y_test, best_y_pred = X_train, X_test, y_test, y_pred\n",
    "\n",
    "# Save best model\n",
    "joblib.dump(best_model, 'model.joblib')\n",
    "\n",
    "# Plot results\n",
    "plt.figure(figsize=(8, 6))\n",
    "plt.scatter(best_y_test, best_y_pred, alpha=0.6, label='Predicted vs Actual')\n",
    "plt.plot([min(best_y_test), max(best_y_test)], [min(best_y_test), max(best_y_test)], 'k--', label='Ideal Prediction')\n",
    "plt.xlabel('Actual Values')\n",
    "plt.ylabel('Predicted Values')\n",
    "plt.title('Elastic Net Regression: Predicted vs Actual (Best Model)')\n",
    "plt.legend(loc=\"upper left\")\n",
    "plt.show()\n",
    "\n",
    "print(f\"Best Parameters: {best_params}\")\n",
    "print(f\"Mean Squared Error: {best_metrics['Mean Squared Error']:.3f}\")\n",
    "print(f\"R^2 Score: {best_metrics['R^2 Score']:.3f}\")\n"
   ]
  },
  {
   "cell_type": "code",
   "execution_count": 1,
   "metadata": {},
   "outputs": [
    {
     "data": {
      "text/plain": [
       "1.3888888888888888"
      ]
     },
     "execution_count": 1,
     "metadata": {},
     "output_type": "execute_result"
    }
   ],
   "source": [
    "1000/(12*60)"
   ]
  },
  {
   "cell_type": "code",
   "execution_count": 5,
   "metadata": {},
   "outputs": [],
   "source": [
    "import numpy as np\n",
    "alphas = [0.01, 0.1, 0.25, 0.5, 1.0]\n",
    "l1_ratios = [0.1, 0.5, 0.7, 0.9]\n",
    "rna_seqs = [1, 2, 3]\n",
    "downsample = [(True, False),(True,False), (False,False)]\n",
    "downsample_thresholds = [x for x in range(10, 80, 5)]\n",
    "softlabels = [\"None\", \"Sigmoid\", \"Binary\"]\n",
    "softlabel_thresholds = [x for x in range(10, 80, 5)]\n",
    "softlabel_gradients = np.arange(0, 1, 0.1)\n",
    "normalization = ['StandardScaler','log2','None']"
   ]
  },
  {
   "cell_type": "code",
   "execution_count": 6,
   "metadata": {},
   "outputs": [
    {
     "data": {
      "text/plain": [
       "3175200"
      ]
     },
     "execution_count": 6,
     "metadata": {},
     "output_type": "execute_result"
    }
   ],
   "source": [
    "len(alphas)*len(l1_ratios)*len(rna_seqs)*len(downsample)*len(downsample_thresholds)*len(softlabels)*len(softlabel_thresholds)*len(softlabel_gradients)*len(normalization)"
   ]
  },
  {
   "cell_type": "code",
   "execution_count": 11,
   "metadata": {},
   "outputs": [
    {
     "data": {
      "text/plain": [
       "8400.0"
      ]
     },
     "execution_count": 11,
     "metadata": {},
     "output_type": "execute_result"
    }
   ],
   "source": [
    "3175200/(len(downsample)*len(downsample_thresholds)*len(softlabels)*len(normalization))"
   ]
  },
  {
   "cell_type": "code",
   "execution_count": 10,
   "metadata": {},
   "outputs": [
    {
     "data": {
      "text/plain": [
       "0.15747039556563366"
      ]
     },
     "execution_count": 10,
     "metadata": {},
     "output_type": "execute_result"
    }
   ],
   "source": [
    "5000/3175200.0*100"
   ]
  },
  {
   "cell_type": "code",
   "execution_count": null,
   "metadata": {},
   "outputs": [],
   "source": []
  }
 ],
 "metadata": {
  "kernelspec": {
   "display_name": "hrd",
   "language": "python",
   "name": "python3"
  },
  "language_info": {
   "codemirror_mode": {
    "name": "ipython",
    "version": 3
   },
   "file_extension": ".py",
   "mimetype": "text/x-python",
   "name": "python",
   "nbconvert_exporter": "python",
   "pygments_lexer": "ipython3",
   "version": "3.11.8"
  }
 },
 "nbformat": 4,
 "nbformat_minor": 2
}
