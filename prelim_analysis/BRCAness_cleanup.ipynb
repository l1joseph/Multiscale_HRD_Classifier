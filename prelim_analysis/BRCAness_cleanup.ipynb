{
 "cells": [
  {
   "cell_type": "code",
   "execution_count": 1,
   "metadata": {},
   "outputs": [],
   "source": [
    "import pandas as pd\n",
    "import numpy as np\n",
    "import matplotlib.pyplot as plt\n",
    "import seaborn as sns\n",
    "from sklearn.model_selection import train_test_split\n",
    "from sklearn.preprocessing import StandardScaler, LabelEncoder\n",
    "from sklearn.linear_model import LinearRegression, LogisticRegression, ElasticNet\n",
    "from sklearn.ensemble import RandomForestClassifier, GradientBoostingClassifier, RandomForestRegressor, GradientBoostingRegressor\n",
    "from sklearn.metrics import roc_curve, auc, confusion_matrix, classification_report, mean_squared_error, r2_score"
   ]
  },
  {
   "cell_type": "code",
   "execution_count": 2,
   "metadata": {},
   "outputs": [
    {
     "data": {
      "text/html": [
       "<div>\n",
       "<style scoped>\n",
       "    .dataframe tbody tr th:only-of-type {\n",
       "        vertical-align: middle;\n",
       "    }\n",
       "\n",
       "    .dataframe tbody tr th {\n",
       "        vertical-align: top;\n",
       "    }\n",
       "\n",
       "    .dataframe thead th {\n",
       "        text-align: right;\n",
       "    }\n",
       "</style>\n",
       "<table border=\"1\" class=\"dataframe\">\n",
       "  <thead>\n",
       "    <tr style=\"text-align: right;\">\n",
       "      <th></th>\n",
       "      <th>sample</th>\n",
       "      <th>soft prob</th>\n",
       "    </tr>\n",
       "  </thead>\n",
       "  <tbody>\n",
       "    <tr>\n",
       "      <th>0</th>\n",
       "      <td>TCGA-02-0001</td>\n",
       "      <td>0.65125</td>\n",
       "    </tr>\n",
       "    <tr>\n",
       "      <th>1</th>\n",
       "      <td>TCGA-02-0003</td>\n",
       "      <td>0.00000</td>\n",
       "    </tr>\n",
       "    <tr>\n",
       "      <th>2</th>\n",
       "      <td>TCGA-02-0006</td>\n",
       "      <td>0.00000</td>\n",
       "    </tr>\n",
       "    <tr>\n",
       "      <th>3</th>\n",
       "      <td>TCGA-02-0007</td>\n",
       "      <td>0.68000</td>\n",
       "    </tr>\n",
       "    <tr>\n",
       "      <th>4</th>\n",
       "      <td>TCGA-02-0009</td>\n",
       "      <td>0.00000</td>\n",
       "    </tr>\n",
       "    <tr>\n",
       "      <th>...</th>\n",
       "      <td>...</td>\n",
       "      <td>...</td>\n",
       "    </tr>\n",
       "    <tr>\n",
       "      <th>9599</th>\n",
       "      <td>TCGA-ZS-A9CE</td>\n",
       "      <td>0.21875</td>\n",
       "    </tr>\n",
       "    <tr>\n",
       "      <th>9600</th>\n",
       "      <td>TCGA-ZS-A9CF-a</td>\n",
       "      <td>0.52000</td>\n",
       "    </tr>\n",
       "    <tr>\n",
       "      <th>9601</th>\n",
       "      <td>TCGA-ZS-A9CG</td>\n",
       "      <td>0.00000</td>\n",
       "    </tr>\n",
       "    <tr>\n",
       "      <th>9602</th>\n",
       "      <td>TCGA-ZU-A8S4-a</td>\n",
       "      <td>0.53125</td>\n",
       "    </tr>\n",
       "    <tr>\n",
       "      <th>9603</th>\n",
       "      <td>TCGA-ZX-AA5X</td>\n",
       "      <td>0.65125</td>\n",
       "    </tr>\n",
       "  </tbody>\n",
       "</table>\n",
       "<p>9604 rows × 2 columns</p>\n",
       "</div>"
      ],
      "text/plain": [
       "              sample  soft prob\n",
       "0       TCGA-02-0001    0.65125\n",
       "1       TCGA-02-0003    0.00000\n",
       "2       TCGA-02-0006    0.00000\n",
       "3       TCGA-02-0007    0.68000\n",
       "4       TCGA-02-0009    0.00000\n",
       "...              ...        ...\n",
       "9599    TCGA-ZS-A9CE    0.21875\n",
       "9600  TCGA-ZS-A9CF-a    0.52000\n",
       "9601    TCGA-ZS-A9CG    0.00000\n",
       "9602  TCGA-ZU-A8S4-a    0.53125\n",
       "9603    TCGA-ZX-AA5X    0.65125\n",
       "\n",
       "[9604 rows x 2 columns]"
      ]
     },
     "execution_count": 2,
     "metadata": {},
     "output_type": "execute_result"
    }
   ],
   "source": [
    "test = pd.read_csv('../data/tot_hrd_soft_labels.csv')\n",
    "test_filt = test[['sample','soft prob']]\n",
    "test_filt"
   ]
  },
  {
   "cell_type": "code",
   "execution_count": 3,
   "metadata": {},
   "outputs": [],
   "source": [
    "annotated_df = pd.read_csv('../data/softlabels_per_Subtype.csv', sep=',', index_col=0)"
   ]
  },
  {
   "cell_type": "code",
   "execution_count": 4,
   "metadata": {},
   "outputs": [],
   "source": [
    "annotated_df.reset_index(inplace=True)"
   ]
  },
  {
   "cell_type": "code",
   "execution_count": 5,
   "metadata": {},
   "outputs": [],
   "source": [
    "annotated_df = annotated_df.drop(columns={'soft prob'})"
   ]
  },
  {
   "cell_type": "code",
   "execution_count": 6,
   "metadata": {},
   "outputs": [
    {
     "data": {
      "text/html": [
       "<div>\n",
       "<style scoped>\n",
       "    .dataframe tbody tr th:only-of-type {\n",
       "        vertical-align: middle;\n",
       "    }\n",
       "\n",
       "    .dataframe tbody tr th {\n",
       "        vertical-align: top;\n",
       "    }\n",
       "\n",
       "    .dataframe thead th {\n",
       "        text-align: right;\n",
       "    }\n",
       "</style>\n",
       "<table border=\"1\" class=\"dataframe\">\n",
       "  <thead>\n",
       "    <tr style=\"text-align: right;\">\n",
       "      <th></th>\n",
       "      <th>sample</th>\n",
       "      <th>HRD</th>\n",
       "      <th>Telomeric AI</th>\n",
       "      <th>LST</th>\n",
       "      <th>HRD-sum</th>\n",
       "      <th>BRCA1_somatic_null</th>\n",
       "      <th>BRCA1_germ_bi_allelic</th>\n",
       "      <th>BRCA1_germ_mono_allelic</th>\n",
       "      <th>BRCA1_deletion</th>\n",
       "      <th>BRCA1_epigenetic_silencing</th>\n",
       "      <th>...</th>\n",
       "      <th>event.BRCA1</th>\n",
       "      <th>event.BRCA2</th>\n",
       "      <th>event.RAD51C</th>\n",
       "      <th>event.PALB2</th>\n",
       "      <th>event.All Events</th>\n",
       "      <th>event.PAM50</th>\n",
       "      <th>event.TNBC</th>\n",
       "      <th>HRD_status_base</th>\n",
       "      <th>HRD_adjust</th>\n",
       "      <th>soft prob</th>\n",
       "    </tr>\n",
       "  </thead>\n",
       "  <tbody>\n",
       "    <tr>\n",
       "      <th>0</th>\n",
       "      <td>TCGA-A1-A0SB</td>\n",
       "      <td>0</td>\n",
       "      <td>0</td>\n",
       "      <td>0</td>\n",
       "      <td>0</td>\n",
       "      <td>0</td>\n",
       "      <td>0</td>\n",
       "      <td>0.0</td>\n",
       "      <td>0</td>\n",
       "      <td>0</td>\n",
       "      <td>...</td>\n",
       "      <td>0</td>\n",
       "      <td>0</td>\n",
       "      <td>0</td>\n",
       "      <td>0</td>\n",
       "      <td>0</td>\n",
       "      <td>NaN</td>\n",
       "      <td>0</td>\n",
       "      <td>HR</td>\n",
       "      <td>HRP</td>\n",
       "      <td>0.00000</td>\n",
       "    </tr>\n",
       "    <tr>\n",
       "      <th>1</th>\n",
       "      <td>TCGA-A1-A0SD</td>\n",
       "      <td>10</td>\n",
       "      <td>10</td>\n",
       "      <td>7</td>\n",
       "      <td>27</td>\n",
       "      <td>0</td>\n",
       "      <td>0</td>\n",
       "      <td>0.0</td>\n",
       "      <td>0</td>\n",
       "      <td>0</td>\n",
       "      <td>...</td>\n",
       "      <td>0</td>\n",
       "      <td>0</td>\n",
       "      <td>0</td>\n",
       "      <td>0</td>\n",
       "      <td>0</td>\n",
       "      <td>LumA</td>\n",
       "      <td>0</td>\n",
       "      <td>HR</td>\n",
       "      <td>HRP ambiguous</td>\n",
       "      <td>0.51125</td>\n",
       "    </tr>\n",
       "    <tr>\n",
       "      <th>2</th>\n",
       "      <td>TCGA-A1-A0SE</td>\n",
       "      <td>6</td>\n",
       "      <td>6</td>\n",
       "      <td>1</td>\n",
       "      <td>13</td>\n",
       "      <td>0</td>\n",
       "      <td>0</td>\n",
       "      <td>0.0</td>\n",
       "      <td>0</td>\n",
       "      <td>0</td>\n",
       "      <td>...</td>\n",
       "      <td>0</td>\n",
       "      <td>0</td>\n",
       "      <td>0</td>\n",
       "      <td>0</td>\n",
       "      <td>0</td>\n",
       "      <td>LumA</td>\n",
       "      <td>0</td>\n",
       "      <td>HR</td>\n",
       "      <td>HRP ambiguous</td>\n",
       "      <td>0.13875</td>\n",
       "    </tr>\n",
       "    <tr>\n",
       "      <th>3</th>\n",
       "      <td>TCGA-A1-A0SF</td>\n",
       "      <td>7</td>\n",
       "      <td>11</td>\n",
       "      <td>8</td>\n",
       "      <td>26</td>\n",
       "      <td>0</td>\n",
       "      <td>0</td>\n",
       "      <td>0.0</td>\n",
       "      <td>0</td>\n",
       "      <td>0</td>\n",
       "      <td>...</td>\n",
       "      <td>0</td>\n",
       "      <td>0</td>\n",
       "      <td>0</td>\n",
       "      <td>0</td>\n",
       "      <td>0</td>\n",
       "      <td>LumA</td>\n",
       "      <td>0</td>\n",
       "      <td>HR</td>\n",
       "      <td>HRP ambiguous</td>\n",
       "      <td>0.52000</td>\n",
       "    </tr>\n",
       "    <tr>\n",
       "      <th>4</th>\n",
       "      <td>TCGA-A1-A0SG</td>\n",
       "      <td>3</td>\n",
       "      <td>2</td>\n",
       "      <td>4</td>\n",
       "      <td>9</td>\n",
       "      <td>0</td>\n",
       "      <td>0</td>\n",
       "      <td>0.0</td>\n",
       "      <td>0</td>\n",
       "      <td>0</td>\n",
       "      <td>...</td>\n",
       "      <td>0</td>\n",
       "      <td>0</td>\n",
       "      <td>0</td>\n",
       "      <td>0</td>\n",
       "      <td>0</td>\n",
       "      <td>LumA</td>\n",
       "      <td>0</td>\n",
       "      <td>HR</td>\n",
       "      <td>HRP</td>\n",
       "      <td>0.00000</td>\n",
       "    </tr>\n",
       "    <tr>\n",
       "      <th>...</th>\n",
       "      <td>...</td>\n",
       "      <td>...</td>\n",
       "      <td>...</td>\n",
       "      <td>...</td>\n",
       "      <td>...</td>\n",
       "      <td>...</td>\n",
       "      <td>...</td>\n",
       "      <td>...</td>\n",
       "      <td>...</td>\n",
       "      <td>...</td>\n",
       "      <td>...</td>\n",
       "      <td>...</td>\n",
       "      <td>...</td>\n",
       "      <td>...</td>\n",
       "      <td>...</td>\n",
       "      <td>...</td>\n",
       "      <td>...</td>\n",
       "      <td>...</td>\n",
       "      <td>...</td>\n",
       "      <td>...</td>\n",
       "      <td>...</td>\n",
       "    </tr>\n",
       "    <tr>\n",
       "      <th>852</th>\n",
       "      <td>TCGA-OL-A6VR</td>\n",
       "      <td>4</td>\n",
       "      <td>4</td>\n",
       "      <td>5</td>\n",
       "      <td>13</td>\n",
       "      <td>0</td>\n",
       "      <td>0</td>\n",
       "      <td>0.0</td>\n",
       "      <td>NaN</td>\n",
       "      <td>0</td>\n",
       "      <td>...</td>\n",
       "      <td>0</td>\n",
       "      <td>0</td>\n",
       "      <td>0</td>\n",
       "      <td>0</td>\n",
       "      <td>0</td>\n",
       "      <td>LumA</td>\n",
       "      <td>0</td>\n",
       "      <td>HR</td>\n",
       "      <td>HRP ambiguous</td>\n",
       "      <td>0.13875</td>\n",
       "    </tr>\n",
       "    <tr>\n",
       "      <th>853</th>\n",
       "      <td>TCGA-PE-A5DC</td>\n",
       "      <td>13</td>\n",
       "      <td>20</td>\n",
       "      <td>16</td>\n",
       "      <td>49</td>\n",
       "      <td>0</td>\n",
       "      <td>0</td>\n",
       "      <td>0.0</td>\n",
       "      <td>0</td>\n",
       "      <td>NaN</td>\n",
       "      <td>...</td>\n",
       "      <td>0</td>\n",
       "      <td>Bi-allelic-inactivation</td>\n",
       "      <td>0</td>\n",
       "      <td>0</td>\n",
       "      <td>YES</td>\n",
       "      <td>LumA</td>\n",
       "      <td>0</td>\n",
       "      <td>HRD</td>\n",
       "      <td>HRD ambiguous</td>\n",
       "      <td>0.95125</td>\n",
       "    </tr>\n",
       "    <tr>\n",
       "      <th>854</th>\n",
       "      <td>TCGA-PE-A5DD</td>\n",
       "      <td>7</td>\n",
       "      <td>6</td>\n",
       "      <td>9</td>\n",
       "      <td>22</td>\n",
       "      <td>0</td>\n",
       "      <td>0</td>\n",
       "      <td>0.0</td>\n",
       "      <td>0</td>\n",
       "      <td>NaN</td>\n",
       "      <td>...</td>\n",
       "      <td>0</td>\n",
       "      <td>0</td>\n",
       "      <td>0</td>\n",
       "      <td>0</td>\n",
       "      <td>0</td>\n",
       "      <td>LumA</td>\n",
       "      <td>0</td>\n",
       "      <td>HR</td>\n",
       "      <td>HRP ambiguous</td>\n",
       "      <td>0.58000</td>\n",
       "    </tr>\n",
       "    <tr>\n",
       "      <th>855</th>\n",
       "      <td>TCGA-PE-A5DE</td>\n",
       "      <td>6</td>\n",
       "      <td>15</td>\n",
       "      <td>11</td>\n",
       "      <td>32</td>\n",
       "      <td>0</td>\n",
       "      <td>0</td>\n",
       "      <td>0.0</td>\n",
       "      <td>0</td>\n",
       "      <td>NaN</td>\n",
       "      <td>...</td>\n",
       "      <td>0</td>\n",
       "      <td>0</td>\n",
       "      <td>0</td>\n",
       "      <td>0</td>\n",
       "      <td>0</td>\n",
       "      <td>LumA</td>\n",
       "      <td>0</td>\n",
       "      <td>HR</td>\n",
       "      <td>HRD ambiguous</td>\n",
       "      <td>0.50500</td>\n",
       "    </tr>\n",
       "    <tr>\n",
       "      <th>856</th>\n",
       "      <td>TCGA-V7-A7HQ</td>\n",
       "      <td>3</td>\n",
       "      <td>3</td>\n",
       "      <td>1</td>\n",
       "      <td>7</td>\n",
       "      <td>0</td>\n",
       "      <td>0</td>\n",
       "      <td>0.0</td>\n",
       "      <td>NaN</td>\n",
       "      <td>0</td>\n",
       "      <td>...</td>\n",
       "      <td>0</td>\n",
       "      <td>0</td>\n",
       "      <td>0</td>\n",
       "      <td>0</td>\n",
       "      <td>0</td>\n",
       "      <td>LumA</td>\n",
       "      <td>0</td>\n",
       "      <td>HR</td>\n",
       "      <td>HRP</td>\n",
       "      <td>0.00000</td>\n",
       "    </tr>\n",
       "  </tbody>\n",
       "</table>\n",
       "<p>857 rows × 41 columns</p>\n",
       "</div>"
      ],
      "text/plain": [
       "           sample  HRD  Telomeric AI  LST  HRD-sum BRCA1_somatic_null  \\\n",
       "0    TCGA-A1-A0SB    0             0    0        0                  0   \n",
       "1    TCGA-A1-A0SD   10            10    7       27                  0   \n",
       "2    TCGA-A1-A0SE    6             6    1       13                  0   \n",
       "3    TCGA-A1-A0SF    7            11    8       26                  0   \n",
       "4    TCGA-A1-A0SG    3             2    4        9                  0   \n",
       "..            ...  ...           ...  ...      ...                ...   \n",
       "852  TCGA-OL-A6VR    4             4    5       13                  0   \n",
       "853  TCGA-PE-A5DC   13            20   16       49                  0   \n",
       "854  TCGA-PE-A5DD    7             6    9       22                  0   \n",
       "855  TCGA-PE-A5DE    6            15   11       32                  0   \n",
       "856  TCGA-V7-A7HQ    3             3    1        7                  0   \n",
       "\n",
       "    BRCA1_germ_bi_allelic  BRCA1_germ_mono_allelic BRCA1_deletion  \\\n",
       "0                       0                      0.0              0   \n",
       "1                       0                      0.0              0   \n",
       "2                       0                      0.0              0   \n",
       "3                       0                      0.0              0   \n",
       "4                       0                      0.0              0   \n",
       "..                    ...                      ...            ...   \n",
       "852                     0                      0.0            NaN   \n",
       "853                     0                      0.0              0   \n",
       "854                     0                      0.0              0   \n",
       "855                     0                      0.0              0   \n",
       "856                     0                      0.0            NaN   \n",
       "\n",
       "    BRCA1_epigenetic_silencing  ... event.BRCA1              event.BRCA2  \\\n",
       "0                            0  ...           0                        0   \n",
       "1                            0  ...           0                        0   \n",
       "2                            0  ...           0                        0   \n",
       "3                            0  ...           0                        0   \n",
       "4                            0  ...           0                        0   \n",
       "..                         ...  ...         ...                      ...   \n",
       "852                          0  ...           0                        0   \n",
       "853                        NaN  ...           0  Bi-allelic-inactivation   \n",
       "854                        NaN  ...           0                        0   \n",
       "855                        NaN  ...           0                        0   \n",
       "856                          0  ...           0                        0   \n",
       "\n",
       "    event.RAD51C  event.PALB2 event.All Events event.PAM50 event.TNBC  \\\n",
       "0              0            0                0         NaN          0   \n",
       "1              0            0                0        LumA          0   \n",
       "2              0            0                0        LumA          0   \n",
       "3              0            0                0        LumA          0   \n",
       "4              0            0                0        LumA          0   \n",
       "..           ...          ...              ...         ...        ...   \n",
       "852            0            0                0        LumA          0   \n",
       "853            0            0              YES        LumA          0   \n",
       "854            0            0                0        LumA          0   \n",
       "855            0            0                0        LumA          0   \n",
       "856            0            0                0        LumA          0   \n",
       "\n",
       "    HRD_status_base     HRD_adjust soft prob  \n",
       "0                HR            HRP   0.00000  \n",
       "1                HR  HRP ambiguous   0.51125  \n",
       "2                HR  HRP ambiguous   0.13875  \n",
       "3                HR  HRP ambiguous   0.52000  \n",
       "4                HR            HRP   0.00000  \n",
       "..              ...            ...       ...  \n",
       "852              HR  HRP ambiguous   0.13875  \n",
       "853             HRD  HRD ambiguous   0.95125  \n",
       "854              HR  HRP ambiguous   0.58000  \n",
       "855              HR  HRD ambiguous   0.50500  \n",
       "856              HR            HRP   0.00000  \n",
       "\n",
       "[857 rows x 41 columns]"
      ]
     },
     "execution_count": 6,
     "metadata": {},
     "output_type": "execute_result"
    }
   ],
   "source": [
    "# Perform the merge based on the common column\n",
    "merged_df = pd.merge(\n",
    "    annotated_df, \n",
    "    test_filt, \n",
    "    on = 'sample',\n",
    "    how='inner'  # Keeps only rows present in both dataframes\n",
    ")\n",
    "\n",
    "# View the result\n",
    "merged_df\n"
   ]
  },
  {
   "cell_type": "code",
   "execution_count": 7,
   "metadata": {},
   "outputs": [],
   "source": [
    "annotated_df = merged_df"
   ]
  },
  {
   "cell_type": "code",
   "execution_count": 8,
   "metadata": {},
   "outputs": [
    {
     "data": {
      "text/html": [
       "<div>\n",
       "<style scoped>\n",
       "    .dataframe tbody tr th:only-of-type {\n",
       "        vertical-align: middle;\n",
       "    }\n",
       "\n",
       "    .dataframe tbody tr th {\n",
       "        vertical-align: top;\n",
       "    }\n",
       "\n",
       "    .dataframe thead th {\n",
       "        text-align: right;\n",
       "    }\n",
       "</style>\n",
       "<table border=\"1\" class=\"dataframe\">\n",
       "  <thead>\n",
       "    <tr style=\"text-align: right;\">\n",
       "      <th></th>\n",
       "      <th>sample</th>\n",
       "      <th>HRD</th>\n",
       "      <th>Telomeric AI</th>\n",
       "      <th>LST</th>\n",
       "      <th>HRD-sum</th>\n",
       "      <th>BRCA1_somatic_null</th>\n",
       "      <th>BRCA1_germ_bi_allelic</th>\n",
       "      <th>BRCA1_germ_mono_allelic</th>\n",
       "      <th>BRCA1_deletion</th>\n",
       "      <th>BRCA1_epigenetic_silencing</th>\n",
       "      <th>...</th>\n",
       "      <th>event.BRCA1</th>\n",
       "      <th>event.BRCA2</th>\n",
       "      <th>event.RAD51C</th>\n",
       "      <th>event.PALB2</th>\n",
       "      <th>event.All Events</th>\n",
       "      <th>event.PAM50</th>\n",
       "      <th>event.TNBC</th>\n",
       "      <th>HRD_status_base</th>\n",
       "      <th>HRD_adjust</th>\n",
       "      <th>soft prob</th>\n",
       "    </tr>\n",
       "  </thead>\n",
       "  <tbody>\n",
       "    <tr>\n",
       "      <th>0</th>\n",
       "      <td>TCGA-A1-A0SB</td>\n",
       "      <td>0</td>\n",
       "      <td>0</td>\n",
       "      <td>0</td>\n",
       "      <td>0</td>\n",
       "      <td>0</td>\n",
       "      <td>0</td>\n",
       "      <td>0.0</td>\n",
       "      <td>0</td>\n",
       "      <td>0</td>\n",
       "      <td>...</td>\n",
       "      <td>0</td>\n",
       "      <td>0</td>\n",
       "      <td>0</td>\n",
       "      <td>0</td>\n",
       "      <td>0</td>\n",
       "      <td>NaN</td>\n",
       "      <td>0</td>\n",
       "      <td>HR</td>\n",
       "      <td>HRP</td>\n",
       "      <td>0.00000</td>\n",
       "    </tr>\n",
       "    <tr>\n",
       "      <th>1</th>\n",
       "      <td>TCGA-A1-A0SD</td>\n",
       "      <td>10</td>\n",
       "      <td>10</td>\n",
       "      <td>7</td>\n",
       "      <td>27</td>\n",
       "      <td>0</td>\n",
       "      <td>0</td>\n",
       "      <td>0.0</td>\n",
       "      <td>0</td>\n",
       "      <td>0</td>\n",
       "      <td>...</td>\n",
       "      <td>0</td>\n",
       "      <td>0</td>\n",
       "      <td>0</td>\n",
       "      <td>0</td>\n",
       "      <td>0</td>\n",
       "      <td>LumA</td>\n",
       "      <td>0</td>\n",
       "      <td>HR</td>\n",
       "      <td>HRP ambiguous</td>\n",
       "      <td>0.51125</td>\n",
       "    </tr>\n",
       "    <tr>\n",
       "      <th>2</th>\n",
       "      <td>TCGA-A1-A0SE</td>\n",
       "      <td>6</td>\n",
       "      <td>6</td>\n",
       "      <td>1</td>\n",
       "      <td>13</td>\n",
       "      <td>0</td>\n",
       "      <td>0</td>\n",
       "      <td>0.0</td>\n",
       "      <td>0</td>\n",
       "      <td>0</td>\n",
       "      <td>...</td>\n",
       "      <td>0</td>\n",
       "      <td>0</td>\n",
       "      <td>0</td>\n",
       "      <td>0</td>\n",
       "      <td>0</td>\n",
       "      <td>LumA</td>\n",
       "      <td>0</td>\n",
       "      <td>HR</td>\n",
       "      <td>HRP ambiguous</td>\n",
       "      <td>0.13875</td>\n",
       "    </tr>\n",
       "    <tr>\n",
       "      <th>3</th>\n",
       "      <td>TCGA-A1-A0SF</td>\n",
       "      <td>7</td>\n",
       "      <td>11</td>\n",
       "      <td>8</td>\n",
       "      <td>26</td>\n",
       "      <td>0</td>\n",
       "      <td>0</td>\n",
       "      <td>0.0</td>\n",
       "      <td>0</td>\n",
       "      <td>0</td>\n",
       "      <td>...</td>\n",
       "      <td>0</td>\n",
       "      <td>0</td>\n",
       "      <td>0</td>\n",
       "      <td>0</td>\n",
       "      <td>0</td>\n",
       "      <td>LumA</td>\n",
       "      <td>0</td>\n",
       "      <td>HR</td>\n",
       "      <td>HRP ambiguous</td>\n",
       "      <td>0.52000</td>\n",
       "    </tr>\n",
       "    <tr>\n",
       "      <th>4</th>\n",
       "      <td>TCGA-A1-A0SG</td>\n",
       "      <td>3</td>\n",
       "      <td>2</td>\n",
       "      <td>4</td>\n",
       "      <td>9</td>\n",
       "      <td>0</td>\n",
       "      <td>0</td>\n",
       "      <td>0.0</td>\n",
       "      <td>0</td>\n",
       "      <td>0</td>\n",
       "      <td>...</td>\n",
       "      <td>0</td>\n",
       "      <td>0</td>\n",
       "      <td>0</td>\n",
       "      <td>0</td>\n",
       "      <td>0</td>\n",
       "      <td>LumA</td>\n",
       "      <td>0</td>\n",
       "      <td>HR</td>\n",
       "      <td>HRP</td>\n",
       "      <td>0.00000</td>\n",
       "    </tr>\n",
       "    <tr>\n",
       "      <th>...</th>\n",
       "      <td>...</td>\n",
       "      <td>...</td>\n",
       "      <td>...</td>\n",
       "      <td>...</td>\n",
       "      <td>...</td>\n",
       "      <td>...</td>\n",
       "      <td>...</td>\n",
       "      <td>...</td>\n",
       "      <td>...</td>\n",
       "      <td>...</td>\n",
       "      <td>...</td>\n",
       "      <td>...</td>\n",
       "      <td>...</td>\n",
       "      <td>...</td>\n",
       "      <td>...</td>\n",
       "      <td>...</td>\n",
       "      <td>...</td>\n",
       "      <td>...</td>\n",
       "      <td>...</td>\n",
       "      <td>...</td>\n",
       "      <td>...</td>\n",
       "    </tr>\n",
       "    <tr>\n",
       "      <th>852</th>\n",
       "      <td>TCGA-OL-A6VR</td>\n",
       "      <td>4</td>\n",
       "      <td>4</td>\n",
       "      <td>5</td>\n",
       "      <td>13</td>\n",
       "      <td>0</td>\n",
       "      <td>0</td>\n",
       "      <td>0.0</td>\n",
       "      <td>NaN</td>\n",
       "      <td>0</td>\n",
       "      <td>...</td>\n",
       "      <td>0</td>\n",
       "      <td>0</td>\n",
       "      <td>0</td>\n",
       "      <td>0</td>\n",
       "      <td>0</td>\n",
       "      <td>LumA</td>\n",
       "      <td>0</td>\n",
       "      <td>HR</td>\n",
       "      <td>HRP ambiguous</td>\n",
       "      <td>0.13875</td>\n",
       "    </tr>\n",
       "    <tr>\n",
       "      <th>853</th>\n",
       "      <td>TCGA-PE-A5DC</td>\n",
       "      <td>13</td>\n",
       "      <td>20</td>\n",
       "      <td>16</td>\n",
       "      <td>49</td>\n",
       "      <td>0</td>\n",
       "      <td>0</td>\n",
       "      <td>0.0</td>\n",
       "      <td>0</td>\n",
       "      <td>NaN</td>\n",
       "      <td>...</td>\n",
       "      <td>0</td>\n",
       "      <td>Bi-allelic-inactivation</td>\n",
       "      <td>0</td>\n",
       "      <td>0</td>\n",
       "      <td>YES</td>\n",
       "      <td>LumA</td>\n",
       "      <td>0</td>\n",
       "      <td>HRD</td>\n",
       "      <td>HRD ambiguous</td>\n",
       "      <td>0.95125</td>\n",
       "    </tr>\n",
       "    <tr>\n",
       "      <th>854</th>\n",
       "      <td>TCGA-PE-A5DD</td>\n",
       "      <td>7</td>\n",
       "      <td>6</td>\n",
       "      <td>9</td>\n",
       "      <td>22</td>\n",
       "      <td>0</td>\n",
       "      <td>0</td>\n",
       "      <td>0.0</td>\n",
       "      <td>0</td>\n",
       "      <td>NaN</td>\n",
       "      <td>...</td>\n",
       "      <td>0</td>\n",
       "      <td>0</td>\n",
       "      <td>0</td>\n",
       "      <td>0</td>\n",
       "      <td>0</td>\n",
       "      <td>LumA</td>\n",
       "      <td>0</td>\n",
       "      <td>HR</td>\n",
       "      <td>HRP ambiguous</td>\n",
       "      <td>0.58000</td>\n",
       "    </tr>\n",
       "    <tr>\n",
       "      <th>855</th>\n",
       "      <td>TCGA-PE-A5DE</td>\n",
       "      <td>6</td>\n",
       "      <td>15</td>\n",
       "      <td>11</td>\n",
       "      <td>32</td>\n",
       "      <td>0</td>\n",
       "      <td>0</td>\n",
       "      <td>0.0</td>\n",
       "      <td>0</td>\n",
       "      <td>NaN</td>\n",
       "      <td>...</td>\n",
       "      <td>0</td>\n",
       "      <td>0</td>\n",
       "      <td>0</td>\n",
       "      <td>0</td>\n",
       "      <td>0</td>\n",
       "      <td>LumA</td>\n",
       "      <td>0</td>\n",
       "      <td>HR</td>\n",
       "      <td>HRD ambiguous</td>\n",
       "      <td>0.50500</td>\n",
       "    </tr>\n",
       "    <tr>\n",
       "      <th>856</th>\n",
       "      <td>TCGA-V7-A7HQ</td>\n",
       "      <td>3</td>\n",
       "      <td>3</td>\n",
       "      <td>1</td>\n",
       "      <td>7</td>\n",
       "      <td>0</td>\n",
       "      <td>0</td>\n",
       "      <td>0.0</td>\n",
       "      <td>NaN</td>\n",
       "      <td>0</td>\n",
       "      <td>...</td>\n",
       "      <td>0</td>\n",
       "      <td>0</td>\n",
       "      <td>0</td>\n",
       "      <td>0</td>\n",
       "      <td>0</td>\n",
       "      <td>LumA</td>\n",
       "      <td>0</td>\n",
       "      <td>HR</td>\n",
       "      <td>HRP</td>\n",
       "      <td>0.00000</td>\n",
       "    </tr>\n",
       "  </tbody>\n",
       "</table>\n",
       "<p>857 rows × 41 columns</p>\n",
       "</div>"
      ],
      "text/plain": [
       "           sample  HRD  Telomeric AI  LST  HRD-sum BRCA1_somatic_null  \\\n",
       "0    TCGA-A1-A0SB    0             0    0        0                  0   \n",
       "1    TCGA-A1-A0SD   10            10    7       27                  0   \n",
       "2    TCGA-A1-A0SE    6             6    1       13                  0   \n",
       "3    TCGA-A1-A0SF    7            11    8       26                  0   \n",
       "4    TCGA-A1-A0SG    3             2    4        9                  0   \n",
       "..            ...  ...           ...  ...      ...                ...   \n",
       "852  TCGA-OL-A6VR    4             4    5       13                  0   \n",
       "853  TCGA-PE-A5DC   13            20   16       49                  0   \n",
       "854  TCGA-PE-A5DD    7             6    9       22                  0   \n",
       "855  TCGA-PE-A5DE    6            15   11       32                  0   \n",
       "856  TCGA-V7-A7HQ    3             3    1        7                  0   \n",
       "\n",
       "    BRCA1_germ_bi_allelic  BRCA1_germ_mono_allelic BRCA1_deletion  \\\n",
       "0                       0                      0.0              0   \n",
       "1                       0                      0.0              0   \n",
       "2                       0                      0.0              0   \n",
       "3                       0                      0.0              0   \n",
       "4                       0                      0.0              0   \n",
       "..                    ...                      ...            ...   \n",
       "852                     0                      0.0            NaN   \n",
       "853                     0                      0.0              0   \n",
       "854                     0                      0.0              0   \n",
       "855                     0                      0.0              0   \n",
       "856                     0                      0.0            NaN   \n",
       "\n",
       "    BRCA1_epigenetic_silencing  ... event.BRCA1              event.BRCA2  \\\n",
       "0                            0  ...           0                        0   \n",
       "1                            0  ...           0                        0   \n",
       "2                            0  ...           0                        0   \n",
       "3                            0  ...           0                        0   \n",
       "4                            0  ...           0                        0   \n",
       "..                         ...  ...         ...                      ...   \n",
       "852                          0  ...           0                        0   \n",
       "853                        NaN  ...           0  Bi-allelic-inactivation   \n",
       "854                        NaN  ...           0                        0   \n",
       "855                        NaN  ...           0                        0   \n",
       "856                          0  ...           0                        0   \n",
       "\n",
       "    event.RAD51C  event.PALB2 event.All Events event.PAM50 event.TNBC  \\\n",
       "0              0            0                0         NaN          0   \n",
       "1              0            0                0        LumA          0   \n",
       "2              0            0                0        LumA          0   \n",
       "3              0            0                0        LumA          0   \n",
       "4              0            0                0        LumA          0   \n",
       "..           ...          ...              ...         ...        ...   \n",
       "852            0            0                0        LumA          0   \n",
       "853            0            0              YES        LumA          0   \n",
       "854            0            0                0        LumA          0   \n",
       "855            0            0                0        LumA          0   \n",
       "856            0            0                0        LumA          0   \n",
       "\n",
       "    HRD_status_base     HRD_adjust soft prob  \n",
       "0                HR            HRP   0.00000  \n",
       "1                HR  HRP ambiguous   0.51125  \n",
       "2                HR  HRP ambiguous   0.13875  \n",
       "3                HR  HRP ambiguous   0.52000  \n",
       "4                HR            HRP   0.00000  \n",
       "..              ...            ...       ...  \n",
       "852              HR  HRP ambiguous   0.13875  \n",
       "853             HRD  HRD ambiguous   0.95125  \n",
       "854              HR  HRP ambiguous   0.58000  \n",
       "855              HR  HRD ambiguous   0.50500  \n",
       "856              HR            HRP   0.00000  \n",
       "\n",
       "[857 rows x 41 columns]"
      ]
     },
     "execution_count": 8,
     "metadata": {},
     "output_type": "execute_result"
    }
   ],
   "source": [
    "annotated_df"
   ]
  },
  {
   "cell_type": "code",
   "execution_count": 9,
   "metadata": {},
   "outputs": [],
   "source": [
    "\n",
    "rnaseq_df = pd.read_csv('../data/Deconvo2.csv', sep=',', index_col=0).reset_index(names=\"Case ID\")\n",
    "rnaseq_df['Case ID'] = rnaseq_df['Case ID'].str.split('-').str[:3].str.join('-')\n",
    "rnaseq_df['Sample ID'] = rnaseq_df['Case ID'].str.split('-').str[:4].str.join('-')\n",
    "\n",
    "brca_df_filtered = annotated_df[\n",
    "    (annotated_df['event.BRCA1'] != '1') &\n",
    "    (annotated_df['event.BRCA2'] != 'Bi-allelic-undetermined') &\n",
    "    (annotated_df['event.PALB2'] != '2')\n",
    "]\n",
    "\n",
    "# Identify common samples across the dataframes\n",
    "common_samples = set(rnaseq_df['Case ID']).intersection(set(brca_df_filtered['sample']))\n",
    "\n",
    "# Filter RNA-seq dataframe for common samples\n",
    "rnaseq_df_common = rnaseq_df[rnaseq_df['Case ID'].isin(common_samples)]\n",
    "\n",
    "# Filter BRCA dataframe for common samples\n",
    "brca_df_common = brca_df_filtered[brca_df_filtered['sample'].isin(common_samples)]\n",
    "\n",
    "# Drop duplicates in rnaseq_df_common if any\n",
    "rnaseq_df_common = rnaseq_df_common.drop_duplicates(subset=['Case ID'])\n",
    "\n",
    "rnaseq_df_common.set_index('Case ID', inplace=True)\n",
    "\n",
    "# Sort the samples in both dataframes by index\n",
    "rnaseq_df_common = rnaseq_df_common.sort_index()\n",
    "brca_df_common = brca_df_common.sort_index()\n"
   ]
  },
  {
   "cell_type": "code",
   "execution_count": 10,
   "metadata": {},
   "outputs": [],
   "source": [
    "genes_validation = pd.read_csv('../data/validation/CCLE_RNAseq_genes_counts_20180929.gct', sep=\"\\t\", skiprows=2)\n",
    "# Drop the 'Ensembl IDs' column\n",
    "genes_validation_transposed = genes_validation.drop(columns=['Name'])\n",
    "\n",
    "# Set the 'Description' column as the new header (column names)\n",
    "genes_validation_transposed = genes_validation_transposed.set_index('Description').transpose()\n",
    "\n",
    "# genes_validation_transposed_sorted = genes_validation_transposed.sort_index(axis = 1)\n",
    "# Drop columns that have only zeros\n",
    "genes_validation_transposed = genes_validation_transposed.loc[:, ~(genes_validation_transposed == 0).all()]\n",
    "\n",
    "# drop duplicates\n",
    "genes_validation_transposed_sorted = genes_validation_transposed.loc[:, ~genes_validation_transposed.columns.duplicated()]"
   ]
  },
  {
   "cell_type": "code",
   "execution_count": 11,
   "metadata": {},
   "outputs": [
    {
     "name": "stdout",
     "output_type": "stream",
     "text": [
      "Shape of filtered deseq_filtered_rna_seq_df: (857, 6347)\n",
      "Shape of filtered genes_validation: (1019, 6347)\n"
     ]
    }
   ],
   "source": [
    "deseq_results=pd.read_csv('../data/basic_deseq_HRD_contrast.csv', index_col=0)\n",
    "deseq_filtered_rna_seq_df = rnaseq_df_common[rnaseq_df_common.columns.intersection(deseq_results.index)]\n",
    "\n",
    "# Step 1: Find common columns\n",
    "common_columns = set(deseq_filtered_rna_seq_df.columns).intersection(genes_validation_transposed.columns)\n",
    "\n",
    "# Step 2: Filter each dataframe to keep only common columns\n",
    "deseq_filtered_rna_seq_df_common = deseq_filtered_rna_seq_df[list(common_columns)]\n",
    "genes_validation_common = genes_validation_transposed_sorted[list(common_columns)]\n",
    "\n",
    "# Display the resulting shapes to confirm\n",
    "print(\"Shape of filtered deseq_filtered_rna_seq_df:\", deseq_filtered_rna_seq_df_common.shape)\n",
    "print(\"Shape of filtered genes_validation:\", genes_validation_common.shape)\n",
    "\n",
    "breast_filt = genes_validation_common[genes_validation_common.index.str.contains('BREAST')]"
   ]
  },
  {
   "cell_type": "code",
   "execution_count": 98,
   "metadata": {},
   "outputs": [
    {
     "data": {
      "text/html": [
       "<div>\n",
       "<style scoped>\n",
       "    .dataframe tbody tr th:only-of-type {\n",
       "        vertical-align: middle;\n",
       "    }\n",
       "\n",
       "    .dataframe tbody tr th {\n",
       "        vertical-align: top;\n",
       "    }\n",
       "\n",
       "    .dataframe thead th {\n",
       "        text-align: right;\n",
       "    }\n",
       "</style>\n",
       "<table border=\"1\" class=\"dataframe\">\n",
       "  <thead>\n",
       "    <tr style=\"text-align: right;\">\n",
       "      <th>Description</th>\n",
       "      <th>ARL1</th>\n",
       "      <th>HEXIM1</th>\n",
       "      <th>ABHD17B</th>\n",
       "      <th>LCOR</th>\n",
       "      <th>AP1S3</th>\n",
       "      <th>EXOSC2</th>\n",
       "      <th>ZNF512B</th>\n",
       "      <th>ACBD4</th>\n",
       "      <th>ACAP2</th>\n",
       "      <th>EME2</th>\n",
       "      <th>...</th>\n",
       "      <th>ULK4</th>\n",
       "      <th>ZNF646</th>\n",
       "      <th>SMYD5</th>\n",
       "      <th>TRIB2</th>\n",
       "      <th>PI4K2B</th>\n",
       "      <th>HSPA2</th>\n",
       "      <th>CCDC12</th>\n",
       "      <th>LARP4B</th>\n",
       "      <th>ARHGAP32</th>\n",
       "      <th>HSPA8</th>\n",
       "    </tr>\n",
       "  </thead>\n",
       "  <tbody>\n",
       "    <tr>\n",
       "      <th>AU565</th>\n",
       "      <td>3.772566</td>\n",
       "      <td>3.805776</td>\n",
       "      <td>3.495794</td>\n",
       "      <td>3.537767</td>\n",
       "      <td>3.487192</td>\n",
       "      <td>3.700127</td>\n",
       "      <td>3.738496</td>\n",
       "      <td>3.257924</td>\n",
       "      <td>3.761257</td>\n",
       "      <td>3.627802</td>\n",
       "      <td>...</td>\n",
       "      <td>2.980906</td>\n",
       "      <td>3.636805</td>\n",
       "      <td>3.645724</td>\n",
       "      <td>3.491054</td>\n",
       "      <td>3.565164</td>\n",
       "      <td>3.356255</td>\n",
       "      <td>3.601833</td>\n",
       "      <td>3.831178</td>\n",
       "      <td>3.867508</td>\n",
       "      <td>4.237902</td>\n",
       "    </tr>\n",
       "    <tr>\n",
       "      <th>BT20</th>\n",
       "      <td>3.745798</td>\n",
       "      <td>3.874016</td>\n",
       "      <td>3.496460</td>\n",
       "      <td>3.552762</td>\n",
       "      <td>3.364942</td>\n",
       "      <td>3.791559</td>\n",
       "      <td>3.809238</td>\n",
       "      <td>3.334112</td>\n",
       "      <td>3.809542</td>\n",
       "      <td>3.545632</td>\n",
       "      <td>...</td>\n",
       "      <td>3.130638</td>\n",
       "      <td>3.629678</td>\n",
       "      <td>3.661211</td>\n",
       "      <td>3.596583</td>\n",
       "      <td>3.632804</td>\n",
       "      <td>3.471718</td>\n",
       "      <td>3.626549</td>\n",
       "      <td>3.800706</td>\n",
       "      <td>3.741588</td>\n",
       "      <td>4.157696</td>\n",
       "    </tr>\n",
       "    <tr>\n",
       "      <th>BT474</th>\n",
       "      <td>3.660955</td>\n",
       "      <td>3.728017</td>\n",
       "      <td>3.499895</td>\n",
       "      <td>3.577369</td>\n",
       "      <td>3.440890</td>\n",
       "      <td>3.746591</td>\n",
       "      <td>3.844886</td>\n",
       "      <td>3.109861</td>\n",
       "      <td>3.680569</td>\n",
       "      <td>3.547364</td>\n",
       "      <td>...</td>\n",
       "      <td>2.982011</td>\n",
       "      <td>3.573315</td>\n",
       "      <td>3.605730</td>\n",
       "      <td>3.156377</td>\n",
       "      <td>3.645297</td>\n",
       "      <td>2.958803</td>\n",
       "      <td>3.524539</td>\n",
       "      <td>3.827388</td>\n",
       "      <td>3.774289</td>\n",
       "      <td>4.161788</td>\n",
       "    </tr>\n",
       "    <tr>\n",
       "      <th>BT483</th>\n",
       "      <td>3.789659</td>\n",
       "      <td>3.817809</td>\n",
       "      <td>3.288090</td>\n",
       "      <td>3.629298</td>\n",
       "      <td>3.288578</td>\n",
       "      <td>3.652684</td>\n",
       "      <td>3.885437</td>\n",
       "      <td>3.379077</td>\n",
       "      <td>3.710406</td>\n",
       "      <td>3.741237</td>\n",
       "      <td>...</td>\n",
       "      <td>3.275453</td>\n",
       "      <td>3.689122</td>\n",
       "      <td>3.587191</td>\n",
       "      <td>3.596661</td>\n",
       "      <td>3.565979</td>\n",
       "      <td>3.091456</td>\n",
       "      <td>3.610717</td>\n",
       "      <td>3.868592</td>\n",
       "      <td>3.758717</td>\n",
       "      <td>4.139297</td>\n",
       "    </tr>\n",
       "    <tr>\n",
       "      <th>BT549</th>\n",
       "      <td>3.747197</td>\n",
       "      <td>3.718677</td>\n",
       "      <td>3.580800</td>\n",
       "      <td>3.616099</td>\n",
       "      <td>3.131186</td>\n",
       "      <td>3.811589</td>\n",
       "      <td>3.765316</td>\n",
       "      <td>3.122235</td>\n",
       "      <td>3.717987</td>\n",
       "      <td>3.362688</td>\n",
       "      <td>...</td>\n",
       "      <td>3.168110</td>\n",
       "      <td>3.609927</td>\n",
       "      <td>3.585554</td>\n",
       "      <td>3.614850</td>\n",
       "      <td>3.682196</td>\n",
       "      <td>3.629488</td>\n",
       "      <td>3.625481</td>\n",
       "      <td>3.856708</td>\n",
       "      <td>3.630873</td>\n",
       "      <td>4.227375</td>\n",
       "    </tr>\n",
       "    <tr>\n",
       "      <th>CAL120</th>\n",
       "      <td>4.034135</td>\n",
       "      <td>3.834477</td>\n",
       "      <td>3.516647</td>\n",
       "      <td>3.547257</td>\n",
       "      <td>3.523730</td>\n",
       "      <td>3.640113</td>\n",
       "      <td>3.693616</td>\n",
       "      <td>3.449635</td>\n",
       "      <td>3.696256</td>\n",
       "      <td>3.341922</td>\n",
       "      <td>...</td>\n",
       "      <td>3.244854</td>\n",
       "      <td>3.583388</td>\n",
       "      <td>3.651814</td>\n",
       "      <td>3.319060</td>\n",
       "      <td>3.568070</td>\n",
       "      <td>3.393931</td>\n",
       "      <td>3.557225</td>\n",
       "      <td>3.853478</td>\n",
       "      <td>3.654140</td>\n",
       "      <td>4.169782</td>\n",
       "    </tr>\n",
       "    <tr>\n",
       "      <th>CAL148</th>\n",
       "      <td>3.711006</td>\n",
       "      <td>3.667519</td>\n",
       "      <td>3.585849</td>\n",
       "      <td>3.565020</td>\n",
       "      <td>3.440787</td>\n",
       "      <td>3.773860</td>\n",
       "      <td>3.906011</td>\n",
       "      <td>3.299693</td>\n",
       "      <td>3.691926</td>\n",
       "      <td>3.630465</td>\n",
       "      <td>...</td>\n",
       "      <td>3.285878</td>\n",
       "      <td>3.834544</td>\n",
       "      <td>3.756814</td>\n",
       "      <td>3.467722</td>\n",
       "      <td>3.706168</td>\n",
       "      <td>3.440890</td>\n",
       "      <td>3.751993</td>\n",
       "      <td>3.850212</td>\n",
       "      <td>3.822275</td>\n",
       "      <td>4.172680</td>\n",
       "    </tr>\n",
       "    <tr>\n",
       "      <th>CAL51</th>\n",
       "      <td>3.727452</td>\n",
       "      <td>3.714946</td>\n",
       "      <td>3.565452</td>\n",
       "      <td>3.644412</td>\n",
       "      <td>3.462181</td>\n",
       "      <td>3.705377</td>\n",
       "      <td>3.733175</td>\n",
       "      <td>3.351489</td>\n",
       "      <td>3.763339</td>\n",
       "      <td>3.479595</td>\n",
       "      <td>...</td>\n",
       "      <td>3.195724</td>\n",
       "      <td>3.570273</td>\n",
       "      <td>3.571617</td>\n",
       "      <td>3.773988</td>\n",
       "      <td>3.643838</td>\n",
       "      <td>3.343552</td>\n",
       "      <td>3.562595</td>\n",
       "      <td>3.769570</td>\n",
       "      <td>3.574497</td>\n",
       "      <td>4.127340</td>\n",
       "    </tr>\n",
       "    <tr>\n",
       "      <th>CAL851</th>\n",
       "      <td>3.754257</td>\n",
       "      <td>3.741090</td>\n",
       "      <td>3.423984</td>\n",
       "      <td>3.532949</td>\n",
       "      <td>3.449733</td>\n",
       "      <td>3.657324</td>\n",
       "      <td>3.520514</td>\n",
       "      <td>3.268799</td>\n",
       "      <td>3.737851</td>\n",
       "      <td>3.399798</td>\n",
       "      <td>...</td>\n",
       "      <td>3.007002</td>\n",
       "      <td>3.452355</td>\n",
       "      <td>3.586060</td>\n",
       "      <td>3.484195</td>\n",
       "      <td>3.637676</td>\n",
       "      <td>3.646799</td>\n",
       "      <td>3.552032</td>\n",
       "      <td>3.769319</td>\n",
       "      <td>3.643176</td>\n",
       "      <td>4.171931</td>\n",
       "    </tr>\n",
       "    <tr>\n",
       "      <th>CAMA1</th>\n",
       "      <td>3.808214</td>\n",
       "      <td>3.902171</td>\n",
       "      <td>3.679579</td>\n",
       "      <td>3.595953</td>\n",
       "      <td>3.472574</td>\n",
       "      <td>3.758834</td>\n",
       "      <td>3.873401</td>\n",
       "      <td>3.502478</td>\n",
       "      <td>3.793412</td>\n",
       "      <td>3.814846</td>\n",
       "      <td>...</td>\n",
       "      <td>3.455222</td>\n",
       "      <td>3.728178</td>\n",
       "      <td>3.657088</td>\n",
       "      <td>3.269070</td>\n",
       "      <td>3.773744</td>\n",
       "      <td>3.357260</td>\n",
       "      <td>3.556617</td>\n",
       "      <td>3.838411</td>\n",
       "      <td>3.742696</td>\n",
       "      <td>4.172714</td>\n",
       "    </tr>\n",
       "    <tr>\n",
       "      <th>DU4475</th>\n",
       "      <td>3.652467</td>\n",
       "      <td>3.730144</td>\n",
       "      <td>3.426022</td>\n",
       "      <td>3.493479</td>\n",
       "      <td>3.441919</td>\n",
       "      <td>3.677922</td>\n",
       "      <td>3.491359</td>\n",
       "      <td>2.925983</td>\n",
       "      <td>3.682262</td>\n",
       "      <td>3.552554</td>\n",
       "      <td>...</td>\n",
       "      <td>3.168110</td>\n",
       "      <td>3.606358</td>\n",
       "      <td>3.551246</td>\n",
       "      <td>3.875805</td>\n",
       "      <td>3.631998</td>\n",
       "      <td>3.218524</td>\n",
       "      <td>3.635442</td>\n",
       "      <td>3.823752</td>\n",
       "      <td>3.633144</td>\n",
       "      <td>4.150906</td>\n",
       "    </tr>\n",
       "    <tr>\n",
       "      <th>EFM192A</th>\n",
       "      <td>3.824289</td>\n",
       "      <td>3.814399</td>\n",
       "      <td>3.430905</td>\n",
       "      <td>3.623486</td>\n",
       "      <td>3.375799</td>\n",
       "      <td>3.715844</td>\n",
       "      <td>3.864426</td>\n",
       "      <td>3.280357</td>\n",
       "      <td>3.682085</td>\n",
       "      <td>3.573907</td>\n",
       "      <td>...</td>\n",
       "      <td>2.908389</td>\n",
       "      <td>3.633914</td>\n",
       "      <td>3.627385</td>\n",
       "      <td>3.553178</td>\n",
       "      <td>3.715949</td>\n",
       "      <td>3.611858</td>\n",
       "      <td>3.600116</td>\n",
       "      <td>3.834677</td>\n",
       "      <td>3.738256</td>\n",
       "      <td>4.177865</td>\n",
       "    </tr>\n",
       "    <tr>\n",
       "      <th>EFM19</th>\n",
       "      <td>3.803955</td>\n",
       "      <td>3.782984</td>\n",
       "      <td>3.468074</td>\n",
       "      <td>3.571062</td>\n",
       "      <td>3.375799</td>\n",
       "      <td>3.761853</td>\n",
       "      <td>3.916202</td>\n",
       "      <td>3.247601</td>\n",
       "      <td>3.758211</td>\n",
       "      <td>3.669200</td>\n",
       "      <td>...</td>\n",
       "      <td>3.161153</td>\n",
       "      <td>3.678082</td>\n",
       "      <td>3.583259</td>\n",
       "      <td>2.802665</td>\n",
       "      <td>3.622097</td>\n",
       "      <td>3.311040</td>\n",
       "      <td>3.596583</td>\n",
       "      <td>3.834906</td>\n",
       "      <td>3.641053</td>\n",
       "      <td>4.153931</td>\n",
       "    </tr>\n",
       "    <tr>\n",
       "      <th>HCC1143</th>\n",
       "      <td>3.628854</td>\n",
       "      <td>3.799336</td>\n",
       "      <td>3.399536</td>\n",
       "      <td>3.588438</td>\n",
       "      <td>3.509785</td>\n",
       "      <td>3.670670</td>\n",
       "      <td>3.579314</td>\n",
       "      <td>3.417836</td>\n",
       "      <td>3.806937</td>\n",
       "      <td>3.399273</td>\n",
       "      <td>...</td>\n",
       "      <td>3.059250</td>\n",
       "      <td>3.687997</td>\n",
       "      <td>3.573451</td>\n",
       "      <td>3.711749</td>\n",
       "      <td>3.591999</td>\n",
       "      <td>3.639196</td>\n",
       "      <td>3.349232</td>\n",
       "      <td>3.833369</td>\n",
       "      <td>3.649147</td>\n",
       "      <td>4.093862</td>\n",
       "    </tr>\n",
       "    <tr>\n",
       "      <th>HCC1187</th>\n",
       "      <td>3.614361</td>\n",
       "      <td>3.577591</td>\n",
       "      <td>3.531230</td>\n",
       "      <td>3.566552</td>\n",
       "      <td>3.160207</td>\n",
       "      <td>3.686928</td>\n",
       "      <td>3.756209</td>\n",
       "      <td>2.952607</td>\n",
       "      <td>3.652819</td>\n",
       "      <td>3.449439</td>\n",
       "      <td>...</td>\n",
       "      <td>2.831663</td>\n",
       "      <td>3.610502</td>\n",
       "      <td>3.509376</td>\n",
       "      <td>3.636684</td>\n",
       "      <td>3.571847</td>\n",
       "      <td>3.558785</td>\n",
       "      <td>3.527615</td>\n",
       "      <td>3.897757</td>\n",
       "      <td>3.920391</td>\n",
       "      <td>4.108255</td>\n",
       "    </tr>\n",
       "    <tr>\n",
       "      <th>HCC1395</th>\n",
       "      <td>3.644154</td>\n",
       "      <td>3.540151</td>\n",
       "      <td>3.365740</td>\n",
       "      <td>3.403560</td>\n",
       "      <td>3.469384</td>\n",
       "      <td>3.713258</td>\n",
       "      <td>3.800286</td>\n",
       "      <td>3.194132</td>\n",
       "      <td>3.362039</td>\n",
       "      <td>3.279591</td>\n",
       "      <td>...</td>\n",
       "      <td>3.137120</td>\n",
       "      <td>3.683564</td>\n",
       "      <td>3.579927</td>\n",
       "      <td>3.699144</td>\n",
       "      <td>3.646262</td>\n",
       "      <td>3.593007</td>\n",
       "      <td>3.617475</td>\n",
       "      <td>3.670694</td>\n",
       "      <td>3.633330</td>\n",
       "      <td>4.099039</td>\n",
       "    </tr>\n",
       "    <tr>\n",
       "      <th>HCC1419</th>\n",
       "      <td>3.886480</td>\n",
       "      <td>3.773279</td>\n",
       "      <td>3.517753</td>\n",
       "      <td>3.681796</td>\n",
       "      <td>3.456166</td>\n",
       "      <td>3.608407</td>\n",
       "      <td>3.877692</td>\n",
       "      <td>3.214245</td>\n",
       "      <td>3.762296</td>\n",
       "      <td>3.611038</td>\n",
       "      <td>...</td>\n",
       "      <td>3.212069</td>\n",
       "      <td>3.641111</td>\n",
       "      <td>3.567313</td>\n",
       "      <td>3.247904</td>\n",
       "      <td>3.753842</td>\n",
       "      <td>3.480818</td>\n",
       "      <td>3.582831</td>\n",
       "      <td>3.784432</td>\n",
       "      <td>3.779966</td>\n",
       "      <td>4.135777</td>\n",
       "    </tr>\n",
       "    <tr>\n",
       "      <th>HCC1428</th>\n",
       "      <td>3.885035</td>\n",
       "      <td>3.773500</td>\n",
       "      <td>3.473850</td>\n",
       "      <td>3.621497</td>\n",
       "      <td>3.511006</td>\n",
       "      <td>3.760160</td>\n",
       "      <td>3.913205</td>\n",
       "      <td>3.343913</td>\n",
       "      <td>3.821925</td>\n",
       "      <td>3.661134</td>\n",
       "      <td>...</td>\n",
       "      <td>3.049765</td>\n",
       "      <td>3.654809</td>\n",
       "      <td>3.701414</td>\n",
       "      <td>2.991716</td>\n",
       "      <td>3.602250</td>\n",
       "      <td>3.187217</td>\n",
       "      <td>3.560181</td>\n",
       "      <td>3.912781</td>\n",
       "      <td>3.845895</td>\n",
       "      <td>4.151802</td>\n",
       "    </tr>\n",
       "    <tr>\n",
       "      <th>HCC1500</th>\n",
       "      <td>3.920308</td>\n",
       "      <td>3.762774</td>\n",
       "      <td>3.568117</td>\n",
       "      <td>3.588479</td>\n",
       "      <td>3.399798</td>\n",
       "      <td>3.758354</td>\n",
       "      <td>3.843551</td>\n",
       "      <td>3.514877</td>\n",
       "      <td>3.809506</td>\n",
       "      <td>3.795547</td>\n",
       "      <td>...</td>\n",
       "      <td>3.434585</td>\n",
       "      <td>3.710933</td>\n",
       "      <td>3.703782</td>\n",
       "      <td>2.457293</td>\n",
       "      <td>3.662332</td>\n",
       "      <td>3.750683</td>\n",
       "      <td>3.614431</td>\n",
       "      <td>3.888624</td>\n",
       "      <td>3.741603</td>\n",
       "      <td>4.138983</td>\n",
       "    </tr>\n",
       "    <tr>\n",
       "      <th>HCC1569</th>\n",
       "      <td>3.707216</td>\n",
       "      <td>3.510803</td>\n",
       "      <td>3.462816</td>\n",
       "      <td>3.573315</td>\n",
       "      <td>3.213522</td>\n",
       "      <td>3.737098</td>\n",
       "      <td>3.795151</td>\n",
       "      <td>2.764350</td>\n",
       "      <td>3.659177</td>\n",
       "      <td>3.433403</td>\n",
       "      <td>...</td>\n",
       "      <td>3.033833</td>\n",
       "      <td>3.631499</td>\n",
       "      <td>3.644154</td>\n",
       "      <td>3.639492</td>\n",
       "      <td>3.559783</td>\n",
       "      <td>2.625253</td>\n",
       "      <td>3.578830</td>\n",
       "      <td>3.799499</td>\n",
       "      <td>3.703877</td>\n",
       "      <td>4.205626</td>\n",
       "    </tr>\n",
       "    <tr>\n",
       "      <th>HCC1599</th>\n",
       "      <td>3.715791</td>\n",
       "      <td>3.520451</td>\n",
       "      <td>3.533713</td>\n",
       "      <td>3.671029</td>\n",
       "      <td>3.570040</td>\n",
       "      <td>3.842182</td>\n",
       "      <td>3.748916</td>\n",
       "      <td>3.285383</td>\n",
       "      <td>3.739227</td>\n",
       "      <td>3.522036</td>\n",
       "      <td>...</td>\n",
       "      <td>3.086079</td>\n",
       "      <td>3.593087</td>\n",
       "      <td>3.675854</td>\n",
       "      <td>3.429698</td>\n",
       "      <td>3.710406</td>\n",
       "      <td>3.413531</td>\n",
       "      <td>3.637166</td>\n",
       "      <td>3.798515</td>\n",
       "      <td>3.717242</td>\n",
       "      <td>4.132682</td>\n",
       "    </tr>\n",
       "    <tr>\n",
       "      <th>HCC1806</th>\n",
       "      <td>3.729652</td>\n",
       "      <td>3.784507</td>\n",
       "      <td>3.460445</td>\n",
       "      <td>3.655501</td>\n",
       "      <td>3.745770</td>\n",
       "      <td>3.680658</td>\n",
       "      <td>3.703820</td>\n",
       "      <td>3.490519</td>\n",
       "      <td>3.807437</td>\n",
       "      <td>3.517623</td>\n",
       "      <td>...</td>\n",
       "      <td>3.255904</td>\n",
       "      <td>3.556617</td>\n",
       "      <td>3.710897</td>\n",
       "      <td>3.411337</td>\n",
       "      <td>3.587065</td>\n",
       "      <td>3.571570</td>\n",
       "      <td>3.602854</td>\n",
       "      <td>3.785053</td>\n",
       "      <td>3.816196</td>\n",
       "      <td>4.039863</td>\n",
       "    </tr>\n",
       "    <tr>\n",
       "      <th>HCC1937</th>\n",
       "      <td>3.697258</td>\n",
       "      <td>3.805334</td>\n",
       "      <td>3.494752</td>\n",
       "      <td>3.426472</td>\n",
       "      <td>3.428592</td>\n",
       "      <td>3.717450</td>\n",
       "      <td>3.861571</td>\n",
       "      <td>3.471804</td>\n",
       "      <td>3.848265</td>\n",
       "      <td>3.565116</td>\n",
       "      <td>...</td>\n",
       "      <td>2.998981</td>\n",
       "      <td>3.708330</td>\n",
       "      <td>3.616134</td>\n",
       "      <td>3.459709</td>\n",
       "      <td>3.639166</td>\n",
       "      <td>3.678378</td>\n",
       "      <td>3.601377</td>\n",
       "      <td>3.751148</td>\n",
       "      <td>3.772941</td>\n",
       "      <td>4.154817</td>\n",
       "    </tr>\n",
       "    <tr>\n",
       "      <th>HCC1954</th>\n",
       "      <td>3.648870</td>\n",
       "      <td>3.700596</td>\n",
       "      <td>3.563715</td>\n",
       "      <td>3.520514</td>\n",
       "      <td>3.513286</td>\n",
       "      <td>3.646883</td>\n",
       "      <td>3.637736</td>\n",
       "      <td>3.232468</td>\n",
       "      <td>3.758613</td>\n",
       "      <td>3.353206</td>\n",
       "      <td>...</td>\n",
       "      <td>3.037286</td>\n",
       "      <td>3.498150</td>\n",
       "      <td>3.529131</td>\n",
       "      <td>3.758237</td>\n",
       "      <td>3.592886</td>\n",
       "      <td>3.369677</td>\n",
       "      <td>3.495348</td>\n",
       "      <td>3.811712</td>\n",
       "      <td>3.649591</td>\n",
       "      <td>4.108407</td>\n",
       "    </tr>\n",
       "    <tr>\n",
       "      <th>HCC202</th>\n",
       "      <td>3.651405</td>\n",
       "      <td>3.716125</td>\n",
       "      <td>3.452740</td>\n",
       "      <td>3.526637</td>\n",
       "      <td>3.340644</td>\n",
       "      <td>3.676685</td>\n",
       "      <td>3.818704</td>\n",
       "      <td>3.361388</td>\n",
       "      <td>3.717450</td>\n",
       "      <td>3.530753</td>\n",
       "      <td>...</td>\n",
       "      <td>3.007002</td>\n",
       "      <td>3.753440</td>\n",
       "      <td>3.660750</td>\n",
       "      <td>2.998981</td>\n",
       "      <td>3.575535</td>\n",
       "      <td>3.308213</td>\n",
       "      <td>3.543109</td>\n",
       "      <td>3.842510</td>\n",
       "      <td>3.682572</td>\n",
       "      <td>4.102388</td>\n",
       "    </tr>\n",
       "    <tr>\n",
       "      <th>HCC2157</th>\n",
       "      <td>3.676961</td>\n",
       "      <td>3.675390</td>\n",
       "      <td>3.510125</td>\n",
       "      <td>3.546067</td>\n",
       "      <td>3.202351</td>\n",
       "      <td>3.726771</td>\n",
       "      <td>3.883909</td>\n",
       "      <td>3.093438</td>\n",
       "      <td>3.736643</td>\n",
       "      <td>3.638334</td>\n",
       "      <td>...</td>\n",
       "      <td>3.086079</td>\n",
       "      <td>3.571062</td>\n",
       "      <td>3.687869</td>\n",
       "      <td>3.467634</td>\n",
       "      <td>3.568776</td>\n",
       "      <td>3.078453</td>\n",
       "      <td>3.583473</td>\n",
       "      <td>3.889321</td>\n",
       "      <td>3.609747</td>\n",
       "      <td>4.227647</td>\n",
       "    </tr>\n",
       "    <tr>\n",
       "      <th>HCC2218</th>\n",
       "      <td>3.789566</td>\n",
       "      <td>3.762005</td>\n",
       "      <td>3.451582</td>\n",
       "      <td>3.562497</td>\n",
       "      <td>3.476789</td>\n",
       "      <td>3.690091</td>\n",
       "      <td>3.836017</td>\n",
       "      <td>3.144430</td>\n",
       "      <td>3.647137</td>\n",
       "      <td>3.747534</td>\n",
       "      <td>...</td>\n",
       "      <td>3.162564</td>\n",
       "      <td>3.620929</td>\n",
       "      <td>3.601871</td>\n",
       "      <td>2.897475</td>\n",
       "      <td>3.506555</td>\n",
       "      <td>3.098631</td>\n",
       "      <td>3.590780</td>\n",
       "      <td>3.831738</td>\n",
       "      <td>3.873318</td>\n",
       "      <td>4.220537</td>\n",
       "    </tr>\n",
       "    <tr>\n",
       "      <th>HCC38</th>\n",
       "      <td>3.728259</td>\n",
       "      <td>3.819270</td>\n",
       "      <td>3.438292</td>\n",
       "      <td>3.595123</td>\n",
       "      <td>3.504107</td>\n",
       "      <td>3.699440</td>\n",
       "      <td>3.766018</td>\n",
       "      <td>3.460169</td>\n",
       "      <td>3.719808</td>\n",
       "      <td>3.549556</td>\n",
       "      <td>...</td>\n",
       "      <td>3.028546</td>\n",
       "      <td>3.597873</td>\n",
       "      <td>3.597249</td>\n",
       "      <td>3.666066</td>\n",
       "      <td>3.519492</td>\n",
       "      <td>3.629930</td>\n",
       "      <td>3.565308</td>\n",
       "      <td>3.834951</td>\n",
       "      <td>3.580669</td>\n",
       "      <td>4.085415</td>\n",
       "    </tr>\n",
       "    <tr>\n",
       "      <th>HCC70</th>\n",
       "      <td>3.687464</td>\n",
       "      <td>3.641404</td>\n",
       "      <td>3.470944</td>\n",
       "      <td>3.594487</td>\n",
       "      <td>3.429035</td>\n",
       "      <td>3.619686</td>\n",
       "      <td>3.757951</td>\n",
       "      <td>3.083338</td>\n",
       "      <td>3.790843</td>\n",
       "      <td>3.547203</td>\n",
       "      <td>...</td>\n",
       "      <td>3.003028</td>\n",
       "      <td>3.634619</td>\n",
       "      <td>3.541441</td>\n",
       "      <td>3.825023</td>\n",
       "      <td>3.673073</td>\n",
       "      <td>3.739450</td>\n",
       "      <td>3.518141</td>\n",
       "      <td>3.913108</td>\n",
       "      <td>3.812238</td>\n",
       "      <td>4.112871</td>\n",
       "    </tr>\n",
       "    <tr>\n",
       "      <th>HDQP1</th>\n",
       "      <td>3.632712</td>\n",
       "      <td>3.703189</td>\n",
       "      <td>3.163499</td>\n",
       "      <td>3.505300</td>\n",
       "      <td>3.494229</td>\n",
       "      <td>3.525962</td>\n",
       "      <td>3.716684</td>\n",
       "      <td>3.561072</td>\n",
       "      <td>3.719141</td>\n",
       "      <td>3.362202</td>\n",
       "      <td>...</td>\n",
       "      <td>3.099271</td>\n",
       "      <td>3.570877</td>\n",
       "      <td>3.549450</td>\n",
       "      <td>3.497857</td>\n",
       "      <td>3.556414</td>\n",
       "      <td>3.594328</td>\n",
       "      <td>3.544046</td>\n",
       "      <td>3.781434</td>\n",
       "      <td>3.680614</td>\n",
       "      <td>4.089035</td>\n",
       "    </tr>\n",
       "    <tr>\n",
       "      <th>HMC18</th>\n",
       "      <td>3.705848</td>\n",
       "      <td>3.950648</td>\n",
       "      <td>3.523605</td>\n",
       "      <td>3.525839</td>\n",
       "      <td>3.627096</td>\n",
       "      <td>3.860664</td>\n",
       "      <td>3.686283</td>\n",
       "      <td>3.578786</td>\n",
       "      <td>3.766312</td>\n",
       "      <td>3.483477</td>\n",
       "      <td>...</td>\n",
       "      <td>3.106802</td>\n",
       "      <td>3.562985</td>\n",
       "      <td>3.658214</td>\n",
       "      <td>3.940912</td>\n",
       "      <td>3.585596</td>\n",
       "      <td>3.152965</td>\n",
       "      <td>3.626452</td>\n",
       "      <td>3.753708</td>\n",
       "      <td>3.864503</td>\n",
       "      <td>4.187413</td>\n",
       "    </tr>\n",
       "    <tr>\n",
       "      <th>HMEL</th>\n",
       "      <td>3.613132</td>\n",
       "      <td>3.720098</td>\n",
       "      <td>3.414014</td>\n",
       "      <td>3.600269</td>\n",
       "      <td>3.485227</td>\n",
       "      <td>3.668520</td>\n",
       "      <td>3.709949</td>\n",
       "      <td>3.372764</td>\n",
       "      <td>3.676039</td>\n",
       "      <td>3.684024</td>\n",
       "      <td>...</td>\n",
       "      <td>3.178760</td>\n",
       "      <td>3.547687</td>\n",
       "      <td>3.534123</td>\n",
       "      <td>3.638483</td>\n",
       "      <td>3.534123</td>\n",
       "      <td>3.408368</td>\n",
       "      <td>3.426022</td>\n",
       "      <td>3.654702</td>\n",
       "      <td>3.667053</td>\n",
       "      <td>4.092750</td>\n",
       "    </tr>\n",
       "    <tr>\n",
       "      <th>HS578T</th>\n",
       "      <td>3.713383</td>\n",
       "      <td>3.378041</td>\n",
       "      <td>3.307555</td>\n",
       "      <td>3.424666</td>\n",
       "      <td>3.127875</td>\n",
       "      <td>3.472318</td>\n",
       "      <td>3.554470</td>\n",
       "      <td>2.983110</td>\n",
       "      <td>3.713953</td>\n",
       "      <td>3.142886</td>\n",
       "      <td>...</td>\n",
       "      <td>3.131733</td>\n",
       "      <td>3.410846</td>\n",
       "      <td>3.569339</td>\n",
       "      <td>3.762068</td>\n",
       "      <td>3.396623</td>\n",
       "      <td>3.672173</td>\n",
       "      <td>3.493704</td>\n",
       "      <td>3.650005</td>\n",
       "      <td>3.421343</td>\n",
       "      <td>4.081822</td>\n",
       "    </tr>\n",
       "    <tr>\n",
       "      <th>JIMT1</th>\n",
       "      <td>3.757220</td>\n",
       "      <td>3.578212</td>\n",
       "      <td>3.385456</td>\n",
       "      <td>3.476706</td>\n",
       "      <td>3.386591</td>\n",
       "      <td>3.664023</td>\n",
       "      <td>3.717935</td>\n",
       "      <td>3.039841</td>\n",
       "      <td>3.722598</td>\n",
       "      <td>3.285135</td>\n",
       "      <td>...</td>\n",
       "      <td>3.126200</td>\n",
       "      <td>3.539417</td>\n",
       "      <td>3.656032</td>\n",
       "      <td>3.522665</td>\n",
       "      <td>3.397422</td>\n",
       "      <td>3.546609</td>\n",
       "      <td>3.597132</td>\n",
       "      <td>3.779554</td>\n",
       "      <td>3.578609</td>\n",
       "      <td>4.111462</td>\n",
       "    </tr>\n",
       "    <tr>\n",
       "      <th>KPL1</th>\n",
       "      <td>3.653737</td>\n",
       "      <td>3.768042</td>\n",
       "      <td>3.377445</td>\n",
       "      <td>3.632990</td>\n",
       "      <td>3.423870</td>\n",
       "      <td>3.701685</td>\n",
       "      <td>3.871427</td>\n",
       "      <td>3.306894</td>\n",
       "      <td>3.691802</td>\n",
       "      <td>3.725956</td>\n",
       "      <td>...</td>\n",
       "      <td>3.111072</td>\n",
       "      <td>3.609205</td>\n",
       "      <td>3.658058</td>\n",
       "      <td>3.213884</td>\n",
       "      <td>3.589880</td>\n",
       "      <td>3.492119</td>\n",
       "      <td>3.543716</td>\n",
       "      <td>3.829972</td>\n",
       "      <td>3.604467</td>\n",
       "      <td>4.138842</td>\n",
       "    </tr>\n",
       "    <tr>\n",
       "      <th>MCF7</th>\n",
       "      <td>3.799259</td>\n",
       "      <td>3.766226</td>\n",
       "      <td>3.436819</td>\n",
       "      <td>3.599808</td>\n",
       "      <td>3.424211</td>\n",
       "      <td>3.722665</td>\n",
       "      <td>3.884410</td>\n",
       "      <td>3.320500</td>\n",
       "      <td>3.750106</td>\n",
       "      <td>3.694719</td>\n",
       "      <td>...</td>\n",
       "      <td>3.138709</td>\n",
       "      <td>3.599076</td>\n",
       "      <td>3.640142</td>\n",
       "      <td>3.595083</td>\n",
       "      <td>3.626968</td>\n",
       "      <td>3.310391</td>\n",
       "      <td>3.549184</td>\n",
       "      <td>3.834463</td>\n",
       "      <td>3.644756</td>\n",
       "      <td>4.144133</td>\n",
       "    </tr>\n",
       "    <tr>\n",
       "      <th>MDAMB134VI</th>\n",
       "      <td>3.820953</td>\n",
       "      <td>3.573634</td>\n",
       "      <td>3.437872</td>\n",
       "      <td>3.662788</td>\n",
       "      <td>3.090125</td>\n",
       "      <td>3.614186</td>\n",
       "      <td>3.772660</td>\n",
       "      <td>3.365899</td>\n",
       "      <td>3.727937</td>\n",
       "      <td>3.666856</td>\n",
       "      <td>...</td>\n",
       "      <td>3.332201</td>\n",
       "      <td>3.516582</td>\n",
       "      <td>3.432863</td>\n",
       "      <td>2.702169</td>\n",
       "      <td>3.654113</td>\n",
       "      <td>3.169020</td>\n",
       "      <td>3.543164</td>\n",
       "      <td>3.730715</td>\n",
       "      <td>3.702285</td>\n",
       "      <td>4.060782</td>\n",
       "    </tr>\n",
       "    <tr>\n",
       "      <th>MDAMB157</th>\n",
       "      <td>3.692774</td>\n",
       "      <td>3.569152</td>\n",
       "      <td>3.434371</td>\n",
       "      <td>3.482113</td>\n",
       "      <td>3.085397</td>\n",
       "      <td>3.689523</td>\n",
       "      <td>3.801068</td>\n",
       "      <td>3.309741</td>\n",
       "      <td>3.649175</td>\n",
       "      <td>3.430138</td>\n",
       "      <td>...</td>\n",
       "      <td>3.234751</td>\n",
       "      <td>3.574043</td>\n",
       "      <td>3.591675</td>\n",
       "      <td>3.747042</td>\n",
       "      <td>3.599230</td>\n",
       "      <td>3.615198</td>\n",
       "      <td>3.608116</td>\n",
       "      <td>3.809238</td>\n",
       "      <td>3.519236</td>\n",
       "      <td>4.171642</td>\n",
       "    </tr>\n",
       "    <tr>\n",
       "      <th>MDAMB175VII</th>\n",
       "      <td>3.801248</td>\n",
       "      <td>3.817059</td>\n",
       "      <td>3.434371</td>\n",
       "      <td>3.642510</td>\n",
       "      <td>3.410599</td>\n",
       "      <td>3.625708</td>\n",
       "      <td>3.809077</td>\n",
       "      <td>3.439856</td>\n",
       "      <td>3.686369</td>\n",
       "      <td>3.561565</td>\n",
       "      <td>...</td>\n",
       "      <td>3.265519</td>\n",
       "      <td>3.549503</td>\n",
       "      <td>3.539020</td>\n",
       "      <td>3.452259</td>\n",
       "      <td>3.547095</td>\n",
       "      <td>3.873291</td>\n",
       "      <td>3.631655</td>\n",
       "      <td>3.848705</td>\n",
       "      <td>3.763914</td>\n",
       "      <td>4.051175</td>\n",
       "    </tr>\n",
       "    <tr>\n",
       "      <th>MDAMB231</th>\n",
       "      <td>3.697757</td>\n",
       "      <td>3.777840</td>\n",
       "      <td>3.434692</td>\n",
       "      <td>3.552554</td>\n",
       "      <td>3.522854</td>\n",
       "      <td>3.717033</td>\n",
       "      <td>3.653440</td>\n",
       "      <td>3.205015</td>\n",
       "      <td>3.632866</td>\n",
       "      <td>3.291720</td>\n",
       "      <td>...</td>\n",
       "      <td>3.202351</td>\n",
       "      <td>3.506694</td>\n",
       "      <td>3.627353</td>\n",
       "      <td>3.607679</td>\n",
       "      <td>3.645240</td>\n",
       "      <td>2.722447</td>\n",
       "      <td>3.612709</td>\n",
       "      <td>3.777275</td>\n",
       "      <td>3.669369</td>\n",
       "      <td>4.142152</td>\n",
       "    </tr>\n",
       "    <tr>\n",
       "      <th>MDAMB361</th>\n",
       "      <td>3.652982</td>\n",
       "      <td>3.611716</td>\n",
       "      <td>3.306673</td>\n",
       "      <td>3.489289</td>\n",
       "      <td>3.320500</td>\n",
       "      <td>3.609891</td>\n",
       "      <td>3.636473</td>\n",
       "      <td>3.067588</td>\n",
       "      <td>3.487114</td>\n",
       "      <td>3.561909</td>\n",
       "      <td>...</td>\n",
       "      <td>2.894261</td>\n",
       "      <td>3.504810</td>\n",
       "      <td>3.490901</td>\n",
       "      <td>3.226131</td>\n",
       "      <td>3.452836</td>\n",
       "      <td>2.660365</td>\n",
       "      <td>3.467370</td>\n",
       "      <td>3.622793</td>\n",
       "      <td>3.624044</td>\n",
       "      <td>4.056456</td>\n",
       "    </tr>\n",
       "    <tr>\n",
       "      <th>MDAMB415</th>\n",
       "      <td>3.817422</td>\n",
       "      <td>3.790494</td>\n",
       "      <td>3.623222</td>\n",
       "      <td>3.411827</td>\n",
       "      <td>3.408243</td>\n",
       "      <td>3.544595</td>\n",
       "      <td>3.676177</td>\n",
       "      <td>3.333731</td>\n",
       "      <td>3.677397</td>\n",
       "      <td>3.724146</td>\n",
       "      <td>...</td>\n",
       "      <td>3.170376</td>\n",
       "      <td>3.559634</td>\n",
       "      <td>3.558985</td>\n",
       "      <td>3.504318</td>\n",
       "      <td>3.584623</td>\n",
       "      <td>3.906343</td>\n",
       "      <td>3.470512</td>\n",
       "      <td>3.788350</td>\n",
       "      <td>3.732412</td>\n",
       "      <td>4.038273</td>\n",
       "    </tr>\n",
       "    <tr>\n",
       "      <th>MDAMB436</th>\n",
       "      <td>3.653090</td>\n",
       "      <td>3.614186</td>\n",
       "      <td>3.491587</td>\n",
       "      <td>3.468249</td>\n",
       "      <td>3.508830</td>\n",
       "      <td>3.768392</td>\n",
       "      <td>3.680815</td>\n",
       "      <td>3.018507</td>\n",
       "      <td>3.671936</td>\n",
       "      <td>3.350971</td>\n",
       "      <td>...</td>\n",
       "      <td>3.132278</td>\n",
       "      <td>3.681707</td>\n",
       "      <td>3.667935</td>\n",
       "      <td>3.668252</td>\n",
       "      <td>3.604840</td>\n",
       "      <td>3.462816</td>\n",
       "      <td>3.660981</td>\n",
       "      <td>3.766911</td>\n",
       "      <td>3.553799</td>\n",
       "      <td>4.186805</td>\n",
       "    </tr>\n",
       "    <tr>\n",
       "      <th>MDAMB453</th>\n",
       "      <td>3.670045</td>\n",
       "      <td>3.825571</td>\n",
       "      <td>3.208388</td>\n",
       "      <td>3.493779</td>\n",
       "      <td>3.330076</td>\n",
       "      <td>3.693555</td>\n",
       "      <td>3.750806</td>\n",
       "      <td>3.284139</td>\n",
       "      <td>3.682240</td>\n",
       "      <td>3.580930</td>\n",
       "      <td>...</td>\n",
       "      <td>3.100545</td>\n",
       "      <td>3.597717</td>\n",
       "      <td>3.571755</td>\n",
       "      <td>3.394202</td>\n",
       "      <td>3.548705</td>\n",
       "      <td>3.179191</td>\n",
       "      <td>3.641725</td>\n",
       "      <td>3.758107</td>\n",
       "      <td>3.819220</td>\n",
       "      <td>4.147751</td>\n",
       "    </tr>\n",
       "    <tr>\n",
       "      <th>MDAMB468</th>\n",
       "      <td>3.586815</td>\n",
       "      <td>3.658292</td>\n",
       "      <td>3.412681</td>\n",
       "      <td>3.508144</td>\n",
       "      <td>3.398086</td>\n",
       "      <td>3.573770</td>\n",
       "      <td>3.566027</td>\n",
       "      <td>3.122235</td>\n",
       "      <td>3.545087</td>\n",
       "      <td>3.339725</td>\n",
       "      <td>...</td>\n",
       "      <td>2.895873</td>\n",
       "      <td>3.443856</td>\n",
       "      <td>3.469210</td>\n",
       "      <td>3.733579</td>\n",
       "      <td>3.555240</td>\n",
       "      <td>3.459893</td>\n",
       "      <td>3.461178</td>\n",
       "      <td>3.747912</td>\n",
       "      <td>3.754043</td>\n",
       "      <td>4.133961</td>\n",
       "    </tr>\n",
       "    <tr>\n",
       "      <th>SKBR3</th>\n",
       "      <td>3.779554</td>\n",
       "      <td>3.803815</td>\n",
       "      <td>3.468512</td>\n",
       "      <td>3.467017</td>\n",
       "      <td>3.385313</td>\n",
       "      <td>3.724229</td>\n",
       "      <td>3.758536</td>\n",
       "      <td>3.233450</td>\n",
       "      <td>3.749388</td>\n",
       "      <td>3.634068</td>\n",
       "      <td>...</td>\n",
       "      <td>2.918814</td>\n",
       "      <td>3.633761</td>\n",
       "      <td>3.637436</td>\n",
       "      <td>3.392706</td>\n",
       "      <td>3.570040</td>\n",
       "      <td>3.364461</td>\n",
       "      <td>3.624339</td>\n",
       "      <td>3.846052</td>\n",
       "      <td>3.860317</td>\n",
       "      <td>4.203025</td>\n",
       "    </tr>\n",
       "    <tr>\n",
       "      <th>T47D</th>\n",
       "      <td>3.828120</td>\n",
       "      <td>3.809211</td>\n",
       "      <td>3.287356</td>\n",
       "      <td>3.560973</td>\n",
       "      <td>3.278822</td>\n",
       "      <td>3.755508</td>\n",
       "      <td>3.833122</td>\n",
       "      <td>3.563909</td>\n",
       "      <td>3.810441</td>\n",
       "      <td>3.636261</td>\n",
       "      <td>...</td>\n",
       "      <td>3.210605</td>\n",
       "      <td>3.609855</td>\n",
       "      <td>3.564054</td>\n",
       "      <td>2.249411</td>\n",
       "      <td>3.618839</td>\n",
       "      <td>3.303778</td>\n",
       "      <td>3.611395</td>\n",
       "      <td>3.833489</td>\n",
       "      <td>3.814192</td>\n",
       "      <td>4.204522</td>\n",
       "    </tr>\n",
       "    <tr>\n",
       "      <th>UACC812</th>\n",
       "      <td>3.760952</td>\n",
       "      <td>3.755296</td>\n",
       "      <td>3.172617</td>\n",
       "      <td>3.590003</td>\n",
       "      <td>3.281119</td>\n",
       "      <td>3.587107</td>\n",
       "      <td>3.677053</td>\n",
       "      <td>3.494603</td>\n",
       "      <td>3.607276</td>\n",
       "      <td>3.805904</td>\n",
       "      <td>...</td>\n",
       "      <td>3.127875</td>\n",
       "      <td>3.540937</td>\n",
       "      <td>3.554367</td>\n",
       "      <td>3.142368</td>\n",
       "      <td>3.527432</td>\n",
       "      <td>3.243000</td>\n",
       "      <td>3.548598</td>\n",
       "      <td>3.769307</td>\n",
       "      <td>3.724030</td>\n",
       "      <td>4.013635</td>\n",
       "    </tr>\n",
       "    <tr>\n",
       "      <th>UACC893</th>\n",
       "      <td>3.847583</td>\n",
       "      <td>3.761942</td>\n",
       "      <td>3.551718</td>\n",
       "      <td>3.599037</td>\n",
       "      <td>3.619415</td>\n",
       "      <td>3.750216</td>\n",
       "      <td>3.781544</td>\n",
       "      <td>3.176150</td>\n",
       "      <td>3.760913</td>\n",
       "      <td>3.541832</td>\n",
       "      <td>...</td>\n",
       "      <td>3.203116</td>\n",
       "      <td>3.604988</td>\n",
       "      <td>3.567645</td>\n",
       "      <td>3.581364</td>\n",
       "      <td>3.593007</td>\n",
       "      <td>2.870440</td>\n",
       "      <td>3.536734</td>\n",
       "      <td>3.851443</td>\n",
       "      <td>3.773127</td>\n",
       "      <td>4.157864</td>\n",
       "    </tr>\n",
       "    <tr>\n",
       "      <th>ZR751</th>\n",
       "      <td>3.741632</td>\n",
       "      <td>3.628281</td>\n",
       "      <td>3.410968</td>\n",
       "      <td>3.580887</td>\n",
       "      <td>3.495645</td>\n",
       "      <td>3.621797</td>\n",
       "      <td>3.690761</td>\n",
       "      <td>3.283889</td>\n",
       "      <td>3.642655</td>\n",
       "      <td>3.629425</td>\n",
       "      <td>...</td>\n",
       "      <td>3.054560</td>\n",
       "      <td>3.459154</td>\n",
       "      <td>3.433296</td>\n",
       "      <td>3.535695</td>\n",
       "      <td>3.644183</td>\n",
       "      <td>2.568211</td>\n",
       "      <td>3.488515</td>\n",
       "      <td>3.718091</td>\n",
       "      <td>3.628727</td>\n",
       "      <td>4.114475</td>\n",
       "    </tr>\n",
       "    <tr>\n",
       "      <th>ZR7530</th>\n",
       "      <td>3.836455</td>\n",
       "      <td>3.708534</td>\n",
       "      <td>3.392570</td>\n",
       "      <td>3.646714</td>\n",
       "      <td>3.461452</td>\n",
       "      <td>3.573315</td>\n",
       "      <td>3.769869</td>\n",
       "      <td>3.149994</td>\n",
       "      <td>3.624274</td>\n",
       "      <td>3.624274</td>\n",
       "      <td>...</td>\n",
       "      <td>3.146471</td>\n",
       "      <td>3.551771</td>\n",
       "      <td>3.546771</td>\n",
       "      <td>3.133905</td>\n",
       "      <td>3.744829</td>\n",
       "      <td>3.856646</td>\n",
       "      <td>3.622958</td>\n",
       "      <td>3.769798</td>\n",
       "      <td>3.715052</td>\n",
       "      <td>4.129119</td>\n",
       "    </tr>\n",
       "  </tbody>\n",
       "</table>\n",
       "<p>51 rows × 6347 columns</p>\n",
       "</div>"
      ],
      "text/plain": [
       "Description      ARL1    HEXIM1   ABHD17B      LCOR     AP1S3    EXOSC2  \\\n",
       "AU565        3.772566  3.805776  3.495794  3.537767  3.487192  3.700127   \n",
       "BT20         3.745798  3.874016  3.496460  3.552762  3.364942  3.791559   \n",
       "BT474        3.660955  3.728017  3.499895  3.577369  3.440890  3.746591   \n",
       "BT483        3.789659  3.817809  3.288090  3.629298  3.288578  3.652684   \n",
       "BT549        3.747197  3.718677  3.580800  3.616099  3.131186  3.811589   \n",
       "CAL120       4.034135  3.834477  3.516647  3.547257  3.523730  3.640113   \n",
       "CAL148       3.711006  3.667519  3.585849  3.565020  3.440787  3.773860   \n",
       "CAL51        3.727452  3.714946  3.565452  3.644412  3.462181  3.705377   \n",
       "CAL851       3.754257  3.741090  3.423984  3.532949  3.449733  3.657324   \n",
       "CAMA1        3.808214  3.902171  3.679579  3.595953  3.472574  3.758834   \n",
       "DU4475       3.652467  3.730144  3.426022  3.493479  3.441919  3.677922   \n",
       "EFM192A      3.824289  3.814399  3.430905  3.623486  3.375799  3.715844   \n",
       "EFM19        3.803955  3.782984  3.468074  3.571062  3.375799  3.761853   \n",
       "HCC1143      3.628854  3.799336  3.399536  3.588438  3.509785  3.670670   \n",
       "HCC1187      3.614361  3.577591  3.531230  3.566552  3.160207  3.686928   \n",
       "HCC1395      3.644154  3.540151  3.365740  3.403560  3.469384  3.713258   \n",
       "HCC1419      3.886480  3.773279  3.517753  3.681796  3.456166  3.608407   \n",
       "HCC1428      3.885035  3.773500  3.473850  3.621497  3.511006  3.760160   \n",
       "HCC1500      3.920308  3.762774  3.568117  3.588479  3.399798  3.758354   \n",
       "HCC1569      3.707216  3.510803  3.462816  3.573315  3.213522  3.737098   \n",
       "HCC1599      3.715791  3.520451  3.533713  3.671029  3.570040  3.842182   \n",
       "HCC1806      3.729652  3.784507  3.460445  3.655501  3.745770  3.680658   \n",
       "HCC1937      3.697258  3.805334  3.494752  3.426472  3.428592  3.717450   \n",
       "HCC1954      3.648870  3.700596  3.563715  3.520514  3.513286  3.646883   \n",
       "HCC202       3.651405  3.716125  3.452740  3.526637  3.340644  3.676685   \n",
       "HCC2157      3.676961  3.675390  3.510125  3.546067  3.202351  3.726771   \n",
       "HCC2218      3.789566  3.762005  3.451582  3.562497  3.476789  3.690091   \n",
       "HCC38        3.728259  3.819270  3.438292  3.595123  3.504107  3.699440   \n",
       "HCC70        3.687464  3.641404  3.470944  3.594487  3.429035  3.619686   \n",
       "HDQP1        3.632712  3.703189  3.163499  3.505300  3.494229  3.525962   \n",
       "HMC18        3.705848  3.950648  3.523605  3.525839  3.627096  3.860664   \n",
       "HMEL         3.613132  3.720098  3.414014  3.600269  3.485227  3.668520   \n",
       "HS578T       3.713383  3.378041  3.307555  3.424666  3.127875  3.472318   \n",
       "JIMT1        3.757220  3.578212  3.385456  3.476706  3.386591  3.664023   \n",
       "KPL1         3.653737  3.768042  3.377445  3.632990  3.423870  3.701685   \n",
       "MCF7         3.799259  3.766226  3.436819  3.599808  3.424211  3.722665   \n",
       "MDAMB134VI   3.820953  3.573634  3.437872  3.662788  3.090125  3.614186   \n",
       "MDAMB157     3.692774  3.569152  3.434371  3.482113  3.085397  3.689523   \n",
       "MDAMB175VII  3.801248  3.817059  3.434371  3.642510  3.410599  3.625708   \n",
       "MDAMB231     3.697757  3.777840  3.434692  3.552554  3.522854  3.717033   \n",
       "MDAMB361     3.652982  3.611716  3.306673  3.489289  3.320500  3.609891   \n",
       "MDAMB415     3.817422  3.790494  3.623222  3.411827  3.408243  3.544595   \n",
       "MDAMB436     3.653090  3.614186  3.491587  3.468249  3.508830  3.768392   \n",
       "MDAMB453     3.670045  3.825571  3.208388  3.493779  3.330076  3.693555   \n",
       "MDAMB468     3.586815  3.658292  3.412681  3.508144  3.398086  3.573770   \n",
       "SKBR3        3.779554  3.803815  3.468512  3.467017  3.385313  3.724229   \n",
       "T47D         3.828120  3.809211  3.287356  3.560973  3.278822  3.755508   \n",
       "UACC812      3.760952  3.755296  3.172617  3.590003  3.281119  3.587107   \n",
       "UACC893      3.847583  3.761942  3.551718  3.599037  3.619415  3.750216   \n",
       "ZR751        3.741632  3.628281  3.410968  3.580887  3.495645  3.621797   \n",
       "ZR7530       3.836455  3.708534  3.392570  3.646714  3.461452  3.573315   \n",
       "\n",
       "Description   ZNF512B     ACBD4     ACAP2      EME2  ...      ULK4    ZNF646  \\\n",
       "AU565        3.738496  3.257924  3.761257  3.627802  ...  2.980906  3.636805   \n",
       "BT20         3.809238  3.334112  3.809542  3.545632  ...  3.130638  3.629678   \n",
       "BT474        3.844886  3.109861  3.680569  3.547364  ...  2.982011  3.573315   \n",
       "BT483        3.885437  3.379077  3.710406  3.741237  ...  3.275453  3.689122   \n",
       "BT549        3.765316  3.122235  3.717987  3.362688  ...  3.168110  3.609927   \n",
       "CAL120       3.693616  3.449635  3.696256  3.341922  ...  3.244854  3.583388   \n",
       "CAL148       3.906011  3.299693  3.691926  3.630465  ...  3.285878  3.834544   \n",
       "CAL51        3.733175  3.351489  3.763339  3.479595  ...  3.195724  3.570273   \n",
       "CAL851       3.520514  3.268799  3.737851  3.399798  ...  3.007002  3.452355   \n",
       "CAMA1        3.873401  3.502478  3.793412  3.814846  ...  3.455222  3.728178   \n",
       "DU4475       3.491359  2.925983  3.682262  3.552554  ...  3.168110  3.606358   \n",
       "EFM192A      3.864426  3.280357  3.682085  3.573907  ...  2.908389  3.633914   \n",
       "EFM19        3.916202  3.247601  3.758211  3.669200  ...  3.161153  3.678082   \n",
       "HCC1143      3.579314  3.417836  3.806937  3.399273  ...  3.059250  3.687997   \n",
       "HCC1187      3.756209  2.952607  3.652819  3.449439  ...  2.831663  3.610502   \n",
       "HCC1395      3.800286  3.194132  3.362039  3.279591  ...  3.137120  3.683564   \n",
       "HCC1419      3.877692  3.214245  3.762296  3.611038  ...  3.212069  3.641111   \n",
       "HCC1428      3.913205  3.343913  3.821925  3.661134  ...  3.049765  3.654809   \n",
       "HCC1500      3.843551  3.514877  3.809506  3.795547  ...  3.434585  3.710933   \n",
       "HCC1569      3.795151  2.764350  3.659177  3.433403  ...  3.033833  3.631499   \n",
       "HCC1599      3.748916  3.285383  3.739227  3.522036  ...  3.086079  3.593087   \n",
       "HCC1806      3.703820  3.490519  3.807437  3.517623  ...  3.255904  3.556617   \n",
       "HCC1937      3.861571  3.471804  3.848265  3.565116  ...  2.998981  3.708330   \n",
       "HCC1954      3.637736  3.232468  3.758613  3.353206  ...  3.037286  3.498150   \n",
       "HCC202       3.818704  3.361388  3.717450  3.530753  ...  3.007002  3.753440   \n",
       "HCC2157      3.883909  3.093438  3.736643  3.638334  ...  3.086079  3.571062   \n",
       "HCC2218      3.836017  3.144430  3.647137  3.747534  ...  3.162564  3.620929   \n",
       "HCC38        3.766018  3.460169  3.719808  3.549556  ...  3.028546  3.597873   \n",
       "HCC70        3.757951  3.083338  3.790843  3.547203  ...  3.003028  3.634619   \n",
       "HDQP1        3.716684  3.561072  3.719141  3.362202  ...  3.099271  3.570877   \n",
       "HMC18        3.686283  3.578786  3.766312  3.483477  ...  3.106802  3.562985   \n",
       "HMEL         3.709949  3.372764  3.676039  3.684024  ...  3.178760  3.547687   \n",
       "HS578T       3.554470  2.983110  3.713953  3.142886  ...  3.131733  3.410846   \n",
       "JIMT1        3.717935  3.039841  3.722598  3.285135  ...  3.126200  3.539417   \n",
       "KPL1         3.871427  3.306894  3.691802  3.725956  ...  3.111072  3.609205   \n",
       "MCF7         3.884410  3.320500  3.750106  3.694719  ...  3.138709  3.599076   \n",
       "MDAMB134VI   3.772660  3.365899  3.727937  3.666856  ...  3.332201  3.516582   \n",
       "MDAMB157     3.801068  3.309741  3.649175  3.430138  ...  3.234751  3.574043   \n",
       "MDAMB175VII  3.809077  3.439856  3.686369  3.561565  ...  3.265519  3.549503   \n",
       "MDAMB231     3.653440  3.205015  3.632866  3.291720  ...  3.202351  3.506694   \n",
       "MDAMB361     3.636473  3.067588  3.487114  3.561909  ...  2.894261  3.504810   \n",
       "MDAMB415     3.676177  3.333731  3.677397  3.724146  ...  3.170376  3.559634   \n",
       "MDAMB436     3.680815  3.018507  3.671936  3.350971  ...  3.132278  3.681707   \n",
       "MDAMB453     3.750806  3.284139  3.682240  3.580930  ...  3.100545  3.597717   \n",
       "MDAMB468     3.566027  3.122235  3.545087  3.339725  ...  2.895873  3.443856   \n",
       "SKBR3        3.758536  3.233450  3.749388  3.634068  ...  2.918814  3.633761   \n",
       "T47D         3.833122  3.563909  3.810441  3.636261  ...  3.210605  3.609855   \n",
       "UACC812      3.677053  3.494603  3.607276  3.805904  ...  3.127875  3.540937   \n",
       "UACC893      3.781544  3.176150  3.760913  3.541832  ...  3.203116  3.604988   \n",
       "ZR751        3.690761  3.283889  3.642655  3.629425  ...  3.054560  3.459154   \n",
       "ZR7530       3.769869  3.149994  3.624274  3.624274  ...  3.146471  3.551771   \n",
       "\n",
       "Description     SMYD5     TRIB2    PI4K2B     HSPA2    CCDC12    LARP4B  \\\n",
       "AU565        3.645724  3.491054  3.565164  3.356255  3.601833  3.831178   \n",
       "BT20         3.661211  3.596583  3.632804  3.471718  3.626549  3.800706   \n",
       "BT474        3.605730  3.156377  3.645297  2.958803  3.524539  3.827388   \n",
       "BT483        3.587191  3.596661  3.565979  3.091456  3.610717  3.868592   \n",
       "BT549        3.585554  3.614850  3.682196  3.629488  3.625481  3.856708   \n",
       "CAL120       3.651814  3.319060  3.568070  3.393931  3.557225  3.853478   \n",
       "CAL148       3.756814  3.467722  3.706168  3.440890  3.751993  3.850212   \n",
       "CAL51        3.571617  3.773988  3.643838  3.343552  3.562595  3.769570   \n",
       "CAL851       3.586060  3.484195  3.637676  3.646799  3.552032  3.769319   \n",
       "CAMA1        3.657088  3.269070  3.773744  3.357260  3.556617  3.838411   \n",
       "DU4475       3.551246  3.875805  3.631998  3.218524  3.635442  3.823752   \n",
       "EFM192A      3.627385  3.553178  3.715949  3.611858  3.600116  3.834677   \n",
       "EFM19        3.583259  2.802665  3.622097  3.311040  3.596583  3.834906   \n",
       "HCC1143      3.573451  3.711749  3.591999  3.639196  3.349232  3.833369   \n",
       "HCC1187      3.509376  3.636684  3.571847  3.558785  3.527615  3.897757   \n",
       "HCC1395      3.579927  3.699144  3.646262  3.593007  3.617475  3.670694   \n",
       "HCC1419      3.567313  3.247904  3.753842  3.480818  3.582831  3.784432   \n",
       "HCC1428      3.701414  2.991716  3.602250  3.187217  3.560181  3.912781   \n",
       "HCC1500      3.703782  2.457293  3.662332  3.750683  3.614431  3.888624   \n",
       "HCC1569      3.644154  3.639492  3.559783  2.625253  3.578830  3.799499   \n",
       "HCC1599      3.675854  3.429698  3.710406  3.413531  3.637166  3.798515   \n",
       "HCC1806      3.710897  3.411337  3.587065  3.571570  3.602854  3.785053   \n",
       "HCC1937      3.616134  3.459709  3.639166  3.678378  3.601377  3.751148   \n",
       "HCC1954      3.529131  3.758237  3.592886  3.369677  3.495348  3.811712   \n",
       "HCC202       3.660750  2.998981  3.575535  3.308213  3.543109  3.842510   \n",
       "HCC2157      3.687869  3.467634  3.568776  3.078453  3.583473  3.889321   \n",
       "HCC2218      3.601871  2.897475  3.506555  3.098631  3.590780  3.831738   \n",
       "HCC38        3.597249  3.666066  3.519492  3.629930  3.565308  3.834951   \n",
       "HCC70        3.541441  3.825023  3.673073  3.739450  3.518141  3.913108   \n",
       "HDQP1        3.549450  3.497857  3.556414  3.594328  3.544046  3.781434   \n",
       "HMC18        3.658214  3.940912  3.585596  3.152965  3.626452  3.753708   \n",
       "HMEL         3.534123  3.638483  3.534123  3.408368  3.426022  3.654702   \n",
       "HS578T       3.569339  3.762068  3.396623  3.672173  3.493704  3.650005   \n",
       "JIMT1        3.656032  3.522665  3.397422  3.546609  3.597132  3.779554   \n",
       "KPL1         3.658058  3.213884  3.589880  3.492119  3.543716  3.829972   \n",
       "MCF7         3.640142  3.595083  3.626968  3.310391  3.549184  3.834463   \n",
       "MDAMB134VI   3.432863  2.702169  3.654113  3.169020  3.543164  3.730715   \n",
       "MDAMB157     3.591675  3.747042  3.599230  3.615198  3.608116  3.809238   \n",
       "MDAMB175VII  3.539020  3.452259  3.547095  3.873291  3.631655  3.848705   \n",
       "MDAMB231     3.627353  3.607679  3.645240  2.722447  3.612709  3.777275   \n",
       "MDAMB361     3.490901  3.226131  3.452836  2.660365  3.467370  3.622793   \n",
       "MDAMB415     3.558985  3.504318  3.584623  3.906343  3.470512  3.788350   \n",
       "MDAMB436     3.667935  3.668252  3.604840  3.462816  3.660981  3.766911   \n",
       "MDAMB453     3.571755  3.394202  3.548705  3.179191  3.641725  3.758107   \n",
       "MDAMB468     3.469210  3.733579  3.555240  3.459893  3.461178  3.747912   \n",
       "SKBR3        3.637436  3.392706  3.570040  3.364461  3.624339  3.846052   \n",
       "T47D         3.564054  2.249411  3.618839  3.303778  3.611395  3.833489   \n",
       "UACC812      3.554367  3.142368  3.527432  3.243000  3.548598  3.769307   \n",
       "UACC893      3.567645  3.581364  3.593007  2.870440  3.536734  3.851443   \n",
       "ZR751        3.433296  3.535695  3.644183  2.568211  3.488515  3.718091   \n",
       "ZR7530       3.546771  3.133905  3.744829  3.856646  3.622958  3.769798   \n",
       "\n",
       "Description  ARHGAP32     HSPA8  \n",
       "AU565        3.867508  4.237902  \n",
       "BT20         3.741588  4.157696  \n",
       "BT474        3.774289  4.161788  \n",
       "BT483        3.758717  4.139297  \n",
       "BT549        3.630873  4.227375  \n",
       "CAL120       3.654140  4.169782  \n",
       "CAL148       3.822275  4.172680  \n",
       "CAL51        3.574497  4.127340  \n",
       "CAL851       3.643176  4.171931  \n",
       "CAMA1        3.742696  4.172714  \n",
       "DU4475       3.633144  4.150906  \n",
       "EFM192A      3.738256  4.177865  \n",
       "EFM19        3.641053  4.153931  \n",
       "HCC1143      3.649147  4.093862  \n",
       "HCC1187      3.920391  4.108255  \n",
       "HCC1395      3.633330  4.099039  \n",
       "HCC1419      3.779966  4.135777  \n",
       "HCC1428      3.845895  4.151802  \n",
       "HCC1500      3.741603  4.138983  \n",
       "HCC1569      3.703877  4.205626  \n",
       "HCC1599      3.717242  4.132682  \n",
       "HCC1806      3.816196  4.039863  \n",
       "HCC1937      3.772941  4.154817  \n",
       "HCC1954      3.649591  4.108407  \n",
       "HCC202       3.682572  4.102388  \n",
       "HCC2157      3.609747  4.227647  \n",
       "HCC2218      3.873318  4.220537  \n",
       "HCC38        3.580669  4.085415  \n",
       "HCC70        3.812238  4.112871  \n",
       "HDQP1        3.680614  4.089035  \n",
       "HMC18        3.864503  4.187413  \n",
       "HMEL         3.667053  4.092750  \n",
       "HS578T       3.421343  4.081822  \n",
       "JIMT1        3.578609  4.111462  \n",
       "KPL1         3.604467  4.138842  \n",
       "MCF7         3.644756  4.144133  \n",
       "MDAMB134VI   3.702285  4.060782  \n",
       "MDAMB157     3.519236  4.171642  \n",
       "MDAMB175VII  3.763914  4.051175  \n",
       "MDAMB231     3.669369  4.142152  \n",
       "MDAMB361     3.624044  4.056456  \n",
       "MDAMB415     3.732412  4.038273  \n",
       "MDAMB436     3.553799  4.186805  \n",
       "MDAMB453     3.819220  4.147751  \n",
       "MDAMB468     3.754043  4.133961  \n",
       "SKBR3        3.860317  4.203025  \n",
       "T47D         3.814192  4.204522  \n",
       "UACC812      3.724030  4.013635  \n",
       "UACC893      3.773127  4.157864  \n",
       "ZR751        3.628727  4.114475  \n",
       "ZR7530       3.715052  4.129119  \n",
       "\n",
       "[51 rows x 6347 columns]"
      ]
     },
     "execution_count": 98,
     "metadata": {},
     "output_type": "execute_result"
    }
   ],
   "source": [
    "breast_filt"
   ]
  },
  {
   "cell_type": "code",
   "execution_count": 13,
   "metadata": {},
   "outputs": [
    {
     "data": {
      "text/html": [
       "<div>\n",
       "<style scoped>\n",
       "    .dataframe tbody tr th:only-of-type {\n",
       "        vertical-align: middle;\n",
       "    }\n",
       "\n",
       "    .dataframe tbody tr th {\n",
       "        vertical-align: top;\n",
       "    }\n",
       "\n",
       "    .dataframe thead th {\n",
       "        text-align: right;\n",
       "    }\n",
       "</style>\n",
       "<table border=\"1\" class=\"dataframe\">\n",
       "  <thead>\n",
       "    <tr style=\"text-align: right;\">\n",
       "      <th></th>\n",
       "      <th>ARL1</th>\n",
       "      <th>HEXIM1</th>\n",
       "      <th>ABHD17B</th>\n",
       "      <th>LCOR</th>\n",
       "      <th>AP1S3</th>\n",
       "      <th>EXOSC2</th>\n",
       "      <th>ZNF512B</th>\n",
       "      <th>ACBD4</th>\n",
       "      <th>ACAP2</th>\n",
       "      <th>EME2</th>\n",
       "      <th>...</th>\n",
       "      <th>ULK4</th>\n",
       "      <th>ZNF646</th>\n",
       "      <th>SMYD5</th>\n",
       "      <th>TRIB2</th>\n",
       "      <th>PI4K2B</th>\n",
       "      <th>HSPA2</th>\n",
       "      <th>CCDC12</th>\n",
       "      <th>LARP4B</th>\n",
       "      <th>ARHGAP32</th>\n",
       "      <th>HSPA8</th>\n",
       "    </tr>\n",
       "    <tr>\n",
       "      <th>Case ID</th>\n",
       "      <th></th>\n",
       "      <th></th>\n",
       "      <th></th>\n",
       "      <th></th>\n",
       "      <th></th>\n",
       "      <th></th>\n",
       "      <th></th>\n",
       "      <th></th>\n",
       "      <th></th>\n",
       "      <th></th>\n",
       "      <th></th>\n",
       "      <th></th>\n",
       "      <th></th>\n",
       "      <th></th>\n",
       "      <th></th>\n",
       "      <th></th>\n",
       "      <th></th>\n",
       "      <th></th>\n",
       "      <th></th>\n",
       "      <th></th>\n",
       "      <th></th>\n",
       "    </tr>\n",
       "  </thead>\n",
       "  <tbody>\n",
       "    <tr>\n",
       "      <th>TCGA-A1-A0SB</th>\n",
       "      <td>2587.400</td>\n",
       "      <td>1104.812</td>\n",
       "      <td>456.868</td>\n",
       "      <td>2236.628</td>\n",
       "      <td>137.692</td>\n",
       "      <td>667.160</td>\n",
       "      <td>1815.576</td>\n",
       "      <td>237.160</td>\n",
       "      <td>1116.772</td>\n",
       "      <td>220.724</td>\n",
       "      <td>...</td>\n",
       "      <td>106.192</td>\n",
       "      <td>1192.000</td>\n",
       "      <td>981.664</td>\n",
       "      <td>874.956</td>\n",
       "      <td>785.544</td>\n",
       "      <td>312.284</td>\n",
       "      <td>689.200</td>\n",
       "      <td>1851.024</td>\n",
       "      <td>2478.924</td>\n",
       "      <td>27029.052</td>\n",
       "    </tr>\n",
       "    <tr>\n",
       "      <th>TCGA-A1-A0SD</th>\n",
       "      <td>6168.132</td>\n",
       "      <td>3469.572</td>\n",
       "      <td>700.236</td>\n",
       "      <td>3934.436</td>\n",
       "      <td>301.684</td>\n",
       "      <td>961.284</td>\n",
       "      <td>2016.700</td>\n",
       "      <td>528.900</td>\n",
       "      <td>3125.680</td>\n",
       "      <td>442.872</td>\n",
       "      <td>...</td>\n",
       "      <td>479.508</td>\n",
       "      <td>1253.408</td>\n",
       "      <td>1328.476</td>\n",
       "      <td>1043.448</td>\n",
       "      <td>1641.924</td>\n",
       "      <td>7679.812</td>\n",
       "      <td>1036.848</td>\n",
       "      <td>4763.948</td>\n",
       "      <td>5253.924</td>\n",
       "      <td>40102.564</td>\n",
       "    </tr>\n",
       "    <tr>\n",
       "      <th>TCGA-A1-A0SE</th>\n",
       "      <td>6748.240</td>\n",
       "      <td>3042.608</td>\n",
       "      <td>646.032</td>\n",
       "      <td>2676.000</td>\n",
       "      <td>285.316</td>\n",
       "      <td>961.956</td>\n",
       "      <td>1644.944</td>\n",
       "      <td>507.676</td>\n",
       "      <td>1884.632</td>\n",
       "      <td>438.288</td>\n",
       "      <td>...</td>\n",
       "      <td>342.832</td>\n",
       "      <td>1764.380</td>\n",
       "      <td>1623.532</td>\n",
       "      <td>1132.916</td>\n",
       "      <td>958.792</td>\n",
       "      <td>1346.764</td>\n",
       "      <td>1091.280</td>\n",
       "      <td>5239.832</td>\n",
       "      <td>3860.188</td>\n",
       "      <td>46771.264</td>\n",
       "    </tr>\n",
       "    <tr>\n",
       "      <th>TCGA-A1-A0SF</th>\n",
       "      <td>3505.432</td>\n",
       "      <td>2416.200</td>\n",
       "      <td>429.200</td>\n",
       "      <td>2918.968</td>\n",
       "      <td>108.068</td>\n",
       "      <td>708.700</td>\n",
       "      <td>1684.420</td>\n",
       "      <td>505.540</td>\n",
       "      <td>1205.748</td>\n",
       "      <td>550.032</td>\n",
       "      <td>...</td>\n",
       "      <td>232.620</td>\n",
       "      <td>1457.852</td>\n",
       "      <td>1167.020</td>\n",
       "      <td>493.608</td>\n",
       "      <td>782.728</td>\n",
       "      <td>7186.064</td>\n",
       "      <td>1030.728</td>\n",
       "      <td>3313.220</td>\n",
       "      <td>4374.540</td>\n",
       "      <td>23908.884</td>\n",
       "    </tr>\n",
       "    <tr>\n",
       "      <th>TCGA-A1-A0SG</th>\n",
       "      <td>5923.708</td>\n",
       "      <td>4389.372</td>\n",
       "      <td>527.836</td>\n",
       "      <td>2300.272</td>\n",
       "      <td>368.196</td>\n",
       "      <td>638.636</td>\n",
       "      <td>1942.408</td>\n",
       "      <td>923.824</td>\n",
       "      <td>1824.828</td>\n",
       "      <td>1042.168</td>\n",
       "      <td>...</td>\n",
       "      <td>355.884</td>\n",
       "      <td>2676.324</td>\n",
       "      <td>1173.576</td>\n",
       "      <td>1383.456</td>\n",
       "      <td>1160.176</td>\n",
       "      <td>1142.832</td>\n",
       "      <td>1604.044</td>\n",
       "      <td>3635.536</td>\n",
       "      <td>4675.468</td>\n",
       "      <td>43342.920</td>\n",
       "    </tr>\n",
       "    <tr>\n",
       "      <th>...</th>\n",
       "      <td>...</td>\n",
       "      <td>...</td>\n",
       "      <td>...</td>\n",
       "      <td>...</td>\n",
       "      <td>...</td>\n",
       "      <td>...</td>\n",
       "      <td>...</td>\n",
       "      <td>...</td>\n",
       "      <td>...</td>\n",
       "      <td>...</td>\n",
       "      <td>...</td>\n",
       "      <td>...</td>\n",
       "      <td>...</td>\n",
       "      <td>...</td>\n",
       "      <td>...</td>\n",
       "      <td>...</td>\n",
       "      <td>...</td>\n",
       "      <td>...</td>\n",
       "      <td>...</td>\n",
       "      <td>...</td>\n",
       "      <td>...</td>\n",
       "    </tr>\n",
       "    <tr>\n",
       "      <th>TCGA-OL-A6VR</th>\n",
       "      <td>6667.316</td>\n",
       "      <td>6024.560</td>\n",
       "      <td>699.744</td>\n",
       "      <td>3480.368</td>\n",
       "      <td>258.680</td>\n",
       "      <td>1521.780</td>\n",
       "      <td>3079.264</td>\n",
       "      <td>1890.928</td>\n",
       "      <td>1855.708</td>\n",
       "      <td>1008.440</td>\n",
       "      <td>...</td>\n",
       "      <td>689.812</td>\n",
       "      <td>2439.164</td>\n",
       "      <td>2335.284</td>\n",
       "      <td>556.456</td>\n",
       "      <td>1191.276</td>\n",
       "      <td>52966.608</td>\n",
       "      <td>2931.324</td>\n",
       "      <td>5008.676</td>\n",
       "      <td>4944.136</td>\n",
       "      <td>55757.120</td>\n",
       "    </tr>\n",
       "    <tr>\n",
       "      <th>TCGA-PE-A5DC</th>\n",
       "      <td>7126.336</td>\n",
       "      <td>3844.420</td>\n",
       "      <td>262.188</td>\n",
       "      <td>2085.140</td>\n",
       "      <td>532.456</td>\n",
       "      <td>1056.816</td>\n",
       "      <td>1688.508</td>\n",
       "      <td>1539.344</td>\n",
       "      <td>1095.884</td>\n",
       "      <td>2436.060</td>\n",
       "      <td>...</td>\n",
       "      <td>344.576</td>\n",
       "      <td>1355.560</td>\n",
       "      <td>1436.228</td>\n",
       "      <td>676.656</td>\n",
       "      <td>922.960</td>\n",
       "      <td>375.192</td>\n",
       "      <td>980.004</td>\n",
       "      <td>3212.556</td>\n",
       "      <td>3119.356</td>\n",
       "      <td>20583.648</td>\n",
       "    </tr>\n",
       "    <tr>\n",
       "      <th>TCGA-PE-A5DD</th>\n",
       "      <td>3892.424</td>\n",
       "      <td>2047.224</td>\n",
       "      <td>214.508</td>\n",
       "      <td>1366.824</td>\n",
       "      <td>135.984</td>\n",
       "      <td>1011.872</td>\n",
       "      <td>1606.724</td>\n",
       "      <td>352.416</td>\n",
       "      <td>845.016</td>\n",
       "      <td>1053.440</td>\n",
       "      <td>...</td>\n",
       "      <td>475.700</td>\n",
       "      <td>1335.536</td>\n",
       "      <td>930.136</td>\n",
       "      <td>1251.564</td>\n",
       "      <td>483.204</td>\n",
       "      <td>2071.264</td>\n",
       "      <td>1654.744</td>\n",
       "      <td>2564.340</td>\n",
       "      <td>4063.448</td>\n",
       "      <td>14443.640</td>\n",
       "    </tr>\n",
       "    <tr>\n",
       "      <th>TCGA-PE-A5DE</th>\n",
       "      <td>4042.400</td>\n",
       "      <td>1655.356</td>\n",
       "      <td>253.704</td>\n",
       "      <td>1220.424</td>\n",
       "      <td>201.740</td>\n",
       "      <td>532.508</td>\n",
       "      <td>1647.160</td>\n",
       "      <td>285.604</td>\n",
       "      <td>1170.524</td>\n",
       "      <td>426.176</td>\n",
       "      <td>...</td>\n",
       "      <td>414.088</td>\n",
       "      <td>1118.804</td>\n",
       "      <td>706.884</td>\n",
       "      <td>540.840</td>\n",
       "      <td>684.696</td>\n",
       "      <td>1497.704</td>\n",
       "      <td>988.012</td>\n",
       "      <td>1320.744</td>\n",
       "      <td>2957.908</td>\n",
       "      <td>17784.284</td>\n",
       "    </tr>\n",
       "    <tr>\n",
       "      <th>TCGA-V7-A7HQ</th>\n",
       "      <td>2461.184</td>\n",
       "      <td>2720.404</td>\n",
       "      <td>211.408</td>\n",
       "      <td>680.988</td>\n",
       "      <td>384.340</td>\n",
       "      <td>791.600</td>\n",
       "      <td>1241.432</td>\n",
       "      <td>1846.736</td>\n",
       "      <td>304.152</td>\n",
       "      <td>1796.148</td>\n",
       "      <td>...</td>\n",
       "      <td>367.484</td>\n",
       "      <td>1159.540</td>\n",
       "      <td>1689.448</td>\n",
       "      <td>326.912</td>\n",
       "      <td>273.148</td>\n",
       "      <td>2394.856</td>\n",
       "      <td>5176.852</td>\n",
       "      <td>1973.736</td>\n",
       "      <td>787.692</td>\n",
       "      <td>43395.644</td>\n",
       "    </tr>\n",
       "  </tbody>\n",
       "</table>\n",
       "<p>857 rows × 6347 columns</p>\n",
       "</div>"
      ],
      "text/plain": [
       "                  ARL1    HEXIM1  ABHD17B      LCOR    AP1S3    EXOSC2  \\\n",
       "Case ID                                                                  \n",
       "TCGA-A1-A0SB  2587.400  1104.812  456.868  2236.628  137.692   667.160   \n",
       "TCGA-A1-A0SD  6168.132  3469.572  700.236  3934.436  301.684   961.284   \n",
       "TCGA-A1-A0SE  6748.240  3042.608  646.032  2676.000  285.316   961.956   \n",
       "TCGA-A1-A0SF  3505.432  2416.200  429.200  2918.968  108.068   708.700   \n",
       "TCGA-A1-A0SG  5923.708  4389.372  527.836  2300.272  368.196   638.636   \n",
       "...                ...       ...      ...       ...      ...       ...   \n",
       "TCGA-OL-A6VR  6667.316  6024.560  699.744  3480.368  258.680  1521.780   \n",
       "TCGA-PE-A5DC  7126.336  3844.420  262.188  2085.140  532.456  1056.816   \n",
       "TCGA-PE-A5DD  3892.424  2047.224  214.508  1366.824  135.984  1011.872   \n",
       "TCGA-PE-A5DE  4042.400  1655.356  253.704  1220.424  201.740   532.508   \n",
       "TCGA-V7-A7HQ  2461.184  2720.404  211.408   680.988  384.340   791.600   \n",
       "\n",
       "               ZNF512B     ACBD4     ACAP2      EME2  ...     ULK4    ZNF646  \\\n",
       "Case ID                                               ...                      \n",
       "TCGA-A1-A0SB  1815.576   237.160  1116.772   220.724  ...  106.192  1192.000   \n",
       "TCGA-A1-A0SD  2016.700   528.900  3125.680   442.872  ...  479.508  1253.408   \n",
       "TCGA-A1-A0SE  1644.944   507.676  1884.632   438.288  ...  342.832  1764.380   \n",
       "TCGA-A1-A0SF  1684.420   505.540  1205.748   550.032  ...  232.620  1457.852   \n",
       "TCGA-A1-A0SG  1942.408   923.824  1824.828  1042.168  ...  355.884  2676.324   \n",
       "...                ...       ...       ...       ...  ...      ...       ...   \n",
       "TCGA-OL-A6VR  3079.264  1890.928  1855.708  1008.440  ...  689.812  2439.164   \n",
       "TCGA-PE-A5DC  1688.508  1539.344  1095.884  2436.060  ...  344.576  1355.560   \n",
       "TCGA-PE-A5DD  1606.724   352.416   845.016  1053.440  ...  475.700  1335.536   \n",
       "TCGA-PE-A5DE  1647.160   285.604  1170.524   426.176  ...  414.088  1118.804   \n",
       "TCGA-V7-A7HQ  1241.432  1846.736   304.152  1796.148  ...  367.484  1159.540   \n",
       "\n",
       "                 SMYD5     TRIB2    PI4K2B      HSPA2    CCDC12    LARP4B  \\\n",
       "Case ID                                                                     \n",
       "TCGA-A1-A0SB   981.664   874.956   785.544    312.284   689.200  1851.024   \n",
       "TCGA-A1-A0SD  1328.476  1043.448  1641.924   7679.812  1036.848  4763.948   \n",
       "TCGA-A1-A0SE  1623.532  1132.916   958.792   1346.764  1091.280  5239.832   \n",
       "TCGA-A1-A0SF  1167.020   493.608   782.728   7186.064  1030.728  3313.220   \n",
       "TCGA-A1-A0SG  1173.576  1383.456  1160.176   1142.832  1604.044  3635.536   \n",
       "...                ...       ...       ...        ...       ...       ...   \n",
       "TCGA-OL-A6VR  2335.284   556.456  1191.276  52966.608  2931.324  5008.676   \n",
       "TCGA-PE-A5DC  1436.228   676.656   922.960    375.192   980.004  3212.556   \n",
       "TCGA-PE-A5DD   930.136  1251.564   483.204   2071.264  1654.744  2564.340   \n",
       "TCGA-PE-A5DE   706.884   540.840   684.696   1497.704   988.012  1320.744   \n",
       "TCGA-V7-A7HQ  1689.448   326.912   273.148   2394.856  5176.852  1973.736   \n",
       "\n",
       "              ARHGAP32      HSPA8  \n",
       "Case ID                            \n",
       "TCGA-A1-A0SB  2478.924  27029.052  \n",
       "TCGA-A1-A0SD  5253.924  40102.564  \n",
       "TCGA-A1-A0SE  3860.188  46771.264  \n",
       "TCGA-A1-A0SF  4374.540  23908.884  \n",
       "TCGA-A1-A0SG  4675.468  43342.920  \n",
       "...                ...        ...  \n",
       "TCGA-OL-A6VR  4944.136  55757.120  \n",
       "TCGA-PE-A5DC  3119.356  20583.648  \n",
       "TCGA-PE-A5DD  4063.448  14443.640  \n",
       "TCGA-PE-A5DE  2957.908  17784.284  \n",
       "TCGA-V7-A7HQ   787.692  43395.644  \n",
       "\n",
       "[857 rows x 6347 columns]"
      ]
     },
     "execution_count": 13,
     "metadata": {},
     "output_type": "execute_result"
    }
   ],
   "source": [
    "deseq_filtered_rna_seq_df_common"
   ]
  },
  {
   "cell_type": "code",
   "execution_count": 24,
   "metadata": {},
   "outputs": [],
   "source": [
    "ispy2_expr = pd.read_csv('../data/validation/GSE173839_ISPY2_AgilentGeneExp_durvaPlusCtr_FFPE_meanCol_geneLevel_n105.txt', sep = '\\t')\n",
    "ispy2_expr.set_index('GeneName', inplace=True)\n",
    "ispy_probe_transposed = ispy2_expr.T\n",
    "ispy_probe_transposed.sort_index(inplace=True)\n",
    "ispy_probe_transposed.dropna(inplace=True)\n",
    "\n",
    "common_columns_ispy = ispy_probe_transposed.columns.intersection(deseq_filtered_rna_seq_df_common.columns)\n",
    "\n",
    "# Convert to a list\n",
    "deseq_filtered_rna_seq_df_common = deseq_filtered_rna_seq_df_common[list(common_columns_ispy)]"
   ]
  },
  {
   "cell_type": "code",
   "execution_count": 26,
   "metadata": {},
   "outputs": [
    {
     "name": "stdout",
     "output_type": "stream",
     "text": [
      "\n",
      "Training Elastic Net with Grid Search to predict HRD probabilities:\n"
     ]
    },
    {
     "name": "stderr",
     "output_type": "stream",
     "text": [
      "/Users/johnsmith/miniconda3/envs/HRDclass/lib/python3.12/site-packages/sklearn/linear_model/_coordinate_descent.py:697: ConvergenceWarning: Objective did not converge. You might want to increase the number of iterations, check the scale of the features or consider increasing regularisation. Duality gap: 5.123e-01, tolerance: 8.831e-03\n",
      "  model = cd_fast.enet_coordinate_descent(\n",
      "/Users/johnsmith/miniconda3/envs/HRDclass/lib/python3.12/site-packages/sklearn/linear_model/_coordinate_descent.py:697: ConvergenceWarning: Objective did not converge. You might want to increase the number of iterations, check the scale of the features or consider increasing regularisation. Duality gap: 4.231e-02, tolerance: 8.831e-03\n",
      "  model = cd_fast.enet_coordinate_descent(\n"
     ]
    },
    {
     "data": {
      "image/png": "[encoded data removed]",
      "text/plain": [
       "<Figure size 800x600 with 1 Axes>"
      ]
     },
     "metadata": {},
     "output_type": "display_data"
    },
    {
     "name": "stdout",
     "output_type": "stream",
     "text": [
      "Best Parameters: {'alpha': 0.1, 'l1_ratio': 0.1}\n",
      "Mean Squared Error: 0.055\n",
      "R^2 Score: 0.577\n"
     ]
    },
    {
     "data": {
      "text/plain": [
       "({'Mean Squared Error': 0.05548195602483146, 'R^2 Score': 0.5770567060560311},\n",
       " {'alpha': 0.1, 'l1_ratio': 0.1})"
      ]
     },
     "execution_count": 26,
     "metadata": {},
     "output_type": "execute_result"
    }
   ],
   "source": [
    "from sklearn.model_selection import ParameterGrid\n",
    "def preprocess_data(X, y, task='regression'):\n",
    "    \"\"\"\n",
    "    Preprocesses data by splitting into train-test sets and scaling features.\n",
    "    For regression, no label encoding is applied.\n",
    "    \"\"\"\n",
    "    # Split data\n",
    "    X_train, X_test, y_train, y_test = train_test_split(X, y, test_size=0.2, random_state=42)\n",
    "    \n",
    "    # Scale features\n",
    "    scaler = StandardScaler()\n",
    "    X_train_scaled = scaler.fit_transform(X_train)\n",
    "    X_test_scaled = scaler.transform(X_test)\n",
    "    \n",
    "    return X_train_scaled, X_test_scaled, y_train, y_test\n",
    "# Elastic Net Training & Evaluation with Grid Search\n",
    "def train_evaluate_elastic_net_with_grid_search(X_train, X_test, y_train, y_test, alphas, l1_ratios):\n",
    "    \"\"\"\n",
    "    Trains and evaluates Elastic Net models for a grid of hyperparameters.\n",
    "    Returns the best model and its metrics.\n",
    "    \"\"\"\n",
    "    best_model = None\n",
    "    best_metrics = {'Mean Squared Error': float('inf'), 'R^2 Score': -float('inf')}\n",
    "    best_params = {}\n",
    "\n",
    "    # Grid search\n",
    "    param_grid = ParameterGrid({'alpha': alphas, 'l1_ratio': l1_ratios})\n",
    "    for params in param_grid:\n",
    "        model = ElasticNet(alpha=params['alpha'], l1_ratio=params['l1_ratio'], max_iter=1000, random_state=42)\n",
    "        \n",
    "        # Train model\n",
    "        model.fit(X_train, y_train)\n",
    "        \n",
    "        # Predict on test set\n",
    "        y_pred = model.predict(X_test)\n",
    "        \n",
    "        # Evaluate model\n",
    "        mse = mean_squared_error(y_test, y_pred)\n",
    "        r2 = r2_score(y_test, y_pred)\n",
    "\n",
    "        # Update best model if current is better\n",
    "        if mse < best_metrics['Mean Squared Error']:\n",
    "            best_model = model\n",
    "            best_metrics = {'Mean Squared Error': mse, 'R^2 Score': r2}\n",
    "            best_params = params\n",
    "\n",
    "    # Scatter plot of predictions vs actual values for the best model\n",
    "    y_pred_best = best_model.predict(X_test)\n",
    "    plt.figure(figsize=(8, 6))\n",
    "    plt.scatter(y_test, y_pred_best, alpha=0.6, label='Predicted vs Actual')\n",
    "    plt.plot([min(y_test), max(y_test)], [min(y_test), max(y_test)], 'k--', label='Ideal Prediction')\n",
    "    plt.xlabel('Actual Values')\n",
    "    plt.ylabel('Predicted Values')\n",
    "    plt.title('Elastic Net Regression: Predicted vs Actual (Best Model)')\n",
    "    plt.legend(loc=\"upper left\")\n",
    "    plt.show()\n",
    "    \n",
    "    print(f\"Best Parameters: {best_params}\")\n",
    "    print(f\"Mean Squared Error: {best_metrics['Mean Squared Error']:.3f}\")\n",
    "    print(f\"R^2 Score: {best_metrics['R^2 Score']:.3f}\")\n",
    "    \n",
    "    return best_model, best_metrics, best_params\n",
    "\n",
    "# Main Execution with Hyperparameter Grid Search\n",
    "def main():\n",
    "    \"\"\"\n",
    "    Main function for preprocessing data, training Elastic Net with grid search, and displaying results.\n",
    "    \"\"\"\n",
    "    print(\"\\nTraining Elastic Net with Grid Search to predict HRD probabilities:\")\n",
    "    \n",
    "    # Example data preprocessing\n",
    "    X_train, X_test, y_train, y_test = preprocess_data(deseq_filtered_rna_seq_df_common, brca_df_common['soft prob'], task='regression')\n",
    "    \n",
    "    # Define hyperparameter ranges\n",
    "    alphas = [0.01, 0.1, 0.25, 0.5, 1.0]\n",
    "    l1_ratios = [0.1, 0.5, 0.7, 0.9]\n",
    "    \n",
    "    best_model, best_metrics, best_params = train_evaluate_elastic_net_with_grid_search(\n",
    "        X_train, X_test, y_train, y_test, alphas, l1_ratios\n",
    "    )\n",
    "    \n",
    "    return best_model, best_metrics, best_params\n",
    "\n",
    "# Execute Main\n",
    "elastic_net_model, elastic_net_metrics, elastic_net_params = main()\n",
    "elastic_net_metrics, elastic_net_params\n"
   ]
  },
  {
   "cell_type": "markdown",
   "metadata": {},
   "source": [
    "## ISPY stuff\n"
   ]
  },
  {
   "cell_type": "code",
   "execution_count": 27,
   "metadata": {},
   "outputs": [],
   "source": [
    "common_columns_ispy = ispy_probe_transposed.columns.intersection(deseq_filtered_rna_seq_df_common.columns)\n",
    "\n",
    "# Convert to a list\n",
    "ispy_probe_transposed_filt = ispy_probe_transposed[list(common_columns_ispy)]"
   ]
  },
  {
   "cell_type": "code",
   "execution_count": 35,
   "metadata": {},
   "outputs": [],
   "source": [
    "ispy2_response = pd.read_csv('../data/validation/GSE173839_ISPY2_DurvalumabOlaparibArm_biomarkers.csv')\n",
    "ispy2_response.loc[ispy2_response[\"pCR.status\"] == -1, \"pCR.status\"] = (\n",
    "    0  # present in control arm\n",
    ")\n",
    "\n",
    "ispy2_response.sort_values(by='ResearchID', inplace=True)\n",
    "ispy2_response[\"ResearchID\"] = ispy2_response[\"ResearchID\"].astype(str).str.strip()\n",
    "ispy2_expr = ispy2_expr[ispy2_response[\"ResearchID\"]]"
   ]
  },
  {
   "cell_type": "code",
   "execution_count": 54,
   "metadata": {},
   "outputs": [],
   "source": [
    "ispy2_response.set_index('ResearchID', inplace=True)"
   ]
  },
  {
   "cell_type": "code",
   "execution_count": 36,
   "metadata": {},
   "outputs": [],
   "source": [
    "scaler = StandardScaler()\n",
    "\n",
    "# Fit and transform the data\n",
    "scaled_data = scaler.fit_transform(ispy_probe_transposed_filt)"
   ]
  },
  {
   "cell_type": "code",
   "execution_count": 37,
   "metadata": {},
   "outputs": [],
   "source": [
    "ispy_predictions = elastic_net_model.predict(scaled_data)"
   ]
  },
  {
   "cell_type": "code",
   "execution_count": 41,
   "metadata": {},
   "outputs": [
    {
     "data": {
      "text/plain": [
       "Index([ 47,   2,  10,  79,  33,  90,  94,  64,  93,  40,\n",
       "       ...\n",
       "        35,  72,  62,  59,  89,  77,   3, 104, 101,  28],\n",
       "      dtype='int64', length=105)"
      ]
     },
     "execution_count": 41,
     "metadata": {},
     "output_type": "execute_result"
    }
   ],
   "source": [
    "ispy2_response.index"
   ]
  },
  {
   "cell_type": "code",
   "execution_count": 63,
   "metadata": {},
   "outputs": [],
   "source": [
    "# Find the common indices\n",
    "common_indices = ispy_probe_transposed_filt.index.intersection(ispy2_response.index)\n",
    "\n",
    "# Filter both DataFrames for the common indices, maintaining the order\n",
    "filtered_ispy_probe = ispy_probe_transposed_filt.loc[common_indices]\n",
    "filtered_ispy_response = ispy2_response.loc[common_indices]\n",
    "\n",
    "filtered_ispy_response['predictions'] = ispy_predictions"
   ]
  },
  {
   "cell_type": "code",
   "execution_count": 64,
   "metadata": {},
   "outputs": [
    {
     "data": {
      "text/html": [
       "<div>\n",
       "<style scoped>\n",
       "    .dataframe tbody tr th:only-of-type {\n",
       "        vertical-align: middle;\n",
       "    }\n",
       "\n",
       "    .dataframe tbody tr th {\n",
       "        vertical-align: top;\n",
       "    }\n",
       "\n",
       "    .dataframe thead th {\n",
       "        text-align: right;\n",
       "    }\n",
       "</style>\n",
       "<table border=\"1\" class=\"dataframe\">\n",
       "  <thead>\n",
       "    <tr style=\"text-align: right;\">\n",
       "      <th></th>\n",
       "      <th>Arm</th>\n",
       "      <th>HR.status..0.HR....1..HR..</th>\n",
       "      <th>HER2.status..0..HER2...1..HER2..</th>\n",
       "      <th>MP.1.2..class..0..MP1..1..MP2.</th>\n",
       "      <th>pCR.status</th>\n",
       "      <th>PD1</th>\n",
       "      <th>PDL1</th>\n",
       "      <th>T.cells_sig</th>\n",
       "      <th>B.cells_sig</th>\n",
       "      <th>Dendritic.cells_sig</th>\n",
       "      <th>Mast.cells_sig</th>\n",
       "      <th>CD68</th>\n",
       "      <th>TIS_sig</th>\n",
       "      <th>STAT1_sig</th>\n",
       "      <th>TAMsurr_TcClassII_ratio_sig</th>\n",
       "      <th>PARPi7_sig.</th>\n",
       "      <th>Mitotic_sig</th>\n",
       "      <th>ESR1_PGR_ave</th>\n",
       "      <th>SET.index</th>\n",
       "      <th>predictions</th>\n",
       "    </tr>\n",
       "  </thead>\n",
       "  <tbody>\n",
       "    <tr>\n",
       "      <th>102596</th>\n",
       "      <td>durvalumab/olaparib</td>\n",
       "      <td>1</td>\n",
       "      <td>0</td>\n",
       "      <td>1</td>\n",
       "      <td>1</td>\n",
       "      <td>-0.2654</td>\n",
       "      <td>-0.5872</td>\n",
       "      <td>-1.14600</td>\n",
       "      <td>-0.2133</td>\n",
       "      <td>-0.54830</td>\n",
       "      <td>-0.87380</td>\n",
       "      <td>0.4597</td>\n",
       "      <td>-0.77500</td>\n",
       "      <td>0.32190</td>\n",
       "      <td>0.6371</td>\n",
       "      <td>-0.04779</td>\n",
       "      <td>-0.6912</td>\n",
       "      <td>0.2124</td>\n",
       "      <td>0.0000</td>\n",
       "      <td>0.404172</td>\n",
       "    </tr>\n",
       "    <tr>\n",
       "      <th>111922</th>\n",
       "      <td>control</td>\n",
       "      <td>0</td>\n",
       "      <td>0</td>\n",
       "      <td>0</td>\n",
       "      <td>1</td>\n",
       "      <td>-0.2291</td>\n",
       "      <td>0.1822</td>\n",
       "      <td>0.56610</td>\n",
       "      <td>0.6596</td>\n",
       "      <td>0.09725</td>\n",
       "      <td>1.48800</td>\n",
       "      <td>0.1437</td>\n",
       "      <td>0.08854</td>\n",
       "      <td>-1.08500</td>\n",
       "      <td>-1.3380</td>\n",
       "      <td>0.05193</td>\n",
       "      <td>-1.6850</td>\n",
       "      <td>-0.5785</td>\n",
       "      <td>0.0000</td>\n",
       "      <td>0.429232</td>\n",
       "    </tr>\n",
       "    <tr>\n",
       "      <th>115724</th>\n",
       "      <td>durvalumab/olaparib</td>\n",
       "      <td>0</td>\n",
       "      <td>0</td>\n",
       "      <td>1</td>\n",
       "      <td>1</td>\n",
       "      <td>-0.5318</td>\n",
       "      <td>-1.0650</td>\n",
       "      <td>-1.16400</td>\n",
       "      <td>-0.9401</td>\n",
       "      <td>-0.70660</td>\n",
       "      <td>-0.63510</td>\n",
       "      <td>0.5603</td>\n",
       "      <td>-0.45880</td>\n",
       "      <td>-0.02152</td>\n",
       "      <td>1.7470</td>\n",
       "      <td>0.63250</td>\n",
       "      <td>-0.5281</td>\n",
       "      <td>-0.9590</td>\n",
       "      <td>0.0000</td>\n",
       "      <td>0.917270</td>\n",
       "    </tr>\n",
       "    <tr>\n",
       "      <th>123591</th>\n",
       "      <td>durvalumab/olaparib</td>\n",
       "      <td>0</td>\n",
       "      <td>0</td>\n",
       "      <td>1</td>\n",
       "      <td>1</td>\n",
       "      <td>0.2354</td>\n",
       "      <td>-0.1478</td>\n",
       "      <td>0.53980</td>\n",
       "      <td>1.2240</td>\n",
       "      <td>0.08093</td>\n",
       "      <td>-1.64500</td>\n",
       "      <td>1.0920</td>\n",
       "      <td>0.61320</td>\n",
       "      <td>0.29390</td>\n",
       "      <td>0.3913</td>\n",
       "      <td>0.66030</td>\n",
       "      <td>0.8545</td>\n",
       "      <td>-0.8885</td>\n",
       "      <td>0.0000</td>\n",
       "      <td>0.758374</td>\n",
       "    </tr>\n",
       "    <tr>\n",
       "      <th>134956</th>\n",
       "      <td>control</td>\n",
       "      <td>1</td>\n",
       "      <td>0</td>\n",
       "      <td>1</td>\n",
       "      <td>0</td>\n",
       "      <td>1.2960</td>\n",
       "      <td>-1.0260</td>\n",
       "      <td>0.79980</td>\n",
       "      <td>0.4545</td>\n",
       "      <td>-0.36070</td>\n",
       "      <td>0.27960</td>\n",
       "      <td>0.4310</td>\n",
       "      <td>0.21500</td>\n",
       "      <td>0.65450</td>\n",
       "      <td>-0.4670</td>\n",
       "      <td>1.30400</td>\n",
       "      <td>0.7663</td>\n",
       "      <td>0.9600</td>\n",
       "      <td>0.6826</td>\n",
       "      <td>0.402431</td>\n",
       "    </tr>\n",
       "    <tr>\n",
       "      <th>...</th>\n",
       "      <td>...</td>\n",
       "      <td>...</td>\n",
       "      <td>...</td>\n",
       "      <td>...</td>\n",
       "      <td>...</td>\n",
       "      <td>...</td>\n",
       "      <td>...</td>\n",
       "      <td>...</td>\n",
       "      <td>...</td>\n",
       "      <td>...</td>\n",
       "      <td>...</td>\n",
       "      <td>...</td>\n",
       "      <td>...</td>\n",
       "      <td>...</td>\n",
       "      <td>...</td>\n",
       "      <td>...</td>\n",
       "      <td>...</td>\n",
       "      <td>...</td>\n",
       "      <td>...</td>\n",
       "      <td>...</td>\n",
       "    </tr>\n",
       "    <tr>\n",
       "      <th>944184</th>\n",
       "      <td>durvalumab/olaparib</td>\n",
       "      <td>1</td>\n",
       "      <td>0</td>\n",
       "      <td>1</td>\n",
       "      <td>0</td>\n",
       "      <td>0.7932</td>\n",
       "      <td>0.9536</td>\n",
       "      <td>0.91430</td>\n",
       "      <td>0.7279</td>\n",
       "      <td>-0.51960</td>\n",
       "      <td>-1.04100</td>\n",
       "      <td>0.9625</td>\n",
       "      <td>0.81300</td>\n",
       "      <td>0.94120</td>\n",
       "      <td>0.2360</td>\n",
       "      <td>-0.30660</td>\n",
       "      <td>0.3240</td>\n",
       "      <td>0.3629</td>\n",
       "      <td>0.9791</td>\n",
       "      <td>0.728643</td>\n",
       "    </tr>\n",
       "    <tr>\n",
       "      <th>965961</th>\n",
       "      <td>control</td>\n",
       "      <td>1</td>\n",
       "      <td>0</td>\n",
       "      <td>1</td>\n",
       "      <td>0</td>\n",
       "      <td>0.5028</td>\n",
       "      <td>0.3036</td>\n",
       "      <td>0.85170</td>\n",
       "      <td>0.5254</td>\n",
       "      <td>1.10600</td>\n",
       "      <td>0.10030</td>\n",
       "      <td>0.3735</td>\n",
       "      <td>0.53910</td>\n",
       "      <td>0.44300</td>\n",
       "      <td>0.2601</td>\n",
       "      <td>1.24100</td>\n",
       "      <td>-0.0885</td>\n",
       "      <td>-0.8809</td>\n",
       "      <td>0.0000</td>\n",
       "      <td>0.642588</td>\n",
       "    </tr>\n",
       "    <tr>\n",
       "      <th>979809</th>\n",
       "      <td>durvalumab/olaparib</td>\n",
       "      <td>0</td>\n",
       "      <td>0</td>\n",
       "      <td>1</td>\n",
       "      <td>0</td>\n",
       "      <td>-0.3643</td>\n",
       "      <td>0.2692</td>\n",
       "      <td>-0.06857</td>\n",
       "      <td>0.2789</td>\n",
       "      <td>0.52250</td>\n",
       "      <td>0.03754</td>\n",
       "      <td>-1.4370</td>\n",
       "      <td>-0.21720</td>\n",
       "      <td>-0.52470</td>\n",
       "      <td>0.5547</td>\n",
       "      <td>0.16920</td>\n",
       "      <td>0.4013</td>\n",
       "      <td>-0.4975</td>\n",
       "      <td>0.0000</td>\n",
       "      <td>0.564543</td>\n",
       "    </tr>\n",
       "    <tr>\n",
       "      <th>989123</th>\n",
       "      <td>durvalumab/olaparib</td>\n",
       "      <td>0</td>\n",
       "      <td>0</td>\n",
       "      <td>1</td>\n",
       "      <td>1</td>\n",
       "      <td>1.2110</td>\n",
       "      <td>1.6550</td>\n",
       "      <td>1.26500</td>\n",
       "      <td>0.1080</td>\n",
       "      <td>1.51600</td>\n",
       "      <td>-1.07500</td>\n",
       "      <td>0.5747</td>\n",
       "      <td>1.97200</td>\n",
       "      <td>2.39800</td>\n",
       "      <td>0.7749</td>\n",
       "      <td>0.08533</td>\n",
       "      <td>1.0980</td>\n",
       "      <td>-0.7261</td>\n",
       "      <td>0.0000</td>\n",
       "      <td>0.686668</td>\n",
       "    </tr>\n",
       "    <tr>\n",
       "      <th>999675</th>\n",
       "      <td>control</td>\n",
       "      <td>0</td>\n",
       "      <td>0</td>\n",
       "      <td>0</td>\n",
       "      <td>0</td>\n",
       "      <td>-0.4948</td>\n",
       "      <td>1.3330</td>\n",
       "      <td>0.38010</td>\n",
       "      <td>0.6513</td>\n",
       "      <td>0.98320</td>\n",
       "      <td>0.81730</td>\n",
       "      <td>0.1437</td>\n",
       "      <td>0.29610</td>\n",
       "      <td>-0.65160</td>\n",
       "      <td>-2.0360</td>\n",
       "      <td>-3.05000</td>\n",
       "      <td>-0.7917</td>\n",
       "      <td>-0.3553</td>\n",
       "      <td>0.1016</td>\n",
       "      <td>0.100470</td>\n",
       "    </tr>\n",
       "  </tbody>\n",
       "</table>\n",
       "<p>80 rows × 20 columns</p>\n",
       "</div>"
      ],
      "text/plain": [
       "                        Arm  HR.status..0.HR....1..HR..  \\\n",
       "102596  durvalumab/olaparib                           1   \n",
       "111922              control                           0   \n",
       "115724  durvalumab/olaparib                           0   \n",
       "123591  durvalumab/olaparib                           0   \n",
       "134956              control                           1   \n",
       "...                     ...                         ...   \n",
       "944184  durvalumab/olaparib                           1   \n",
       "965961              control                           1   \n",
       "979809  durvalumab/olaparib                           0   \n",
       "989123  durvalumab/olaparib                           0   \n",
       "999675              control                           0   \n",
       "\n",
       "        HER2.status..0..HER2...1..HER2..  MP.1.2..class..0..MP1..1..MP2.  \\\n",
       "102596                                 0                               1   \n",
       "111922                                 0                               0   \n",
       "115724                                 0                               1   \n",
       "123591                                 0                               1   \n",
       "134956                                 0                               1   \n",
       "...                                  ...                             ...   \n",
       "944184                                 0                               1   \n",
       "965961                                 0                               1   \n",
       "979809                                 0                               1   \n",
       "989123                                 0                               1   \n",
       "999675                                 0                               0   \n",
       "\n",
       "        pCR.status     PD1    PDL1  T.cells_sig  B.cells_sig  \\\n",
       "102596           1 -0.2654 -0.5872     -1.14600      -0.2133   \n",
       "111922           1 -0.2291  0.1822      0.56610       0.6596   \n",
       "115724           1 -0.5318 -1.0650     -1.16400      -0.9401   \n",
       "123591           1  0.2354 -0.1478      0.53980       1.2240   \n",
       "134956           0  1.2960 -1.0260      0.79980       0.4545   \n",
       "...            ...     ...     ...          ...          ...   \n",
       "944184           0  0.7932  0.9536      0.91430       0.7279   \n",
       "965961           0  0.5028  0.3036      0.85170       0.5254   \n",
       "979809           0 -0.3643  0.2692     -0.06857       0.2789   \n",
       "989123           1  1.2110  1.6550      1.26500       0.1080   \n",
       "999675           0 -0.4948  1.3330      0.38010       0.6513   \n",
       "\n",
       "        Dendritic.cells_sig  Mast.cells_sig    CD68  TIS_sig  STAT1_sig  \\\n",
       "102596             -0.54830        -0.87380  0.4597 -0.77500    0.32190   \n",
       "111922              0.09725         1.48800  0.1437  0.08854   -1.08500   \n",
       "115724             -0.70660        -0.63510  0.5603 -0.45880   -0.02152   \n",
       "123591              0.08093        -1.64500  1.0920  0.61320    0.29390   \n",
       "134956             -0.36070         0.27960  0.4310  0.21500    0.65450   \n",
       "...                     ...             ...     ...      ...        ...   \n",
       "944184             -0.51960        -1.04100  0.9625  0.81300    0.94120   \n",
       "965961              1.10600         0.10030  0.3735  0.53910    0.44300   \n",
       "979809              0.52250         0.03754 -1.4370 -0.21720   -0.52470   \n",
       "989123              1.51600        -1.07500  0.5747  1.97200    2.39800   \n",
       "999675              0.98320         0.81730  0.1437  0.29610   -0.65160   \n",
       "\n",
       "        TAMsurr_TcClassII_ratio_sig  PARPi7_sig.  Mitotic_sig  ESR1_PGR_ave  \\\n",
       "102596                       0.6371     -0.04779      -0.6912        0.2124   \n",
       "111922                      -1.3380      0.05193      -1.6850       -0.5785   \n",
       "115724                       1.7470      0.63250      -0.5281       -0.9590   \n",
       "123591                       0.3913      0.66030       0.8545       -0.8885   \n",
       "134956                      -0.4670      1.30400       0.7663        0.9600   \n",
       "...                             ...          ...          ...           ...   \n",
       "944184                       0.2360     -0.30660       0.3240        0.3629   \n",
       "965961                       0.2601      1.24100      -0.0885       -0.8809   \n",
       "979809                       0.5547      0.16920       0.4013       -0.4975   \n",
       "989123                       0.7749      0.08533       1.0980       -0.7261   \n",
       "999675                      -2.0360     -3.05000      -0.7917       -0.3553   \n",
       "\n",
       "        SET.index  predictions  \n",
       "102596     0.0000     0.404172  \n",
       "111922     0.0000     0.429232  \n",
       "115724     0.0000     0.917270  \n",
       "123591     0.0000     0.758374  \n",
       "134956     0.6826     0.402431  \n",
       "...           ...          ...  \n",
       "944184     0.9791     0.728643  \n",
       "965961     0.0000     0.642588  \n",
       "979809     0.0000     0.564543  \n",
       "989123     0.0000     0.686668  \n",
       "999675     0.1016     0.100470  \n",
       "\n",
       "[80 rows x 20 columns]"
      ]
     },
     "execution_count": 64,
     "metadata": {},
     "output_type": "execute_result"
    }
   ],
   "source": [
    "filtered_ispy_response"
   ]
  },
  {
   "cell_type": "code",
   "execution_count": 58,
   "metadata": {},
   "outputs": [],
   "source": [
    "import plotly_express as px"
   ]
  },
  {
   "cell_type": "code",
   "execution_count": 96,
   "metadata": {},
   "outputs": [
    {
     "data": {
      "application/vnd.plotly.v1+json": {
       "config": {
        "plotlyServerURL": "https://plot.ly"
       },
       "data": [
        {
         "alignmentgroup": "True",
         "boxpoints": "all",
         "hovertemplate": "pCR.status=%{x}<br>predictions=%{y}<extra></extra>",
         "legendgroup": "",
         "marker": {
          "color": "#636efa"
         },
         "name": "",
         "notched": false,
         "offsetgroup": "",
         "orientation": "v",
         "showlegend": false,
         "type": "box",
         "x": [
          1,
          1,
          1,
          1,
          0,
          0,
          0,
          0,
          0,
          0,
          0,
          0,
          1,
          0,
          0,
          0,
          0,
          0,
          0,
          0,
          0,
          1,
          1,
          0,
          0,
          0,
          0,
          0,
          1,
          1,
          0,
          0,
          0,
          0,
          0,
          1,
          1,
          1,
          0,
          0,
          0,
          0,
          1,
          1,
          1,
          0,
          0,
          0,
          0,
          0,
          0,
          1,
          1,
          0,
          0,
          1,
          1,
          0,
          0,
          1,
          1,
          1,
          0,
          1,
          0,
          0,
          1,
          1,
          0,
          0,
          0,
          0,
          0,
          1,
          1,
          0,
          0,
          0,
          1,
          0
         ],
         "x0": " ",
         "xaxis": "x",
         "y": [
          0.4041723359961765,
          0.4292324819967943,
          0.9172697338198299,
          0.7583743958138126,
          0.4024311851114317,
          0.2414146631733342,
          0.12419710878735235,
          0.2208895032739045,
          0.30387179870395464,
          0.3475261156317989,
          0.46591367442418313,
          0.4661646266881656,
          0.9777792045736692,
          0.4854986135553107,
          0.41322101390566923,
          0.15028140893386055,
          0.11808786544178396,
          0.12330701549690137,
          0.6123935297192524,
          0.8771080916193381,
          0.30780878549494595,
          0.8828262365344623,
          0.5349893452182858,
          0.44868633098098293,
          0.4626279903960799,
          0.6054746458504887,
          0.661432419720934,
          0.08945378904801304,
          0.49102060840586675,
          0.4142241180459218,
          0.5754445126828964,
          0.2291925784815799,
          0.5797485647775958,
          0.10365086993968425,
          0.7598085297082395,
          0.1812461811841929,
          0.3611323949501917,
          0.7335385507076811,
          0.4225142736906632,
          0.13874405306613213,
          0.6322872730830745,
          0.3730581815509755,
          0.5848315545650286,
          0.3598988363445371,
          0.2540092543734221,
          0.4707771662818848,
          0.45179749184122386,
          0.6780494261321067,
          -0.17349931862651924,
          0.9095465153581659,
          0.6421275068676621,
          0.2793721092644178,
          0.5846526593032498,
          0.09363221007019423,
          0.7104557533659033,
          0.6770740864399536,
          0.7810216815892763,
          0.8022641150197742,
          0.11763222686304087,
          0.151385024223964,
          0.6114624954998391,
          1.0274222431262108,
          0.2875567507409745,
          0.5311959869168122,
          0.5444594440692154,
          0.13729292603470566,
          0.8453571785396268,
          0.6548748696258886,
          0.20678279982585507,
          -0.023394856882052673,
          0.38112846662092403,
          0.2117350653920128,
          0.8410653479049913,
          0.5644353501495285,
          0.5910347685589775,
          0.7286433735381619,
          0.6425878967384234,
          0.5645427300937558,
          0.6866682515406954,
          0.10047017308669426
         ],
         "y0": " ",
         "yaxis": "y"
        }
       ],
       "layout": {
        "boxmode": "group",
        "legend": {
         "tracegroupgap": 0
        },
        "template": {
         "data": {
          "bar": [
           {
            "error_x": {
             "color": "#2a3f5f"
            },
            "error_y": {
             "color": "#2a3f5f"
            },
            "marker": {
             "line": {
              "color": "#E5ECF6",
              "width": 0.5
             },
             "pattern": {
              "fillmode": "overlay",
              "size": 10,
              "solidity": 0.2
             }
            },
            "type": "bar"
           }
          ],
          "barpolar": [
           {
            "marker": {
             "line": {
              "color": "#E5ECF6",
              "width": 0.5
             },
             "pattern": {
              "fillmode": "overlay",
              "size": 10,
              "solidity": 0.2
             }
            },
            "type": "barpolar"
           }
          ],
          "carpet": [
           {
            "aaxis": {
             "endlinecolor": "#2a3f5f",
             "gridcolor": "white",
             "linecolor": "white",
             "minorgridcolor": "white",
             "startlinecolor": "#2a3f5f"
            },
            "baxis": {
             "endlinecolor": "#2a3f5f",
             "gridcolor": "white",
             "linecolor": "white",
             "minorgridcolor": "white",
             "startlinecolor": "#2a3f5f"
            },
            "type": "carpet"
           }
          ],
          "choropleth": [
           {
            "colorbar": {
             "outlinewidth": 0,
             "ticks": ""
            },
            "type": "choropleth"
           }
          ],
          "contour": [
           {
            "colorbar": {
             "outlinewidth": 0,
             "ticks": ""
            },
            "colorscale": [
             [
              0,
              "#0d0887"
             ],
             [
              0.1111111111111111,
              "#46039f"
             ],
             [
              0.2222222222222222,
              "#7201a8"
             ],
             [
              0.3333333333333333,
              "#9c179e"
             ],
             [
              0.4444444444444444,
              "#bd3786"
             ],
             [
              0.5555555555555556,
              "#d8576b"
             ],
             [
              0.6666666666666666,
              "#ed7953"
             ],
             [
              0.7777777777777778,
              "#fb9f3a"
             ],
             [
              0.8888888888888888,
              "#fdca26"
             ],
             [
              1,
              "#f0f921"
             ]
            ],
            "type": "contour"
           }
          ],
          "contourcarpet": [
           {
            "colorbar": {
             "outlinewidth": 0,
             "ticks": ""
            },
            "type": "contourcarpet"
           }
          ],
          "heatmap": [
           {
            "colorbar": {
             "outlinewidth": 0,
             "ticks": ""
            },
            "colorscale": [
             [
              0,
              "#0d0887"
             ],
             [
              0.1111111111111111,
              "#46039f"
             ],
             [
              0.2222222222222222,
              "#7201a8"
             ],
             [
              0.3333333333333333,
              "#9c179e"
             ],
             [
              0.4444444444444444,
              "#bd3786"
             ],
             [
              0.5555555555555556,
              "#d8576b"
             ],
             [
              0.6666666666666666,
              "#ed7953"
             ],
             [
              0.7777777777777778,
              "#fb9f3a"
             ],
             [
              0.8888888888888888,
              "#fdca26"
             ],
             [
              1,
              "#f0f921"
             ]
            ],
            "type": "heatmap"
           }
          ],
          "heatmapgl": [
           {
            "colorbar": {
             "outlinewidth": 0,
             "ticks": ""
            },
            "colorscale": [
             [
              0,
              "#0d0887"
             ],
             [
              0.1111111111111111,
              "#46039f"
             ],
             [
              0.2222222222222222,
              "#7201a8"
             ],
             [
              0.3333333333333333,
              "#9c179e"
             ],
             [
              0.4444444444444444,
              "#bd3786"
             ],
             [
              0.5555555555555556,
              "#d8576b"
             ],
             [
              0.6666666666666666,
              "#ed7953"
             ],
             [
              0.7777777777777778,
              "#fb9f3a"
             ],
             [
              0.8888888888888888,
              "#fdca26"
             ],
             [
              1,
              "#f0f921"
             ]
            ],
            "type": "heatmapgl"
           }
          ],
          "histogram": [
           {
            "marker": {
             "pattern": {
              "fillmode": "overlay",
              "size": 10,
              "solidity": 0.2
             }
            },
            "type": "histogram"
           }
          ],
          "histogram2d": [
           {
            "colorbar": {
             "outlinewidth": 0,
             "ticks": ""
            },
            "colorscale": [
             [
              0,
              "#0d0887"
             ],
             [
              0.1111111111111111,
              "#46039f"
             ],
             [
              0.2222222222222222,
              "#7201a8"
             ],
             [
              0.3333333333333333,
              "#9c179e"
             ],
             [
              0.4444444444444444,
              "#bd3786"
             ],
             [
              0.5555555555555556,
              "#d8576b"
             ],
             [
              0.6666666666666666,
              "#ed7953"
             ],
             [
              0.7777777777777778,
              "#fb9f3a"
             ],
             [
              0.8888888888888888,
              "#fdca26"
             ],
             [
              1,
              "#f0f921"
             ]
            ],
            "type": "histogram2d"
           }
          ],
          "histogram2dcontour": [
           {
            "colorbar": {
             "outlinewidth": 0,
             "ticks": ""
            },
            "colorscale": [
             [
              0,
              "#0d0887"
             ],
             [
              0.1111111111111111,
              "#46039f"
             ],
             [
              0.2222222222222222,
              "#7201a8"
             ],
             [
              0.3333333333333333,
              "#9c179e"
             ],
             [
              0.4444444444444444,
              "#bd3786"
             ],
             [
              0.5555555555555556,
              "#d8576b"
             ],
             [
              0.6666666666666666,
              "#ed7953"
             ],
             [
              0.7777777777777778,
              "#fb9f3a"
             ],
             [
              0.8888888888888888,
              "#fdca26"
             ],
             [
              1,
              "#f0f921"
             ]
            ],
            "type": "histogram2dcontour"
           }
          ],
          "mesh3d": [
           {
            "colorbar": {
             "outlinewidth": 0,
             "ticks": ""
            },
            "type": "mesh3d"
           }
          ],
          "parcoords": [
           {
            "line": {
             "colorbar": {
              "outlinewidth": 0,
              "ticks": ""
             }
            },
            "type": "parcoords"
           }
          ],
          "pie": [
           {
            "automargin": true,
            "type": "pie"
           }
          ],
          "scatter": [
           {
            "fillpattern": {
             "fillmode": "overlay",
             "size": 10,
             "solidity": 0.2
            },
            "type": "scatter"
           }
          ],
          "scatter3d": [
           {
            "line": {
             "colorbar": {
              "outlinewidth": 0,
              "ticks": ""
             }
            },
            "marker": {
             "colorbar": {
              "outlinewidth": 0,
              "ticks": ""
             }
            },
            "type": "scatter3d"
           }
          ],
          "scattercarpet": [
           {
            "marker": {
             "colorbar": {
              "outlinewidth": 0,
              "ticks": ""
             }
            },
            "type": "scattercarpet"
           }
          ],
          "scattergeo": [
           {
            "marker": {
             "colorbar": {
              "outlinewidth": 0,
              "ticks": ""
             }
            },
            "type": "scattergeo"
           }
          ],
          "scattergl": [
           {
            "marker": {
             "colorbar": {
              "outlinewidth": 0,
              "ticks": ""
             }
            },
            "type": "scattergl"
           }
          ],
          "scattermapbox": [
           {
            "marker": {
             "colorbar": {
              "outlinewidth": 0,
              "ticks": ""
             }
            },
            "type": "scattermapbox"
           }
          ],
          "scatterpolar": [
           {
            "marker": {
             "colorbar": {
              "outlinewidth": 0,
              "ticks": ""
             }
            },
            "type": "scatterpolar"
           }
          ],
          "scatterpolargl": [
           {
            "marker": {
             "colorbar": {
              "outlinewidth": 0,
              "ticks": ""
             }
            },
            "type": "scatterpolargl"
           }
          ],
          "scatterternary": [
           {
            "marker": {
             "colorbar": {
              "outlinewidth": 0,
              "ticks": ""
             }
            },
            "type": "scatterternary"
           }
          ],
          "surface": [
           {
            "colorbar": {
             "outlinewidth": 0,
             "ticks": ""
            },
            "colorscale": [
             [
              0,
              "#0d0887"
             ],
             [
              0.1111111111111111,
              "#46039f"
             ],
             [
              0.2222222222222222,
              "#7201a8"
             ],
             [
              0.3333333333333333,
              "#9c179e"
             ],
             [
              0.4444444444444444,
              "#bd3786"
             ],
             [
              0.5555555555555556,
              "#d8576b"
             ],
             [
              0.6666666666666666,
              "#ed7953"
             ],
             [
              0.7777777777777778,
              "#fb9f3a"
             ],
             [
              0.8888888888888888,
              "#fdca26"
             ],
             [
              1,
              "#f0f921"
             ]
            ],
            "type": "surface"
           }
          ],
          "table": [
           {
            "cells": {
             "fill": {
              "color": "#EBF0F8"
             },
             "line": {
              "color": "white"
             }
            },
            "header": {
             "fill": {
              "color": "#C8D4E3"
             },
             "line": {
              "color": "white"
             }
            },
            "type": "table"
           }
          ]
         },
         "layout": {
          "annotationdefaults": {
           "arrowcolor": "#2a3f5f",
           "arrowhead": 0,
           "arrowwidth": 1
          },
          "autotypenumbers": "strict",
          "coloraxis": {
           "colorbar": {
            "outlinewidth": 0,
            "ticks": ""
           }
          },
          "colorscale": {
           "diverging": [
            [
             0,
             "#8e0152"
            ],
            [
             0.1,
             "#c51b7d"
            ],
            [
             0.2,
             "#de77ae"
            ],
            [
             0.3,
             "#f1b6da"
            ],
            [
             0.4,
             "#fde0ef"
            ],
            [
             0.5,
             "#f7f7f7"
            ],
            [
             0.6,
             "#e6f5d0"
            ],
            [
             0.7,
             "#b8e186"
            ],
            [
             0.8,
             "#7fbc41"
            ],
            [
             0.9,
             "#4d9221"
            ],
            [
             1,
             "#276419"
            ]
           ],
           "sequential": [
            [
             0,
             "#0d0887"
            ],
            [
             0.1111111111111111,
             "#46039f"
            ],
            [
             0.2222222222222222,
             "#7201a8"
            ],
            [
             0.3333333333333333,
             "#9c179e"
            ],
            [
             0.4444444444444444,
             "#bd3786"
            ],
            [
             0.5555555555555556,
             "#d8576b"
            ],
            [
             0.6666666666666666,
             "#ed7953"
            ],
            [
             0.7777777777777778,
             "#fb9f3a"
            ],
            [
             0.8888888888888888,
             "#fdca26"
            ],
            [
             1,
             "#f0f921"
            ]
           ],
           "sequentialminus": [
            [
             0,
             "#0d0887"
            ],
            [
             0.1111111111111111,
             "#46039f"
            ],
            [
             0.2222222222222222,
             "#7201a8"
            ],
            [
             0.3333333333333333,
             "#9c179e"
            ],
            [
             0.4444444444444444,
             "#bd3786"
            ],
            [
             0.5555555555555556,
             "#d8576b"
            ],
            [
             0.6666666666666666,
             "#ed7953"
            ],
            [
             0.7777777777777778,
             "#fb9f3a"
            ],
            [
             0.8888888888888888,
             "#fdca26"
            ],
            [
             1,
             "#f0f921"
            ]
           ]
          },
          "colorway": [
           "#636efa",
           "#EF553B",
           "#00cc96",
           "#ab63fa",
           "#FFA15A",
           "#19d3f3",
           "#FF6692",
           "#B6E880",
           "#FF97FF",
           "#FECB52"
          ],
          "font": {
           "color": "#2a3f5f"
          },
          "geo": {
           "bgcolor": "white",
           "lakecolor": "white",
           "landcolor": "#E5ECF6",
           "showlakes": true,
           "showland": true,
           "subunitcolor": "white"
          },
          "hoverlabel": {
           "align": "left"
          },
          "hovermode": "closest",
          "mapbox": {
           "style": "light"
          },
          "paper_bgcolor": "white",
          "plot_bgcolor": "#E5ECF6",
          "polar": {
           "angularaxis": {
            "gridcolor": "white",
            "linecolor": "white",
            "ticks": ""
           },
           "bgcolor": "#E5ECF6",
           "radialaxis": {
            "gridcolor": "white",
            "linecolor": "white",
            "ticks": ""
           }
          },
          "scene": {
           "xaxis": {
            "backgroundcolor": "#E5ECF6",
            "gridcolor": "white",
            "gridwidth": 2,
            "linecolor": "white",
            "showbackground": true,
            "ticks": "",
            "zerolinecolor": "white"
           },
           "yaxis": {
            "backgroundcolor": "#E5ECF6",
            "gridcolor": "white",
            "gridwidth": 2,
            "linecolor": "white",
            "showbackground": true,
            "ticks": "",
            "zerolinecolor": "white"
           },
           "zaxis": {
            "backgroundcolor": "#E5ECF6",
            "gridcolor": "white",
            "gridwidth": 2,
            "linecolor": "white",
            "showbackground": true,
            "ticks": "",
            "zerolinecolor": "white"
           }
          },
          "shapedefaults": {
           "line": {
            "color": "#2a3f5f"
           }
          },
          "ternary": {
           "aaxis": {
            "gridcolor": "white",
            "linecolor": "white",
            "ticks": ""
           },
           "baxis": {
            "gridcolor": "white",
            "linecolor": "white",
            "ticks": ""
           },
           "bgcolor": "#E5ECF6",
           "caxis": {
            "gridcolor": "white",
            "linecolor": "white",
            "ticks": ""
           }
          },
          "title": {
           "x": 0.05
          },
          "xaxis": {
           "automargin": true,
           "gridcolor": "white",
           "linecolor": "white",
           "ticks": "",
           "title": {
            "standoff": 15
           },
           "zerolinecolor": "white",
           "zerolinewidth": 2
          },
          "yaxis": {
           "automargin": true,
           "gridcolor": "white",
           "linecolor": "white",
           "ticks": "",
           "title": {
            "standoff": 15
           },
           "zerolinecolor": "white",
           "zerolinewidth": 2
          }
         }
        },
        "title": {
         "text": "Distribution of regression scores between patients' complete pathological response"
        },
        "xaxis": {
         "anchor": "y",
         "domain": [
          0,
          1
         ],
         "title": {
          "text": "pCR.status"
         }
        },
        "yaxis": {
         "anchor": "x",
         "domain": [
          0,
          1
         ],
         "title": {
          "text": "predictions"
         }
        }
       }
      }
     },
     "metadata": {},
     "output_type": "display_data"
    }
   ],
   "source": [
    "px.box(filtered_ispy_response, y ='predictions', x = 'pCR.status', points = \"all\", title = f\"Distribution of regression scores between patients' complete pathological response\")"
   ]
  },
  {
   "cell_type": "code",
   "execution_count": 67,
   "metadata": {},
   "outputs": [
    {
     "name": "stdout",
     "output_type": "stream",
     "text": [
      "Welch's t-test: t = -3.1041, p = 0.0029\n",
      "Mann-Whitney U test: U = 451.0000, p = 0.0053\n"
     ]
    }
   ],
   "source": [
    "# two sided welch's t test taking pCR into accont\n",
    "from scipy.stats import ttest_ind, mannwhitneyu\n",
    "stats = {}\n",
    "\n",
    "group_0 = filtered_ispy_response.loc[filtered_ispy_response['pCR.status'] == 0, 'predictions']\n",
    "group_1 = filtered_ispy_response.loc[filtered_ispy_response['pCR.status'] == 1, 'predictions']\n",
    "\n",
    "\n",
    "t_stat, p_value_t = ttest_ind(group_0, group_1, equal_var=False)\n",
    "print(f\"Welch's t-test: t = {t_stat:.4f}, p = {p_value_t:.4f}\")\n",
    "\n",
    "u_stat, p_value_u = mannwhitneyu(group_0, group_1, alternative='two-sided')\n",
    "print(f\"Mann-Whitney U test: U = {u_stat:.4f}, p = {p_value_u:.4f}\")"
   ]
  },
  {
   "cell_type": "code",
   "execution_count": 122,
   "metadata": {},
   "outputs": [
    {
     "data": {
      "application/vnd.plotly.v1+json": {
       "config": {
        "plotlyServerURL": "https://plot.ly"
       },
       "data": [
        {
         "hovertemplate": "PARPi7 Signal=%{x}<br>Predictions=%{y}<br>pCR.status=%{marker.color}<extra></extra>",
         "legendgroup": "",
         "marker": {
          "color": [
           1,
           1,
           1,
           1,
           0,
           0,
           0,
           0,
           0,
           0,
           0,
           0,
           1,
           0,
           0,
           0,
           0,
           0,
           0,
           0,
           0,
           1,
           1,
           0,
           0,
           0,
           0,
           0,
           1,
           1,
           0,
           0,
           0,
           0,
           0,
           1,
           1,
           1,
           0,
           0,
           0,
           0,
           1,
           1,
           1,
           0,
           0,
           0,
           0,
           0,
           0,
           1,
           1,
           0,
           0,
           1,
           1,
           0,
           0,
           1,
           1,
           1,
           0,
           1,
           0,
           0,
           1,
           1,
           0,
           0,
           0,
           0,
           0,
           1,
           1,
           0,
           0,
           0,
           1,
           0
          ],
          "coloraxis": "coloraxis",
          "symbol": "circle"
         },
         "mode": "markers",
         "name": "",
         "orientation": "v",
         "showlegend": false,
         "type": "scatter",
         "x": [
          -0.04779,
          0.05193,
          0.6325,
          0.6603,
          1.304,
          -0.9966,
          -1.15,
          -1.214,
          -0.5019,
          0.4102,
          -0.8292,
          0.3649,
          2.036,
          0.5027,
          -1.873,
          -0.8554,
          -0.6135,
          -0.7719,
          1.355,
          -0.3498,
          0.3409,
          1.426,
          -0.276,
          -1.168,
          -0.8045,
          0.4128,
          -0.2236,
          -0.2235,
          -0.03821,
          1.443,
          1.1,
          -0.5947,
          0.3237,
          -0.7607,
          -0.0559,
          0.1182,
          0.001319,
          1.207,
          -0.6273,
          0.09212,
          -0.02374,
          -0.2131,
          -0.02422,
          0.5853,
          0.08126,
          -0.554,
          0.2267,
          -0.069,
          -1.507,
          1.642,
          1.09,
          -0.5682,
          -1.692,
          -0.6061,
          1.019,
          0.2427,
          1.95,
          -0.01586,
          -0.8384,
          -1.737,
          0.2307,
          1.717,
          -0.3192,
          0.8096,
          0.7065,
          -0.2847,
          1.583,
          0.8508,
          -1.561,
          0.2353,
          1.006,
          -0.8478,
          2.797,
          -0.1244,
          -0.1388,
          -0.3066,
          1.241,
          0.1692,
          0.08533,
          -3.05
         ],
         "xaxis": "x",
         "y": [
          0.4041723359961765,
          0.4292324819967943,
          0.9172697338198299,
          0.7583743958138126,
          0.4024311851114317,
          0.2414146631733342,
          0.12419710878735235,
          0.2208895032739045,
          0.30387179870395464,
          0.3475261156317989,
          0.46591367442418313,
          0.4661646266881656,
          0.9777792045736692,
          0.4854986135553107,
          0.41322101390566923,
          0.15028140893386055,
          0.11808786544178396,
          0.12330701549690137,
          0.6123935297192524,
          0.8771080916193381,
          0.30780878549494595,
          0.8828262365344623,
          0.5349893452182858,
          0.44868633098098293,
          0.4626279903960799,
          0.6054746458504887,
          0.661432419720934,
          0.08945378904801304,
          0.49102060840586675,
          0.4142241180459218,
          0.5754445126828964,
          0.2291925784815799,
          0.5797485647775958,
          0.10365086993968425,
          0.7598085297082395,
          0.1812461811841929,
          0.3611323949501917,
          0.7335385507076811,
          0.4225142736906632,
          0.13874405306613213,
          0.6322872730830745,
          0.3730581815509755,
          0.5848315545650286,
          0.3598988363445371,
          0.2540092543734221,
          0.4707771662818848,
          0.45179749184122386,
          0.6780494261321067,
          -0.17349931862651924,
          0.9095465153581659,
          0.6421275068676621,
          0.2793721092644178,
          0.5846526593032498,
          0.09363221007019423,
          0.7104557533659033,
          0.6770740864399536,
          0.7810216815892763,
          0.8022641150197742,
          0.11763222686304087,
          0.151385024223964,
          0.6114624954998391,
          1.0274222431262108,
          0.2875567507409745,
          0.5311959869168122,
          0.5444594440692154,
          0.13729292603470566,
          0.8453571785396268,
          0.6548748696258886,
          0.20678279982585507,
          -0.023394856882052673,
          0.38112846662092403,
          0.2117350653920128,
          0.8410653479049913,
          0.5644353501495285,
          0.5910347685589775,
          0.7286433735381619,
          0.6425878967384234,
          0.5645427300937558,
          0.6866682515406954,
          0.10047017308669426
         ],
         "yaxis": "y"
        },
        {
         "hovertemplate": "<b>OLS trendline</b><br>predictions = 0.165315 * PARPi7_sig. + 0.459302<br>R<sup>2</sup>=0.405341<br><br>PARPi7 Signal=%{x}<br>Predictions=%{y} <b>(trend)</b><extra></extra>",
         "legendgroup": "",
         "marker": {
          "symbol": "circle"
         },
         "mode": "lines",
         "name": "",
         "showlegend": false,
         "type": "scatter",
         "x": [
          -3.05,
          -1.873,
          -1.737,
          -1.692,
          -1.561,
          -1.507,
          -1.214,
          -1.168,
          -1.15,
          -0.9966,
          -0.8554,
          -0.8478,
          -0.8384,
          -0.8292,
          -0.8045,
          -0.7719,
          -0.7607,
          -0.6273,
          -0.6135,
          -0.6061,
          -0.5947,
          -0.5682,
          -0.554,
          -0.5019,
          -0.3498,
          -0.3192,
          -0.3066,
          -0.2847,
          -0.276,
          -0.2236,
          -0.2235,
          -0.2131,
          -0.1388,
          -0.1244,
          -0.069,
          -0.0559,
          -0.04779,
          -0.03821,
          -0.02422,
          -0.02374,
          -0.01586,
          0.001319,
          0.05193,
          0.08126,
          0.08533,
          0.09212,
          0.1182,
          0.1692,
          0.2267,
          0.2307,
          0.2353,
          0.2427,
          0.3237,
          0.3409,
          0.3649,
          0.4102,
          0.4128,
          0.5027,
          0.5853,
          0.6325,
          0.6603,
          0.7065,
          0.8096,
          0.8508,
          1.006,
          1.019,
          1.09,
          1.1,
          1.207,
          1.241,
          1.304,
          1.355,
          1.426,
          1.443,
          1.583,
          1.642,
          1.717,
          1.95,
          2.036,
          2.797
         ],
         "xaxis": "x",
         "y": [
          -0.044908960934550546,
          0.1496670454603476,
          0.17214991450852613,
          0.17958909912005577,
          0.20124539210028658,
          0.2101724136341222,
          0.2586097712158598,
          0.266214271040979,
          0.2691899448855909,
          0.2945492986502275,
          0.3178918068090717,
          0.3191482024323523,
          0.320702165440094,
          0.3222230654051179,
          0.3263063511807797,
          0.33169562714379897,
          0.33354715753600195,
          0.35560020702884765,
          0.3578815569763834,
          0.3591048895569461,
          0.3609894829918669,
          0.36537033615198994,
          0.3677178121849615,
          0.37633073481297696,
          0.40147517879994726,
          0.40653382433578744,
          0.4086167960270157,
          0.4122371992046268,
          0.4136754415628559,
          0.42233795875494823,
          0.42235449027630717,
          0.42407376849763845,
          0.4363566888673419,
          0.4387372279430314,
          0.44789569077589236,
          0.4500613200739154,
          0.45140202645612665,
          0.4529857462023145,
          0.4552985060404323,
          0.4553778573429553,
          0.45668054122604096,
          0.45952049128029576,
          0.4678872595552764,
          0.47273595476985786,
          0.4734087876891673,
          0.47453127798944034,
          0.47884269875985574,
          0.4872737746529227,
          0.4967793994343217,
          0.4974406602886799,
          0.49820111027119185,
          0.49942444285175447,
          0.5128149751525078,
          0.5156583968262481,
          0.5196259619523973,
          0.5271147411280038,
          0.5275445606833367,
          0.542406398385037,
          0.5560614350275337,
          0.5638643131089603,
          0.5684600760467498,
          0.5760976389145869,
          0.5931416374356693,
          0.5999526242355586,
          0.6256095453846565,
          0.6277586431613207,
          0.6394960233261786,
          0.6411491754620741,
          0.6588379033161558,
          0.6644586205782004,
          0.6748734790343419,
          0.6833045549274088,
          0.6950419350922667,
          0.697852293723289,
          0.7209964236258257,
          0.7307500212276091,
          0.7431486622468253,
          0.78166710701319,
          0.795884215381891,
          0.9216890929235373
         ],
         "yaxis": "y"
        }
       ],
       "layout": {
        "annotations": [
         {
          "align": "center",
          "bgcolor": "white",
          "bordercolor": "black",
          "borderpad": 4,
          "borderwidth": 1,
          "font": {
           "color": "black",
           "size": 14
          },
          "opacity": 1,
          "showarrow": false,
          "text": "Pearson R: 0.64<br>p-value: 2.18e-10",
          "x": 0.0449292375,
          "y": 1.0274222431262108
         }
        ],
        "coloraxis": {
         "colorbar": {
          "title": {
           "text": "pCR.status"
          }
         },
         "colorscale": [
          [
           0,
           "rgb(243, 203, 211)"
          ],
          [
           0.16666666666666666,
           "rgb(234, 169, 189)"
          ],
          [
           0.3333333333333333,
           "rgb(221, 136, 172)"
          ],
          [
           0.5,
           "rgb(202, 105, 157)"
          ],
          [
           0.6666666666666666,
           "rgb(177, 77, 142)"
          ],
          [
           0.8333333333333334,
           "rgb(145, 53, 125)"
          ],
          [
           1,
           "rgb(108, 33, 103)"
          ]
         ]
        },
        "legend": {
         "tracegroupgap": 0
        },
        "template": {
         "data": {
          "bar": [
           {
            "error_x": {
             "color": "#2a3f5f"
            },
            "error_y": {
             "color": "#2a3f5f"
            },
            "marker": {
             "line": {
              "color": "#E5ECF6",
              "width": 0.5
             },
             "pattern": {
              "fillmode": "overlay",
              "size": 10,
              "solidity": 0.2
             }
            },
            "type": "bar"
           }
          ],
          "barpolar": [
           {
            "marker": {
             "line": {
              "color": "#E5ECF6",
              "width": 0.5
             },
             "pattern": {
              "fillmode": "overlay",
              "size": 10,
              "solidity": 0.2
             }
            },
            "type": "barpolar"
           }
          ],
          "carpet": [
           {
            "aaxis": {
             "endlinecolor": "#2a3f5f",
             "gridcolor": "white",
             "linecolor": "white",
             "minorgridcolor": "white",
             "startlinecolor": "#2a3f5f"
            },
            "baxis": {
             "endlinecolor": "#2a3f5f",
             "gridcolor": "white",
             "linecolor": "white",
             "minorgridcolor": "white",
             "startlinecolor": "#2a3f5f"
            },
            "type": "carpet"
           }
          ],
          "choropleth": [
           {
            "colorbar": {
             "outlinewidth": 0,
             "ticks": ""
            },
            "type": "choropleth"
           }
          ],
          "contour": [
           {
            "colorbar": {
             "outlinewidth": 0,
             "ticks": ""
            },
            "colorscale": [
             [
              0,
              "#0d0887"
             ],
             [
              0.1111111111111111,
              "#46039f"
             ],
             [
              0.2222222222222222,
              "#7201a8"
             ],
             [
              0.3333333333333333,
              "#9c179e"
             ],
             [
              0.4444444444444444,
              "#bd3786"
             ],
             [
              0.5555555555555556,
              "#d8576b"
             ],
             [
              0.6666666666666666,
              "#ed7953"
             ],
             [
              0.7777777777777778,
              "#fb9f3a"
             ],
             [
              0.8888888888888888,
              "#fdca26"
             ],
             [
              1,
              "#f0f921"
             ]
            ],
            "type": "contour"
           }
          ],
          "contourcarpet": [
           {
            "colorbar": {
             "outlinewidth": 0,
             "ticks": ""
            },
            "type": "contourcarpet"
           }
          ],
          "heatmap": [
           {
            "colorbar": {
             "outlinewidth": 0,
             "ticks": ""
            },
            "colorscale": [
             [
              0,
              "#0d0887"
             ],
             [
              0.1111111111111111,
              "#46039f"
             ],
             [
              0.2222222222222222,
              "#7201a8"
             ],
             [
              0.3333333333333333,
              "#9c179e"
             ],
             [
              0.4444444444444444,
              "#bd3786"
             ],
             [
              0.5555555555555556,
              "#d8576b"
             ],
             [
              0.6666666666666666,
              "#ed7953"
             ],
             [
              0.7777777777777778,
              "#fb9f3a"
             ],
             [
              0.8888888888888888,
              "#fdca26"
             ],
             [
              1,
              "#f0f921"
             ]
            ],
            "type": "heatmap"
           }
          ],
          "heatmapgl": [
           {
            "colorbar": {
             "outlinewidth": 0,
             "ticks": ""
            },
            "colorscale": [
             [
              0,
              "#0d0887"
             ],
             [
              0.1111111111111111,
              "#46039f"
             ],
             [
              0.2222222222222222,
              "#7201a8"
             ],
             [
              0.3333333333333333,
              "#9c179e"
             ],
             [
              0.4444444444444444,
              "#bd3786"
             ],
             [
              0.5555555555555556,
              "#d8576b"
             ],
             [
              0.6666666666666666,
              "#ed7953"
             ],
             [
              0.7777777777777778,
              "#fb9f3a"
             ],
             [
              0.8888888888888888,
              "#fdca26"
             ],
             [
              1,
              "#f0f921"
             ]
            ],
            "type": "heatmapgl"
           }
          ],
          "histogram": [
           {
            "marker": {
             "pattern": {
              "fillmode": "overlay",
              "size": 10,
              "solidity": 0.2
             }
            },
            "type": "histogram"
           }
          ],
          "histogram2d": [
           {
            "colorbar": {
             "outlinewidth": 0,
             "ticks": ""
            },
            "colorscale": [
             [
              0,
              "#0d0887"
             ],
             [
              0.1111111111111111,
              "#46039f"
             ],
             [
              0.2222222222222222,
              "#7201a8"
             ],
             [
              0.3333333333333333,
              "#9c179e"
             ],
             [
              0.4444444444444444,
              "#bd3786"
             ],
             [
              0.5555555555555556,
              "#d8576b"
             ],
             [
              0.6666666666666666,
              "#ed7953"
             ],
             [
              0.7777777777777778,
              "#fb9f3a"
             ],
             [
              0.8888888888888888,
              "#fdca26"
             ],
             [
              1,
              "#f0f921"
             ]
            ],
            "type": "histogram2d"
           }
          ],
          "histogram2dcontour": [
           {
            "colorbar": {
             "outlinewidth": 0,
             "ticks": ""
            },
            "colorscale": [
             [
              0,
              "#0d0887"
             ],
             [
              0.1111111111111111,
              "#46039f"
             ],
             [
              0.2222222222222222,
              "#7201a8"
             ],
             [
              0.3333333333333333,
              "#9c179e"
             ],
             [
              0.4444444444444444,
              "#bd3786"
             ],
             [
              0.5555555555555556,
              "#d8576b"
             ],
             [
              0.6666666666666666,
              "#ed7953"
             ],
             [
              0.7777777777777778,
              "#fb9f3a"
             ],
             [
              0.8888888888888888,
              "#fdca26"
             ],
             [
              1,
              "#f0f921"
             ]
            ],
            "type": "histogram2dcontour"
           }
          ],
          "mesh3d": [
           {
            "colorbar": {
             "outlinewidth": 0,
             "ticks": ""
            },
            "type": "mesh3d"
           }
          ],
          "parcoords": [
           {
            "line": {
             "colorbar": {
              "outlinewidth": 0,
              "ticks": ""
             }
            },
            "type": "parcoords"
           }
          ],
          "pie": [
           {
            "automargin": true,
            "type": "pie"
           }
          ],
          "scatter": [
           {
            "fillpattern": {
             "fillmode": "overlay",
             "size": 10,
             "solidity": 0.2
            },
            "type": "scatter"
           }
          ],
          "scatter3d": [
           {
            "line": {
             "colorbar": {
              "outlinewidth": 0,
              "ticks": ""
             }
            },
            "marker": {
             "colorbar": {
              "outlinewidth": 0,
              "ticks": ""
             }
            },
            "type": "scatter3d"
           }
          ],
          "scattercarpet": [
           {
            "marker": {
             "colorbar": {
              "outlinewidth": 0,
              "ticks": ""
             }
            },
            "type": "scattercarpet"
           }
          ],
          "scattergeo": [
           {
            "marker": {
             "colorbar": {
              "outlinewidth": 0,
              "ticks": ""
             }
            },
            "type": "scattergeo"
           }
          ],
          "scattergl": [
           {
            "marker": {
             "colorbar": {
              "outlinewidth": 0,
              "ticks": ""
             }
            },
            "type": "scattergl"
           }
          ],
          "scattermapbox": [
           {
            "marker": {
             "colorbar": {
              "outlinewidth": 0,
              "ticks": ""
             }
            },
            "type": "scattermapbox"
           }
          ],
          "scatterpolar": [
           {
            "marker": {
             "colorbar": {
              "outlinewidth": 0,
              "ticks": ""
             }
            },
            "type": "scatterpolar"
           }
          ],
          "scatterpolargl": [
           {
            "marker": {
             "colorbar": {
              "outlinewidth": 0,
              "ticks": ""
             }
            },
            "type": "scatterpolargl"
           }
          ],
          "scatterternary": [
           {
            "marker": {
             "colorbar": {
              "outlinewidth": 0,
              "ticks": ""
             }
            },
            "type": "scatterternary"
           }
          ],
          "surface": [
           {
            "colorbar": {
             "outlinewidth": 0,
             "ticks": ""
            },
            "colorscale": [
             [
              0,
              "#0d0887"
             ],
             [
              0.1111111111111111,
              "#46039f"
             ],
             [
              0.2222222222222222,
              "#7201a8"
             ],
             [
              0.3333333333333333,
              "#9c179e"
             ],
             [
              0.4444444444444444,
              "#bd3786"
             ],
             [
              0.5555555555555556,
              "#d8576b"
             ],
             [
              0.6666666666666666,
              "#ed7953"
             ],
             [
              0.7777777777777778,
              "#fb9f3a"
             ],
             [
              0.8888888888888888,
              "#fdca26"
             ],
             [
              1,
              "#f0f921"
             ]
            ],
            "type": "surface"
           }
          ],
          "table": [
           {
            "cells": {
             "fill": {
              "color": "#EBF0F8"
             },
             "line": {
              "color": "white"
             }
            },
            "header": {
             "fill": {
              "color": "#C8D4E3"
             },
             "line": {
              "color": "white"
             }
            },
            "type": "table"
           }
          ]
         },
         "layout": {
          "annotationdefaults": {
           "arrowcolor": "#2a3f5f",
           "arrowhead": 0,
           "arrowwidth": 1
          },
          "autotypenumbers": "strict",
          "coloraxis": {
           "colorbar": {
            "outlinewidth": 0,
            "ticks": ""
           }
          },
          "colorscale": {
           "diverging": [
            [
             0,
             "#8e0152"
            ],
            [
             0.1,
             "#c51b7d"
            ],
            [
             0.2,
             "#de77ae"
            ],
            [
             0.3,
             "#f1b6da"
            ],
            [
             0.4,
             "#fde0ef"
            ],
            [
             0.5,
             "#f7f7f7"
            ],
            [
             0.6,
             "#e6f5d0"
            ],
            [
             0.7,
             "#b8e186"
            ],
            [
             0.8,
             "#7fbc41"
            ],
            [
             0.9,
             "#4d9221"
            ],
            [
             1,
             "#276419"
            ]
           ],
           "sequential": [
            [
             0,
             "#0d0887"
            ],
            [
             0.1111111111111111,
             "#46039f"
            ],
            [
             0.2222222222222222,
             "#7201a8"
            ],
            [
             0.3333333333333333,
             "#9c179e"
            ],
            [
             0.4444444444444444,
             "#bd3786"
            ],
            [
             0.5555555555555556,
             "#d8576b"
            ],
            [
             0.6666666666666666,
             "#ed7953"
            ],
            [
             0.7777777777777778,
             "#fb9f3a"
            ],
            [
             0.8888888888888888,
             "#fdca26"
            ],
            [
             1,
             "#f0f921"
            ]
           ],
           "sequentialminus": [
            [
             0,
             "#0d0887"
            ],
            [
             0.1111111111111111,
             "#46039f"
            ],
            [
             0.2222222222222222,
             "#7201a8"
            ],
            [
             0.3333333333333333,
             "#9c179e"
            ],
            [
             0.4444444444444444,
             "#bd3786"
            ],
            [
             0.5555555555555556,
             "#d8576b"
            ],
            [
             0.6666666666666666,
             "#ed7953"
            ],
            [
             0.7777777777777778,
             "#fb9f3a"
            ],
            [
             0.8888888888888888,
             "#fdca26"
            ],
            [
             1,
             "#f0f921"
            ]
           ]
          },
          "colorway": [
           "#636efa",
           "#EF553B",
           "#00cc96",
           "#ab63fa",
           "#FFA15A",
           "#19d3f3",
           "#FF6692",
           "#B6E880",
           "#FF97FF",
           "#FECB52"
          ],
          "font": {
           "color": "#2a3f5f"
          },
          "geo": {
           "bgcolor": "white",
           "lakecolor": "white",
           "landcolor": "#E5ECF6",
           "showlakes": true,
           "showland": true,
           "subunitcolor": "white"
          },
          "hoverlabel": {
           "align": "left"
          },
          "hovermode": "closest",
          "mapbox": {
           "style": "light"
          },
          "paper_bgcolor": "white",
          "plot_bgcolor": "#E5ECF6",
          "polar": {
           "angularaxis": {
            "gridcolor": "white",
            "linecolor": "white",
            "ticks": ""
           },
           "bgcolor": "#E5ECF6",
           "radialaxis": {
            "gridcolor": "white",
            "linecolor": "white",
            "ticks": ""
           }
          },
          "scene": {
           "xaxis": {
            "backgroundcolor": "#E5ECF6",
            "gridcolor": "white",
            "gridwidth": 2,
            "linecolor": "white",
            "showbackground": true,
            "ticks": "",
            "zerolinecolor": "white"
           },
           "yaxis": {
            "backgroundcolor": "#E5ECF6",
            "gridcolor": "white",
            "gridwidth": 2,
            "linecolor": "white",
            "showbackground": true,
            "ticks": "",
            "zerolinecolor": "white"
           },
           "zaxis": {
            "backgroundcolor": "#E5ECF6",
            "gridcolor": "white",
            "gridwidth": 2,
            "linecolor": "white",
            "showbackground": true,
            "ticks": "",
            "zerolinecolor": "white"
           }
          },
          "shapedefaults": {
           "line": {
            "color": "#2a3f5f"
           }
          },
          "ternary": {
           "aaxis": {
            "gridcolor": "white",
            "linecolor": "white",
            "ticks": ""
           },
           "baxis": {
            "gridcolor": "white",
            "linecolor": "white",
            "ticks": ""
           },
           "bgcolor": "#E5ECF6",
           "caxis": {
            "gridcolor": "white",
            "linecolor": "white",
            "ticks": ""
           }
          },
          "title": {
           "x": 0.05
          },
          "xaxis": {
           "automargin": true,
           "gridcolor": "white",
           "linecolor": "white",
           "ticks": "",
           "title": {
            "standoff": 15
           },
           "zerolinecolor": "white",
           "zerolinewidth": 2
          },
          "yaxis": {
           "automargin": true,
           "gridcolor": "white",
           "linecolor": "white",
           "ticks": "",
           "title": {
            "standoff": 15
           },
           "zerolinecolor": "white",
           "zerolinewidth": 2
          }
         }
        },
        "title": {
         "text": "Regression scores between patients against PARPi7 sig scores"
        },
        "xaxis": {
         "anchor": "y",
         "domain": [
          0,
          1
         ],
         "title": {
          "text": "PARPi7 Signal"
         }
        },
        "yaxis": {
         "anchor": "x",
         "domain": [
          0,
          1
         ],
         "title": {
          "text": "Predictions"
         }
        }
       }
      }
     },
     "metadata": {},
     "output_type": "display_data"
    }
   ],
   "source": [
    "from scipy.stats import pearsonr\n",
    "import numpy as np\n",
    "import plotly.express as px\n",
    "\n",
    "# Data for plotting\n",
    "x = filtered_ispy_response['PARPi7_sig.']\n",
    "y = filtered_ispy_response['predictions']\n",
    "\n",
    "# Calculate Pearson R and p-value\n",
    "r_value, p_value = pearsonr(x, y)\n",
    "\n",
    "# Create the scatter plot with an adjusted color palette\n",
    "fig = px.scatter(\n",
    "    filtered_ispy_response,\n",
    "    x='PARPi7_sig.',\n",
    "    y='predictions',\n",
    "    title=f\"Regression scores between patients against PARPi7 sig scores\",\n",
    "    labels={'PARPi7_sig.': 'PARPi7 Signal', 'predictions': 'Predictions'},\n",
    "    color='pCR.status',\n",
    "    trendline=\"ols\",  # Add regression line\n",
    "    color_continuous_scale='magenta'  # Use a more subtle color palette\n",
    ")\n",
    "\n",
    "# Add R value and p-value as annotation\n",
    "fig.add_annotation(\n",
    "    x=np.mean(x), \n",
    "    y=np.max(y),\n",
    "    text=f\"Pearson R: {r_value:.2f}<br>p-value: {p_value:.2e}\",\n",
    "    showarrow=False,\n",
    "    font=dict(size=14, color=\"black\"),\n",
    "    align=\"center\",\n",
    "    bordercolor=\"black\",\n",
    "    borderwidth=1,\n",
    "    borderpad=4,\n",
    "    bgcolor=\"white\",\n",
    "    opacity=1.0\n",
    ")\n",
    "\n",
    "# Show the plot\n",
    "fig.show()\n"
   ]
  },
  {
   "cell_type": "markdown",
   "metadata": {},
   "source": [
    "# CCLE STUFF"
   ]
  },
  {
   "cell_type": "code",
   "execution_count": 104,
   "metadata": {},
   "outputs": [],
   "source": [
    "#breast_filt"
   ]
  },
  {
   "cell_type": "code",
   "execution_count": 112,
   "metadata": {},
   "outputs": [
    {
     "name": "stdout",
     "output_type": "stream",
     "text": [
      "Are columns aligned? True\n"
     ]
    }
   ],
   "source": [
    "\n",
    "# Align breast_filt with deseq_filtered_rna_seq_df_common columns\n",
    "breast_filt_aligned = breast_filt.reindex(columns=deseq_filtered_rna_seq_df_common.columns, fill_value=0)\n",
    "# Check for column alignment\n",
    "print(\"Are columns aligned?\", list(breast_filt_aligned.columns) == list(deseq_filtered_rna_seq_df_common.columns))\n",
    "\n",
    "feature_columns = breast_filt_aligned.columns  # Adjust if necessary\n",
    "X = breast_filt_aligned[feature_columns]\n",
    "scaler = StandardScaler()\n",
    "scaled_X = scaler.fit_transform(X)\n",
    "\n",
    "# Generate predictions\n",
    "predictions = elastic_net_model.predict(scaled_X)\n",
    "\n",
    "# Add the predictions to the DataFrame\n",
    "breast_filt_aligned['Predictions'] = predictions\n",
    "#predictions\n",
    "#breast_filt_aligned"
   ]
  },
  {
   "cell_type": "code",
   "execution_count": 124,
   "metadata": {},
   "outputs": [],
   "source": [
    "#breast_filt_aligned.index"
   ]
  },
  {
   "cell_type": "code",
   "execution_count": 128,
   "metadata": {},
   "outputs": [],
   "source": [
    "prism = pd.read_excel('../data/validation/PRISM_CCLE.xlsx', skiprows=1)\n",
    "prism['CellLine'] = prism['CellLine'].str.replace('-', '', regex=True)\n",
    "prism.set_index('CellLine', inplace=True)"
   ]
  },
  {
   "cell_type": "code",
   "execution_count": 133,
   "metadata": {},
   "outputs": [],
   "source": [
    "merged_prism = pd.merge(prism, breast_filt_aligned, how='inner', left_index=True, right_index=True)"
   ]
  },
  {
   "cell_type": "code",
   "execution_count": 137,
   "metadata": {},
   "outputs": [
    {
     "data": {
      "text/html": [
       "<div>\n",
       "<style scoped>\n",
       "    .dataframe tbody tr th:only-of-type {\n",
       "        vertical-align: middle;\n",
       "    }\n",
       "\n",
       "    .dataframe tbody tr th {\n",
       "        vertical-align: top;\n",
       "    }\n",
       "\n",
       "    .dataframe thead th {\n",
       "        text-align: right;\n",
       "    }\n",
       "</style>\n",
       "<table border=\"1\" class=\"dataframe\">\n",
       "  <thead>\n",
       "    <tr style=\"text-align: right;\">\n",
       "      <th></th>\n",
       "      <th>ModelID</th>\n",
       "      <th>HRD_score</th>\n",
       "      <th>OLAPARIB</th>\n",
       "      <th>TALAZOPARIB</th>\n",
       "      <th>NIRAPARIB</th>\n",
       "      <th>RUCAPARIB</th>\n",
       "      <th>A1BG</th>\n",
       "      <th>A2M</th>\n",
       "      <th>AAAS</th>\n",
       "      <th>AAGAB</th>\n",
       "      <th>...</th>\n",
       "      <th>ZSWIM7</th>\n",
       "      <th>ZSWIM8</th>\n",
       "      <th>ZW10</th>\n",
       "      <th>ZWILCH</th>\n",
       "      <th>ZWINT</th>\n",
       "      <th>ZXDC</th>\n",
       "      <th>ZYG11A</th>\n",
       "      <th>ZYG11B</th>\n",
       "      <th>ZYX</th>\n",
       "      <th>Predictions</th>\n",
       "    </tr>\n",
       "  </thead>\n",
       "  <tbody>\n",
       "    <tr>\n",
       "      <th>MCF7</th>\n",
       "      <td>ACH-000019</td>\n",
       "      <td>0.308480</td>\n",
       "      <td>-0.797929</td>\n",
       "      <td>-0.023578</td>\n",
       "      <td>0.148739</td>\n",
       "      <td>0.306764</td>\n",
       "      <td>3.187631</td>\n",
       "      <td>2.698630</td>\n",
       "      <td>3.716527</td>\n",
       "      <td>3.849534</td>\n",
       "      <td>...</td>\n",
       "      <td>3.439752</td>\n",
       "      <td>3.735960</td>\n",
       "      <td>3.475703</td>\n",
       "      <td>3.671388</td>\n",
       "      <td>3.850737</td>\n",
       "      <td>3.557276</td>\n",
       "      <td>3.442839</td>\n",
       "      <td>3.492951</td>\n",
       "      <td>3.617201</td>\n",
       "      <td>0.457145</td>\n",
       "    </tr>\n",
       "    <tr>\n",
       "      <th>ZR751</th>\n",
       "      <td>ACH-000097</td>\n",
       "      <td>0.241552</td>\n",
       "      <td>-0.187433</td>\n",
       "      <td>-0.887602</td>\n",
       "      <td>-0.294294</td>\n",
       "      <td>-0.256895</td>\n",
       "      <td>3.275976</td>\n",
       "      <td>2.280357</td>\n",
       "      <td>3.372611</td>\n",
       "      <td>3.707532</td>\n",
       "      <td>...</td>\n",
       "      <td>3.301973</td>\n",
       "      <td>3.653333</td>\n",
       "      <td>3.422955</td>\n",
       "      <td>3.566314</td>\n",
       "      <td>3.804002</td>\n",
       "      <td>3.448751</td>\n",
       "      <td>3.329102</td>\n",
       "      <td>3.483637</td>\n",
       "      <td>3.370143</td>\n",
       "      <td>0.213753</td>\n",
       "    </tr>\n",
       "    <tr>\n",
       "      <th>EFM192A</th>\n",
       "      <td>ACH-000117</td>\n",
       "      <td>0.254499</td>\n",
       "      <td>0.400780</td>\n",
       "      <td>0.511160</td>\n",
       "      <td>0.407931</td>\n",
       "      <td>0.362635</td>\n",
       "      <td>3.478198</td>\n",
       "      <td>2.968376</td>\n",
       "      <td>3.707811</td>\n",
       "      <td>3.780132</td>\n",
       "      <td>...</td>\n",
       "      <td>3.565548</td>\n",
       "      <td>3.788548</td>\n",
       "      <td>3.564393</td>\n",
       "      <td>3.635473</td>\n",
       "      <td>3.886981</td>\n",
       "      <td>3.639077</td>\n",
       "      <td>3.376848</td>\n",
       "      <td>3.620829</td>\n",
       "      <td>3.751203</td>\n",
       "      <td>0.426255</td>\n",
       "    </tr>\n",
       "    <tr>\n",
       "      <th>T47D</th>\n",
       "      <td>ACH-000147</td>\n",
       "      <td>0.121484</td>\n",
       "      <td>-0.169727</td>\n",
       "      <td>-1.319614</td>\n",
       "      <td>-0.084790</td>\n",
       "      <td>0.482255</td>\n",
       "      <td>3.267439</td>\n",
       "      <td>1.887697</td>\n",
       "      <td>3.730033</td>\n",
       "      <td>3.751912</td>\n",
       "      <td>...</td>\n",
       "      <td>3.375196</td>\n",
       "      <td>3.830691</td>\n",
       "      <td>3.684745</td>\n",
       "      <td>3.618567</td>\n",
       "      <td>3.916336</td>\n",
       "      <td>3.548223</td>\n",
       "      <td>3.480167</td>\n",
       "      <td>3.584071</td>\n",
       "      <td>3.472488</td>\n",
       "      <td>0.369693</td>\n",
       "    </tr>\n",
       "    <tr>\n",
       "      <th>CAL120</th>\n",
       "      <td>ACH-000212</td>\n",
       "      <td>0.576000</td>\n",
       "      <td>-0.170584</td>\n",
       "      <td>0.568778</td>\n",
       "      <td>0.076630</td>\n",
       "      <td>-0.676282</td>\n",
       "      <td>3.458969</td>\n",
       "      <td>2.595598</td>\n",
       "      <td>3.593007</td>\n",
       "      <td>3.676408</td>\n",
       "      <td>...</td>\n",
       "      <td>3.308213</td>\n",
       "      <td>3.712163</td>\n",
       "      <td>3.636985</td>\n",
       "      <td>3.596700</td>\n",
       "      <td>3.798670</td>\n",
       "      <td>3.443653</td>\n",
       "      <td>3.528163</td>\n",
       "      <td>3.641170</td>\n",
       "      <td>3.774612</td>\n",
       "      <td>0.417675</td>\n",
       "    </tr>\n",
       "    <tr>\n",
       "      <th>HCC1937</th>\n",
       "      <td>ACH-000223</td>\n",
       "      <td>0.554144</td>\n",
       "      <td>0.877093</td>\n",
       "      <td>0.806382</td>\n",
       "      <td>0.688014</td>\n",
       "      <td>-0.107405</td>\n",
       "      <td>3.237007</td>\n",
       "      <td>2.156860</td>\n",
       "      <td>3.630528</td>\n",
       "      <td>3.694637</td>\n",
       "      <td>...</td>\n",
       "      <td>3.395820</td>\n",
       "      <td>3.600461</td>\n",
       "      <td>3.708460</td>\n",
       "      <td>3.622958</td>\n",
       "      <td>3.732677</td>\n",
       "      <td>3.597990</td>\n",
       "      <td>3.443348</td>\n",
       "      <td>3.619787</td>\n",
       "      <td>3.758016</td>\n",
       "      <td>0.608261</td>\n",
       "    </tr>\n",
       "    <tr>\n",
       "      <th>HCC38</th>\n",
       "      <td>ACH-000276</td>\n",
       "      <td>0.837489</td>\n",
       "      <td>0.241112</td>\n",
       "      <td>-0.645883</td>\n",
       "      <td>-1.021853</td>\n",
       "      <td>NaN</td>\n",
       "      <td>3.327532</td>\n",
       "      <td>2.473680</td>\n",
       "      <td>3.603419</td>\n",
       "      <td>3.756051</td>\n",
       "      <td>...</td>\n",
       "      <td>3.400714</td>\n",
       "      <td>3.721826</td>\n",
       "      <td>3.617817</td>\n",
       "      <td>3.696155</td>\n",
       "      <td>3.932894</td>\n",
       "      <td>3.575220</td>\n",
       "      <td>3.410599</td>\n",
       "      <td>3.620426</td>\n",
       "      <td>3.801020</td>\n",
       "      <td>0.758356</td>\n",
       "    </tr>\n",
       "    <tr>\n",
       "      <th>HCC1419</th>\n",
       "      <td>ACH-000277</td>\n",
       "      <td>-0.033598</td>\n",
       "      <td>1.188068</td>\n",
       "      <td>0.305949</td>\n",
       "      <td>0.656047</td>\n",
       "      <td>0.351747</td>\n",
       "      <td>3.309741</td>\n",
       "      <td>1.790535</td>\n",
       "      <td>3.602136</td>\n",
       "      <td>3.759079</td>\n",
       "      <td>...</td>\n",
       "      <td>3.766972</td>\n",
       "      <td>3.734720</td>\n",
       "      <td>3.563666</td>\n",
       "      <td>3.567645</td>\n",
       "      <td>3.865565</td>\n",
       "      <td>3.569573</td>\n",
       "      <td>3.540038</td>\n",
       "      <td>3.594686</td>\n",
       "      <td>3.751462</td>\n",
       "      <td>0.498612</td>\n",
       "    </tr>\n",
       "    <tr>\n",
       "      <th>BT549</th>\n",
       "      <td>ACH-000288</td>\n",
       "      <td>0.723114</td>\n",
       "      <td>0.348175</td>\n",
       "      <td>-2.081534</td>\n",
       "      <td>-0.054022</td>\n",
       "      <td>-0.466699</td>\n",
       "      <td>3.390231</td>\n",
       "      <td>2.086759</td>\n",
       "      <td>3.667077</td>\n",
       "      <td>3.725563</td>\n",
       "      <td>...</td>\n",
       "      <td>3.515469</td>\n",
       "      <td>3.783418</td>\n",
       "      <td>3.724063</td>\n",
       "      <td>3.738046</td>\n",
       "      <td>3.902951</td>\n",
       "      <td>3.521783</td>\n",
       "      <td>3.520705</td>\n",
       "      <td>3.660596</td>\n",
       "      <td>3.915532</td>\n",
       "      <td>0.621615</td>\n",
       "    </tr>\n",
       "    <tr>\n",
       "      <th>EFM19</th>\n",
       "      <td>ACH-000330</td>\n",
       "      <td>0.324444</td>\n",
       "      <td>-0.306832</td>\n",
       "      <td>-1.940784</td>\n",
       "      <td>-0.498919</td>\n",
       "      <td>0.360583</td>\n",
       "      <td>3.161624</td>\n",
       "      <td>1.584963</td>\n",
       "      <td>3.600728</td>\n",
       "      <td>3.827231</td>\n",
       "      <td>...</td>\n",
       "      <td>3.209869</td>\n",
       "      <td>3.830835</td>\n",
       "      <td>3.598805</td>\n",
       "      <td>3.664749</td>\n",
       "      <td>3.932331</td>\n",
       "      <td>3.632371</td>\n",
       "      <td>3.507248</td>\n",
       "      <td>3.617954</td>\n",
       "      <td>3.521720</td>\n",
       "      <td>0.339010</td>\n",
       "    </tr>\n",
       "    <tr>\n",
       "      <th>HCC1428</th>\n",
       "      <td>ACH-000352</td>\n",
       "      <td>0.451387</td>\n",
       "      <td>0.245063</td>\n",
       "      <td>-0.568230</td>\n",
       "      <td>-0.178631</td>\n",
       "      <td>-0.312603</td>\n",
       "      <td>3.411949</td>\n",
       "      <td>2.249411</td>\n",
       "      <td>3.660056</td>\n",
       "      <td>3.843025</td>\n",
       "      <td>...</td>\n",
       "      <td>3.365899</td>\n",
       "      <td>3.853041</td>\n",
       "      <td>3.645667</td>\n",
       "      <td>3.674855</td>\n",
       "      <td>3.942148</td>\n",
       "      <td>3.604691</td>\n",
       "      <td>3.572995</td>\n",
       "      <td>3.680322</td>\n",
       "      <td>3.652955</td>\n",
       "      <td>0.779000</td>\n",
       "    </tr>\n",
       "    <tr>\n",
       "      <th>HCC1143</th>\n",
       "      <td>ACH-000374</td>\n",
       "      <td>0.768941</td>\n",
       "      <td>0.249491</td>\n",
       "      <td>-1.122830</td>\n",
       "      <td>-0.463954</td>\n",
       "      <td>-1.323301</td>\n",
       "      <td>2.855672</td>\n",
       "      <td>0.000000</td>\n",
       "      <td>3.601263</td>\n",
       "      <td>3.722212</td>\n",
       "      <td>...</td>\n",
       "      <td>3.386733</td>\n",
       "      <td>3.594088</td>\n",
       "      <td>3.504248</td>\n",
       "      <td>3.772426</td>\n",
       "      <td>3.865155</td>\n",
       "      <td>3.628568</td>\n",
       "      <td>3.350277</td>\n",
       "      <td>3.594009</td>\n",
       "      <td>3.756669</td>\n",
       "      <td>0.636612</td>\n",
       "    </tr>\n",
       "    <tr>\n",
       "      <th>MDAMB436</th>\n",
       "      <td>ACH-000573</td>\n",
       "      <td>0.797483</td>\n",
       "      <td>-1.660686</td>\n",
       "      <td>-1.741460</td>\n",
       "      <td>-0.535319</td>\n",
       "      <td>-1.722276</td>\n",
       "      <td>3.215682</td>\n",
       "      <td>2.496681</td>\n",
       "      <td>3.571108</td>\n",
       "      <td>3.753802</td>\n",
       "      <td>...</td>\n",
       "      <td>3.270954</td>\n",
       "      <td>3.752292</td>\n",
       "      <td>3.554984</td>\n",
       "      <td>3.695064</td>\n",
       "      <td>3.811887</td>\n",
       "      <td>3.434049</td>\n",
       "      <td>3.506277</td>\n",
       "      <td>3.634283</td>\n",
       "      <td>3.816408</td>\n",
       "      <td>0.449940</td>\n",
       "    </tr>\n",
       "    <tr>\n",
       "      <th>HCC1806</th>\n",
       "      <td>ACH-000624</td>\n",
       "      <td>0.568148</td>\n",
       "      <td>0.032683</td>\n",
       "      <td>-1.049383</td>\n",
       "      <td>-0.399757</td>\n",
       "      <td>-0.639401</td>\n",
       "      <td>3.659047</td>\n",
       "      <td>2.060021</td>\n",
       "      <td>3.663394</td>\n",
       "      <td>3.568070</td>\n",
       "      <td>...</td>\n",
       "      <td>3.406233</td>\n",
       "      <td>3.752468</td>\n",
       "      <td>3.551509</td>\n",
       "      <td>3.487660</td>\n",
       "      <td>3.823052</td>\n",
       "      <td>3.649231</td>\n",
       "      <td>3.424552</td>\n",
       "      <td>3.569526</td>\n",
       "      <td>3.564682</td>\n",
       "      <td>0.372665</td>\n",
       "    </tr>\n",
       "    <tr>\n",
       "      <th>HDQP1</th>\n",
       "      <td>ACH-000643</td>\n",
       "      <td>0.562507</td>\n",
       "      <td>0.664378</td>\n",
       "      <td>-0.085880</td>\n",
       "      <td>0.602260</td>\n",
       "      <td>0.343358</td>\n",
       "      <td>3.223743</td>\n",
       "      <td>2.060021</td>\n",
       "      <td>3.635382</td>\n",
       "      <td>3.648397</td>\n",
       "      <td>...</td>\n",
       "      <td>3.467194</td>\n",
       "      <td>3.682373</td>\n",
       "      <td>3.532417</td>\n",
       "      <td>3.556871</td>\n",
       "      <td>3.695003</td>\n",
       "      <td>3.422726</td>\n",
       "      <td>3.350624</td>\n",
       "      <td>3.498806</td>\n",
       "      <td>3.822502</td>\n",
       "      <td>0.255247</td>\n",
       "    </tr>\n",
       "    <tr>\n",
       "      <th>HCC1395</th>\n",
       "      <td>ACH-000699</td>\n",
       "      <td>0.831672</td>\n",
       "      <td>-0.306209</td>\n",
       "      <td>-1.594028</td>\n",
       "      <td>0.032745</td>\n",
       "      <td>-0.875911</td>\n",
       "      <td>2.978679</td>\n",
       "      <td>3.598650</td>\n",
       "      <td>3.635229</td>\n",
       "      <td>3.731739</td>\n",
       "      <td>...</td>\n",
       "      <td>3.354906</td>\n",
       "      <td>3.621464</td>\n",
       "      <td>3.544814</td>\n",
       "      <td>3.701317</td>\n",
       "      <td>3.763226</td>\n",
       "      <td>3.364301</td>\n",
       "      <td>3.412315</td>\n",
       "      <td>3.487270</td>\n",
       "      <td>3.910172</td>\n",
       "      <td>0.602180</td>\n",
       "    </tr>\n",
       "    <tr>\n",
       "      <th>JIMT1</th>\n",
       "      <td>ACH-000711</td>\n",
       "      <td>0.531962</td>\n",
       "      <td>0.355926</td>\n",
       "      <td>-1.791088</td>\n",
       "      <td>-0.135485</td>\n",
       "      <td>0.167153</td>\n",
       "      <td>3.299922</td>\n",
       "      <td>1.966021</td>\n",
       "      <td>3.602401</td>\n",
       "      <td>3.707718</td>\n",
       "      <td>...</td>\n",
       "      <td>3.241754</td>\n",
       "      <td>3.641170</td>\n",
       "      <td>3.561811</td>\n",
       "      <td>3.472403</td>\n",
       "      <td>3.785672</td>\n",
       "      <td>3.535289</td>\n",
       "      <td>3.457012</td>\n",
       "      <td>3.572399</td>\n",
       "      <td>3.850940</td>\n",
       "      <td>0.706361</td>\n",
       "    </tr>\n",
       "    <tr>\n",
       "      <th>HMC18</th>\n",
       "      <td>ACH-000721</td>\n",
       "      <td>0.608614</td>\n",
       "      <td>0.068161</td>\n",
       "      <td>-1.385949</td>\n",
       "      <td>-0.209912</td>\n",
       "      <td>0.363162</td>\n",
       "      <td>0.664449</td>\n",
       "      <td>2.481548</td>\n",
       "      <td>3.682307</td>\n",
       "      <td>3.682793</td>\n",
       "      <td>...</td>\n",
       "      <td>3.351144</td>\n",
       "      <td>3.632928</td>\n",
       "      <td>3.676547</td>\n",
       "      <td>3.638393</td>\n",
       "      <td>3.789752</td>\n",
       "      <td>3.492195</td>\n",
       "      <td>3.388979</td>\n",
       "      <td>3.599808</td>\n",
       "      <td>3.867945</td>\n",
       "      <td>0.572803</td>\n",
       "    </tr>\n",
       "    <tr>\n",
       "      <th>MDAMB175VII</th>\n",
       "      <td>ACH-000759</td>\n",
       "      <td>-0.032175</td>\n",
       "      <td>0.873646</td>\n",
       "      <td>0.415447</td>\n",
       "      <td>0.738991</td>\n",
       "      <td>0.400556</td>\n",
       "      <td>3.103071</td>\n",
       "      <td>3.751176</td>\n",
       "      <td>3.556108</td>\n",
       "      <td>3.764586</td>\n",
       "      <td>...</td>\n",
       "      <td>3.258211</td>\n",
       "      <td>3.788287</td>\n",
       "      <td>3.382730</td>\n",
       "      <td>3.508144</td>\n",
       "      <td>3.804984</td>\n",
       "      <td>3.616203</td>\n",
       "      <td>2.882651</td>\n",
       "      <td>3.543826</td>\n",
       "      <td>3.927322</td>\n",
       "      <td>0.222300</td>\n",
       "    </tr>\n",
       "    <tr>\n",
       "      <th>MDAMB231</th>\n",
       "      <td>ACH-000768</td>\n",
       "      <td>0.585554</td>\n",
       "      <td>0.729448</td>\n",
       "      <td>0.165591</td>\n",
       "      <td>-0.053860</td>\n",
       "      <td>-0.286676</td>\n",
       "      <td>2.967202</td>\n",
       "      <td>2.595598</td>\n",
       "      <td>3.578168</td>\n",
       "      <td>3.586982</td>\n",
       "      <td>...</td>\n",
       "      <td>3.377892</td>\n",
       "      <td>3.613308</td>\n",
       "      <td>3.678560</td>\n",
       "      <td>3.582745</td>\n",
       "      <td>3.838325</td>\n",
       "      <td>3.409859</td>\n",
       "      <td>3.302200</td>\n",
       "      <td>3.566314</td>\n",
       "      <td>3.778873</td>\n",
       "      <td>0.487287</td>\n",
       "    </tr>\n",
       "    <tr>\n",
       "      <th>CAMA1</th>\n",
       "      <td>ACH-000783</td>\n",
       "      <td>0.133422</td>\n",
       "      <td>0.386449</td>\n",
       "      <td>-1.316092</td>\n",
       "      <td>0.079263</td>\n",
       "      <td>0.124612</td>\n",
       "      <td>3.421343</td>\n",
       "      <td>2.060021</td>\n",
       "      <td>3.645979</td>\n",
       "      <td>3.799711</td>\n",
       "      <td>...</td>\n",
       "      <td>3.466487</td>\n",
       "      <td>3.770275</td>\n",
       "      <td>3.603794</td>\n",
       "      <td>3.677740</td>\n",
       "      <td>3.849090</td>\n",
       "      <td>3.625610</td>\n",
       "      <td>2.865009</td>\n",
       "      <td>3.577502</td>\n",
       "      <td>3.807164</td>\n",
       "      <td>0.437464</td>\n",
       "    </tr>\n",
       "    <tr>\n",
       "      <th>MDAMB468</th>\n",
       "      <td>ACH-000849</td>\n",
       "      <td>0.526325</td>\n",
       "      <td>-1.333871</td>\n",
       "      <td>-0.697135</td>\n",
       "      <td>-1.116247</td>\n",
       "      <td>-0.460654</td>\n",
       "      <td>2.887697</td>\n",
       "      <td>3.497784</td>\n",
       "      <td>3.548758</td>\n",
       "      <td>3.635442</td>\n",
       "      <td>...</td>\n",
       "      <td>3.372917</td>\n",
       "      <td>3.648925</td>\n",
       "      <td>3.587191</td>\n",
       "      <td>3.528102</td>\n",
       "      <td>3.757338</td>\n",
       "      <td>3.529433</td>\n",
       "      <td>3.435013</td>\n",
       "      <td>3.599885</td>\n",
       "      <td>3.707439</td>\n",
       "      <td>0.437082</td>\n",
       "    </tr>\n",
       "    <tr>\n",
       "      <th>CAL51</th>\n",
       "      <td>ACH-000856</td>\n",
       "      <td>0.646956</td>\n",
       "      <td>-0.361786</td>\n",
       "      <td>-1.152762</td>\n",
       "      <td>-1.207693</td>\n",
       "      <td>-0.011183</td>\n",
       "      <td>3.202733</td>\n",
       "      <td>2.857569</td>\n",
       "      <td>3.696175</td>\n",
       "      <td>3.701375</td>\n",
       "      <td>...</td>\n",
       "      <td>3.476372</td>\n",
       "      <td>3.720473</td>\n",
       "      <td>3.613484</td>\n",
       "      <td>3.647108</td>\n",
       "      <td>3.838346</td>\n",
       "      <td>3.506832</td>\n",
       "      <td>2.111675</td>\n",
       "      <td>3.689100</td>\n",
       "      <td>3.804568</td>\n",
       "      <td>0.250210</td>\n",
       "    </tr>\n",
       "    <tr>\n",
       "      <th>HCC1954</th>\n",
       "      <td>ACH-000859</td>\n",
       "      <td>0.424894</td>\n",
       "      <td>0.383068</td>\n",
       "      <td>-0.404977</td>\n",
       "      <td>0.422912</td>\n",
       "      <td>0.361447</td>\n",
       "      <td>3.007002</td>\n",
       "      <td>2.031206</td>\n",
       "      <td>3.575355</td>\n",
       "      <td>3.711314</td>\n",
       "      <td>...</td>\n",
       "      <td>3.234751</td>\n",
       "      <td>3.535231</td>\n",
       "      <td>3.570412</td>\n",
       "      <td>3.658449</td>\n",
       "      <td>3.791732</td>\n",
       "      <td>3.473256</td>\n",
       "      <td>3.263579</td>\n",
       "      <td>3.612956</td>\n",
       "      <td>3.898456</td>\n",
       "      <td>0.553954</td>\n",
       "    </tr>\n",
       "    <tr>\n",
       "      <th>BT474</th>\n",
       "      <td>ACH-000927</td>\n",
       "      <td>0.038815</td>\n",
       "      <td>0.428037</td>\n",
       "      <td>0.322178</td>\n",
       "      <td>0.503590</td>\n",
       "      <td>-1.112493</td>\n",
       "      <td>2.196910</td>\n",
       "      <td>0.000000</td>\n",
       "      <td>3.636563</td>\n",
       "      <td>3.695893</td>\n",
       "      <td>...</td>\n",
       "      <td>3.403046</td>\n",
       "      <td>3.656508</td>\n",
       "      <td>3.585512</td>\n",
       "      <td>3.613484</td>\n",
       "      <td>3.821526</td>\n",
       "      <td>3.571755</td>\n",
       "      <td>3.077746</td>\n",
       "      <td>3.573178</td>\n",
       "      <td>3.654862</td>\n",
       "      <td>0.478730</td>\n",
       "    </tr>\n",
       "    <tr>\n",
       "      <th>MDAMB361</th>\n",
       "      <td>ACH-000934</td>\n",
       "      <td>0.241799</td>\n",
       "      <td>0.242293</td>\n",
       "      <td>-0.922902</td>\n",
       "      <td>-1.516433</td>\n",
       "      <td>-0.521196</td>\n",
       "      <td>2.531409</td>\n",
       "      <td>2.687720</td>\n",
       "      <td>3.520196</td>\n",
       "      <td>3.646319</td>\n",
       "      <td>...</td>\n",
       "      <td>3.171724</td>\n",
       "      <td>3.633545</td>\n",
       "      <td>3.382150</td>\n",
       "      <td>3.490289</td>\n",
       "      <td>3.743997</td>\n",
       "      <td>3.444564</td>\n",
       "      <td>2.402013</td>\n",
       "      <td>3.343733</td>\n",
       "      <td>3.636985</td>\n",
       "      <td>0.287794</td>\n",
       "    </tr>\n",
       "  </tbody>\n",
       "</table>\n",
       "<p>26 rows × 6326 columns</p>\n",
       "</div>"
      ],
      "text/plain": [
       "                ModelID  HRD_score  OLAPARIB  TALAZOPARIB  NIRAPARIB  \\\n",
       "MCF7         ACH-000019   0.308480 -0.797929    -0.023578   0.148739   \n",
       "ZR751        ACH-000097   0.241552 -0.187433    -0.887602  -0.294294   \n",
       "EFM192A      ACH-000117   0.254499  0.400780     0.511160   0.407931   \n",
       "T47D         ACH-000147   0.121484 -0.169727    -1.319614  -0.084790   \n",
       "CAL120       ACH-000212   0.576000 -0.170584     0.568778   0.076630   \n",
       "HCC1937      ACH-000223   0.554144  0.877093     0.806382   0.688014   \n",
       "HCC38        ACH-000276   0.837489  0.241112    -0.645883  -1.021853   \n",
       "HCC1419      ACH-000277  -0.033598  1.188068     0.305949   0.656047   \n",
       "BT549        ACH-000288   0.723114  0.348175    -2.081534  -0.054022   \n",
       "EFM19        ACH-000330   0.324444 -0.306832    -1.940784  -0.498919   \n",
       "HCC1428      ACH-000352   0.451387  0.245063    -0.568230  -0.178631   \n",
       "HCC1143      ACH-000374   0.768941  0.249491    -1.122830  -0.463954   \n",
       "MDAMB436     ACH-000573   0.797483 -1.660686    -1.741460  -0.535319   \n",
       "HCC1806      ACH-000624   0.568148  0.032683    -1.049383  -0.399757   \n",
       "HDQP1        ACH-000643   0.562507  0.664378    -0.085880   0.602260   \n",
       "HCC1395      ACH-000699   0.831672 -0.306209    -1.594028   0.032745   \n",
       "JIMT1        ACH-000711   0.531962  0.355926    -1.791088  -0.135485   \n",
       "HMC18        ACH-000721   0.608614  0.068161    -1.385949  -0.209912   \n",
       "MDAMB175VII  ACH-000759  -0.032175  0.873646     0.415447   0.738991   \n",
       "MDAMB231     ACH-000768   0.585554  0.729448     0.165591  -0.053860   \n",
       "CAMA1        ACH-000783   0.133422  0.386449    -1.316092   0.079263   \n",
       "MDAMB468     ACH-000849   0.526325 -1.333871    -0.697135  -1.116247   \n",
       "CAL51        ACH-000856   0.646956 -0.361786    -1.152762  -1.207693   \n",
       "HCC1954      ACH-000859   0.424894  0.383068    -0.404977   0.422912   \n",
       "BT474        ACH-000927   0.038815  0.428037     0.322178   0.503590   \n",
       "MDAMB361     ACH-000934   0.241799  0.242293    -0.922902  -1.516433   \n",
       "\n",
       "             RUCAPARIB      A1BG       A2M      AAAS     AAGAB  ...    ZSWIM7  \\\n",
       "MCF7          0.306764  3.187631  2.698630  3.716527  3.849534  ...  3.439752   \n",
       "ZR751        -0.256895  3.275976  2.280357  3.372611  3.707532  ...  3.301973   \n",
       "EFM192A       0.362635  3.478198  2.968376  3.707811  3.780132  ...  3.565548   \n",
       "T47D          0.482255  3.267439  1.887697  3.730033  3.751912  ...  3.375196   \n",
       "CAL120       -0.676282  3.458969  2.595598  3.593007  3.676408  ...  3.308213   \n",
       "HCC1937      -0.107405  3.237007  2.156860  3.630528  3.694637  ...  3.395820   \n",
       "HCC38              NaN  3.327532  2.473680  3.603419  3.756051  ...  3.400714   \n",
       "HCC1419       0.351747  3.309741  1.790535  3.602136  3.759079  ...  3.766972   \n",
       "BT549        -0.466699  3.390231  2.086759  3.667077  3.725563  ...  3.515469   \n",
       "EFM19         0.360583  3.161624  1.584963  3.600728  3.827231  ...  3.209869   \n",
       "HCC1428      -0.312603  3.411949  2.249411  3.660056  3.843025  ...  3.365899   \n",
       "HCC1143      -1.323301  2.855672  0.000000  3.601263  3.722212  ...  3.386733   \n",
       "MDAMB436     -1.722276  3.215682  2.496681  3.571108  3.753802  ...  3.270954   \n",
       "HCC1806      -0.639401  3.659047  2.060021  3.663394  3.568070  ...  3.406233   \n",
       "HDQP1         0.343358  3.223743  2.060021  3.635382  3.648397  ...  3.467194   \n",
       "HCC1395      -0.875911  2.978679  3.598650  3.635229  3.731739  ...  3.354906   \n",
       "JIMT1         0.167153  3.299922  1.966021  3.602401  3.707718  ...  3.241754   \n",
       "HMC18         0.363162  0.664449  2.481548  3.682307  3.682793  ...  3.351144   \n",
       "MDAMB175VII   0.400556  3.103071  3.751176  3.556108  3.764586  ...  3.258211   \n",
       "MDAMB231     -0.286676  2.967202  2.595598  3.578168  3.586982  ...  3.377892   \n",
       "CAMA1         0.124612  3.421343  2.060021  3.645979  3.799711  ...  3.466487   \n",
       "MDAMB468     -0.460654  2.887697  3.497784  3.548758  3.635442  ...  3.372917   \n",
       "CAL51        -0.011183  3.202733  2.857569  3.696175  3.701375  ...  3.476372   \n",
       "HCC1954       0.361447  3.007002  2.031206  3.575355  3.711314  ...  3.234751   \n",
       "BT474        -1.112493  2.196910  0.000000  3.636563  3.695893  ...  3.403046   \n",
       "MDAMB361     -0.521196  2.531409  2.687720  3.520196  3.646319  ...  3.171724   \n",
       "\n",
       "               ZSWIM8      ZW10    ZWILCH     ZWINT      ZXDC    ZYG11A  \\\n",
       "MCF7         3.735960  3.475703  3.671388  3.850737  3.557276  3.442839   \n",
       "ZR751        3.653333  3.422955  3.566314  3.804002  3.448751  3.329102   \n",
       "EFM192A      3.788548  3.564393  3.635473  3.886981  3.639077  3.376848   \n",
       "T47D         3.830691  3.684745  3.618567  3.916336  3.548223  3.480167   \n",
       "CAL120       3.712163  3.636985  3.596700  3.798670  3.443653  3.528163   \n",
       "HCC1937      3.600461  3.708460  3.622958  3.732677  3.597990  3.443348   \n",
       "HCC38        3.721826  3.617817  3.696155  3.932894  3.575220  3.410599   \n",
       "HCC1419      3.734720  3.563666  3.567645  3.865565  3.569573  3.540038   \n",
       "BT549        3.783418  3.724063  3.738046  3.902951  3.521783  3.520705   \n",
       "EFM19        3.830835  3.598805  3.664749  3.932331  3.632371  3.507248   \n",
       "HCC1428      3.853041  3.645667  3.674855  3.942148  3.604691  3.572995   \n",
       "HCC1143      3.594088  3.504248  3.772426  3.865155  3.628568  3.350277   \n",
       "MDAMB436     3.752292  3.554984  3.695064  3.811887  3.434049  3.506277   \n",
       "HCC1806      3.752468  3.551509  3.487660  3.823052  3.649231  3.424552   \n",
       "HDQP1        3.682373  3.532417  3.556871  3.695003  3.422726  3.350624   \n",
       "HCC1395      3.621464  3.544814  3.701317  3.763226  3.364301  3.412315   \n",
       "JIMT1        3.641170  3.561811  3.472403  3.785672  3.535289  3.457012   \n",
       "HMC18        3.632928  3.676547  3.638393  3.789752  3.492195  3.388979   \n",
       "MDAMB175VII  3.788287  3.382730  3.508144  3.804984  3.616203  2.882651   \n",
       "MDAMB231     3.613308  3.678560  3.582745  3.838325  3.409859  3.302200   \n",
       "CAMA1        3.770275  3.603794  3.677740  3.849090  3.625610  2.865009   \n",
       "MDAMB468     3.648925  3.587191  3.528102  3.757338  3.529433  3.435013   \n",
       "CAL51        3.720473  3.613484  3.647108  3.838346  3.506832  2.111675   \n",
       "HCC1954      3.535231  3.570412  3.658449  3.791732  3.473256  3.263579   \n",
       "BT474        3.656508  3.585512  3.613484  3.821526  3.571755  3.077746   \n",
       "MDAMB361     3.633545  3.382150  3.490289  3.743997  3.444564  2.402013   \n",
       "\n",
       "               ZYG11B       ZYX  Predictions  \n",
       "MCF7         3.492951  3.617201     0.457145  \n",
       "ZR751        3.483637  3.370143     0.213753  \n",
       "EFM192A      3.620829  3.751203     0.426255  \n",
       "T47D         3.584071  3.472488     0.369693  \n",
       "CAL120       3.641170  3.774612     0.417675  \n",
       "HCC1937      3.619787  3.758016     0.608261  \n",
       "HCC38        3.620426  3.801020     0.758356  \n",
       "HCC1419      3.594686  3.751462     0.498612  \n",
       "BT549        3.660596  3.915532     0.621615  \n",
       "EFM19        3.617954  3.521720     0.339010  \n",
       "HCC1428      3.680322  3.652955     0.779000  \n",
       "HCC1143      3.594009  3.756669     0.636612  \n",
       "MDAMB436     3.634283  3.816408     0.449940  \n",
       "HCC1806      3.569526  3.564682     0.372665  \n",
       "HDQP1        3.498806  3.822502     0.255247  \n",
       "HCC1395      3.487270  3.910172     0.602180  \n",
       "JIMT1        3.572399  3.850940     0.706361  \n",
       "HMC18        3.599808  3.867945     0.572803  \n",
       "MDAMB175VII  3.543826  3.927322     0.222300  \n",
       "MDAMB231     3.566314  3.778873     0.487287  \n",
       "CAMA1        3.577502  3.807164     0.437464  \n",
       "MDAMB468     3.599885  3.707439     0.437082  \n",
       "CAL51        3.689100  3.804568     0.250210  \n",
       "HCC1954      3.612956  3.898456     0.553954  \n",
       "BT474        3.573178  3.654862     0.478730  \n",
       "MDAMB361     3.343733  3.636985     0.287794  \n",
       "\n",
       "[26 rows x 6326 columns]"
      ]
     },
     "execution_count": 137,
     "metadata": {},
     "output_type": "execute_result"
    }
   ],
   "source": [
    "merged_prism"
   ]
  },
  {
   "cell_type": "code",
   "execution_count": 139,
   "metadata": {},
   "outputs": [
    {
     "data": {
      "application/vnd.plotly.v1+json": {
       "config": {
        "plotlyServerURL": "https://plot.ly"
       },
       "data": [
        {
         "hovertemplate": "OLAPARIB=%{x}<br>Predictions=%{y}<extra></extra>",
         "legendgroup": "",
         "marker": {
          "color": "#636efa",
          "symbol": "circle"
         },
         "mode": "markers",
         "name": "",
         "orientation": "v",
         "showlegend": false,
         "type": "scatter",
         "x": [
          -0.797928694502,
          -0.187433106548,
          0.400779705848,
          -0.169727089871,
          -0.170583520766,
          0.877092918093,
          1.18806787269,
          0.348174691304,
          -0.306831772183,
          0.245062827223,
          0.249490929458,
          -1.66068629864,
          0.0326831616267,
          0.664378368233,
          -0.306208979277,
          0.35592579905,
          0.0681613603045,
          0.873646339674,
          0.729447544919,
          0.386449032201,
          -1.33387076259,
          -0.36178579156,
          0.383067930757,
          0.428037268985,
          0.242293158489
         ],
         "xaxis": "x",
         "y": [
          0.4571450642232894,
          0.21375282611733026,
          0.42625474757388093,
          0.3696931360853799,
          0.41767481644059196,
          0.6082606400561619,
          0.49861229394498063,
          0.6216152989874864,
          0.3390097358497324,
          0.7789995364967164,
          0.6366122801465394,
          0.44994002810288836,
          0.37266487509884877,
          0.2552465233600348,
          0.602180309909687,
          0.7063610439135064,
          0.5728030108523237,
          0.22230026766744837,
          0.48728659496938276,
          0.4374639956663371,
          0.437082246753258,
          0.2502096162008307,
          0.5539537771033445,
          0.47872958973001356,
          0.28779431325832294
         ],
         "yaxis": "y"
        },
        {
         "hovertemplate": "<b>OLS trendline</b><br>Predictions = 0.028161 * OLAPARIB + 0.456813<br>R<sup>2</sup>=0.014889<br><br>OLAPARIB=%{x}<br>Predictions=%{y} <b>(trend)</b><extra></extra>",
         "legendgroup": "",
         "marker": {
          "color": "#636efa",
          "symbol": "circle"
         },
         "mode": "lines",
         "name": "",
         "showlegend": false,
         "type": "scatter",
         "x": [
          -1.66068629864,
          -1.33387076259,
          -0.797928694502,
          -0.36178579156,
          -0.306831772183,
          -0.306208979277,
          -0.187433106548,
          -0.170583520766,
          -0.169727089871,
          0.0326831616267,
          0.0681613603045,
          0.242293158489,
          0.245062827223,
          0.249490929458,
          0.348174691304,
          0.35592579905,
          0.383067930757,
          0.386449032201,
          0.400779705848,
          0.428037268985,
          0.664378368233,
          0.729447544919,
          0.873646339674,
          0.877092918093,
          1.18806787269
         ],
         "xaxis": "x",
         "y": [
          0.410046212320102,
          0.41924966685923415,
          0.434342335093041,
          0.4466245583566796,
          0.4481721188710654,
          0.4481896573463378,
          0.4515345055081457,
          0.45200900680824335,
          0.4520331247645171,
          0.4577332012371007,
          0.45873230303197826,
          0.463636029787989,
          0.4637140264480925,
          0.46383872626532585,
          0.46661776035555724,
          0.46683603935364415,
          0.46760038910971663,
          0.46769560433053553,
          0.468099170528824,
          0.46886677095018375,
          0.4755223742576248,
          0.4773547877859607,
          0.48141557102829174,
          0.4815126301466501,
          0.49026999796347354
         ],
         "yaxis": "y"
        }
       ],
       "layout": {
        "annotations": [
         {
          "align": "center",
          "bgcolor": "white",
          "bordercolor": "black",
          "borderpad": 4,
          "borderwidth": 1,
          "font": {
           "color": "black",
           "size": 14
          },
          "opacity": 1,
          "showarrow": false,
          "text": "Pearson R: 0.12<br>p-value: 5.61e-01",
          "x": 0.08710811571672801,
          "y": 0.7789995364967164
         }
        ],
        "legend": {
         "tracegroupgap": 0
        },
        "template": {
         "data": {
          "bar": [
           {
            "error_x": {
             "color": "#2a3f5f"
            },
            "error_y": {
             "color": "#2a3f5f"
            },
            "marker": {
             "line": {
              "color": "#E5ECF6",
              "width": 0.5
             },
             "pattern": {
              "fillmode": "overlay",
              "size": 10,
              "solidity": 0.2
             }
            },
            "type": "bar"
           }
          ],
          "barpolar": [
           {
            "marker": {
             "line": {
              "color": "#E5ECF6",
              "width": 0.5
             },
             "pattern": {
              "fillmode": "overlay",
              "size": 10,
              "solidity": 0.2
             }
            },
            "type": "barpolar"
           }
          ],
          "carpet": [
           {
            "aaxis": {
             "endlinecolor": "#2a3f5f",
             "gridcolor": "white",
             "linecolor": "white",
             "minorgridcolor": "white",
             "startlinecolor": "#2a3f5f"
            },
            "baxis": {
             "endlinecolor": "#2a3f5f",
             "gridcolor": "white",
             "linecolor": "white",
             "minorgridcolor": "white",
             "startlinecolor": "#2a3f5f"
            },
            "type": "carpet"
           }
          ],
          "choropleth": [
           {
            "colorbar": {
             "outlinewidth": 0,
             "ticks": ""
            },
            "type": "choropleth"
           }
          ],
          "contour": [
           {
            "colorbar": {
             "outlinewidth": 0,
             "ticks": ""
            },
            "colorscale": [
             [
              0,
              "#0d0887"
             ],
             [
              0.1111111111111111,
              "#46039f"
             ],
             [
              0.2222222222222222,
              "#7201a8"
             ],
             [
              0.3333333333333333,
              "#9c179e"
             ],
             [
              0.4444444444444444,
              "#bd3786"
             ],
             [
              0.5555555555555556,
              "#d8576b"
             ],
             [
              0.6666666666666666,
              "#ed7953"
             ],
             [
              0.7777777777777778,
              "#fb9f3a"
             ],
             [
              0.8888888888888888,
              "#fdca26"
             ],
             [
              1,
              "#f0f921"
             ]
            ],
            "type": "contour"
           }
          ],
          "contourcarpet": [
           {
            "colorbar": {
             "outlinewidth": 0,
             "ticks": ""
            },
            "type": "contourcarpet"
           }
          ],
          "heatmap": [
           {
            "colorbar": {
             "outlinewidth": 0,
             "ticks": ""
            },
            "colorscale": [
             [
              0,
              "#0d0887"
             ],
             [
              0.1111111111111111,
              "#46039f"
             ],
             [
              0.2222222222222222,
              "#7201a8"
             ],
             [
              0.3333333333333333,
              "#9c179e"
             ],
             [
              0.4444444444444444,
              "#bd3786"
             ],
             [
              0.5555555555555556,
              "#d8576b"
             ],
             [
              0.6666666666666666,
              "#ed7953"
             ],
             [
              0.7777777777777778,
              "#fb9f3a"
             ],
             [
              0.8888888888888888,
              "#fdca26"
             ],
             [
              1,
              "#f0f921"
             ]
            ],
            "type": "heatmap"
           }
          ],
          "heatmapgl": [
           {
            "colorbar": {
             "outlinewidth": 0,
             "ticks": ""
            },
            "colorscale": [
             [
              0,
              "#0d0887"
             ],
             [
              0.1111111111111111,
              "#46039f"
             ],
             [
              0.2222222222222222,
              "#7201a8"
             ],
             [
              0.3333333333333333,
              "#9c179e"
             ],
             [
              0.4444444444444444,
              "#bd3786"
             ],
             [
              0.5555555555555556,
              "#d8576b"
             ],
             [
              0.6666666666666666,
              "#ed7953"
             ],
             [
              0.7777777777777778,
              "#fb9f3a"
             ],
             [
              0.8888888888888888,
              "#fdca26"
             ],
             [
              1,
              "#f0f921"
             ]
            ],
            "type": "heatmapgl"
           }
          ],
          "histogram": [
           {
            "marker": {
             "pattern": {
              "fillmode": "overlay",
              "size": 10,
              "solidity": 0.2
             }
            },
            "type": "histogram"
           }
          ],
          "histogram2d": [
           {
            "colorbar": {
             "outlinewidth": 0,
             "ticks": ""
            },
            "colorscale": [
             [
              0,
              "#0d0887"
             ],
             [
              0.1111111111111111,
              "#46039f"
             ],
             [
              0.2222222222222222,
              "#7201a8"
             ],
             [
              0.3333333333333333,
              "#9c179e"
             ],
             [
              0.4444444444444444,
              "#bd3786"
             ],
             [
              0.5555555555555556,
              "#d8576b"
             ],
             [
              0.6666666666666666,
              "#ed7953"
             ],
             [
              0.7777777777777778,
              "#fb9f3a"
             ],
             [
              0.8888888888888888,
              "#fdca26"
             ],
             [
              1,
              "#f0f921"
             ]
            ],
            "type": "histogram2d"
           }
          ],
          "histogram2dcontour": [
           {
            "colorbar": {
             "outlinewidth": 0,
             "ticks": ""
            },
            "colorscale": [
             [
              0,
              "#0d0887"
             ],
             [
              0.1111111111111111,
              "#46039f"
             ],
             [
              0.2222222222222222,
              "#7201a8"
             ],
             [
              0.3333333333333333,
              "#9c179e"
             ],
             [
              0.4444444444444444,
              "#bd3786"
             ],
             [
              0.5555555555555556,
              "#d8576b"
             ],
             [
              0.6666666666666666,
              "#ed7953"
             ],
             [
              0.7777777777777778,
              "#fb9f3a"
             ],
             [
              0.8888888888888888,
              "#fdca26"
             ],
             [
              1,
              "#f0f921"
             ]
            ],
            "type": "histogram2dcontour"
           }
          ],
          "mesh3d": [
           {
            "colorbar": {
             "outlinewidth": 0,
             "ticks": ""
            },
            "type": "mesh3d"
           }
          ],
          "parcoords": [
           {
            "line": {
             "colorbar": {
              "outlinewidth": 0,
              "ticks": ""
             }
            },
            "type": "parcoords"
           }
          ],
          "pie": [
           {
            "automargin": true,
            "type": "pie"
           }
          ],
          "scatter": [
           {
            "fillpattern": {
             "fillmode": "overlay",
             "size": 10,
             "solidity": 0.2
            },
            "type": "scatter"
           }
          ],
          "scatter3d": [
           {
            "line": {
             "colorbar": {
              "outlinewidth": 0,
              "ticks": ""
             }
            },
            "marker": {
             "colorbar": {
              "outlinewidth": 0,
              "ticks": ""
             }
            },
            "type": "scatter3d"
           }
          ],
          "scattercarpet": [
           {
            "marker": {
             "colorbar": {
              "outlinewidth": 0,
              "ticks": ""
             }
            },
            "type": "scattercarpet"
           }
          ],
          "scattergeo": [
           {
            "marker": {
             "colorbar": {
              "outlinewidth": 0,
              "ticks": ""
             }
            },
            "type": "scattergeo"
           }
          ],
          "scattergl": [
           {
            "marker": {
             "colorbar": {
              "outlinewidth": 0,
              "ticks": ""
             }
            },
            "type": "scattergl"
           }
          ],
          "scattermapbox": [
           {
            "marker": {
             "colorbar": {
              "outlinewidth": 0,
              "ticks": ""
             }
            },
            "type": "scattermapbox"
           }
          ],
          "scatterpolar": [
           {
            "marker": {
             "colorbar": {
              "outlinewidth": 0,
              "ticks": ""
             }
            },
            "type": "scatterpolar"
           }
          ],
          "scatterpolargl": [
           {
            "marker": {
             "colorbar": {
              "outlinewidth": 0,
              "ticks": ""
             }
            },
            "type": "scatterpolargl"
           }
          ],
          "scatterternary": [
           {
            "marker": {
             "colorbar": {
              "outlinewidth": 0,
              "ticks": ""
             }
            },
            "type": "scatterternary"
           }
          ],
          "surface": [
           {
            "colorbar": {
             "outlinewidth": 0,
             "ticks": ""
            },
            "colorscale": [
             [
              0,
              "#0d0887"
             ],
             [
              0.1111111111111111,
              "#46039f"
             ],
             [
              0.2222222222222222,
              "#7201a8"
             ],
             [
              0.3333333333333333,
              "#9c179e"
             ],
             [
              0.4444444444444444,
              "#bd3786"
             ],
             [
              0.5555555555555556,
              "#d8576b"
             ],
             [
              0.6666666666666666,
              "#ed7953"
             ],
             [
              0.7777777777777778,
              "#fb9f3a"
             ],
             [
              0.8888888888888888,
              "#fdca26"
             ],
             [
              1,
              "#f0f921"
             ]
            ],
            "type": "surface"
           }
          ],
          "table": [
           {
            "cells": {
             "fill": {
              "color": "#EBF0F8"
             },
             "line": {
              "color": "white"
             }
            },
            "header": {
             "fill": {
              "color": "#C8D4E3"
             },
             "line": {
              "color": "white"
             }
            },
            "type": "table"
           }
          ]
         },
         "layout": {
          "annotationdefaults": {
           "arrowcolor": "#2a3f5f",
           "arrowhead": 0,
           "arrowwidth": 1
          },
          "autotypenumbers": "strict",
          "coloraxis": {
           "colorbar": {
            "outlinewidth": 0,
            "ticks": ""
           }
          },
          "colorscale": {
           "diverging": [
            [
             0,
             "#8e0152"
            ],
            [
             0.1,
             "#c51b7d"
            ],
            [
             0.2,
             "#de77ae"
            ],
            [
             0.3,
             "#f1b6da"
            ],
            [
             0.4,
             "#fde0ef"
            ],
            [
             0.5,
             "#f7f7f7"
            ],
            [
             0.6,
             "#e6f5d0"
            ],
            [
             0.7,
             "#b8e186"
            ],
            [
             0.8,
             "#7fbc41"
            ],
            [
             0.9,
             "#4d9221"
            ],
            [
             1,
             "#276419"
            ]
           ],
           "sequential": [
            [
             0,
             "#0d0887"
            ],
            [
             0.1111111111111111,
             "#46039f"
            ],
            [
             0.2222222222222222,
             "#7201a8"
            ],
            [
             0.3333333333333333,
             "#9c179e"
            ],
            [
             0.4444444444444444,
             "#bd3786"
            ],
            [
             0.5555555555555556,
             "#d8576b"
            ],
            [
             0.6666666666666666,
             "#ed7953"
            ],
            [
             0.7777777777777778,
             "#fb9f3a"
            ],
            [
             0.8888888888888888,
             "#fdca26"
            ],
            [
             1,
             "#f0f921"
            ]
           ],
           "sequentialminus": [
            [
             0,
             "#0d0887"
            ],
            [
             0.1111111111111111,
             "#46039f"
            ],
            [
             0.2222222222222222,
             "#7201a8"
            ],
            [
             0.3333333333333333,
             "#9c179e"
            ],
            [
             0.4444444444444444,
             "#bd3786"
            ],
            [
             0.5555555555555556,
             "#d8576b"
            ],
            [
             0.6666666666666666,
             "#ed7953"
            ],
            [
             0.7777777777777778,
             "#fb9f3a"
            ],
            [
             0.8888888888888888,
             "#fdca26"
            ],
            [
             1,
             "#f0f921"
            ]
           ]
          },
          "colorway": [
           "#636efa",
           "#EF553B",
           "#00cc96",
           "#ab63fa",
           "#FFA15A",
           "#19d3f3",
           "#FF6692",
           "#B6E880",
           "#FF97FF",
           "#FECB52"
          ],
          "font": {
           "color": "#2a3f5f"
          },
          "geo": {
           "bgcolor": "white",
           "lakecolor": "white",
           "landcolor": "#E5ECF6",
           "showlakes": true,
           "showland": true,
           "subunitcolor": "white"
          },
          "hoverlabel": {
           "align": "left"
          },
          "hovermode": "closest",
          "mapbox": {
           "style": "light"
          },
          "paper_bgcolor": "white",
          "plot_bgcolor": "#E5ECF6",
          "polar": {
           "angularaxis": {
            "gridcolor": "white",
            "linecolor": "white",
            "ticks": ""
           },
           "bgcolor": "#E5ECF6",
           "radialaxis": {
            "gridcolor": "white",
            "linecolor": "white",
            "ticks": ""
           }
          },
          "scene": {
           "xaxis": {
            "backgroundcolor": "#E5ECF6",
            "gridcolor": "white",
            "gridwidth": 2,
            "linecolor": "white",
            "showbackground": true,
            "ticks": "",
            "zerolinecolor": "white"
           },
           "yaxis": {
            "backgroundcolor": "#E5ECF6",
            "gridcolor": "white",
            "gridwidth": 2,
            "linecolor": "white",
            "showbackground": true,
            "ticks": "",
            "zerolinecolor": "white"
           },
           "zaxis": {
            "backgroundcolor": "#E5ECF6",
            "gridcolor": "white",
            "gridwidth": 2,
            "linecolor": "white",
            "showbackground": true,
            "ticks": "",
            "zerolinecolor": "white"
           }
          },
          "shapedefaults": {
           "line": {
            "color": "#2a3f5f"
           }
          },
          "ternary": {
           "aaxis": {
            "gridcolor": "white",
            "linecolor": "white",
            "ticks": ""
           },
           "baxis": {
            "gridcolor": "white",
            "linecolor": "white",
            "ticks": ""
           },
           "bgcolor": "#E5ECF6",
           "caxis": {
            "gridcolor": "white",
            "linecolor": "white",
            "ticks": ""
           }
          },
          "title": {
           "x": 0.05
          },
          "xaxis": {
           "automargin": true,
           "gridcolor": "white",
           "linecolor": "white",
           "ticks": "",
           "title": {
            "standoff": 15
           },
           "zerolinecolor": "white",
           "zerolinewidth": 2
          },
          "yaxis": {
           "automargin": true,
           "gridcolor": "white",
           "linecolor": "white",
           "ticks": "",
           "title": {
            "standoff": 15
           },
           "zerolinecolor": "white",
           "zerolinewidth": 2
          }
         }
        },
        "title": {
         "text": "Scatter Plot: OLAPARIB vs Predictions"
        },
        "xaxis": {
         "anchor": "y",
         "domain": [
          0,
          1
         ],
         "title": {
          "text": "OLAPARIB"
         }
        },
        "yaxis": {
         "anchor": "x",
         "domain": [
          0,
          1
         ],
         "title": {
          "text": "Predictions"
         }
        }
       }
      }
     },
     "metadata": {},
     "output_type": "display_data"
    },
    {
     "data": {
      "application/vnd.plotly.v1+json": {
       "config": {
        "plotlyServerURL": "https://plot.ly"
       },
       "data": [
        {
         "hovertemplate": "TALAZOPARIB=%{x}<br>Predictions=%{y}<extra></extra>",
         "legendgroup": "",
         "marker": {
          "color": "#636efa",
          "symbol": "circle"
         },
         "mode": "markers",
         "name": "",
         "orientation": "v",
         "showlegend": false,
         "type": "scatter",
         "x": [
          -0.0235784499507,
          -0.887602018076,
          0.511160019576,
          -1.3196136835,
          0.568778353611,
          0.806382307723,
          0.305948904673,
          -2.08153415975,
          -1.94078373304,
          -0.568229674941,
          -1.12282985223,
          -1.74145981001,
          -1.04938349659,
          -0.0858803922266,
          -1.59402780794,
          -1.79108807131,
          -1.38594928761,
          0.415446724401,
          0.165591337738,
          -1.31609189206,
          -0.697134503267,
          -1.15276199675,
          -0.404976961703,
          0.322178422931,
          -0.922902146757
         ],
         "xaxis": "x",
         "y": [
          0.4571450642232894,
          0.21375282611733026,
          0.42625474757388093,
          0.3696931360853799,
          0.41767481644059196,
          0.6082606400561619,
          0.49861229394498063,
          0.6216152989874864,
          0.3390097358497324,
          0.7789995364967164,
          0.6366122801465394,
          0.44994002810288836,
          0.37266487509884877,
          0.2552465233600348,
          0.602180309909687,
          0.7063610439135064,
          0.5728030108523237,
          0.22230026766744837,
          0.48728659496938276,
          0.4374639956663371,
          0.437082246753258,
          0.2502096162008307,
          0.5539537771033445,
          0.47872958973001356,
          0.28779431325832294
         ],
         "yaxis": "y"
        },
        {
         "hovertemplate": "<b>OLS trendline</b><br>Predictions = -0.023731 * TALAZOPARIB + 0.443138<br>R<sup>2</sup>=0.019005<br><br>TALAZOPARIB=%{x}<br>Predictions=%{y} <b>(trend)</b><extra></extra>",
         "legendgroup": "",
         "marker": {
          "color": "#636efa",
          "symbol": "circle"
         },
         "mode": "lines",
         "name": "",
         "showlegend": false,
         "type": "scatter",
         "x": [
          -2.08153415975,
          -1.94078373304,
          -1.79108807131,
          -1.74145981001,
          -1.59402780794,
          -1.38594928761,
          -1.3196136835,
          -1.31609189206,
          -1.15276199675,
          -1.12282985223,
          -1.04938349659,
          -0.922902146757,
          -0.887602018076,
          -0.697134503267,
          -0.568229674941,
          -0.404976961703,
          -0.0858803922266,
          -0.0235784499507,
          0.165591337738,
          0.305948904673,
          0.322178422931,
          0.415446724401,
          0.511160019576,
          0.568778353611,
          0.806382307723
         ],
         "xaxis": "x",
         "y": [
          0.49253482882439237,
          0.48919468134640903,
          0.48564225455325477,
          0.4844645266010729,
          0.48096581870086336,
          0.4760279086628729,
          0.4744536988650935,
          0.47437012325490696,
          0.47049414255167965,
          0.469783823021103,
          0.4680408680241461,
          0.46503933991846536,
          0.4642016327900226,
          0.45968164941165723,
          0.4566226097533258,
          0.4527484606573565,
          0.44517598200359204,
          0.4436974950090547,
          0.4392083079846991,
          0.4358774834595291,
          0.43549234086532557,
          0.43327899139838094,
          0.43100761980142693,
          0.42964027948416356,
          0.4240017015655243
         ],
         "yaxis": "y"
        }
       ],
       "layout": {
        "annotations": [
         {
          "align": "center",
          "bgcolor": "white",
          "bordercolor": "black",
          "borderpad": 4,
          "borderwidth": 1,
          "font": {
           "color": "black",
           "size": 14
          },
          "opacity": 1,
          "showarrow": false,
          "text": "Pearson R: -0.14<br>p-value: 5.11e-01",
          "x": -0.679613674682332,
          "y": 0.7789995364967164
         }
        ],
        "legend": {
         "tracegroupgap": 0
        },
        "template": {
         "data": {
          "bar": [
           {
            "error_x": {
             "color": "#2a3f5f"
            },
            "error_y": {
             "color": "#2a3f5f"
            },
            "marker": {
             "line": {
              "color": "#E5ECF6",
              "width": 0.5
             },
             "pattern": {
              "fillmode": "overlay",
              "size": 10,
              "solidity": 0.2
             }
            },
            "type": "bar"
           }
          ],
          "barpolar": [
           {
            "marker": {
             "line": {
              "color": "#E5ECF6",
              "width": 0.5
             },
             "pattern": {
              "fillmode": "overlay",
              "size": 10,
              "solidity": 0.2
             }
            },
            "type": "barpolar"
           }
          ],
          "carpet": [
           {
            "aaxis": {
             "endlinecolor": "#2a3f5f",
             "gridcolor": "white",
             "linecolor": "white",
             "minorgridcolor": "white",
             "startlinecolor": "#2a3f5f"
            },
            "baxis": {
             "endlinecolor": "#2a3f5f",
             "gridcolor": "white",
             "linecolor": "white",
             "minorgridcolor": "white",
             "startlinecolor": "#2a3f5f"
            },
            "type": "carpet"
           }
          ],
          "choropleth": [
           {
            "colorbar": {
             "outlinewidth": 0,
             "ticks": ""
            },
            "type": "choropleth"
           }
          ],
          "contour": [
           {
            "colorbar": {
             "outlinewidth": 0,
             "ticks": ""
            },
            "colorscale": [
             [
              0,
              "#0d0887"
             ],
             [
              0.1111111111111111,
              "#46039f"
             ],
             [
              0.2222222222222222,
              "#7201a8"
             ],
             [
              0.3333333333333333,
              "#9c179e"
             ],
             [
              0.4444444444444444,
              "#bd3786"
             ],
             [
              0.5555555555555556,
              "#d8576b"
             ],
             [
              0.6666666666666666,
              "#ed7953"
             ],
             [
              0.7777777777777778,
              "#fb9f3a"
             ],
             [
              0.8888888888888888,
              "#fdca26"
             ],
             [
              1,
              "#f0f921"
             ]
            ],
            "type": "contour"
           }
          ],
          "contourcarpet": [
           {
            "colorbar": {
             "outlinewidth": 0,
             "ticks": ""
            },
            "type": "contourcarpet"
           }
          ],
          "heatmap": [
           {
            "colorbar": {
             "outlinewidth": 0,
             "ticks": ""
            },
            "colorscale": [
             [
              0,
              "#0d0887"
             ],
             [
              0.1111111111111111,
              "#46039f"
             ],
             [
              0.2222222222222222,
              "#7201a8"
             ],
             [
              0.3333333333333333,
              "#9c179e"
             ],
             [
              0.4444444444444444,
              "#bd3786"
             ],
             [
              0.5555555555555556,
              "#d8576b"
             ],
             [
              0.6666666666666666,
              "#ed7953"
             ],
             [
              0.7777777777777778,
              "#fb9f3a"
             ],
             [
              0.8888888888888888,
              "#fdca26"
             ],
             [
              1,
              "#f0f921"
             ]
            ],
            "type": "heatmap"
           }
          ],
          "heatmapgl": [
           {
            "colorbar": {
             "outlinewidth": 0,
             "ticks": ""
            },
            "colorscale": [
             [
              0,
              "#0d0887"
             ],
             [
              0.1111111111111111,
              "#46039f"
             ],
             [
              0.2222222222222222,
              "#7201a8"
             ],
             [
              0.3333333333333333,
              "#9c179e"
             ],
             [
              0.4444444444444444,
              "#bd3786"
             ],
             [
              0.5555555555555556,
              "#d8576b"
             ],
             [
              0.6666666666666666,
              "#ed7953"
             ],
             [
              0.7777777777777778,
              "#fb9f3a"
             ],
             [
              0.8888888888888888,
              "#fdca26"
             ],
             [
              1,
              "#f0f921"
             ]
            ],
            "type": "heatmapgl"
           }
          ],
          "histogram": [
           {
            "marker": {
             "pattern": {
              "fillmode": "overlay",
              "size": 10,
              "solidity": 0.2
             }
            },
            "type": "histogram"
           }
          ],
          "histogram2d": [
           {
            "colorbar": {
             "outlinewidth": 0,
             "ticks": ""
            },
            "colorscale": [
             [
              0,
              "#0d0887"
             ],
             [
              0.1111111111111111,
              "#46039f"
             ],
             [
              0.2222222222222222,
              "#7201a8"
             ],
             [
              0.3333333333333333,
              "#9c179e"
             ],
             [
              0.4444444444444444,
              "#bd3786"
             ],
             [
              0.5555555555555556,
              "#d8576b"
             ],
             [
              0.6666666666666666,
              "#ed7953"
             ],
             [
              0.7777777777777778,
              "#fb9f3a"
             ],
             [
              0.8888888888888888,
              "#fdca26"
             ],
             [
              1,
              "#f0f921"
             ]
            ],
            "type": "histogram2d"
           }
          ],
          "histogram2dcontour": [
           {
            "colorbar": {
             "outlinewidth": 0,
             "ticks": ""
            },
            "colorscale": [
             [
              0,
              "#0d0887"
             ],
             [
              0.1111111111111111,
              "#46039f"
             ],
             [
              0.2222222222222222,
              "#7201a8"
             ],
             [
              0.3333333333333333,
              "#9c179e"
             ],
             [
              0.4444444444444444,
              "#bd3786"
             ],
             [
              0.5555555555555556,
              "#d8576b"
             ],
             [
              0.6666666666666666,
              "#ed7953"
             ],
             [
              0.7777777777777778,
              "#fb9f3a"
             ],
             [
              0.8888888888888888,
              "#fdca26"
             ],
             [
              1,
              "#f0f921"
             ]
            ],
            "type": "histogram2dcontour"
           }
          ],
          "mesh3d": [
           {
            "colorbar": {
             "outlinewidth": 0,
             "ticks": ""
            },
            "type": "mesh3d"
           }
          ],
          "parcoords": [
           {
            "line": {
             "colorbar": {
              "outlinewidth": 0,
              "ticks": ""
             }
            },
            "type": "parcoords"
           }
          ],
          "pie": [
           {
            "automargin": true,
            "type": "pie"
           }
          ],
          "scatter": [
           {
            "fillpattern": {
             "fillmode": "overlay",
             "size": 10,
             "solidity": 0.2
            },
            "type": "scatter"
           }
          ],
          "scatter3d": [
           {
            "line": {
             "colorbar": {
              "outlinewidth": 0,
              "ticks": ""
             }
            },
            "marker": {
             "colorbar": {
              "outlinewidth": 0,
              "ticks": ""
             }
            },
            "type": "scatter3d"
           }
          ],
          "scattercarpet": [
           {
            "marker": {
             "colorbar": {
              "outlinewidth": 0,
              "ticks": ""
             }
            },
            "type": "scattercarpet"
           }
          ],
          "scattergeo": [
           {
            "marker": {
             "colorbar": {
              "outlinewidth": 0,
              "ticks": ""
             }
            },
            "type": "scattergeo"
           }
          ],
          "scattergl": [
           {
            "marker": {
             "colorbar": {
              "outlinewidth": 0,
              "ticks": ""
             }
            },
            "type": "scattergl"
           }
          ],
          "scattermapbox": [
           {
            "marker": {
             "colorbar": {
              "outlinewidth": 0,
              "ticks": ""
             }
            },
            "type": "scattermapbox"
           }
          ],
          "scatterpolar": [
           {
            "marker": {
             "colorbar": {
              "outlinewidth": 0,
              "ticks": ""
             }
            },
            "type": "scatterpolar"
           }
          ],
          "scatterpolargl": [
           {
            "marker": {
             "colorbar": {
              "outlinewidth": 0,
              "ticks": ""
             }
            },
            "type": "scatterpolargl"
           }
          ],
          "scatterternary": [
           {
            "marker": {
             "colorbar": {
              "outlinewidth": 0,
              "ticks": ""
             }
            },
            "type": "scatterternary"
           }
          ],
          "surface": [
           {
            "colorbar": {
             "outlinewidth": 0,
             "ticks": ""
            },
            "colorscale": [
             [
              0,
              "#0d0887"
             ],
             [
              0.1111111111111111,
              "#46039f"
             ],
             [
              0.2222222222222222,
              "#7201a8"
             ],
             [
              0.3333333333333333,
              "#9c179e"
             ],
             [
              0.4444444444444444,
              "#bd3786"
             ],
             [
              0.5555555555555556,
              "#d8576b"
             ],
             [
              0.6666666666666666,
              "#ed7953"
             ],
             [
              0.7777777777777778,
              "#fb9f3a"
             ],
             [
              0.8888888888888888,
              "#fdca26"
             ],
             [
              1,
              "#f0f921"
             ]
            ],
            "type": "surface"
           }
          ],
          "table": [
           {
            "cells": {
             "fill": {
              "color": "#EBF0F8"
             },
             "line": {
              "color": "white"
             }
            },
            "header": {
             "fill": {
              "color": "#C8D4E3"
             },
             "line": {
              "color": "white"
             }
            },
            "type": "table"
           }
          ]
         },
         "layout": {
          "annotationdefaults": {
           "arrowcolor": "#2a3f5f",
           "arrowhead": 0,
           "arrowwidth": 1
          },
          "autotypenumbers": "strict",
          "coloraxis": {
           "colorbar": {
            "outlinewidth": 0,
            "ticks": ""
           }
          },
          "colorscale": {
           "diverging": [
            [
             0,
             "#8e0152"
            ],
            [
             0.1,
             "#c51b7d"
            ],
            [
             0.2,
             "#de77ae"
            ],
            [
             0.3,
             "#f1b6da"
            ],
            [
             0.4,
             "#fde0ef"
            ],
            [
             0.5,
             "#f7f7f7"
            ],
            [
             0.6,
             "#e6f5d0"
            ],
            [
             0.7,
             "#b8e186"
            ],
            [
             0.8,
             "#7fbc41"
            ],
            [
             0.9,
             "#4d9221"
            ],
            [
             1,
             "#276419"
            ]
           ],
           "sequential": [
            [
             0,
             "#0d0887"
            ],
            [
             0.1111111111111111,
             "#46039f"
            ],
            [
             0.2222222222222222,
             "#7201a8"
            ],
            [
             0.3333333333333333,
             "#9c179e"
            ],
            [
             0.4444444444444444,
             "#bd3786"
            ],
            [
             0.5555555555555556,
             "#d8576b"
            ],
            [
             0.6666666666666666,
             "#ed7953"
            ],
            [
             0.7777777777777778,
             "#fb9f3a"
            ],
            [
             0.8888888888888888,
             "#fdca26"
            ],
            [
             1,
             "#f0f921"
            ]
           ],
           "sequentialminus": [
            [
             0,
             "#0d0887"
            ],
            [
             0.1111111111111111,
             "#46039f"
            ],
            [
             0.2222222222222222,
             "#7201a8"
            ],
            [
             0.3333333333333333,
             "#9c179e"
            ],
            [
             0.4444444444444444,
             "#bd3786"
            ],
            [
             0.5555555555555556,
             "#d8576b"
            ],
            [
             0.6666666666666666,
             "#ed7953"
            ],
            [
             0.7777777777777778,
             "#fb9f3a"
            ],
            [
             0.8888888888888888,
             "#fdca26"
            ],
            [
             1,
             "#f0f921"
            ]
           ]
          },
          "colorway": [
           "#636efa",
           "#EF553B",
           "#00cc96",
           "#ab63fa",
           "#FFA15A",
           "#19d3f3",
           "#FF6692",
           "#B6E880",
           "#FF97FF",
           "#FECB52"
          ],
          "font": {
           "color": "#2a3f5f"
          },
          "geo": {
           "bgcolor": "white",
           "lakecolor": "white",
           "landcolor": "#E5ECF6",
           "showlakes": true,
           "showland": true,
           "subunitcolor": "white"
          },
          "hoverlabel": {
           "align": "left"
          },
          "hovermode": "closest",
          "mapbox": {
           "style": "light"
          },
          "paper_bgcolor": "white",
          "plot_bgcolor": "#E5ECF6",
          "polar": {
           "angularaxis": {
            "gridcolor": "white",
            "linecolor": "white",
            "ticks": ""
           },
           "bgcolor": "#E5ECF6",
           "radialaxis": {
            "gridcolor": "white",
            "linecolor": "white",
            "ticks": ""
           }
          },
          "scene": {
           "xaxis": {
            "backgroundcolor": "#E5ECF6",
            "gridcolor": "white",
            "gridwidth": 2,
            "linecolor": "white",
            "showbackground": true,
            "ticks": "",
            "zerolinecolor": "white"
           },
           "yaxis": {
            "backgroundcolor": "#E5ECF6",
            "gridcolor": "white",
            "gridwidth": 2,
            "linecolor": "white",
            "showbackground": true,
            "ticks": "",
            "zerolinecolor": "white"
           },
           "zaxis": {
            "backgroundcolor": "#E5ECF6",
            "gridcolor": "white",
            "gridwidth": 2,
            "linecolor": "white",
            "showbackground": true,
            "ticks": "",
            "zerolinecolor": "white"
           }
          },
          "shapedefaults": {
           "line": {
            "color": "#2a3f5f"
           }
          },
          "ternary": {
           "aaxis": {
            "gridcolor": "white",
            "linecolor": "white",
            "ticks": ""
           },
           "baxis": {
            "gridcolor": "white",
            "linecolor": "white",
            "ticks": ""
           },
           "bgcolor": "#E5ECF6",
           "caxis": {
            "gridcolor": "white",
            "linecolor": "white",
            "ticks": ""
           }
          },
          "title": {
           "x": 0.05
          },
          "xaxis": {
           "automargin": true,
           "gridcolor": "white",
           "linecolor": "white",
           "ticks": "",
           "title": {
            "standoff": 15
           },
           "zerolinecolor": "white",
           "zerolinewidth": 2
          },
          "yaxis": {
           "automargin": true,
           "gridcolor": "white",
           "linecolor": "white",
           "ticks": "",
           "title": {
            "standoff": 15
           },
           "zerolinecolor": "white",
           "zerolinewidth": 2
          }
         }
        },
        "title": {
         "text": "Scatter Plot: TALAZOPARIB vs Predictions"
        },
        "xaxis": {
         "anchor": "y",
         "domain": [
          0,
          1
         ],
         "title": {
          "text": "TALAZOPARIB"
         }
        },
        "yaxis": {
         "anchor": "x",
         "domain": [
          0,
          1
         ],
         "title": {
          "text": "Predictions"
         }
        }
       }
      }
     },
     "metadata": {},
     "output_type": "display_data"
    },
    {
     "data": {
      "application/vnd.plotly.v1+json": {
       "config": {
        "plotlyServerURL": "https://plot.ly"
       },
       "data": [
        {
         "hovertemplate": "NIRAPARIB=%{x}<br>Predictions=%{y}<extra></extra>",
         "legendgroup": "",
         "marker": {
          "color": "#636efa",
          "symbol": "circle"
         },
         "mode": "markers",
         "name": "",
         "orientation": "v",
         "showlegend": false,
         "type": "scatter",
         "x": [
          0.148739241568,
          -0.294293756465,
          0.407931401494,
          -0.0847903586365,
          0.0766303967597,
          0.688014106612,
          0.656046946795,
          -0.0540216098473,
          -0.498919120561,
          -0.178630956348,
          -0.463953902426,
          -0.53531909409,
          -0.399757050929,
          0.602260150212,
          0.0327451268333,
          -0.135485237168,
          -0.209912068034,
          0.738991062174,
          -0.0538596896552,
          0.0792633267096,
          -1.11624693729,
          -1.20769316565,
          0.42291227312,
          0.503590102004,
          -1.51643314599
         ],
         "xaxis": "x",
         "y": [
          0.4571450642232894,
          0.21375282611733026,
          0.42625474757388093,
          0.3696931360853799,
          0.41767481644059196,
          0.6082606400561619,
          0.49861229394498063,
          0.6216152989874864,
          0.3390097358497324,
          0.7789995364967164,
          0.6366122801465394,
          0.44994002810288836,
          0.37266487509884877,
          0.2552465233600348,
          0.602180309909687,
          0.7063610439135064,
          0.5728030108523237,
          0.22230026766744837,
          0.48728659496938276,
          0.4374639956663371,
          0.437082246753258,
          0.2502096162008307,
          0.5539537771033445,
          0.47872958973001356,
          0.28779431325832294
         ],
         "yaxis": "y"
        },
        {
         "hovertemplate": "<b>OLS trendline</b><br>Predictions = 0.0451451 * NIRAPARIB + 0.463586<br>R<sup>2</sup>=0.030670<br><br>NIRAPARIB=%{x}<br>Predictions=%{y} <b>(trend)</b><extra></extra>",
         "legendgroup": "",
         "marker": {
          "color": "#636efa",
          "symbol": "circle"
         },
         "mode": "lines",
         "name": "",
         "showlegend": false,
         "type": "scatter",
         "x": [
          -1.51643314599,
          -1.20769316565,
          -1.11624693729,
          -0.53531909409,
          -0.498919120561,
          -0.463953902426,
          -0.399757050929,
          -0.294293756465,
          -0.209912068034,
          -0.178630956348,
          -0.135485237168,
          -0.0847903586365,
          -0.0540216098473,
          -0.0538596896552,
          0.0327451268333,
          0.0766303967597,
          0.0792633267096,
          0.148739241568,
          0.407931401494,
          0.42291227312,
          0.503590102004,
          0.602260150212,
          0.656046946795,
          0.688014106612,
          0.738991062174
         ],
         "xaxis": "x",
         "y": [
          0.3951261084469724,
          0.40906421835519613,
          0.41319257121759695,
          0.43941864054088997,
          0.44106192247394227,
          0.44264043217260185,
          0.4455386080775874,
          0.45029976336399963,
          0.4541091865760422,
          0.45552137677003895,
          0.45746919634085687,
          0.4597578237741357,
          0.46114688327297393,
          0.46115419318285783,
          0.46506397982425407,
          0.4670451865177073,
          0.46716405051122684,
          0.47030055047538555,
          0.4820018170506444,
          0.4826781306107289,
          0.48632034256171663,
          0.4907748157888585,
          0.4932030282981666,
          0.4946461902316889,
          0.4969475520722491
         ],
         "yaxis": "y"
        }
       ],
       "layout": {
        "annotations": [
         {
          "align": "center",
          "bgcolor": "white",
          "bordercolor": "black",
          "borderpad": 4,
          "borderwidth": 1,
          "font": {
           "color": "black",
           "size": 14
          },
          "opacity": 1,
          "showarrow": false,
          "text": "Pearson R: 0.18<br>p-value: 4.02e-01",
          "x": -0.095687678352336,
          "y": 0.7789995364967164
         }
        ],
        "legend": {
         "tracegroupgap": 0
        },
        "template": {
         "data": {
          "bar": [
           {
            "error_x": {
             "color": "#2a3f5f"
            },
            "error_y": {
             "color": "#2a3f5f"
            },
            "marker": {
             "line": {
              "color": "#E5ECF6",
              "width": 0.5
             },
             "pattern": {
              "fillmode": "overlay",
              "size": 10,
              "solidity": 0.2
             }
            },
            "type": "bar"
           }
          ],
          "barpolar": [
           {
            "marker": {
             "line": {
              "color": "#E5ECF6",
              "width": 0.5
             },
             "pattern": {
              "fillmode": "overlay",
              "size": 10,
              "solidity": 0.2
             }
            },
            "type": "barpolar"
           }
          ],
          "carpet": [
           {
            "aaxis": {
             "endlinecolor": "#2a3f5f",
             "gridcolor": "white",
             "linecolor": "white",
             "minorgridcolor": "white",
             "startlinecolor": "#2a3f5f"
            },
            "baxis": {
             "endlinecolor": "#2a3f5f",
             "gridcolor": "white",
             "linecolor": "white",
             "minorgridcolor": "white",
             "startlinecolor": "#2a3f5f"
            },
            "type": "carpet"
           }
          ],
          "choropleth": [
           {
            "colorbar": {
             "outlinewidth": 0,
             "ticks": ""
            },
            "type": "choropleth"
           }
          ],
          "contour": [
           {
            "colorbar": {
             "outlinewidth": 0,
             "ticks": ""
            },
            "colorscale": [
             [
              0,
              "#0d0887"
             ],
             [
              0.1111111111111111,
              "#46039f"
             ],
             [
              0.2222222222222222,
              "#7201a8"
             ],
             [
              0.3333333333333333,
              "#9c179e"
             ],
             [
              0.4444444444444444,
              "#bd3786"
             ],
             [
              0.5555555555555556,
              "#d8576b"
             ],
             [
              0.6666666666666666,
              "#ed7953"
             ],
             [
              0.7777777777777778,
              "#fb9f3a"
             ],
             [
              0.8888888888888888,
              "#fdca26"
             ],
             [
              1,
              "#f0f921"
             ]
            ],
            "type": "contour"
           }
          ],
          "contourcarpet": [
           {
            "colorbar": {
             "outlinewidth": 0,
             "ticks": ""
            },
            "type": "contourcarpet"
           }
          ],
          "heatmap": [
           {
            "colorbar": {
             "outlinewidth": 0,
             "ticks": ""
            },
            "colorscale": [
             [
              0,
              "#0d0887"
             ],
             [
              0.1111111111111111,
              "#46039f"
             ],
             [
              0.2222222222222222,
              "#7201a8"
             ],
             [
              0.3333333333333333,
              "#9c179e"
             ],
             [
              0.4444444444444444,
              "#bd3786"
             ],
             [
              0.5555555555555556,
              "#d8576b"
             ],
             [
              0.6666666666666666,
              "#ed7953"
             ],
             [
              0.7777777777777778,
              "#fb9f3a"
             ],
             [
              0.8888888888888888,
              "#fdca26"
             ],
             [
              1,
              "#f0f921"
             ]
            ],
            "type": "heatmap"
           }
          ],
          "heatmapgl": [
           {
            "colorbar": {
             "outlinewidth": 0,
             "ticks": ""
            },
            "colorscale": [
             [
              0,
              "#0d0887"
             ],
             [
              0.1111111111111111,
              "#46039f"
             ],
             [
              0.2222222222222222,
              "#7201a8"
             ],
             [
              0.3333333333333333,
              "#9c179e"
             ],
             [
              0.4444444444444444,
              "#bd3786"
             ],
             [
              0.5555555555555556,
              "#d8576b"
             ],
             [
              0.6666666666666666,
              "#ed7953"
             ],
             [
              0.7777777777777778,
              "#fb9f3a"
             ],
             [
              0.8888888888888888,
              "#fdca26"
             ],
             [
              1,
              "#f0f921"
             ]
            ],
            "type": "heatmapgl"
           }
          ],
          "histogram": [
           {
            "marker": {
             "pattern": {
              "fillmode": "overlay",
              "size": 10,
              "solidity": 0.2
             }
            },
            "type": "histogram"
           }
          ],
          "histogram2d": [
           {
            "colorbar": {
             "outlinewidth": 0,
             "ticks": ""
            },
            "colorscale": [
             [
              0,
              "#0d0887"
             ],
             [
              0.1111111111111111,
              "#46039f"
             ],
             [
              0.2222222222222222,
              "#7201a8"
             ],
             [
              0.3333333333333333,
              "#9c179e"
             ],
             [
              0.4444444444444444,
              "#bd3786"
             ],
             [
              0.5555555555555556,
              "#d8576b"
             ],
             [
              0.6666666666666666,
              "#ed7953"
             ],
             [
              0.7777777777777778,
              "#fb9f3a"
             ],
             [
              0.8888888888888888,
              "#fdca26"
             ],
             [
              1,
              "#f0f921"
             ]
            ],
            "type": "histogram2d"
           }
          ],
          "histogram2dcontour": [
           {
            "colorbar": {
             "outlinewidth": 0,
             "ticks": ""
            },
            "colorscale": [
             [
              0,
              "#0d0887"
             ],
             [
              0.1111111111111111,
              "#46039f"
             ],
             [
              0.2222222222222222,
              "#7201a8"
             ],
             [
              0.3333333333333333,
              "#9c179e"
             ],
             [
              0.4444444444444444,
              "#bd3786"
             ],
             [
              0.5555555555555556,
              "#d8576b"
             ],
             [
              0.6666666666666666,
              "#ed7953"
             ],
             [
              0.7777777777777778,
              "#fb9f3a"
             ],
             [
              0.8888888888888888,
              "#fdca26"
             ],
             [
              1,
              "#f0f921"
             ]
            ],
            "type": "histogram2dcontour"
           }
          ],
          "mesh3d": [
           {
            "colorbar": {
             "outlinewidth": 0,
             "ticks": ""
            },
            "type": "mesh3d"
           }
          ],
          "parcoords": [
           {
            "line": {
             "colorbar": {
              "outlinewidth": 0,
              "ticks": ""
             }
            },
            "type": "parcoords"
           }
          ],
          "pie": [
           {
            "automargin": true,
            "type": "pie"
           }
          ],
          "scatter": [
           {
            "fillpattern": {
             "fillmode": "overlay",
             "size": 10,
             "solidity": 0.2
            },
            "type": "scatter"
           }
          ],
          "scatter3d": [
           {
            "line": {
             "colorbar": {
              "outlinewidth": 0,
              "ticks": ""
             }
            },
            "marker": {
             "colorbar": {
              "outlinewidth": 0,
              "ticks": ""
             }
            },
            "type": "scatter3d"
           }
          ],
          "scattercarpet": [
           {
            "marker": {
             "colorbar": {
              "outlinewidth": 0,
              "ticks": ""
             }
            },
            "type": "scattercarpet"
           }
          ],
          "scattergeo": [
           {
            "marker": {
             "colorbar": {
              "outlinewidth": 0,
              "ticks": ""
             }
            },
            "type": "scattergeo"
           }
          ],
          "scattergl": [
           {
            "marker": {
             "colorbar": {
              "outlinewidth": 0,
              "ticks": ""
             }
            },
            "type": "scattergl"
           }
          ],
          "scattermapbox": [
           {
            "marker": {
             "colorbar": {
              "outlinewidth": 0,
              "ticks": ""
             }
            },
            "type": "scattermapbox"
           }
          ],
          "scatterpolar": [
           {
            "marker": {
             "colorbar": {
              "outlinewidth": 0,
              "ticks": ""
             }
            },
            "type": "scatterpolar"
           }
          ],
          "scatterpolargl": [
           {
            "marker": {
             "colorbar": {
              "outlinewidth": 0,
              "ticks": ""
             }
            },
            "type": "scatterpolargl"
           }
          ],
          "scatterternary": [
           {
            "marker": {
             "colorbar": {
              "outlinewidth": 0,
              "ticks": ""
             }
            },
            "type": "scatterternary"
           }
          ],
          "surface": [
           {
            "colorbar": {
             "outlinewidth": 0,
             "ticks": ""
            },
            "colorscale": [
             [
              0,
              "#0d0887"
             ],
             [
              0.1111111111111111,
              "#46039f"
             ],
             [
              0.2222222222222222,
              "#7201a8"
             ],
             [
              0.3333333333333333,
              "#9c179e"
             ],
             [
              0.4444444444444444,
              "#bd3786"
             ],
             [
              0.5555555555555556,
              "#d8576b"
             ],
             [
              0.6666666666666666,
              "#ed7953"
             ],
             [
              0.7777777777777778,
              "#fb9f3a"
             ],
             [
              0.8888888888888888,
              "#fdca26"
             ],
             [
              1,
              "#f0f921"
             ]
            ],
            "type": "surface"
           }
          ],
          "table": [
           {
            "cells": {
             "fill": {
              "color": "#EBF0F8"
             },
             "line": {
              "color": "white"
             }
            },
            "header": {
             "fill": {
              "color": "#C8D4E3"
             },
             "line": {
              "color": "white"
             }
            },
            "type": "table"
           }
          ]
         },
         "layout": {
          "annotationdefaults": {
           "arrowcolor": "#2a3f5f",
           "arrowhead": 0,
           "arrowwidth": 1
          },
          "autotypenumbers": "strict",
          "coloraxis": {
           "colorbar": {
            "outlinewidth": 0,
            "ticks": ""
           }
          },
          "colorscale": {
           "diverging": [
            [
             0,
             "#8e0152"
            ],
            [
             0.1,
             "#c51b7d"
            ],
            [
             0.2,
             "#de77ae"
            ],
            [
             0.3,
             "#f1b6da"
            ],
            [
             0.4,
             "#fde0ef"
            ],
            [
             0.5,
             "#f7f7f7"
            ],
            [
             0.6,
             "#e6f5d0"
            ],
            [
             0.7,
             "#b8e186"
            ],
            [
             0.8,
             "#7fbc41"
            ],
            [
             0.9,
             "#4d9221"
            ],
            [
             1,
             "#276419"
            ]
           ],
           "sequential": [
            [
             0,
             "#0d0887"
            ],
            [
             0.1111111111111111,
             "#46039f"
            ],
            [
             0.2222222222222222,
             "#7201a8"
            ],
            [
             0.3333333333333333,
             "#9c179e"
            ],
            [
             0.4444444444444444,
             "#bd3786"
            ],
            [
             0.5555555555555556,
             "#d8576b"
            ],
            [
             0.6666666666666666,
             "#ed7953"
            ],
            [
             0.7777777777777778,
             "#fb9f3a"
            ],
            [
             0.8888888888888888,
             "#fdca26"
            ],
            [
             1,
             "#f0f921"
            ]
           ],
           "sequentialminus": [
            [
             0,
             "#0d0887"
            ],
            [
             0.1111111111111111,
             "#46039f"
            ],
            [
             0.2222222222222222,
             "#7201a8"
            ],
            [
             0.3333333333333333,
             "#9c179e"
            ],
            [
             0.4444444444444444,
             "#bd3786"
            ],
            [
             0.5555555555555556,
             "#d8576b"
            ],
            [
             0.6666666666666666,
             "#ed7953"
            ],
            [
             0.7777777777777778,
             "#fb9f3a"
            ],
            [
             0.8888888888888888,
             "#fdca26"
            ],
            [
             1,
             "#f0f921"
            ]
           ]
          },
          "colorway": [
           "#636efa",
           "#EF553B",
           "#00cc96",
           "#ab63fa",
           "#FFA15A",
           "#19d3f3",
           "#FF6692",
           "#B6E880",
           "#FF97FF",
           "#FECB52"
          ],
          "font": {
           "color": "#2a3f5f"
          },
          "geo": {
           "bgcolor": "white",
           "lakecolor": "white",
           "landcolor": "#E5ECF6",
           "showlakes": true,
           "showland": true,
           "subunitcolor": "white"
          },
          "hoverlabel": {
           "align": "left"
          },
          "hovermode": "closest",
          "mapbox": {
           "style": "light"
          },
          "paper_bgcolor": "white",
          "plot_bgcolor": "#E5ECF6",
          "polar": {
           "angularaxis": {
            "gridcolor": "white",
            "linecolor": "white",
            "ticks": ""
           },
           "bgcolor": "#E5ECF6",
           "radialaxis": {
            "gridcolor": "white",
            "linecolor": "white",
            "ticks": ""
           }
          },
          "scene": {
           "xaxis": {
            "backgroundcolor": "#E5ECF6",
            "gridcolor": "white",
            "gridwidth": 2,
            "linecolor": "white",
            "showbackground": true,
            "ticks": "",
            "zerolinecolor": "white"
           },
           "yaxis": {
            "backgroundcolor": "#E5ECF6",
            "gridcolor": "white",
            "gridwidth": 2,
            "linecolor": "white",
            "showbackground": true,
            "ticks": "",
            "zerolinecolor": "white"
           },
           "zaxis": {
            "backgroundcolor": "#E5ECF6",
            "gridcolor": "white",
            "gridwidth": 2,
            "linecolor": "white",
            "showbackground": true,
            "ticks": "",
            "zerolinecolor": "white"
           }
          },
          "shapedefaults": {
           "line": {
            "color": "#2a3f5f"
           }
          },
          "ternary": {
           "aaxis": {
            "gridcolor": "white",
            "linecolor": "white",
            "ticks": ""
           },
           "baxis": {
            "gridcolor": "white",
            "linecolor": "white",
            "ticks": ""
           },
           "bgcolor": "#E5ECF6",
           "caxis": {
            "gridcolor": "white",
            "linecolor": "white",
            "ticks": ""
           }
          },
          "title": {
           "x": 0.05
          },
          "xaxis": {
           "automargin": true,
           "gridcolor": "white",
           "linecolor": "white",
           "ticks": "",
           "title": {
            "standoff": 15
           },
           "zerolinecolor": "white",
           "zerolinewidth": 2
          },
          "yaxis": {
           "automargin": true,
           "gridcolor": "white",
           "linecolor": "white",
           "ticks": "",
           "title": {
            "standoff": 15
           },
           "zerolinecolor": "white",
           "zerolinewidth": 2
          }
         }
        },
        "title": {
         "text": "Scatter Plot: NIRAPARIB vs Predictions"
        },
        "xaxis": {
         "anchor": "y",
         "domain": [
          0,
          1
         ],
         "title": {
          "text": "NIRAPARIB"
         }
        },
        "yaxis": {
         "anchor": "x",
         "domain": [
          0,
          1
         ],
         "title": {
          "text": "Predictions"
         }
        }
       }
      }
     },
     "metadata": {},
     "output_type": "display_data"
    },
    {
     "data": {
      "application/vnd.plotly.v1+json": {
       "config": {
        "plotlyServerURL": "https://plot.ly"
       },
       "data": [
        {
         "hovertemplate": "RUCAPARIB=%{x}<br>Predictions=%{y}<extra></extra>",
         "legendgroup": "",
         "marker": {
          "color": "#636efa",
          "symbol": "circle"
         },
         "mode": "markers",
         "name": "",
         "orientation": "v",
         "showlegend": false,
         "type": "scatter",
         "x": [
          0.306763795542,
          -0.25689542228,
          0.362635078992,
          0.482255109819,
          -0.676281568024,
          -0.10740485949,
          0.351747390273,
          -0.46669864347,
          0.360583224335,
          -0.312602911317,
          -1.32330100499,
          -1.72227639302,
          -0.639400803442,
          0.343358430075,
          -0.875911379147,
          0.167152951538,
          0.363161756559,
          0.400556105725,
          -0.286675830845,
          0.124611569373,
          -0.460653946875,
          -0.0111829383043,
          0.361447005792,
          -1.11249269187,
          -0.521196147573
         ],
         "xaxis": "x",
         "y": [
          0.4571450642232894,
          0.21375282611733026,
          0.42625474757388093,
          0.3696931360853799,
          0.41767481644059196,
          0.6082606400561619,
          0.49861229394498063,
          0.6216152989874864,
          0.3390097358497324,
          0.7789995364967164,
          0.6366122801465394,
          0.44994002810288836,
          0.37266487509884877,
          0.2552465233600348,
          0.602180309909687,
          0.7063610439135064,
          0.5728030108523237,
          0.22230026766744837,
          0.48728659496938276,
          0.4374639956663371,
          0.437082246753258,
          0.2502096162008307,
          0.5539537771033445,
          0.47872958973001356,
          0.28779431325832294
         ],
         "yaxis": "y"
        },
        {
         "hovertemplate": "<b>OLS trendline</b><br>Predictions = -0.0515713 * RUCAPARIB + 0.448645<br>R<sup>2</sup>=0.042220<br><br>RUCAPARIB=%{x}<br>Predictions=%{y} <b>(trend)</b><extra></extra>",
         "legendgroup": "",
         "marker": {
          "color": "#636efa",
          "symbol": "circle"
         },
         "mode": "lines",
         "name": "",
         "showlegend": false,
         "type": "scatter",
         "x": [
          -1.72227639302,
          -1.32330100499,
          -1.11249269187,
          -0.875911379147,
          -0.676281568024,
          -0.639400803442,
          -0.521196147573,
          -0.46669864347,
          -0.460653946875,
          -0.312602911317,
          -0.286675830845,
          -0.25689542228,
          -0.10740485949,
          -0.0111829383043,
          0.124611569373,
          0.167152951538,
          0.306763795542,
          0.343358430075,
          0.351747390273,
          0.360583224335,
          0.361447005792,
          0.362635078992,
          0.363161756559,
          0.400556105725,
          0.482255109819
         ],
         "xaxis": "x",
         "y": [
          0.5374648424354362,
          0.5168891741580375,
          0.5060175212916983,
          0.49381672205128513,
          0.48352155875254615,
          0.48161957080887124,
          0.4755236063434598,
          0.4727131007333113,
          0.4724013680407501,
          0.46476618780868595,
          0.463429095288199,
          0.46189328173632954,
          0.45418386325376037,
          0.4492215763791071,
          0.4422184808807685,
          0.440024567687749,
          0.43282465887047133,
          0.4309374270173952,
          0.43050479766880645,
          0.4300491224666053,
          0.4300045761580945,
          0.42994330571188183,
          0.42991614427979136,
          0.4279876701258143,
          0.42377434855945845
         ],
         "yaxis": "y"
        }
       ],
       "layout": {
        "annotations": [
         {
          "align": "center",
          "bgcolor": "white",
          "bordercolor": "black",
          "borderpad": 4,
          "borderwidth": 1,
          "font": {
           "color": "black",
           "size": 14
          },
          "opacity": 1,
          "showarrow": false,
          "text": "Pearson R: -0.21<br>p-value: 3.24e-01",
          "x": -0.20594808490497196,
          "y": 0.7789995364967164
         }
        ],
        "legend": {
         "tracegroupgap": 0
        },
        "template": {
         "data": {
          "bar": [
           {
            "error_x": {
             "color": "#2a3f5f"
            },
            "error_y": {
             "color": "#2a3f5f"
            },
            "marker": {
             "line": {
              "color": "#E5ECF6",
              "width": 0.5
             },
             "pattern": {
              "fillmode": "overlay",
              "size": 10,
              "solidity": 0.2
             }
            },
            "type": "bar"
           }
          ],
          "barpolar": [
           {
            "marker": {
             "line": {
              "color": "#E5ECF6",
              "width": 0.5
             },
             "pattern": {
              "fillmode": "overlay",
              "size": 10,
              "solidity": 0.2
             }
            },
            "type": "barpolar"
           }
          ],
          "carpet": [
           {
            "aaxis": {
             "endlinecolor": "#2a3f5f",
             "gridcolor": "white",
             "linecolor": "white",
             "minorgridcolor": "white",
             "startlinecolor": "#2a3f5f"
            },
            "baxis": {
             "endlinecolor": "#2a3f5f",
             "gridcolor": "white",
             "linecolor": "white",
             "minorgridcolor": "white",
             "startlinecolor": "#2a3f5f"
            },
            "type": "carpet"
           }
          ],
          "choropleth": [
           {
            "colorbar": {
             "outlinewidth": 0,
             "ticks": ""
            },
            "type": "choropleth"
           }
          ],
          "contour": [
           {
            "colorbar": {
             "outlinewidth": 0,
             "ticks": ""
            },
            "colorscale": [
             [
              0,
              "#0d0887"
             ],
             [
              0.1111111111111111,
              "#46039f"
             ],
             [
              0.2222222222222222,
              "#7201a8"
             ],
             [
              0.3333333333333333,
              "#9c179e"
             ],
             [
              0.4444444444444444,
              "#bd3786"
             ],
             [
              0.5555555555555556,
              "#d8576b"
             ],
             [
              0.6666666666666666,
              "#ed7953"
             ],
             [
              0.7777777777777778,
              "#fb9f3a"
             ],
             [
              0.8888888888888888,
              "#fdca26"
             ],
             [
              1,
              "#f0f921"
             ]
            ],
            "type": "contour"
           }
          ],
          "contourcarpet": [
           {
            "colorbar": {
             "outlinewidth": 0,
             "ticks": ""
            },
            "type": "contourcarpet"
           }
          ],
          "heatmap": [
           {
            "colorbar": {
             "outlinewidth": 0,
             "ticks": ""
            },
            "colorscale": [
             [
              0,
              "#0d0887"
             ],
             [
              0.1111111111111111,
              "#46039f"
             ],
             [
              0.2222222222222222,
              "#7201a8"
             ],
             [
              0.3333333333333333,
              "#9c179e"
             ],
             [
              0.4444444444444444,
              "#bd3786"
             ],
             [
              0.5555555555555556,
              "#d8576b"
             ],
             [
              0.6666666666666666,
              "#ed7953"
             ],
             [
              0.7777777777777778,
              "#fb9f3a"
             ],
             [
              0.8888888888888888,
              "#fdca26"
             ],
             [
              1,
              "#f0f921"
             ]
            ],
            "type": "heatmap"
           }
          ],
          "heatmapgl": [
           {
            "colorbar": {
             "outlinewidth": 0,
             "ticks": ""
            },
            "colorscale": [
             [
              0,
              "#0d0887"
             ],
             [
              0.1111111111111111,
              "#46039f"
             ],
             [
              0.2222222222222222,
              "#7201a8"
             ],
             [
              0.3333333333333333,
              "#9c179e"
             ],
             [
              0.4444444444444444,
              "#bd3786"
             ],
             [
              0.5555555555555556,
              "#d8576b"
             ],
             [
              0.6666666666666666,
              "#ed7953"
             ],
             [
              0.7777777777777778,
              "#fb9f3a"
             ],
             [
              0.8888888888888888,
              "#fdca26"
             ],
             [
              1,
              "#f0f921"
             ]
            ],
            "type": "heatmapgl"
           }
          ],
          "histogram": [
           {
            "marker": {
             "pattern": {
              "fillmode": "overlay",
              "size": 10,
              "solidity": 0.2
             }
            },
            "type": "histogram"
           }
          ],
          "histogram2d": [
           {
            "colorbar": {
             "outlinewidth": 0,
             "ticks": ""
            },
            "colorscale": [
             [
              0,
              "#0d0887"
             ],
             [
              0.1111111111111111,
              "#46039f"
             ],
             [
              0.2222222222222222,
              "#7201a8"
             ],
             [
              0.3333333333333333,
              "#9c179e"
             ],
             [
              0.4444444444444444,
              "#bd3786"
             ],
             [
              0.5555555555555556,
              "#d8576b"
             ],
             [
              0.6666666666666666,
              "#ed7953"
             ],
             [
              0.7777777777777778,
              "#fb9f3a"
             ],
             [
              0.8888888888888888,
              "#fdca26"
             ],
             [
              1,
              "#f0f921"
             ]
            ],
            "type": "histogram2d"
           }
          ],
          "histogram2dcontour": [
           {
            "colorbar": {
             "outlinewidth": 0,
             "ticks": ""
            },
            "colorscale": [
             [
              0,
              "#0d0887"
             ],
             [
              0.1111111111111111,
              "#46039f"
             ],
             [
              0.2222222222222222,
              "#7201a8"
             ],
             [
              0.3333333333333333,
              "#9c179e"
             ],
             [
              0.4444444444444444,
              "#bd3786"
             ],
             [
              0.5555555555555556,
              "#d8576b"
             ],
             [
              0.6666666666666666,
              "#ed7953"
             ],
             [
              0.7777777777777778,
              "#fb9f3a"
             ],
             [
              0.8888888888888888,
              "#fdca26"
             ],
             [
              1,
              "#f0f921"
             ]
            ],
            "type": "histogram2dcontour"
           }
          ],
          "mesh3d": [
           {
            "colorbar": {
             "outlinewidth": 0,
             "ticks": ""
            },
            "type": "mesh3d"
           }
          ],
          "parcoords": [
           {
            "line": {
             "colorbar": {
              "outlinewidth": 0,
              "ticks": ""
             }
            },
            "type": "parcoords"
           }
          ],
          "pie": [
           {
            "automargin": true,
            "type": "pie"
           }
          ],
          "scatter": [
           {
            "fillpattern": {
             "fillmode": "overlay",
             "size": 10,
             "solidity": 0.2
            },
            "type": "scatter"
           }
          ],
          "scatter3d": [
           {
            "line": {
             "colorbar": {
              "outlinewidth": 0,
              "ticks": ""
             }
            },
            "marker": {
             "colorbar": {
              "outlinewidth": 0,
              "ticks": ""
             }
            },
            "type": "scatter3d"
           }
          ],
          "scattercarpet": [
           {
            "marker": {
             "colorbar": {
              "outlinewidth": 0,
              "ticks": ""
             }
            },
            "type": "scattercarpet"
           }
          ],
          "scattergeo": [
           {
            "marker": {
             "colorbar": {
              "outlinewidth": 0,
              "ticks": ""
             }
            },
            "type": "scattergeo"
           }
          ],
          "scattergl": [
           {
            "marker": {
             "colorbar": {
              "outlinewidth": 0,
              "ticks": ""
             }
            },
            "type": "scattergl"
           }
          ],
          "scattermapbox": [
           {
            "marker": {
             "colorbar": {
              "outlinewidth": 0,
              "ticks": ""
             }
            },
            "type": "scattermapbox"
           }
          ],
          "scatterpolar": [
           {
            "marker": {
             "colorbar": {
              "outlinewidth": 0,
              "ticks": ""
             }
            },
            "type": "scatterpolar"
           }
          ],
          "scatterpolargl": [
           {
            "marker": {
             "colorbar": {
              "outlinewidth": 0,
              "ticks": ""
             }
            },
            "type": "scatterpolargl"
           }
          ],
          "scatterternary": [
           {
            "marker": {
             "colorbar": {
              "outlinewidth": 0,
              "ticks": ""
             }
            },
            "type": "scatterternary"
           }
          ],
          "surface": [
           {
            "colorbar": {
             "outlinewidth": 0,
             "ticks": ""
            },
            "colorscale": [
             [
              0,
              "#0d0887"
             ],
             [
              0.1111111111111111,
              "#46039f"
             ],
             [
              0.2222222222222222,
              "#7201a8"
             ],
             [
              0.3333333333333333,
              "#9c179e"
             ],
             [
              0.4444444444444444,
              "#bd3786"
             ],
             [
              0.5555555555555556,
              "#d8576b"
             ],
             [
              0.6666666666666666,
              "#ed7953"
             ],
             [
              0.7777777777777778,
              "#fb9f3a"
             ],
             [
              0.8888888888888888,
              "#fdca26"
             ],
             [
              1,
              "#f0f921"
             ]
            ],
            "type": "surface"
           }
          ],
          "table": [
           {
            "cells": {
             "fill": {
              "color": "#EBF0F8"
             },
             "line": {
              "color": "white"
             }
            },
            "header": {
             "fill": {
              "color": "#C8D4E3"
             },
             "line": {
              "color": "white"
             }
            },
            "type": "table"
           }
          ]
         },
         "layout": {
          "annotationdefaults": {
           "arrowcolor": "#2a3f5f",
           "arrowhead": 0,
           "arrowwidth": 1
          },
          "autotypenumbers": "strict",
          "coloraxis": {
           "colorbar": {
            "outlinewidth": 0,
            "ticks": ""
           }
          },
          "colorscale": {
           "diverging": [
            [
             0,
             "#8e0152"
            ],
            [
             0.1,
             "#c51b7d"
            ],
            [
             0.2,
             "#de77ae"
            ],
            [
             0.3,
             "#f1b6da"
            ],
            [
             0.4,
             "#fde0ef"
            ],
            [
             0.5,
             "#f7f7f7"
            ],
            [
             0.6,
             "#e6f5d0"
            ],
            [
             0.7,
             "#b8e186"
            ],
            [
             0.8,
             "#7fbc41"
            ],
            [
             0.9,
             "#4d9221"
            ],
            [
             1,
             "#276419"
            ]
           ],
           "sequential": [
            [
             0,
             "#0d0887"
            ],
            [
             0.1111111111111111,
             "#46039f"
            ],
            [
             0.2222222222222222,
             "#7201a8"
            ],
            [
             0.3333333333333333,
             "#9c179e"
            ],
            [
             0.4444444444444444,
             "#bd3786"
            ],
            [
             0.5555555555555556,
             "#d8576b"
            ],
            [
             0.6666666666666666,
             "#ed7953"
            ],
            [
             0.7777777777777778,
             "#fb9f3a"
            ],
            [
             0.8888888888888888,
             "#fdca26"
            ],
            [
             1,
             "#f0f921"
            ]
           ],
           "sequentialminus": [
            [
             0,
             "#0d0887"
            ],
            [
             0.1111111111111111,
             "#46039f"
            ],
            [
             0.2222222222222222,
             "#7201a8"
            ],
            [
             0.3333333333333333,
             "#9c179e"
            ],
            [
             0.4444444444444444,
             "#bd3786"
            ],
            [
             0.5555555555555556,
             "#d8576b"
            ],
            [
             0.6666666666666666,
             "#ed7953"
            ],
            [
             0.7777777777777778,
             "#fb9f3a"
            ],
            [
             0.8888888888888888,
             "#fdca26"
            ],
            [
             1,
             "#f0f921"
            ]
           ]
          },
          "colorway": [
           "#636efa",
           "#EF553B",
           "#00cc96",
           "#ab63fa",
           "#FFA15A",
           "#19d3f3",
           "#FF6692",
           "#B6E880",
           "#FF97FF",
           "#FECB52"
          ],
          "font": {
           "color": "#2a3f5f"
          },
          "geo": {
           "bgcolor": "white",
           "lakecolor": "white",
           "landcolor": "#E5ECF6",
           "showlakes": true,
           "showland": true,
           "subunitcolor": "white"
          },
          "hoverlabel": {
           "align": "left"
          },
          "hovermode": "closest",
          "mapbox": {
           "style": "light"
          },
          "paper_bgcolor": "white",
          "plot_bgcolor": "#E5ECF6",
          "polar": {
           "angularaxis": {
            "gridcolor": "white",
            "linecolor": "white",
            "ticks": ""
           },
           "bgcolor": "#E5ECF6",
           "radialaxis": {
            "gridcolor": "white",
            "linecolor": "white",
            "ticks": ""
           }
          },
          "scene": {
           "xaxis": {
            "backgroundcolor": "#E5ECF6",
            "gridcolor": "white",
            "gridwidth": 2,
            "linecolor": "white",
            "showbackground": true,
            "ticks": "",
            "zerolinecolor": "white"
           },
           "yaxis": {
            "backgroundcolor": "#E5ECF6",
            "gridcolor": "white",
            "gridwidth": 2,
            "linecolor": "white",
            "showbackground": true,
            "ticks": "",
            "zerolinecolor": "white"
           },
           "zaxis": {
            "backgroundcolor": "#E5ECF6",
            "gridcolor": "white",
            "gridwidth": 2,
            "linecolor": "white",
            "showbackground": true,
            "ticks": "",
            "zerolinecolor": "white"
           }
          },
          "shapedefaults": {
           "line": {
            "color": "#2a3f5f"
           }
          },
          "ternary": {
           "aaxis": {
            "gridcolor": "white",
            "linecolor": "white",
            "ticks": ""
           },
           "baxis": {
            "gridcolor": "white",
            "linecolor": "white",
            "ticks": ""
           },
           "bgcolor": "#E5ECF6",
           "caxis": {
            "gridcolor": "white",
            "linecolor": "white",
            "ticks": ""
           }
          },
          "title": {
           "x": 0.05
          },
          "xaxis": {
           "automargin": true,
           "gridcolor": "white",
           "linecolor": "white",
           "ticks": "",
           "title": {
            "standoff": 15
           },
           "zerolinecolor": "white",
           "zerolinewidth": 2
          },
          "yaxis": {
           "automargin": true,
           "gridcolor": "white",
           "linecolor": "white",
           "ticks": "",
           "title": {
            "standoff": 15
           },
           "zerolinecolor": "white",
           "zerolinewidth": 2
          }
         }
        },
        "title": {
         "text": "Scatter Plot: RUCAPARIB vs Predictions"
        },
        "xaxis": {
         "anchor": "y",
         "domain": [
          0,
          1
         ],
         "title": {
          "text": "RUCAPARIB"
         }
        },
        "yaxis": {
         "anchor": "x",
         "domain": [
          0,
          1
         ],
         "title": {
          "text": "Predictions"
         }
        }
       }
      }
     },
     "metadata": {},
     "output_type": "display_data"
    }
   ],
   "source": [
    "from scipy.stats import pearsonr\n",
    "import numpy as np\n",
    "import plotly.express as px\n",
    "\n",
    "# List of columns to plot\n",
    "columns_to_plot = ['OLAPARIB', 'TALAZOPARIB', 'NIRAPARIB', 'RUCAPARIB']\n",
    "merged_prism.dropna(inplace=True)\n",
    "# Loop through each column and create a scatter plot\n",
    "for column in columns_to_plot:\n",
    "    # Data for plotting\n",
    "    x = merged_prism[column]\n",
    "    y = merged_prism['Predictions']\n",
    "\n",
    "    # Calculate Pearson R and p-value\n",
    "    r_value, p_value = pearsonr(x, y)\n",
    "\n",
    "    # Create the scatter plot\n",
    "    fig = px.scatter(\n",
    "        merged_prism,\n",
    "        x=column,\n",
    "        y='Predictions',\n",
    "        title=f\"Scatter Plot: {column} vs Predictions\",\n",
    "        trendline=\"ols\",  # Add regression line\n",
    "        labels={column: column, 'Predictions': 'Predictions'},\n",
    "        color_continuous_scale='magenta'  # Use a more subtle color palette\n",
    "    )\n",
    "\n",
    "    # Add R value and p-value as annotation\n",
    "    fig.add_annotation(\n",
    "        x=np.mean(x), \n",
    "        y=np.max(y),\n",
    "        text=f\"Pearson R: {r_value:.2f}<br>p-value: {p_value:.2e}\",\n",
    "        showarrow=False,\n",
    "        font=dict(size=14, color=\"black\"),\n",
    "        align=\"center\",\n",
    "        bordercolor=\"black\",\n",
    "        borderwidth=1,\n",
    "        borderpad=4,\n",
    "        bgcolor=\"white\",\n",
    "        opacity=1.0\n",
    "    )\n",
    "\n",
    "    # Show the plot\n",
    "    fig.show()\n"
   ]
  },
  {
   "cell_type": "code",
   "execution_count": null,
   "metadata": {},
   "outputs": [],
   "source": [
    "px.scatter(merged_prism, x = 'OLAPARIB', y = 'Predictions')"
   ]
  },
  {
   "cell_type": "code",
   "execution_count": 21,
   "metadata": {},
   "outputs": [
    {
     "data": {
      "text/html": [
       "<div>\n",
       "<style scoped>\n",
       "    .dataframe tbody tr th:only-of-type {\n",
       "        vertical-align: middle;\n",
       "    }\n",
       "\n",
       "    .dataframe tbody tr th {\n",
       "        vertical-align: top;\n",
       "    }\n",
       "\n",
       "    .dataframe thead th {\n",
       "        text-align: right;\n",
       "    }\n",
       "</style>\n",
       "<table border=\"1\" class=\"dataframe\">\n",
       "  <thead>\n",
       "    <tr style=\"text-align: right;\">\n",
       "      <th></th>\n",
       "      <th>Cell Line Name</th>\n",
       "      <th>Drug Name</th>\n",
       "      <th>Predictions</th>\n",
       "      <th>log10IC50</th>\n",
       "    </tr>\n",
       "  </thead>\n",
       "  <tbody>\n",
       "    <tr>\n",
       "      <th>31</th>\n",
       "      <td>AU565</td>\n",
       "      <td>Olaparib</td>\n",
       "      <td>0.378746</td>\n",
       "      <td>0.649300</td>\n",
       "    </tr>\n",
       "    <tr>\n",
       "      <th>81</th>\n",
       "      <td>AU565</td>\n",
       "      <td>Veliparib</td>\n",
       "      <td>0.378746</td>\n",
       "      <td>0.728449</td>\n",
       "    </tr>\n",
       "    <tr>\n",
       "      <th>275</th>\n",
       "      <td>AU565</td>\n",
       "      <td>Rucaparib</td>\n",
       "      <td>0.378746</td>\n",
       "      <td>0.618083</td>\n",
       "    </tr>\n",
       "    <tr>\n",
       "      <th>323</th>\n",
       "      <td>AU565</td>\n",
       "      <td>Niraparib</td>\n",
       "      <td>0.378746</td>\n",
       "      <td>0.658753</td>\n",
       "    </tr>\n",
       "    <tr>\n",
       "      <th>370</th>\n",
       "      <td>AU565</td>\n",
       "      <td>Talazoparib</td>\n",
       "      <td>0.378746</td>\n",
       "      <td>0.446904</td>\n",
       "    </tr>\n",
       "    <tr>\n",
       "      <th>...</th>\n",
       "      <td>...</td>\n",
       "      <td>...</td>\n",
       "      <td>...</td>\n",
       "      <td>...</td>\n",
       "    </tr>\n",
       "    <tr>\n",
       "      <th>30</th>\n",
       "      <td>ZR7530</td>\n",
       "      <td>Olaparib</td>\n",
       "      <td>0.184975</td>\n",
       "      <td>0.774099</td>\n",
       "    </tr>\n",
       "    <tr>\n",
       "      <th>80</th>\n",
       "      <td>ZR7530</td>\n",
       "      <td>Veliparib</td>\n",
       "      <td>0.184975</td>\n",
       "      <td>0.791624</td>\n",
       "    </tr>\n",
       "    <tr>\n",
       "      <th>274</th>\n",
       "      <td>ZR7530</td>\n",
       "      <td>Rucaparib</td>\n",
       "      <td>0.184975</td>\n",
       "      <td>0.785756</td>\n",
       "    </tr>\n",
       "    <tr>\n",
       "      <th>322</th>\n",
       "      <td>ZR7530</td>\n",
       "      <td>Niraparib</td>\n",
       "      <td>0.184975</td>\n",
       "      <td>0.690543</td>\n",
       "    </tr>\n",
       "    <tr>\n",
       "      <th>369</th>\n",
       "      <td>ZR7530</td>\n",
       "      <td>Talazoparib</td>\n",
       "      <td>0.184975</td>\n",
       "      <td>0.788025</td>\n",
       "    </tr>\n",
       "  </tbody>\n",
       "</table>\n",
       "<p>205 rows × 4 columns</p>\n",
       "</div>"
      ],
      "text/plain": [
       "    Cell Line Name    Drug Name  Predictions  log10IC50\n",
       "31           AU565     Olaparib     0.378746   0.649300\n",
       "81           AU565    Veliparib     0.378746   0.728449\n",
       "275          AU565    Rucaparib     0.378746   0.618083\n",
       "323          AU565    Niraparib     0.378746   0.658753\n",
       "370          AU565  Talazoparib     0.378746   0.446904\n",
       "..             ...          ...          ...        ...\n",
       "30          ZR7530     Olaparib     0.184975   0.774099\n",
       "80          ZR7530    Veliparib     0.184975   0.791624\n",
       "274         ZR7530    Rucaparib     0.184975   0.785756\n",
       "322         ZR7530    Niraparib     0.184975   0.690543\n",
       "369         ZR7530  Talazoparib     0.184975   0.788025\n",
       "\n",
       "[205 rows x 4 columns]"
      ]
     },
     "execution_count": 21,
     "metadata": {},
     "output_type": "execute_result"
    }
   ],
   "source": [
    "import pandas as pd\n",
    "import numpy as np\n",
    "\n",
    "# Load the data\n",
    "drug_resp = pd.read_csv('../data/validation/BRCA_IC_Sat Jan 11 20_40_55 2025.csv')\n",
    "\n",
    "# Define PARP inhibitors\n",
    "parps = ['Olaparib', 'Talazoparib', 'Niraparib', 'Rucaparib', 'Veliparib']\n",
    "\n",
    "# Filter and select specific drugs\n",
    "parpi_resp = drug_resp[drug_resp['Drug Name'].isin(parps)]\n",
    "parpi_resp_filt = parpi_resp[['Drug Name', 'Cell Line Name', 'IC50']].copy()\n",
    "\n",
    "# Apply transformations explicitly\n",
    "parpi_resp_filt['IC50'] = parpi_resp_filt['IC50'].clip(lower=1e-6)\n",
    "parpi_resp_filt['log10IC50'] = np.log10(parpi_resp_filt['IC50'])\n",
    "\n",
    "parpi_resp_filt[\"Cell Line Name\"] = parpi_resp_filt[\"Cell Line Name\"].str.replace(\"-\", \"\", regex=True)\n",
    "\n",
    "merged_df = breast_filt_aligned.merge(\n",
    "    parpi_resp_filt,\n",
    "    right_on ='Cell Line Name',\n",
    "    left_index=True\n",
    ")\n",
    "subset_df = merged_df[['Cell Line Name', 'Drug Name', 'Predictions', 'log10IC50']]\n",
    "subset_df"
   ]
  },
  {
   "cell_type": "code",
   "execution_count": 22,
   "metadata": {},
   "outputs": [
    {
     "data": {
      "image/png": "[encoded data removed]",
      "text/plain": [
       "<Figure size 1500x1000 with 5 Axes>"
      ]
     },
     "metadata": {},
     "output_type": "display_data"
    }
   ],
   "source": [
    "import matplotlib.pyplot as plt\n",
    "from scipy.stats import pearsonr\n",
    "import numpy as np\n",
    "\n",
    "# Group the DataFrame by 'Drug Name'\n",
    "grouped = merged_df.groupby('Drug Name')\n",
    "\n",
    "# Determine the number of groups and set up the grid size\n",
    "num_drugs = len(grouped)\n",
    "cols = 3  # Number of columns in the grid\n",
    "rows = -(-num_drugs // cols)  # Calculate rows (ceiling division)\n",
    "\n",
    "# Create a figure with subplots\n",
    "fig, axes = plt.subplots(rows, cols, figsize=(15, rows * 5))\n",
    "axes = axes.flatten()  # Flatten the grid of axes for easier indexing\n",
    "\n",
    "# Loop through each group and create a plot\n",
    "for i, (drug_name, group) in enumerate(grouped):\n",
    "    ax = axes[i]\n",
    "    \n",
    "    # Scatter plot\n",
    "    x = group['log10IC50']\n",
    "    y = group['Predictions']\n",
    "    ax.scatter(x, y, label=drug_name, alpha=0.7)\n",
    "    \n",
    "    # Calculate and plot the trend line\n",
    "    z = np.polyfit(x, y, 1)  # Linear fit (degree 1)\n",
    "    p = np.poly1d(z)\n",
    "    ax.plot(x, p(x), color='red', linestyle='--', label='Trend Line')\n",
    "    \n",
    "    # Calculate Pearson's r and p-value\n",
    "    r_value, p_value = pearsonr(x, y)\n",
    "    \n",
    "    # Add text with Pearson's r and p-value\n",
    "    ax.text(\n",
    "        0.05, 0.95,\n",
    "        f\"$r = {r_value:.2f}, p = {p_value:.2g}$\",\n",
    "        transform=ax.transAxes,\n",
    "        fontsize=10,\n",
    "        verticalalignment='top'\n",
    "    )\n",
    "    \n",
    "    # Add plot details\n",
    "    ax.set_title(f'{drug_name}')\n",
    "    ax.set_xlabel('log10IC50')\n",
    "    ax.set_ylabel('Predictions')\n",
    "    ax.grid(True)\n",
    "    ax.legend(fontsize=8)\n",
    "\n",
    "# Remove any unused subplots\n",
    "for j in range(i + 1, len(axes)):\n",
    "    fig.delaxes(axes[j])\n",
    "\n",
    "# Adjust layout to prevent overlapping\n",
    "plt.tight_layout()\n",
    "\n",
    "# Show the entire figure\n",
    "plt.show()\n"
   ]
  }
 ],
 "metadata": {
  "kernelspec": {
   "display_name": "HRDclass",
   "language": "python",
   "name": "python3"
  },
  "language_info": {
   "codemirror_mode": {
    "name": "ipython",
    "version": 3
   },
   "file_extension": ".py",
   "mimetype": "text/x-python",
   "name": "python",
   "nbconvert_exporter": "python",
   "pygments_lexer": "ipython3",
   "version": "3.12.7"
  }
 },
 "nbformat": 4,
 "nbformat_minor": 2
}
