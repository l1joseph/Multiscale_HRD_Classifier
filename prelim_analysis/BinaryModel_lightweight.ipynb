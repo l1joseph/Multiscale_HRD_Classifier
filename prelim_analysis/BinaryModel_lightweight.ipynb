{
 "cells": [
  {
   "cell_type": "code",
   "execution_count": 1,
   "metadata": {},
   "outputs": [],
   "source": [
    "import pandas as pd\n",
    "import numpy as np\n",
    "import matplotlib.pyplot as plt\n",
    "import seaborn as sns\n",
    "import sklearn\n",
    "from sklearn.model_selection import train_test_split\n",
    "from sklearn.linear_model import LinearRegression"
   ]
  },
  {
   "cell_type": "markdown",
   "metadata": {},
   "source": [
    "# ***Initial Data import: RNA-seq, HRD scores, BRCA annotations***"
   ]
  },
  {
   "cell_type": "code",
   "execution_count": 8,
   "metadata": {},
   "outputs": [
    {
     "name": "stdout",
     "output_type": "stream",
     "text": [
      "(1231, 60663)\n"
     ]
    }
   ],
   "source": [
    "# Load the FPKM RNA-seq data\n",
    "rnaseq_df = pd.read_csv('data/tcga.brca.rnaseq.unstranded.fpkm.counts.matrix.txt', sep='\\t', index_col=0)\n",
    "# rnaseq_df = pd.read_csv(\"data/Deconvo2.csv\", sep = ',', index_col=0)\n",
    "print(rnaseq_df.shape)\n",
    "# Load the HRD score data\n",
    "hrd_df = pd.read_excel('data/tcga.hrdscore.xlsx')\n",
    "\n",
    "# Load the BRCA status data\n",
    "brca_df = pd.read_csv('data/toga.breast.brca.status.txt', sep='\\t', index_col=0)\n",
    "brca_df.index = brca_df.index.str.replace('.', '-')"
   ]
  },
  {
   "cell_type": "code",
   "execution_count": 9,
   "metadata": {},
   "outputs": [
    {
     "name": "stdout",
     "output_type": "stream",
     "text": [
      "Initial samples in RNA-seq data (n = 1231) \n",
      "\n",
      "Initial samples in TCGA BRCA (n = 992)\n",
      "\n",
      "Initial samples in TCGA HRD (n = 9604)\n",
      "\n",
      "\n"
     ]
    }
   ],
   "source": [
    "print(f\"Initial samples in RNA-seq data (n = {len(rnaseq_df.index)}) \\n\\nInitial samples in TCGA BRCA (n = {len(brca_df.index)})\\n\\nInitial samples in TCGA HRD (n = {len(hrd_df.index)})\\n\\n\")"
   ]
  },
  {
   "cell_type": "markdown",
   "metadata": {},
   "source": [
    "# ***Drop ambiguouse/ mislabled samples***"
   ]
  },
  {
   "cell_type": "code",
   "execution_count": 10,
   "metadata": {},
   "outputs": [
    {
     "data": {
      "text/plain": [
       "(984, 33)"
      ]
     },
     "execution_count": 10,
     "metadata": {},
     "output_type": "execute_result"
    }
   ],
   "source": [
    "# Drop rows where event.BRCA1 is '1' and event.BRCA2 is 'Bi-allelic-undetermined' and where event.PALB2 is '2'\n",
    "brca_filt = brca_df[(brca_df['event.BRCA1'] != '1') & (brca_df['event.BRCA2'] != 'Bi-allelic-undetermined') & (brca_df['event.PALB2'] != '2')]\n",
    "brca_filt.shape"
   ]
  },
  {
   "cell_type": "markdown",
   "metadata": {},
   "source": [
    "# ***Merge metadata***"
   ]
  },
  {
   "cell_type": "code",
   "execution_count": 36,
   "metadata": {},
   "outputs": [
    {
     "name": "stdout",
     "output_type": "stream",
     "text": [
      "(859, 37)\n",
      "Index(['HRD', 'Telomeric AI', 'LST', 'HRD-sum', 'BRCA1_somatic_null',\n",
      "       'BRCA1_germ_bi_allelic', 'BRCA1_germ_mono_allelic', 'BRCA1_deletion',\n",
      "       'BRCA1_epigenetic_silencing', 'BRCA1_mRNA', 'BRCA2_somatic_null',\n",
      "       'BRCA2_germ_bi_allelic', 'BRCA2_germ_undetermined',\n",
      "       'BRCA2_germ_mono_allelic', 'BRCA2_deletion', 'RAD51C_germ',\n",
      "       'RAD51C_deletion', 'RAD51C_epigenetic_silencing', 'RAD51C_mRNA',\n",
      "       'PALB2_somatic_null', 'PALB2_germ', 'TP53_somatic', 'H1', 'H2', 'H3',\n",
      "       'H4', 'H1.norm', 'H2.norm', 'H3.norm', 'H4.norm', 'event.BRCA1',\n",
      "       'event.BRCA2', 'event.RAD51C', 'event.PALB2', 'event.All Events',\n",
      "       'event.PAM50', 'event.TNBC'],\n",
      "      dtype='object')\n"
     ]
    },
    {
     "data": {
      "text/html": [
       "<div>\n",
       "<style scoped>\n",
       "    .dataframe tbody tr th:only-of-type {\n",
       "        vertical-align: middle;\n",
       "    }\n",
       "\n",
       "    .dataframe tbody tr th {\n",
       "        vertical-align: top;\n",
       "    }\n",
       "\n",
       "    .dataframe thead th {\n",
       "        text-align: right;\n",
       "    }\n",
       "</style>\n",
       "<table border=\"1\" class=\"dataframe\">\n",
       "  <thead>\n",
       "    <tr style=\"text-align: right;\">\n",
       "      <th></th>\n",
       "      <th>HRD</th>\n",
       "      <th>Telomeric AI</th>\n",
       "      <th>LST</th>\n",
       "      <th>HRD-sum</th>\n",
       "      <th>BRCA1_somatic_null</th>\n",
       "      <th>BRCA1_germ_bi_allelic</th>\n",
       "      <th>BRCA1_germ_mono_allelic</th>\n",
       "      <th>BRCA1_deletion</th>\n",
       "      <th>BRCA1_epigenetic_silencing</th>\n",
       "      <th>BRCA1_mRNA</th>\n",
       "      <th>...</th>\n",
       "      <th>H2.norm</th>\n",
       "      <th>H3.norm</th>\n",
       "      <th>H4.norm</th>\n",
       "      <th>event.BRCA1</th>\n",
       "      <th>event.BRCA2</th>\n",
       "      <th>event.RAD51C</th>\n",
       "      <th>event.PALB2</th>\n",
       "      <th>event.All Events</th>\n",
       "      <th>event.PAM50</th>\n",
       "      <th>event.TNBC</th>\n",
       "    </tr>\n",
       "    <tr>\n",
       "      <th>sample</th>\n",
       "      <th></th>\n",
       "      <th></th>\n",
       "      <th></th>\n",
       "      <th></th>\n",
       "      <th></th>\n",
       "      <th></th>\n",
       "      <th></th>\n",
       "      <th></th>\n",
       "      <th></th>\n",
       "      <th></th>\n",
       "      <th></th>\n",
       "      <th></th>\n",
       "      <th></th>\n",
       "      <th></th>\n",
       "      <th></th>\n",
       "      <th></th>\n",
       "      <th></th>\n",
       "      <th></th>\n",
       "      <th></th>\n",
       "      <th></th>\n",
       "      <th></th>\n",
       "    </tr>\n",
       "  </thead>\n",
       "  <tbody>\n",
       "    <tr>\n",
       "      <th>TCGA-A1-A0SB</th>\n",
       "      <td>0</td>\n",
       "      <td>0</td>\n",
       "      <td>0</td>\n",
       "      <td>0</td>\n",
       "      <td>0</td>\n",
       "      <td>0</td>\n",
       "      <td>0</td>\n",
       "      <td>0</td>\n",
       "      <td>0</td>\n",
       "      <td>0</td>\n",
       "      <td>...</td>\n",
       "      <td>0.044837</td>\n",
       "      <td>0.635070</td>\n",
       "      <td>0.000000</td>\n",
       "      <td>0</td>\n",
       "      <td>0</td>\n",
       "      <td>0</td>\n",
       "      <td>0</td>\n",
       "      <td>0</td>\n",
       "      <td>NaN</td>\n",
       "      <td>0</td>\n",
       "    </tr>\n",
       "    <tr>\n",
       "      <th>TCGA-A1-A0SD</th>\n",
       "      <td>10</td>\n",
       "      <td>10</td>\n",
       "      <td>7</td>\n",
       "      <td>27</td>\n",
       "      <td>0</td>\n",
       "      <td>0</td>\n",
       "      <td>0</td>\n",
       "      <td>0</td>\n",
       "      <td>0</td>\n",
       "      <td>0</td>\n",
       "      <td>...</td>\n",
       "      <td>0.254169</td>\n",
       "      <td>0.703974</td>\n",
       "      <td>0.041857</td>\n",
       "      <td>0</td>\n",
       "      <td>0</td>\n",
       "      <td>0</td>\n",
       "      <td>0</td>\n",
       "      <td>0</td>\n",
       "      <td>LumA</td>\n",
       "      <td>0</td>\n",
       "    </tr>\n",
       "    <tr>\n",
       "      <th>TCGA-A1-A0SE</th>\n",
       "      <td>6</td>\n",
       "      <td>6</td>\n",
       "      <td>1</td>\n",
       "      <td>13</td>\n",
       "      <td>0</td>\n",
       "      <td>0</td>\n",
       "      <td>0</td>\n",
       "      <td>0</td>\n",
       "      <td>0</td>\n",
       "      <td>0</td>\n",
       "      <td>...</td>\n",
       "      <td>0.102998</td>\n",
       "      <td>0.740053</td>\n",
       "      <td>0.120368</td>\n",
       "      <td>0</td>\n",
       "      <td>0</td>\n",
       "      <td>0</td>\n",
       "      <td>0</td>\n",
       "      <td>0</td>\n",
       "      <td>LumA</td>\n",
       "      <td>0</td>\n",
       "    </tr>\n",
       "    <tr>\n",
       "      <th>TCGA-A1-A0SF</th>\n",
       "      <td>7</td>\n",
       "      <td>11</td>\n",
       "      <td>8</td>\n",
       "      <td>26</td>\n",
       "      <td>0</td>\n",
       "      <td>0</td>\n",
       "      <td>0</td>\n",
       "      <td>0</td>\n",
       "      <td>0</td>\n",
       "      <td>0</td>\n",
       "      <td>...</td>\n",
       "      <td>0.000000</td>\n",
       "      <td>0.395329</td>\n",
       "      <td>0.604671</td>\n",
       "      <td>0</td>\n",
       "      <td>0</td>\n",
       "      <td>0</td>\n",
       "      <td>0</td>\n",
       "      <td>0</td>\n",
       "      <td>LumA</td>\n",
       "      <td>0</td>\n",
       "    </tr>\n",
       "    <tr>\n",
       "      <th>TCGA-A1-A0SG</th>\n",
       "      <td>3</td>\n",
       "      <td>2</td>\n",
       "      <td>4</td>\n",
       "      <td>9</td>\n",
       "      <td>0</td>\n",
       "      <td>0</td>\n",
       "      <td>0</td>\n",
       "      <td>0</td>\n",
       "      <td>0</td>\n",
       "      <td>0</td>\n",
       "      <td>...</td>\n",
       "      <td>0.183277</td>\n",
       "      <td>0.776319</td>\n",
       "      <td>0.040404</td>\n",
       "      <td>0</td>\n",
       "      <td>0</td>\n",
       "      <td>0</td>\n",
       "      <td>0</td>\n",
       "      <td>0</td>\n",
       "      <td>LumA</td>\n",
       "      <td>0</td>\n",
       "    </tr>\n",
       "  </tbody>\n",
       "</table>\n",
       "<p>5 rows × 37 columns</p>\n",
       "</div>"
      ],
      "text/plain": [
       "              HRD  Telomeric AI  LST  HRD-sum BRCA1_somatic_null  \\\n",
       "sample                                                             \n",
       "TCGA-A1-A0SB    0             0    0        0                  0   \n",
       "TCGA-A1-A0SD   10            10    7       27                  0   \n",
       "TCGA-A1-A0SE    6             6    1       13                  0   \n",
       "TCGA-A1-A0SF    7            11    8       26                  0   \n",
       "TCGA-A1-A0SG    3             2    4        9                  0   \n",
       "\n",
       "             BRCA1_germ_bi_allelic BRCA1_germ_mono_allelic BRCA1_deletion  \\\n",
       "sample                                                                      \n",
       "TCGA-A1-A0SB                     0                       0              0   \n",
       "TCGA-A1-A0SD                     0                       0              0   \n",
       "TCGA-A1-A0SE                     0                       0              0   \n",
       "TCGA-A1-A0SF                     0                       0              0   \n",
       "TCGA-A1-A0SG                     0                       0              0   \n",
       "\n",
       "             BRCA1_epigenetic_silencing BRCA1_mRNA  ...   H2.norm   H3.norm  \\\n",
       "sample                                              ...                       \n",
       "TCGA-A1-A0SB                          0          0  ...  0.044837  0.635070   \n",
       "TCGA-A1-A0SD                          0          0  ...  0.254169  0.703974   \n",
       "TCGA-A1-A0SE                          0          0  ...  0.102998  0.740053   \n",
       "TCGA-A1-A0SF                          0          0  ...  0.000000  0.395329   \n",
       "TCGA-A1-A0SG                          0          0  ...  0.183277  0.776319   \n",
       "\n",
       "               H4.norm event.BRCA1 event.BRCA2 event.RAD51C event.PALB2  \\\n",
       "sample                                                                    \n",
       "TCGA-A1-A0SB  0.000000           0           0            0           0   \n",
       "TCGA-A1-A0SD  0.041857           0           0            0           0   \n",
       "TCGA-A1-A0SE  0.120368           0           0            0           0   \n",
       "TCGA-A1-A0SF  0.604671           0           0            0           0   \n",
       "TCGA-A1-A0SG  0.040404           0           0            0           0   \n",
       "\n",
       "             event.All Events event.PAM50 event.TNBC  \n",
       "sample                                                \n",
       "TCGA-A1-A0SB                0         NaN          0  \n",
       "TCGA-A1-A0SD                0        LumA          0  \n",
       "TCGA-A1-A0SE                0        LumA          0  \n",
       "TCGA-A1-A0SF                0        LumA          0  \n",
       "TCGA-A1-A0SG                0        LumA          0  \n",
       "\n",
       "[5 rows x 37 columns]"
      ]
     },
     "execution_count": 36,
     "metadata": {},
     "output_type": "execute_result"
    }
   ],
   "source": [
    "#merge metadata\n",
    "\n",
    "metadata = pd.merge(hrd_df, brca_filt, left_on='sample', right_index=True)\n",
    "metadata.set_index('sample', inplace=True)\n",
    "\n",
    "print (metadata.shape)\n",
    "print(metadata.columns)\n",
    "metadata.head()"
   ]
  },
  {
   "cell_type": "markdown",
   "metadata": {},
   "source": [
    "# Keep Protein coding columns + extracting gene IDs\n",
    "## filter only Primary Tumor Samples"
   ]
  },
  {
   "cell_type": "code",
   "execution_count": 37,
   "metadata": {},
   "outputs": [
    {
     "data": {
      "text/plain": [
       "(1231, 60663)"
      ]
     },
     "execution_count": 37,
     "metadata": {},
     "output_type": "execute_result"
    }
   ],
   "source": [
    "rnaseq_df.shape"
   ]
  },
  {
   "cell_type": "code",
   "execution_count": 38,
   "metadata": {},
   "outputs": [],
   "source": [
    "#rnaseq_df"
   ]
  },
  {
   "cell_type": "code",
   "execution_count": 39,
   "metadata": {},
   "outputs": [
    {
     "name": "stdout",
     "output_type": "stream",
     "text": [
      "(1111, 19965)\n"
     ]
    }
   ],
   "source": [
    "#filt protein coding only\n",
    "columns_to_keep = ['Case ID', 'Sample ID', 'Sample Type']\n",
    "# columns_to_keep =[]\n",
    "gene_columns = [col for col in rnaseq_df.columns if col not in columns_to_keep]\n",
    "protein_coding_cols = [col for col in gene_columns if 'protein_coding' in col]\n",
    "final_columns = columns_to_keep + protein_coding_cols\n",
    "pcg_rnaseq_df_filtered = rnaseq_df[final_columns]\n",
    "\n",
    "#filt only primary tumor\n",
    "pcg_rnaseq_df_filtered = pcg_rnaseq_df_filtered[pcg_rnaseq_df_filtered['Sample Type'] == 'Primary Tumor']\n",
    "print(pcg_rnaseq_df_filtered.shape)\n",
    "#Slicing gene names\n",
    "# split 0 for enseble ID, 1 for gene ID\n",
    "#sliced_cols = [col.split('|')[1] for col in pcg_rnaseq_df_filtered.columns[3:]]\n",
    "sliced_cols = [col.split('|')[1] for col in pcg_rnaseq_df_filtered.columns[3:]]\n",
    "\n",
    "pcg_rnaseq_df_filtered.columns = columns_to_keep+sliced_cols\n",
    "pcg_rnaseq_df_filtered.set_index('Case ID', inplace=True)\n"
   ]
  },
  {
   "cell_type": "code",
   "execution_count": 40,
   "metadata": {},
   "outputs": [
    {
     "data": {
      "text/plain": [
       "(1111, 19964)"
      ]
     },
     "execution_count": 40,
     "metadata": {},
     "output_type": "execute_result"
    }
   ],
   "source": [
    "pcg_rnaseq_df_filtered.shape"
   ]
  },
  {
   "cell_type": "markdown",
   "metadata": {},
   "source": [
    "# ***Get Intersecting samples***"
   ]
  },
  {
   "cell_type": "code",
   "execution_count": 41,
   "metadata": {},
   "outputs": [
    {
     "name": "stdout",
     "output_type": "stream",
     "text": [
      "\n",
      "Number of common samples: 857\n"
     ]
    }
   ],
   "source": [
    "#idenfity the common samples\n",
    "\n",
    "# Extract sample IDs from each dataframe\n",
    "rnaseq_samples = set(pcg_rnaseq_df_filtered.index)\n",
    "metadata_samples = set(metadata.index)\n",
    "\n",
    "# Find the intersection of all sample IDs\n",
    "common_samples = rnaseq_samples.intersection(metadata_samples)\n",
    "\n",
    "# Print the number of common samples\n",
    "print(\"\\nNumber of common samples:\", len(common_samples))"
   ]
  },
  {
   "cell_type": "code",
   "execution_count": 42,
   "metadata": {},
   "outputs": [
    {
     "name": "stdout",
     "output_type": "stream",
     "text": [
      "pcg_rnaseq_df_filtered: (857, 19964)\n",
      "metadata_common: (857, 37)\n"
     ]
    }
   ],
   "source": [
    "# Drop samples that are not common in all three dataframes\n",
    "gene_expression = pcg_rnaseq_df_filtered[pcg_rnaseq_df_filtered.index.isin(common_samples)]\n",
    "labels = metadata[metadata.index.isin(common_samples)]\n",
    "\n",
    "# Print the shapes of the new dataframes\n",
    "print(\"pcg_rnaseq_df_filtered:\", gene_expression.shape)\n",
    "print(\"metadata_common:\", labels.shape)"
   ]
  },
  {
   "cell_type": "markdown",
   "metadata": {},
   "source": [
    "# ***Apply Soft Labels***"
   ]
  },
  {
   "cell_type": "code",
   "execution_count": 43,
   "metadata": {},
   "outputs": [],
   "source": [
    "# Soft label method\n",
    "def softLabel(x, median, HRD_thresh, HRP_thresh):\n",
    "    adjustment = 2 * ((((HRD_thresh - x) / (HRD_thresh - HRP_thresh))) ** 2)\n",
    "    if x < HRP_thresh:\n",
    "        return 0\n",
    "    elif x >= HRD_thresh:\n",
    "        return 1\n",
    "    elif median <= x < HRD_thresh:\n",
    "        return min(adjustment, 1)\n",
    "    elif HRP_thresh <= x < median:\n",
    "        return max(1 - adjustment,0)"
   ]
  },
  {
   "cell_type": "code",
   "execution_count": 44,
   "metadata": {},
   "outputs": [],
   "source": [
    "softLabel_metadata = labels.copy()\n",
    "softLabel_metadata['HRD_status_base'] = softLabel_metadata['HRD-sum'].apply(lambda x: 'HRD' if x >= 42 else 'HR')\n",
    "total_median = softLabel_metadata['HRD-sum'].median()\n",
    "softLabel_metadata['HRD_adjust'] = ['HRD' if x >= 50 else 'HRP' if x <= 10 else 'HRD ambiguous' if total_median <= x <50 else 'HRP ambiguous' if 10 <= x < total_median else 'None' for x in softLabel_metadata['HRD-sum']]\n",
    "softLabel_metadata['soft prob'] = softLabel_metadata['HRD-sum'].apply(lambda x: softLabel(x, total_median, 50, 10))\n",
    "softLabel_metadata = softLabel_metadata.rename_axis('Case ID', axis='index')"
   ]
  },
  {
   "cell_type": "code",
   "execution_count": 45,
   "metadata": {},
   "outputs": [
    {
     "data": {
      "text/plain": [
       "(857, 40)"
      ]
     },
     "execution_count": 45,
     "metadata": {},
     "output_type": "execute_result"
    }
   ],
   "source": [
    "softLabel_metadata.shape\n",
    "#softLabel_metadata.columns"
   ]
  },
  {
   "cell_type": "code",
   "execution_count": 46,
   "metadata": {},
   "outputs": [
    {
     "data": {
      "text/plain": [
       "HRD_status_base\n",
       "HR     652\n",
       "HRD    205\n",
       "Name: count, dtype: int64"
      ]
     },
     "execution_count": 46,
     "metadata": {},
     "output_type": "execute_result"
    }
   ],
   "source": [
    "softLabel_metadata[\"HRD_status_base\"].value_counts()"
   ]
  },
  {
   "cell_type": "markdown",
   "metadata": {},
   "source": [
    "# ***Get DESeq2 Genes***"
   ]
  },
  {
   "cell_type": "code",
   "execution_count": 47,
   "metadata": {},
   "outputs": [],
   "source": [
    "from pydeseq2.dds import DeseqDataSet\n",
    "from pydeseq2.ds import DeseqStats\n",
    "import matplotlib.pyplot as plt\n",
    "import seaborn as sns\n",
    "import decoupler as dc\n",
    "import plotly.express as px"
   ]
  },
  {
   "cell_type": "code",
   "execution_count": 48,
   "metadata": {},
   "outputs": [],
   "source": [
    "def runDESeq2(counts, metadata, design_factors):\n",
    "    # Make gene names unique before creating DESeqDataSet\n",
    "    counts = counts.copy()\n",
    "    counts.columns = pd.Index(counts.columns).str.split('_').str[0] + '_' + pd.Series(range(len(counts.columns))).astype(str)\n",
    "    \n",
    "    # Create the DESeqDataSet object\n",
    "    dds = DeseqDataSet(\n",
    "        counts=counts,\n",
    "        metadata=metadata,\n",
    "        design_factors=design_factors,\n",
    "    )\n",
    "    \n",
    "    # Run the differential expression analysis\n",
    "    dds.deseq2()\n",
    "    \n",
    "    # Get the results\n",
    "    stats = DeseqStats(dds)\n",
    "    stats.summary()\n",
    "    results = stats.results_df\n",
    "    \n",
    "    return results\n"
   ]
  },
  {
   "cell_type": "code",
   "execution_count": 49,
   "metadata": {},
   "outputs": [],
   "source": [
    "# cast expression to int\n",
    "gene_expression_int = gene_expression.iloc[:,2:].round().astype(int)\n",
    "#gene_expression_int\n",
    "\n",
    "softLabel_metadata = softLabel_metadata.sort_index()\n",
    "gene_expression_int = gene_expression_int.sort_index()"
   ]
  },
  {
   "cell_type": "code",
   "execution_count": 50,
   "metadata": {},
   "outputs": [
    {
     "name": "stdout",
     "output_type": "stream",
     "text": [
      "True\n"
     ]
    }
   ],
   "source": [
    "print(gene_expression_int.index.equals(softLabel_metadata.index))  # Should return True\n"
   ]
  },
  {
   "cell_type": "code",
   "execution_count": 51,
   "metadata": {},
   "outputs": [
    {
     "name": "stdout",
     "output_type": "stream",
     "text": [
      "0\n",
      "0\n"
     ]
    }
   ],
   "source": [
    "# Check for duplicate indices in counts dataframe\n",
    "print(gene_expression_int.index.duplicated().sum())\n",
    "\n",
    "# Check for duplicate indices in metadata dataframe\n",
    "print(softLabel_metadata.index.duplicated().sum())\n"
   ]
  },
  {
   "cell_type": "code",
   "execution_count": 52,
   "metadata": {},
   "outputs": [
    {
     "name": "stdout",
     "output_type": "stream",
     "text": [
      "Data Validation Report:\n",
      "--------------------------------------------------\n",
      "Counts matrix shape: (857, 19962)\n",
      "Metadata shape: (857, 40)\n",
      "\n",
      "Index Analysis:\n",
      "Counts index is unique: True\n",
      "Metadata index is unique: True\n",
      "\n",
      "Number of matching indices: 857\n",
      "Expected number of samples: 857\n",
      "\n",
      "Design factor 'HRD_status_base' distribution:\n",
      "HRD_status_base\n",
      "HR     652\n",
      "HRD    205\n",
      "Name: count, dtype: int64\n",
      "\n",
      "Number of zero-variance genes: 2166\n"
     ]
    }
   ],
   "source": [
    "# First, let's do a comprehensive data check\n",
    "def check_deseq2_data(counts_df, metadata_df, design_factor):\n",
    "    print(\"Data Validation Report:\")\n",
    "    print(\"-\" * 50)\n",
    "    \n",
    "    # Check basic dimensions\n",
    "    print(f\"Counts matrix shape: {counts_df.shape}\")\n",
    "    print(f\"Metadata shape: {metadata_df.shape}\")\n",
    "    \n",
    "    # Check indices\n",
    "    print(\"\\nIndex Analysis:\")\n",
    "    print(f\"Counts index is unique: {counts_df.index.is_unique}\")\n",
    "    print(f\"Metadata index is unique: {metadata_df.index.is_unique}\")\n",
    "    \n",
    "    # Check for index overlap\n",
    "    common_indices = counts_df.index.intersection(metadata_df.index)\n",
    "    print(f\"\\nNumber of matching indices: {len(common_indices)}\")\n",
    "    print(f\"Expected number of samples: {len(metadata_df)}\")\n",
    "    \n",
    "    # Check design factor\n",
    "    print(f\"\\nDesign factor '{design_factor}' distribution:\")\n",
    "    print(metadata_df[design_factor].value_counts())\n",
    "    \n",
    "    # Check for any zero-variance genes\n",
    "    zero_var_genes = (counts_df == 0).all()\n",
    "    print(f\"\\nNumber of zero-variance genes: {zero_var_genes.sum()}\")\n",
    "    \n",
    "    return common_indices\n",
    "\n",
    "# Run the checks\n",
    "common_idx = check_deseq2_data(gene_expression_int, softLabel_metadata, 'HRD_status_base')\n",
    "\n",
    "# Prepare the data ensuring perfect alignment\n",
    "def prepare_deseq2_data(counts_df, metadata_df, common_indices):\n",
    "    # Subset both dataframes to common indices\n",
    "    counts_aligned = counts_df.loc[common_indices]\n",
    "    metadata_aligned = metadata_df.loc[common_indices]\n",
    "    \n",
    "    # Verify alignment\n",
    "    assert counts_aligned.index.equals(metadata_aligned.index), \"Indices not aligned\"\n",
    "    assert counts_aligned.index.is_unique, \"Duplicate indices present\"\n",
    "    \n",
    "    return counts_aligned, metadata_aligned\n",
    "\n",
    "# Prepare aligned data\n",
    "gene_expression_aligned, softLabel_metadata_aligned = prepare_deseq2_data(\n",
    "    gene_expression_int, \n",
    "    softLabel_metadata,\n",
    "    common_idx\n",
    ")"
   ]
  },
  {
   "cell_type": "code",
   "execution_count": 53,
   "metadata": {},
   "outputs": [
    {
     "name": "stderr",
     "output_type": "stream",
     "text": [
      "/var/folders/tx/vgccmrkj1fz1zv99j496_3k80000gn/T/ipykernel_23962/4064001399.py:7: UserWarning: Same factor names in the design contain underscores ('_'). They will\n",
      "                be converted to hyphens ('-').\n",
      "  dds = DeseqDataSet(\n",
      "Fitting size factors...\n",
      "... done in 0.30 seconds.\n",
      "\n",
      "Fitting dispersions...\n",
      "... done in 2.77 seconds.\n",
      "\n",
      "Fitting dispersion trend curve...\n",
      "... done in 0.25 seconds.\n",
      "\n",
      "Fitting MAP dispersions...\n",
      "... done in 3.83 seconds.\n",
      "\n",
      "Fitting LFCs...\n",
      "... done in 1.34 seconds.\n",
      "\n",
      "Calculating cook's distance...\n",
      "... done in 1.27 seconds.\n",
      "\n",
      "Replacing 747 outlier genes.\n",
      "\n",
      "Fitting dispersions...\n",
      "... done in 0.23 seconds.\n",
      "\n",
      "Fitting MAP dispersions...\n",
      "... done in 0.14 seconds.\n",
      "\n",
      "Fitting LFCs...\n",
      "... done in 0.09 seconds.\n",
      "\n",
      "Running Wald tests...\n"
     ]
    },
    {
     "name": "stdout",
     "output_type": "stream",
     "text": [
      "Log2 fold change & Wald test p-value: HRD-status-base HRD vs HR\n",
      "                   baseMean  log2FoldChange     lfcSE      stat        pvalue  \\\n",
      "TSPAN6_0          12.265658        0.088258  0.078558  1.123469  2.612382e-01   \n",
      "TNMD_1             0.375812       -0.555440  0.340749 -1.630057  1.030895e-01   \n",
      "DPM1_2            36.942920        0.378305  0.044770  8.449978  2.913575e-17   \n",
      "SCYL3_3            4.385599       -0.295746  0.058748 -5.034134  4.800128e-07   \n",
      "C1orf112_4         2.313620        0.543328  0.070702  7.684798  1.532388e-14   \n",
      "...                     ...             ...       ...       ...           ...   \n",
      "AL451106.1_19957   0.000000             NaN       NaN       NaN           NaN   \n",
      "AC008763.4_19958   0.000000             NaN       NaN       NaN           NaN   \n",
      "AC006486.3_19959   0.000000             NaN       NaN       NaN           NaN   \n",
      "AL391628.1_19960   0.000000             NaN       NaN       NaN           NaN   \n",
      "AP006621.6_19961   0.221629       -0.234714  0.297013 -0.790248  4.293832e-01   \n",
      "\n",
      "                          padj  \n",
      "TSPAN6_0          3.515869e-01  \n",
      "TNMD_1            1.553648e-01  \n",
      "DPM1_2            3.085527e-16  \n",
      "SCYL3_3           1.658753e-06  \n",
      "C1orf112_4        1.217123e-13  \n",
      "...                        ...  \n",
      "AL451106.1_19957           NaN  \n",
      "AC008763.4_19958           NaN  \n",
      "AC006486.3_19959           NaN  \n",
      "AL391628.1_19960           NaN  \n",
      "AP006621.6_19961  5.330706e-01  \n",
      "\n",
      "[19962 rows x 6 columns]\n"
     ]
    },
    {
     "name": "stderr",
     "output_type": "stream",
     "text": [
      "... done in 0.76 seconds.\n",
      "\n"
     ]
    }
   ],
   "source": [
    "basic = runDESeq2(gene_expression_aligned, softLabel_metadata_aligned, 'HRD_status_base')"
   ]
  },
  {
   "cell_type": "code",
   "execution_count": 54,
   "metadata": {},
   "outputs": [],
   "source": [
    "basic_filt = basic[basic[\"padj\"] <= 0.01]"
   ]
  },
  {
   "cell_type": "code",
   "execution_count": 55,
   "metadata": {},
   "outputs": [
    {
     "data": {
      "text/plain": [
       "(8071, 6)"
      ]
     },
     "execution_count": 55,
     "metadata": {},
     "output_type": "execute_result"
    }
   ],
   "source": [
    "basic_filt.shape"
   ]
  },
  {
   "cell_type": "markdown",
   "metadata": {},
   "source": [
    "# Getting top 2% og Protein coding genes"
   ]
  },
  {
   "cell_type": "code",
   "execution_count": 56,
   "metadata": {},
   "outputs": [],
   "source": [
    "# Assuming `df` is your DataFrame where rows are samples and columns are genes\n",
    "\n",
    "# Calculate the mean expression for each gene\n",
    "mean_expression = gene_expression_int.mean()\n",
    "\n",
    "# Sort the genes by their mean expression in descending order\n",
    "sorted_genes = mean_expression.sort_values(ascending=False)\n",
    "\n",
    "# Get the number of genes to keep (top 2%)\n",
    "num_genes_to_keep = int(0.02 * len(sorted_genes))\n",
    "\n",
    "# Get the top 2% of genes based on mean expression\n",
    "top_2_percent_genes = sorted_genes.head(num_genes_to_keep).index\n",
    "\n",
    "# Filter the DataFrame to keep only the top 2% genes\n",
    "filtered_df_tp2_percent = gene_expression_int[top_2_percent_genes]\n",
    "\n",
    "# Print the filtered DataFrame\n",
    "#print(filtered_df_tp2_percent)"
   ]
  },
  {
   "cell_type": "markdown",
   "metadata": {},
   "source": [
    "# Overlap DESeq2 genes with RNA seq"
   ]
  },
  {
   "cell_type": "code",
   "execution_count": 57,
   "metadata": {},
   "outputs": [
    {
     "data": {
      "text/plain": [
       "8071"
      ]
     },
     "execution_count": 57,
     "metadata": {},
     "output_type": "execute_result"
    }
   ],
   "source": [
    "de_genes = [gene.split('_')[0] for gene in basic_filt.index]\n",
    "len(de_genes)"
   ]
  },
  {
   "cell_type": "code",
   "execution_count": 58,
   "metadata": {},
   "outputs": [],
   "source": [
    "common_de_genes = gene_expression_int.loc[:, gene_expression_int.columns.isin(de_genes)]\n"
   ]
  },
  {
   "cell_type": "code",
   "execution_count": 87,
   "metadata": {},
   "outputs": [],
   "source": [
    "import numpy as np\n",
    "import pandas as pd\n",
    "from sklearn.model_selection import train_test_split\n",
    "from sklearn.preprocessing import StandardScaler, LabelEncoder\n",
    "from sklearn.linear_model import LogisticRegression\n",
    "from sklearn.metrics import roc_curve, auc, confusion_matrix, classification_report\n",
    "import matplotlib.pyplot as plt\n",
    "\n",
    "def preprocess_data(X, y):\n",
    "    \"\"\"\n",
    "    Preprocess data for classification with label encoding and scaling.\n",
    "    Parameters:\n",
    "    X: Feature matrix (RNA-seq data)\n",
    "    y: Target vector (HRD status)\n",
    "    \"\"\"\n",
    "    # Encode categorical labels\n",
    "    le = LabelEncoder()\n",
    "    y = le.fit_transform(y)\n",
    "    \n",
    "    # Split data\n",
    "    X_train, X_test, y_train, y_test = train_test_split(X, y, test_size=0.2, random_state=42)\n",
    "    \n",
    "    # Scale features\n",
    "    scaler = StandardScaler()\n",
    "    X_train_scaled = scaler.fit_transform(X_train)\n",
    "    X_test_scaled = scaler.transform(X_test)\n",
    "    \n",
    "    return X_train_scaled, X_test_scaled, y_train, y_test\n",
    "\n",
    "def train_evaluate_elastic_net(X_train, X_test, y_train, y_test):\n",
    "    \"\"\"\n",
    "    Train and evaluate Elastic Net model for HRD classification.\n",
    "    \"\"\"\n",
    "    # Initialize and train model\n",
    "    model = LogisticRegression(penalty='elasticnet', solver='saga',\n",
    "                             l1_ratio=0.5, max_iter=1000)\n",
    "    model.fit(X_train, y_train)\n",
    "    \n",
    "    # Get predictions\n",
    "    y_pred_proba = model.predict_proba(X_test)[:, 1]\n",
    "    y_pred = model.predict(X_test)\n",
    "    \n",
    "    # Calculate metrics\n",
    "    fpr, tpr, _ = roc_curve(y_test, y_pred_proba)\n",
    "    roc_auc = auc(fpr, tpr)\n",
    "    \n",
    "    # Plot ROC curve\n",
    "    plt.figure(figsize=(8, 6))\n",
    "    plt.plot(fpr, tpr, label=f'Elastic Net (AUC = {roc_auc:.2f})')\n",
    "    plt.plot([0, 1], [0, 1], 'k--')\n",
    "    plt.xlim([0.0, 1.0])\n",
    "    plt.ylim([0.0, 1.05])\n",
    "    plt.xlabel('False Positive Rate')\n",
    "    plt.ylabel('True Positive Rate')\n",
    "    plt.title('ROC Curve for HRD Classification')\n",
    "    plt.legend(loc=\"lower right\")\n",
    "    plt.show()\n",
    "    \n",
    "    return {\n",
    "        'AUC': roc_auc,\n",
    "        'Confusion Matrix': confusion_matrix(y_test, y_pred),\n",
    "        'Classification Report': classification_report(y_test, y_pred),\n",
    "        'Model': model\n",
    "    }\n",
    "\n",
    "def get_top_features(model, feature_names, n_features):\n",
    "    \"\"\"\n",
    "    Extract top features based on absolute coefficient values.\n",
    "    \n",
    "    Parameters:\n",
    "    model: Trained model object\n",
    "    feature_names: List/array of feature names\n",
    "    n_features: Number of top features to return\n",
    "    \n",
    "    Returns:\n",
    "    List of top feature names\n",
    "    \"\"\"\n",
    "    coefficients = model.coef_[0]  # Get coefficients from the model\n",
    "    absolute_coefficients = np.abs(coefficients)\n",
    "    top_indices = np.argsort(absolute_coefficients)[-n_features:]\n",
    "    top_features = feature_names[top_indices]\n",
    "    return list(top_features)\n",
    "\n",
    "def main(gene_df, hrd_status, n_features):\n",
    "    \"\"\"\n",
    "    Main function to run HRD classification using Elastic Net.\n",
    "    Parameters:\n",
    "    gene_df: DataFrame with gene expression data\n",
    "    hrd_status: Series with HRD status labels\n",
    "    \"\"\"\n",
    "    # Preprocess data\n",
    "    X_train, X_test, y_train, y_test = preprocess_data(\n",
    "        gene_df, hrd_status\n",
    "    )\n",
    "    \n",
    "    # Train and evaluate model\n",
    "    results = train_evaluate_elastic_net(X_train, X_test, y_train, y_test)\n",
    "    \n",
    "    # Print results\n",
    "    print(\"\\nElastic Net Classification Results:\")\n",
    "    print(f\"AUC: {results['AUC']:.3f}\")\n",
    "    print(\"\\nClassification Report:\")\n",
    "    print(results['Classification Report'])\n",
    "    print(\"\\nConfusion Matrix:\")\n",
    "    print(results['Confusion Matrix'])\n",
    "    \n",
    "    # Get top features\n",
    "    top_features = get_top_features(results['Model'], gene_df.columns, n_features)\n",
    "    print(\"\\nTop \" + str(n_features) + \" predictive genes:\")\n",
    "    print(top_features)\n",
    "    \n",
    "    return results, top_features\n"
   ]
  },
  {
   "cell_type": "code",
   "execution_count": 88,
   "metadata": {},
   "outputs": [
    {
     "name": "stderr",
     "output_type": "stream",
     "text": [
      "/opt/homebrew/Caskroom/miniconda/base/envs/hrdclas/lib/python3.12/site-packages/sklearn/linear_model/_sag.py:349: ConvergenceWarning: The max_iter was reached which means the coef_ did not converge\n",
      "  warnings.warn(\n"
     ]
    },
    {
     "data": {
      "image/png": "[encoded data removed]",
      "text/plain": [
       "<Figure size 800x600 with 1 Axes>"
      ]
     },
     "metadata": {},
     "output_type": "display_data"
    },
    {
     "name": "stdout",
     "output_type": "stream",
     "text": [
      "\n",
      "Elastic Net Classification Results:\n",
      "AUC: 0.874\n",
      "\n",
      "Classification Report:\n",
      "              precision    recall  f1-score   support\n",
      "\n",
      "           0       0.89      0.93      0.91       132\n",
      "           1       0.74      0.62      0.68        40\n",
      "\n",
      "    accuracy                           0.86       172\n",
      "   macro avg       0.81      0.78      0.79       172\n",
      "weighted avg       0.86      0.86      0.86       172\n",
      "\n",
      "\n",
      "Confusion Matrix:\n",
      "[[123   9]\n",
      " [ 15  25]]\n",
      "\n",
      "Top 500 predictive genes:\n",
      "['NOP10', 'CSDE1', 'COX6C', 'YWHAQ', 'SFRP2', 'IGFBP5', 'SLC25A6', 'SET', 'MMP2', 'RPL11', 'NDUFB11', 'TIMP3', 'GDI2', 'AGR2', 'CSN2', 'GSTP1', 'RPS13', 'RPL18A', 'LGALS1', 'SNRPD2', 'BANF1', 'HLA-DRB1', 'BGN', 'ERH', 'IGFBP4', 'RPL24', 'SLC40A1', 'LAPTM4A', 'S100A14', 'PCNA', 'PSME1', 'NDUFA1', 'RPL13', 'KRT8', 'COX8A', 'HNRNPF', 'BTG2', 'RPL41', 'MMP14', 'CALML5', 'CHCHD2', 'PTGES3', 'BST2', 'UBA52', 'RPL5', 'JUP', 'RPL4', 'RPS16', 'RPN1', 'RPL10', 'POSTN', 'CAPNS1', 'CLEC3A', 'ILF2', 'S100A10', 'RPL34', 'CTSB', 'RPL27', 'MDK', 'TOMM20', 'H1-0', 'S100A8', 'NDUFB10', 'AEBP1', 'SCGB1D2', 'ATP5F1C', 'PSMB3', 'ELOB', 'CARTPT', 'ACTR2', 'DSTN', 'APOE', 'SCGB2A2', 'COL6A1', 'SLC39A7', 'HTRA1', 'ATP6V1F', 'RPS12', 'LAPTM4B', 'ZFP36L1', 'MT-ND6', 'RPS7', 'FTL', 'TMSB10', 'MT-ND2', 'MT-ND1', 'RPL31', 'VDAC1', 'MT-ND4', 'GNAS', 'RPS9', 'FASN', 'EEF2', 'RPS28', 'HLA-C', 'POLR2L', 'EEF1B2', 'RPL13A', 'ACTN4', 'RPL23', 'EDF1', 'SLC9A3R1', 'EIF1', 'HLA-DRB5', 'PSMB4', 'PARK7', 'TPI1', 'APH1A', 'PSAP', 'RPLP1', 'AGR3', 'TSPAN13', 'MYL6', 'RPS14', 'ERBB2', 'RPS2', 'RPLP2', 'CLIC1', 'YWHAZ', 'SEC61A1', 'PPDPF', 'RPL28', 'HSP90AA1', 'HSPB1', 'EPCAM', 'HLA-DRA', 'RAC1', 'APMAP', 'MRFAP1', 'UBC', 'SPDEF', 'EIF4G2', 'HLA-B', 'S100A4', 'MUC1', 'CD74', 'HSPA5', 'RPL21', 'MT-ND3', 'SNRPB', 'KRT19', 'CRABP2', 'SDC1', 'LGALS3', 'CD24', 'WFDC2', 'CANX', 'LY6E', 'ATP6V0E1', 'TACSTD2', 'MT-CO1', 'TMED10', 'GRINA', 'RACK1', 'RPS5', 'PIP', 'NDUFS5', 'EEF1A1', 'SERINC1', 'YWHAE', 'LUM', 'VAMP8', 'IGFBP7', 'CHMP4B', 'A2M', 'BSG', 'RPS3', 'DDOST', 'C1QA', 'MAGED2', 'CALM2', 'GPX4', 'HSP90B1', 'PTTG1IP', 'SURF4', 'CFL1', 'S100P', 'XRCC6', 'TM4SF1', 'ARHGDIB', 'SPARC', 'PEBP1', 'RPS27', 'CNBP', 'RPL8', 'MYH9', 'APOD', 'COL6A2', 'S100A11', 'MYL12B', 'SH3BGRL3', 'RPL10A', 'ATP5F1B', 'CDH1', 'TRIM28', 'RPL38', 'PEA15', 'RNASE1', 'TMED2', 'UBB', 'B2M', 'MT-CO3', 'C1QC', 'TFF3', 'SLC25A5', 'S100A16', 'RPN2', 'RPSA', 'MT-ATP8', 'ENO1', 'RPL6', 'OST4', 'FAU', 'KDELR2', 'MGP', 'KRT18', 'NCL', 'PGRMC1', 'S100A6', 'GJA1', 'FDCSP', 'STC2', 'TAGLN2', 'MUCL1', 'GHITM', 'GLO1', 'MAL2', 'RPS24', 'ECHS1', 'DCD', 'CCN2', 'TUBB', 'ACTB', 'PRDX1', 'SH3BGRL', 'MMP11', 'RPS11', 'ISG15', 'TMSB4X', 'ATF4', 'S100A9', 'RPL7A', 'LTF', 'TIMP1', 'PLAAT4', 'RPL18', 'TMBIM6', 'SOD1', 'SLPI', 'COL1A2', 'RPS15', 'ARL6IP1', 'RPL19', 'MT-ND5', 'VIM', 'JCHAIN', 'MT-CO2', 'COX7C', 'HNRNPA1', 'SAT1', 'RPS8', 'ARF4', 'H3-3B', 'RPS20', 'COL1A1', 'APP', 'PKM', 'SARAF', 'GATA3', 'CTSZ', 'APLP2', 'EIF5A', 'RPL9', 'PFN1', 'SPP1', 'NUCKS1', 'TPT1', 'HLA-E', 'C6orf62', 'RPS6', 'AZGP1', 'HNRNPK', 'EZR', 'SLC39A6', 'PPT1', 'RPS18', 'C1orf43', 'RPL3', 'MARCKSL1', 'PFDN2', 'LDHA', 'PRDX5', 'HSP90AB1', 'PGK1', 'CCND1', 'YBX1', 'RPL12', 'HLA-A', 'ANXA5', 'MT2A', 'TUBB4B', 'IFI6', 'FN1', 'LMAN2', 'COL3A1', 'TXNIP', 'DNAJA1', 'PRDX6', 'PTMA', 'CAPG', 'RPL37A', 'DAD1', 'RPS19', 'GANAB', 'C1QB', 'ARF1', 'RPL35', 'CALR', 'TRMT112', 'RPS21', 'MT-ATP6', 'SRP9', 'STOM', 'KDELR1', 'HDGF', 'RPL27A', 'PSMA7', 'GLUL', 'KRT7', 'MT-ND4L', 'TXN', 'TFF1', 'CTSD', 'DSP', 'OAZ1', 'IDH2', 'HSD17B10', 'XBP1', 'COX6B1', 'GNB2', 'MORF4L2', 'CLU', 'TUFM', 'ACTG1', 'RPL36', 'SDC4', 'LGALS3BP', 'GRN', 'MT-CYB', 'PDIA4', 'PTMS', 'RPLP0', 'GAPDH', 'RHOA', 'BHLHE40', 'PDIA3', 'EFHD1', 'SLC25A6', 'IFITM1', 'RPL15', 'MYL9', 'RPL36AL', 'RPS3A', 'APEX1', 'CCT3', 'CXCL14', 'RPS4X', 'SF3B5', 'RPS25', 'IFITM3', 'CAP1', 'HSPA8', 'CD63', 'RPL29', 'GPX1', 'S100A7', 'H1-2', 'RPL35A', 'PABPC1', 'RPL7', 'NDUFB7', 'RPL32', 'FLNA', 'ANP32B', 'BRK1', 'JUND', 'SCD', 'CCNI', 'DHCR24', 'CPB1', 'SRP14', 'TBC1D9', 'ELOVL5', 'RPS27A', 'CST3', 'RHOB', 'BCAP31', 'P4HB', 'EIF2S3', 'BTF3']\n"
     ]
    }
   ],
   "source": [
    "\n",
    "results_tp, top_genes_tp = main(filtered_df_tp2_percent, softLabel_metadata['HRD_status_base'], n_features=500)"
   ]
  },
  {
   "cell_type": "code",
   "execution_count": 89,
   "metadata": {},
   "outputs": [
    {
     "name": "stderr",
     "output_type": "stream",
     "text": [
      "/opt/homebrew/Caskroom/miniconda/base/envs/hrdclas/lib/python3.12/site-packages/sklearn/linear_model/_sag.py:349: ConvergenceWarning: The max_iter was reached which means the coef_ did not converge\n",
      "  warnings.warn(\n"
     ]
    },
    {
     "data": {
      "image/png": "[encoded data removed]",
      "text/plain": [
       "<Figure size 800x600 with 1 Axes>"
      ]
     },
     "metadata": {},
     "output_type": "display_data"
    },
    {
     "name": "stdout",
     "output_type": "stream",
     "text": [
      "\n",
      "Elastic Net Classification Results:\n",
      "AUC: 0.963\n",
      "\n",
      "Classification Report:\n",
      "              precision    recall  f1-score   support\n",
      "\n",
      "           0       0.95      0.92      0.93       132\n",
      "           1       0.77      0.82      0.80        40\n",
      "\n",
      "    accuracy                           0.90       172\n",
      "   macro avg       0.86      0.87      0.87       172\n",
      "weighted avg       0.90      0.90      0.90       172\n",
      "\n",
      "\n",
      "Confusion Matrix:\n",
      "[[122  10]\n",
      " [  7  33]]\n",
      "\n",
      "Top 500 predictive genes:\n",
      "['NDUFAF6', 'CST9', 'TEX9', 'CNOT6L', 'PYCR1', 'ASCC2', 'ESYT1', 'SPAAR', 'ADK', 'R3HDM4', 'ACSS3', 'NR1D1', 'CDIN1', 'FES', 'ZNF561', 'PTDSS2', 'UGT2B15', 'XPNPEP1', 'ACTL6A', 'NPC1', 'LDLRAD4', 'CLSTN1', 'HABP4', 'RBM15B', 'TLX1', 'YARS1', 'ABTB2', 'IQCG', 'TENT5C', 'DHX36', 'PRR15', 'LNP1', 'CHI3L2', 'SDR16C5', 'EEF1AKMT1', 'BID', 'VGLL1', 'BCAS1', 'LRRC4', 'OBP2B', 'TRAK1', 'IPO5', 'CLEC12A', 'NMB', 'OTX1', 'KIF7', 'IL17RB', 'GAR1', 'PTEN', 'CDC42', 'SEPTIN4', 'TFAP2C', 'CLEC7A', 'TAF4', 'ABCB7', 'PLRG1', 'EIF4EBP1', 'CDC37L1', 'GPC4', 'GCSAM', 'RPUSD3', 'PTCH1', 'KLHDC8A', 'CISH', 'DDAH2', 'CD276', 'FAM168B', 'IGDCC3', 'TMEM79', 'ARHGEF39', 'ATP6V0A4', 'DAP', 'PRKCA', 'GOLGA8B', 'H3C2', 'EBP', 'MTHFD1', 'PTPN20', 'CLPB', 'SBSPON', 'NDUFA8', 'MLF1', 'CRTAC1', 'VPS54', 'DZIP1', 'RCCD1', 'WDR45B', 'MLLT11', 'RIPK1', 'SOX9', 'OXGR1', 'OR2B6', 'EMC9', 'C3orf70', 'TMEM14C', 'PDXK', 'CILK1', 'CD38', 'LSS', 'GPR75', 'CCT6B', 'FBXO27', 'MED10', 'NRBF2', 'ALDH9A1', 'SV2A', 'BLACAT1', 'PCDHB2', 'ELOC', 'SLC9A6', 'BCAT1', 'EDC3', 'AP1M1', 'PLEKHA8', 'ITPRID2', 'GAS2L1', 'VRK1', 'SCN4B', 'NACAD', 'SPAG6', 'SRD5A3', 'ZNF619', 'MYO6', 'KLHDC7B', 'GCNT1', 'KLK10', 'TMEM8B', 'FAM3D', 'DGKZ', 'DPP9', 'EIF4A3', 'IFT88', 'POLR2K', 'RHBDF2', 'PIAS3', 'CXCL9', 'SERPINE2', 'SCAP', 'FRAT2', 'TMEM70', 'ZBED6CL', 'FGFBP1', 'EIF5A2', 'ACTG1', 'TPGS1', 'TMPRSS5', 'RIOX1', 'PDE7A', 'BCL2L14', 'ESCO1', 'KIAA1586', 'MLLT3', 'MAPK14', 'PRKDC', 'MAP3K8', 'SYBU', 'ZNF597', 'FMO3', 'NDUFB3', 'CD109', 'GATA6', 'UBE2V2', 'CLGN', 'IDH1', 'FJX1', 'USP13', 'MKRN2OS', 'CDIP1', 'LIPA', 'COL4A4', 'PABPC1', 'MTMR12', 'SGO1', 'TIPRL', 'RIC8A', 'CAPN6', 'ICE1', 'MAIP1', 'TDP2', 'PLPPR3', 'PCNT', 'CYP4Z1', 'MRPL18', 'FAM120B', 'DOC2B', 'WNT5B', 'ELOVL5', 'CYP27C1', 'RFLNA', 'LRRK1', 'FRG1', 'CMTR1', 'TMEM14B', 'RHPN2', 'RPTOR', 'FAM180A', 'AZU1', 'ZNRF1', 'FNTA', 'PCDHB10', 'RASGEF1B', 'TMEM181', 'KLHL9', 'PGLYRP2', 'ALG5', 'CTNNBIP1', 'ADH1C', 'CP', 'DUSP8', 'SOAT1', 'ZNF655', 'FTSJ1', 'CASP3', 'FOXK2', 'SMR3B', 'SUMO1', 'MCUB', 'CHMP6', 'SLC7A4', 'KLK14', 'SEC13', 'RBM38', 'PPM1H', 'ARL9', 'PPP2R2A', 'ASB7', 'GSTA1', 'SELENOS', 'DIO2', 'TGIF2', 'ATIC', 'PNMA3', 'LDLRAD1', 'ZNF837', 'KCNJ3', 'FANCI', 'ASAP3', 'DNAJC28', 'LTBP1', 'PROSER2', 'SF3A3', 'AK5', 'EXOC2', 'LRRC28', 'SEC11A', 'RHOA', 'ACAT2', 'NSUN5', 'CCDC87', 'CHST6', 'PPCS', 'RNF212', 'LARP6', 'SS18', 'CRYAB', 'LAMB3', 'MYRIP', 'METTL27', 'TICRR', 'ZNF136', 'GNA14', 'HBB', 'KBTBD2', 'C3orf52', 'NT5DC2', 'MAK16', 'EGFL6', 'PFN2', 'TMEM158', 'MANF', 'DOCK3', 'S100A3', 'TFCP2', 'DMPK', 'INAVA', 'E2F8', 'VEGFA', 'DPH3', 'FOXO1', 'FAHD2A', 'MAP3K21', 'GPKOW', 'GMDS', 'CLCN5', 'RFC5', 'SERHL2', 'FAM98A', 'MYO10', 'NAT10', 'SIX3', 'FBXL7', 'ZNF507', 'AACS', 'FOXC2', 'COL11A2', 'ARPC4', 'ZNF354A', 'RNF145', 'BET1L', 'C6orf120', 'MRPS23', 'GLS', 'HOMER3', 'SYNM', 'TAF8', 'BICD1', 'SLC25A13', 'MTCH1', 'CSPG4', 'GGCT', 'CEACAM6', 'AKIRIN1', 'DENND3', 'HSPB8', 'HAUS6', 'SHROOM3', 'HAUS5', 'TTC13', 'CEACAM5', 'TESK1', 'USP4', 'TBC1D22B', 'CXorf56', 'RAD51', 'RRBP1', 'CCDC163', 'ZNF438', 'CTSV', 'HTR1D', 'UPP1', 'RYR1', 'ZNF280B', 'B3GNT5', 'TSN', 'RET', 'MGAT4B', 'MEX3A', 'APOBEC3B', 'GNL2', 'HTATSF1', 'WASF3', 'DCAF7', 'SYTL2', 'ZMIZ2', 'H4C8', 'TPPP3', 'IFT22', 'CCL3L3', 'RTN4RL2', 'CCL28', 'TMEM86B', 'PSAT1', 'GEM', 'RDH10', 'DERA', 'GNL3L', 'OSGIN2', 'EIF3F', 'TF', 'SMAD1', 'SLC35F3', 'POLR3D', 'GPR108', 'ZNF44', 'BMI1', 'PLOD2', 'SETD5', 'ELOVL4', 'CHST3', 'LANCL2', 'ZDHHC5', 'GTDC1', 'RSPO1', 'RENBP', 'EPN2', 'SMTNL1', 'PLD2', 'C1QL1', 'DNER', 'PLEKHG4B', 'RASSF1', 'RBP5', 'OXNAD1', 'FBXO25', 'CAPS', 'ZNF592', 'ESYT3', 'RPS3A', 'NAP1L4', 'SPAG8', 'TMEM150C', 'SYK', 'SOX12', 'RRAD', 'PIM2', 'THRB', 'H2BC12', 'MEF2A', 'AKIRIN2', 'BEND7', 'NETO2', 'GARS1', 'POPDC3', 'WNT6', 'KIF16B', 'NUP54', 'APBA2', 'MESP2', 'WIPF3', 'MRPL15', 'MFGE8', 'USO1', 'VPS26B', 'B4GALNT1', 'DYNC1I1', 'DMRT3', 'RHBDL1', 'NOTCH3', 'TRNT1', 'TSPAN2', 'TMX2', 'VWA5A', 'MMGT1', 'ETV6', 'KDM5B', 'STK38L', 'PLAGL2', 'CLDN1', 'ABHD6', 'FRMD3', 'KIAA1328', 'DCBLD1', 'ALX4', 'CBX8', 'POU5F1', 'EGFR', 'MINPP1', 'ALYREF', 'SCGB3A1', 'TCP1', 'TFRC', 'ALDH1B1', 'CSAG3', 'RAF1', 'POLG', 'SLC6A17', 'SNX22', 'C5orf34', 'PCDHGB7', 'MAGEA12', 'MRPS11', 'GRHL1', 'ATAD1', 'CLDN23', 'TRO', 'FAM219A', 'RRS1', 'STRAP', 'MAFG', 'APIP', 'LAMC2', 'PRUNE2', 'ENTPD2', 'RNF122', 'SYT8', 'G3BP2', 'PACC1', 'C1GALT1C1L', 'CBLC', 'CYP26B1', 'HEATR3', 'LSM3', 'ULBP1', 'CCDC32', 'THRSP', 'MKRN2', 'THUMPD3', 'ADRA2A', 'TSR2', 'PEX11A', 'TCP11L1', 'ERMP1', 'CTDSPL', 'UNC45A', 'LCN2', 'IL12RB2', 'PDHX', 'LYSMD4', 'FNDC4', 'TCF15', 'CSAG1', 'BBOX1', 'NPLOC4', 'GNB4', 'TM2D3', 'ACTL8', 'SPECC1L', 'SDAD1', 'MELTF', 'CT83']\n"
     ]
    }
   ],
   "source": [
    "results_de, top_genes_tp =  main(common_de_genes, softLabel_metadata['HRD_status_base'], n_features=500)"
   ]
  }
 ],
 "metadata": {
  "kernelspec": {
   "display_name": "HRDclass",
   "language": "python",
   "name": "python3"
  },
  "language_info": {
   "codemirror_mode": {
    "name": "ipython",
    "version": 3
   },
   "file_extension": ".py",
   "mimetype": "text/x-python",
   "name": "python",
   "nbconvert_exporter": "python",
   "pygments_lexer": "ipython3",
   "version": "3.12.7"
  }
 },
 "nbformat": 4,
 "nbformat_minor": 2
}
