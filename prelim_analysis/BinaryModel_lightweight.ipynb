{
 "cells": [
  {
   "cell_type": "code",
   "execution_count": 1,
   "metadata": {},
   "outputs": [],
   "source": [
    "import pandas as pd\n",
    "import numpy as np\n",
    "import matplotlib.pyplot as plt\n",
    "import seaborn as sns\n",
    "import sklearn\n",
    "from sklearn.model_selection import train_test_split\n",
    "from sklearn.linear_model import LinearRegression"
   ]
  },
  {
   "cell_type": "markdown",
   "metadata": {},
   "source": [
    "# ***Initial Data import: RNA-seq, HRD scores, BRCA annotations***"
   ]
  },
  {
   "cell_type": "code",
   "execution_count": 88,
   "metadata": {},
   "outputs": [],
   "source": [
    "# Load the FPKM RNA-seq data\n",
    "rnaseq_df = pd.read_csv('../data/tcga.brca.rnaseq.unstranded.fpkm.counts.matrix.txt', sep='\\t', index_col=0)\n",
    "\n",
    "# Load the HRD score data\n",
    "hrd_df = pd.read_excel('../data/tcga.hrdscore.xlsx')\n",
    "\n",
    "# Load the BRCA status data\n",
    "brca_df = pd.read_csv('../data/toga.breast.brca.status.txt', sep='\\t', index_col=0)\n",
    "brca_df.index = brca_df.index.str.replace('.', '-')"
   ]
  },
  {
   "cell_type": "code",
   "execution_count": 89,
   "metadata": {},
   "outputs": [
    {
     "name": "stdout",
     "output_type": "stream",
     "text": [
      "Initial samples in RNA-seq data (n = 1231) \n",
      "\n",
      "Initial samples in TCGA BRCA (n = 992)\n",
      "\n",
      "Initial samples in TCGA HRD (n = 9604)\n",
      "\n",
      "\n"
     ]
    }
   ],
   "source": [
    "print(f\"Initial samples in RNA-seq data (n = {len(rnaseq_df.index)}) \\n\\nInitial samples in TCGA BRCA (n = {len(brca_df.index)})\\n\\nInitial samples in TCGA HRD (n = {len(hrd_df.index)})\\n\\n\")"
   ]
  },
  {
   "cell_type": "markdown",
   "metadata": {},
   "source": [
    "# ***Drop ambiguouse/ mislabled samples***"
   ]
  },
  {
   "cell_type": "code",
   "execution_count": 90,
   "metadata": {},
   "outputs": [
    {
     "data": {
      "text/plain": [
       "(984, 33)"
      ]
     },
     "execution_count": 90,
     "metadata": {},
     "output_type": "execute_result"
    }
   ],
   "source": [
    "# Drop rows where event.BRCA1 is '1' and event.BRCA2 is 'Bi-allelic-undetermined' and where event.PALB2 is '2'\n",
    "brca_filt = brca_df[(brca_df['event.BRCA1'] != '1') & (brca_df['event.BRCA2'] != 'Bi-allelic-undetermined') & (brca_df['event.PALB2'] != '2')]\n",
    "brca_filt.shape"
   ]
  },
  {
   "cell_type": "markdown",
   "metadata": {},
   "source": [
    "# ***Merge metadata***"
   ]
  },
  {
   "cell_type": "code",
   "execution_count": 91,
   "metadata": {},
   "outputs": [
    {
     "name": "stdout",
     "output_type": "stream",
     "text": [
      "(859, 37)\n",
      "Index(['HRD', 'Telomeric AI', 'LST', 'HRD-sum', 'BRCA1_somatic_null',\n",
      "       'BRCA1_germ_bi_allelic', 'BRCA1_germ_mono_allelic', 'BRCA1_deletion',\n",
      "       'BRCA1_epigenetic_silencing', 'BRCA1_mRNA', 'BRCA2_somatic_null',\n",
      "       'BRCA2_germ_bi_allelic', 'BRCA2_germ_undetermined',\n",
      "       'BRCA2_germ_mono_allelic', 'BRCA2_deletion', 'RAD51C_germ',\n",
      "       'RAD51C_deletion', 'RAD51C_epigenetic_silencing', 'RAD51C_mRNA',\n",
      "       'PALB2_somatic_null', 'PALB2_germ', 'TP53_somatic', 'H1', 'H2', 'H3',\n",
      "       'H4', 'H1.norm', 'H2.norm', 'H3.norm', 'H4.norm', 'event.BRCA1',\n",
      "       'event.BRCA2', 'event.RAD51C', 'event.PALB2', 'event.All Events',\n",
      "       'event.PAM50', 'event.TNBC'],\n",
      "      dtype='object')\n"
     ]
    },
    {
     "data": {
      "text/html": [
       "<div>\n",
       "<style scoped>\n",
       "    .dataframe tbody tr th:only-of-type {\n",
       "        vertical-align: middle;\n",
       "    }\n",
       "\n",
       "    .dataframe tbody tr th {\n",
       "        vertical-align: top;\n",
       "    }\n",
       "\n",
       "    .dataframe thead th {\n",
       "        text-align: right;\n",
       "    }\n",
       "</style>\n",
       "<table border=\"1\" class=\"dataframe\">\n",
       "  <thead>\n",
       "    <tr style=\"text-align: right;\">\n",
       "      <th></th>\n",
       "      <th>HRD</th>\n",
       "      <th>Telomeric AI</th>\n",
       "      <th>LST</th>\n",
       "      <th>HRD-sum</th>\n",
       "      <th>BRCA1_somatic_null</th>\n",
       "      <th>BRCA1_germ_bi_allelic</th>\n",
       "      <th>BRCA1_germ_mono_allelic</th>\n",
       "      <th>BRCA1_deletion</th>\n",
       "      <th>BRCA1_epigenetic_silencing</th>\n",
       "      <th>BRCA1_mRNA</th>\n",
       "      <th>...</th>\n",
       "      <th>H2.norm</th>\n",
       "      <th>H3.norm</th>\n",
       "      <th>H4.norm</th>\n",
       "      <th>event.BRCA1</th>\n",
       "      <th>event.BRCA2</th>\n",
       "      <th>event.RAD51C</th>\n",
       "      <th>event.PALB2</th>\n",
       "      <th>event.All Events</th>\n",
       "      <th>event.PAM50</th>\n",
       "      <th>event.TNBC</th>\n",
       "    </tr>\n",
       "    <tr>\n",
       "      <th>sample</th>\n",
       "      <th></th>\n",
       "      <th></th>\n",
       "      <th></th>\n",
       "      <th></th>\n",
       "      <th></th>\n",
       "      <th></th>\n",
       "      <th></th>\n",
       "      <th></th>\n",
       "      <th></th>\n",
       "      <th></th>\n",
       "      <th></th>\n",
       "      <th></th>\n",
       "      <th></th>\n",
       "      <th></th>\n",
       "      <th></th>\n",
       "      <th></th>\n",
       "      <th></th>\n",
       "      <th></th>\n",
       "      <th></th>\n",
       "      <th></th>\n",
       "      <th></th>\n",
       "    </tr>\n",
       "  </thead>\n",
       "  <tbody>\n",
       "    <tr>\n",
       "      <th>TCGA-A1-A0SB</th>\n",
       "      <td>0</td>\n",
       "      <td>0</td>\n",
       "      <td>0</td>\n",
       "      <td>0</td>\n",
       "      <td>0</td>\n",
       "      <td>0</td>\n",
       "      <td>0</td>\n",
       "      <td>0</td>\n",
       "      <td>0</td>\n",
       "      <td>0</td>\n",
       "      <td>...</td>\n",
       "      <td>0.044837</td>\n",
       "      <td>0.635070</td>\n",
       "      <td>0.000000</td>\n",
       "      <td>0</td>\n",
       "      <td>0</td>\n",
       "      <td>0</td>\n",
       "      <td>0</td>\n",
       "      <td>0</td>\n",
       "      <td>NaN</td>\n",
       "      <td>0</td>\n",
       "    </tr>\n",
       "    <tr>\n",
       "      <th>TCGA-A1-A0SD</th>\n",
       "      <td>10</td>\n",
       "      <td>10</td>\n",
       "      <td>7</td>\n",
       "      <td>27</td>\n",
       "      <td>0</td>\n",
       "      <td>0</td>\n",
       "      <td>0</td>\n",
       "      <td>0</td>\n",
       "      <td>0</td>\n",
       "      <td>0</td>\n",
       "      <td>...</td>\n",
       "      <td>0.254169</td>\n",
       "      <td>0.703974</td>\n",
       "      <td>0.041857</td>\n",
       "      <td>0</td>\n",
       "      <td>0</td>\n",
       "      <td>0</td>\n",
       "      <td>0</td>\n",
       "      <td>0</td>\n",
       "      <td>LumA</td>\n",
       "      <td>0</td>\n",
       "    </tr>\n",
       "    <tr>\n",
       "      <th>TCGA-A1-A0SE</th>\n",
       "      <td>6</td>\n",
       "      <td>6</td>\n",
       "      <td>1</td>\n",
       "      <td>13</td>\n",
       "      <td>0</td>\n",
       "      <td>0</td>\n",
       "      <td>0</td>\n",
       "      <td>0</td>\n",
       "      <td>0</td>\n",
       "      <td>0</td>\n",
       "      <td>...</td>\n",
       "      <td>0.102998</td>\n",
       "      <td>0.740053</td>\n",
       "      <td>0.120368</td>\n",
       "      <td>0</td>\n",
       "      <td>0</td>\n",
       "      <td>0</td>\n",
       "      <td>0</td>\n",
       "      <td>0</td>\n",
       "      <td>LumA</td>\n",
       "      <td>0</td>\n",
       "    </tr>\n",
       "    <tr>\n",
       "      <th>TCGA-A1-A0SF</th>\n",
       "      <td>7</td>\n",
       "      <td>11</td>\n",
       "      <td>8</td>\n",
       "      <td>26</td>\n",
       "      <td>0</td>\n",
       "      <td>0</td>\n",
       "      <td>0</td>\n",
       "      <td>0</td>\n",
       "      <td>0</td>\n",
       "      <td>0</td>\n",
       "      <td>...</td>\n",
       "      <td>0.000000</td>\n",
       "      <td>0.395329</td>\n",
       "      <td>0.604671</td>\n",
       "      <td>0</td>\n",
       "      <td>0</td>\n",
       "      <td>0</td>\n",
       "      <td>0</td>\n",
       "      <td>0</td>\n",
       "      <td>LumA</td>\n",
       "      <td>0</td>\n",
       "    </tr>\n",
       "    <tr>\n",
       "      <th>TCGA-A1-A0SG</th>\n",
       "      <td>3</td>\n",
       "      <td>2</td>\n",
       "      <td>4</td>\n",
       "      <td>9</td>\n",
       "      <td>0</td>\n",
       "      <td>0</td>\n",
       "      <td>0</td>\n",
       "      <td>0</td>\n",
       "      <td>0</td>\n",
       "      <td>0</td>\n",
       "      <td>...</td>\n",
       "      <td>0.183277</td>\n",
       "      <td>0.776319</td>\n",
       "      <td>0.040404</td>\n",
       "      <td>0</td>\n",
       "      <td>0</td>\n",
       "      <td>0</td>\n",
       "      <td>0</td>\n",
       "      <td>0</td>\n",
       "      <td>LumA</td>\n",
       "      <td>0</td>\n",
       "    </tr>\n",
       "  </tbody>\n",
       "</table>\n",
       "<p>5 rows × 37 columns</p>\n",
       "</div>"
      ],
      "text/plain": [
       "              HRD  Telomeric AI  LST  HRD-sum BRCA1_somatic_null  \\\n",
       "sample                                                             \n",
       "TCGA-A1-A0SB    0             0    0        0                  0   \n",
       "TCGA-A1-A0SD   10            10    7       27                  0   \n",
       "TCGA-A1-A0SE    6             6    1       13                  0   \n",
       "TCGA-A1-A0SF    7            11    8       26                  0   \n",
       "TCGA-A1-A0SG    3             2    4        9                  0   \n",
       "\n",
       "             BRCA1_germ_bi_allelic BRCA1_germ_mono_allelic BRCA1_deletion  \\\n",
       "sample                                                                      \n",
       "TCGA-A1-A0SB                     0                       0              0   \n",
       "TCGA-A1-A0SD                     0                       0              0   \n",
       "TCGA-A1-A0SE                     0                       0              0   \n",
       "TCGA-A1-A0SF                     0                       0              0   \n",
       "TCGA-A1-A0SG                     0                       0              0   \n",
       "\n",
       "             BRCA1_epigenetic_silencing BRCA1_mRNA  ...   H2.norm   H3.norm  \\\n",
       "sample                                              ...                       \n",
       "TCGA-A1-A0SB                          0          0  ...  0.044837  0.635070   \n",
       "TCGA-A1-A0SD                          0          0  ...  0.254169  0.703974   \n",
       "TCGA-A1-A0SE                          0          0  ...  0.102998  0.740053   \n",
       "TCGA-A1-A0SF                          0          0  ...  0.000000  0.395329   \n",
       "TCGA-A1-A0SG                          0          0  ...  0.183277  0.776319   \n",
       "\n",
       "               H4.norm event.BRCA1 event.BRCA2 event.RAD51C event.PALB2  \\\n",
       "sample                                                                    \n",
       "TCGA-A1-A0SB  0.000000           0           0            0           0   \n",
       "TCGA-A1-A0SD  0.041857           0           0            0           0   \n",
       "TCGA-A1-A0SE  0.120368           0           0            0           0   \n",
       "TCGA-A1-A0SF  0.604671           0           0            0           0   \n",
       "TCGA-A1-A0SG  0.040404           0           0            0           0   \n",
       "\n",
       "             event.All Events event.PAM50 event.TNBC  \n",
       "sample                                                \n",
       "TCGA-A1-A0SB                0         NaN          0  \n",
       "TCGA-A1-A0SD                0        LumA          0  \n",
       "TCGA-A1-A0SE                0        LumA          0  \n",
       "TCGA-A1-A0SF                0        LumA          0  \n",
       "TCGA-A1-A0SG                0        LumA          0  \n",
       "\n",
       "[5 rows x 37 columns]"
      ]
     },
     "execution_count": 91,
     "metadata": {},
     "output_type": "execute_result"
    }
   ],
   "source": [
    "#merge metadata\n",
    "\n",
    "metadata = pd.merge(hrd_df, brca_filt, left_on='sample', right_index=True)\n",
    "metadata.set_index('sample', inplace=True)\n",
    "\n",
    "print (metadata.shape)\n",
    "print(metadata.columns)\n",
    "metadata.head()"
   ]
  },
  {
   "cell_type": "markdown",
   "metadata": {},
   "source": [
    "# Keep Protein coding columns + extracting gene IDs\n",
    "## filter only Primary Tumor Samples"
   ]
  },
  {
   "cell_type": "code",
   "execution_count": 92,
   "metadata": {},
   "outputs": [
    {
     "data": {
      "text/plain": [
       "(1231, 60663)"
      ]
     },
     "execution_count": 92,
     "metadata": {},
     "output_type": "execute_result"
    }
   ],
   "source": [
    "rnaseq_df.shape"
   ]
  },
  {
   "cell_type": "code",
   "execution_count": 93,
   "metadata": {},
   "outputs": [],
   "source": [
    "#filt protein coding only\n",
    "columns_to_keep = ['Case ID', 'Sample ID', 'Sample Type']\n",
    "gene_columns = [col for col in rnaseq_df.columns if col not in columns_to_keep]\n",
    "protein_coding_cols = [col for col in gene_columns if 'protein_coding' in col]\n",
    "final_columns = columns_to_keep + protein_coding_cols\n",
    "pcg_rnaseq_df_filtered = rnaseq_df[final_columns]\n",
    "\n",
    "#filt only primary tumor\n",
    "pcg_rnaseq_df_filtered = pcg_rnaseq_df_filtered[pcg_rnaseq_df_filtered['Sample Type'] == 'Primary Tumor']\n",
    "\n",
    "#Slicing gene names\n",
    "# split 0 for enseble ID, 1 for gene ID\n",
    "sliced_cols = [col.split('|')[1] for col in pcg_rnaseq_df_filtered.columns[3:]]\n",
    "pcg_rnaseq_df_filtered.columns = columns_to_keep+sliced_cols\n",
    "pcg_rnaseq_df_filtered.set_index('Case ID', inplace=True)\n"
   ]
  },
  {
   "cell_type": "code",
   "execution_count": 94,
   "metadata": {},
   "outputs": [
    {
     "data": {
      "text/plain": [
       "(1111, 19964)"
      ]
     },
     "execution_count": 94,
     "metadata": {},
     "output_type": "execute_result"
    }
   ],
   "source": [
    "pcg_rnaseq_df_filtered.shape"
   ]
  },
  {
   "cell_type": "markdown",
   "metadata": {},
   "source": [
    "# ***Get Intersecting samples***"
   ]
  },
  {
   "cell_type": "code",
   "execution_count": 95,
   "metadata": {},
   "outputs": [
    {
     "name": "stdout",
     "output_type": "stream",
     "text": [
      "\n",
      "Number of common samples: 857\n"
     ]
    }
   ],
   "source": [
    "#idenfity the common samples\n",
    "\n",
    "# Extract sample IDs from each dataframe\n",
    "rnaseq_samples = set(pcg_rnaseq_df_filtered.index)\n",
    "metadata_samples = set(metadata.index)\n",
    "\n",
    "# Find the intersection of all sample IDs\n",
    "common_samples = rnaseq_samples.intersection(metadata_samples)\n",
    "\n",
    "# Print the number of common samples\n",
    "print(\"\\nNumber of common samples:\", len(common_samples))"
   ]
  },
  {
   "cell_type": "code",
   "execution_count": 96,
   "metadata": {},
   "outputs": [
    {
     "name": "stdout",
     "output_type": "stream",
     "text": [
      "pcg_rnaseq_df_filtered: (857, 19964)\n",
      "metadata_common: (857, 37)\n"
     ]
    }
   ],
   "source": [
    "# Drop samples that are not common in all three dataframes\n",
    "gene_expression = pcg_rnaseq_df_filtered[pcg_rnaseq_df_filtered.index.isin(common_samples)]\n",
    "labels = metadata[metadata.index.isin(common_samples)]\n",
    "\n",
    "# Print the shapes of the new dataframes\n",
    "print(\"pcg_rnaseq_df_filtered:\", gene_expression.shape)\n",
    "print(\"metadata_common:\", labels.shape)"
   ]
  },
  {
   "cell_type": "markdown",
   "metadata": {},
   "source": [
    "# ***Apply Soft Labels***"
   ]
  },
  {
   "cell_type": "code",
   "execution_count": 97,
   "metadata": {},
   "outputs": [],
   "source": [
    "# Soft label method\n",
    "def softLabel(x, median, HRD_thresh, HRP_thresh):\n",
    "    adjustment = 2 * ((((HRD_thresh - x) / (HRD_thresh - HRP_thresh))) ** 2)\n",
    "    if x < HRP_thresh:\n",
    "        return 0\n",
    "    elif x >= HRD_thresh:\n",
    "        return 1\n",
    "    elif median <= x < HRD_thresh:\n",
    "        return min(adjustment, 1)\n",
    "    elif HRP_thresh <= x < median:\n",
    "        return max(1 - adjustment,0)"
   ]
  },
  {
   "cell_type": "code",
   "execution_count": 118,
   "metadata": {},
   "outputs": [],
   "source": [
    "softLabel_metadata = labels.copy()\n",
    "softLabel_metadata['HRD_status_base'] = softLabel_metadata['HRD-sum'].apply(lambda x: 'HRD' if x >= 42 else 'HR')\n",
    "total_median = softLabel_metadata['HRD-sum'].median()\n",
    "softLabel_metadata['HRD_adjust'] = ['HRD' if x >= 50 else 'HRP' if x <= 10 else 'HRD ambiguous' if total_median <= x <50 else 'HRP ambiguous' if 10 <= x < total_median else 'None' for x in softLabel_metadata['HRD-sum']]\n",
    "softLabel_metadata['soft prob'] = softLabel_metadata['HRD-sum'].apply(lambda x: softLabel(x, total_median, 50, 10))\n",
    "softLabel_metadata = softLabel_metadata.rename_axis('Case ID', axis='index')"
   ]
  },
  {
   "cell_type": "code",
   "execution_count": 119,
   "metadata": {},
   "outputs": [
    {
     "data": {
      "text/plain": [
       "(857, 40)"
      ]
     },
     "execution_count": 119,
     "metadata": {},
     "output_type": "execute_result"
    }
   ],
   "source": [
    "softLabel_metadata.shape\n",
    "#softLabel_metadata.columns"
   ]
  },
  {
   "cell_type": "markdown",
   "metadata": {},
   "source": [
    "# ***Get DESeq2 Genes***"
   ]
  },
  {
   "cell_type": "code",
   "execution_count": 121,
   "metadata": {},
   "outputs": [],
   "source": [
    "from pydeseq2.dds import DeseqDataSet\n",
    "from pydeseq2.ds import DeseqStats\n",
    "import matplotlib.pyplot as plt\n",
    "import seaborn as sns\n",
    "import decoupler as dc\n",
    "import plotly.express as px"
   ]
  },
  {
   "cell_type": "code",
   "execution_count": 161,
   "metadata": {},
   "outputs": [],
   "source": [
    "def runDESeq2(counts, metadata, design_factors):\n",
    "    # Step 2: Create the DESeqDataSet object\n",
    "    dds = DeseqDataSet(\n",
    "        counts=counts,\n",
    "        metadata=metadata,\n",
    "        design_factors=design_factors,\n",
    "    )\n",
    "\n",
    "    # Step 3: Run the differential expression analysis\n",
    "    dds.deseq2()\n",
    "\n",
    "\n",
    "    # Step 4: Get the results\n",
    "    # stat_res = DeseqStats(dds)\n",
    "    # stat_res.summary()\n",
    "\n",
    "    # Get results table\n",
    "    #results = stat_res.results_df\n",
    "    stats = DeseqStats(dds)\n",
    "    stats.summary()\n",
    "    results = stats.results_df\n",
    "    # Display the top differentially expressed genes\n",
    "    #print(results.sort_values('padj').head(10))\n",
    "\n",
    "    return results\n"
   ]
  },
  {
   "cell_type": "code",
   "execution_count": 162,
   "metadata": {},
   "outputs": [],
   "source": [
    "# cast expression to int\n",
    "gene_expression_int = gene_expression.iloc[:,2:].round().astype(int)\n",
    "#gene_expression_int\n",
    "\n",
    "softLabel_metadata = softLabel_metadata.sort_index()\n",
    "gene_expression_int = gene_expression_int.sort_index()"
   ]
  },
  {
   "cell_type": "code",
   "execution_count": 163,
   "metadata": {},
   "outputs": [
    {
     "name": "stdout",
     "output_type": "stream",
     "text": [
      "True\n"
     ]
    }
   ],
   "source": [
    "print(gene_expression_int.index.equals(softLabel_metadata.index))  # Should return True\n"
   ]
  },
  {
   "cell_type": "code",
   "execution_count": 164,
   "metadata": {},
   "outputs": [
    {
     "name": "stdout",
     "output_type": "stream",
     "text": [
      "0\n",
      "0\n"
     ]
    }
   ],
   "source": [
    "# Check for duplicate indices in counts dataframe\n",
    "print(gene_expression_int.index.duplicated().sum())\n",
    "\n",
    "# Check for duplicate indices in metadata dataframe\n",
    "print(softLabel_metadata.index.duplicated().sum())\n"
   ]
  },
  {
   "cell_type": "code",
   "execution_count": 165,
   "metadata": {},
   "outputs": [
    {
     "name": "stderr",
     "output_type": "stream",
     "text": [
      "/Users/johnsmith/miniconda3/envs/HRDclass/lib/python3.12/site-packages/anndata/_core/anndata.py:1756: UserWarning: Variable names are not unique. To make them unique, call `.var_names_make_unique`.\n",
      "  utils.warn_names_duplicates(\"var\")\n",
      "/var/folders/vh/rzymgl1d6c79q_4lhgmys8cm0000gn/T/ipykernel_21474/1563441046.py:3: UserWarning: Same factor names in the design contain underscores ('_'). They will\n",
      "                be converted to hyphens ('-').\n",
      "  dds = DeseqDataSet(\n",
      "Fitting size factors...\n",
      "... done in 0.49 seconds.\n",
      "\n",
      "0.00s - Debugger warning: It seems that frozen modules are being used, which may\n",
      "0.00s - make the debugger miss breakpoints. Please pass -Xfrozen_modules=off\n",
      "0.00s - to python to disable frozen modules.\n",
      "0.00s - Note: Debugging will proceed. Set PYDEVD_DISABLE_FILE_VALIDATION=1 to disable this validation.\n",
      "0.01s - Debugger warning: It seems that frozen modules are being used, which may\n",
      "0.00s - make the debugger miss breakpoints. Please pass -Xfrozen_modules=off\n",
      "0.00s - to python to disable frozen modules.\n",
      "0.00s - Note: Debugging will proceed. Set PYDEVD_DISABLE_FILE_VALIDATION=1 to disable this validation.\n",
      "0.01s - Debugger warning: It seems that frozen modules are being used, which may\n",
      "0.00s - make the debugger miss breakpoints. Please pass -Xfrozen_modules=off\n",
      "0.00s - to python to disable frozen modules.\n",
      "0.00s - Note: Debugging will proceed. Set PYDEVD_DISABLE_FILE_VALIDATION=1 to disable this validation.\n",
      "0.01s - Debugger warning: It seems that frozen modules are being used, which may\n",
      "0.00s - make the debugger miss breakpoints. Please pass -Xfrozen_modules=off\n",
      "0.00s - to python to disable frozen modules.\n",
      "0.00s - Note: Debugging will proceed. Set PYDEVD_DISABLE_FILE_VALIDATION=1 to disable this validation.\n",
      "0.01s - Debugger warning: It seems that frozen modules are being used, which may\n",
      "0.00s - make the debugger miss breakpoints. Please pass -Xfrozen_modules=off\n",
      "0.00s - to python to disable frozen modules.\n",
      "0.00s - Note: Debugging will proceed. Set PYDEVD_DISABLE_FILE_VALIDATION=1 to disable this validation.\n",
      "0.01s - Debugger warning: It seems that frozen modules are being used, which may\n",
      "0.00s - make the debugger miss breakpoints. Please pass -Xfrozen_modules=off\n",
      "0.00s - to python to disable frozen modules.\n",
      "0.00s - Note: Debugging will proceed. Set PYDEVD_DISABLE_FILE_VALIDATION=1 to disable this validation.\n",
      "0.01s - Debugger warning: It seems that frozen modules are being used, which may\n",
      "0.00s - make the debugger miss breakpoints. Please pass -Xfrozen_modules=off\n",
      "0.00s - to python to disable frozen modules.\n",
      "0.00s - Note: Debugging will proceed. Set PYDEVD_DISABLE_FILE_VALIDATION=1 to disable this validation.\n",
      "0.03s - Debugger warning: It seems that frozen modules are being used, which may\n",
      "0.00s - make the debugger miss breakpoints. Please pass -Xfrozen_modules=off\n",
      "0.00s - to python to disable frozen modules.\n",
      "0.00s - Note: Debugging will proceed. Set PYDEVD_DISABLE_FILE_VALIDATION=1 to disable this validation.\n",
      "Fitting dispersions...\n",
      "... done in 7.29 seconds.\n",
      "\n",
      "Fitting dispersion trend curve...\n"
     ]
    },
    {
     "ename": "InvalidIndexError",
     "evalue": "Reindexing only valid with uniquely valued Index objects",
     "output_type": "error",
     "traceback": [
      "\u001b[0;31m---------------------------------------------------------------------------\u001b[0m",
      "\u001b[0;31mInvalidIndexError\u001b[0m                         Traceback (most recent call last)",
      "Cell \u001b[0;32mIn[165], line 1\u001b[0m\n\u001b[0;32m----> 1\u001b[0m basic \u001b[38;5;241m=\u001b[39m runDESeq2(gene_expression_int, softLabel_metadata, \u001b[38;5;124m'\u001b[39m\u001b[38;5;124mHRD_status_base\u001b[39m\u001b[38;5;124m'\u001b[39m)\n",
      "Cell \u001b[0;32mIn[161], line 10\u001b[0m, in \u001b[0;36mrunDESeq2\u001b[0;34m(counts, metadata, design_factors)\u001b[0m\n\u001b[1;32m      3\u001b[0m dds \u001b[38;5;241m=\u001b[39m DeseqDataSet(\n\u001b[1;32m      4\u001b[0m     counts\u001b[38;5;241m=\u001b[39mcounts,\n\u001b[1;32m      5\u001b[0m     metadata\u001b[38;5;241m=\u001b[39mmetadata,\n\u001b[1;32m      6\u001b[0m     design_factors\u001b[38;5;241m=\u001b[39mdesign_factors,\n\u001b[1;32m      7\u001b[0m )\n\u001b[1;32m      9\u001b[0m \u001b[38;5;66;03m# Step 3: Run the differential expression analysis\u001b[39;00m\n\u001b[0;32m---> 10\u001b[0m dds\u001b[38;5;241m.\u001b[39mdeseq2()\n\u001b[1;32m     13\u001b[0m \u001b[38;5;66;03m# Step 4: Get the results\u001b[39;00m\n\u001b[1;32m     14\u001b[0m \u001b[38;5;66;03m# stat_res = DeseqStats(dds)\u001b[39;00m\n\u001b[1;32m     15\u001b[0m \u001b[38;5;66;03m# stat_res.summary()\u001b[39;00m\n\u001b[1;32m     16\u001b[0m \n\u001b[1;32m     17\u001b[0m \u001b[38;5;66;03m# Get results table\u001b[39;00m\n\u001b[1;32m     18\u001b[0m \u001b[38;5;66;03m#results = stat_res.results_df\u001b[39;00m\n\u001b[1;32m     19\u001b[0m stats \u001b[38;5;241m=\u001b[39m DeseqStats(dds)\n",
      "File \u001b[0;32m~/miniconda3/envs/HRDclass/lib/python3.12/site-packages/pydeseq2/dds.py:495\u001b[0m, in \u001b[0;36mDeseqDataSet.deseq2\u001b[0;34m(self, fit_type)\u001b[0m\n\u001b[1;32m    492\u001b[0m \u001b[38;5;28mself\u001b[39m\u001b[38;5;241m.\u001b[39mfit_genewise_dispersions()\n\u001b[1;32m    493\u001b[0m \u001b[38;5;66;03m# Fit a parameterized trend curve for dispersions, of the form\u001b[39;00m\n\u001b[1;32m    494\u001b[0m \u001b[38;5;66;03m# f(\\mu) = \\alpha_1/\\mu + a_0\u001b[39;00m\n\u001b[0;32m--> 495\u001b[0m \u001b[38;5;28mself\u001b[39m\u001b[38;5;241m.\u001b[39mfit_dispersion_trend()\n\u001b[1;32m    496\u001b[0m \u001b[38;5;66;03m# Compute prior dispersion variance\u001b[39;00m\n\u001b[1;32m    497\u001b[0m \u001b[38;5;28mself\u001b[39m\u001b[38;5;241m.\u001b[39mfit_dispersion_prior()\n",
      "File \u001b[0;32m~/miniconda3/envs/HRDclass/lib/python3.12/site-packages/pydeseq2/dds.py:727\u001b[0m, in \u001b[0;36mDeseqDataSet.fit_dispersion_trend\u001b[0;34m(self, vst)\u001b[0m\n\u001b[1;32m    724\u001b[0m start \u001b[38;5;241m=\u001b[39m time\u001b[38;5;241m.\u001b[39mtime()\n\u001b[1;32m    726\u001b[0m \u001b[38;5;28;01mif\u001b[39;00m fit_type \u001b[38;5;241m==\u001b[39m \u001b[38;5;124m\"\u001b[39m\u001b[38;5;124mparametric\u001b[39m\u001b[38;5;124m\"\u001b[39m:\n\u001b[0;32m--> 727\u001b[0m     \u001b[38;5;28mself\u001b[39m\u001b[38;5;241m.\u001b[39m_fit_parametric_dispersion_trend(vst)\n\u001b[1;32m    728\u001b[0m \u001b[38;5;28;01melif\u001b[39;00m fit_type \u001b[38;5;241m==\u001b[39m \u001b[38;5;124m\"\u001b[39m\u001b[38;5;124mmean\u001b[39m\u001b[38;5;124m\"\u001b[39m:\n\u001b[1;32m    729\u001b[0m     \u001b[38;5;28mself\u001b[39m\u001b[38;5;241m.\u001b[39m_fit_mean_dispersion_trend(vst)\n",
      "File \u001b[0;32m~/miniconda3/envs/HRDclass/lib/python3.12/site-packages/pydeseq2/dds.py:1096\u001b[0m, in \u001b[0;36mDeseqDataSet._fit_parametric_dispersion_trend\u001b[0;34m(self, vst)\u001b[0m\n\u001b[1;32m   1092\u001b[0m     \u001b[38;5;28mself\u001b[39m\u001b[38;5;241m.\u001b[39mfit_genewise_dispersions(vst)\n\u001b[1;32m   1094\u001b[0m \u001b[38;5;66;03m# Exclude all-zero counts\u001b[39;00m\n\u001b[1;32m   1095\u001b[0m targets \u001b[38;5;241m=\u001b[39m pd\u001b[38;5;241m.\u001b[39mSeries(\n\u001b[0;32m-> 1096\u001b[0m     \u001b[38;5;28mself\u001b[39m[:, \u001b[38;5;28mself\u001b[39m\u001b[38;5;241m.\u001b[39mnon_zero_genes]\u001b[38;5;241m.\u001b[39mvarm[disp_param_name]\u001b[38;5;241m.\u001b[39mcopy(),\n\u001b[1;32m   1097\u001b[0m     index\u001b[38;5;241m=\u001b[39m\u001b[38;5;28mself\u001b[39m\u001b[38;5;241m.\u001b[39mnon_zero_genes,\n\u001b[1;32m   1098\u001b[0m )\n\u001b[1;32m   1099\u001b[0m covariates \u001b[38;5;241m=\u001b[39m pd\u001b[38;5;241m.\u001b[39mSeries(\n\u001b[1;32m   1100\u001b[0m     \u001b[38;5;241m1\u001b[39m \u001b[38;5;241m/\u001b[39m \u001b[38;5;28mself\u001b[39m[:, \u001b[38;5;28mself\u001b[39m\u001b[38;5;241m.\u001b[39mnon_zero_genes]\u001b[38;5;241m.\u001b[39mvarm[\u001b[38;5;124m\"\u001b[39m\u001b[38;5;124m_normed_means\u001b[39m\u001b[38;5;124m\"\u001b[39m],\n\u001b[1;32m   1101\u001b[0m     index\u001b[38;5;241m=\u001b[39m\u001b[38;5;28mself\u001b[39m\u001b[38;5;241m.\u001b[39mnon_zero_genes,\n\u001b[1;32m   1102\u001b[0m )\n\u001b[1;32m   1104\u001b[0m \u001b[38;5;28;01mfor\u001b[39;00m gene \u001b[38;5;129;01min\u001b[39;00m \u001b[38;5;28mself\u001b[39m\u001b[38;5;241m.\u001b[39mnon_zero_genes:\n",
      "File \u001b[0;32m~/miniconda3/envs/HRDclass/lib/python3.12/site-packages/anndata/_core/anndata.py:1021\u001b[0m, in \u001b[0;36mAnnData.__getitem__\u001b[0;34m(self, index)\u001b[0m\n\u001b[1;32m   1019\u001b[0m \u001b[38;5;28;01mdef\u001b[39;00m \u001b[38;5;21m__getitem__\u001b[39m(\u001b[38;5;28mself\u001b[39m, index: Index) \u001b[38;5;241m-\u001b[39m\u001b[38;5;241m>\u001b[39m AnnData:\n\u001b[1;32m   1020\u001b[0m \u001b[38;5;250m    \u001b[39m\u001b[38;5;124;03m\"\"\"Returns a sliced view of the object.\"\"\"\u001b[39;00m\n\u001b[0;32m-> 1021\u001b[0m     oidx, vidx \u001b[38;5;241m=\u001b[39m \u001b[38;5;28mself\u001b[39m\u001b[38;5;241m.\u001b[39m_normalize_indices(index)\n\u001b[1;32m   1022\u001b[0m     \u001b[38;5;28;01mreturn\u001b[39;00m AnnData(\u001b[38;5;28mself\u001b[39m, oidx\u001b[38;5;241m=\u001b[39moidx, vidx\u001b[38;5;241m=\u001b[39mvidx, asview\u001b[38;5;241m=\u001b[39m\u001b[38;5;28;01mTrue\u001b[39;00m)\n",
      "File \u001b[0;32m~/miniconda3/envs/HRDclass/lib/python3.12/site-packages/anndata/_core/anndata.py:1002\u001b[0m, in \u001b[0;36mAnnData._normalize_indices\u001b[0;34m(self, index)\u001b[0m\n\u001b[1;32m   1001\u001b[0m \u001b[38;5;28;01mdef\u001b[39;00m \u001b[38;5;21m_normalize_indices\u001b[39m(\u001b[38;5;28mself\u001b[39m, index: Index \u001b[38;5;241m|\u001b[39m \u001b[38;5;28;01mNone\u001b[39;00m) \u001b[38;5;241m-\u001b[39m\u001b[38;5;241m>\u001b[39m \u001b[38;5;28mtuple\u001b[39m[\u001b[38;5;28mslice\u001b[39m, \u001b[38;5;28mslice\u001b[39m]:\n\u001b[0;32m-> 1002\u001b[0m     \u001b[38;5;28;01mreturn\u001b[39;00m _normalize_indices(index, \u001b[38;5;28mself\u001b[39m\u001b[38;5;241m.\u001b[39mobs_names, \u001b[38;5;28mself\u001b[39m\u001b[38;5;241m.\u001b[39mvar_names)\n",
      "File \u001b[0;32m~/miniconda3/envs/HRDclass/lib/python3.12/site-packages/anndata/_core/index.py:39\u001b[0m, in \u001b[0;36m_normalize_indices\u001b[0;34m(index, names0, names1)\u001b[0m\n\u001b[1;32m     37\u001b[0m ax0, ax1 \u001b[38;5;241m=\u001b[39m unpack_index(index)\n\u001b[1;32m     38\u001b[0m ax0 \u001b[38;5;241m=\u001b[39m _normalize_index(ax0, names0)\n\u001b[0;32m---> 39\u001b[0m ax1 \u001b[38;5;241m=\u001b[39m _normalize_index(ax1, names1)\n\u001b[1;32m     40\u001b[0m \u001b[38;5;28;01mreturn\u001b[39;00m ax0, ax1\n",
      "File \u001b[0;32m~/miniconda3/envs/HRDclass/lib/python3.12/site-packages/anndata/_core/index.py:100\u001b[0m, in \u001b[0;36m_normalize_index\u001b[0;34m(indexer, index)\u001b[0m\n\u001b[1;32m     98\u001b[0m     \u001b[38;5;28;01mreturn\u001b[39;00m indexer\n\u001b[1;32m     99\u001b[0m \u001b[38;5;28;01melse\u001b[39;00m:  \u001b[38;5;66;03m# indexer should be string array\u001b[39;00m\n\u001b[0;32m--> 100\u001b[0m     positions \u001b[38;5;241m=\u001b[39m index\u001b[38;5;241m.\u001b[39mget_indexer(indexer)\n\u001b[1;32m    101\u001b[0m     \u001b[38;5;28;01mif\u001b[39;00m np\u001b[38;5;241m.\u001b[39many(positions \u001b[38;5;241m<\u001b[39m \u001b[38;5;241m0\u001b[39m):\n\u001b[1;32m    102\u001b[0m         not_found \u001b[38;5;241m=\u001b[39m indexer[positions \u001b[38;5;241m<\u001b[39m \u001b[38;5;241m0\u001b[39m]\n",
      "File \u001b[0;32m~/miniconda3/envs/HRDclass/lib/python3.12/site-packages/pandas/core/indexes/base.py:3885\u001b[0m, in \u001b[0;36mIndex.get_indexer\u001b[0;34m(self, target, method, limit, tolerance)\u001b[0m\n\u001b[1;32m   3882\u001b[0m \u001b[38;5;28mself\u001b[39m\u001b[38;5;241m.\u001b[39m_check_indexing_method(method, limit, tolerance)\n\u001b[1;32m   3884\u001b[0m \u001b[38;5;28;01mif\u001b[39;00m \u001b[38;5;129;01mnot\u001b[39;00m \u001b[38;5;28mself\u001b[39m\u001b[38;5;241m.\u001b[39m_index_as_unique:\n\u001b[0;32m-> 3885\u001b[0m     \u001b[38;5;28;01mraise\u001b[39;00m InvalidIndexError(\u001b[38;5;28mself\u001b[39m\u001b[38;5;241m.\u001b[39m_requires_unique_msg)\n\u001b[1;32m   3887\u001b[0m \u001b[38;5;28;01mif\u001b[39;00m \u001b[38;5;28mlen\u001b[39m(target) \u001b[38;5;241m==\u001b[39m \u001b[38;5;241m0\u001b[39m:\n\u001b[1;32m   3888\u001b[0m     \u001b[38;5;28;01mreturn\u001b[39;00m np\u001b[38;5;241m.\u001b[39marray([], dtype\u001b[38;5;241m=\u001b[39mnp\u001b[38;5;241m.\u001b[39mintp)\n",
      "\u001b[0;31mInvalidIndexError\u001b[0m: Reindexing only valid with uniquely valued Index objects"
     ]
    },
    {
     "ename": "",
     "evalue": "",
     "output_type": "error",
     "traceback": [
      "\u001b[1;31mThe Kernel crashed while executing code in the current cell or a previous cell. \n",
      "\u001b[1;31mPlease review the code in the cell(s) to identify a possible cause of the failure. \n",
      "\u001b[1;31mClick <a href='https://aka.ms/vscodeJupyterKernelCrash'>here</a> for more info. \n",
      "\u001b[1;31mView Jupyter <a href='command:jupyter.viewOutput'>log</a> for further details."
     ]
    }
   ],
   "source": [
    "basic = runDESeq2(gene_expression_int, softLabel_metadata, 'HRD_status_base')"
   ]
  },
  {
   "cell_type": "markdown",
   "metadata": {},
   "source": [
    "# Getting top 2% og Protein coding genes"
   ]
  },
  {
   "cell_type": "code",
   "execution_count": 160,
   "metadata": {},
   "outputs": [],
   "source": [
    "# Assuming `df` is your DataFrame where rows are samples and columns are genes\n",
    "\n",
    "# Calculate the mean expression for each gene\n",
    "mean_expression = gene_expression_int.mean()\n",
    "\n",
    "# Sort the genes by their mean expression in descending order\n",
    "sorted_genes = mean_expression.sort_values(ascending=False)\n",
    "\n",
    "# Get the number of genes to keep (top 2%)\n",
    "num_genes_to_keep = int(0.02 * len(sorted_genes))\n",
    "\n",
    "# Get the top 2% of genes based on mean expression\n",
    "top_2_percent_genes = sorted_genes.head(num_genes_to_keep).index\n",
    "\n",
    "# Filter the DataFrame to keep only the top 2% genes\n",
    "filtered_df_tp2_percent = gene_expression_int[top_2_percent_genes]\n",
    "\n",
    "# Print the filtered DataFrame\n",
    "#print(filtered_df_tp2_percent)"
   ]
  },
  {
   "cell_type": "markdown",
   "metadata": {},
   "source": [
    "# Model"
   ]
  },
  {
   "cell_type": "code",
   "execution_count": 159,
   "metadata": {},
   "outputs": [
    {
     "name": "stdout",
     "output_type": "stream",
     "text": [
      "Training models on top 2% expressed genes:\n"
     ]
    },
    {
     "name": "stderr",
     "output_type": "stream",
     "text": [
      "/Users/johnsmith/miniconda3/envs/HRDclass/lib/python3.12/site-packages/sklearn/linear_model/_sag.py:349: ConvergenceWarning: The max_iter was reached which means the coef_ did not converge\n",
      "  warnings.warn(\n"
     ]
    },
    {
     "data": {
      "image/png": "[encoded data removed]",
      "text/plain": [
       "<Figure size 1000x800 with 1 Axes>"
      ]
     },
     "metadata": {},
     "output_type": "display_data"
    },
    {
     "name": "stdout",
     "output_type": "stream",
     "text": [
      "\n",
      "Results for differentially expressed genes:\n",
      "\n",
      "Elastic Net:\n",
      "AUC: 0.874\n",
      "\n",
      "Classification Report:\n",
      "              precision    recall  f1-score   support\n",
      "\n",
      "           0       0.89      0.93      0.91       132\n",
      "           1       0.74      0.62      0.68        40\n",
      "\n",
      "    accuracy                           0.86       172\n",
      "   macro avg       0.81      0.78      0.79       172\n",
      "weighted avg       0.86      0.86      0.86       172\n",
      "\n",
      "\n",
      "Confusion Matrix:\n",
      "[[123   9]\n",
      " [ 15  25]]\n",
      "\n",
      "Random Forest:\n",
      "AUC: 0.893\n",
      "\n",
      "Classification Report:\n",
      "              precision    recall  f1-score   support\n",
      "\n",
      "           0       0.86      0.95      0.90       132\n",
      "           1       0.74      0.50      0.60        40\n",
      "\n",
      "    accuracy                           0.84       172\n",
      "   macro avg       0.80      0.72      0.75       172\n",
      "weighted avg       0.83      0.84      0.83       172\n",
      "\n",
      "\n",
      "Confusion Matrix:\n",
      "[[125   7]\n",
      " [ 20  20]]\n",
      "\n",
      "Gradient Boosting:\n",
      "AUC: 0.872\n",
      "\n",
      "Classification Report:\n",
      "              precision    recall  f1-score   support\n",
      "\n",
      "           0       0.86      0.94      0.90       132\n",
      "           1       0.71      0.50      0.59        40\n",
      "\n",
      "    accuracy                           0.84       172\n",
      "   macro avg       0.79      0.72      0.74       172\n",
      "weighted avg       0.83      0.84      0.83       172\n",
      "\n",
      "\n",
      "Confusion Matrix:\n",
      "[[124   8]\n",
      " [ 20  20]]\n"
     ]
    }
   ],
   "source": [
    "import numpy as np\n",
    "import pandas as pd\n",
    "from sklearn.model_selection import train_test_split\n",
    "from sklearn.preprocessing import StandardScaler, LabelEncoder\n",
    "from sklearn.linear_model import LogisticRegression, ElasticNet\n",
    "from sklearn.ensemble import RandomForestClassifier, GradientBoostingClassifier, RandomForestRegressor, GradientBoostingRegressor\n",
    "from sklearn.metrics import roc_curve, auc, confusion_matrix, classification_report, mean_squared_error, r2_score\n",
    "import matplotlib.pyplot as plt\n",
    "import seaborn as sns\n",
    "\n",
    "baby = None\n",
    "\n",
    "# Data Preprocessing Function\n",
    "def preprocess_data(X, y, task='classification'):\n",
    "    # Encode categorical labels\n",
    "    if task == 'classification':\n",
    "        le = LabelEncoder()\n",
    "        y = le.fit_transform(y)\n",
    "    \n",
    "    # Split data\n",
    "    X_train, X_test, y_train, y_test = train_test_split(X, y, test_size=0.2, random_state=42)\n",
    "    \n",
    "    # Scale features\n",
    "    scaler = StandardScaler()\n",
    "    X_train_scaled = scaler.fit_transform(X_train)\n",
    "    X_test_scaled = scaler.transform(X_test)\n",
    "    \n",
    "    return X_train_scaled, X_test_scaled, y_train, y_test\n",
    "\n",
    "# Model Training & Evaluation Function for Classification\n",
    "def train_evaluate_classification_models(X_train, X_test, y_train, y_test):\n",
    "    global baby\n",
    "    models = {\n",
    "        'Elastic Net': LogisticRegression(penalty='elasticnet', solver='saga', \n",
    "                                        l1_ratio=0.5, max_iter=1000),\n",
    "        'Random Forest': RandomForestClassifier(n_estimators=100, random_state=42),\n",
    "        'Gradient Boosting': GradientBoostingClassifier(random_state=42)\n",
    "    }\n",
    "    \n",
    "    results = {}\n",
    "    plt.figure(figsize=(10, 8))\n",
    "    \n",
    "    for name, model in models.items():\n",
    "        # Train model\n",
    "        model.fit(X_train, y_train)\n",
    "        \n",
    "        # Get predictions\n",
    "        y_pred_proba = model.predict_proba(X_test)[:, 1]\n",
    "        y_pred = model.predict(X_test)\n",
    "        \n",
    "        # Calculate metrics\n",
    "        fpr, tpr, _ = roc_curve(y_test, y_pred_proba)\n",
    "        roc_auc = auc(fpr, tpr)\n",
    "        \n",
    "        # Plot ROC curve\n",
    "        plt.plot(fpr, tpr, label=f'{name} (AUC = {roc_auc:.2f})')\n",
    "        \n",
    "        # Store results\n",
    "        results[name] = {\n",
    "            'AUC': roc_auc,\n",
    "            'Confusion Matrix': confusion_matrix(y_test, y_pred),\n",
    "            'Classification Report': classification_report(y_test, y_pred)\n",
    "        }\n",
    "\n",
    "        if name == 'Elastic Net':\n",
    "            baby = model\n",
    "    \n",
    "    plt.plot([0, 1], [0, 1], 'k--')\n",
    "    plt.xlim([0.0, 1.0])\n",
    "    plt.ylim([0.0, 1.05])\n",
    "    plt.xlabel('False Positive Rate')\n",
    "    plt.ylabel('True Positive Rate')\n",
    "    plt.title('ROC Curves for Classification Models')\n",
    "    plt.legend(loc=\"lower right\")\n",
    "    plt.show()\n",
    "    \n",
    "    return results\n",
    "\n",
    "# Main execution\n",
    "def main():\n",
    "    # # For top 2% expressed genes\n",
    "    print(\"Training models on top 2% expressed genes:\")\n",
    "    \n",
    "    # Classification\n",
    "    X_train_top, X_test_top, y_train_top, y_test_top = preprocess_data(\n",
    "        filtered_df_tp2_percent, softLabel_metadata['HRD_status_base'], task='classification'\n",
    "    )\n",
    "    \n",
    "    results_top = train_evaluate_classification_models(\n",
    "        X_train_top, X_test_top, y_train_top, y_test_top\n",
    "    )\n",
    "    \n",
    "    # # ALL genes\n",
    "    # print(\"\\nTraining models on ALL genes:\")\n",
    "    \n",
    "    # X_train_all, X_test_all, y_train_all, y_test_all = preprocess_data(\n",
    "    #     gene_expression_int, softLabel_metadata['HRD_status_base'], task='classification'\n",
    "    # )\n",
    "    \n",
    "    # results_de = train_evaluate_classification_models(\n",
    "    #     X_train_all, X_test_all, y_train_all, y_test_all\n",
    "    # )\n",
    "    \n",
    "    # # Print results\n",
    "    # print(\"\\nResults for top 2% expressed genes:\")\n",
    "    # for model_name, metrics in results_top.items():\n",
    "    #     print(f\"\\n{model_name}:\")\n",
    "    #     print(f\"AUC: {metrics['AUC']:.3f}\")\n",
    "    #     print(\"\\nClassification Report:\")\n",
    "    #     print(metrics['Classification Report'])\n",
    "    #     print(\"\\nConfusion Matrix:\")\n",
    "    #     print(metrics['Confusion Matrix'])\n",
    "    \n",
    "    print(\"\\nResults for differentially expressed genes:\")\n",
    "    for model_name, metrics in results_top.items():\n",
    "        print(f\"\\n{model_name}:\")\n",
    "        print(f\"AUC: {metrics['AUC']:.3f}\")\n",
    "        print(\"\\nClassification Report:\")\n",
    "        print(metrics['Classification Report'])\n",
    "        print(\"\\nConfusion Matrix:\")\n",
    "        print(metrics['Confusion Matrix'])\n",
    "\n",
    "# For regression task on Confidence values\n",
    "def train_evaluate_regression_models(X_train, X_test, y_train, y_test):\n",
    "    models = {\n",
    "        'Elastic Net': ElasticNet(random_state=42),\n",
    "        'Random Forest': RandomForestRegressor(n_estimators=100, random_state=42),\n",
    "        'Gradient Boosting': GradientBoostingRegressor(random_state=42)\n",
    "    }\n",
    "    \n",
    "    results = {}\n",
    "    \n",
    "    for name, model in models.items():\n",
    "        # Train model\n",
    "        model.fit(X_train, y_train)\n",
    "        \n",
    "        # Get predictions\n",
    "        y_pred = model.predict(X_test)\n",
    "        \n",
    "        # Calculate metrics\n",
    "        mse = mean_squared_error(y_test, y_pred)\n",
    "        r2 = r2_score(y_test, y_pred)\n",
    "        \n",
    "        # Store results\n",
    "        results[name] = {\n",
    "            'MSE': mse,\n",
    "            'R2': r2,\n",
    "            'Model': model\n",
    "        }\n",
    "        \n",
    "        # Plot actual vs predicted\n",
    "        plt.figure(figsize=(8, 6))\n",
    "        plt.scatter(y_test, y_pred, alpha=0.5)\n",
    "        plt.plot([y_test.min(), y_test.max()], [y_test.min(), y_test.max()], 'r--', lw=2)\n",
    "        plt.xlabel('Actual Confidence')\n",
    "        plt.ylabel('Predicted Confidence')\n",
    "        plt.title(f'{name} - Actual vs Predicted')\n",
    "        plt.show()\n",
    "    \n",
    "    return results\n",
    "\n",
    "# # Run regression models\n",
    "# def run_regression():\n",
    "#     print(\"\\nTraining regression models for Confidence prediction:\")\n",
    "    \n",
    "#     # For top 2% expressed genes\n",
    "#     X_train_top, X_test_top, y_train_top, y_test_top = preprocess_data(\n",
    "#         rnaseq_df_top_genes, brca_df_common['Confidence'], task='regression'\n",
    "#     )\n",
    "    \n",
    "#     results_top_reg = train_evaluate_regression_models(\n",
    "#         X_train_top, X_test_top, y_train_top, y_test_top\n",
    "#     )\n",
    "    \n",
    "#     print(\"\\nRegression Results for top 2% expressed genes:\")\n",
    "#     for model_name, metrics in results_top_reg.items():\n",
    "#         print(f\"\\n{model_name}:\")\n",
    "#         print(f\"MSE: {metrics['MSE']:.6f}\")\n",
    "#         print(f\"R2: {metrics['R2']:.3f}\")\n",
    "\n",
    "googoog = main()\n",
    "#run_regression()"
   ]
  }
 ],
 "metadata": {
  "kernelspec": {
   "display_name": "HRDclass",
   "language": "python",
   "name": "python3"
  },
  "language_info": {
   "codemirror_mode": {
    "name": "ipython",
    "version": 3
   },
   "file_extension": ".py",
   "mimetype": "text/x-python",
   "name": "python",
   "nbconvert_exporter": "python",
   "pygments_lexer": "ipython3",
   "version": "3.12.7"
  }
 },
 "nbformat": 4,
 "nbformat_minor": 2
}
