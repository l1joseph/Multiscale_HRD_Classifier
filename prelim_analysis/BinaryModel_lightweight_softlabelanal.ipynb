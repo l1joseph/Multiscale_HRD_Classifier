{
 "cells": [
  {
   "cell_type": "code",
   "execution_count": 1,
   "metadata": {},
   "outputs": [],
   "source": [
    "import pandas as pd\n",
    "import numpy as np\n",
    "import matplotlib.pyplot as plt\n",
    "import seaborn as sns\n",
    "import sklearn\n",
    "from sklearn.model_selection import train_test_split\n",
    "from sklearn.linear_model import LinearRegression"
   ]
  },
  {
   "cell_type": "markdown",
   "metadata": {},
   "source": [
    "# ***Initial Data import: RNA-seq, HRD scores, BRCA annotations***"
   ]
  },
  {
   "cell_type": "code",
   "execution_count": 2,
   "metadata": {},
   "outputs": [
    {
     "name": "stdout",
     "output_type": "stream",
     "text": [
      "(1231, 60663)\n"
     ]
    }
   ],
   "source": [
    "# Load the FPKM RNA-seq data\n",
    "rnaseq_df = pd.read_csv('data/tcga.brca.rnaseq.unstranded.fpkm.counts.matrix.txt', sep='\\t', index_col=0)\n",
    "# rnaseq_df = pd.read_csv(\"data/Deconvo2.csv\", sep = ',', index_col=0)\n",
    "print(rnaseq_df.shape)\n",
    "# Load the HRD score data\n",
    "hrd_df = pd.read_excel('data/tcga.hrdscore.xlsx')\n",
    "\n",
    "# Load the BRCA status data\n",
    "brca_df = pd.read_csv('data/toga.breast.brca.status.txt', sep='\\t', index_col=0)\n",
    "brca_df.index = brca_df.index.str.replace('.', '-')"
   ]
  },
  {
   "cell_type": "code",
   "execution_count": 3,
   "metadata": {},
   "outputs": [
    {
     "name": "stdout",
     "output_type": "stream",
     "text": [
      "Initial samples in RNA-seq data (n = 1231) \n",
      "\n",
      "Initial samples in TCGA BRCA (n = 992)\n",
      "\n",
      "Initial samples in TCGA HRD (n = 9604)\n",
      "\n",
      "\n"
     ]
    }
   ],
   "source": [
    "print(f\"Initial samples in RNA-seq data (n = {len(rnaseq_df.index)}) \\n\\nInitial samples in TCGA BRCA (n = {len(brca_df.index)})\\n\\nInitial samples in TCGA HRD (n = {len(hrd_df.index)})\\n\\n\")"
   ]
  },
  {
   "cell_type": "markdown",
   "metadata": {},
   "source": [
    "# ***Drop ambiguouse/ mislabled samples***"
   ]
  },
  {
   "cell_type": "code",
   "execution_count": 4,
   "metadata": {},
   "outputs": [
    {
     "data": {
      "text/plain": [
       "(984, 33)"
      ]
     },
     "execution_count": 4,
     "metadata": {},
     "output_type": "execute_result"
    }
   ],
   "source": [
    "# Drop rows where event.BRCA1 is '1' and event.BRCA2 is 'Bi-allelic-undetermined' and where event.PALB2 is '2'\n",
    "brca_filt = brca_df[(brca_df['event.BRCA1'] != '1') & (brca_df['event.BRCA2'] != 'Bi-allelic-undetermined') & (brca_df['event.PALB2'] != '2')]\n",
    "brca_filt.shape"
   ]
  },
  {
   "cell_type": "markdown",
   "metadata": {},
   "source": [
    "# ***Merge metadata***"
   ]
  },
  {
   "cell_type": "code",
   "execution_count": 5,
   "metadata": {},
   "outputs": [
    {
     "name": "stdout",
     "output_type": "stream",
     "text": [
      "(859, 37)\n",
      "Index(['HRD', 'Telomeric AI', 'LST', 'HRD-sum', 'BRCA1_somatic_null',\n",
      "       'BRCA1_germ_bi_allelic', 'BRCA1_germ_mono_allelic', 'BRCA1_deletion',\n",
      "       'BRCA1_epigenetic_silencing', 'BRCA1_mRNA', 'BRCA2_somatic_null',\n",
      "       'BRCA2_germ_bi_allelic', 'BRCA2_germ_undetermined',\n",
      "       'BRCA2_germ_mono_allelic', 'BRCA2_deletion', 'RAD51C_germ',\n",
      "       'RAD51C_deletion', 'RAD51C_epigenetic_silencing', 'RAD51C_mRNA',\n",
      "       'PALB2_somatic_null', 'PALB2_germ', 'TP53_somatic', 'H1', 'H2', 'H3',\n",
      "       'H4', 'H1.norm', 'H2.norm', 'H3.norm', 'H4.norm', 'event.BRCA1',\n",
      "       'event.BRCA2', 'event.RAD51C', 'event.PALB2', 'event.All Events',\n",
      "       'event.PAM50', 'event.TNBC'],\n",
      "      dtype='object')\n"
     ]
    },
    {
     "data": {
      "text/html": [
       "<div>\n",
       "<style scoped>\n",
       "    .dataframe tbody tr th:only-of-type {\n",
       "        vertical-align: middle;\n",
       "    }\n",
       "\n",
       "    .dataframe tbody tr th {\n",
       "        vertical-align: top;\n",
       "    }\n",
       "\n",
       "    .dataframe thead th {\n",
       "        text-align: right;\n",
       "    }\n",
       "</style>\n",
       "<table border=\"1\" class=\"dataframe\">\n",
       "  <thead>\n",
       "    <tr style=\"text-align: right;\">\n",
       "      <th></th>\n",
       "      <th>HRD</th>\n",
       "      <th>Telomeric AI</th>\n",
       "      <th>LST</th>\n",
       "      <th>HRD-sum</th>\n",
       "      <th>BRCA1_somatic_null</th>\n",
       "      <th>BRCA1_germ_bi_allelic</th>\n",
       "      <th>BRCA1_germ_mono_allelic</th>\n",
       "      <th>BRCA1_deletion</th>\n",
       "      <th>BRCA1_epigenetic_silencing</th>\n",
       "      <th>BRCA1_mRNA</th>\n",
       "      <th>...</th>\n",
       "      <th>H2.norm</th>\n",
       "      <th>H3.norm</th>\n",
       "      <th>H4.norm</th>\n",
       "      <th>event.BRCA1</th>\n",
       "      <th>event.BRCA2</th>\n",
       "      <th>event.RAD51C</th>\n",
       "      <th>event.PALB2</th>\n",
       "      <th>event.All Events</th>\n",
       "      <th>event.PAM50</th>\n",
       "      <th>event.TNBC</th>\n",
       "    </tr>\n",
       "    <tr>\n",
       "      <th>sample</th>\n",
       "      <th></th>\n",
       "      <th></th>\n",
       "      <th></th>\n",
       "      <th></th>\n",
       "      <th></th>\n",
       "      <th></th>\n",
       "      <th></th>\n",
       "      <th></th>\n",
       "      <th></th>\n",
       "      <th></th>\n",
       "      <th></th>\n",
       "      <th></th>\n",
       "      <th></th>\n",
       "      <th></th>\n",
       "      <th></th>\n",
       "      <th></th>\n",
       "      <th></th>\n",
       "      <th></th>\n",
       "      <th></th>\n",
       "      <th></th>\n",
       "      <th></th>\n",
       "    </tr>\n",
       "  </thead>\n",
       "  <tbody>\n",
       "    <tr>\n",
       "      <th>TCGA-A1-A0SB</th>\n",
       "      <td>0</td>\n",
       "      <td>0</td>\n",
       "      <td>0</td>\n",
       "      <td>0</td>\n",
       "      <td>0</td>\n",
       "      <td>0</td>\n",
       "      <td>0</td>\n",
       "      <td>0</td>\n",
       "      <td>0</td>\n",
       "      <td>0</td>\n",
       "      <td>...</td>\n",
       "      <td>0.044837</td>\n",
       "      <td>0.635070</td>\n",
       "      <td>0.000000</td>\n",
       "      <td>0</td>\n",
       "      <td>0</td>\n",
       "      <td>0</td>\n",
       "      <td>0</td>\n",
       "      <td>0</td>\n",
       "      <td>NaN</td>\n",
       "      <td>0</td>\n",
       "    </tr>\n",
       "    <tr>\n",
       "      <th>TCGA-A1-A0SD</th>\n",
       "      <td>10</td>\n",
       "      <td>10</td>\n",
       "      <td>7</td>\n",
       "      <td>27</td>\n",
       "      <td>0</td>\n",
       "      <td>0</td>\n",
       "      <td>0</td>\n",
       "      <td>0</td>\n",
       "      <td>0</td>\n",
       "      <td>0</td>\n",
       "      <td>...</td>\n",
       "      <td>0.254169</td>\n",
       "      <td>0.703974</td>\n",
       "      <td>0.041857</td>\n",
       "      <td>0</td>\n",
       "      <td>0</td>\n",
       "      <td>0</td>\n",
       "      <td>0</td>\n",
       "      <td>0</td>\n",
       "      <td>LumA</td>\n",
       "      <td>0</td>\n",
       "    </tr>\n",
       "    <tr>\n",
       "      <th>TCGA-A1-A0SE</th>\n",
       "      <td>6</td>\n",
       "      <td>6</td>\n",
       "      <td>1</td>\n",
       "      <td>13</td>\n",
       "      <td>0</td>\n",
       "      <td>0</td>\n",
       "      <td>0</td>\n",
       "      <td>0</td>\n",
       "      <td>0</td>\n",
       "      <td>0</td>\n",
       "      <td>...</td>\n",
       "      <td>0.102998</td>\n",
       "      <td>0.740053</td>\n",
       "      <td>0.120368</td>\n",
       "      <td>0</td>\n",
       "      <td>0</td>\n",
       "      <td>0</td>\n",
       "      <td>0</td>\n",
       "      <td>0</td>\n",
       "      <td>LumA</td>\n",
       "      <td>0</td>\n",
       "    </tr>\n",
       "    <tr>\n",
       "      <th>TCGA-A1-A0SF</th>\n",
       "      <td>7</td>\n",
       "      <td>11</td>\n",
       "      <td>8</td>\n",
       "      <td>26</td>\n",
       "      <td>0</td>\n",
       "      <td>0</td>\n",
       "      <td>0</td>\n",
       "      <td>0</td>\n",
       "      <td>0</td>\n",
       "      <td>0</td>\n",
       "      <td>...</td>\n",
       "      <td>0.000000</td>\n",
       "      <td>0.395329</td>\n",
       "      <td>0.604671</td>\n",
       "      <td>0</td>\n",
       "      <td>0</td>\n",
       "      <td>0</td>\n",
       "      <td>0</td>\n",
       "      <td>0</td>\n",
       "      <td>LumA</td>\n",
       "      <td>0</td>\n",
       "    </tr>\n",
       "    <tr>\n",
       "      <th>TCGA-A1-A0SG</th>\n",
       "      <td>3</td>\n",
       "      <td>2</td>\n",
       "      <td>4</td>\n",
       "      <td>9</td>\n",
       "      <td>0</td>\n",
       "      <td>0</td>\n",
       "      <td>0</td>\n",
       "      <td>0</td>\n",
       "      <td>0</td>\n",
       "      <td>0</td>\n",
       "      <td>...</td>\n",
       "      <td>0.183277</td>\n",
       "      <td>0.776319</td>\n",
       "      <td>0.040404</td>\n",
       "      <td>0</td>\n",
       "      <td>0</td>\n",
       "      <td>0</td>\n",
       "      <td>0</td>\n",
       "      <td>0</td>\n",
       "      <td>LumA</td>\n",
       "      <td>0</td>\n",
       "    </tr>\n",
       "  </tbody>\n",
       "</table>\n",
       "<p>5 rows × 37 columns</p>\n",
       "</div>"
      ],
      "text/plain": [
       "              HRD  Telomeric AI  LST  HRD-sum BRCA1_somatic_null  \\\n",
       "sample                                                             \n",
       "TCGA-A1-A0SB    0             0    0        0                  0   \n",
       "TCGA-A1-A0SD   10            10    7       27                  0   \n",
       "TCGA-A1-A0SE    6             6    1       13                  0   \n",
       "TCGA-A1-A0SF    7            11    8       26                  0   \n",
       "TCGA-A1-A0SG    3             2    4        9                  0   \n",
       "\n",
       "             BRCA1_germ_bi_allelic BRCA1_germ_mono_allelic BRCA1_deletion  \\\n",
       "sample                                                                      \n",
       "TCGA-A1-A0SB                     0                       0              0   \n",
       "TCGA-A1-A0SD                     0                       0              0   \n",
       "TCGA-A1-A0SE                     0                       0              0   \n",
       "TCGA-A1-A0SF                     0                       0              0   \n",
       "TCGA-A1-A0SG                     0                       0              0   \n",
       "\n",
       "             BRCA1_epigenetic_silencing BRCA1_mRNA  ...   H2.norm   H3.norm  \\\n",
       "sample                                              ...                       \n",
       "TCGA-A1-A0SB                          0          0  ...  0.044837  0.635070   \n",
       "TCGA-A1-A0SD                          0          0  ...  0.254169  0.703974   \n",
       "TCGA-A1-A0SE                          0          0  ...  0.102998  0.740053   \n",
       "TCGA-A1-A0SF                          0          0  ...  0.000000  0.395329   \n",
       "TCGA-A1-A0SG                          0          0  ...  0.183277  0.776319   \n",
       "\n",
       "               H4.norm event.BRCA1 event.BRCA2 event.RAD51C event.PALB2  \\\n",
       "sample                                                                    \n",
       "TCGA-A1-A0SB  0.000000           0           0            0           0   \n",
       "TCGA-A1-A0SD  0.041857           0           0            0           0   \n",
       "TCGA-A1-A0SE  0.120368           0           0            0           0   \n",
       "TCGA-A1-A0SF  0.604671           0           0            0           0   \n",
       "TCGA-A1-A0SG  0.040404           0           0            0           0   \n",
       "\n",
       "             event.All Events event.PAM50 event.TNBC  \n",
       "sample                                                \n",
       "TCGA-A1-A0SB                0         NaN          0  \n",
       "TCGA-A1-A0SD                0        LumA          0  \n",
       "TCGA-A1-A0SE                0        LumA          0  \n",
       "TCGA-A1-A0SF                0        LumA          0  \n",
       "TCGA-A1-A0SG                0        LumA          0  \n",
       "\n",
       "[5 rows x 37 columns]"
      ]
     },
     "execution_count": 5,
     "metadata": {},
     "output_type": "execute_result"
    }
   ],
   "source": [
    "#merge metadata\n",
    "\n",
    "metadata = pd.merge(hrd_df, brca_filt, left_on='sample', right_index=True)\n",
    "metadata.set_index('sample', inplace=True)\n",
    "\n",
    "print (metadata.shape)\n",
    "print(metadata.columns)\n",
    "metadata.head()"
   ]
  },
  {
   "cell_type": "markdown",
   "metadata": {},
   "source": [
    "# Keep Protein coding columns + extracting gene IDs\n",
    "## filter only Primary Tumor Samples"
   ]
  },
  {
   "cell_type": "code",
   "execution_count": 6,
   "metadata": {},
   "outputs": [
    {
     "data": {
      "text/plain": [
       "(1231, 60663)"
      ]
     },
     "execution_count": 6,
     "metadata": {},
     "output_type": "execute_result"
    }
   ],
   "source": [
    "rnaseq_df.shape"
   ]
  },
  {
   "cell_type": "code",
   "execution_count": 7,
   "metadata": {},
   "outputs": [],
   "source": [
    "#rnaseq_df"
   ]
  },
  {
   "cell_type": "code",
   "execution_count": 8,
   "metadata": {},
   "outputs": [
    {
     "name": "stdout",
     "output_type": "stream",
     "text": [
      "(1111, 19965)\n"
     ]
    }
   ],
   "source": [
    "#filt protein coding only\n",
    "columns_to_keep = ['Case ID', 'Sample ID', 'Sample Type']\n",
    "# columns_to_keep =[]\n",
    "gene_columns = [col for col in rnaseq_df.columns if col not in columns_to_keep]\n",
    "protein_coding_cols = [col for col in gene_columns if 'protein_coding' in col]\n",
    "final_columns = columns_to_keep + protein_coding_cols\n",
    "pcg_rnaseq_df_filtered = rnaseq_df[final_columns]\n",
    "\n",
    "#filt only primary tumor\n",
    "pcg_rnaseq_df_filtered = pcg_rnaseq_df_filtered[pcg_rnaseq_df_filtered['Sample Type'] == 'Primary Tumor']\n",
    "print(pcg_rnaseq_df_filtered.shape)\n",
    "#Slicing gene names\n",
    "# split 0 for enseble ID, 1 for gene ID\n",
    "#sliced_cols = [col.split('|')[1] for col in pcg_rnaseq_df_filtered.columns[3:]]\n",
    "sliced_cols = [col.split('|')[1] for col in pcg_rnaseq_df_filtered.columns[3:]]\n",
    "\n",
    "pcg_rnaseq_df_filtered.columns = columns_to_keep+sliced_cols\n",
    "pcg_rnaseq_df_filtered.set_index('Case ID', inplace=True)\n"
   ]
  },
  {
   "cell_type": "code",
   "execution_count": 9,
   "metadata": {},
   "outputs": [
    {
     "data": {
      "text/plain": [
       "(1111, 19964)"
      ]
     },
     "execution_count": 9,
     "metadata": {},
     "output_type": "execute_result"
    }
   ],
   "source": [
    "pcg_rnaseq_df_filtered.shape"
   ]
  },
  {
   "cell_type": "markdown",
   "metadata": {},
   "source": [
    "# ***Get Intersecting samples***"
   ]
  },
  {
   "cell_type": "code",
   "execution_count": 10,
   "metadata": {},
   "outputs": [
    {
     "name": "stdout",
     "output_type": "stream",
     "text": [
      "\n",
      "Number of common samples: 857\n"
     ]
    }
   ],
   "source": [
    "#idenfity the common samples\n",
    "\n",
    "# Extract sample IDs from each dataframe\n",
    "rnaseq_samples = set(pcg_rnaseq_df_filtered.index)\n",
    "metadata_samples = set(metadata.index)\n",
    "\n",
    "# Find the intersection of all sample IDs\n",
    "common_samples = rnaseq_samples.intersection(metadata_samples)\n",
    "\n",
    "# Print the number of common samples\n",
    "print(\"\\nNumber of common samples:\", len(common_samples))"
   ]
  },
  {
   "cell_type": "code",
   "execution_count": 11,
   "metadata": {},
   "outputs": [
    {
     "name": "stdout",
     "output_type": "stream",
     "text": [
      "pcg_rnaseq_df_filtered: (857, 19964)\n",
      "metadata_common: (857, 37)\n"
     ]
    }
   ],
   "source": [
    "# Drop samples that are not common in all three dataframes\n",
    "gene_expression = pcg_rnaseq_df_filtered[pcg_rnaseq_df_filtered.index.isin(common_samples)]\n",
    "labels = metadata[metadata.index.isin(common_samples)]\n",
    "\n",
    "# Print the shapes of the new dataframes\n",
    "print(\"pcg_rnaseq_df_filtered:\", gene_expression.shape)\n",
    "print(\"metadata_common:\", labels.shape)"
   ]
  },
  {
   "cell_type": "markdown",
   "metadata": {},
   "source": [
    "# ***Apply Soft Labels***"
   ]
  },
  {
   "cell_type": "code",
   "execution_count": 12,
   "metadata": {},
   "outputs": [],
   "source": [
    "# Soft label method\n",
    "def softLabel(x, median, HRD_thresh, HRP_thresh):\n",
    "    adjustment = 2 * ((((HRD_thresh - x) / (HRD_thresh - HRP_thresh))) ** 2)\n",
    "    if x < HRP_thresh:\n",
    "        return 0\n",
    "    elif x >= HRD_thresh:\n",
    "        return 1\n",
    "    elif median <= x < HRD_thresh:\n",
    "        return min(adjustment, 1)\n",
    "    elif HRP_thresh <= x < median:\n",
    "        return max(1 - adjustment,0)"
   ]
  },
  {
   "cell_type": "code",
   "execution_count": 13,
   "metadata": {},
   "outputs": [],
   "source": [
    "softLabel_metadata = labels.copy()\n",
    "softLabel_metadata['HRD_status_base'] = softLabel_metadata['HRD-sum'].apply(lambda x: 'HRD' if x >= 42 else 'HR')\n",
    "total_median = softLabel_metadata['HRD-sum'].median()\n",
    "softLabel_metadata['HRD_adjust'] = ['HRD' if x >= 50 else 'HRP' if x <= 10 else 'HRD ambiguous' if total_median <= x <50 else 'HRP ambiguous' if 10 <= x < total_median else 'None' for x in softLabel_metadata['HRD-sum']]\n",
    "softLabel_metadata['soft prob'] = softLabel_metadata['HRD-sum'].apply(lambda x: softLabel(x, total_median, 50, 10))\n",
    "softLabel_metadata = softLabel_metadata.rename_axis('Case ID', axis='index')"
   ]
  },
  {
   "cell_type": "code",
   "execution_count": 14,
   "metadata": {},
   "outputs": [
    {
     "data": {
      "text/plain": [
       "(857, 40)"
      ]
     },
     "execution_count": 14,
     "metadata": {},
     "output_type": "execute_result"
    }
   ],
   "source": [
    "softLabel_metadata.shape\n",
    "#softLabel_metadata.columns"
   ]
  },
  {
   "cell_type": "code",
   "execution_count": 15,
   "metadata": {},
   "outputs": [
    {
     "data": {
      "text/plain": [
       "HRD_status_base\n",
       "HR     652\n",
       "HRD    205\n",
       "Name: count, dtype: int64"
      ]
     },
     "execution_count": 15,
     "metadata": {},
     "output_type": "execute_result"
    }
   ],
   "source": [
    "softLabel_metadata[\"HRD_status_base\"].value_counts()"
   ]
  },
  {
   "cell_type": "markdown",
   "metadata": {},
   "source": [
    "# ***Get DESeq2 Genes***"
   ]
  },
  {
   "cell_type": "code",
   "execution_count": 16,
   "metadata": {},
   "outputs": [
    {
     "name": "stderr",
     "output_type": "stream",
     "text": [
      "/opt/homebrew/Caskroom/miniconda/base/envs/hrdclas/lib/python3.12/site-packages/tqdm/auto.py:21: TqdmWarning: IProgress not found. Please update jupyter and ipywidgets. See https://ipywidgets.readthedocs.io/en/stable/user_install.html\n",
      "  from .autonotebook import tqdm as notebook_tqdm\n"
     ]
    },
    {
     "name": "stderr",
     "output_type": "stream",
     "text": [
      "OMP: Info #276: omp_set_nested routine deprecated, please use omp_set_max_active_levels instead.\n"
     ]
    }
   ],
   "source": [
    "from pydeseq2.dds import DeseqDataSet\n",
    "from pydeseq2.ds import DeseqStats\n",
    "import matplotlib.pyplot as plt\n",
    "import seaborn as sns\n",
    "import decoupler as dc\n",
    "import plotly.express as px"
   ]
  },
  {
   "cell_type": "code",
   "execution_count": 17,
   "metadata": {},
   "outputs": [],
   "source": [
    "def runDESeq2(counts, metadata, design_factors):\n",
    "    # Make gene names unique before creating DESeqDataSet\n",
    "    counts = counts.copy()\n",
    "    counts.columns = pd.Index(counts.columns).str.split('_').str[0] + '_' + pd.Series(range(len(counts.columns))).astype(str)\n",
    "    \n",
    "    # Create the DESeqDataSet object\n",
    "    dds = DeseqDataSet(\n",
    "        counts=counts,\n",
    "        metadata=metadata,\n",
    "        design_factors=design_factors,\n",
    "    )\n",
    "    \n",
    "    # Run the differential expression analysis\n",
    "    dds.deseq2()\n",
    "    \n",
    "    # Get the results\n",
    "    stats = DeseqStats(dds)\n",
    "    stats.summary()\n",
    "    results = stats.results_df\n",
    "    \n",
    "    return results\n"
   ]
  },
  {
   "cell_type": "code",
   "execution_count": 18,
   "metadata": {},
   "outputs": [],
   "source": [
    "# cast expression to int\n",
    "gene_expression_int = gene_expression.iloc[:,2:].round().astype(int)\n",
    "#gene_expression_int\n",
    "\n",
    "softLabel_metadata = softLabel_metadata.sort_index()\n",
    "gene_expression_int = gene_expression_int.sort_index()"
   ]
  },
  {
   "cell_type": "code",
   "execution_count": 19,
   "metadata": {},
   "outputs": [
    {
     "name": "stdout",
     "output_type": "stream",
     "text": [
      "True\n"
     ]
    }
   ],
   "source": [
    "print(gene_expression_int.index.equals(softLabel_metadata.index))  # Should return True\n"
   ]
  },
  {
   "cell_type": "code",
   "execution_count": 20,
   "metadata": {},
   "outputs": [
    {
     "name": "stdout",
     "output_type": "stream",
     "text": [
      "0\n",
      "0\n"
     ]
    }
   ],
   "source": [
    "# Check for duplicate indices in counts dataframe\n",
    "print(gene_expression_int.index.duplicated().sum())\n",
    "\n",
    "# Check for duplicate indices in metadata dataframe\n",
    "print(softLabel_metadata.index.duplicated().sum())\n"
   ]
  },
  {
   "cell_type": "code",
   "execution_count": 21,
   "metadata": {},
   "outputs": [
    {
     "name": "stdout",
     "output_type": "stream",
     "text": [
      "Data Validation Report:\n",
      "--------------------------------------------------\n",
      "Counts matrix shape: (857, 19962)\n",
      "Metadata shape: (857, 40)\n",
      "\n",
      "Index Analysis:\n",
      "Counts index is unique: True\n",
      "Metadata index is unique: True\n",
      "\n",
      "Number of matching indices: 857\n",
      "Expected number of samples: 857\n",
      "\n",
      "Design factor 'HRD_status_base' distribution:\n",
      "HRD_status_base\n",
      "HR     652\n",
      "HRD    205\n",
      "Name: count, dtype: int64\n",
      "\n",
      "Number of zero-variance genes: 2166\n"
     ]
    }
   ],
   "source": [
    "# First, let's do a comprehensive data check\n",
    "def check_deseq2_data(counts_df, metadata_df, design_factor):\n",
    "    print(\"Data Validation Report:\")\n",
    "    print(\"-\" * 50)\n",
    "    \n",
    "    # Check basic dimensions\n",
    "    print(f\"Counts matrix shape: {counts_df.shape}\")\n",
    "    print(f\"Metadata shape: {metadata_df.shape}\")\n",
    "    \n",
    "    # Check indices\n",
    "    print(\"\\nIndex Analysis:\")\n",
    "    print(f\"Counts index is unique: {counts_df.index.is_unique}\")\n",
    "    print(f\"Metadata index is unique: {metadata_df.index.is_unique}\")\n",
    "    \n",
    "    # Check for index overlap\n",
    "    common_indices = counts_df.index.intersection(metadata_df.index)\n",
    "    print(f\"\\nNumber of matching indices: {len(common_indices)}\")\n",
    "    print(f\"Expected number of samples: {len(metadata_df)}\")\n",
    "    \n",
    "    # Check design factor\n",
    "    print(f\"\\nDesign factor '{design_factor}' distribution:\")\n",
    "    print(metadata_df[design_factor].value_counts())\n",
    "    \n",
    "    # Check for any zero-variance genes\n",
    "    zero_var_genes = (counts_df == 0).all()\n",
    "    print(f\"\\nNumber of zero-variance genes: {zero_var_genes.sum()}\")\n",
    "    \n",
    "    return common_indices\n",
    "\n",
    "# Run the checks\n",
    "common_idx = check_deseq2_data(gene_expression_int, softLabel_metadata, 'HRD_status_base')\n",
    "\n",
    "# Prepare the data ensuring perfect alignment\n",
    "def prepare_deseq2_data(counts_df, metadata_df, common_indices):\n",
    "    # Subset both dataframes to common indices\n",
    "    counts_aligned = counts_df.loc[common_indices]\n",
    "    metadata_aligned = metadata_df.loc[common_indices]\n",
    "    \n",
    "    # Verify alignment\n",
    "    assert counts_aligned.index.equals(metadata_aligned.index), \"Indices not aligned\"\n",
    "    assert counts_aligned.index.is_unique, \"Duplicate indices present\"\n",
    "    \n",
    "    return counts_aligned, metadata_aligned\n",
    "\n",
    "# Prepare aligned data\n",
    "gene_expression_aligned, softLabel_metadata_aligned = prepare_deseq2_data(\n",
    "    gene_expression_int, \n",
    "    softLabel_metadata,\n",
    "    common_idx\n",
    ")"
   ]
  },
  {
   "cell_type": "code",
   "execution_count": 22,
   "metadata": {},
   "outputs": [
    {
     "name": "stderr",
     "output_type": "stream",
     "text": [
      "/var/folders/tx/vgccmrkj1fz1zv99j496_3k80000gn/T/ipykernel_24013/4064001399.py:7: UserWarning: Same factor names in the design contain underscores ('_'). They will\n",
      "                be converted to hyphens ('-').\n",
      "  dds = DeseqDataSet(\n",
      "Fitting size factors...\n",
      "... done in 0.32 seconds.\n",
      "\n",
      "Fitting dispersions...\n",
      "... done in 3.00 seconds.\n",
      "\n",
      "Fitting dispersion trend curve...\n",
      "... done in 0.34 seconds.\n",
      "\n",
      "Fitting MAP dispersions...\n",
      "... done in 4.19 seconds.\n",
      "\n",
      "Fitting LFCs...\n",
      "... done in 1.39 seconds.\n",
      "\n",
      "Calculating cook's distance...\n",
      "... done in 1.25 seconds.\n",
      "\n",
      "Replacing 747 outlier genes.\n",
      "\n",
      "Fitting dispersions...\n",
      "... done in 0.13 seconds.\n",
      "\n",
      "Fitting MAP dispersions...\n",
      "... done in 0.13 seconds.\n",
      "\n",
      "Fitting LFCs...\n",
      "... done in 0.10 seconds.\n",
      "\n",
      "Running Wald tests...\n"
     ]
    },
    {
     "name": "stdout",
     "output_type": "stream",
     "text": [
      "Log2 fold change & Wald test p-value: HRD-status-base HRD vs HR\n",
      "                   baseMean  log2FoldChange     lfcSE      stat        pvalue  \\\n",
      "TSPAN6_0          12.265658        0.088258  0.078558  1.123469  2.612382e-01   \n",
      "TNMD_1             0.375812       -0.555440  0.340749 -1.630057  1.030895e-01   \n",
      "DPM1_2            36.942920        0.378305  0.044770  8.449978  2.913575e-17   \n",
      "SCYL3_3            4.385599       -0.295746  0.058748 -5.034134  4.800128e-07   \n",
      "C1orf112_4         2.313620        0.543328  0.070702  7.684798  1.532388e-14   \n",
      "...                     ...             ...       ...       ...           ...   \n",
      "AL451106.1_19957   0.000000             NaN       NaN       NaN           NaN   \n",
      "AC008763.4_19958   0.000000             NaN       NaN       NaN           NaN   \n",
      "AC006486.3_19959   0.000000             NaN       NaN       NaN           NaN   \n",
      "AL391628.1_19960   0.000000             NaN       NaN       NaN           NaN   \n",
      "AP006621.6_19961   0.221629       -0.234714  0.297013 -0.790248  4.293832e-01   \n",
      "\n",
      "                          padj  \n",
      "TSPAN6_0          3.515869e-01  \n",
      "TNMD_1            1.553648e-01  \n",
      "DPM1_2            3.085527e-16  \n",
      "SCYL3_3           1.658753e-06  \n",
      "C1orf112_4        1.217123e-13  \n",
      "...                        ...  \n",
      "AL451106.1_19957           NaN  \n",
      "AC008763.4_19958           NaN  \n",
      "AC006486.3_19959           NaN  \n",
      "AL391628.1_19960           NaN  \n",
      "AP006621.6_19961  5.330706e-01  \n",
      "\n",
      "[19962 rows x 6 columns]\n"
     ]
    },
    {
     "name": "stderr",
     "output_type": "stream",
     "text": [
      "... done in 0.72 seconds.\n",
      "\n"
     ]
    }
   ],
   "source": [
    "basic = runDESeq2(gene_expression_aligned, softLabel_metadata_aligned, 'HRD_status_base')"
   ]
  },
  {
   "cell_type": "code",
   "execution_count": 23,
   "metadata": {},
   "outputs": [],
   "source": [
    "basic_filt = basic[basic[\"padj\"] <= 0.01]"
   ]
  },
  {
   "cell_type": "code",
   "execution_count": 24,
   "metadata": {},
   "outputs": [
    {
     "data": {
      "text/plain": [
       "(8071, 6)"
      ]
     },
     "execution_count": 24,
     "metadata": {},
     "output_type": "execute_result"
    }
   ],
   "source": [
    "basic_filt.shape"
   ]
  },
  {
   "cell_type": "markdown",
   "metadata": {},
   "source": [
    "# Getting top 2% og Protein coding genes"
   ]
  },
  {
   "cell_type": "code",
   "execution_count": 25,
   "metadata": {},
   "outputs": [],
   "source": [
    "# Assuming `df` is your DataFrame where rows are samples and columns are genes\n",
    "\n",
    "# Calculate the mean expression for each gene\n",
    "mean_expression = gene_expression_int.mean()\n",
    "\n",
    "# Sort the genes by their mean expression in descending order\n",
    "sorted_genes = mean_expression.sort_values(ascending=False)\n",
    "\n",
    "# Get the number of genes to keep (top 2%)\n",
    "num_genes_to_keep = int(0.02 * len(sorted_genes))\n",
    "\n",
    "# Get the top 2% of genes based on mean expression\n",
    "top_2_percent_genes = sorted_genes.head(num_genes_to_keep).index\n",
    "\n",
    "# Filter the DataFrame to keep only the top 2% genes\n",
    "filtered_df_tp2_percent = gene_expression_int[top_2_percent_genes]\n",
    "\n",
    "# Print the filtered DataFrame\n",
    "#print(filtered_df_tp2_percent)"
   ]
  },
  {
   "cell_type": "markdown",
   "metadata": {},
   "source": [
    "# Overlap DESeq2 genes with RNA seq"
   ]
  },
  {
   "cell_type": "code",
   "execution_count": 26,
   "metadata": {},
   "outputs": [
    {
     "data": {
      "text/plain": [
       "8071"
      ]
     },
     "execution_count": 26,
     "metadata": {},
     "output_type": "execute_result"
    }
   ],
   "source": [
    "de_genes = [gene.split('_')[0] for gene in basic_filt.index]\n",
    "len(de_genes)"
   ]
  },
  {
   "cell_type": "code",
   "execution_count": 27,
   "metadata": {},
   "outputs": [],
   "source": [
    "common_de_genes = gene_expression_int.loc[:, gene_expression_int.columns.isin(de_genes)]\n"
   ]
  },
  {
   "cell_type": "code",
   "execution_count": 28,
   "metadata": {},
   "outputs": [],
   "source": [
    "# import numpy as np\n",
    "# import pandas as pd\n",
    "# from sklearn.model_selection import train_test_split\n",
    "# from sklearn.preprocessing import StandardScaler, LabelEncoder\n",
    "# from sklearn.linear_model import LogisticRegression, ElasticNet\n",
    "# from sklearn.ensemble import RandomForestClassifier, GradientBoostingClassifier, RandomForestRegressor, GradientBoostingRegressor\n",
    "# from sklearn.metrics import roc_curve, auc, confusion_matrix, classification_report, mean_squared_error, r2_score\n",
    "# import matplotlib.pyplot as plt\n",
    "# import seaborn as sns\n",
    "\n",
    "# baby = None\n",
    "\n",
    "# # Data Preprocessing Function\n",
    "# def preprocess_data(X, y, task='classification'):\n",
    "#     # Encode categorical labels\n",
    "#     if task == 'classification':\n",
    "#         le = LabelEncoder()\n",
    "#         y = le.fit_transform(y)\n",
    "    \n",
    "#     # Split data\n",
    "#     X_train, X_test, y_train, y_test = train_test_split(X, y, test_size=0.2, random_state=42)\n",
    "    \n",
    "#     # Scale features\n",
    "#     scaler = StandardScaler()\n",
    "#     X_train_scaled = scaler.fit_transform(X_train)\n",
    "#     X_test_scaled = scaler.transform(X_test)\n",
    "    \n",
    "#     return X_train_scaled, X_test_scaled, y_train, y_test\n",
    "\n",
    "# # Model Training & Evaluation Function for Classification\n",
    "# def train_evaluate_classification_models(X_train, X_test, y_train, y_test):\n",
    "#     global baby\n",
    "#     models = {\n",
    "#         'Elastic Net': LogisticRegression(penalty='elasticnet', solver='saga', \n",
    "#                                         l1_ratio=0.5, max_iter=1000),\n",
    "#         'Random Forest': RandomForestClassifier(n_estimators=100, random_state=42),\n",
    "#         'Gradient Boosting': GradientBoostingClassifier(random_state=42)\n",
    "#     }\n",
    "    \n",
    "#     results = {}\n",
    "#     plt.figure(figsize=(10, 8))\n",
    "    \n",
    "#     for name, model in models.items():\n",
    "#         # Train model\n",
    "#         model.fit(X_train, y_train)\n",
    "        \n",
    "#         # Get predictions\n",
    "#         y_pred_proba = model.predict_proba(X_test)[:, 1]\n",
    "#         y_pred = model.predict(X_test)\n",
    "        \n",
    "#         # Calculate metrics\n",
    "#         fpr, tpr, _ = roc_curve(y_test, y_pred_proba)\n",
    "#         roc_auc = auc(fpr, tpr)\n",
    "        \n",
    "#         # Plot ROC curve\n",
    "#         plt.plot(fpr, tpr, label=f'{name} (AUC = {roc_auc:.2f})')\n",
    "        \n",
    "#         # Store results\n",
    "#         results[name] = {\n",
    "#             'AUC': roc_auc,\n",
    "#             'Confusion Matrix': confusion_matrix(y_test, y_pred),\n",
    "#             'Classification Report': classification_report(y_test, y_pred)\n",
    "#         }\n",
    "\n",
    "#         if name == 'Elastic Net':\n",
    "#             baby = model\n",
    "    \n",
    "#     plt.plot([0, 1], [0, 1], 'k--')\n",
    "#     plt.xlim([0.0, 1.0])\n",
    "#     plt.ylim([0.0, 1.05])\n",
    "#     plt.xlabel('False Positive Rate')\n",
    "#     plt.ylabel('True Positive Rate')\n",
    "#     plt.title('ROC Curves for Classification Models')\n",
    "#     plt.legend(loc=\"lower right\")\n",
    "#     plt.show()\n",
    "    \n",
    "#     return results\n",
    "\n",
    "# # Main execution\n",
    "# def main():\n",
    "#     # For top 2% expressed genes\n",
    "#     print(\"Training models on top 2% expressed genes:\")\n",
    "    \n",
    "#     # Classification\n",
    "#     X_train_top, X_test_top, y_train_top, y_test_top = preprocess_data(\n",
    "#         filtered_df_tp2_percent, softLabel_metadata['HRD_status_base'], task='classification'\n",
    "#     )\n",
    "    \n",
    "#     results_top = train_evaluate_classification_models(\n",
    "#         X_train_top, X_test_top, y_train_top, y_test_top\n",
    "#     )\n",
    "    \n",
    "#     # For differentially expressed genes\n",
    "#     print(\"\\nTraining models on differentially expressed genes:\")\n",
    "    \n",
    "#     X_train_de, X_test_de, y_train_de, y_test_de = preprocess_data(\n",
    "#         common_de_genes, softLabel_metadata['HRD_status_base'], task='classification'\n",
    "#     )\n",
    "    \n",
    "#     results_de = train_evaluate_classification_models(\n",
    "#         X_train_de, X_test_de, y_train_de, y_test_de\n",
    "#     )\n",
    "    \n",
    "#     # Print results\n",
    "#     print(\"\\nResults for top 2% expressed genes:\")\n",
    "#     for model_name, metrics in results_top.items():\n",
    "#         print(f\"\\n{model_name}:\")\n",
    "#         print(f\"AUC: {metrics['AUC']:.3f}\")\n",
    "#         print(\"\\nClassification Report:\")\n",
    "#         print(metrics['Classification Report'])\n",
    "#         print(\"\\nConfusion Matrix:\")\n",
    "#         print(metrics['Confusion Matrix'])\n",
    "    \n",
    "#     print(\"\\nResults for differentially expressed genes:\")\n",
    "#     for model_name, metrics in results_de.items():\n",
    "#         print(f\"\\n{model_name}:\")\n",
    "#         print(f\"AUC: {metrics['AUC']:.3f}\")\n",
    "#         print(\"\\nClassification Report:\")\n",
    "#         print(metrics['Classification Report'])\n",
    "#         print(\"\\nConfusion Matrix:\")\n",
    "#         print(metrics['Confusion Matrix'])\n",
    "\n",
    "# # For regression task on Confidence values\n",
    "# def train_evaluate_regression_models(X_train, X_test, y_train, y_test):\n",
    "#     models = {\n",
    "#         'Elastic Net': ElasticNet(random_state=42),\n",
    "#         'Random Forest': RandomForestRegressor(n_estimators=100, random_state=42),\n",
    "#         'Gradient Boosting': GradientBoostingRegressor(random_state=42)\n",
    "#     }\n",
    "    \n",
    "#     results = {}\n",
    "    \n",
    "#     for name, model in models.items():\n",
    "#         # Train model\n",
    "#         model.fit(X_train, y_train)\n",
    "        \n",
    "#         # Get predictions\n",
    "#         y_pred = model.predict(X_test)\n",
    "        \n",
    "#         # Calculate metrics\n",
    "#         mse = mean_squared_error(y_test, y_pred)\n",
    "#         r2 = r2_score(y_test, y_pred)\n",
    "        \n",
    "#         # Store results\n",
    "#         results[name] = {\n",
    "#             'MSE': mse,\n",
    "#             'R2': r2,\n",
    "#             'Model': model\n",
    "#         }\n",
    "        \n",
    "#         # Plot actual vs predicted\n",
    "#         plt.figure(figsize=(8, 6))\n",
    "#         plt.scatter(y_test, y_pred, alpha=0.5)\n",
    "#         plt.plot([y_test.min(), y_test.max()], [y_test.min(), y_test.max()], 'r--', lw=2)\n",
    "#         plt.xlabel('Actual Confidence')\n",
    "#         plt.ylabel('Predicted Confidence')\n",
    "#         plt.title(f'{name} - Actual vs Predicted')\n",
    "#         plt.show()\n",
    "    \n",
    "#     return results\n",
    "\n",
    "# # # Run regression models\n",
    "# # def run_regression():\n",
    "# #     print(\"\\nTraining regression models for Confidence prediction:\")\n",
    "    \n",
    "# #     # For top 2% expressed genes\n",
    "# #     X_train_top, X_test_top, y_train_top, y_test_top = preprocess_data(\n",
    "# #         rnaseq_df_top_genes, brca_df_common['Confidence'], task='regression'\n",
    "# #     )\n",
    "    \n",
    "# #     results_top_reg = train_evaluate_regression_models(\n",
    "# #         X_train_top, X_test_top, y_train_top, y_test_top\n",
    "# #     )\n",
    "    \n",
    "# #     print(\"\\nRegression Results for top 2% expressed genes:\")\n",
    "# #     for model_name, metrics in results_top_reg.items():\n",
    "# #         print(f\"\\n{model_name}:\")\n",
    "# #         print(f\"MSE: {metrics['MSE']:.6f}\")\n",
    "# #         print(f\"R2: {metrics['R2']:.3f}\")\n",
    "\n",
    "# googoog = main()\n",
    "# #run_regression()"
   ]
  },
  {
   "cell_type": "code",
   "execution_count": 29,
   "metadata": {},
   "outputs": [
    {
     "name": "stderr",
     "output_type": "stream",
     "text": [
      "/opt/homebrew/Caskroom/miniconda/base/envs/hrdclas/lib/python3.12/site-packages/sklearn/linear_model/_sag.py:349: ConvergenceWarning: The max_iter was reached which means the coef_ did not converge\n",
      "  warnings.warn(\n"
     ]
    },
    {
     "data": {
      "image/png": "[encoded data removed]",
      "text/plain": [
       "<Figure size 800x600 with 1 Axes>"
      ]
     },
     "metadata": {},
     "output_type": "display_data"
    },
    {
     "name": "stdout",
     "output_type": "stream",
     "text": [
      "\n",
      "Elastic Net Classification Results:\n",
      "AUC: 0.874\n",
      "\n",
      "Classification Report:\n",
      "              precision    recall  f1-score   support\n",
      "\n",
      "           0       0.89      0.93      0.91       132\n",
      "           1       0.74      0.62      0.68        40\n",
      "\n",
      "    accuracy                           0.86       172\n",
      "   macro avg       0.81      0.78      0.79       172\n",
      "weighted avg       0.86      0.86      0.86       172\n",
      "\n",
      "\n",
      "Confusion Matrix:\n",
      "[[123   9]\n",
      " [ 15  25]]\n"
     ]
    }
   ],
   "source": [
    "import numpy as np\n",
    "import pandas as pd\n",
    "from sklearn.model_selection import train_test_split\n",
    "from sklearn.preprocessing import StandardScaler, LabelEncoder\n",
    "from sklearn.linear_model import LogisticRegression\n",
    "from sklearn.metrics import roc_curve, auc, confusion_matrix, classification_report\n",
    "import matplotlib.pyplot as plt\n",
    "\n",
    "def preprocess_data(X, y):\n",
    "    \"\"\"\n",
    "    Preprocess data for classification with label encoding and scaling.\n",
    "    \n",
    "    Parameters:\n",
    "    X: Feature matrix (RNA-seq data)\n",
    "    y: Target vector (HRD status)\n",
    "    \"\"\"\n",
    "    # Encode categorical labels\n",
    "    le = LabelEncoder()\n",
    "    y = le.fit_transform(y)\n",
    "    \n",
    "    # Split data\n",
    "    X_train, X_test, y_train, y_test = train_test_split(X, y, test_size=0.2, random_state=42)\n",
    "    \n",
    "    # Scale features\n",
    "    scaler = StandardScaler()\n",
    "    X_train_scaled = scaler.fit_transform(X_train)\n",
    "    X_test_scaled = scaler.transform(X_test)\n",
    "    \n",
    "    return X_train_scaled, X_test_scaled, y_train, y_test\n",
    "\n",
    "def train_evaluate_elastic_net(X_train, X_test, y_train, y_test):\n",
    "    \"\"\"\n",
    "    Train and evaluate Elastic Net model for HRD classification.\n",
    "    \"\"\"\n",
    "    # Initialize and train model\n",
    "    model = LogisticRegression(penalty='elasticnet', solver='saga', \n",
    "                             l1_ratio=0.5, max_iter=1000)\n",
    "    model.fit(X_train, y_train)\n",
    "    \n",
    "    # Get predictions\n",
    "    y_pred_proba = model.predict_proba(X_test)[:, 1]\n",
    "    y_pred = model.predict(X_test)\n",
    "    \n",
    "    # Calculate metrics\n",
    "    fpr, tpr, _ = roc_curve(y_test, y_pred_proba)\n",
    "    roc_auc = auc(fpr, tpr)\n",
    "    \n",
    "    # Plot ROC curve\n",
    "    plt.figure(figsize=(8, 6))\n",
    "    plt.plot(fpr, tpr, label=f'Elastic Net (AUC = {roc_auc:.2f})')\n",
    "    plt.plot([0, 1], [0, 1], 'k--')\n",
    "    plt.xlim([0.0, 1.0])\n",
    "    plt.ylim([0.0, 1.05])\n",
    "    plt.xlabel('False Positive Rate')\n",
    "    plt.ylabel('True Positive Rate')\n",
    "    plt.title('ROC Curve for HRD Classification')\n",
    "    plt.legend(loc=\"lower right\")\n",
    "    plt.show()\n",
    "    \n",
    "    return {\n",
    "        'AUC': roc_auc,\n",
    "        'Confusion Matrix': confusion_matrix(y_test, y_pred),\n",
    "        'Classification Report': classification_report(y_test, y_pred),\n",
    "        'Model': model\n",
    "    }\n",
    "\n",
    "def main(filtered_df_tp2_percent, hrd_status):\n",
    "    \"\"\"\n",
    "    Main function to run HRD classification using Elastic Net.\n",
    "    \n",
    "    Parameters:\n",
    "    filtered_df_tp2_percent: DataFrame with top 2% expressed genes\n",
    "    hrd_status: Series with HRD status labels\n",
    "    \"\"\"\n",
    "    # Preprocess data\n",
    "    X_train, X_test, y_train, y_test = preprocess_data(\n",
    "        filtered_df_tp2_percent, hrd_status\n",
    "    )\n",
    "    \n",
    "    # Train and evaluate model\n",
    "    results = train_evaluate_elastic_net(X_train, X_test, y_train, y_test)\n",
    "    \n",
    "    # Print results\n",
    "    print(\"\\nElastic Net Classification Results:\")\n",
    "    print(f\"AUC: {results['AUC']:.3f}\")\n",
    "    print(\"\\nClassification Report:\")\n",
    "    print(results['Classification Report'])\n",
    "    print(\"\\nConfusion Matrix:\")\n",
    "    print(results['Confusion Matrix'])\n",
    "    \n",
    "    return results\n",
    "\n",
    "if __name__ == \"__main__\":\n",
    "    # The main function should be called with your preprocessed data:\n",
    "    results = main(filtered_df_tp2_percent, softLabel_metadata['HRD_status_base'])"
   ]
  },
  {
   "cell_type": "code",
   "execution_count": 30,
   "metadata": {},
   "outputs": [
    {
     "name": "stderr",
     "output_type": "stream",
     "text": [
      "/opt/homebrew/Caskroom/miniconda/base/envs/hrdclas/lib/python3.12/site-packages/sklearn/linear_model/_sag.py:349: ConvergenceWarning: The max_iter was reached which means the coef_ did not converge\n",
      "  warnings.warn(\n"
     ]
    },
    {
     "data": {
      "image/png": "[encoded data removed]",
      "text/plain": [
       "<Figure size 800x600 with 1 Axes>"
      ]
     },
     "metadata": {},
     "output_type": "display_data"
    },
    {
     "name": "stdout",
     "output_type": "stream",
     "text": [
      "\n",
      "Elastic Net Classification Results:\n",
      "AUC: 0.963\n",
      "\n",
      "Classification Report:\n",
      "              precision    recall  f1-score   support\n",
      "\n",
      "           0       0.95      0.92      0.93       132\n",
      "           1       0.77      0.82      0.80        40\n",
      "\n",
      "    accuracy                           0.90       172\n",
      "   macro avg       0.86      0.87      0.87       172\n",
      "weighted avg       0.90      0.90      0.90       172\n",
      "\n",
      "\n",
      "Confusion Matrix:\n",
      "[[122  10]\n",
      " [  7  33]]\n"
     ]
    }
   ],
   "source": [
    "results =  main(common_de_genes, softLabel_metadata['HRD_status_base'])"
   ]
  },
  {
   "cell_type": "code",
   "execution_count": 36,
   "metadata": {},
   "outputs": [
    {
     "data": {
      "image/png": "[encoded data removed]",
      "text/plain": [
       "<Figure size 1200x800 with 2 Axes>"
      ]
     },
     "metadata": {},
     "output_type": "display_data"
    }
   ],
   "source": [
    "import numpy as np\n",
    "import pandas as pd\n",
    "import matplotlib.pyplot as plt\n",
    "from scipy import stats\n",
    "from sklearn.metrics import f1_score\n",
    "import seaborn as sns\n",
    "\n",
    "# # Set the style for the plot\n",
    "# plt.style.use('seaborn')\n",
    "# sns.set_palette(\"husl\")\n",
    "\n",
    "# Create figure with secondary y-axis\n",
    "fig, ax1 = plt.subplots(figsize=(12, 8))\n",
    "ax2 = ax1.twinx()\n",
    "\n",
    "# Generate sample HRD scores (replace with your actual data)\n",
    "hrd_scores = softLabel_metadata['HRD-sum']\n",
    "\n",
    "# Calculate KDE\n",
    "kde = stats.gaussian_kde(hrd_scores)\n",
    "x_range = np.linspace(0, 100, 200)\n",
    "density = kde(x_range)\n",
    "\n",
    "# Create histogram\n",
    "hist_counts, hist_bins, _ = ax1.hist(hrd_scores, bins=40, density=True, \n",
    "                                   alpha=0.6, color='burlywood', \n",
    "                                   label='TCGA-BRCA HRD Scores')\n",
    "ax1.plot(x_range, density, 'k-', lw=2)\n",
    "\n",
    "# Set up the soft label ranges and F1 scores (example data - replace with your actual values)\n",
    "ranges = [(10, 30), (20, 40), (30, 50)]  # Example ranges\n",
    "f1_scores = [75, 72, 70]  # Example F1 scores\n",
    "ci_errors = [2, 2, 2]  # Example confidence intervals\n",
    "\n",
    "# Plot error bars for each range\n",
    "for (start, end), f1, err in zip(ranges, f1_scores, ci_errors):\n",
    "    mid_point = (start + end) / 2\n",
    "    ax2.errorbar(mid_point, f1, xerr=(end-start)/2, yerr=err,\n",
    "                fmt='r*', markersize=10, capsize=5)\n",
    "    ax2.plot([start, end], [f1, f1], 'r-', alpha=0.5)\n",
    "\n",
    "# Add DeepHRD range (example - adjust as needed)\n",
    "deep_hrd_range = (15, 35)\n",
    "deep_hrd_f1 = 73\n",
    "deep_hrd_err = 2\n",
    "ax2.errorbar(np.mean(deep_hrd_range), deep_hrd_f1, \n",
    "            xerr=(deep_hrd_range[1]-deep_hrd_range[0])/2,\n",
    "            yerr=deep_hrd_err, fmt='g*', markersize=10, capsize=5,\n",
    "            label='DeepHRD Soft Label Range')\n",
    "ax2.plot(deep_hrd_range, [deep_hrd_f1, deep_hrd_f1], 'g-', alpha=0.5)\n",
    "\n",
    "# Customize the plot\n",
    "ax1.set_xlabel('Genomic HRD Scores')\n",
    "ax1.set_ylabel('Density')\n",
    "ax2.set_ylabel('F1-score')\n",
    "\n",
    "# Set axis limits\n",
    "ax1.set_xlim(0, 100)\n",
    "ax1.set_ylim(0, max(density) * 1.1)\n",
    "ax2.set_ylim(45, 80)\n",
    "\n",
    "# Add legends\n",
    "lines1, labels1 = ax1.get_legend_handles_labels()\n",
    "lines2, labels2 = ax2.get_legend_handles_labels()\n",
    "ax1.legend(lines1 + lines2, labels1 + ['Soft Label Ranges', 'DeepHRD Soft Label Range'],\n",
    "          loc='upper right')\n",
    "\n",
    "# Adjust layout and display\n",
    "plt.tight_layout()\n",
    "plt.show()"
   ]
  }
 ],
 "metadata": {
  "kernelspec": {
   "display_name": "HRDclass",
   "language": "python",
   "name": "python3"
  },
  "language_info": {
   "codemirror_mode": {
    "name": "ipython",
    "version": 3
   },
   "file_extension": ".py",
   "mimetype": "text/x-python",
   "name": "python",
   "nbconvert_exporter": "python",
   "pygments_lexer": "ipython3",
   "version": "3.12.7"
  }
 },
 "nbformat": 4,
 "nbformat_minor": 2
}
