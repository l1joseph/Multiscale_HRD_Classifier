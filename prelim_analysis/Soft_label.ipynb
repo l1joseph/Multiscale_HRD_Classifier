{
 "cells": [
  {
   "cell_type": "code",
   "execution_count": 104,
   "metadata": {},
   "outputs": [],
   "source": [
    "import pandas as pd\n",
    "import numpy as np\n",
    "import plotly.express as px\n"
   ]
  },
  {
   "cell_type": "markdown",
   "metadata": {},
   "source": [
    "### Data preprocessing"
   ]
  },
  {
   "cell_type": "code",
   "execution_count": 105,
   "metadata": {},
   "outputs": [],
   "source": [
    "# Load the RNA-seq data\n",
    "rnaseq_df = pd.read_csv('../data/tcga.brca.rnaseq.unstranded.fpkm.counts.matrix.txt', sep='\\t', index_col=0)\n",
    "\n",
    "# Load the HRD score data\n",
    "hrd_df = pd.read_excel('../data/tcga.hrdscore.xlsx')\n",
    "\n",
    "# Load the BRCA status data\n",
    "brca_df = pd.read_csv('../data/toga.breast.brca.status.txt', sep='\\t', index_col=0)\n",
    "brca_df.index = brca_df.index.str.replace('.', '-')\n"
   ]
  },
  {
   "cell_type": "code",
   "execution_count": 106,
   "metadata": {},
   "outputs": [
    {
     "name": "stdout",
     "output_type": "stream",
     "text": [
      "\n",
      "Number of common samples: 864\n"
     ]
    }
   ],
   "source": [
    "#idenfity the common samples\n",
    "\n",
    "# Extract sample IDs from each dataframe\n",
    "rnaseq_samples = set(rnaseq_df['Case ID'])\n",
    "hrd_samples = set(hrd_df['sample'])\n",
    "brca_samples = set(brca_df.index)\n",
    "\n",
    "# Find the intersection of all sample IDs\n",
    "common_samples = rnaseq_samples.intersection(hrd_samples).intersection(brca_samples)\n",
    "\n",
    "# Print the number of common samples\n",
    "print(\"\\nNumber of common samples:\", len(common_samples))"
   ]
  },
  {
   "cell_type": "code",
   "execution_count": 107,
   "metadata": {},
   "outputs": [
    {
     "name": "stdout",
     "output_type": "stream",
     "text": [
      "rnaseq_df_common: (929, 60663)\n",
      "hrd_df_common: (864, 5)\n",
      "brca_df_common: (864, 33)\n"
     ]
    }
   ],
   "source": [
    "# Drop samples that are not common in all three dataframes\n",
    "rnaseq_df_common = rnaseq_df[rnaseq_df['Case ID'].isin(common_samples)]\n",
    "hrd_df_common = hrd_df[hrd_df['sample'].isin(common_samples)]\n",
    "brca_df_common = brca_df[brca_df.index.isin(common_samples)]\n",
    "\n",
    "# Print the shapes of the new dataframes\n",
    "print(\"rnaseq_df_common:\", rnaseq_df_common.shape)\n",
    "print(\"hrd_df_common:\", hrd_df_common.shape)\n",
    "print(\"brca_df_common:\", brca_df_common.shape)"
   ]
  },
  {
   "cell_type": "code",
   "execution_count": 108,
   "metadata": {},
   "outputs": [
    {
     "name": "stdout",
     "output_type": "stream",
     "text": [
      "(864, 37)\n",
      "Index(['HRD', 'Telomeric AI', 'LST', 'HRD-sum', 'BRCA1_somatic_null',\n",
      "       'BRCA1_germ_bi_allelic', 'BRCA1_germ_mono_allelic', 'BRCA1_deletion',\n",
      "       'BRCA1_epigenetic_silencing', 'BRCA1_mRNA', 'BRCA2_somatic_null',\n",
      "       'BRCA2_germ_bi_allelic', 'BRCA2_germ_undetermined',\n",
      "       'BRCA2_germ_mono_allelic', 'BRCA2_deletion', 'RAD51C_germ',\n",
      "       'RAD51C_deletion', 'RAD51C_epigenetic_silencing', 'RAD51C_mRNA',\n",
      "       'PALB2_somatic_null', 'PALB2_germ', 'TP53_somatic', 'H1', 'H2', 'H3',\n",
      "       'H4', 'H1.norm', 'H2.norm', 'H3.norm', 'H4.norm', 'event.BRCA1',\n",
      "       'event.BRCA2', 'event.RAD51C', 'event.PALB2', 'event.All Events',\n",
      "       'event.PAM50', 'event.TNBC'],\n",
      "      dtype='object')\n"
     ]
    }
   ],
   "source": [
    "#merge metadata\n",
    "\n",
    "metadata = pd.merge(hrd_df_common, brca_df_common, left_on='sample', right_index=True)\n",
    "metadata.set_index('sample', inplace=True)\n",
    "\n",
    "print (metadata.shape)\n",
    "print(metadata.columns)\n",
    "#metadata.head()"
   ]
  },
  {
   "cell_type": "code",
   "execution_count": 109,
   "metadata": {},
   "outputs": [
    {
     "name": "stdout",
     "output_type": "stream",
     "text": [
      "(857, 37)\n",
      "Index(['HRD', 'Telomeric AI', 'LST', 'HRD-sum', 'BRCA1_somatic_null',\n",
      "       'BRCA1_germ_bi_allelic', 'BRCA1_germ_mono_allelic', 'BRCA1_deletion',\n",
      "       'BRCA1_epigenetic_silencing', 'BRCA1_mRNA', 'BRCA2_somatic_null',\n",
      "       'BRCA2_germ_bi_allelic', 'BRCA2_germ_undetermined',\n",
      "       'BRCA2_germ_mono_allelic', 'BRCA2_deletion', 'RAD51C_germ',\n",
      "       'RAD51C_deletion', 'RAD51C_epigenetic_silencing', 'RAD51C_mRNA',\n",
      "       'PALB2_somatic_null', 'PALB2_germ', 'TP53_somatic', 'H1', 'H2', 'H3',\n",
      "       'H4', 'H1.norm', 'H2.norm', 'H3.norm', 'H4.norm', 'event.BRCA1',\n",
      "       'event.BRCA2', 'event.RAD51C', 'event.PALB2', 'event.All Events',\n",
      "       'event.PAM50', 'event.TNBC'],\n",
      "      dtype='object')\n"
     ]
    }
   ],
   "source": [
    "\n",
    "# Start with the original dataframe\n",
    "metadata_filtered = metadata.copy()\n",
    "\n",
    "# Drop rows where event.BRCA1 is '1'\n",
    "metadata_filtered = metadata_filtered[metadata_filtered['event.BRCA1'] != '1']\n",
    "\n",
    "# Drop rows where event.BRCA2 is 'Bi-allelic-undetermined'\n",
    "metadata_filtered = metadata_filtered[metadata_filtered['event.BRCA2'] != 'Bi-allelic-undetermined']\n",
    "\n",
    "# Drop rows where event.PALB2 is '2'\n",
    "metadata_filtered = metadata_filtered[metadata_filtered['event.PALB2'] != '2']\n",
    "\n",
    "print (metadata_filtered.shape)\n",
    "print(metadata_filtered.columns)\n",
    "metadata_filtered.head()\n",
    "\n",
    "metadata = metadata_filtered\n",
    "metadata['HRD_status_base'] = metadata['HRD-sum'].apply(lambda x: 'HRD' if x >= 42 else 'HR')\n"
   ]
  },
  {
   "cell_type": "code",
   "execution_count": 110,
   "metadata": {},
   "outputs": [
    {
     "data": {
      "application/vnd.plotly.v1+json": {
       "config": {
        "plotlyServerURL": "https://plot.ly"
       },
       "data": [
        {
         "alignmentgroup": "True",
         "hovertemplate": "HRD_status_base=HR<br>event.PAM50=%{x}<br>HRD-sum=%{y}<extra></extra>",
         "legendgroup": "HR",
         "marker": {
          "color": "#636efa"
         },
         "name": "HR",
         "notched": false,
         "offsetgroup": "HR",
         "orientation": "v",
         "showlegend": true,
         "type": "box",
         "x": [
          null,
          "LumA",
          "LumA",
          "LumA",
          "LumA",
          "LumA",
          "LumB",
          "LumA",
          "Basal",
          "LumA",
          "LumB",
          "Basal",
          "LumA",
          "Basal",
          "LumB",
          "LumA",
          "Her2",
          "Her2",
          "LumB",
          "LumA",
          null,
          "LumA",
          "LumA",
          "LumA",
          "LumA",
          "LumA",
          "LumA",
          "LumA",
          "LumA",
          "LumB",
          "Her2",
          "Her2",
          "LumA",
          "LumB",
          "LumA",
          "LumA",
          "LumA",
          "LumA",
          "LumA",
          "LumA",
          "LumA",
          "LumA",
          "LumA",
          "LumA",
          "LumB",
          "LumB",
          "Basal",
          "LumA",
          "Basal",
          "LumA",
          "LumA",
          "LumA",
          "LumA",
          "LumA",
          "LumA",
          "Basal",
          "LumA",
          "LumB",
          "LumB",
          "LumA",
          null,
          "LumA",
          "LumA",
          "LumB",
          "LumB",
          "LumA",
          "LumA",
          "Basal",
          "LumB",
          "LumA",
          "LumB",
          "LumA",
          "LumA",
          "LumA",
          "Basal",
          "Her2",
          "Basal",
          "Her2",
          "Basal",
          "Basal",
          "LumA",
          "LumA",
          "LumA",
          "LumA",
          "LumA",
          "LumA",
          "LumA",
          "LumA",
          "LumA",
          "LumA",
          "LumA",
          "LumA",
          "Her2",
          "LumA",
          "LumB",
          "LumB",
          "LumA",
          "LumB",
          "LumA",
          "LumA",
          "LumB",
          "LumB",
          "LumA",
          "LumA",
          "LumA",
          "Her2",
          "LumA",
          "Basal",
          "LumA",
          "LumA",
          "LumB",
          "LumB",
          "LumA",
          "LumB",
          "LumB",
          "LumA",
          "LumA",
          "Her2",
          "LumA",
          "LumB",
          "Her2",
          "LumA",
          "LumB",
          "LumA",
          "LumA",
          "LumA",
          "LumA",
          "LumB",
          "LumA",
          "LumB",
          "LumB",
          "LumA",
          "LumA",
          "LumB",
          "LumA",
          "LumB",
          "Her2",
          "LumA",
          "LumB",
          "LumB",
          "LumA",
          "LumA",
          "Her2",
          "LumB",
          "LumA",
          "LumA",
          "LumA",
          "LumA",
          "Her2",
          "LumA",
          "LumA",
          "LumA",
          "LumA",
          "LumA",
          "LumA",
          "Her2",
          "LumA",
          "LumB",
          "LumA",
          "LumA",
          "LumA",
          "LumA",
          "LumA",
          "LumA",
          "LumA",
          "LumA",
          "LumA",
          "LumA",
          "LumA",
          "LumA",
          "LumA",
          "LumA",
          "LumA",
          "LumB",
          "Basal",
          "LumA",
          "LumA",
          "Basal",
          "LumA",
          "LumA",
          "LumB",
          "LumA",
          "LumA",
          "Her2",
          "LumB",
          "LumA",
          "LumA",
          "LumB",
          "Basal",
          "LumA",
          "LumA",
          "Her2",
          "LumA",
          "Basal",
          "LumA",
          "LumA",
          "LumA",
          "LumB",
          "LumA",
          "LumA",
          "LumA",
          "LumA",
          "LumA",
          "LumB",
          "LumB",
          null,
          null,
          "LumA",
          "LumB",
          "LumA",
          "LumA",
          "LumA",
          "Her2",
          "LumA",
          "LumA",
          "LumA",
          "LumA",
          "LumB",
          "LumA",
          "LumA",
          "Basal",
          "LumA",
          "LumA",
          "LumA",
          null,
          "LumB",
          "LumB",
          "LumB",
          "LumB",
          "LumA",
          "LumA",
          "LumA",
          "Basal",
          "LumB",
          "LumB",
          "LumA",
          "LumB",
          "Her2",
          "LumB",
          "LumA",
          "Basal",
          "Basal",
          "LumA",
          "LumA",
          "LumA",
          "LumA",
          "Basal",
          "Basal",
          "LumA",
          "LumA",
          "LumA",
          "LumB",
          "LumA",
          "Basal",
          "LumB",
          "LumA",
          "LumB",
          "LumA",
          "LumA",
          "LumB",
          "LumB",
          "Her2",
          "LumA",
          "LumA",
          "LumA",
          "LumB",
          "Her2",
          "LumA",
          "LumA",
          "LumA",
          "LumB",
          "LumB",
          "LumA",
          "LumA",
          "LumA",
          "LumA",
          "LumA",
          "LumA",
          "Basal",
          "LumA",
          "Her2",
          "LumA",
          "LumB",
          "LumA",
          "LumA",
          "LumA",
          "LumA",
          "Her2",
          "LumA",
          "LumB",
          "LumA",
          "LumA",
          "LumA",
          "Her2",
          "LumA",
          "LumB",
          "LumA",
          "LumA",
          "LumA",
          "LumA",
          "Basal",
          "LumA",
          "LumA",
          "LumA",
          "LumB",
          "LumB",
          "Basal",
          "LumA",
          "LumA",
          "LumA",
          "LumB",
          "LumA",
          "Basal",
          "LumA",
          "LumA",
          "LumA",
          "Basal",
          "LumA",
          "Basal",
          "LumA",
          "LumA",
          "LumB",
          "Her2",
          "LumA",
          "LumA",
          "LumA",
          "LumA",
          "Basal",
          "LumB",
          "LumB",
          "LumA",
          "LumA",
          "LumA",
          "LumA",
          "LumB",
          "LumB",
          "LumB",
          "LumA",
          "LumA",
          "LumA",
          "LumA",
          "LumA",
          "LumA",
          "LumA",
          "Basal",
          "LumA",
          "LumA",
          "LumA",
          "LumA",
          "Her2",
          "LumA",
          "LumA",
          "LumA",
          "LumB",
          "LumA",
          "LumA",
          "LumA",
          "LumA",
          "LumA",
          "LumA",
          "LumA",
          "LumA",
          "LumA",
          "LumA",
          "LumB",
          "LumB",
          "Basal",
          "LumB",
          "LumA",
          "LumA",
          "LumA",
          "LumA",
          "Basal",
          "LumA",
          "LumA",
          "LumA",
          "LumA",
          "LumB",
          "LumA",
          "LumA",
          "Her2",
          "LumA",
          "Her2",
          "LumA",
          "LumA",
          "LumA",
          "Her2",
          "LumA",
          "LumA",
          "LumA",
          "Basal",
          "LumB",
          "Basal",
          "LumB",
          "LumA",
          "LumA",
          "LumB",
          "LumA",
          "LumB",
          null,
          "LumA",
          "LumB",
          "LumB",
          null,
          "LumB",
          "LumA",
          "LumA",
          "LumB",
          "LumA",
          "LumA",
          "LumB",
          "LumA",
          "LumA",
          "Her2",
          "LumB",
          "LumA",
          "LumA",
          "Her2",
          "Basal",
          "Her2",
          "Her2",
          "Her2",
          "LumA",
          "Her2",
          "LumA",
          "Her2",
          "LumB",
          "LumB",
          "LumA",
          "LumB",
          "LumB",
          "Her2",
          "LumA",
          "LumA",
          "LumB",
          "Her2",
          "Her2",
          "LumA",
          "LumB",
          "LumA",
          "LumA",
          "Basal",
          "LumA",
          "LumB",
          "LumB",
          "Her2",
          "LumB",
          "LumB",
          "Her2",
          "Her2",
          "LumB",
          "LumB",
          "LumA",
          "LumA",
          "LumB",
          "LumA",
          "LumB",
          "LumB",
          "LumB",
          "LumA",
          "LumA",
          "LumA",
          "LumB",
          "LumA",
          "Her2",
          "LumA",
          "LumA",
          "LumB",
          "LumB",
          "Her2",
          "LumA",
          "LumA",
          "LumA",
          "LumB",
          "LumB",
          "LumB",
          "LumB",
          "LumA",
          "LumA",
          "LumA",
          "LumA",
          "LumA",
          "LumB",
          "LumA",
          "LumA",
          "LumB",
          "LumA",
          "LumA",
          "LumA",
          "LumA",
          "LumA",
          "LumA",
          null,
          "LumB",
          "LumA",
          "LumA",
          "LumB",
          "LumA",
          "LumB",
          "LumA",
          "LumB",
          "LumA",
          "Her2",
          "Basal",
          "Her2",
          "LumA",
          "LumB",
          "LumA",
          "Basal",
          "LumA",
          "LumA",
          "LumA",
          "LumA",
          "LumA",
          "LumA",
          "LumA",
          "LumB",
          "LumA",
          "LumA",
          "LumA",
          "LumA",
          "LumA",
          "Basal",
          "LumA",
          "LumA",
          "LumA",
          "LumA",
          "LumA",
          "LumA",
          "LumA",
          "LumA",
          "Her2",
          "Basal",
          "Basal",
          "LumA",
          "LumA",
          "LumA",
          "LumB",
          "LumA",
          "LumA",
          "Basal",
          "LumA",
          "LumA",
          "LumA",
          "LumA",
          "Basal",
          "LumA",
          "LumA",
          "LumB",
          "LumA",
          "LumA",
          "LumA",
          "LumA",
          "LumB",
          "LumA",
          "LumB",
          "LumA",
          "LumA",
          "LumA",
          "LumB",
          "LumA",
          "LumB",
          "LumA",
          "LumB",
          "LumB",
          "LumB",
          "LumA",
          "Her2",
          "LumB",
          "LumA",
          "LumA",
          "LumA",
          "LumA",
          "LumB",
          "LumB",
          "LumA",
          "LumB",
          "LumA",
          "LumA",
          "LumA",
          "LumA",
          "LumB",
          "LumA",
          "LumA",
          "LumA",
          "LumA",
          "LumB",
          "Her2",
          "LumB",
          "LumB",
          "LumA",
          "LumA",
          "LumA",
          "Basal",
          "LumA",
          "LumA",
          "Her2",
          "LumA",
          "LumA",
          "LumB",
          "LumA",
          "LumA",
          "LumA",
          "LumA",
          "LumA",
          "LumA",
          null,
          "LumA",
          "LumA",
          "LumA",
          "LumB",
          "LumA",
          "LumA",
          "LumA",
          "LumA",
          "LumA",
          "LumA",
          "LumA",
          "Her2",
          "LumA",
          "LumA",
          "LumA",
          "LumA",
          "LumA",
          "LumB",
          "LumA",
          "Her2",
          "LumA",
          "LumA",
          "Basal",
          "LumA",
          "LumA",
          "LumA",
          null,
          "Basal",
          "LumA",
          "LumA",
          "LumA",
          "LumA",
          "LumA",
          "Her2",
          "LumA",
          "LumA",
          "LumA",
          "LumA",
          "LumA",
          "LumA",
          "Her2",
          "LumA",
          "LumA",
          "LumA",
          "LumA"
         ],
         "x0": " ",
         "xaxis": "x",
         "y": [
          0,
          27,
          13,
          26,
          9,
          34,
          13,
          29,
          38,
          14,
          22,
          16,
          5,
          37,
          35,
          9,
          28,
          17,
          19,
          11,
          40,
          12,
          5,
          3,
          7,
          5,
          32,
          31,
          9,
          40,
          25,
          31,
          4,
          35,
          6,
          8,
          0,
          7,
          10,
          7,
          28,
          4,
          10,
          17,
          32,
          37,
          32,
          10,
          23,
          15,
          4,
          6,
          31,
          7,
          7,
          38,
          14,
          38,
          34,
          8,
          7,
          8,
          32,
          38,
          17,
          4,
          8,
          17,
          11,
          7,
          13,
          41,
          9,
          15,
          13,
          8,
          22,
          22,
          0,
          28,
          10,
          9,
          12,
          13,
          8,
          19,
          6,
          16,
          0,
          11,
          7,
          23,
          28,
          3,
          25,
          38,
          13,
          40,
          30,
          4,
          28,
          28,
          31,
          21,
          12,
          26,
          10,
          18,
          25,
          17,
          35,
          13,
          7,
          22,
          41,
          12,
          12,
          37,
          3,
          28,
          38,
          26,
          12,
          12,
          15,
          38,
          12,
          28,
          11,
          8,
          5,
          11,
          13,
          27,
          26,
          18,
          20,
          24,
          27,
          27,
          6,
          3,
          26,
          9,
          17,
          17,
          28,
          15,
          22,
          13,
          20,
          17,
          28,
          11,
          6,
          37,
          22,
          26,
          1,
          9,
          9,
          23,
          23,
          8,
          11,
          13,
          9,
          9,
          7,
          5,
          8,
          1,
          33,
          27,
          37,
          19,
          16,
          34,
          5,
          11,
          11,
          18,
          39,
          34,
          15,
          31,
          27,
          11,
          34,
          8,
          11,
          40,
          27,
          30,
          19,
          27,
          4,
          13,
          8,
          36,
          7,
          37,
          19,
          22,
          28,
          12,
          0,
          19,
          4,
          3,
          10,
          36,
          35,
          5,
          18,
          14,
          11,
          39,
          4,
          19,
          25,
          6,
          12,
          29,
          1,
          17,
          31,
          37,
          29,
          27,
          26,
          8,
          34,
          10,
          10,
          17,
          31,
          19,
          37,
          27,
          41,
          28,
          14,
          10,
          30,
          21,
          31,
          28,
          9,
          23,
          14,
          35,
          11,
          33,
          27,
          13,
          8,
          10,
          5,
          16,
          29,
          28,
          17,
          10,
          4,
          36,
          22,
          37,
          6,
          9,
          9,
          34,
          8,
          6,
          25,
          11,
          16,
          13,
          40,
          4,
          39,
          26,
          28,
          5,
          24,
          28,
          30,
          26,
          16,
          21,
          29,
          6,
          38,
          26,
          11,
          26,
          5,
          5,
          25,
          5,
          36,
          19,
          21,
          28,
          21,
          31,
          31,
          33,
          7,
          5,
          5,
          21,
          23,
          8,
          10,
          13,
          35,
          23,
          30,
          10,
          9,
          34,
          40,
          8,
          27,
          13,
          28,
          35,
          8,
          27,
          7,
          37,
          22,
          11,
          18,
          41,
          21,
          16,
          32,
          3,
          15,
          3,
          31,
          26,
          40,
          5,
          16,
          3,
          6,
          25,
          9,
          23,
          14,
          17,
          5,
          8,
          7,
          31,
          9,
          23,
          16,
          3,
          15,
          3,
          38,
          22,
          13,
          9,
          7,
          4,
          22,
          7,
          12,
          36,
          10,
          27,
          26,
          25,
          13,
          6,
          29,
          14,
          27,
          21,
          3,
          23,
          30,
          6,
          39,
          4,
          30,
          34,
          36,
          41,
          9,
          35,
          4,
          13,
          41,
          23,
          11,
          16,
          34,
          35,
          28,
          12,
          6,
          34,
          7,
          10,
          33,
          7,
          33,
          24,
          28,
          15,
          20,
          37,
          30,
          32,
          36,
          40,
          13,
          29,
          14,
          31,
          22,
          38,
          15,
          32,
          32,
          38,
          21,
          18,
          15,
          16,
          27,
          6,
          22,
          20,
          5,
          35,
          12,
          6,
          37,
          31,
          34,
          20,
          25,
          38,
          18,
          24,
          7,
          6,
          15,
          5,
          38,
          5,
          5,
          15,
          15,
          7,
          24,
          9,
          37,
          15,
          13,
          15,
          13,
          38,
          25,
          2,
          26,
          30,
          9,
          16,
          34,
          1,
          8,
          12,
          3,
          10,
          23,
          3,
          18,
          25,
          4,
          10,
          8,
          10,
          18,
          13,
          34,
          32,
          24,
          5,
          23,
          12,
          8,
          12,
          16,
          32,
          31,
          18,
          32,
          10,
          25,
          7,
          23,
          4,
          4,
          20,
          9,
          19,
          23,
          25,
          19,
          4,
          8,
          35,
          3,
          12,
          31,
          6,
          16,
          16,
          37,
          5,
          10,
          18,
          5,
          21,
          14,
          34,
          25,
          14,
          5,
          28,
          9,
          4,
          32,
          24,
          4,
          15,
          20,
          27,
          10,
          14,
          27,
          6,
          17,
          13,
          14,
          35,
          4,
          27,
          20,
          6,
          11,
          30,
          3,
          28,
          22,
          25,
          39,
          12,
          0,
          23,
          14,
          5,
          37,
          3,
          3,
          6,
          32,
          4,
          21,
          8,
          14,
          26,
          18,
          7,
          8,
          24,
          21,
          11,
          38,
          35,
          9,
          22,
          10,
          19,
          4,
          34,
          28,
          9,
          27,
          25,
          21,
          11,
          16,
          24,
          27,
          19,
          14,
          25,
          34,
          17,
          20,
          3,
          9,
          19,
          12,
          9,
          19,
          4,
          8,
          7,
          38,
          18,
          10,
          10,
          9,
          24,
          19,
          39,
          22,
          19,
          8,
          30,
          22,
          12,
          9,
          23,
          40,
          16,
          20,
          3,
          4,
          5,
          23,
          0,
          9,
          8,
          8,
          5,
          12,
          34,
          13,
          22,
          32,
          7
         ],
         "y0": " ",
         "yaxis": "y"
        },
        {
         "alignmentgroup": "True",
         "hovertemplate": "HRD_status_base=HRD<br>event.PAM50=%{x}<br>HRD-sum=%{y}<extra></extra>",
         "legendgroup": "HRD",
         "marker": {
          "color": "#EF553B"
         },
         "name": "HRD",
         "notched": false,
         "offsetgroup": "HRD",
         "orientation": "v",
         "showlegend": true,
         "type": "box",
         "x": [
          "Basal",
          "Basal",
          "Basal",
          "Basal",
          "Basal",
          "Her2",
          "LumB",
          "Basal",
          "Her2",
          "LumB",
          "Basal",
          "Basal",
          "LumB",
          "LumB",
          "LumB",
          "Basal",
          "Basal",
          "Basal",
          "LumB",
          "LumB",
          "Basal",
          "Basal",
          "LumB",
          "Basal",
          "Basal",
          "LumB",
          "Basal",
          "LumB",
          "LumA",
          "LumB",
          "LumB",
          "LumB",
          "Basal",
          "LumA",
          "Basal",
          "LumB",
          "LumB",
          "LumB",
          "Her2",
          "Basal",
          "Her2",
          "Her2",
          "LumA",
          "LumA",
          "LumB",
          "LumB",
          "LumB",
          "LumB",
          "Basal",
          "Her2",
          "LumA",
          "Basal",
          "LumB",
          "Basal",
          "LumB",
          "Basal",
          "Basal",
          "Basal",
          "Basal",
          "LumB",
          "LumA",
          "Basal",
          "LumB",
          null,
          "LumA",
          "Her2",
          "LumB",
          "Basal",
          "Basal",
          "LumB",
          "Basal",
          "Basal",
          "Her2",
          "Basal",
          "Basal",
          "Basal",
          "Basal",
          "Basal",
          "Basal",
          "LumA",
          "LumB",
          "LumA",
          "Basal",
          "Basal",
          "LumB",
          "LumA",
          "Basal",
          "Basal",
          "Basal",
          "Basal",
          "Basal",
          "Basal",
          "LumA",
          "Basal",
          "Basal",
          "Basal",
          "Her2",
          "LumB",
          "Basal",
          "Basal",
          "Basal",
          "LumA",
          "Basal",
          "LumA",
          "LumB",
          "LumA",
          "LumB",
          "Basal",
          "Basal",
          "Basal",
          "LumB",
          "Basal",
          "LumB",
          "LumB",
          "Her2",
          "LumA",
          "Basal",
          "Her2",
          "Her2",
          "Her2",
          "LumB",
          "LumB",
          "Basal",
          "LumB",
          "Basal",
          "LumB",
          "Her2",
          "LumB",
          "Basal",
          "LumB",
          "Her2",
          "Basal",
          "Basal",
          "LumA",
          "Basal",
          "Basal",
          "Basal",
          "LumA",
          "LumA",
          "Basal",
          "LumB",
          "Basal",
          null,
          "LumA",
          "Basal",
          "Basal",
          "Basal",
          "LumB",
          "Basal",
          "Her2",
          "Basal",
          "LumB",
          "Basal",
          "LumB",
          "Her2",
          "LumB",
          "LumA",
          "Her2",
          "Basal",
          "Basal",
          "Basal",
          "Basal",
          "Basal",
          "LumB",
          "Basal",
          "Basal",
          "LumB",
          "LumA",
          "LumB",
          "LumB",
          "LumA",
          "LumB",
          "Her2",
          "LumB",
          "Basal",
          "Basal",
          "Basal",
          "LumA",
          "LumB",
          "LumB",
          "Basal",
          "Basal",
          "LumA",
          "LumB",
          "LumB",
          "Basal",
          "Basal",
          "LumB",
          "Basal",
          "Basal",
          "Her2",
          "LumA",
          "Basal",
          "Her2",
          "Her2",
          "Basal",
          "Basal",
          null,
          "Basal",
          "Basal",
          "Basal",
          "Basal",
          "Basal",
          "Basal",
          "LumA"
         ],
         "x0": " ",
         "xaxis": "x",
         "y": [
          90,
          87,
          48,
          66,
          77,
          43,
          53,
          70,
          45,
          46,
          43,
          43,
          49,
          69,
          55,
          42,
          65,
          70,
          72,
          61,
          80,
          50,
          48,
          56,
          48,
          70,
          73,
          64,
          67,
          60,
          61,
          53,
          101,
          45,
          50,
          54,
          80,
          43,
          77,
          88,
          53,
          57,
          49,
          82,
          42,
          72,
          60,
          57,
          50,
          55,
          49,
          62,
          42,
          74,
          44,
          76,
          69,
          62,
          69,
          46,
          62,
          85,
          50,
          43,
          42,
          81,
          49,
          59,
          73,
          55,
          84,
          72,
          45,
          69,
          47,
          57,
          71,
          67,
          90,
          60,
          48,
          42,
          49,
          51,
          72,
          53,
          78,
          84,
          67,
          60,
          44,
          89,
          84,
          68,
          55,
          45,
          89,
          43,
          48,
          67,
          65,
          74,
          64,
          69,
          75,
          43,
          60,
          70,
          62,
          56,
          48,
          61,
          54,
          62,
          64,
          48,
          58,
          81,
          59,
          46,
          48,
          56,
          74,
          44,
          73,
          69,
          43,
          51,
          65,
          55,
          49,
          54,
          79,
          53,
          58,
          76,
          43,
          65,
          61,
          71,
          51,
          75,
          55,
          42,
          83,
          76,
          59,
          47,
          84,
          64,
          78,
          61,
          53,
          65,
          43,
          78,
          71,
          46,
          86,
          53,
          53,
          42,
          54,
          46,
          83,
          50,
          52,
          57,
          53,
          46,
          50,
          52,
          54,
          86,
          80,
          58,
          74,
          47,
          58,
          58,
          60,
          67,
          51,
          45,
          54,
          70,
          75,
          47,
          43,
          71,
          51,
          44,
          86,
          47,
          59,
          83,
          69,
          64,
          72,
          52,
          71,
          58,
          57,
          48,
          49
         ],
         "y0": " ",
         "yaxis": "y"
        }
       ],
       "layout": {
        "boxmode": "group",
        "legend": {
         "title": {
          "text": "HRD_status_base"
         },
         "tracegroupgap": 0
        },
        "margin": {
         "t": 60
        },
        "template": {
         "data": {
          "bar": [
           {
            "error_x": {
             "color": "#2a3f5f"
            },
            "error_y": {
             "color": "#2a3f5f"
            },
            "marker": {
             "line": {
              "color": "#E5ECF6",
              "width": 0.5
             },
             "pattern": {
              "fillmode": "overlay",
              "size": 10,
              "solidity": 0.2
             }
            },
            "type": "bar"
           }
          ],
          "barpolar": [
           {
            "marker": {
             "line": {
              "color": "#E5ECF6",
              "width": 0.5
             },
             "pattern": {
              "fillmode": "overlay",
              "size": 10,
              "solidity": 0.2
             }
            },
            "type": "barpolar"
           }
          ],
          "carpet": [
           {
            "aaxis": {
             "endlinecolor": "#2a3f5f",
             "gridcolor": "white",
             "linecolor": "white",
             "minorgridcolor": "white",
             "startlinecolor": "#2a3f5f"
            },
            "baxis": {
             "endlinecolor": "#2a3f5f",
             "gridcolor": "white",
             "linecolor": "white",
             "minorgridcolor": "white",
             "startlinecolor": "#2a3f5f"
            },
            "type": "carpet"
           }
          ],
          "choropleth": [
           {
            "colorbar": {
             "outlinewidth": 0,
             "ticks": ""
            },
            "type": "choropleth"
           }
          ],
          "contour": [
           {
            "colorbar": {
             "outlinewidth": 0,
             "ticks": ""
            },
            "colorscale": [
             [
              0,
              "#0d0887"
             ],
             [
              0.1111111111111111,
              "#46039f"
             ],
             [
              0.2222222222222222,
              "#7201a8"
             ],
             [
              0.3333333333333333,
              "#9c179e"
             ],
             [
              0.4444444444444444,
              "#bd3786"
             ],
             [
              0.5555555555555556,
              "#d8576b"
             ],
             [
              0.6666666666666666,
              "#ed7953"
             ],
             [
              0.7777777777777778,
              "#fb9f3a"
             ],
             [
              0.8888888888888888,
              "#fdca26"
             ],
             [
              1,
              "#f0f921"
             ]
            ],
            "type": "contour"
           }
          ],
          "contourcarpet": [
           {
            "colorbar": {
             "outlinewidth": 0,
             "ticks": ""
            },
            "type": "contourcarpet"
           }
          ],
          "heatmap": [
           {
            "colorbar": {
             "outlinewidth": 0,
             "ticks": ""
            },
            "colorscale": [
             [
              0,
              "#0d0887"
             ],
             [
              0.1111111111111111,
              "#46039f"
             ],
             [
              0.2222222222222222,
              "#7201a8"
             ],
             [
              0.3333333333333333,
              "#9c179e"
             ],
             [
              0.4444444444444444,
              "#bd3786"
             ],
             [
              0.5555555555555556,
              "#d8576b"
             ],
             [
              0.6666666666666666,
              "#ed7953"
             ],
             [
              0.7777777777777778,
              "#fb9f3a"
             ],
             [
              0.8888888888888888,
              "#fdca26"
             ],
             [
              1,
              "#f0f921"
             ]
            ],
            "type": "heatmap"
           }
          ],
          "heatmapgl": [
           {
            "colorbar": {
             "outlinewidth": 0,
             "ticks": ""
            },
            "colorscale": [
             [
              0,
              "#0d0887"
             ],
             [
              0.1111111111111111,
              "#46039f"
             ],
             [
              0.2222222222222222,
              "#7201a8"
             ],
             [
              0.3333333333333333,
              "#9c179e"
             ],
             [
              0.4444444444444444,
              "#bd3786"
             ],
             [
              0.5555555555555556,
              "#d8576b"
             ],
             [
              0.6666666666666666,
              "#ed7953"
             ],
             [
              0.7777777777777778,
              "#fb9f3a"
             ],
             [
              0.8888888888888888,
              "#fdca26"
             ],
             [
              1,
              "#f0f921"
             ]
            ],
            "type": "heatmapgl"
           }
          ],
          "histogram": [
           {
            "marker": {
             "pattern": {
              "fillmode": "overlay",
              "size": 10,
              "solidity": 0.2
             }
            },
            "type": "histogram"
           }
          ],
          "histogram2d": [
           {
            "colorbar": {
             "outlinewidth": 0,
             "ticks": ""
            },
            "colorscale": [
             [
              0,
              "#0d0887"
             ],
             [
              0.1111111111111111,
              "#46039f"
             ],
             [
              0.2222222222222222,
              "#7201a8"
             ],
             [
              0.3333333333333333,
              "#9c179e"
             ],
             [
              0.4444444444444444,
              "#bd3786"
             ],
             [
              0.5555555555555556,
              "#d8576b"
             ],
             [
              0.6666666666666666,
              "#ed7953"
             ],
             [
              0.7777777777777778,
              "#fb9f3a"
             ],
             [
              0.8888888888888888,
              "#fdca26"
             ],
             [
              1,
              "#f0f921"
             ]
            ],
            "type": "histogram2d"
           }
          ],
          "histogram2dcontour": [
           {
            "colorbar": {
             "outlinewidth": 0,
             "ticks": ""
            },
            "colorscale": [
             [
              0,
              "#0d0887"
             ],
             [
              0.1111111111111111,
              "#46039f"
             ],
             [
              0.2222222222222222,
              "#7201a8"
             ],
             [
              0.3333333333333333,
              "#9c179e"
             ],
             [
              0.4444444444444444,
              "#bd3786"
             ],
             [
              0.5555555555555556,
              "#d8576b"
             ],
             [
              0.6666666666666666,
              "#ed7953"
             ],
             [
              0.7777777777777778,
              "#fb9f3a"
             ],
             [
              0.8888888888888888,
              "#fdca26"
             ],
             [
              1,
              "#f0f921"
             ]
            ],
            "type": "histogram2dcontour"
           }
          ],
          "mesh3d": [
           {
            "colorbar": {
             "outlinewidth": 0,
             "ticks": ""
            },
            "type": "mesh3d"
           }
          ],
          "parcoords": [
           {
            "line": {
             "colorbar": {
              "outlinewidth": 0,
              "ticks": ""
             }
            },
            "type": "parcoords"
           }
          ],
          "pie": [
           {
            "automargin": true,
            "type": "pie"
           }
          ],
          "scatter": [
           {
            "fillpattern": {
             "fillmode": "overlay",
             "size": 10,
             "solidity": 0.2
            },
            "type": "scatter"
           }
          ],
          "scatter3d": [
           {
            "line": {
             "colorbar": {
              "outlinewidth": 0,
              "ticks": ""
             }
            },
            "marker": {
             "colorbar": {
              "outlinewidth": 0,
              "ticks": ""
             }
            },
            "type": "scatter3d"
           }
          ],
          "scattercarpet": [
           {
            "marker": {
             "colorbar": {
              "outlinewidth": 0,
              "ticks": ""
             }
            },
            "type": "scattercarpet"
           }
          ],
          "scattergeo": [
           {
            "marker": {
             "colorbar": {
              "outlinewidth": 0,
              "ticks": ""
             }
            },
            "type": "scattergeo"
           }
          ],
          "scattergl": [
           {
            "marker": {
             "colorbar": {
              "outlinewidth": 0,
              "ticks": ""
             }
            },
            "type": "scattergl"
           }
          ],
          "scattermapbox": [
           {
            "marker": {
             "colorbar": {
              "outlinewidth": 0,
              "ticks": ""
             }
            },
            "type": "scattermapbox"
           }
          ],
          "scatterpolar": [
           {
            "marker": {
             "colorbar": {
              "outlinewidth": 0,
              "ticks": ""
             }
            },
            "type": "scatterpolar"
           }
          ],
          "scatterpolargl": [
           {
            "marker": {
             "colorbar": {
              "outlinewidth": 0,
              "ticks": ""
             }
            },
            "type": "scatterpolargl"
           }
          ],
          "scatterternary": [
           {
            "marker": {
             "colorbar": {
              "outlinewidth": 0,
              "ticks": ""
             }
            },
            "type": "scatterternary"
           }
          ],
          "surface": [
           {
            "colorbar": {
             "outlinewidth": 0,
             "ticks": ""
            },
            "colorscale": [
             [
              0,
              "#0d0887"
             ],
             [
              0.1111111111111111,
              "#46039f"
             ],
             [
              0.2222222222222222,
              "#7201a8"
             ],
             [
              0.3333333333333333,
              "#9c179e"
             ],
             [
              0.4444444444444444,
              "#bd3786"
             ],
             [
              0.5555555555555556,
              "#d8576b"
             ],
             [
              0.6666666666666666,
              "#ed7953"
             ],
             [
              0.7777777777777778,
              "#fb9f3a"
             ],
             [
              0.8888888888888888,
              "#fdca26"
             ],
             [
              1,
              "#f0f921"
             ]
            ],
            "type": "surface"
           }
          ],
          "table": [
           {
            "cells": {
             "fill": {
              "color": "#EBF0F8"
             },
             "line": {
              "color": "white"
             }
            },
            "header": {
             "fill": {
              "color": "#C8D4E3"
             },
             "line": {
              "color": "white"
             }
            },
            "type": "table"
           }
          ]
         },
         "layout": {
          "annotationdefaults": {
           "arrowcolor": "#2a3f5f",
           "arrowhead": 0,
           "arrowwidth": 1
          },
          "autotypenumbers": "strict",
          "coloraxis": {
           "colorbar": {
            "outlinewidth": 0,
            "ticks": ""
           }
          },
          "colorscale": {
           "diverging": [
            [
             0,
             "#8e0152"
            ],
            [
             0.1,
             "#c51b7d"
            ],
            [
             0.2,
             "#de77ae"
            ],
            [
             0.3,
             "#f1b6da"
            ],
            [
             0.4,
             "#fde0ef"
            ],
            [
             0.5,
             "#f7f7f7"
            ],
            [
             0.6,
             "#e6f5d0"
            ],
            [
             0.7,
             "#b8e186"
            ],
            [
             0.8,
             "#7fbc41"
            ],
            [
             0.9,
             "#4d9221"
            ],
            [
             1,
             "#276419"
            ]
           ],
           "sequential": [
            [
             0,
             "#0d0887"
            ],
            [
             0.1111111111111111,
             "#46039f"
            ],
            [
             0.2222222222222222,
             "#7201a8"
            ],
            [
             0.3333333333333333,
             "#9c179e"
            ],
            [
             0.4444444444444444,
             "#bd3786"
            ],
            [
             0.5555555555555556,
             "#d8576b"
            ],
            [
             0.6666666666666666,
             "#ed7953"
            ],
            [
             0.7777777777777778,
             "#fb9f3a"
            ],
            [
             0.8888888888888888,
             "#fdca26"
            ],
            [
             1,
             "#f0f921"
            ]
           ],
           "sequentialminus": [
            [
             0,
             "#0d0887"
            ],
            [
             0.1111111111111111,
             "#46039f"
            ],
            [
             0.2222222222222222,
             "#7201a8"
            ],
            [
             0.3333333333333333,
             "#9c179e"
            ],
            [
             0.4444444444444444,
             "#bd3786"
            ],
            [
             0.5555555555555556,
             "#d8576b"
            ],
            [
             0.6666666666666666,
             "#ed7953"
            ],
            [
             0.7777777777777778,
             "#fb9f3a"
            ],
            [
             0.8888888888888888,
             "#fdca26"
            ],
            [
             1,
             "#f0f921"
            ]
           ]
          },
          "colorway": [
           "#636efa",
           "#EF553B",
           "#00cc96",
           "#ab63fa",
           "#FFA15A",
           "#19d3f3",
           "#FF6692",
           "#B6E880",
           "#FF97FF",
           "#FECB52"
          ],
          "font": {
           "color": "#2a3f5f"
          },
          "geo": {
           "bgcolor": "white",
           "lakecolor": "white",
           "landcolor": "#E5ECF6",
           "showlakes": true,
           "showland": true,
           "subunitcolor": "white"
          },
          "hoverlabel": {
           "align": "left"
          },
          "hovermode": "closest",
          "mapbox": {
           "style": "light"
          },
          "paper_bgcolor": "white",
          "plot_bgcolor": "#E5ECF6",
          "polar": {
           "angularaxis": {
            "gridcolor": "white",
            "linecolor": "white",
            "ticks": ""
           },
           "bgcolor": "#E5ECF6",
           "radialaxis": {
            "gridcolor": "white",
            "linecolor": "white",
            "ticks": ""
           }
          },
          "scene": {
           "xaxis": {
            "backgroundcolor": "#E5ECF6",
            "gridcolor": "white",
            "gridwidth": 2,
            "linecolor": "white",
            "showbackground": true,
            "ticks": "",
            "zerolinecolor": "white"
           },
           "yaxis": {
            "backgroundcolor": "#E5ECF6",
            "gridcolor": "white",
            "gridwidth": 2,
            "linecolor": "white",
            "showbackground": true,
            "ticks": "",
            "zerolinecolor": "white"
           },
           "zaxis": {
            "backgroundcolor": "#E5ECF6",
            "gridcolor": "white",
            "gridwidth": 2,
            "linecolor": "white",
            "showbackground": true,
            "ticks": "",
            "zerolinecolor": "white"
           }
          },
          "shapedefaults": {
           "line": {
            "color": "#2a3f5f"
           }
          },
          "ternary": {
           "aaxis": {
            "gridcolor": "white",
            "linecolor": "white",
            "ticks": ""
           },
           "baxis": {
            "gridcolor": "white",
            "linecolor": "white",
            "ticks": ""
           },
           "bgcolor": "#E5ECF6",
           "caxis": {
            "gridcolor": "white",
            "linecolor": "white",
            "ticks": ""
           }
          },
          "title": {
           "x": 0.05
          },
          "xaxis": {
           "automargin": true,
           "gridcolor": "white",
           "linecolor": "white",
           "ticks": "",
           "title": {
            "standoff": 15
           },
           "zerolinecolor": "white",
           "zerolinewidth": 2
          },
          "yaxis": {
           "automargin": true,
           "gridcolor": "white",
           "linecolor": "white",
           "ticks": "",
           "title": {
            "standoff": 15
           },
           "zerolinecolor": "white",
           "zerolinewidth": 2
          }
         }
        },
        "xaxis": {
         "anchor": "y",
         "domain": [
          0,
          1
         ],
         "title": {
          "text": "event.PAM50"
         }
        },
        "yaxis": {
         "anchor": "x",
         "domain": [
          0,
          1
         ],
         "title": {
          "text": "HRD-sum"
         }
        }
       }
      }
     },
     "metadata": {},
     "output_type": "display_data"
    }
   ],
   "source": [
    "px.box(metadata, x = 'event.PAM50', y = 'HRD-sum', color = 'HRD_status_base')"
   ]
  },
  {
   "cell_type": "markdown",
   "metadata": {},
   "source": [
    "### Applying soft labels to HRD-sum"
   ]
  },
  {
   "cell_type": "code",
   "execution_count": 124,
   "metadata": {},
   "outputs": [],
   "source": [
    "# Soft label method\n",
    "def softLabel(x, median, HRD_thresh, HRP_thresh):\n",
    "    adjustment = 2 * ((((HRD_thresh - x) / (HRD_thresh - HRP_thresh)) - 0.5) ** 2) + 0.5\n",
    "    if median <= x < HRD_thresh:\n",
    "        return adjustment\n",
    "    elif HRP_thresh <= x < median:\n",
    "        return 1 - adjustment\n",
    "    else:\n",
    "        #print(f\"x: {x} \\n median:{median} \\n HRD_thresh:{HRD_thresh} \\n HRP_thresh: {HRP_thresh}\")\n",
    "        return -1\n"
   ]
  },
  {
   "cell_type": "markdown",
   "metadata": {},
   "source": [
    "### Soft labels using total median"
   ]
  },
  {
   "cell_type": "code",
   "execution_count": 125,
   "metadata": {},
   "outputs": [],
   "source": [
    "metadata_tot = metadata.copy()\n",
    "total_median = metadata_tot['HRD-sum'].median()\n",
    "metadata_tot['HRD_adjust'] = ['HRD' if x >= 50 else 'HRP' if x <= 10 else 'HRD ambiguous' if total_median <= x <50 else 'HRP ambiguous' if 10 <= x < total_median else 'None' for x in metadata_tot['HRD-sum']]\n",
    "metadata_tot['soft prob'] = metadata_tot['HRD-sum'].apply(lambda x: softLabel(x, total_median, 50, 10))\n",
    "\n",
    "# fixing -1 cases that were not handled correctly\n",
    "metadata_tot[['HRD-sum', 'HRD_status_base', 'HRD_adjust', 'soft prob']]\n",
    "\n",
    "# Define conditions and choices\n",
    "conditions = [\n",
    "    (metadata_tot['soft prob'] == -1) & (metadata_tot['HRD_adjust'] == 'HRP'),\n",
    "    (metadata_tot['soft prob'] == -1) & (metadata_tot['HRD_adjust'] == 'HRD')\n",
    "]\n",
    "\n",
    "choices = [0, 1]\n",
    "\n",
    "# Update the 'soft prob dist' column\n",
    "metadata_tot['soft prob'] = np.select(conditions, choices, default=metadata_tot['soft prob'])"
   ]
  },
  {
   "cell_type": "code",
   "execution_count": 131,
   "metadata": {},
   "outputs": [
    {
     "data": {
      "application/vnd.plotly.v1+json": {
       "config": {
        "plotlyServerURL": "https://plot.ly"
       },
       "data": [
        {
         "alignmentgroup": "True",
         "boxpoints": "all",
         "customdata": [
          [
           0
          ],
          [
           27
          ],
          [
           13
          ],
          [
           26
          ],
          [
           9
          ],
          [
           34
          ],
          [
           13
          ],
          [
           29
          ],
          [
           38
          ],
          [
           14
          ],
          [
           22
          ],
          [
           90
          ],
          [
           16
          ],
          [
           5
          ],
          [
           37
          ],
          [
           35
          ],
          [
           87
          ],
          [
           9
          ],
          [
           28
          ],
          [
           17
          ],
          [
           19
          ],
          [
           11
          ],
          [
           40
          ],
          [
           48
          ],
          [
           12
          ],
          [
           5
          ],
          [
           3
          ],
          [
           7
          ],
          [
           5
          ],
          [
           32
          ],
          [
           31
          ],
          [
           9
          ],
          [
           40
          ],
          [
           25
          ],
          [
           66
          ],
          [
           31
          ],
          [
           77
          ],
          [
           4
          ],
          [
           35
          ],
          [
           6
          ],
          [
           8
          ],
          [
           0
          ],
          [
           43
          ],
          [
           7
          ],
          [
           10
          ],
          [
           7
          ],
          [
           28
          ],
          [
           4
          ],
          [
           10
          ],
          [
           53
          ],
          [
           17
          ],
          [
           32
          ],
          [
           37
          ],
          [
           32
          ],
          [
           10
          ],
          [
           70
          ],
          [
           45
          ],
          [
           23
          ],
          [
           46
          ],
          [
           15
          ],
          [
           4
          ],
          [
           6
          ],
          [
           31
          ],
          [
           7
          ],
          [
           7
          ],
          [
           38
          ],
          [
           14
          ],
          [
           38
          ],
          [
           34
          ],
          [
           8
          ],
          [
           43
          ],
          [
           7
          ],
          [
           8
          ],
          [
           43
          ],
          [
           49
          ],
          [
           32
          ],
          [
           38
          ],
          [
           17
          ],
          [
           4
          ],
          [
           8
          ],
          [
           17
          ],
          [
           11
          ],
          [
           7
          ],
          [
           69
          ],
          [
           13
          ],
          [
           41
          ],
          [
           55
          ],
          [
           9
          ],
          [
           15
          ],
          [
           42
          ],
          [
           65
          ],
          [
           13
          ],
          [
           8
          ],
          [
           22
          ],
          [
           22
          ],
          [
           70
          ],
          [
           0
          ],
          [
           28
          ],
          [
           10
          ],
          [
           72
          ],
          [
           9
          ],
          [
           12
          ],
          [
           61
          ],
          [
           80
          ],
          [
           13
          ],
          [
           50
          ],
          [
           48
          ],
          [
           8
          ],
          [
           19
          ],
          [
           6
          ],
          [
           16
          ],
          [
           0
          ],
          [
           11
          ],
          [
           7
          ],
          [
           23
          ],
          [
           28
          ],
          [
           56
          ],
          [
           3
          ],
          [
           48
          ],
          [
           70
          ],
          [
           73
          ],
          [
           25
          ],
          [
           38
          ],
          [
           13
          ],
          [
           40
          ],
          [
           64
          ],
          [
           30
          ],
          [
           67
          ],
          [
           60
          ],
          [
           4
          ],
          [
           28
          ],
          [
           61
          ],
          [
           28
          ],
          [
           53
          ],
          [
           31
          ],
          [
           101
          ],
          [
           21
          ],
          [
           12
          ],
          [
           45
          ],
          [
           26
          ],
          [
           10
          ],
          [
           18
          ],
          [
           25
          ],
          [
           50
          ],
          [
           54
          ],
          [
           17
          ],
          [
           35
          ],
          [
           13
          ],
          [
           7
          ],
          [
           22
          ],
          [
           41
          ],
          [
           12
          ],
          [
           12
          ],
          [
           37
          ],
          [
           3
          ],
          [
           80
          ],
          [
           28
          ],
          [
           43
          ],
          [
           38
          ],
          [
           77
          ],
          [
           26
          ],
          [
           88
          ],
          [
           12
          ],
          [
           12
          ],
          [
           53
          ],
          [
           15
          ],
          [
           38
          ],
          [
           12
          ],
          [
           28
          ],
          [
           11
          ],
          [
           57
          ],
          [
           8
          ],
          [
           5
          ],
          [
           49
          ],
          [
           11
          ],
          [
           82
          ],
          [
           13
          ],
          [
           27
          ],
          [
           26
          ],
          [
           18
          ],
          [
           20
          ],
          [
           42
          ],
          [
           24
          ],
          [
           72
          ],
          [
           27
          ],
          [
           60
          ],
          [
           27
          ],
          [
           6
          ],
          [
           3
          ],
          [
           57
          ],
          [
           26
          ],
          [
           9
          ],
          [
           17
          ],
          [
           17
          ],
          [
           28
          ],
          [
           15
          ],
          [
           22
          ],
          [
           13
          ],
          [
           20
          ],
          [
           17
          ],
          [
           28
          ],
          [
           11
          ],
          [
           6
          ],
          [
           37
          ],
          [
           22
          ],
          [
           50
          ],
          [
           26
          ],
          [
           1
          ],
          [
           9
          ],
          [
           9
          ],
          [
           23
          ],
          [
           23
          ],
          [
           8
          ],
          [
           11
          ],
          [
           13
          ],
          [
           9
          ],
          [
           9
          ],
          [
           7
          ],
          [
           5
          ],
          [
           55
          ],
          [
           8
          ],
          [
           1
          ],
          [
           33
          ],
          [
           27
          ],
          [
           37
          ],
          [
           19
          ],
          [
           16
          ],
          [
           34
          ],
          [
           5
          ],
          [
           11
          ],
          [
           11
          ],
          [
           18
          ],
          [
           39
          ],
          [
           49
          ],
          [
           34
          ],
          [
           62
          ],
          [
           42
          ],
          [
           15
          ],
          [
           74
          ],
          [
           44
          ],
          [
           76
          ],
          [
           31
          ],
          [
           69
          ],
          [
           27
          ],
          [
           11
          ],
          [
           34
          ],
          [
           8
          ],
          [
           62
          ],
          [
           11
          ],
          [
           40
          ],
          [
           27
          ],
          [
           69
          ],
          [
           46
          ],
          [
           30
          ],
          [
           19
          ],
          [
           62
          ],
          [
           27
          ],
          [
           4
          ],
          [
           13
          ],
          [
           8
          ],
          [
           36
          ],
          [
           85
          ],
          [
           7
          ],
          [
           37
          ],
          [
           19
          ],
          [
           22
          ],
          [
           50
          ],
          [
           28
          ],
          [
           12
          ],
          [
           43
          ],
          [
           0
          ],
          [
           42
          ],
          [
           81
          ],
          [
           49
          ],
          [
           59
          ],
          [
           19
          ],
          [
           73
          ],
          [
           4
          ],
          [
           3
          ],
          [
           10
          ],
          [
           36
          ],
          [
           55
          ],
          [
           35
          ],
          [
           5
          ],
          [
           18
          ],
          [
           14
          ],
          [
           11
          ],
          [
           39
          ],
          [
           84
          ],
          [
           4
          ],
          [
           19
          ],
          [
           25
          ],
          [
           72
          ],
          [
           6
          ],
          [
           12
          ],
          [
           45
          ],
          [
           69
          ],
          [
           29
          ],
          [
           1
          ],
          [
           17
          ],
          [
           47
          ],
          [
           31
          ],
          [
           37
          ],
          [
           29
          ],
          [
           57
          ],
          [
           27
          ],
          [
           26
          ],
          [
           8
          ],
          [
           34
          ],
          [
           10
          ],
          [
           71
          ],
          [
           10
          ],
          [
           17
          ],
          [
           67
          ],
          [
           90
          ],
          [
           31
          ],
          [
           60
          ],
          [
           19
          ],
          [
           37
          ],
          [
           27
          ],
          [
           41
          ],
          [
           48
          ],
          [
           42
          ],
          [
           49
          ],
          [
           51
          ],
          [
           28
          ],
          [
           14
          ],
          [
           10
          ],
          [
           30
          ],
          [
           21
          ],
          [
           31
          ],
          [
           28
          ],
          [
           9
          ],
          [
           23
          ],
          [
           14
          ],
          [
           35
          ],
          [
           11
          ],
          [
           33
          ],
          [
           72
          ],
          [
           27
          ],
          [
           53
          ],
          [
           13
          ],
          [
           8
          ],
          [
           10
          ],
          [
           5
          ],
          [
           78
          ],
          [
           16
          ],
          [
           29
          ],
          [
           28
          ],
          [
           17
          ],
          [
           10
          ],
          [
           4
          ],
          [
           36
          ],
          [
           84
          ],
          [
           22
          ],
          [
           37
          ],
          [
           67
          ],
          [
           6
          ],
          [
           9
          ],
          [
           9
          ],
          [
           34
          ],
          [
           8
          ],
          [
           6
          ],
          [
           25
          ],
          [
           60
          ],
          [
           11
          ],
          [
           16
          ],
          [
           13
          ],
          [
           44
          ],
          [
           40
          ],
          [
           4
          ],
          [
           89
          ],
          [
           84
          ],
          [
           39
          ],
          [
           26
          ],
          [
           28
          ],
          [
           5
          ],
          [
           24
          ],
          [
           28
          ],
          [
           30
          ],
          [
           68
          ],
          [
           26
          ],
          [
           16
          ],
          [
           21
          ],
          [
           29
          ],
          [
           6
          ],
          [
           55
          ],
          [
           45
          ],
          [
           38
          ],
          [
           26
          ],
          [
           11
          ],
          [
           26
          ],
          [
           5
          ],
          [
           5
          ],
          [
           25
          ],
          [
           5
          ],
          [
           89
          ],
          [
           36
          ],
          [
           19
          ],
          [
           21
          ],
          [
           28
          ],
          [
           21
          ],
          [
           31
          ],
          [
           31
          ],
          [
           33
          ],
          [
           7
          ],
          [
           5
          ],
          [
           5
          ],
          [
           21
          ],
          [
           23
          ],
          [
           8
          ],
          [
           43
          ],
          [
           10
          ],
          [
           48
          ],
          [
           67
          ],
          [
           13
          ],
          [
           35
          ],
          [
           23
          ],
          [
           30
          ],
          [
           10
          ],
          [
           9
          ],
          [
           34
          ],
          [
           65
          ],
          [
           40
          ],
          [
           8
          ],
          [
           27
          ],
          [
           74
          ],
          [
           13
          ],
          [
           28
          ],
          [
           35
          ],
          [
           8
          ],
          [
           27
          ],
          [
           64
          ],
          [
           69
          ],
          [
           7
          ],
          [
           37
          ],
          [
           22
          ],
          [
           75
          ],
          [
           11
          ],
          [
           18
          ],
          [
           41
          ],
          [
           21
          ],
          [
           16
          ],
          [
           32
          ],
          [
           3
          ],
          [
           15
          ],
          [
           3
          ],
          [
           31
          ],
          [
           26
          ],
          [
           40
          ],
          [
           5
          ],
          [
           16
          ],
          [
           3
          ],
          [
           6
          ],
          [
           25
          ],
          [
           9
          ],
          [
           23
          ],
          [
           14
          ],
          [
           17
          ],
          [
           5
          ],
          [
           8
          ],
          [
           7
          ],
          [
           31
          ],
          [
           9
          ],
          [
           23
          ],
          [
           16
          ],
          [
           3
          ],
          [
           15
          ],
          [
           3
          ],
          [
           38
          ],
          [
           22
          ],
          [
           43
          ],
          [
           60
          ],
          [
           13
          ],
          [
           9
          ],
          [
           7
          ],
          [
           4
          ],
          [
           22
          ],
          [
           70
          ],
          [
           7
          ],
          [
           12
          ],
          [
           36
          ],
          [
           10
          ],
          [
           27
          ],
          [
           26
          ],
          [
           25
          ],
          [
           13
          ],
          [
           6
          ],
          [
           62
          ],
          [
           29
          ],
          [
           14
          ],
          [
           56
          ],
          [
           48
          ],
          [
           27
          ],
          [
           21
          ],
          [
           3
          ],
          [
           23
          ],
          [
           30
          ],
          [
           6
          ],
          [
           39
          ],
          [
           61
          ],
          [
           54
          ],
          [
           4
          ],
          [
           30
          ],
          [
           34
          ],
          [
           36
          ],
          [
           41
          ],
          [
           9
          ],
          [
           35
          ],
          [
           4
          ],
          [
           13
          ],
          [
           41
          ],
          [
           62
          ],
          [
           23
          ],
          [
           11
          ],
          [
           16
          ],
          [
           64
          ],
          [
           34
          ],
          [
           35
          ],
          [
           28
          ],
          [
           12
          ],
          [
           6
          ],
          [
           34
          ],
          [
           7
          ],
          [
           48
          ],
          [
           10
          ],
          [
           58
          ],
          [
           81
          ],
          [
           33
          ],
          [
           7
          ],
          [
           33
          ],
          [
           59
          ],
          [
           46
          ],
          [
           24
          ],
          [
           48
          ],
          [
           28
          ],
          [
           15
          ],
          [
           20
          ],
          [
           37
          ],
          [
           56
          ],
          [
           30
          ],
          [
           74
          ],
          [
           32
          ],
          [
           36
          ],
          [
           40
          ],
          [
           13
          ],
          [
           29
          ],
          [
           44
          ],
          [
           14
          ],
          [
           73
          ],
          [
           31
          ],
          [
           22
          ],
          [
           69
          ],
          [
           38
          ],
          [
           15
          ],
          [
           32
          ],
          [
           32
          ],
          [
           38
          ],
          [
           43
          ],
          [
           21
          ],
          [
           18
          ],
          [
           15
          ],
          [
           16
          ],
          [
           27
          ],
          [
           51
          ],
          [
           65
          ],
          [
           6
          ],
          [
           22
          ],
          [
           55
          ],
          [
           49
          ],
          [
           20
          ],
          [
           5
          ],
          [
           54
          ],
          [
           35
          ],
          [
           12
          ],
          [
           79
          ],
          [
           6
          ],
          [
           37
          ],
          [
           31
          ],
          [
           53
          ],
          [
           34
          ],
          [
           20
          ],
          [
           25
          ],
          [
           38
          ],
          [
           18
          ],
          [
           24
          ],
          [
           58
          ],
          [
           76
          ],
          [
           43
          ],
          [
           7
          ],
          [
           65
          ],
          [
           6
          ],
          [
           15
          ],
          [
           5
          ],
          [
           38
          ],
          [
           5
          ],
          [
           5
          ],
          [
           15
          ],
          [
           61
          ],
          [
           15
          ],
          [
           7
          ],
          [
           24
          ],
          [
           9
          ],
          [
           37
          ],
          [
           71
          ],
          [
           51
          ],
          [
           15
          ],
          [
           13
          ],
          [
           75
          ],
          [
           15
          ],
          [
           13
          ],
          [
           38
          ],
          [
           25
          ],
          [
           2
          ],
          [
           55
          ],
          [
           26
          ],
          [
           30
          ],
          [
           42
          ],
          [
           9
          ],
          [
           16
          ],
          [
           34
          ],
          [
           1
          ],
          [
           83
          ],
          [
           8
          ],
          [
           76
          ],
          [
           12
          ],
          [
           3
          ],
          [
           10
          ],
          [
           59
          ],
          [
           23
          ],
          [
           3
          ],
          [
           47
          ],
          [
           18
          ],
          [
           25
          ],
          [
           4
          ],
          [
           10
          ],
          [
           8
          ],
          [
           10
          ],
          [
           18
          ],
          [
           13
          ],
          [
           34
          ],
          [
           32
          ],
          [
           24
          ],
          [
           5
          ],
          [
           23
          ],
          [
           12
          ],
          [
           84
          ],
          [
           8
          ],
          [
           64
          ],
          [
           12
          ],
          [
           78
          ],
          [
           16
          ],
          [
           32
          ],
          [
           31
          ],
          [
           61
          ],
          [
           18
          ],
          [
           53
          ],
          [
           32
          ],
          [
           10
          ],
          [
           25
          ],
          [
           7
          ],
          [
           23
          ],
          [
           4
          ],
          [
           4
          ],
          [
           20
          ],
          [
           9
          ],
          [
           19
          ],
          [
           23
          ],
          [
           25
          ],
          [
           65
          ],
          [
           19
          ],
          [
           43
          ],
          [
           4
          ],
          [
           8
          ],
          [
           35
          ],
          [
           3
          ],
          [
           12
          ],
          [
           31
          ],
          [
           6
          ],
          [
           16
          ],
          [
           16
          ],
          [
           37
          ],
          [
           5
          ],
          [
           10
          ],
          [
           78
          ],
          [
           18
          ],
          [
           5
          ],
          [
           71
          ],
          [
           21
          ],
          [
           46
          ],
          [
           14
          ],
          [
           86
          ],
          [
           53
          ],
          [
           34
          ],
          [
           53
          ],
          [
           25
          ],
          [
           14
          ],
          [
           5
          ],
          [
           28
          ],
          [
           9
          ],
          [
           4
          ],
          [
           32
          ],
          [
           42
          ],
          [
           24
          ],
          [
           4
          ],
          [
           15
          ],
          [
           20
          ],
          [
           27
          ],
          [
           54
          ],
          [
           46
          ],
          [
           83
          ],
          [
           50
          ],
          [
           52
          ],
          [
           10
          ],
          [
           14
          ],
          [
           27
          ],
          [
           6
          ],
          [
           57
          ],
          [
           17
          ],
          [
           53
          ],
          [
           13
          ],
          [
           14
          ],
          [
           35
          ],
          [
           4
          ],
          [
           27
          ],
          [
           20
          ],
          [
           6
          ],
          [
           46
          ],
          [
           50
          ],
          [
           52
          ],
          [
           54
          ],
          [
           11
          ],
          [
           30
          ],
          [
           3
          ],
          [
           28
          ],
          [
           22
          ],
          [
           25
          ],
          [
           39
          ],
          [
           86
          ],
          [
           80
          ],
          [
           12
          ],
          [
           58
          ],
          [
           74
          ],
          [
           0
          ],
          [
           47
          ],
          [
           23
          ],
          [
           14
          ],
          [
           5
          ],
          [
           37
          ],
          [
           58
          ],
          [
           58
          ],
          [
           3
          ],
          [
           60
          ],
          [
           3
          ],
          [
           6
          ],
          [
           32
          ],
          [
           4
          ],
          [
           67
          ],
          [
           21
          ],
          [
           8
          ],
          [
           14
          ],
          [
           26
          ],
          [
           18
          ],
          [
           7
          ],
          [
           8
          ],
          [
           24
          ],
          [
           21
          ],
          [
           11
          ],
          [
           51
          ],
          [
           38
          ],
          [
           35
          ],
          [
           9
          ],
          [
           45
          ],
          [
           54
          ],
          [
           22
          ],
          [
           10
          ],
          [
           70
          ],
          [
           19
          ],
          [
           4
          ],
          [
           34
          ],
          [
           28
          ],
          [
           75
          ],
          [
           47
          ],
          [
           9
          ],
          [
           43
          ],
          [
           27
          ],
          [
           25
          ],
          [
           21
          ],
          [
           11
          ],
          [
           16
          ],
          [
           71
          ],
          [
           24
          ],
          [
           27
          ],
          [
           51
          ],
          [
           44
          ],
          [
           86
          ],
          [
           19
          ],
          [
           14
          ],
          [
           47
          ],
          [
           25
          ],
          [
           34
          ],
          [
           59
          ],
          [
           17
          ],
          [
           20
          ],
          [
           3
          ],
          [
           9
          ],
          [
           19
          ],
          [
           12
          ],
          [
           83
          ],
          [
           9
          ],
          [
           19
          ],
          [
           4
          ],
          [
           8
          ],
          [
           69
          ],
          [
           7
          ],
          [
           38
          ],
          [
           18
          ],
          [
           10
          ],
          [
           10
          ],
          [
           64
          ],
          [
           9
          ],
          [
           24
          ],
          [
           19
          ],
          [
           39
          ],
          [
           22
          ],
          [
           72
          ],
          [
           19
          ],
          [
           8
          ],
          [
           52
          ],
          [
           30
          ],
          [
           22
          ],
          [
           12
          ],
          [
           9
          ],
          [
           23
          ],
          [
           40
          ],
          [
           16
          ],
          [
           20
          ],
          [
           3
          ],
          [
           4
          ],
          [
           71
          ],
          [
           5
          ],
          [
           23
          ],
          [
           58
          ],
          [
           0
          ],
          [
           57
          ],
          [
           9
          ],
          [
           8
          ],
          [
           8
          ],
          [
           5
          ],
          [
           12
          ],
          [
           34
          ],
          [
           48
          ],
          [
           13
          ],
          [
           49
          ],
          [
           22
          ],
          [
           32
          ],
          [
           7
          ]
         ],
         "fillcolor": "rgba(255,255,255,0)",
         "hoveron": "points",
         "hovertemplate": "soft prob=%{y}<br>HRD-sum=%{customdata[0]}<extra></extra>",
         "legendgroup": "",
         "line": {
          "color": "rgba(255,255,255,0)"
         },
         "marker": {
          "color": "#636efa"
         },
         "name": "",
         "offsetgroup": "",
         "orientation": "v",
         "pointpos": 0,
         "showlegend": false,
         "type": "box",
         "x0": " ",
         "xaxis": "x",
         "y": [
          0,
          0.51125,
          0.13874999999999993,
          0.52,
          0,
          0.52,
          0.13874999999999993,
          0.50125,
          0.5800000000000001,
          0.17999999999999994,
          0.42000000000000004,
          1,
          0.255,
          0,
          0.56125,
          0.53125,
          1,
          0,
          0.505,
          0.28875000000000006,
          0.34875,
          0.04875000000000007,
          0.625,
          0.905,
          0.09500000000000008,
          0,
          0,
          0,
          0,
          0.505,
          0.50125,
          0,
          0.625,
          0.53125,
          1,
          0.50125,
          1,
          0,
          0.53125,
          0,
          0,
          0,
          0.71125,
          0,
          0,
          0,
          0.505,
          0,
          0,
          1,
          0.28875000000000006,
          0.505,
          0.56125,
          0.505,
          0,
          1,
          0.78125,
          0.43875,
          0.8200000000000001,
          0.21875,
          0,
          0,
          0.50125,
          0,
          0,
          0.5800000000000001,
          0.17999999999999994,
          0.5800000000000001,
          0.52,
          0,
          0.71125,
          0,
          0,
          0.71125,
          0.9512499999999999,
          0.505,
          0.5800000000000001,
          0.28875000000000006,
          0,
          0,
          0.28875000000000006,
          0.04875000000000007,
          0,
          1,
          0.13874999999999993,
          0.65125,
          1,
          0,
          0.21875,
          0.6799999999999999,
          1,
          0.13874999999999993,
          0,
          0.42000000000000004,
          0.42000000000000004,
          1,
          0,
          0.505,
          0,
          1,
          0,
          0.09500000000000008,
          1,
          1,
          0.13874999999999993,
          1,
          0.905,
          0,
          0.34875,
          0,
          0.255,
          0,
          0.04875000000000007,
          0,
          0.43875,
          0.505,
          1,
          0,
          0.905,
          1,
          1,
          0.53125,
          0.5800000000000001,
          0.13874999999999993,
          0.625,
          1,
          0.5,
          1,
          1,
          0,
          0.505,
          1,
          0.505,
          1,
          0.50125,
          1,
          0.39875000000000005,
          0.09500000000000008,
          0.78125,
          0.52,
          0,
          0.31999999999999995,
          0.53125,
          1,
          1,
          0.28875000000000006,
          0.53125,
          0.13874999999999993,
          0,
          0.42000000000000004,
          0.65125,
          0.09500000000000008,
          0.09500000000000008,
          0.56125,
          0,
          1,
          0.505,
          0.71125,
          0.5800000000000001,
          1,
          0.52,
          1,
          0.09500000000000008,
          0.09500000000000008,
          1,
          0.21875,
          0.5800000000000001,
          0.09500000000000008,
          0.505,
          0.04875000000000007,
          1,
          0,
          0,
          0.9512499999999999,
          0.04875000000000007,
          1,
          0.13874999999999993,
          0.51125,
          0.52,
          0.31999999999999995,
          0.375,
          0.6799999999999999,
          0.545,
          1,
          0.51125,
          1,
          0.51125,
          0,
          0,
          1,
          0.52,
          0,
          0.28875000000000006,
          0.28875000000000006,
          0.505,
          0.21875,
          0.42000000000000004,
          0.13874999999999993,
          0.375,
          0.28875000000000006,
          0.505,
          0.04875000000000007,
          0,
          0.56125,
          0.42000000000000004,
          1,
          0.52,
          0,
          0,
          0,
          0.43875,
          0.43875,
          0,
          0.04875000000000007,
          0.13874999999999993,
          0,
          0,
          0,
          0,
          1,
          0,
          0,
          0.51125,
          0.51125,
          0.56125,
          0.34875,
          0.255,
          0.52,
          0,
          0.04875000000000007,
          0.04875000000000007,
          0.31999999999999995,
          0.60125,
          0.9512499999999999,
          0.52,
          1,
          0.6799999999999999,
          0.21875,
          1,
          0.745,
          1,
          0.50125,
          1,
          0.51125,
          0.04875000000000007,
          0.52,
          0,
          1,
          0.04875000000000007,
          0.625,
          0.51125,
          1,
          0.8200000000000001,
          0.5,
          0.34875,
          1,
          0.51125,
          0,
          0.13874999999999993,
          0,
          0.545,
          1,
          0,
          0.56125,
          0.34875,
          0.42000000000000004,
          1,
          0.505,
          0.09500000000000008,
          0.71125,
          0,
          0.6799999999999999,
          1,
          0.9512499999999999,
          1,
          0.34875,
          1,
          0,
          0,
          0,
          0.545,
          1,
          0.53125,
          0,
          0.31999999999999995,
          0.17999999999999994,
          0.04875000000000007,
          0.60125,
          1,
          0,
          0.34875,
          0.53125,
          1,
          0,
          0.09500000000000008,
          0.78125,
          1,
          0.50125,
          0,
          0.28875000000000006,
          0.86125,
          0.50125,
          0.56125,
          0.50125,
          1,
          0.51125,
          0.52,
          0,
          0.52,
          0,
          1,
          0,
          0.28875000000000006,
          1,
          1,
          0.50125,
          1,
          0.34875,
          0.56125,
          0.51125,
          0.65125,
          0.905,
          0.6799999999999999,
          0.9512499999999999,
          1,
          0.505,
          0.17999999999999994,
          0,
          0.5,
          0.39875000000000005,
          0.50125,
          0.505,
          0,
          0.43875,
          0.17999999999999994,
          0.53125,
          0.04875000000000007,
          0.51125,
          1,
          0.51125,
          1,
          0.13874999999999993,
          0,
          0,
          0,
          1,
          0.255,
          0.50125,
          0.505,
          0.28875000000000006,
          0,
          0,
          0.545,
          1,
          0.42000000000000004,
          0.56125,
          1,
          0,
          0,
          0,
          0.52,
          0,
          0,
          0.53125,
          1,
          0.04875000000000007,
          0.255,
          0.13874999999999993,
          0.745,
          0.625,
          0,
          1,
          1,
          0.60125,
          0.52,
          0.505,
          0,
          0.545,
          0.505,
          0.5,
          1,
          0.52,
          0.255,
          0.39875000000000005,
          0.50125,
          0,
          1,
          0.78125,
          0.5800000000000001,
          0.52,
          0.04875000000000007,
          0.52,
          0,
          0,
          0.53125,
          0,
          1,
          0.545,
          0.34875,
          0.39875000000000005,
          0.505,
          0.39875000000000005,
          0.50125,
          0.50125,
          0.51125,
          0,
          0,
          0,
          0.39875000000000005,
          0.43875,
          0,
          0.71125,
          0,
          0.905,
          1,
          0.13874999999999993,
          0.53125,
          0.43875,
          0.5,
          0,
          0,
          0.52,
          1,
          0.625,
          0,
          0.51125,
          1,
          0.13874999999999993,
          0.505,
          0.53125,
          0,
          0.51125,
          1,
          1,
          0,
          0.56125,
          0.42000000000000004,
          1,
          0.04875000000000007,
          0.31999999999999995,
          0.65125,
          0.39875000000000005,
          0.255,
          0.505,
          0,
          0.21875,
          0,
          0.50125,
          0.52,
          0.625,
          0,
          0.255,
          0,
          0,
          0.53125,
          0,
          0.43875,
          0.17999999999999994,
          0.28875000000000006,
          0,
          0,
          0,
          0.50125,
          0,
          0.43875,
          0.255,
          0,
          0.21875,
          0,
          0.5800000000000001,
          0.42000000000000004,
          0.71125,
          1,
          0.13874999999999993,
          0,
          0,
          0,
          0.42000000000000004,
          1,
          0,
          0.09500000000000008,
          0.545,
          0,
          0.51125,
          0.52,
          0.53125,
          0.13874999999999993,
          0,
          1,
          0.50125,
          0.17999999999999994,
          1,
          0.905,
          0.51125,
          0.39875000000000005,
          0,
          0.43875,
          0.5,
          0,
          0.60125,
          1,
          1,
          0,
          0.5,
          0.52,
          0.545,
          0.65125,
          0,
          0.53125,
          0,
          0.13874999999999993,
          0.65125,
          1,
          0.43875,
          0.04875000000000007,
          0.255,
          1,
          0.52,
          0.53125,
          0.505,
          0.09500000000000008,
          0,
          0.52,
          0,
          0.905,
          0,
          1,
          1,
          0.51125,
          0,
          0.51125,
          1,
          0.8200000000000001,
          0.545,
          0.905,
          0.505,
          0.21875,
          0.375,
          0.56125,
          1,
          0.5,
          1,
          0.505,
          0.545,
          0.625,
          0.13874999999999993,
          0.50125,
          0.745,
          0.17999999999999994,
          1,
          0.50125,
          0.42000000000000004,
          1,
          0.5800000000000001,
          0.21875,
          0.505,
          0.505,
          0.5800000000000001,
          0.71125,
          0.39875000000000005,
          0.31999999999999995,
          0.21875,
          0.255,
          0.51125,
          1,
          1,
          0,
          0.42000000000000004,
          1,
          0.9512499999999999,
          0.375,
          0,
          1,
          0.53125,
          0.09500000000000008,
          1,
          0,
          0.56125,
          0.50125,
          1,
          0.52,
          0.375,
          0.53125,
          0.5800000000000001,
          0.31999999999999995,
          0.545,
          1,
          1,
          0.71125,
          0,
          1,
          0,
          0.21875,
          0,
          0.5800000000000001,
          0,
          0,
          0.21875,
          1,
          0.21875,
          0,
          0.545,
          0,
          0.56125,
          1,
          1,
          0.21875,
          0.13874999999999993,
          1,
          0.21875,
          0.13874999999999993,
          0.5800000000000001,
          0.53125,
          0,
          1,
          0.52,
          0.5,
          0.6799999999999999,
          0,
          0.255,
          0.52,
          0,
          1,
          0,
          1,
          0.09500000000000008,
          0,
          0,
          1,
          0.43875,
          0,
          0.86125,
          0.31999999999999995,
          0.53125,
          0,
          0,
          0,
          0,
          0.31999999999999995,
          0.13874999999999993,
          0.52,
          0.505,
          0.545,
          0,
          0.43875,
          0.09500000000000008,
          1,
          0,
          1,
          0.09500000000000008,
          1,
          0.255,
          0.505,
          0.50125,
          1,
          0.31999999999999995,
          1,
          0.505,
          0,
          0.53125,
          0,
          0.43875,
          0,
          0,
          0.375,
          0,
          0.34875,
          0.43875,
          0.53125,
          1,
          0.34875,
          0.71125,
          0,
          0,
          0.53125,
          0,
          0.09500000000000008,
          0.50125,
          0,
          0.255,
          0.255,
          0.56125,
          0,
          0,
          1,
          0.31999999999999995,
          0,
          1,
          0.39875000000000005,
          0.8200000000000001,
          0.17999999999999994,
          1,
          1,
          0.52,
          1,
          0.53125,
          0.17999999999999994,
          0,
          0.505,
          0,
          0,
          0.505,
          0.6799999999999999,
          0.545,
          0,
          0.21875,
          0.375,
          0.51125,
          1,
          0.8200000000000001,
          1,
          1,
          1,
          0,
          0.17999999999999994,
          0.51125,
          0,
          1,
          0.28875000000000006,
          1,
          0.13874999999999993,
          0.17999999999999994,
          0.53125,
          0,
          0.51125,
          0.375,
          0,
          0.8200000000000001,
          1,
          1,
          1,
          0.04875000000000007,
          0.5,
          0,
          0.505,
          0.42000000000000004,
          0.53125,
          0.60125,
          1,
          1,
          0.09500000000000008,
          1,
          1,
          0,
          0.86125,
          0.43875,
          0.17999999999999994,
          0,
          0.56125,
          1,
          1,
          0,
          1,
          0,
          0,
          0.505,
          0,
          1,
          0.39875000000000005,
          0,
          0.17999999999999994,
          0.52,
          0.31999999999999995,
          0,
          0,
          0.545,
          0.39875000000000005,
          0.04875000000000007,
          1,
          0.5800000000000001,
          0.53125,
          0,
          0.78125,
          1,
          0.42000000000000004,
          0,
          1,
          0.34875,
          0,
          0.52,
          0.505,
          1,
          0.86125,
          0,
          0.71125,
          0.51125,
          0.53125,
          0.39875000000000005,
          0.04875000000000007,
          0.255,
          1,
          0.545,
          0.51125,
          1,
          0.745,
          1,
          0.34875,
          0.17999999999999994,
          0.86125,
          0.53125,
          0.52,
          1,
          0.28875000000000006,
          0.375,
          0,
          0,
          0.34875,
          0.09500000000000008,
          1,
          0,
          0.34875,
          0,
          0,
          1,
          0,
          0.5800000000000001,
          0.31999999999999995,
          0,
          0,
          1,
          0,
          0.545,
          0.34875,
          0.60125,
          0.42000000000000004,
          1,
          0.34875,
          0,
          1,
          0.5,
          0.42000000000000004,
          0.09500000000000008,
          0,
          0.43875,
          0.625,
          0.255,
          0.375,
          0,
          0,
          1,
          0,
          0.43875,
          1,
          0,
          1,
          0,
          0,
          0,
          0,
          0.09500000000000008,
          0.52,
          0.905,
          0.13874999999999993,
          0.9512499999999999,
          0.42000000000000004,
          0.505,
          0
         ],
         "y0": " ",
         "yaxis": "y"
        }
       ],
       "layout": {
        "boxmode": "group",
        "legend": {
         "tracegroupgap": 0
        },
        "margin": {
         "t": 60
        },
        "template": {
         "data": {
          "bar": [
           {
            "error_x": {
             "color": "#2a3f5f"
            },
            "error_y": {
             "color": "#2a3f5f"
            },
            "marker": {
             "line": {
              "color": "#E5ECF6",
              "width": 0.5
             },
             "pattern": {
              "fillmode": "overlay",
              "size": 10,
              "solidity": 0.2
             }
            },
            "type": "bar"
           }
          ],
          "barpolar": [
           {
            "marker": {
             "line": {
              "color": "#E5ECF6",
              "width": 0.5
             },
             "pattern": {
              "fillmode": "overlay",
              "size": 10,
              "solidity": 0.2
             }
            },
            "type": "barpolar"
           }
          ],
          "carpet": [
           {
            "aaxis": {
             "endlinecolor": "#2a3f5f",
             "gridcolor": "white",
             "linecolor": "white",
             "minorgridcolor": "white",
             "startlinecolor": "#2a3f5f"
            },
            "baxis": {
             "endlinecolor": "#2a3f5f",
             "gridcolor": "white",
             "linecolor": "white",
             "minorgridcolor": "white",
             "startlinecolor": "#2a3f5f"
            },
            "type": "carpet"
           }
          ],
          "choropleth": [
           {
            "colorbar": {
             "outlinewidth": 0,
             "ticks": ""
            },
            "type": "choropleth"
           }
          ],
          "contour": [
           {
            "colorbar": {
             "outlinewidth": 0,
             "ticks": ""
            },
            "colorscale": [
             [
              0,
              "#0d0887"
             ],
             [
              0.1111111111111111,
              "#46039f"
             ],
             [
              0.2222222222222222,
              "#7201a8"
             ],
             [
              0.3333333333333333,
              "#9c179e"
             ],
             [
              0.4444444444444444,
              "#bd3786"
             ],
             [
              0.5555555555555556,
              "#d8576b"
             ],
             [
              0.6666666666666666,
              "#ed7953"
             ],
             [
              0.7777777777777778,
              "#fb9f3a"
             ],
             [
              0.8888888888888888,
              "#fdca26"
             ],
             [
              1,
              "#f0f921"
             ]
            ],
            "type": "contour"
           }
          ],
          "contourcarpet": [
           {
            "colorbar": {
             "outlinewidth": 0,
             "ticks": ""
            },
            "type": "contourcarpet"
           }
          ],
          "heatmap": [
           {
            "colorbar": {
             "outlinewidth": 0,
             "ticks": ""
            },
            "colorscale": [
             [
              0,
              "#0d0887"
             ],
             [
              0.1111111111111111,
              "#46039f"
             ],
             [
              0.2222222222222222,
              "#7201a8"
             ],
             [
              0.3333333333333333,
              "#9c179e"
             ],
             [
              0.4444444444444444,
              "#bd3786"
             ],
             [
              0.5555555555555556,
              "#d8576b"
             ],
             [
              0.6666666666666666,
              "#ed7953"
             ],
             [
              0.7777777777777778,
              "#fb9f3a"
             ],
             [
              0.8888888888888888,
              "#fdca26"
             ],
             [
              1,
              "#f0f921"
             ]
            ],
            "type": "heatmap"
           }
          ],
          "heatmapgl": [
           {
            "colorbar": {
             "outlinewidth": 0,
             "ticks": ""
            },
            "colorscale": [
             [
              0,
              "#0d0887"
             ],
             [
              0.1111111111111111,
              "#46039f"
             ],
             [
              0.2222222222222222,
              "#7201a8"
             ],
             [
              0.3333333333333333,
              "#9c179e"
             ],
             [
              0.4444444444444444,
              "#bd3786"
             ],
             [
              0.5555555555555556,
              "#d8576b"
             ],
             [
              0.6666666666666666,
              "#ed7953"
             ],
             [
              0.7777777777777778,
              "#fb9f3a"
             ],
             [
              0.8888888888888888,
              "#fdca26"
             ],
             [
              1,
              "#f0f921"
             ]
            ],
            "type": "heatmapgl"
           }
          ],
          "histogram": [
           {
            "marker": {
             "pattern": {
              "fillmode": "overlay",
              "size": 10,
              "solidity": 0.2
             }
            },
            "type": "histogram"
           }
          ],
          "histogram2d": [
           {
            "colorbar": {
             "outlinewidth": 0,
             "ticks": ""
            },
            "colorscale": [
             [
              0,
              "#0d0887"
             ],
             [
              0.1111111111111111,
              "#46039f"
             ],
             [
              0.2222222222222222,
              "#7201a8"
             ],
             [
              0.3333333333333333,
              "#9c179e"
             ],
             [
              0.4444444444444444,
              "#bd3786"
             ],
             [
              0.5555555555555556,
              "#d8576b"
             ],
             [
              0.6666666666666666,
              "#ed7953"
             ],
             [
              0.7777777777777778,
              "#fb9f3a"
             ],
             [
              0.8888888888888888,
              "#fdca26"
             ],
             [
              1,
              "#f0f921"
             ]
            ],
            "type": "histogram2d"
           }
          ],
          "histogram2dcontour": [
           {
            "colorbar": {
             "outlinewidth": 0,
             "ticks": ""
            },
            "colorscale": [
             [
              0,
              "#0d0887"
             ],
             [
              0.1111111111111111,
              "#46039f"
             ],
             [
              0.2222222222222222,
              "#7201a8"
             ],
             [
              0.3333333333333333,
              "#9c179e"
             ],
             [
              0.4444444444444444,
              "#bd3786"
             ],
             [
              0.5555555555555556,
              "#d8576b"
             ],
             [
              0.6666666666666666,
              "#ed7953"
             ],
             [
              0.7777777777777778,
              "#fb9f3a"
             ],
             [
              0.8888888888888888,
              "#fdca26"
             ],
             [
              1,
              "#f0f921"
             ]
            ],
            "type": "histogram2dcontour"
           }
          ],
          "mesh3d": [
           {
            "colorbar": {
             "outlinewidth": 0,
             "ticks": ""
            },
            "type": "mesh3d"
           }
          ],
          "parcoords": [
           {
            "line": {
             "colorbar": {
              "outlinewidth": 0,
              "ticks": ""
             }
            },
            "type": "parcoords"
           }
          ],
          "pie": [
           {
            "automargin": true,
            "type": "pie"
           }
          ],
          "scatter": [
           {
            "fillpattern": {
             "fillmode": "overlay",
             "size": 10,
             "solidity": 0.2
            },
            "type": "scatter"
           }
          ],
          "scatter3d": [
           {
            "line": {
             "colorbar": {
              "outlinewidth": 0,
              "ticks": ""
             }
            },
            "marker": {
             "colorbar": {
              "outlinewidth": 0,
              "ticks": ""
             }
            },
            "type": "scatter3d"
           }
          ],
          "scattercarpet": [
           {
            "marker": {
             "colorbar": {
              "outlinewidth": 0,
              "ticks": ""
             }
            },
            "type": "scattercarpet"
           }
          ],
          "scattergeo": [
           {
            "marker": {
             "colorbar": {
              "outlinewidth": 0,
              "ticks": ""
             }
            },
            "type": "scattergeo"
           }
          ],
          "scattergl": [
           {
            "marker": {
             "colorbar": {
              "outlinewidth": 0,
              "ticks": ""
             }
            },
            "type": "scattergl"
           }
          ],
          "scattermapbox": [
           {
            "marker": {
             "colorbar": {
              "outlinewidth": 0,
              "ticks": ""
             }
            },
            "type": "scattermapbox"
           }
          ],
          "scatterpolar": [
           {
            "marker": {
             "colorbar": {
              "outlinewidth": 0,
              "ticks": ""
             }
            },
            "type": "scatterpolar"
           }
          ],
          "scatterpolargl": [
           {
            "marker": {
             "colorbar": {
              "outlinewidth": 0,
              "ticks": ""
             }
            },
            "type": "scatterpolargl"
           }
          ],
          "scatterternary": [
           {
            "marker": {
             "colorbar": {
              "outlinewidth": 0,
              "ticks": ""
             }
            },
            "type": "scatterternary"
           }
          ],
          "surface": [
           {
            "colorbar": {
             "outlinewidth": 0,
             "ticks": ""
            },
            "colorscale": [
             [
              0,
              "#0d0887"
             ],
             [
              0.1111111111111111,
              "#46039f"
             ],
             [
              0.2222222222222222,
              "#7201a8"
             ],
             [
              0.3333333333333333,
              "#9c179e"
             ],
             [
              0.4444444444444444,
              "#bd3786"
             ],
             [
              0.5555555555555556,
              "#d8576b"
             ],
             [
              0.6666666666666666,
              "#ed7953"
             ],
             [
              0.7777777777777778,
              "#fb9f3a"
             ],
             [
              0.8888888888888888,
              "#fdca26"
             ],
             [
              1,
              "#f0f921"
             ]
            ],
            "type": "surface"
           }
          ],
          "table": [
           {
            "cells": {
             "fill": {
              "color": "#EBF0F8"
             },
             "line": {
              "color": "white"
             }
            },
            "header": {
             "fill": {
              "color": "#C8D4E3"
             },
             "line": {
              "color": "white"
             }
            },
            "type": "table"
           }
          ]
         },
         "layout": {
          "annotationdefaults": {
           "arrowcolor": "#2a3f5f",
           "arrowhead": 0,
           "arrowwidth": 1
          },
          "autotypenumbers": "strict",
          "coloraxis": {
           "colorbar": {
            "outlinewidth": 0,
            "ticks": ""
           }
          },
          "colorscale": {
           "diverging": [
            [
             0,
             "#8e0152"
            ],
            [
             0.1,
             "#c51b7d"
            ],
            [
             0.2,
             "#de77ae"
            ],
            [
             0.3,
             "#f1b6da"
            ],
            [
             0.4,
             "#fde0ef"
            ],
            [
             0.5,
             "#f7f7f7"
            ],
            [
             0.6,
             "#e6f5d0"
            ],
            [
             0.7,
             "#b8e186"
            ],
            [
             0.8,
             "#7fbc41"
            ],
            [
             0.9,
             "#4d9221"
            ],
            [
             1,
             "#276419"
            ]
           ],
           "sequential": [
            [
             0,
             "#0d0887"
            ],
            [
             0.1111111111111111,
             "#46039f"
            ],
            [
             0.2222222222222222,
             "#7201a8"
            ],
            [
             0.3333333333333333,
             "#9c179e"
            ],
            [
             0.4444444444444444,
             "#bd3786"
            ],
            [
             0.5555555555555556,
             "#d8576b"
            ],
            [
             0.6666666666666666,
             "#ed7953"
            ],
            [
             0.7777777777777778,
             "#fb9f3a"
            ],
            [
             0.8888888888888888,
             "#fdca26"
            ],
            [
             1,
             "#f0f921"
            ]
           ],
           "sequentialminus": [
            [
             0,
             "#0d0887"
            ],
            [
             0.1111111111111111,
             "#46039f"
            ],
            [
             0.2222222222222222,
             "#7201a8"
            ],
            [
             0.3333333333333333,
             "#9c179e"
            ],
            [
             0.4444444444444444,
             "#bd3786"
            ],
            [
             0.5555555555555556,
             "#d8576b"
            ],
            [
             0.6666666666666666,
             "#ed7953"
            ],
            [
             0.7777777777777778,
             "#fb9f3a"
            ],
            [
             0.8888888888888888,
             "#fdca26"
            ],
            [
             1,
             "#f0f921"
            ]
           ]
          },
          "colorway": [
           "#636efa",
           "#EF553B",
           "#00cc96",
           "#ab63fa",
           "#FFA15A",
           "#19d3f3",
           "#FF6692",
           "#B6E880",
           "#FF97FF",
           "#FECB52"
          ],
          "font": {
           "color": "#2a3f5f"
          },
          "geo": {
           "bgcolor": "white",
           "lakecolor": "white",
           "landcolor": "#E5ECF6",
           "showlakes": true,
           "showland": true,
           "subunitcolor": "white"
          },
          "hoverlabel": {
           "align": "left"
          },
          "hovermode": "closest",
          "mapbox": {
           "style": "light"
          },
          "paper_bgcolor": "white",
          "plot_bgcolor": "#E5ECF6",
          "polar": {
           "angularaxis": {
            "gridcolor": "white",
            "linecolor": "white",
            "ticks": ""
           },
           "bgcolor": "#E5ECF6",
           "radialaxis": {
            "gridcolor": "white",
            "linecolor": "white",
            "ticks": ""
           }
          },
          "scene": {
           "xaxis": {
            "backgroundcolor": "#E5ECF6",
            "gridcolor": "white",
            "gridwidth": 2,
            "linecolor": "white",
            "showbackground": true,
            "ticks": "",
            "zerolinecolor": "white"
           },
           "yaxis": {
            "backgroundcolor": "#E5ECF6",
            "gridcolor": "white",
            "gridwidth": 2,
            "linecolor": "white",
            "showbackground": true,
            "ticks": "",
            "zerolinecolor": "white"
           },
           "zaxis": {
            "backgroundcolor": "#E5ECF6",
            "gridcolor": "white",
            "gridwidth": 2,
            "linecolor": "white",
            "showbackground": true,
            "ticks": "",
            "zerolinecolor": "white"
           }
          },
          "shapedefaults": {
           "line": {
            "color": "#2a3f5f"
           }
          },
          "ternary": {
           "aaxis": {
            "gridcolor": "white",
            "linecolor": "white",
            "ticks": ""
           },
           "baxis": {
            "gridcolor": "white",
            "linecolor": "white",
            "ticks": ""
           },
           "bgcolor": "#E5ECF6",
           "caxis": {
            "gridcolor": "white",
            "linecolor": "white",
            "ticks": ""
           }
          },
          "title": {
           "x": 0.05
          },
          "xaxis": {
           "automargin": true,
           "gridcolor": "white",
           "linecolor": "white",
           "ticks": "",
           "title": {
            "standoff": 15
           },
           "zerolinecolor": "white",
           "zerolinewidth": 2
          },
          "yaxis": {
           "automargin": true,
           "gridcolor": "white",
           "linecolor": "white",
           "ticks": "",
           "title": {
            "standoff": 15
           },
           "zerolinecolor": "white",
           "zerolinewidth": 2
          }
         }
        },
        "xaxis": {
         "anchor": "y",
         "domain": [
          0,
          1
         ]
        },
        "yaxis": {
         "anchor": "x",
         "domain": [
          0,
          1
         ],
         "title": {
          "text": "soft prob"
         }
        }
       }
      }
     },
     "metadata": {},
     "output_type": "display_data"
    }
   ],
   "source": [
    "px.strip(metadata_tot, y = 'soft prob', hover_data='HRD-sum')"
   ]
  },
  {
   "cell_type": "code",
   "execution_count": 133,
   "metadata": {},
   "outputs": [],
   "source": [
    "metadata_tot.to_csv('../data/softlabels_tot.csv')"
   ]
  },
  {
   "cell_type": "code",
   "execution_count": 126,
   "metadata": {},
   "outputs": [
    {
     "data": {
      "text/html": [
       "<div>\n",
       "<style scoped>\n",
       "    .dataframe tbody tr th:only-of-type {\n",
       "        vertical-align: middle;\n",
       "    }\n",
       "\n",
       "    .dataframe tbody tr th {\n",
       "        vertical-align: top;\n",
       "    }\n",
       "\n",
       "    .dataframe thead th {\n",
       "        text-align: right;\n",
       "    }\n",
       "</style>\n",
       "<table border=\"1\" class=\"dataframe\">\n",
       "  <thead>\n",
       "    <tr style=\"text-align: right;\">\n",
       "      <th>event.PAM50</th>\n",
       "      <th>Basal</th>\n",
       "      <th>Her2</th>\n",
       "      <th>LumA</th>\n",
       "      <th>LumB</th>\n",
       "    </tr>\n",
       "  </thead>\n",
       "  <tbody>\n",
       "    <tr>\n",
       "      <th>HRD-sum</th>\n",
       "      <td>55.0</td>\n",
       "      <td>35.0</td>\n",
       "      <td>13.0</td>\n",
       "      <td>31.0</td>\n",
       "    </tr>\n",
       "  </tbody>\n",
       "</table>\n",
       "</div>"
      ],
      "text/plain": [
       "event.PAM50  Basal  Her2  LumA  LumB\n",
       "HRD-sum       55.0  35.0  13.0  31.0"
      ]
     },
     "execution_count": 126,
     "metadata": {},
     "output_type": "execute_result"
    }
   ],
   "source": [
    "#calculating medians per subtype\n",
    "metadata_sub = metadata.copy()\n",
    "medians = metadata_sub.groupby([\"event.PAM50\"])[\"HRD-sum\"].median().reset_index() \n",
    "medians_pivot = medians.set_index('event.PAM50').T\n",
    "medians_pivot"
   ]
  },
  {
   "cell_type": "code",
   "execution_count": 127,
   "metadata": {},
   "outputs": [],
   "source": [
    "# Applying soft labels across each row\n",
    "for sub in medians_pivot.columns.tolist():\n",
    "    metadata_sub['HRD_adjust'] = ['HRD' if x >= 50 else 'HRP' if x <= 10 else 'HRD ambiguous' if medians_pivot.loc['HRD-sum',sub] <= x <50 else 'HRP ambiguous' if 10 <= x < medians_pivot.loc['HRD-sum',sub] else 'None' for x in metadata_sub['HRD-sum']]\n",
    "    metadata_sub['soft prob'] = metadata_sub['HRD-sum'].apply(lambda x: softLabel(x, medians_pivot.loc['HRD-sum',sub], 50, 10))"
   ]
  },
  {
   "cell_type": "code",
   "execution_count": 94,
   "metadata": {},
   "outputs": [
    {
     "data": {
      "application/vnd.plotly.v1+json": {
       "config": {
        "plotlyServerURL": "https://plot.ly"
       },
       "data": [
        {
         "alignmentgroup": "True",
         "boxpoints": "all",
         "customdata": [
          [
           0
          ],
          [
           27
          ],
          [
           13
          ],
          [
           26
          ],
          [
           9
          ],
          [
           34
          ],
          [
           13
          ],
          [
           29
          ],
          [
           38
          ],
          [
           14
          ],
          [
           22
          ],
          [
           90
          ],
          [
           16
          ],
          [
           5
          ],
          [
           37
          ],
          [
           35
          ],
          [
           87
          ],
          [
           9
          ],
          [
           28
          ],
          [
           17
          ],
          [
           19
          ],
          [
           11
          ],
          [
           40
          ],
          [
           48
          ],
          [
           12
          ],
          [
           5
          ],
          [
           3
          ],
          [
           7
          ],
          [
           5
          ],
          [
           32
          ],
          [
           31
          ],
          [
           9
          ],
          [
           40
          ],
          [
           25
          ],
          [
           66
          ],
          [
           31
          ],
          [
           77
          ],
          [
           4
          ],
          [
           35
          ],
          [
           6
          ],
          [
           8
          ],
          [
           0
          ],
          [
           43
          ],
          [
           7
          ],
          [
           10
          ],
          [
           7
          ],
          [
           28
          ],
          [
           4
          ],
          [
           10
          ],
          [
           53
          ],
          [
           17
          ],
          [
           32
          ],
          [
           37
          ],
          [
           32
          ],
          [
           10
          ],
          [
           70
          ],
          [
           45
          ],
          [
           23
          ],
          [
           46
          ],
          [
           15
          ],
          [
           4
          ],
          [
           6
          ],
          [
           31
          ],
          [
           7
          ],
          [
           7
          ],
          [
           38
          ],
          [
           14
          ],
          [
           38
          ],
          [
           34
          ],
          [
           8
          ],
          [
           43
          ],
          [
           7
          ],
          [
           8
          ],
          [
           43
          ],
          [
           49
          ],
          [
           32
          ],
          [
           38
          ],
          [
           17
          ],
          [
           4
          ],
          [
           8
          ],
          [
           17
          ],
          [
           11
          ],
          [
           7
          ],
          [
           69
          ],
          [
           13
          ],
          [
           41
          ],
          [
           55
          ],
          [
           9
          ],
          [
           15
          ],
          [
           42
          ],
          [
           65
          ],
          [
           13
          ],
          [
           8
          ],
          [
           22
          ],
          [
           22
          ],
          [
           70
          ],
          [
           0
          ],
          [
           28
          ],
          [
           10
          ],
          [
           72
          ],
          [
           9
          ],
          [
           12
          ],
          [
           61
          ],
          [
           80
          ],
          [
           13
          ],
          [
           50
          ],
          [
           48
          ],
          [
           8
          ],
          [
           19
          ],
          [
           6
          ],
          [
           16
          ],
          [
           0
          ],
          [
           11
          ],
          [
           7
          ],
          [
           23
          ],
          [
           28
          ],
          [
           56
          ],
          [
           3
          ],
          [
           48
          ],
          [
           70
          ],
          [
           73
          ],
          [
           25
          ],
          [
           38
          ],
          [
           13
          ],
          [
           40
          ],
          [
           64
          ],
          [
           30
          ],
          [
           67
          ],
          [
           60
          ],
          [
           4
          ],
          [
           28
          ],
          [
           61
          ],
          [
           28
          ],
          [
           53
          ],
          [
           31
          ],
          [
           101
          ],
          [
           21
          ],
          [
           12
          ],
          [
           45
          ],
          [
           26
          ],
          [
           10
          ],
          [
           18
          ],
          [
           25
          ],
          [
           50
          ],
          [
           54
          ],
          [
           17
          ],
          [
           35
          ],
          [
           13
          ],
          [
           7
          ],
          [
           22
          ],
          [
           41
          ],
          [
           12
          ],
          [
           12
          ],
          [
           37
          ],
          [
           3
          ],
          [
           80
          ],
          [
           28
          ],
          [
           43
          ],
          [
           38
          ],
          [
           77
          ],
          [
           26
          ],
          [
           88
          ],
          [
           12
          ],
          [
           12
          ],
          [
           53
          ],
          [
           15
          ],
          [
           38
          ],
          [
           12
          ],
          [
           28
          ],
          [
           11
          ],
          [
           57
          ],
          [
           8
          ],
          [
           5
          ],
          [
           49
          ],
          [
           11
          ],
          [
           82
          ],
          [
           13
          ],
          [
           27
          ],
          [
           26
          ],
          [
           18
          ],
          [
           20
          ],
          [
           42
          ],
          [
           24
          ],
          [
           72
          ],
          [
           27
          ],
          [
           60
          ],
          [
           27
          ],
          [
           6
          ],
          [
           3
          ],
          [
           57
          ],
          [
           26
          ],
          [
           9
          ],
          [
           17
          ],
          [
           17
          ],
          [
           28
          ],
          [
           15
          ],
          [
           22
          ],
          [
           13
          ],
          [
           20
          ],
          [
           17
          ],
          [
           28
          ],
          [
           11
          ],
          [
           6
          ],
          [
           37
          ],
          [
           22
          ],
          [
           50
          ],
          [
           26
          ],
          [
           1
          ],
          [
           9
          ],
          [
           9
          ],
          [
           23
          ],
          [
           23
          ],
          [
           8
          ],
          [
           11
          ],
          [
           13
          ],
          [
           9
          ],
          [
           9
          ],
          [
           7
          ],
          [
           5
          ],
          [
           55
          ],
          [
           8
          ],
          [
           1
          ],
          [
           33
          ],
          [
           27
          ],
          [
           37
          ],
          [
           19
          ],
          [
           16
          ],
          [
           34
          ],
          [
           5
          ],
          [
           11
          ],
          [
           11
          ],
          [
           18
          ],
          [
           39
          ],
          [
           49
          ],
          [
           34
          ],
          [
           62
          ],
          [
           42
          ],
          [
           15
          ],
          [
           74
          ],
          [
           44
          ],
          [
           76
          ],
          [
           31
          ],
          [
           69
          ],
          [
           27
          ],
          [
           11
          ],
          [
           34
          ],
          [
           8
          ],
          [
           62
          ],
          [
           11
          ],
          [
           40
          ],
          [
           27
          ],
          [
           69
          ],
          [
           46
          ],
          [
           30
          ],
          [
           19
          ],
          [
           62
          ],
          [
           27
          ],
          [
           4
          ],
          [
           13
          ],
          [
           8
          ],
          [
           36
          ],
          [
           85
          ],
          [
           7
          ],
          [
           37
          ],
          [
           19
          ],
          [
           22
          ],
          [
           50
          ],
          [
           28
          ],
          [
           12
          ],
          [
           43
          ],
          [
           0
          ],
          [
           42
          ],
          [
           81
          ],
          [
           49
          ],
          [
           59
          ],
          [
           19
          ],
          [
           73
          ],
          [
           4
          ],
          [
           3
          ],
          [
           10
          ],
          [
           36
          ],
          [
           55
          ],
          [
           35
          ],
          [
           5
          ],
          [
           18
          ],
          [
           14
          ],
          [
           11
          ],
          [
           39
          ],
          [
           84
          ],
          [
           4
          ],
          [
           19
          ],
          [
           25
          ],
          [
           72
          ],
          [
           6
          ],
          [
           12
          ],
          [
           45
          ],
          [
           69
          ],
          [
           29
          ],
          [
           1
          ],
          [
           17
          ],
          [
           47
          ],
          [
           31
          ],
          [
           37
          ],
          [
           29
          ],
          [
           57
          ],
          [
           27
          ],
          [
           26
          ],
          [
           8
          ],
          [
           34
          ],
          [
           10
          ],
          [
           71
          ],
          [
           10
          ],
          [
           17
          ],
          [
           67
          ],
          [
           90
          ],
          [
           31
          ],
          [
           60
          ],
          [
           19
          ],
          [
           37
          ],
          [
           27
          ],
          [
           41
          ],
          [
           48
          ],
          [
           42
          ],
          [
           49
          ],
          [
           51
          ],
          [
           28
          ],
          [
           14
          ],
          [
           10
          ],
          [
           30
          ],
          [
           21
          ],
          [
           31
          ],
          [
           28
          ],
          [
           9
          ],
          [
           23
          ],
          [
           14
          ],
          [
           35
          ],
          [
           11
          ],
          [
           33
          ],
          [
           72
          ],
          [
           27
          ],
          [
           53
          ],
          [
           13
          ],
          [
           8
          ],
          [
           10
          ],
          [
           5
          ],
          [
           78
          ],
          [
           16
          ],
          [
           29
          ],
          [
           28
          ],
          [
           17
          ],
          [
           10
          ],
          [
           4
          ],
          [
           36
          ],
          [
           84
          ],
          [
           22
          ],
          [
           37
          ],
          [
           67
          ],
          [
           6
          ],
          [
           9
          ],
          [
           9
          ],
          [
           34
          ],
          [
           8
          ],
          [
           6
          ],
          [
           25
          ],
          [
           60
          ],
          [
           11
          ],
          [
           16
          ],
          [
           13
          ],
          [
           44
          ],
          [
           40
          ],
          [
           4
          ],
          [
           89
          ],
          [
           84
          ],
          [
           39
          ],
          [
           26
          ],
          [
           28
          ],
          [
           5
          ],
          [
           24
          ],
          [
           28
          ],
          [
           30
          ],
          [
           68
          ],
          [
           26
          ],
          [
           16
          ],
          [
           21
          ],
          [
           29
          ],
          [
           6
          ],
          [
           55
          ],
          [
           45
          ],
          [
           38
          ],
          [
           26
          ],
          [
           11
          ],
          [
           26
          ],
          [
           5
          ],
          [
           5
          ],
          [
           25
          ],
          [
           5
          ],
          [
           89
          ],
          [
           36
          ],
          [
           19
          ],
          [
           21
          ],
          [
           28
          ],
          [
           21
          ],
          [
           31
          ],
          [
           31
          ],
          [
           33
          ],
          [
           7
          ],
          [
           5
          ],
          [
           5
          ],
          [
           21
          ],
          [
           23
          ],
          [
           8
          ],
          [
           43
          ],
          [
           10
          ],
          [
           48
          ],
          [
           67
          ],
          [
           13
          ],
          [
           35
          ],
          [
           23
          ],
          [
           30
          ],
          [
           10
          ],
          [
           9
          ],
          [
           34
          ],
          [
           65
          ],
          [
           40
          ],
          [
           8
          ],
          [
           27
          ],
          [
           74
          ],
          [
           13
          ],
          [
           28
          ],
          [
           35
          ],
          [
           8
          ],
          [
           27
          ],
          [
           64
          ],
          [
           69
          ],
          [
           7
          ],
          [
           37
          ],
          [
           22
          ],
          [
           75
          ],
          [
           11
          ],
          [
           18
          ],
          [
           41
          ],
          [
           21
          ],
          [
           16
          ],
          [
           32
          ],
          [
           3
          ],
          [
           15
          ],
          [
           3
          ],
          [
           31
          ],
          [
           26
          ],
          [
           40
          ],
          [
           5
          ],
          [
           16
          ],
          [
           3
          ],
          [
           6
          ],
          [
           25
          ],
          [
           9
          ],
          [
           23
          ],
          [
           14
          ],
          [
           17
          ],
          [
           5
          ],
          [
           8
          ],
          [
           7
          ],
          [
           31
          ],
          [
           9
          ],
          [
           23
          ],
          [
           16
          ],
          [
           3
          ],
          [
           15
          ],
          [
           3
          ],
          [
           38
          ],
          [
           22
          ],
          [
           43
          ],
          [
           60
          ],
          [
           13
          ],
          [
           9
          ],
          [
           7
          ],
          [
           4
          ],
          [
           22
          ],
          [
           70
          ],
          [
           7
          ],
          [
           12
          ],
          [
           36
          ],
          [
           10
          ],
          [
           27
          ],
          [
           26
          ],
          [
           25
          ],
          [
           13
          ],
          [
           6
          ],
          [
           62
          ],
          [
           29
          ],
          [
           14
          ],
          [
           56
          ],
          [
           48
          ],
          [
           27
          ],
          [
           21
          ],
          [
           3
          ],
          [
           23
          ],
          [
           30
          ],
          [
           6
          ],
          [
           39
          ],
          [
           61
          ],
          [
           54
          ],
          [
           4
          ],
          [
           30
          ],
          [
           34
          ],
          [
           36
          ],
          [
           41
          ],
          [
           9
          ],
          [
           35
          ],
          [
           4
          ],
          [
           13
          ],
          [
           41
          ],
          [
           62
          ],
          [
           23
          ],
          [
           11
          ],
          [
           16
          ],
          [
           64
          ],
          [
           34
          ],
          [
           35
          ],
          [
           28
          ],
          [
           12
          ],
          [
           6
          ],
          [
           34
          ],
          [
           7
          ],
          [
           48
          ],
          [
           10
          ],
          [
           58
          ],
          [
           81
          ],
          [
           33
          ],
          [
           7
          ],
          [
           33
          ],
          [
           59
          ],
          [
           46
          ],
          [
           24
          ],
          [
           48
          ],
          [
           28
          ],
          [
           15
          ],
          [
           20
          ],
          [
           37
          ],
          [
           56
          ],
          [
           30
          ],
          [
           74
          ],
          [
           32
          ],
          [
           36
          ],
          [
           40
          ],
          [
           13
          ],
          [
           29
          ],
          [
           44
          ],
          [
           14
          ],
          [
           73
          ],
          [
           31
          ],
          [
           22
          ],
          [
           69
          ],
          [
           38
          ],
          [
           15
          ],
          [
           32
          ],
          [
           32
          ],
          [
           38
          ],
          [
           43
          ],
          [
           21
          ],
          [
           18
          ],
          [
           15
          ],
          [
           16
          ],
          [
           27
          ],
          [
           51
          ],
          [
           65
          ],
          [
           6
          ],
          [
           22
          ],
          [
           55
          ],
          [
           49
          ],
          [
           20
          ],
          [
           5
          ],
          [
           54
          ],
          [
           35
          ],
          [
           12
          ],
          [
           79
          ],
          [
           6
          ],
          [
           37
          ],
          [
           31
          ],
          [
           53
          ],
          [
           34
          ],
          [
           20
          ],
          [
           25
          ],
          [
           38
          ],
          [
           18
          ],
          [
           24
          ],
          [
           58
          ],
          [
           76
          ],
          [
           43
          ],
          [
           7
          ],
          [
           65
          ],
          [
           6
          ],
          [
           15
          ],
          [
           5
          ],
          [
           38
          ],
          [
           5
          ],
          [
           5
          ],
          [
           15
          ],
          [
           61
          ],
          [
           15
          ],
          [
           7
          ],
          [
           24
          ],
          [
           9
          ],
          [
           37
          ],
          [
           71
          ],
          [
           51
          ],
          [
           15
          ],
          [
           13
          ],
          [
           75
          ],
          [
           15
          ],
          [
           13
          ],
          [
           38
          ],
          [
           25
          ],
          [
           2
          ],
          [
           55
          ],
          [
           26
          ],
          [
           30
          ],
          [
           42
          ],
          [
           9
          ],
          [
           16
          ],
          [
           34
          ],
          [
           1
          ],
          [
           83
          ],
          [
           8
          ],
          [
           76
          ],
          [
           12
          ],
          [
           3
          ],
          [
           10
          ],
          [
           59
          ],
          [
           23
          ],
          [
           3
          ],
          [
           47
          ],
          [
           18
          ],
          [
           25
          ],
          [
           4
          ],
          [
           10
          ],
          [
           8
          ],
          [
           10
          ],
          [
           18
          ],
          [
           13
          ],
          [
           34
          ],
          [
           32
          ],
          [
           24
          ],
          [
           5
          ],
          [
           23
          ],
          [
           12
          ],
          [
           84
          ],
          [
           8
          ],
          [
           64
          ],
          [
           12
          ],
          [
           78
          ],
          [
           16
          ],
          [
           32
          ],
          [
           31
          ],
          [
           61
          ],
          [
           18
          ],
          [
           53
          ],
          [
           32
          ],
          [
           10
          ],
          [
           25
          ],
          [
           7
          ],
          [
           23
          ],
          [
           4
          ],
          [
           4
          ],
          [
           20
          ],
          [
           9
          ],
          [
           19
          ],
          [
           23
          ],
          [
           25
          ],
          [
           65
          ],
          [
           19
          ],
          [
           43
          ],
          [
           4
          ],
          [
           8
          ],
          [
           35
          ],
          [
           3
          ],
          [
           12
          ],
          [
           31
          ],
          [
           6
          ],
          [
           16
          ],
          [
           16
          ],
          [
           37
          ],
          [
           5
          ],
          [
           10
          ],
          [
           78
          ],
          [
           18
          ],
          [
           5
          ],
          [
           71
          ],
          [
           21
          ],
          [
           46
          ],
          [
           14
          ],
          [
           86
          ],
          [
           53
          ],
          [
           34
          ],
          [
           53
          ],
          [
           25
          ],
          [
           14
          ],
          [
           5
          ],
          [
           28
          ],
          [
           9
          ],
          [
           4
          ],
          [
           32
          ],
          [
           42
          ],
          [
           24
          ],
          [
           4
          ],
          [
           15
          ],
          [
           20
          ],
          [
           27
          ],
          [
           54
          ],
          [
           46
          ],
          [
           83
          ],
          [
           50
          ],
          [
           52
          ],
          [
           10
          ],
          [
           14
          ],
          [
           27
          ],
          [
           6
          ],
          [
           57
          ],
          [
           17
          ],
          [
           53
          ],
          [
           13
          ],
          [
           14
          ],
          [
           35
          ],
          [
           4
          ],
          [
           27
          ],
          [
           20
          ],
          [
           6
          ],
          [
           46
          ],
          [
           50
          ],
          [
           52
          ],
          [
           54
          ],
          [
           11
          ],
          [
           30
          ],
          [
           3
          ],
          [
           28
          ],
          [
           22
          ],
          [
           25
          ],
          [
           39
          ],
          [
           86
          ],
          [
           80
          ],
          [
           12
          ],
          [
           58
          ],
          [
           74
          ],
          [
           0
          ],
          [
           47
          ],
          [
           23
          ],
          [
           14
          ],
          [
           5
          ],
          [
           37
          ],
          [
           58
          ],
          [
           58
          ],
          [
           3
          ],
          [
           60
          ],
          [
           3
          ],
          [
           6
          ],
          [
           32
          ],
          [
           4
          ],
          [
           67
          ],
          [
           21
          ],
          [
           8
          ],
          [
           14
          ],
          [
           26
          ],
          [
           18
          ],
          [
           7
          ],
          [
           8
          ],
          [
           24
          ],
          [
           21
          ],
          [
           11
          ],
          [
           51
          ],
          [
           38
          ],
          [
           35
          ],
          [
           9
          ],
          [
           45
          ],
          [
           54
          ],
          [
           22
          ],
          [
           10
          ],
          [
           70
          ],
          [
           19
          ],
          [
           4
          ],
          [
           34
          ],
          [
           28
          ],
          [
           75
          ],
          [
           47
          ],
          [
           9
          ],
          [
           43
          ],
          [
           27
          ],
          [
           25
          ],
          [
           21
          ],
          [
           11
          ],
          [
           16
          ],
          [
           71
          ],
          [
           24
          ],
          [
           27
          ],
          [
           51
          ],
          [
           44
          ],
          [
           86
          ],
          [
           19
          ],
          [
           14
          ],
          [
           47
          ],
          [
           25
          ],
          [
           34
          ],
          [
           59
          ],
          [
           17
          ],
          [
           20
          ],
          [
           3
          ],
          [
           9
          ],
          [
           19
          ],
          [
           12
          ],
          [
           83
          ],
          [
           9
          ],
          [
           19
          ],
          [
           4
          ],
          [
           8
          ],
          [
           69
          ],
          [
           7
          ],
          [
           38
          ],
          [
           18
          ],
          [
           10
          ],
          [
           10
          ],
          [
           64
          ],
          [
           9
          ],
          [
           24
          ],
          [
           19
          ],
          [
           39
          ],
          [
           22
          ],
          [
           72
          ],
          [
           19
          ],
          [
           8
          ],
          [
           52
          ],
          [
           30
          ],
          [
           22
          ],
          [
           12
          ],
          [
           9
          ],
          [
           23
          ],
          [
           40
          ],
          [
           16
          ],
          [
           20
          ],
          [
           3
          ],
          [
           4
          ],
          [
           71
          ],
          [
           5
          ],
          [
           23
          ],
          [
           58
          ],
          [
           0
          ],
          [
           57
          ],
          [
           9
          ],
          [
           8
          ],
          [
           8
          ],
          [
           5
          ],
          [
           12
          ],
          [
           34
          ],
          [
           48
          ],
          [
           13
          ],
          [
           49
          ],
          [
           22
          ],
          [
           32
          ],
          [
           7
          ]
         ],
         "fillcolor": "rgba(255,255,255,0)",
         "hoveron": "points",
         "hovertemplate": "event.PAM50=%{x}<br>soft prob=%{y}<br>HRD-sum=%{customdata[0]}<extra></extra>",
         "legendgroup": "",
         "line": {
          "color": "rgba(255,255,255,0)"
         },
         "marker": {
          "color": "#636efa"
         },
         "name": "",
         "offsetgroup": "",
         "orientation": "v",
         "pointpos": 0,
         "showlegend": false,
         "type": "box",
         "x": [
          null,
          "LumA",
          "LumA",
          "LumA",
          "LumA",
          "LumA",
          "LumB",
          "LumA",
          "Basal",
          "LumA",
          "LumB",
          "Basal",
          "Basal",
          "LumA",
          "Basal",
          "LumB",
          "Basal",
          "LumA",
          "Her2",
          "Her2",
          "LumB",
          "LumA",
          null,
          "Basal",
          "LumA",
          "LumA",
          "LumA",
          "LumA",
          "LumA",
          "LumA",
          "LumA",
          "LumA",
          "LumB",
          "Her2",
          "Basal",
          "Her2",
          "Basal",
          "LumA",
          "LumB",
          "LumA",
          "LumA",
          "LumA",
          "Her2",
          "LumA",
          "LumA",
          "LumA",
          "LumA",
          "LumA",
          "LumA",
          "LumB",
          "LumA",
          "LumB",
          "LumB",
          "Basal",
          "LumA",
          "Basal",
          "Her2",
          "Basal",
          "LumB",
          "LumA",
          "LumA",
          "LumA",
          "LumA",
          "LumA",
          "LumA",
          "Basal",
          "LumA",
          "LumB",
          "LumB",
          "LumA",
          "Basal",
          null,
          "LumA",
          "Basal",
          "LumB",
          "LumA",
          "LumB",
          "LumB",
          "LumA",
          "LumA",
          "Basal",
          "LumB",
          "LumA",
          "LumB",
          "LumB",
          "LumA",
          "LumB",
          "LumA",
          "LumA",
          "Basal",
          "Basal",
          "Basal",
          "Her2",
          "Basal",
          "Her2",
          "Basal",
          "Basal",
          "Basal",
          "LumA",
          "LumB",
          "LumA",
          "LumA",
          "LumB",
          "Basal",
          "LumA",
          "Basal",
          "LumB",
          "LumA",
          "LumA",
          "LumA",
          "LumA",
          "LumA",
          "LumA",
          "LumA",
          "LumA",
          "Her2",
          "Basal",
          "LumA",
          "Basal",
          "LumB",
          "Basal",
          "LumB",
          "LumB",
          "LumA",
          "LumB",
          "LumB",
          "LumA",
          "LumA",
          "LumB",
          "LumA",
          "LumB",
          "LumB",
          "LumB",
          "LumB",
          "LumA",
          "Basal",
          "LumA",
          "LumA",
          "LumA",
          "Her2",
          "LumA",
          "Basal",
          "LumA",
          "Basal",
          "LumB",
          "LumA",
          "LumB",
          "LumB",
          "LumA",
          "LumB",
          "LumB",
          "LumA",
          "LumA",
          "Her2",
          "LumA",
          "LumB",
          "LumB",
          "LumB",
          "Her2",
          "Her2",
          "LumA",
          "Basal",
          "LumB",
          "LumA",
          "Her2",
          "LumA",
          "LumA",
          "LumA",
          "LumB",
          "LumA",
          "Her2",
          "LumB",
          "LumB",
          "LumA",
          "LumA",
          "LumA",
          "LumA",
          "LumB",
          "LumA",
          "LumB",
          "Her2",
          "LumB",
          "LumA",
          "LumB",
          "LumB",
          "LumB",
          "LumB",
          "LumA",
          "LumA",
          "LumB",
          "Her2",
          "LumB",
          "LumA",
          "LumA",
          "LumA",
          "LumA",
          "Her2",
          "LumA",
          "LumA",
          "LumA",
          "LumA",
          "LumA",
          "LumA",
          "Her2",
          "LumA",
          "Basal",
          "LumB",
          "LumA",
          "LumA",
          "LumA",
          "LumA",
          "LumA",
          "LumA",
          "LumA",
          "LumA",
          "LumA",
          "LumA",
          "LumA",
          "LumA",
          "Her2",
          "LumA",
          "LumA",
          "LumA",
          "LumB",
          "Basal",
          "LumA",
          "LumA",
          "Basal",
          "LumA",
          "LumA",
          "LumB",
          "LumA",
          "LumA",
          "LumA",
          "Her2",
          "Basal",
          "LumB",
          "LumB",
          "Basal",
          "LumB",
          "Basal",
          "LumA",
          "Basal",
          "LumA",
          "LumB",
          "Basal",
          "LumA",
          "Basal",
          "LumA",
          "Her2",
          "LumA",
          "Basal",
          "LumB",
          "Basal",
          "LumA",
          "LumA",
          "LumA",
          "LumA",
          "LumB",
          "LumA",
          "LumA",
          "Basal",
          "LumA",
          "LumA",
          "LumA",
          "LumB",
          "LumB",
          "LumB",
          null,
          null,
          null,
          "LumA",
          "Her2",
          "LumB",
          "Basal",
          "LumA",
          "Basal",
          "LumB",
          "LumA",
          "LumA",
          "LumA",
          "LumB",
          "Her2",
          "LumA",
          "LumA",
          "LumA",
          "LumA",
          "LumB",
          "Basal",
          "LumA",
          "LumA",
          "Basal",
          "Basal",
          "LumA",
          "LumA",
          "Her2",
          "Basal",
          "LumA",
          null,
          "LumB",
          "Basal",
          "LumB",
          "LumB",
          "LumB",
          "Basal",
          "LumA",
          "LumA",
          "LumA",
          "Basal",
          "LumB",
          "Basal",
          "LumB",
          "LumA",
          "Basal",
          "Basal",
          "LumB",
          "LumA",
          "Her2",
          "LumB",
          "LumA",
          "Basal",
          "LumB",
          "LumA",
          "Basal",
          "Basal",
          "Basal",
          "LumA",
          "LumA",
          "LumA",
          "LumA",
          "Basal",
          "Basal",
          "LumA",
          "LumA",
          "LumA",
          "LumB",
          "LumA",
          "Basal",
          "LumB",
          "LumB",
          "LumA",
          "LumA",
          "LumB",
          "LumA",
          "LumA",
          "Basal",
          "LumB",
          "LumB",
          "Her2",
          "LumA",
          "LumA",
          "LumA",
          "LumB",
          "Basal",
          "Her2",
          "LumA",
          "Basal",
          "LumA",
          "LumA",
          "LumB",
          "LumB",
          "LumA",
          "LumA",
          "LumA",
          "Basal",
          "LumA",
          "LumA",
          "LumA",
          "Basal",
          "Basal",
          "LumA",
          "Basal",
          "LumA",
          "Her2",
          "LumA",
          "LumB",
          "LumA",
          "LumA",
          "LumA",
          "LumA",
          "Basal",
          "Her2",
          "LumA",
          "LumB",
          "LumA",
          "LumA",
          "Basal",
          "Basal",
          "LumA",
          "Her2",
          "LumA",
          "LumB",
          "LumA",
          "LumA",
          "LumA",
          "LumA",
          "Her2",
          "Basal",
          "LumA",
          "LumA",
          "LumA",
          "LumB",
          "LumB",
          "Basal",
          "LumA",
          "LumA",
          "LumA",
          "LumB",
          "LumA",
          "Basal",
          "LumA",
          "LumB",
          "LumA",
          "Basal",
          "Basal",
          "LumA",
          "Basal",
          "LumA",
          "Basal",
          "LumA",
          "LumA",
          "LumB",
          "Basal",
          "Her2",
          "LumA",
          "LumA",
          "LumA",
          "LumA",
          "LumA",
          "Basal",
          "LumB",
          "LumB",
          "Basal",
          "LumA",
          "LumA",
          "LumA",
          "LumA",
          "LumB",
          "LumA",
          "LumB",
          "LumB",
          "LumB",
          "LumA",
          "LumA",
          "LumA",
          "LumA",
          "LumA",
          "LumA",
          "LumA",
          "Basal",
          "LumA",
          "LumA",
          "LumA",
          "LumA",
          "Her2",
          "LumA",
          "LumA",
          "LumA",
          "LumB",
          "LumA",
          "LumA",
          "LumA",
          "LumA",
          "LumA",
          "LumA",
          "LumA",
          "LumA",
          "LumA",
          "LumA",
          "LumB",
          "LumB",
          "LumA",
          "LumB",
          "Basal",
          "LumB",
          "LumA",
          "LumA",
          "LumA",
          "Basal",
          "LumA",
          "Basal",
          "LumA",
          "LumA",
          "LumA",
          "LumA",
          "LumB",
          "LumA",
          "LumA",
          "Basal",
          "Her2",
          "LumA",
          "Basal",
          "LumB",
          "Her2",
          "LumA",
          "LumA",
          "LumA",
          "Her2",
          "LumA",
          "LumA",
          "Basal",
          "LumB",
          "LumA",
          "Basal",
          "LumB",
          "Basal",
          "LumB",
          "LumA",
          "LumA",
          "LumB",
          "LumA",
          "LumB",
          "LumB",
          null,
          "LumA",
          "LumB",
          "Her2",
          "LumB",
          null,
          "LumB",
          "LumA",
          "LumA",
          "LumB",
          "LumA",
          "LumA",
          "LumA",
          "Basal",
          "Her2",
          "LumB",
          "LumA",
          "LumA",
          "Her2",
          "Her2",
          "Her2",
          "LumB",
          "LumB",
          "LumA",
          "LumA",
          "Her2",
          "LumB",
          "Basal",
          "Basal",
          "Her2",
          "Her2",
          "Her2",
          "LumA",
          "Her2",
          "LumB",
          "LumA",
          "Basal",
          "Her2",
          "LumB",
          "LumB",
          "LumB",
          "LumA",
          "LumB",
          "LumB",
          "Her2",
          "Her2",
          "LumA",
          "LumA",
          "LumB",
          "Her2",
          "Her2",
          "LumB",
          "Basal",
          "LumA",
          "LumB",
          "LumB",
          "Her2",
          "LumA",
          "LumA",
          "Basal",
          "Basal",
          "LumA",
          "Basal",
          "LumB",
          "LumB",
          "Her2",
          "LumA",
          "LumB",
          "LumB",
          "Her2",
          "Her2",
          "LumB",
          "LumB",
          "Basal",
          "Basal",
          "Basal",
          "LumA",
          "LumA",
          "LumA",
          "LumB",
          "LumA",
          "LumB",
          "LumB",
          "LumB",
          "LumA",
          "LumA",
          "LumA",
          "LumA",
          "LumB",
          "LumA",
          "Her2",
          "Basal",
          "LumB",
          "LumA",
          "LumA",
          "Basal",
          "LumB",
          "LumB",
          "Her2",
          "LumA",
          "LumA",
          null,
          "LumA",
          "LumB",
          "LumA",
          "LumB",
          "LumB",
          "LumB",
          "LumA",
          "Basal",
          "LumA",
          "Basal",
          "LumA",
          "LumA",
          "LumA",
          "Basal",
          "LumB",
          "LumA",
          "LumB",
          "LumA",
          "LumB",
          "LumA",
          "LumA",
          "LumA",
          "LumA",
          "LumA",
          "LumA",
          null,
          "LumB",
          "LumA",
          "LumA",
          "LumB",
          "LumA",
          "Basal",
          "LumB",
          "Her2",
          "LumA",
          "Basal",
          "LumB",
          "LumA",
          "Her2",
          "LumB",
          "Basal",
          "Basal",
          "Her2",
          "LumA",
          "LumB",
          "LumA",
          "Basal",
          "LumA",
          "LumA",
          "LumA",
          "LumA",
          "LumA",
          "LumA",
          "LumA",
          "LumB",
          "LumB",
          "Her2",
          "LumA",
          "LumA",
          "LumA",
          "LumA",
          "LumA",
          "Basal",
          "LumA",
          "LumA",
          "LumA",
          "LumA",
          "LumA",
          "LumA",
          "LumB",
          "LumA",
          "LumA",
          "LumA",
          "Her2",
          "Her2",
          "Basal",
          "Basal",
          "Basal",
          "Basal",
          "Basal",
          "LumA",
          "LumA",
          "LumA",
          "LumB",
          "LumA",
          "LumA",
          "Basal",
          "Basal",
          "LumA",
          "LumA",
          "LumA",
          "LumA",
          "Basal",
          "Basal",
          "LumB",
          "Basal",
          "Basal",
          "LumB",
          "LumA",
          "LumA",
          "LumB",
          "LumA",
          "LumA",
          "LumA",
          "LumB",
          "LumA",
          "LumA",
          "LumB",
          "LumA",
          "LumB",
          "LumA",
          "LumA",
          "LumB",
          "LumA",
          "LumB",
          "Her2",
          "LumA",
          "LumB",
          "LumA",
          "LumB",
          "LumA",
          "LumB",
          "LumB",
          "LumB",
          "Basal",
          "LumB",
          "Basal",
          "Basal",
          "LumA",
          "LumA",
          "Her2",
          "LumB",
          "LumA",
          "LumA",
          "LumB",
          "LumB",
          "LumA",
          "Basal",
          "LumA",
          "LumB",
          "LumB",
          "LumA",
          "Basal",
          "LumB",
          "LumA",
          "LumA",
          "LumA",
          "LumA",
          "LumB",
          "LumA",
          "LumA",
          "LumA",
          "LumA",
          "LumA",
          "LumB",
          "Her2",
          "LumB",
          "LumB",
          "LumB",
          "LumB",
          "LumA",
          "Basal",
          "LumA",
          "LumA",
          "Basal",
          "LumA",
          "Basal",
          "LumB",
          "LumA",
          "Basal",
          "Her2",
          "LumA",
          "LumA",
          "LumB",
          "LumA",
          "Basal",
          "LumA",
          "LumA",
          "Her2",
          "LumA",
          "Basal",
          "LumA",
          "LumA",
          "Her2",
          "LumA",
          null,
          "Her2",
          "LumA",
          "LumA",
          "LumA",
          "LumB",
          "LumA",
          "LumA",
          "Basal",
          "LumA",
          "LumA",
          "LumA",
          "LumA",
          "Basal",
          "LumA",
          "Her2",
          "LumA",
          "LumA",
          "LumA",
          null,
          "LumA",
          "LumA",
          "LumB",
          "LumA",
          "Her2",
          "Basal",
          "LumA",
          "LumA",
          "Basal",
          "Basal",
          "LumA",
          "LumA",
          "LumA",
          null,
          "Basal",
          "LumA",
          "LumA",
          "LumA",
          "LumA",
          "Basal",
          "LumA",
          "Her2",
          "Basal",
          "LumA",
          "Basal",
          "LumA",
          "LumA",
          "LumA",
          "LumA",
          "LumA",
          "Her2",
          "Basal",
          "LumA",
          "LumA",
          "LumA",
          "LumA",
          "LumA"
         ],
         "x0": " ",
         "xaxis": "x",
         "y": [
          -1,
          0.48875,
          0.13874999999999993,
          0.48,
          -1,
          0.52,
          0.13874999999999993,
          0.49875,
          0.5800000000000001,
          0.17999999999999994,
          0.42000000000000004,
          -1,
          0.255,
          -1,
          0.56125,
          0.53125,
          -1,
          -1,
          0.495,
          0.28875000000000006,
          0.34875,
          0.04875000000000007,
          0.625,
          0.905,
          0.09500000000000008,
          -1,
          -1,
          -1,
          -1,
          0.505,
          0.50125,
          -1,
          0.625,
          0.46875,
          -1,
          0.50125,
          -1,
          -1,
          0.53125,
          -1,
          -1,
          -1,
          0.71125,
          -1,
          0,
          -1,
          0.495,
          -1,
          0,
          -1,
          0.28875000000000006,
          0.505,
          0.56125,
          0.505,
          0,
          -1,
          0.78125,
          0.43875,
          0.8200000000000001,
          0.21875,
          -1,
          -1,
          0.50125,
          -1,
          -1,
          0.5800000000000001,
          0.17999999999999994,
          0.5800000000000001,
          0.52,
          -1,
          0.71125,
          -1,
          -1,
          0.71125,
          0.9512499999999999,
          0.505,
          0.5800000000000001,
          0.28875000000000006,
          -1,
          -1,
          0.28875000000000006,
          0.04875000000000007,
          -1,
          -1,
          0.13874999999999993,
          0.65125,
          -1,
          -1,
          0.21875,
          0.6799999999999999,
          -1,
          0.13874999999999993,
          -1,
          0.42000000000000004,
          0.42000000000000004,
          -1,
          -1,
          0.495,
          0,
          -1,
          -1,
          0.09500000000000008,
          -1,
          -1,
          0.13874999999999993,
          -1,
          0.905,
          -1,
          0.34875,
          -1,
          0.255,
          -1,
          0.04875000000000007,
          -1,
          0.43875,
          0.495,
          -1,
          -1,
          0.905,
          -1,
          -1,
          0.46875,
          0.5800000000000001,
          0.13874999999999993,
          0.625,
          -1,
          0.5,
          -1,
          -1,
          -1,
          0.495,
          -1,
          0.495,
          -1,
          0.50125,
          -1,
          0.39875000000000005,
          0.09500000000000008,
          0.78125,
          0.48,
          0,
          0.31999999999999995,
          0.46875,
          -1,
          -1,
          0.28875000000000006,
          0.53125,
          0.13874999999999993,
          -1,
          0.42000000000000004,
          0.65125,
          0.09500000000000008,
          0.09500000000000008,
          0.56125,
          -1,
          -1,
          0.495,
          0.71125,
          0.5800000000000001,
          -1,
          0.48,
          -1,
          0.09500000000000008,
          0.09500000000000008,
          -1,
          0.21875,
          0.5800000000000001,
          0.09500000000000008,
          0.495,
          0.04875000000000007,
          -1,
          -1,
          -1,
          0.9512499999999999,
          0.04875000000000007,
          -1,
          0.13874999999999993,
          0.48875,
          0.48,
          0.31999999999999995,
          0.375,
          0.6799999999999999,
          0.45499999999999996,
          -1,
          0.48875,
          -1,
          0.48875,
          -1,
          -1,
          -1,
          0.48,
          -1,
          0.28875000000000006,
          0.28875000000000006,
          0.495,
          0.21875,
          0.42000000000000004,
          0.13874999999999993,
          0.375,
          0.28875000000000006,
          0.495,
          0.04875000000000007,
          -1,
          0.56125,
          0.42000000000000004,
          -1,
          0.48,
          -1,
          -1,
          -1,
          0.43875,
          0.43875,
          -1,
          0.04875000000000007,
          0.13874999999999993,
          -1,
          -1,
          -1,
          -1,
          -1,
          -1,
          -1,
          0.51125,
          0.48875,
          0.56125,
          0.34875,
          0.255,
          0.52,
          -1,
          0.04875000000000007,
          0.04875000000000007,
          0.31999999999999995,
          0.60125,
          0.9512499999999999,
          0.52,
          -1,
          0.6799999999999999,
          0.21875,
          -1,
          0.745,
          -1,
          0.50125,
          -1,
          0.48875,
          0.04875000000000007,
          0.52,
          -1,
          -1,
          0.04875000000000007,
          0.625,
          0.48875,
          -1,
          0.8200000000000001,
          0.5,
          0.34875,
          -1,
          0.48875,
          -1,
          0.13874999999999993,
          -1,
          0.545,
          -1,
          -1,
          0.56125,
          0.34875,
          0.42000000000000004,
          -1,
          0.495,
          0.09500000000000008,
          0.71125,
          -1,
          0.6799999999999999,
          -1,
          0.9512499999999999,
          -1,
          0.34875,
          -1,
          -1,
          -1,
          0,
          0.545,
          -1,
          0.53125,
          -1,
          0.31999999999999995,
          0.17999999999999994,
          0.04875000000000007,
          0.60125,
          -1,
          -1,
          0.34875,
          0.46875,
          -1,
          -1,
          0.09500000000000008,
          0.78125,
          -1,
          0.49875,
          -1,
          0.28875000000000006,
          0.86125,
          0.50125,
          0.56125,
          0.49875,
          -1,
          0.48875,
          0.48,
          -1,
          0.52,
          0,
          -1,
          0,
          0.28875000000000006,
          -1,
          -1,
          0.50125,
          -1,
          0.34875,
          0.56125,
          0.48875,
          0.65125,
          0.905,
          0.6799999999999999,
          0.9512499999999999,
          -1,
          0.495,
          0.17999999999999994,
          0,
          0.5,
          0.39875000000000005,
          0.50125,
          0.495,
          -1,
          0.43875,
          0.17999999999999994,
          0.53125,
          0.04875000000000007,
          0.51125,
          -1,
          0.48875,
          -1,
          0.13874999999999993,
          -1,
          0,
          -1,
          -1,
          0.255,
          0.49875,
          0.495,
          0.28875000000000006,
          0,
          -1,
          0.545,
          -1,
          0.42000000000000004,
          0.56125,
          -1,
          -1,
          -1,
          -1,
          0.52,
          -1,
          -1,
          0.46875,
          -1,
          0.04875000000000007,
          0.255,
          0.13874999999999993,
          0.745,
          0.625,
          -1,
          -1,
          -1,
          0.60125,
          0.48,
          0.495,
          -1,
          0.45499999999999996,
          0.495,
          0.5,
          -1,
          0.48,
          0.255,
          0.39875000000000005,
          0.49875,
          -1,
          -1,
          0.78125,
          0.5800000000000001,
          0.48,
          0.04875000000000007,
          0.48,
          -1,
          -1,
          0.46875,
          -1,
          -1,
          0.545,
          0.34875,
          0.39875000000000005,
          0.495,
          0.39875000000000005,
          0.50125,
          0.50125,
          0.51125,
          -1,
          -1,
          -1,
          0.39875000000000005,
          0.43875,
          -1,
          0.71125,
          0,
          0.905,
          -1,
          0.13874999999999993,
          0.53125,
          0.43875,
          0.5,
          0,
          -1,
          0.52,
          -1,
          0.625,
          -1,
          0.48875,
          -1,
          0.13874999999999993,
          0.495,
          0.53125,
          -1,
          0.48875,
          -1,
          -1,
          -1,
          0.56125,
          0.42000000000000004,
          -1,
          0.04875000000000007,
          0.31999999999999995,
          0.65125,
          0.39875000000000005,
          0.255,
          0.505,
          -1,
          0.21875,
          -1,
          0.50125,
          0.48,
          0.625,
          -1,
          0.255,
          -1,
          -1,
          0.46875,
          -1,
          0.43875,
          0.17999999999999994,
          0.28875000000000006,
          -1,
          -1,
          -1,
          0.50125,
          -1,
          0.43875,
          0.255,
          -1,
          0.21875,
          -1,
          0.5800000000000001,
          0.42000000000000004,
          0.71125,
          -1,
          0.13874999999999993,
          -1,
          -1,
          -1,
          0.42000000000000004,
          -1,
          -1,
          0.09500000000000008,
          0.545,
          0,
          0.48875,
          0.48,
          0.46875,
          0.13874999999999993,
          -1,
          -1,
          0.49875,
          0.17999999999999994,
          -1,
          0.905,
          0.48875,
          0.39875000000000005,
          -1,
          0.43875,
          0.5,
          -1,
          0.60125,
          -1,
          -1,
          -1,
          0.5,
          0.52,
          0.545,
          0.65125,
          -1,
          0.53125,
          -1,
          0.13874999999999993,
          0.65125,
          -1,
          0.43875,
          0.04875000000000007,
          0.255,
          -1,
          0.52,
          0.53125,
          0.495,
          0.09500000000000008,
          -1,
          0.52,
          -1,
          0.905,
          0,
          -1,
          -1,
          0.51125,
          -1,
          0.51125,
          -1,
          0.8200000000000001,
          0.45499999999999996,
          0.905,
          0.495,
          0.21875,
          0.375,
          0.56125,
          -1,
          0.5,
          -1,
          0.505,
          0.545,
          0.625,
          0.13874999999999993,
          0.49875,
          0.745,
          0.17999999999999994,
          -1,
          0.50125,
          0.42000000000000004,
          -1,
          0.5800000000000001,
          0.21875,
          0.505,
          0.505,
          0.5800000000000001,
          0.71125,
          0.39875000000000005,
          0.31999999999999995,
          0.21875,
          0.255,
          0.48875,
          -1,
          -1,
          -1,
          0.42000000000000004,
          -1,
          0.9512499999999999,
          0.375,
          -1,
          -1,
          0.53125,
          0.09500000000000008,
          -1,
          -1,
          0.56125,
          0.50125,
          -1,
          0.52,
          0.375,
          0.46875,
          0.5800000000000001,
          0.31999999999999995,
          0.45499999999999996,
          -1,
          -1,
          0.71125,
          -1,
          -1,
          -1,
          0.21875,
          -1,
          0.5800000000000001,
          -1,
          -1,
          0.21875,
          -1,
          0.21875,
          -1,
          0.45499999999999996,
          -1,
          0.56125,
          -1,
          -1,
          0.21875,
          0.13874999999999993,
          -1,
          0.21875,
          0.13874999999999993,
          0.5800000000000001,
          0.46875,
          -1,
          -1,
          0.48,
          0.5,
          0.6799999999999999,
          -1,
          0.255,
          0.52,
          -1,
          -1,
          -1,
          -1,
          0.09500000000000008,
          -1,
          0,
          -1,
          0.43875,
          -1,
          0.86125,
          0.31999999999999995,
          0.46875,
          -1,
          0,
          -1,
          0,
          0.31999999999999995,
          0.13874999999999993,
          0.52,
          0.505,
          0.45499999999999996,
          -1,
          0.43875,
          0.09500000000000008,
          -1,
          -1,
          -1,
          0.09500000000000008,
          -1,
          0.255,
          0.505,
          0.50125,
          -1,
          0.31999999999999995,
          -1,
          0.505,
          0,
          0.46875,
          -1,
          0.43875,
          -1,
          -1,
          0.375,
          -1,
          0.34875,
          0.43875,
          0.46875,
          -1,
          0.34875,
          0.71125,
          -1,
          -1,
          0.53125,
          -1,
          0.09500000000000008,
          0.50125,
          -1,
          0.255,
          0.255,
          0.56125,
          -1,
          0,
          -1,
          0.31999999999999995,
          -1,
          -1,
          0.39875000000000005,
          0.8200000000000001,
          0.17999999999999994,
          -1,
          -1,
          0.52,
          -1,
          0.46875,
          0.17999999999999994,
          -1,
          0.495,
          -1,
          -1,
          0.505,
          0.6799999999999999,
          0.45499999999999996,
          -1,
          0.21875,
          0.375,
          0.48875,
          -1,
          0.8200000000000001,
          -1,
          -1,
          -1,
          0,
          0.17999999999999994,
          0.48875,
          -1,
          -1,
          0.28875000000000006,
          -1,
          0.13874999999999993,
          0.17999999999999994,
          0.53125,
          -1,
          0.48875,
          0.375,
          -1,
          0.8200000000000001,
          -1,
          -1,
          -1,
          0.04875000000000007,
          0.5,
          -1,
          0.495,
          0.42000000000000004,
          0.46875,
          0.60125,
          -1,
          -1,
          0.09500000000000008,
          -1,
          -1,
          -1,
          0.86125,
          0.43875,
          0.17999999999999994,
          -1,
          0.56125,
          -1,
          -1,
          -1,
          -1,
          -1,
          -1,
          0.505,
          -1,
          -1,
          0.39875000000000005,
          -1,
          0.17999999999999994,
          0.48,
          0.31999999999999995,
          -1,
          -1,
          0.45499999999999996,
          0.39875000000000005,
          0.04875000000000007,
          -1,
          0.5800000000000001,
          0.53125,
          -1,
          0.78125,
          -1,
          0.42000000000000004,
          0,
          -1,
          0.34875,
          -1,
          0.52,
          0.495,
          -1,
          0.86125,
          -1,
          0.71125,
          0.48875,
          0.46875,
          0.39875000000000005,
          0.04875000000000007,
          0.255,
          -1,
          0.45499999999999996,
          0.48875,
          -1,
          0.745,
          -1,
          0.34875,
          0.17999999999999994,
          0.86125,
          0.46875,
          0.52,
          -1,
          0.28875000000000006,
          0.375,
          -1,
          -1,
          0.34875,
          0.09500000000000008,
          -1,
          -1,
          0.34875,
          -1,
          -1,
          -1,
          -1,
          0.5800000000000001,
          0.31999999999999995,
          0,
          0,
          -1,
          -1,
          0.45499999999999996,
          0.34875,
          0.60125,
          0.42000000000000004,
          -1,
          0.34875,
          -1,
          -1,
          0.5,
          0.42000000000000004,
          0.09500000000000008,
          -1,
          0.43875,
          0.625,
          0.255,
          0.375,
          -1,
          -1,
          -1,
          -1,
          0.43875,
          -1,
          -1,
          -1,
          -1,
          -1,
          -1,
          -1,
          0.09500000000000008,
          0.52,
          0.905,
          0.13874999999999993,
          0.9512499999999999,
          0.42000000000000004,
          0.505,
          -1
         ],
         "y0": " ",
         "yaxis": "y"
        }
       ],
       "layout": {
        "boxmode": "group",
        "legend": {
         "tracegroupgap": 0
        },
        "margin": {
         "t": 60
        },
        "template": {
         "data": {
          "bar": [
           {
            "error_x": {
             "color": "#2a3f5f"
            },
            "error_y": {
             "color": "#2a3f5f"
            },
            "marker": {
             "line": {
              "color": "#E5ECF6",
              "width": 0.5
             },
             "pattern": {
              "fillmode": "overlay",
              "size": 10,
              "solidity": 0.2
             }
            },
            "type": "bar"
           }
          ],
          "barpolar": [
           {
            "marker": {
             "line": {
              "color": "#E5ECF6",
              "width": 0.5
             },
             "pattern": {
              "fillmode": "overlay",
              "size": 10,
              "solidity": 0.2
             }
            },
            "type": "barpolar"
           }
          ],
          "carpet": [
           {
            "aaxis": {
             "endlinecolor": "#2a3f5f",
             "gridcolor": "white",
             "linecolor": "white",
             "minorgridcolor": "white",
             "startlinecolor": "#2a3f5f"
            },
            "baxis": {
             "endlinecolor": "#2a3f5f",
             "gridcolor": "white",
             "linecolor": "white",
             "minorgridcolor": "white",
             "startlinecolor": "#2a3f5f"
            },
            "type": "carpet"
           }
          ],
          "choropleth": [
           {
            "colorbar": {
             "outlinewidth": 0,
             "ticks": ""
            },
            "type": "choropleth"
           }
          ],
          "contour": [
           {
            "colorbar": {
             "outlinewidth": 0,
             "ticks": ""
            },
            "colorscale": [
             [
              0,
              "#0d0887"
             ],
             [
              0.1111111111111111,
              "#46039f"
             ],
             [
              0.2222222222222222,
              "#7201a8"
             ],
             [
              0.3333333333333333,
              "#9c179e"
             ],
             [
              0.4444444444444444,
              "#bd3786"
             ],
             [
              0.5555555555555556,
              "#d8576b"
             ],
             [
              0.6666666666666666,
              "#ed7953"
             ],
             [
              0.7777777777777778,
              "#fb9f3a"
             ],
             [
              0.8888888888888888,
              "#fdca26"
             ],
             [
              1,
              "#f0f921"
             ]
            ],
            "type": "contour"
           }
          ],
          "contourcarpet": [
           {
            "colorbar": {
             "outlinewidth": 0,
             "ticks": ""
            },
            "type": "contourcarpet"
           }
          ],
          "heatmap": [
           {
            "colorbar": {
             "outlinewidth": 0,
             "ticks": ""
            },
            "colorscale": [
             [
              0,
              "#0d0887"
             ],
             [
              0.1111111111111111,
              "#46039f"
             ],
             [
              0.2222222222222222,
              "#7201a8"
             ],
             [
              0.3333333333333333,
              "#9c179e"
             ],
             [
              0.4444444444444444,
              "#bd3786"
             ],
             [
              0.5555555555555556,
              "#d8576b"
             ],
             [
              0.6666666666666666,
              "#ed7953"
             ],
             [
              0.7777777777777778,
              "#fb9f3a"
             ],
             [
              0.8888888888888888,
              "#fdca26"
             ],
             [
              1,
              "#f0f921"
             ]
            ],
            "type": "heatmap"
           }
          ],
          "heatmapgl": [
           {
            "colorbar": {
             "outlinewidth": 0,
             "ticks": ""
            },
            "colorscale": [
             [
              0,
              "#0d0887"
             ],
             [
              0.1111111111111111,
              "#46039f"
             ],
             [
              0.2222222222222222,
              "#7201a8"
             ],
             [
              0.3333333333333333,
              "#9c179e"
             ],
             [
              0.4444444444444444,
              "#bd3786"
             ],
             [
              0.5555555555555556,
              "#d8576b"
             ],
             [
              0.6666666666666666,
              "#ed7953"
             ],
             [
              0.7777777777777778,
              "#fb9f3a"
             ],
             [
              0.8888888888888888,
              "#fdca26"
             ],
             [
              1,
              "#f0f921"
             ]
            ],
            "type": "heatmapgl"
           }
          ],
          "histogram": [
           {
            "marker": {
             "pattern": {
              "fillmode": "overlay",
              "size": 10,
              "solidity": 0.2
             }
            },
            "type": "histogram"
           }
          ],
          "histogram2d": [
           {
            "colorbar": {
             "outlinewidth": 0,
             "ticks": ""
            },
            "colorscale": [
             [
              0,
              "#0d0887"
             ],
             [
              0.1111111111111111,
              "#46039f"
             ],
             [
              0.2222222222222222,
              "#7201a8"
             ],
             [
              0.3333333333333333,
              "#9c179e"
             ],
             [
              0.4444444444444444,
              "#bd3786"
             ],
             [
              0.5555555555555556,
              "#d8576b"
             ],
             [
              0.6666666666666666,
              "#ed7953"
             ],
             [
              0.7777777777777778,
              "#fb9f3a"
             ],
             [
              0.8888888888888888,
              "#fdca26"
             ],
             [
              1,
              "#f0f921"
             ]
            ],
            "type": "histogram2d"
           }
          ],
          "histogram2dcontour": [
           {
            "colorbar": {
             "outlinewidth": 0,
             "ticks": ""
            },
            "colorscale": [
             [
              0,
              "#0d0887"
             ],
             [
              0.1111111111111111,
              "#46039f"
             ],
             [
              0.2222222222222222,
              "#7201a8"
             ],
             [
              0.3333333333333333,
              "#9c179e"
             ],
             [
              0.4444444444444444,
              "#bd3786"
             ],
             [
              0.5555555555555556,
              "#d8576b"
             ],
             [
              0.6666666666666666,
              "#ed7953"
             ],
             [
              0.7777777777777778,
              "#fb9f3a"
             ],
             [
              0.8888888888888888,
              "#fdca26"
             ],
             [
              1,
              "#f0f921"
             ]
            ],
            "type": "histogram2dcontour"
           }
          ],
          "mesh3d": [
           {
            "colorbar": {
             "outlinewidth": 0,
             "ticks": ""
            },
            "type": "mesh3d"
           }
          ],
          "parcoords": [
           {
            "line": {
             "colorbar": {
              "outlinewidth": 0,
              "ticks": ""
             }
            },
            "type": "parcoords"
           }
          ],
          "pie": [
           {
            "automargin": true,
            "type": "pie"
           }
          ],
          "scatter": [
           {
            "fillpattern": {
             "fillmode": "overlay",
             "size": 10,
             "solidity": 0.2
            },
            "type": "scatter"
           }
          ],
          "scatter3d": [
           {
            "line": {
             "colorbar": {
              "outlinewidth": 0,
              "ticks": ""
             }
            },
            "marker": {
             "colorbar": {
              "outlinewidth": 0,
              "ticks": ""
             }
            },
            "type": "scatter3d"
           }
          ],
          "scattercarpet": [
           {
            "marker": {
             "colorbar": {
              "outlinewidth": 0,
              "ticks": ""
             }
            },
            "type": "scattercarpet"
           }
          ],
          "scattergeo": [
           {
            "marker": {
             "colorbar": {
              "outlinewidth": 0,
              "ticks": ""
             }
            },
            "type": "scattergeo"
           }
          ],
          "scattergl": [
           {
            "marker": {
             "colorbar": {
              "outlinewidth": 0,
              "ticks": ""
             }
            },
            "type": "scattergl"
           }
          ],
          "scattermapbox": [
           {
            "marker": {
             "colorbar": {
              "outlinewidth": 0,
              "ticks": ""
             }
            },
            "type": "scattermapbox"
           }
          ],
          "scatterpolar": [
           {
            "marker": {
             "colorbar": {
              "outlinewidth": 0,
              "ticks": ""
             }
            },
            "type": "scatterpolar"
           }
          ],
          "scatterpolargl": [
           {
            "marker": {
             "colorbar": {
              "outlinewidth": 0,
              "ticks": ""
             }
            },
            "type": "scatterpolargl"
           }
          ],
          "scatterternary": [
           {
            "marker": {
             "colorbar": {
              "outlinewidth": 0,
              "ticks": ""
             }
            },
            "type": "scatterternary"
           }
          ],
          "surface": [
           {
            "colorbar": {
             "outlinewidth": 0,
             "ticks": ""
            },
            "colorscale": [
             [
              0,
              "#0d0887"
             ],
             [
              0.1111111111111111,
              "#46039f"
             ],
             [
              0.2222222222222222,
              "#7201a8"
             ],
             [
              0.3333333333333333,
              "#9c179e"
             ],
             [
              0.4444444444444444,
              "#bd3786"
             ],
             [
              0.5555555555555556,
              "#d8576b"
             ],
             [
              0.6666666666666666,
              "#ed7953"
             ],
             [
              0.7777777777777778,
              "#fb9f3a"
             ],
             [
              0.8888888888888888,
              "#fdca26"
             ],
             [
              1,
              "#f0f921"
             ]
            ],
            "type": "surface"
           }
          ],
          "table": [
           {
            "cells": {
             "fill": {
              "color": "#EBF0F8"
             },
             "line": {
              "color": "white"
             }
            },
            "header": {
             "fill": {
              "color": "#C8D4E3"
             },
             "line": {
              "color": "white"
             }
            },
            "type": "table"
           }
          ]
         },
         "layout": {
          "annotationdefaults": {
           "arrowcolor": "#2a3f5f",
           "arrowhead": 0,
           "arrowwidth": 1
          },
          "autotypenumbers": "strict",
          "coloraxis": {
           "colorbar": {
            "outlinewidth": 0,
            "ticks": ""
           }
          },
          "colorscale": {
           "diverging": [
            [
             0,
             "#8e0152"
            ],
            [
             0.1,
             "#c51b7d"
            ],
            [
             0.2,
             "#de77ae"
            ],
            [
             0.3,
             "#f1b6da"
            ],
            [
             0.4,
             "#fde0ef"
            ],
            [
             0.5,
             "#f7f7f7"
            ],
            [
             0.6,
             "#e6f5d0"
            ],
            [
             0.7,
             "#b8e186"
            ],
            [
             0.8,
             "#7fbc41"
            ],
            [
             0.9,
             "#4d9221"
            ],
            [
             1,
             "#276419"
            ]
           ],
           "sequential": [
            [
             0,
             "#0d0887"
            ],
            [
             0.1111111111111111,
             "#46039f"
            ],
            [
             0.2222222222222222,
             "#7201a8"
            ],
            [
             0.3333333333333333,
             "#9c179e"
            ],
            [
             0.4444444444444444,
             "#bd3786"
            ],
            [
             0.5555555555555556,
             "#d8576b"
            ],
            [
             0.6666666666666666,
             "#ed7953"
            ],
            [
             0.7777777777777778,
             "#fb9f3a"
            ],
            [
             0.8888888888888888,
             "#fdca26"
            ],
            [
             1,
             "#f0f921"
            ]
           ],
           "sequentialminus": [
            [
             0,
             "#0d0887"
            ],
            [
             0.1111111111111111,
             "#46039f"
            ],
            [
             0.2222222222222222,
             "#7201a8"
            ],
            [
             0.3333333333333333,
             "#9c179e"
            ],
            [
             0.4444444444444444,
             "#bd3786"
            ],
            [
             0.5555555555555556,
             "#d8576b"
            ],
            [
             0.6666666666666666,
             "#ed7953"
            ],
            [
             0.7777777777777778,
             "#fb9f3a"
            ],
            [
             0.8888888888888888,
             "#fdca26"
            ],
            [
             1,
             "#f0f921"
            ]
           ]
          },
          "colorway": [
           "#636efa",
           "#EF553B",
           "#00cc96",
           "#ab63fa",
           "#FFA15A",
           "#19d3f3",
           "#FF6692",
           "#B6E880",
           "#FF97FF",
           "#FECB52"
          ],
          "font": {
           "color": "#2a3f5f"
          },
          "geo": {
           "bgcolor": "white",
           "lakecolor": "white",
           "landcolor": "#E5ECF6",
           "showlakes": true,
           "showland": true,
           "subunitcolor": "white"
          },
          "hoverlabel": {
           "align": "left"
          },
          "hovermode": "closest",
          "mapbox": {
           "style": "light"
          },
          "paper_bgcolor": "white",
          "plot_bgcolor": "#E5ECF6",
          "polar": {
           "angularaxis": {
            "gridcolor": "white",
            "linecolor": "white",
            "ticks": ""
           },
           "bgcolor": "#E5ECF6",
           "radialaxis": {
            "gridcolor": "white",
            "linecolor": "white",
            "ticks": ""
           }
          },
          "scene": {
           "xaxis": {
            "backgroundcolor": "#E5ECF6",
            "gridcolor": "white",
            "gridwidth": 2,
            "linecolor": "white",
            "showbackground": true,
            "ticks": "",
            "zerolinecolor": "white"
           },
           "yaxis": {
            "backgroundcolor": "#E5ECF6",
            "gridcolor": "white",
            "gridwidth": 2,
            "linecolor": "white",
            "showbackground": true,
            "ticks": "",
            "zerolinecolor": "white"
           },
           "zaxis": {
            "backgroundcolor": "#E5ECF6",
            "gridcolor": "white",
            "gridwidth": 2,
            "linecolor": "white",
            "showbackground": true,
            "ticks": "",
            "zerolinecolor": "white"
           }
          },
          "shapedefaults": {
           "line": {
            "color": "#2a3f5f"
           }
          },
          "ternary": {
           "aaxis": {
            "gridcolor": "white",
            "linecolor": "white",
            "ticks": ""
           },
           "baxis": {
            "gridcolor": "white",
            "linecolor": "white",
            "ticks": ""
           },
           "bgcolor": "#E5ECF6",
           "caxis": {
            "gridcolor": "white",
            "linecolor": "white",
            "ticks": ""
           }
          },
          "title": {
           "x": 0.05
          },
          "xaxis": {
           "automargin": true,
           "gridcolor": "white",
           "linecolor": "white",
           "ticks": "",
           "title": {
            "standoff": 15
           },
           "zerolinecolor": "white",
           "zerolinewidth": 2
          },
          "yaxis": {
           "automargin": true,
           "gridcolor": "white",
           "linecolor": "white",
           "ticks": "",
           "title": {
            "standoff": 15
           },
           "zerolinecolor": "white",
           "zerolinewidth": 2
          }
         }
        },
        "xaxis": {
         "anchor": "y",
         "domain": [
          0,
          1
         ],
         "title": {
          "text": "event.PAM50"
         }
        },
        "yaxis": {
         "anchor": "x",
         "domain": [
          0,
          1
         ],
         "title": {
          "text": "soft prob"
         }
        }
       }
      }
     },
     "metadata": {},
     "output_type": "display_data"
    }
   ],
   "source": [
    "px.strip(metadata_sub, x = 'event.PAM50', y = 'soft prob', hover_data='HRD-sum')"
   ]
  },
  {
   "cell_type": "code",
   "execution_count": 95,
   "metadata": {},
   "outputs": [],
   "source": [
    "# fixing -1 cases that were not handled correctly\n",
    "metadata_sub[['HRD-sum', 'HRD_status_base', 'HRD_adjust', 'soft prob']]\n",
    "\n",
    "# Define conditions and choices\n",
    "conditions = [\n",
    "    (metadata_sub['soft prob'] == -1) & (metadata_sub['HRD_adjust'] == 'HRP'),\n",
    "    (metadata_sub['soft prob'] == -1) & (metadata_sub['HRD_adjust'] == 'HRD')\n",
    "]\n",
    "\n",
    "choices = [0, 1]\n",
    "\n",
    "# Update the 'soft prob dist' column\n",
    "metadata_sub['soft prob'] = np.select(conditions, choices, default=metadata_sub['soft prob'])"
   ]
  },
  {
   "cell_type": "code",
   "execution_count": 96,
   "metadata": {},
   "outputs": [
    {
     "data": {
      "application/vnd.plotly.v1+json": {
       "config": {
        "plotlyServerURL": "https://plot.ly"
       },
       "data": [
        {
         "alignmentgroup": "True",
         "bingroup": "x",
         "hovertemplate": "event.PAM50=LumA<br>soft prob=%{x}<br>count=%{y}<extra></extra>",
         "legendgroup": "LumA",
         "marker": {
          "color": "#EF553B",
          "opacity": 0.5,
          "pattern": {
           "shape": ""
          }
         },
         "name": "LumA",
         "offsetgroup": "LumA",
         "orientation": "v",
         "showlegend": true,
         "type": "histogram",
         "x": [
          0.48875,
          0.13874999999999993,
          0.48,
          0,
          0.52,
          0.49875,
          0.17999999999999994,
          0,
          0,
          0.04875000000000007,
          0.09500000000000008,
          0,
          0,
          0,
          0,
          0.505,
          0.50125,
          0,
          0,
          0,
          0,
          0,
          0,
          0,
          0,
          0.495,
          0,
          0,
          0.28875000000000006,
          0,
          0.21875,
          0,
          0,
          0.50125,
          0,
          0,
          0.17999999999999994,
          0,
          0,
          0.505,
          0,
          0,
          0,
          0.65125,
          0,
          0.21875,
          0,
          0,
          0.09500000000000008,
          0.13874999999999993,
          0,
          0.34875,
          0,
          0.255,
          0,
          0.04875000000000007,
          0,
          0.43875,
          0,
          0.13874999999999993,
          0.5,
          1,
          0,
          0.50125,
          0.39875000000000005,
          0.09500000000000008,
          0.78125,
          0,
          0.46875,
          0.28875000000000006,
          0,
          0.09500000000000008,
          0.09500000000000008,
          0,
          0.48,
          0.09500000000000008,
          0.21875,
          0.5800000000000001,
          0.09500000000000008,
          0.04875000000000007,
          0.9512499999999999,
          0.04875000000000007,
          1,
          0.13874999999999993,
          0.48,
          0.45499999999999996,
          0,
          0,
          0.28875000000000006,
          0.28875000000000006,
          0.495,
          0.21875,
          0.13874999999999993,
          0.375,
          0.28875000000000006,
          0.495,
          0.04875000000000007,
          0,
          0.42000000000000004,
          0,
          0,
          0,
          0.43875,
          0.43875,
          0,
          0.04875000000000007,
          0.13874999999999993,
          0,
          0,
          0,
          0,
          0,
          0,
          0.51125,
          0.34875,
          0.255,
          0,
          0.04875000000000007,
          0.31999999999999995,
          0.60125,
          0.9512499999999999,
          0.50125,
          0.48875,
          0,
          0.04875000000000007,
          0.48875,
          0.34875,
          1,
          0.48875,
          0,
          0,
          0.545,
          0,
          0.56125,
          0.34875,
          0.6799999999999999,
          0.34875,
          0,
          0,
          0.545,
          0,
          0.31999999999999995,
          0.17999999999999994,
          0.04875000000000007,
          0,
          0.34875,
          0,
          0.09500000000000008,
          0.49875,
          0.48875,
          0.48,
          0,
          0.28875000000000006,
          1,
          0.48875,
          0.6799999999999999,
          0.17999999999999994,
          0,
          0.5,
          0.39875000000000005,
          0,
          0.43875,
          0.17999999999999994,
          0.04875000000000007,
          1,
          0.13874999999999993,
          0,
          0,
          0.28875000000000006,
          0,
          0,
          0.56125,
          0,
          0,
          0,
          0,
          0.46875,
          0.04875000000000007,
          0.255,
          0.13874999999999993,
          0,
          1,
          0.48,
          0,
          0.45499999999999996,
          0.495,
          0.5,
          0.255,
          0.49875,
          0,
          0.5800000000000001,
          0.04875000000000007,
          0,
          0,
          0.46875,
          0,
          0.34875,
          0.39875000000000005,
          0.495,
          0.51125,
          0,
          0,
          0.39875000000000005,
          0,
          0,
          0.13874999999999993,
          0.43875,
          0,
          0,
          0,
          0.48875,
          1,
          0.13874999999999993,
          0.495,
          1,
          0,
          0.56125,
          0.42000000000000004,
          0.04875000000000007,
          0.255,
          0.505,
          0,
          0.21875,
          0,
          0.50125,
          0.48,
          0,
          0.255,
          0,
          0,
          0,
          0.43875,
          0.17999999999999994,
          0,
          0,
          0,
          0.50125,
          0,
          0.43875,
          0.255,
          0,
          0.21875,
          0,
          0.71125,
          0,
          0,
          0.42000000000000004,
          0,
          0.545,
          0,
          0.48875,
          0.48,
          0.13874999999999993,
          0,
          0.17999999999999994,
          0.39875000000000005,
          0,
          0.43875,
          0,
          0.60125,
          0,
          0,
          0.53125,
          0.13874999999999993,
          0.04875000000000007,
          0.09500000000000008,
          0,
          0,
          0.905,
          0,
          0,
          0.51125,
          0.21875,
          0.375,
          0.13874999999999993,
          0.17999999999999994,
          0.21875,
          0.39875000000000005,
          0.31999999999999995,
          0,
          0.375,
          0,
          0.09500000000000008,
          1,
          0,
          1,
          0,
          0,
          0.21875,
          1,
          0.21875,
          0,
          0,
          0.21875,
          0.13874999999999993,
          0.46875,
          0,
          0.48,
          0.6799999999999999,
          0,
          0,
          0.09500000000000008,
          0,
          0,
          0,
          0.31999999999999995,
          0,
          0,
          0,
          0,
          0.31999999999999995,
          0.13874999999999993,
          0.45499999999999996,
          0,
          0.09500000000000008,
          0.09500000000000008,
          0.505,
          0,
          0,
          0,
          0,
          0.375,
          0,
          0.34875,
          0.43875,
          0.46875,
          0,
          0,
          0.53125,
          0,
          0.09500000000000008,
          0,
          0.255,
          0.255,
          0.56125,
          0,
          0,
          0.31999999999999995,
          0,
          1,
          0.46875,
          0.17999999999999994,
          0,
          0,
          0,
          0.45499999999999996,
          0,
          0.21875,
          0.375,
          0,
          0.17999999999999994,
          0,
          1,
          0.28875000000000006,
          0.13874999999999993,
          0.17999999999999994,
          0,
          0.375,
          0,
          1,
          0.04875000000000007,
          0,
          0.42000000000000004,
          0,
          0.86125,
          0,
          0.56125,
          0,
          0,
          0,
          0,
          0.17999999999999994,
          0.48,
          0.31999999999999995,
          0,
          0.45499999999999996,
          0.39875000000000005,
          0.04875000000000007,
          1,
          0,
          0.34875,
          0,
          0.495,
          0,
          0.46875,
          0.39875000000000005,
          0.255,
          0.45499999999999996,
          0.48875,
          0.745,
          0.34875,
          0.17999999999999994,
          0.46875,
          0.28875000000000006,
          0.375,
          0,
          0.34875,
          0.09500000000000008,
          0,
          0.34875,
          0,
          0,
          0,
          0.31999999999999995,
          0,
          0,
          0,
          0.45499999999999996,
          0.60125,
          0.34875,
          0,
          0.42000000000000004,
          0.09500000000000008,
          0,
          0.255,
          0.375,
          0,
          0,
          0,
          0,
          0,
          0,
          0,
          0,
          0.09500000000000008,
          0.13874999999999993,
          0.9512499999999999,
          0.42000000000000004,
          0.505,
          0
         ],
         "xaxis": "x",
         "yaxis": "y"
        },
        {
         "alignmentgroup": "True",
         "bingroup": "x",
         "hovertemplate": "event.PAM50=LumB<br>soft prob=%{x}<br>count=%{y}<extra></extra>",
         "legendgroup": "LumB",
         "marker": {
          "color": "#00cc96",
          "opacity": 0.5,
          "pattern": {
           "shape": ""
          }
         },
         "name": "LumB",
         "offsetgroup": "LumB",
         "orientation": "v",
         "showlegend": true,
         "type": "histogram",
         "x": [
          0.13874999999999993,
          0.42000000000000004,
          0.53125,
          0.34875,
          0.625,
          0.53125,
          1,
          0.505,
          0.56125,
          0.8200000000000001,
          0.5800000000000001,
          0.52,
          0.9512499999999999,
          0.5800000000000001,
          0.28875000000000006,
          0.04875000000000007,
          1,
          0.13874999999999993,
          1,
          1,
          1,
          0.905,
          1,
          0.46875,
          0.5800000000000001,
          0.625,
          1,
          1,
          0.495,
          1,
          0.495,
          1,
          1,
          0.53125,
          0.13874999999999993,
          0.42000000000000004,
          0.65125,
          1,
          0.495,
          0.71125,
          0.09500000000000008,
          0.495,
          0,
          0,
          0.48875,
          0.31999999999999995,
          0.6799999999999999,
          1,
          0.48875,
          1,
          0.48875,
          1,
          0,
          0.48,
          0.48875,
          0.04875000000000007,
          0.6799999999999999,
          0.21875,
          0.745,
          0.04875000000000007,
          0.8200000000000001,
          0.13874999999999993,
          0.42000000000000004,
          1,
          0.495,
          0.9512499999999999,
          0,
          1,
          0.60125,
          0.28875000000000006,
          0.50125,
          0.56125,
          0.49875,
          0,
          0,
          0.50125,
          0.56125,
          0.905,
          0.53125,
          1,
          0.48875,
          0,
          0.255,
          0.49875,
          0.545,
          0,
          0.52,
          0.495,
          0.39875000000000005,
          0.48,
          0.39875000000000005,
          0.50125,
          0,
          0.71125,
          0.52,
          0,
          0.48875,
          1,
          0.31999999999999995,
          0.65125,
          0.39875000000000005,
          0.28875000000000006,
          0.5800000000000001,
          0.42000000000000004,
          1,
          0,
          0.46875,
          0.905,
          1,
          0.52,
          0.65125,
          0,
          0.65125,
          1,
          0.255,
          0.52,
          0.495,
          0.52,
          0.51125,
          0.905,
          0.495,
          1,
          0.745,
          0.42000000000000004,
          1,
          0.5800000000000001,
          0.505,
          0.505,
          0.21875,
          1,
          0.42000000000000004,
          1,
          0,
          0.56125,
          0.52,
          0.375,
          0.31999999999999995,
          0.45499999999999996,
          0.21875,
          0.5800000000000001,
          0,
          0,
          0.45499999999999996,
          1,
          0.21875,
          0.13874999999999993,
          0.5,
          0,
          0.255,
          0.52,
          0.43875,
          0.86125,
          0.46875,
          0.505,
          0.43875,
          0,
          0.255,
          1,
          0.46875,
          1,
          0.34875,
          1,
          0.495,
          0.8200000000000001,
          1,
          0.48875,
          1,
          0.53125,
          0.48875,
          0.8200000000000001,
          1,
          0.5,
          0.495,
          0.46875,
          0.60125,
          1,
          0.09500000000000008,
          0.17999999999999994,
          1,
          1,
          0,
          0.505,
          0.39875000000000005,
          0,
          0.5800000000000001,
          0,
          0.78125,
          1,
          0.42000000000000004,
          0.86125,
          0.04875000000000007,
          0,
          0.34875
         ],
         "xaxis": "x",
         "yaxis": "y"
        },
        {
         "alignmentgroup": "True",
         "bingroup": "x",
         "hovertemplate": "event.PAM50=Basal<br>soft prob=%{x}<br>count=%{y}<extra></extra>",
         "legendgroup": "Basal",
         "marker": {
          "color": "#ab63fa",
          "opacity": 0.5,
          "pattern": {
           "shape": ""
          }
         },
         "name": "Basal",
         "offsetgroup": "Basal",
         "orientation": "v",
         "showlegend": true,
         "type": "histogram",
         "x": [
          0.5800000000000001,
          1,
          0.255,
          0.56125,
          1,
          0.905,
          1,
          1,
          0.505,
          1,
          0.43875,
          0.5800000000000001,
          0.71125,
          0.71125,
          0.28875000000000006,
          0.6799999999999999,
          1,
          0.13874999999999993,
          0.42000000000000004,
          1,
          0,
          0.495,
          1,
          1,
          1,
          0.905,
          1,
          1,
          0.31999999999999995,
          1,
          1,
          1,
          0.56125,
          0.52,
          1,
          1,
          1,
          1,
          0.52,
          1,
          1,
          0.5,
          1,
          1,
          1,
          1,
          0.46875,
          1,
          1,
          0.86125,
          1,
          0.52,
          1,
          1,
          1,
          0.65125,
          0.9512499999999999,
          1,
          0.495,
          0.50125,
          0.495,
          0.51125,
          1,
          1,
          1,
          1,
          0.745,
          0.625,
          1,
          1,
          1,
          0.78125,
          0.545,
          0.50125,
          0.43875,
          0.905,
          1,
          0.53125,
          0.5,
          1,
          0.53125,
          1,
          0.625,
          0.13874999999999993,
          1,
          0.09500000000000008,
          1,
          1,
          1,
          0.5,
          0.545,
          1,
          0.5,
          1,
          1,
          1,
          1,
          0.53125,
          1,
          1,
          1,
          0.71125,
          1,
          1,
          1,
          1,
          1,
          1,
          1,
          0.31999999999999995,
          1,
          0.43875,
          0.50125,
          0.17999999999999994,
          1,
          1,
          0.52,
          1,
          0.505,
          0.6799999999999999,
          0.48875,
          1,
          1,
          1,
          1,
          1,
          1,
          1,
          1,
          1,
          0.52,
          1,
          0.71125,
          1,
          1,
          1,
          1,
          1,
          1,
          0.5,
          0.625,
          1,
          1,
          1,
          0.905
         ],
         "xaxis": "x",
         "yaxis": "y"
        },
        {
         "alignmentgroup": "True",
         "bingroup": "x",
         "hovertemplate": "event.PAM50=Her2<br>soft prob=%{x}<br>count=%{y}<extra></extra>",
         "legendgroup": "Her2",
         "marker": {
          "color": "#FFA15A",
          "opacity": 0.5,
          "pattern": {
           "shape": ""
          }
         },
         "name": "Her2",
         "offsetgroup": "Her2",
         "orientation": "v",
         "showlegend": true,
         "type": "histogram",
         "x": [
          0.495,
          0.28875000000000006,
          0.46875,
          0.50125,
          0.71125,
          0.78125,
          0,
          0.42000000000000004,
          0.495,
          0.48,
          0.56125,
          0.5800000000000001,
          1,
          1,
          1,
          0.375,
          0.48,
          0.42000000000000004,
          0.56125,
          1,
          0.52,
          0.625,
          1,
          0.53125,
          0.78125,
          0.34875,
          0.495,
          0.42000000000000004,
          0.60125,
          0.48,
          0.48,
          1,
          0.625,
          0.46875,
          0.49875,
          0.48875,
          0.5,
          1,
          1,
          1,
          0.8200000000000001,
          0.45499999999999996,
          0.56125,
          0.505,
          0.545,
          0.625,
          0.49875,
          0.50125,
          0.5800000000000001,
          0.71125,
          0.255,
          0.48875,
          0.9512499999999999,
          0.50125,
          0.46875,
          0.5800000000000001,
          0.56125,
          0.5800000000000001,
          1,
          0.50125,
          0.505,
          0.71125,
          0.39875000000000005,
          0.8200000000000001,
          1,
          0.43875,
          0.53125,
          0.48875,
          1,
          0.86125,
          1,
          0.5800000000000001,
          0.42000000000000004,
          0.43875,
          0.52
         ],
         "xaxis": "x",
         "yaxis": "y"
        }
       ],
       "layout": {
        "barmode": "overlay",
        "legend": {
         "title": {
          "text": "event.PAM50"
         },
         "tracegroupgap": 0
        },
        "margin": {
         "t": 60
        },
        "template": {
         "data": {
          "bar": [
           {
            "error_x": {
             "color": "#2a3f5f"
            },
            "error_y": {
             "color": "#2a3f5f"
            },
            "marker": {
             "line": {
              "color": "#E5ECF6",
              "width": 0.5
             },
             "pattern": {
              "fillmode": "overlay",
              "size": 10,
              "solidity": 0.2
             }
            },
            "type": "bar"
           }
          ],
          "barpolar": [
           {
            "marker": {
             "line": {
              "color": "#E5ECF6",
              "width": 0.5
             },
             "pattern": {
              "fillmode": "overlay",
              "size": 10,
              "solidity": 0.2
             }
            },
            "type": "barpolar"
           }
          ],
          "carpet": [
           {
            "aaxis": {
             "endlinecolor": "#2a3f5f",
             "gridcolor": "white",
             "linecolor": "white",
             "minorgridcolor": "white",
             "startlinecolor": "#2a3f5f"
            },
            "baxis": {
             "endlinecolor": "#2a3f5f",
             "gridcolor": "white",
             "linecolor": "white",
             "minorgridcolor": "white",
             "startlinecolor": "#2a3f5f"
            },
            "type": "carpet"
           }
          ],
          "choropleth": [
           {
            "colorbar": {
             "outlinewidth": 0,
             "ticks": ""
            },
            "type": "choropleth"
           }
          ],
          "contour": [
           {
            "colorbar": {
             "outlinewidth": 0,
             "ticks": ""
            },
            "colorscale": [
             [
              0,
              "#0d0887"
             ],
             [
              0.1111111111111111,
              "#46039f"
             ],
             [
              0.2222222222222222,
              "#7201a8"
             ],
             [
              0.3333333333333333,
              "#9c179e"
             ],
             [
              0.4444444444444444,
              "#bd3786"
             ],
             [
              0.5555555555555556,
              "#d8576b"
             ],
             [
              0.6666666666666666,
              "#ed7953"
             ],
             [
              0.7777777777777778,
              "#fb9f3a"
             ],
             [
              0.8888888888888888,
              "#fdca26"
             ],
             [
              1,
              "#f0f921"
             ]
            ],
            "type": "contour"
           }
          ],
          "contourcarpet": [
           {
            "colorbar": {
             "outlinewidth": 0,
             "ticks": ""
            },
            "type": "contourcarpet"
           }
          ],
          "heatmap": [
           {
            "colorbar": {
             "outlinewidth": 0,
             "ticks": ""
            },
            "colorscale": [
             [
              0,
              "#0d0887"
             ],
             [
              0.1111111111111111,
              "#46039f"
             ],
             [
              0.2222222222222222,
              "#7201a8"
             ],
             [
              0.3333333333333333,
              "#9c179e"
             ],
             [
              0.4444444444444444,
              "#bd3786"
             ],
             [
              0.5555555555555556,
              "#d8576b"
             ],
             [
              0.6666666666666666,
              "#ed7953"
             ],
             [
              0.7777777777777778,
              "#fb9f3a"
             ],
             [
              0.8888888888888888,
              "#fdca26"
             ],
             [
              1,
              "#f0f921"
             ]
            ],
            "type": "heatmap"
           }
          ],
          "heatmapgl": [
           {
            "colorbar": {
             "outlinewidth": 0,
             "ticks": ""
            },
            "colorscale": [
             [
              0,
              "#0d0887"
             ],
             [
              0.1111111111111111,
              "#46039f"
             ],
             [
              0.2222222222222222,
              "#7201a8"
             ],
             [
              0.3333333333333333,
              "#9c179e"
             ],
             [
              0.4444444444444444,
              "#bd3786"
             ],
             [
              0.5555555555555556,
              "#d8576b"
             ],
             [
              0.6666666666666666,
              "#ed7953"
             ],
             [
              0.7777777777777778,
              "#fb9f3a"
             ],
             [
              0.8888888888888888,
              "#fdca26"
             ],
             [
              1,
              "#f0f921"
             ]
            ],
            "type": "heatmapgl"
           }
          ],
          "histogram": [
           {
            "marker": {
             "pattern": {
              "fillmode": "overlay",
              "size": 10,
              "solidity": 0.2
             }
            },
            "type": "histogram"
           }
          ],
          "histogram2d": [
           {
            "colorbar": {
             "outlinewidth": 0,
             "ticks": ""
            },
            "colorscale": [
             [
              0,
              "#0d0887"
             ],
             [
              0.1111111111111111,
              "#46039f"
             ],
             [
              0.2222222222222222,
              "#7201a8"
             ],
             [
              0.3333333333333333,
              "#9c179e"
             ],
             [
              0.4444444444444444,
              "#bd3786"
             ],
             [
              0.5555555555555556,
              "#d8576b"
             ],
             [
              0.6666666666666666,
              "#ed7953"
             ],
             [
              0.7777777777777778,
              "#fb9f3a"
             ],
             [
              0.8888888888888888,
              "#fdca26"
             ],
             [
              1,
              "#f0f921"
             ]
            ],
            "type": "histogram2d"
           }
          ],
          "histogram2dcontour": [
           {
            "colorbar": {
             "outlinewidth": 0,
             "ticks": ""
            },
            "colorscale": [
             [
              0,
              "#0d0887"
             ],
             [
              0.1111111111111111,
              "#46039f"
             ],
             [
              0.2222222222222222,
              "#7201a8"
             ],
             [
              0.3333333333333333,
              "#9c179e"
             ],
             [
              0.4444444444444444,
              "#bd3786"
             ],
             [
              0.5555555555555556,
              "#d8576b"
             ],
             [
              0.6666666666666666,
              "#ed7953"
             ],
             [
              0.7777777777777778,
              "#fb9f3a"
             ],
             [
              0.8888888888888888,
              "#fdca26"
             ],
             [
              1,
              "#f0f921"
             ]
            ],
            "type": "histogram2dcontour"
           }
          ],
          "mesh3d": [
           {
            "colorbar": {
             "outlinewidth": 0,
             "ticks": ""
            },
            "type": "mesh3d"
           }
          ],
          "parcoords": [
           {
            "line": {
             "colorbar": {
              "outlinewidth": 0,
              "ticks": ""
             }
            },
            "type": "parcoords"
           }
          ],
          "pie": [
           {
            "automargin": true,
            "type": "pie"
           }
          ],
          "scatter": [
           {
            "fillpattern": {
             "fillmode": "overlay",
             "size": 10,
             "solidity": 0.2
            },
            "type": "scatter"
           }
          ],
          "scatter3d": [
           {
            "line": {
             "colorbar": {
              "outlinewidth": 0,
              "ticks": ""
             }
            },
            "marker": {
             "colorbar": {
              "outlinewidth": 0,
              "ticks": ""
             }
            },
            "type": "scatter3d"
           }
          ],
          "scattercarpet": [
           {
            "marker": {
             "colorbar": {
              "outlinewidth": 0,
              "ticks": ""
             }
            },
            "type": "scattercarpet"
           }
          ],
          "scattergeo": [
           {
            "marker": {
             "colorbar": {
              "outlinewidth": 0,
              "ticks": ""
             }
            },
            "type": "scattergeo"
           }
          ],
          "scattergl": [
           {
            "marker": {
             "colorbar": {
              "outlinewidth": 0,
              "ticks": ""
             }
            },
            "type": "scattergl"
           }
          ],
          "scattermapbox": [
           {
            "marker": {
             "colorbar": {
              "outlinewidth": 0,
              "ticks": ""
             }
            },
            "type": "scattermapbox"
           }
          ],
          "scatterpolar": [
           {
            "marker": {
             "colorbar": {
              "outlinewidth": 0,
              "ticks": ""
             }
            },
            "type": "scatterpolar"
           }
          ],
          "scatterpolargl": [
           {
            "marker": {
             "colorbar": {
              "outlinewidth": 0,
              "ticks": ""
             }
            },
            "type": "scatterpolargl"
           }
          ],
          "scatterternary": [
           {
            "marker": {
             "colorbar": {
              "outlinewidth": 0,
              "ticks": ""
             }
            },
            "type": "scatterternary"
           }
          ],
          "surface": [
           {
            "colorbar": {
             "outlinewidth": 0,
             "ticks": ""
            },
            "colorscale": [
             [
              0,
              "#0d0887"
             ],
             [
              0.1111111111111111,
              "#46039f"
             ],
             [
              0.2222222222222222,
              "#7201a8"
             ],
             [
              0.3333333333333333,
              "#9c179e"
             ],
             [
              0.4444444444444444,
              "#bd3786"
             ],
             [
              0.5555555555555556,
              "#d8576b"
             ],
             [
              0.6666666666666666,
              "#ed7953"
             ],
             [
              0.7777777777777778,
              "#fb9f3a"
             ],
             [
              0.8888888888888888,
              "#fdca26"
             ],
             [
              1,
              "#f0f921"
             ]
            ],
            "type": "surface"
           }
          ],
          "table": [
           {
            "cells": {
             "fill": {
              "color": "#EBF0F8"
             },
             "line": {
              "color": "white"
             }
            },
            "header": {
             "fill": {
              "color": "#C8D4E3"
             },
             "line": {
              "color": "white"
             }
            },
            "type": "table"
           }
          ]
         },
         "layout": {
          "annotationdefaults": {
           "arrowcolor": "#2a3f5f",
           "arrowhead": 0,
           "arrowwidth": 1
          },
          "autotypenumbers": "strict",
          "coloraxis": {
           "colorbar": {
            "outlinewidth": 0,
            "ticks": ""
           }
          },
          "colorscale": {
           "diverging": [
            [
             0,
             "#8e0152"
            ],
            [
             0.1,
             "#c51b7d"
            ],
            [
             0.2,
             "#de77ae"
            ],
            [
             0.3,
             "#f1b6da"
            ],
            [
             0.4,
             "#fde0ef"
            ],
            [
             0.5,
             "#f7f7f7"
            ],
            [
             0.6,
             "#e6f5d0"
            ],
            [
             0.7,
             "#b8e186"
            ],
            [
             0.8,
             "#7fbc41"
            ],
            [
             0.9,
             "#4d9221"
            ],
            [
             1,
             "#276419"
            ]
           ],
           "sequential": [
            [
             0,
             "#0d0887"
            ],
            [
             0.1111111111111111,
             "#46039f"
            ],
            [
             0.2222222222222222,
             "#7201a8"
            ],
            [
             0.3333333333333333,
             "#9c179e"
            ],
            [
             0.4444444444444444,
             "#bd3786"
            ],
            [
             0.5555555555555556,
             "#d8576b"
            ],
            [
             0.6666666666666666,
             "#ed7953"
            ],
            [
             0.7777777777777778,
             "#fb9f3a"
            ],
            [
             0.8888888888888888,
             "#fdca26"
            ],
            [
             1,
             "#f0f921"
            ]
           ],
           "sequentialminus": [
            [
             0,
             "#0d0887"
            ],
            [
             0.1111111111111111,
             "#46039f"
            ],
            [
             0.2222222222222222,
             "#7201a8"
            ],
            [
             0.3333333333333333,
             "#9c179e"
            ],
            [
             0.4444444444444444,
             "#bd3786"
            ],
            [
             0.5555555555555556,
             "#d8576b"
            ],
            [
             0.6666666666666666,
             "#ed7953"
            ],
            [
             0.7777777777777778,
             "#fb9f3a"
            ],
            [
             0.8888888888888888,
             "#fdca26"
            ],
            [
             1,
             "#f0f921"
            ]
           ]
          },
          "colorway": [
           "#636efa",
           "#EF553B",
           "#00cc96",
           "#ab63fa",
           "#FFA15A",
           "#19d3f3",
           "#FF6692",
           "#B6E880",
           "#FF97FF",
           "#FECB52"
          ],
          "font": {
           "color": "#2a3f5f"
          },
          "geo": {
           "bgcolor": "white",
           "lakecolor": "white",
           "landcolor": "#E5ECF6",
           "showlakes": true,
           "showland": true,
           "subunitcolor": "white"
          },
          "hoverlabel": {
           "align": "left"
          },
          "hovermode": "closest",
          "mapbox": {
           "style": "light"
          },
          "paper_bgcolor": "white",
          "plot_bgcolor": "#E5ECF6",
          "polar": {
           "angularaxis": {
            "gridcolor": "white",
            "linecolor": "white",
            "ticks": ""
           },
           "bgcolor": "#E5ECF6",
           "radialaxis": {
            "gridcolor": "white",
            "linecolor": "white",
            "ticks": ""
           }
          },
          "scene": {
           "xaxis": {
            "backgroundcolor": "#E5ECF6",
            "gridcolor": "white",
            "gridwidth": 2,
            "linecolor": "white",
            "showbackground": true,
            "ticks": "",
            "zerolinecolor": "white"
           },
           "yaxis": {
            "backgroundcolor": "#E5ECF6",
            "gridcolor": "white",
            "gridwidth": 2,
            "linecolor": "white",
            "showbackground": true,
            "ticks": "",
            "zerolinecolor": "white"
           },
           "zaxis": {
            "backgroundcolor": "#E5ECF6",
            "gridcolor": "white",
            "gridwidth": 2,
            "linecolor": "white",
            "showbackground": true,
            "ticks": "",
            "zerolinecolor": "white"
           }
          },
          "shapedefaults": {
           "line": {
            "color": "#2a3f5f"
           }
          },
          "ternary": {
           "aaxis": {
            "gridcolor": "white",
            "linecolor": "white",
            "ticks": ""
           },
           "baxis": {
            "gridcolor": "white",
            "linecolor": "white",
            "ticks": ""
           },
           "bgcolor": "#E5ECF6",
           "caxis": {
            "gridcolor": "white",
            "linecolor": "white",
            "ticks": ""
           }
          },
          "title": {
           "x": 0.05
          },
          "xaxis": {
           "automargin": true,
           "gridcolor": "white",
           "linecolor": "white",
           "ticks": "",
           "title": {
            "standoff": 15
           },
           "zerolinecolor": "white",
           "zerolinewidth": 2
          },
          "yaxis": {
           "automargin": true,
           "gridcolor": "white",
           "linecolor": "white",
           "ticks": "",
           "title": {
            "standoff": 15
           },
           "zerolinecolor": "white",
           "zerolinewidth": 2
          }
         }
        },
        "xaxis": {
         "anchor": "y",
         "domain": [
          0,
          1
         ],
         "title": {
          "text": "soft prob"
         }
        },
        "yaxis": {
         "anchor": "x",
         "domain": [
          0,
          1
         ],
         "title": {
          "text": "count"
         }
        }
       }
      }
     },
     "metadata": {},
     "output_type": "display_data"
    }
   ],
   "source": [
    "px.histogram(metadata_sub, x='soft prob', hover_data='HRD-sum', color = 'event.PAM50', barmode = \"overlay\")"
   ]
  },
  {
   "cell_type": "code",
   "execution_count": 97,
   "metadata": {},
   "outputs": [
    {
     "data": {
      "application/vnd.plotly.v1+json": {
       "config": {
        "plotlyServerURL": "https://plot.ly"
       },
       "data": [
        {
         "hovertemplate": "HRD-sum=%{x}<br>soft prob=%{y}<extra></extra>",
         "legendgroup": "",
         "marker": {
          "color": "#636efa",
          "symbol": "circle"
         },
         "mode": "markers",
         "name": "",
         "orientation": "v",
         "showlegend": false,
         "type": "scatter",
         "x": [
          0,
          27,
          13,
          26,
          9,
          34,
          13,
          29,
          38,
          14,
          22,
          90,
          16,
          5,
          37,
          35,
          87,
          9,
          28,
          17,
          19,
          11,
          40,
          48,
          12,
          5,
          3,
          7,
          5,
          32,
          31,
          9,
          40,
          25,
          66,
          31,
          77,
          4,
          35,
          6,
          8,
          0,
          43,
          7,
          10,
          7,
          28,
          4,
          10,
          53,
          17,
          32,
          37,
          32,
          10,
          70,
          45,
          23,
          46,
          15,
          4,
          6,
          31,
          7,
          7,
          38,
          14,
          38,
          34,
          8,
          43,
          7,
          8,
          43,
          49,
          32,
          38,
          17,
          4,
          8,
          17,
          11,
          7,
          69,
          13,
          41,
          55,
          9,
          15,
          42,
          65,
          13,
          8,
          22,
          22,
          70,
          0,
          28,
          10,
          72,
          9,
          12,
          61,
          80,
          13,
          50,
          48,
          8,
          19,
          6,
          16,
          0,
          11,
          7,
          23,
          28,
          56,
          3,
          48,
          70,
          73,
          25,
          38,
          13,
          40,
          64,
          30,
          67,
          60,
          4,
          28,
          61,
          28,
          53,
          31,
          101,
          21,
          12,
          45,
          26,
          10,
          18,
          25,
          50,
          54,
          17,
          35,
          13,
          7,
          22,
          41,
          12,
          12,
          37,
          3,
          80,
          28,
          43,
          38,
          77,
          26,
          88,
          12,
          12,
          53,
          15,
          38,
          12,
          28,
          11,
          57,
          8,
          5,
          49,
          11,
          82,
          13,
          27,
          26,
          18,
          20,
          42,
          24,
          72,
          27,
          60,
          27,
          6,
          3,
          57,
          26,
          9,
          17,
          17,
          28,
          15,
          22,
          13,
          20,
          17,
          28,
          11,
          6,
          37,
          22,
          50,
          26,
          1,
          9,
          9,
          23,
          23,
          8,
          11,
          13,
          9,
          9,
          7,
          5,
          55,
          8,
          1,
          33,
          27,
          37,
          19,
          16,
          34,
          5,
          11,
          11,
          18,
          39,
          49,
          34,
          62,
          42,
          15,
          74,
          44,
          76,
          31,
          69,
          27,
          11,
          34,
          8,
          62,
          11,
          40,
          27,
          69,
          46,
          30,
          19,
          62,
          27,
          4,
          13,
          8,
          36,
          85,
          7,
          37,
          19,
          22,
          50,
          28,
          12,
          43,
          0,
          42,
          81,
          49,
          59,
          19,
          73,
          4,
          3,
          10,
          36,
          55,
          35,
          5,
          18,
          14,
          11,
          39,
          84,
          4,
          19,
          25,
          72,
          6,
          12,
          45,
          69,
          29,
          1,
          17,
          47,
          31,
          37,
          29,
          57,
          27,
          26,
          8,
          34,
          10,
          71,
          10,
          17,
          67,
          90,
          31,
          60,
          19,
          37,
          27,
          41,
          48,
          42,
          49,
          51,
          28,
          14,
          10,
          30,
          21,
          31,
          28,
          9,
          23,
          14,
          35,
          11,
          33,
          72,
          27,
          53,
          13,
          8,
          10,
          5,
          78,
          16,
          29,
          28,
          17,
          10,
          4,
          36,
          84,
          22,
          37,
          67,
          6,
          9,
          9,
          34,
          8,
          6,
          25,
          60,
          11,
          16,
          13,
          44,
          40,
          4,
          89,
          84,
          39,
          26,
          28,
          5,
          24,
          28,
          30,
          68,
          26,
          16,
          21,
          29,
          6,
          55,
          45,
          38,
          26,
          11,
          26,
          5,
          5,
          25,
          5,
          89,
          36,
          19,
          21,
          28,
          21,
          31,
          31,
          33,
          7,
          5,
          5,
          21,
          23,
          8,
          43,
          10,
          48,
          67,
          13,
          35,
          23,
          30,
          10,
          9,
          34,
          65,
          40,
          8,
          27,
          74,
          13,
          28,
          35,
          8,
          27,
          64,
          69,
          7,
          37,
          22,
          75,
          11,
          18,
          41,
          21,
          16,
          32,
          3,
          15,
          3,
          31,
          26,
          40,
          5,
          16,
          3,
          6,
          25,
          9,
          23,
          14,
          17,
          5,
          8,
          7,
          31,
          9,
          23,
          16,
          3,
          15,
          3,
          38,
          22,
          43,
          60,
          13,
          9,
          7,
          4,
          22,
          70,
          7,
          12,
          36,
          10,
          27,
          26,
          25,
          13,
          6,
          62,
          29,
          14,
          56,
          48,
          27,
          21,
          3,
          23,
          30,
          6,
          39,
          61,
          54,
          4,
          30,
          34,
          36,
          41,
          9,
          35,
          4,
          13,
          41,
          62,
          23,
          11,
          16,
          64,
          34,
          35,
          28,
          12,
          6,
          34,
          7,
          48,
          10,
          58,
          81,
          33,
          7,
          33,
          59,
          46,
          24,
          48,
          28,
          15,
          20,
          37,
          56,
          30,
          74,
          32,
          36,
          40,
          13,
          29,
          44,
          14,
          73,
          31,
          22,
          69,
          38,
          15,
          32,
          32,
          38,
          43,
          21,
          18,
          15,
          16,
          27,
          51,
          65,
          6,
          22,
          55,
          49,
          20,
          5,
          54,
          35,
          12,
          79,
          6,
          37,
          31,
          53,
          34,
          20,
          25,
          38,
          18,
          24,
          58,
          76,
          43,
          7,
          65,
          6,
          15,
          5,
          38,
          5,
          5,
          15,
          61,
          15,
          7,
          24,
          9,
          37,
          71,
          51,
          15,
          13,
          75,
          15,
          13,
          38,
          25,
          2,
          55,
          26,
          30,
          42,
          9,
          16,
          34,
          1,
          83,
          8,
          76,
          12,
          3,
          10,
          59,
          23,
          3,
          47,
          18,
          25,
          4,
          10,
          8,
          10,
          18,
          13,
          34,
          32,
          24,
          5,
          23,
          12,
          84,
          8,
          64,
          12,
          78,
          16,
          32,
          31,
          61,
          18,
          53,
          32,
          10,
          25,
          7,
          23,
          4,
          4,
          20,
          9,
          19,
          23,
          25,
          65,
          19,
          43,
          4,
          8,
          35,
          3,
          12,
          31,
          6,
          16,
          16,
          37,
          5,
          10,
          78,
          18,
          5,
          71,
          21,
          46,
          14,
          86,
          53,
          34,
          53,
          25,
          14,
          5,
          28,
          9,
          4,
          32,
          42,
          24,
          4,
          15,
          20,
          27,
          54,
          46,
          83,
          50,
          52,
          10,
          14,
          27,
          6,
          57,
          17,
          53,
          13,
          14,
          35,
          4,
          27,
          20,
          6,
          46,
          50,
          52,
          54,
          11,
          30,
          3,
          28,
          22,
          25,
          39,
          86,
          80,
          12,
          58,
          74,
          0,
          47,
          23,
          14,
          5,
          37,
          58,
          58,
          3,
          60,
          3,
          6,
          32,
          4,
          67,
          21,
          8,
          14,
          26,
          18,
          7,
          8,
          24,
          21,
          11,
          51,
          38,
          35,
          9,
          45,
          54,
          22,
          10,
          70,
          19,
          4,
          34,
          28,
          75,
          47,
          9,
          43,
          27,
          25,
          21,
          11,
          16,
          71,
          24,
          27,
          51,
          44,
          86,
          19,
          14,
          47,
          25,
          34,
          59,
          17,
          20,
          3,
          9,
          19,
          12,
          83,
          9,
          19,
          4,
          8,
          69,
          7,
          38,
          18,
          10,
          10,
          64,
          9,
          24,
          19,
          39,
          22,
          72,
          19,
          8,
          52,
          30,
          22,
          12,
          9,
          23,
          40,
          16,
          20,
          3,
          4,
          71,
          5,
          23,
          58,
          0,
          57,
          9,
          8,
          8,
          5,
          12,
          34,
          48,
          13,
          49,
          22,
          32,
          7
         ],
         "xaxis": "x",
         "y": [
          0,
          0.48875,
          0.13874999999999993,
          0.48,
          0,
          0.52,
          0.13874999999999993,
          0.49875,
          0.5800000000000001,
          0.17999999999999994,
          0.42000000000000004,
          1,
          0.255,
          0,
          0.56125,
          0.53125,
          1,
          0,
          0.495,
          0.28875000000000006,
          0.34875,
          0.04875000000000007,
          0.625,
          0.905,
          0.09500000000000008,
          0,
          0,
          0,
          0,
          0.505,
          0.50125,
          0,
          0.625,
          0.46875,
          1,
          0.50125,
          1,
          0,
          0.53125,
          0,
          0,
          0,
          0.71125,
          0,
          0,
          0,
          0.495,
          0,
          0,
          1,
          0.28875000000000006,
          0.505,
          0.56125,
          0.505,
          0,
          1,
          0.78125,
          0.43875,
          0.8200000000000001,
          0.21875,
          0,
          0,
          0.50125,
          0,
          0,
          0.5800000000000001,
          0.17999999999999994,
          0.5800000000000001,
          0.52,
          0,
          0.71125,
          0,
          0,
          0.71125,
          0.9512499999999999,
          0.505,
          0.5800000000000001,
          0.28875000000000006,
          0,
          0,
          0.28875000000000006,
          0.04875000000000007,
          0,
          1,
          0.13874999999999993,
          0.65125,
          1,
          0,
          0.21875,
          0.6799999999999999,
          1,
          0.13874999999999993,
          0,
          0.42000000000000004,
          0.42000000000000004,
          1,
          0,
          0.495,
          0,
          1,
          0,
          0.09500000000000008,
          1,
          1,
          0.13874999999999993,
          1,
          0.905,
          0,
          0.34875,
          0,
          0.255,
          0,
          0.04875000000000007,
          0,
          0.43875,
          0.495,
          1,
          0,
          0.905,
          1,
          1,
          0.46875,
          0.5800000000000001,
          0.13874999999999993,
          0.625,
          1,
          0.5,
          1,
          1,
          0,
          0.495,
          1,
          0.495,
          1,
          0.50125,
          1,
          0.39875000000000005,
          0.09500000000000008,
          0.78125,
          0.48,
          0,
          0.31999999999999995,
          0.46875,
          1,
          1,
          0.28875000000000006,
          0.53125,
          0.13874999999999993,
          0,
          0.42000000000000004,
          0.65125,
          0.09500000000000008,
          0.09500000000000008,
          0.56125,
          0,
          1,
          0.495,
          0.71125,
          0.5800000000000001,
          1,
          0.48,
          1,
          0.09500000000000008,
          0.09500000000000008,
          1,
          0.21875,
          0.5800000000000001,
          0.09500000000000008,
          0.495,
          0.04875000000000007,
          1,
          0,
          0,
          0.9512499999999999,
          0.04875000000000007,
          1,
          0.13874999999999993,
          0.48875,
          0.48,
          0.31999999999999995,
          0.375,
          0.6799999999999999,
          0.45499999999999996,
          1,
          0.48875,
          1,
          0.48875,
          0,
          0,
          1,
          0.48,
          0,
          0.28875000000000006,
          0.28875000000000006,
          0.495,
          0.21875,
          0.42000000000000004,
          0.13874999999999993,
          0.375,
          0.28875000000000006,
          0.495,
          0.04875000000000007,
          0,
          0.56125,
          0.42000000000000004,
          1,
          0.48,
          0,
          0,
          0,
          0.43875,
          0.43875,
          0,
          0.04875000000000007,
          0.13874999999999993,
          0,
          0,
          0,
          0,
          1,
          0,
          0,
          0.51125,
          0.48875,
          0.56125,
          0.34875,
          0.255,
          0.52,
          0,
          0.04875000000000007,
          0.04875000000000007,
          0.31999999999999995,
          0.60125,
          0.9512499999999999,
          0.52,
          1,
          0.6799999999999999,
          0.21875,
          1,
          0.745,
          1,
          0.50125,
          1,
          0.48875,
          0.04875000000000007,
          0.52,
          0,
          1,
          0.04875000000000007,
          0.625,
          0.48875,
          1,
          0.8200000000000001,
          0.5,
          0.34875,
          1,
          0.48875,
          0,
          0.13874999999999993,
          0,
          0.545,
          1,
          0,
          0.56125,
          0.34875,
          0.42000000000000004,
          1,
          0.495,
          0.09500000000000008,
          0.71125,
          0,
          0.6799999999999999,
          1,
          0.9512499999999999,
          1,
          0.34875,
          1,
          0,
          0,
          0,
          0.545,
          1,
          0.53125,
          0,
          0.31999999999999995,
          0.17999999999999994,
          0.04875000000000007,
          0.60125,
          1,
          0,
          0.34875,
          0.46875,
          1,
          0,
          0.09500000000000008,
          0.78125,
          1,
          0.49875,
          0,
          0.28875000000000006,
          0.86125,
          0.50125,
          0.56125,
          0.49875,
          1,
          0.48875,
          0.48,
          0,
          0.52,
          0,
          1,
          0,
          0.28875000000000006,
          1,
          1,
          0.50125,
          1,
          0.34875,
          0.56125,
          0.48875,
          0.65125,
          0.905,
          0.6799999999999999,
          0.9512499999999999,
          1,
          0.495,
          0.17999999999999994,
          0,
          0.5,
          0.39875000000000005,
          0.50125,
          0.495,
          0,
          0.43875,
          0.17999999999999994,
          0.53125,
          0.04875000000000007,
          0.51125,
          1,
          0.48875,
          1,
          0.13874999999999993,
          0,
          0,
          0,
          1,
          0.255,
          0.49875,
          0.495,
          0.28875000000000006,
          0,
          0,
          0.545,
          1,
          0.42000000000000004,
          0.56125,
          1,
          0,
          0,
          0,
          0.52,
          0,
          0,
          0.46875,
          1,
          0.04875000000000007,
          0.255,
          0.13874999999999993,
          0.745,
          0.625,
          0,
          1,
          1,
          0.60125,
          0.48,
          0.495,
          0,
          0.45499999999999996,
          0.495,
          0.5,
          1,
          0.48,
          0.255,
          0.39875000000000005,
          0.49875,
          0,
          1,
          0.78125,
          0.5800000000000001,
          0.48,
          0.04875000000000007,
          0.48,
          0,
          0,
          0.46875,
          0,
          1,
          0.545,
          0.34875,
          0.39875000000000005,
          0.495,
          0.39875000000000005,
          0.50125,
          0.50125,
          0.51125,
          0,
          0,
          0,
          0.39875000000000005,
          0.43875,
          0,
          0.71125,
          0,
          0.905,
          1,
          0.13874999999999993,
          0.53125,
          0.43875,
          0.5,
          0,
          0,
          0.52,
          1,
          0.625,
          0,
          0.48875,
          1,
          0.13874999999999993,
          0.495,
          0.53125,
          0,
          0.48875,
          1,
          1,
          0,
          0.56125,
          0.42000000000000004,
          1,
          0.04875000000000007,
          0.31999999999999995,
          0.65125,
          0.39875000000000005,
          0.255,
          0.505,
          0,
          0.21875,
          0,
          0.50125,
          0.48,
          0.625,
          0,
          0.255,
          0,
          0,
          0.46875,
          0,
          0.43875,
          0.17999999999999994,
          0.28875000000000006,
          0,
          0,
          0,
          0.50125,
          0,
          0.43875,
          0.255,
          0,
          0.21875,
          0,
          0.5800000000000001,
          0.42000000000000004,
          0.71125,
          1,
          0.13874999999999993,
          0,
          0,
          0,
          0.42000000000000004,
          1,
          0,
          0.09500000000000008,
          0.545,
          0,
          0.48875,
          0.48,
          0.46875,
          0.13874999999999993,
          0,
          1,
          0.49875,
          0.17999999999999994,
          1,
          0.905,
          0.48875,
          0.39875000000000005,
          0,
          0.43875,
          0.5,
          0,
          0.60125,
          1,
          1,
          0,
          0.5,
          0.52,
          0.545,
          0.65125,
          0,
          0.53125,
          0,
          0.13874999999999993,
          0.65125,
          1,
          0.43875,
          0.04875000000000007,
          0.255,
          1,
          0.52,
          0.53125,
          0.495,
          0.09500000000000008,
          0,
          0.52,
          0,
          0.905,
          0,
          1,
          1,
          0.51125,
          0,
          0.51125,
          1,
          0.8200000000000001,
          0.45499999999999996,
          0.905,
          0.495,
          0.21875,
          0.375,
          0.56125,
          1,
          0.5,
          1,
          0.505,
          0.545,
          0.625,
          0.13874999999999993,
          0.49875,
          0.745,
          0.17999999999999994,
          1,
          0.50125,
          0.42000000000000004,
          1,
          0.5800000000000001,
          0.21875,
          0.505,
          0.505,
          0.5800000000000001,
          0.71125,
          0.39875000000000005,
          0.31999999999999995,
          0.21875,
          0.255,
          0.48875,
          1,
          1,
          0,
          0.42000000000000004,
          1,
          0.9512499999999999,
          0.375,
          0,
          1,
          0.53125,
          0.09500000000000008,
          1,
          0,
          0.56125,
          0.50125,
          1,
          0.52,
          0.375,
          0.46875,
          0.5800000000000001,
          0.31999999999999995,
          0.45499999999999996,
          1,
          1,
          0.71125,
          0,
          1,
          0,
          0.21875,
          0,
          0.5800000000000001,
          0,
          0,
          0.21875,
          1,
          0.21875,
          0,
          0.45499999999999996,
          0,
          0.56125,
          1,
          1,
          0.21875,
          0.13874999999999993,
          1,
          0.21875,
          0.13874999999999993,
          0.5800000000000001,
          0.46875,
          0,
          1,
          0.48,
          0.5,
          0.6799999999999999,
          0,
          0.255,
          0.52,
          0,
          1,
          0,
          1,
          0.09500000000000008,
          0,
          0,
          1,
          0.43875,
          0,
          0.86125,
          0.31999999999999995,
          0.46875,
          0,
          0,
          0,
          0,
          0.31999999999999995,
          0.13874999999999993,
          0.52,
          0.505,
          0.45499999999999996,
          0,
          0.43875,
          0.09500000000000008,
          1,
          0,
          1,
          0.09500000000000008,
          1,
          0.255,
          0.505,
          0.50125,
          1,
          0.31999999999999995,
          1,
          0.505,
          0,
          0.46875,
          0,
          0.43875,
          0,
          0,
          0.375,
          0,
          0.34875,
          0.43875,
          0.46875,
          1,
          0.34875,
          0.71125,
          0,
          0,
          0.53125,
          0,
          0.09500000000000008,
          0.50125,
          0,
          0.255,
          0.255,
          0.56125,
          0,
          0,
          1,
          0.31999999999999995,
          0,
          1,
          0.39875000000000005,
          0.8200000000000001,
          0.17999999999999994,
          1,
          1,
          0.52,
          1,
          0.46875,
          0.17999999999999994,
          0,
          0.495,
          0,
          0,
          0.505,
          0.6799999999999999,
          0.45499999999999996,
          0,
          0.21875,
          0.375,
          0.48875,
          1,
          0.8200000000000001,
          1,
          1,
          1,
          0,
          0.17999999999999994,
          0.48875,
          0,
          1,
          0.28875000000000006,
          1,
          0.13874999999999993,
          0.17999999999999994,
          0.53125,
          0,
          0.48875,
          0.375,
          0,
          0.8200000000000001,
          1,
          1,
          1,
          0.04875000000000007,
          0.5,
          0,
          0.495,
          0.42000000000000004,
          0.46875,
          0.60125,
          1,
          1,
          0.09500000000000008,
          1,
          1,
          0,
          0.86125,
          0.43875,
          0.17999999999999994,
          0,
          0.56125,
          1,
          1,
          0,
          1,
          0,
          0,
          0.505,
          0,
          1,
          0.39875000000000005,
          0,
          0.17999999999999994,
          0.48,
          0.31999999999999995,
          0,
          0,
          0.45499999999999996,
          0.39875000000000005,
          0.04875000000000007,
          1,
          0.5800000000000001,
          0.53125,
          0,
          0.78125,
          1,
          0.42000000000000004,
          0,
          1,
          0.34875,
          0,
          0.52,
          0.495,
          1,
          0.86125,
          0,
          0.71125,
          0.48875,
          0.46875,
          0.39875000000000005,
          0.04875000000000007,
          0.255,
          1,
          0.45499999999999996,
          0.48875,
          1,
          0.745,
          1,
          0.34875,
          0.17999999999999994,
          0.86125,
          0.46875,
          0.52,
          1,
          0.28875000000000006,
          0.375,
          0,
          0,
          0.34875,
          0.09500000000000008,
          1,
          0,
          0.34875,
          0,
          0,
          1,
          0,
          0.5800000000000001,
          0.31999999999999995,
          0,
          0,
          1,
          0,
          0.45499999999999996,
          0.34875,
          0.60125,
          0.42000000000000004,
          1,
          0.34875,
          0,
          1,
          0.5,
          0.42000000000000004,
          0.09500000000000008,
          0,
          0.43875,
          0.625,
          0.255,
          0.375,
          0,
          0,
          1,
          0,
          0.43875,
          1,
          0,
          1,
          0,
          0,
          0,
          0,
          0.09500000000000008,
          0.52,
          0.905,
          0.13874999999999993,
          0.9512499999999999,
          0.42000000000000004,
          0.505,
          0
         ],
         "yaxis": "y"
        }
       ],
       "layout": {
        "legend": {
         "tracegroupgap": 0
        },
        "margin": {
         "t": 60
        },
        "template": {
         "data": {
          "bar": [
           {
            "error_x": {
             "color": "#2a3f5f"
            },
            "error_y": {
             "color": "#2a3f5f"
            },
            "marker": {
             "line": {
              "color": "#E5ECF6",
              "width": 0.5
             },
             "pattern": {
              "fillmode": "overlay",
              "size": 10,
              "solidity": 0.2
             }
            },
            "type": "bar"
           }
          ],
          "barpolar": [
           {
            "marker": {
             "line": {
              "color": "#E5ECF6",
              "width": 0.5
             },
             "pattern": {
              "fillmode": "overlay",
              "size": 10,
              "solidity": 0.2
             }
            },
            "type": "barpolar"
           }
          ],
          "carpet": [
           {
            "aaxis": {
             "endlinecolor": "#2a3f5f",
             "gridcolor": "white",
             "linecolor": "white",
             "minorgridcolor": "white",
             "startlinecolor": "#2a3f5f"
            },
            "baxis": {
             "endlinecolor": "#2a3f5f",
             "gridcolor": "white",
             "linecolor": "white",
             "minorgridcolor": "white",
             "startlinecolor": "#2a3f5f"
            },
            "type": "carpet"
           }
          ],
          "choropleth": [
           {
            "colorbar": {
             "outlinewidth": 0,
             "ticks": ""
            },
            "type": "choropleth"
           }
          ],
          "contour": [
           {
            "colorbar": {
             "outlinewidth": 0,
             "ticks": ""
            },
            "colorscale": [
             [
              0,
              "#0d0887"
             ],
             [
              0.1111111111111111,
              "#46039f"
             ],
             [
              0.2222222222222222,
              "#7201a8"
             ],
             [
              0.3333333333333333,
              "#9c179e"
             ],
             [
              0.4444444444444444,
              "#bd3786"
             ],
             [
              0.5555555555555556,
              "#d8576b"
             ],
             [
              0.6666666666666666,
              "#ed7953"
             ],
             [
              0.7777777777777778,
              "#fb9f3a"
             ],
             [
              0.8888888888888888,
              "#fdca26"
             ],
             [
              1,
              "#f0f921"
             ]
            ],
            "type": "contour"
           }
          ],
          "contourcarpet": [
           {
            "colorbar": {
             "outlinewidth": 0,
             "ticks": ""
            },
            "type": "contourcarpet"
           }
          ],
          "heatmap": [
           {
            "colorbar": {
             "outlinewidth": 0,
             "ticks": ""
            },
            "colorscale": [
             [
              0,
              "#0d0887"
             ],
             [
              0.1111111111111111,
              "#46039f"
             ],
             [
              0.2222222222222222,
              "#7201a8"
             ],
             [
              0.3333333333333333,
              "#9c179e"
             ],
             [
              0.4444444444444444,
              "#bd3786"
             ],
             [
              0.5555555555555556,
              "#d8576b"
             ],
             [
              0.6666666666666666,
              "#ed7953"
             ],
             [
              0.7777777777777778,
              "#fb9f3a"
             ],
             [
              0.8888888888888888,
              "#fdca26"
             ],
             [
              1,
              "#f0f921"
             ]
            ],
            "type": "heatmap"
           }
          ],
          "heatmapgl": [
           {
            "colorbar": {
             "outlinewidth": 0,
             "ticks": ""
            },
            "colorscale": [
             [
              0,
              "#0d0887"
             ],
             [
              0.1111111111111111,
              "#46039f"
             ],
             [
              0.2222222222222222,
              "#7201a8"
             ],
             [
              0.3333333333333333,
              "#9c179e"
             ],
             [
              0.4444444444444444,
              "#bd3786"
             ],
             [
              0.5555555555555556,
              "#d8576b"
             ],
             [
              0.6666666666666666,
              "#ed7953"
             ],
             [
              0.7777777777777778,
              "#fb9f3a"
             ],
             [
              0.8888888888888888,
              "#fdca26"
             ],
             [
              1,
              "#f0f921"
             ]
            ],
            "type": "heatmapgl"
           }
          ],
          "histogram": [
           {
            "marker": {
             "pattern": {
              "fillmode": "overlay",
              "size": 10,
              "solidity": 0.2
             }
            },
            "type": "histogram"
           }
          ],
          "histogram2d": [
           {
            "colorbar": {
             "outlinewidth": 0,
             "ticks": ""
            },
            "colorscale": [
             [
              0,
              "#0d0887"
             ],
             [
              0.1111111111111111,
              "#46039f"
             ],
             [
              0.2222222222222222,
              "#7201a8"
             ],
             [
              0.3333333333333333,
              "#9c179e"
             ],
             [
              0.4444444444444444,
              "#bd3786"
             ],
             [
              0.5555555555555556,
              "#d8576b"
             ],
             [
              0.6666666666666666,
              "#ed7953"
             ],
             [
              0.7777777777777778,
              "#fb9f3a"
             ],
             [
              0.8888888888888888,
              "#fdca26"
             ],
             [
              1,
              "#f0f921"
             ]
            ],
            "type": "histogram2d"
           }
          ],
          "histogram2dcontour": [
           {
            "colorbar": {
             "outlinewidth": 0,
             "ticks": ""
            },
            "colorscale": [
             [
              0,
              "#0d0887"
             ],
             [
              0.1111111111111111,
              "#46039f"
             ],
             [
              0.2222222222222222,
              "#7201a8"
             ],
             [
              0.3333333333333333,
              "#9c179e"
             ],
             [
              0.4444444444444444,
              "#bd3786"
             ],
             [
              0.5555555555555556,
              "#d8576b"
             ],
             [
              0.6666666666666666,
              "#ed7953"
             ],
             [
              0.7777777777777778,
              "#fb9f3a"
             ],
             [
              0.8888888888888888,
              "#fdca26"
             ],
             [
              1,
              "#f0f921"
             ]
            ],
            "type": "histogram2dcontour"
           }
          ],
          "mesh3d": [
           {
            "colorbar": {
             "outlinewidth": 0,
             "ticks": ""
            },
            "type": "mesh3d"
           }
          ],
          "parcoords": [
           {
            "line": {
             "colorbar": {
              "outlinewidth": 0,
              "ticks": ""
             }
            },
            "type": "parcoords"
           }
          ],
          "pie": [
           {
            "automargin": true,
            "type": "pie"
           }
          ],
          "scatter": [
           {
            "fillpattern": {
             "fillmode": "overlay",
             "size": 10,
             "solidity": 0.2
            },
            "type": "scatter"
           }
          ],
          "scatter3d": [
           {
            "line": {
             "colorbar": {
              "outlinewidth": 0,
              "ticks": ""
             }
            },
            "marker": {
             "colorbar": {
              "outlinewidth": 0,
              "ticks": ""
             }
            },
            "type": "scatter3d"
           }
          ],
          "scattercarpet": [
           {
            "marker": {
             "colorbar": {
              "outlinewidth": 0,
              "ticks": ""
             }
            },
            "type": "scattercarpet"
           }
          ],
          "scattergeo": [
           {
            "marker": {
             "colorbar": {
              "outlinewidth": 0,
              "ticks": ""
             }
            },
            "type": "scattergeo"
           }
          ],
          "scattergl": [
           {
            "marker": {
             "colorbar": {
              "outlinewidth": 0,
              "ticks": ""
             }
            },
            "type": "scattergl"
           }
          ],
          "scattermapbox": [
           {
            "marker": {
             "colorbar": {
              "outlinewidth": 0,
              "ticks": ""
             }
            },
            "type": "scattermapbox"
           }
          ],
          "scatterpolar": [
           {
            "marker": {
             "colorbar": {
              "outlinewidth": 0,
              "ticks": ""
             }
            },
            "type": "scatterpolar"
           }
          ],
          "scatterpolargl": [
           {
            "marker": {
             "colorbar": {
              "outlinewidth": 0,
              "ticks": ""
             }
            },
            "type": "scatterpolargl"
           }
          ],
          "scatterternary": [
           {
            "marker": {
             "colorbar": {
              "outlinewidth": 0,
              "ticks": ""
             }
            },
            "type": "scatterternary"
           }
          ],
          "surface": [
           {
            "colorbar": {
             "outlinewidth": 0,
             "ticks": ""
            },
            "colorscale": [
             [
              0,
              "#0d0887"
             ],
             [
              0.1111111111111111,
              "#46039f"
             ],
             [
              0.2222222222222222,
              "#7201a8"
             ],
             [
              0.3333333333333333,
              "#9c179e"
             ],
             [
              0.4444444444444444,
              "#bd3786"
             ],
             [
              0.5555555555555556,
              "#d8576b"
             ],
             [
              0.6666666666666666,
              "#ed7953"
             ],
             [
              0.7777777777777778,
              "#fb9f3a"
             ],
             [
              0.8888888888888888,
              "#fdca26"
             ],
             [
              1,
              "#f0f921"
             ]
            ],
            "type": "surface"
           }
          ],
          "table": [
           {
            "cells": {
             "fill": {
              "color": "#EBF0F8"
             },
             "line": {
              "color": "white"
             }
            },
            "header": {
             "fill": {
              "color": "#C8D4E3"
             },
             "line": {
              "color": "white"
             }
            },
            "type": "table"
           }
          ]
         },
         "layout": {
          "annotationdefaults": {
           "arrowcolor": "#2a3f5f",
           "arrowhead": 0,
           "arrowwidth": 1
          },
          "autotypenumbers": "strict",
          "coloraxis": {
           "colorbar": {
            "outlinewidth": 0,
            "ticks": ""
           }
          },
          "colorscale": {
           "diverging": [
            [
             0,
             "#8e0152"
            ],
            [
             0.1,
             "#c51b7d"
            ],
            [
             0.2,
             "#de77ae"
            ],
            [
             0.3,
             "#f1b6da"
            ],
            [
             0.4,
             "#fde0ef"
            ],
            [
             0.5,
             "#f7f7f7"
            ],
            [
             0.6,
             "#e6f5d0"
            ],
            [
             0.7,
             "#b8e186"
            ],
            [
             0.8,
             "#7fbc41"
            ],
            [
             0.9,
             "#4d9221"
            ],
            [
             1,
             "#276419"
            ]
           ],
           "sequential": [
            [
             0,
             "#0d0887"
            ],
            [
             0.1111111111111111,
             "#46039f"
            ],
            [
             0.2222222222222222,
             "#7201a8"
            ],
            [
             0.3333333333333333,
             "#9c179e"
            ],
            [
             0.4444444444444444,
             "#bd3786"
            ],
            [
             0.5555555555555556,
             "#d8576b"
            ],
            [
             0.6666666666666666,
             "#ed7953"
            ],
            [
             0.7777777777777778,
             "#fb9f3a"
            ],
            [
             0.8888888888888888,
             "#fdca26"
            ],
            [
             1,
             "#f0f921"
            ]
           ],
           "sequentialminus": [
            [
             0,
             "#0d0887"
            ],
            [
             0.1111111111111111,
             "#46039f"
            ],
            [
             0.2222222222222222,
             "#7201a8"
            ],
            [
             0.3333333333333333,
             "#9c179e"
            ],
            [
             0.4444444444444444,
             "#bd3786"
            ],
            [
             0.5555555555555556,
             "#d8576b"
            ],
            [
             0.6666666666666666,
             "#ed7953"
            ],
            [
             0.7777777777777778,
             "#fb9f3a"
            ],
            [
             0.8888888888888888,
             "#fdca26"
            ],
            [
             1,
             "#f0f921"
            ]
           ]
          },
          "colorway": [
           "#636efa",
           "#EF553B",
           "#00cc96",
           "#ab63fa",
           "#FFA15A",
           "#19d3f3",
           "#FF6692",
           "#B6E880",
           "#FF97FF",
           "#FECB52"
          ],
          "font": {
           "color": "#2a3f5f"
          },
          "geo": {
           "bgcolor": "white",
           "lakecolor": "white",
           "landcolor": "#E5ECF6",
           "showlakes": true,
           "showland": true,
           "subunitcolor": "white"
          },
          "hoverlabel": {
           "align": "left"
          },
          "hovermode": "closest",
          "mapbox": {
           "style": "light"
          },
          "paper_bgcolor": "white",
          "plot_bgcolor": "#E5ECF6",
          "polar": {
           "angularaxis": {
            "gridcolor": "white",
            "linecolor": "white",
            "ticks": ""
           },
           "bgcolor": "#E5ECF6",
           "radialaxis": {
            "gridcolor": "white",
            "linecolor": "white",
            "ticks": ""
           }
          },
          "scene": {
           "xaxis": {
            "backgroundcolor": "#E5ECF6",
            "gridcolor": "white",
            "gridwidth": 2,
            "linecolor": "white",
            "showbackground": true,
            "ticks": "",
            "zerolinecolor": "white"
           },
           "yaxis": {
            "backgroundcolor": "#E5ECF6",
            "gridcolor": "white",
            "gridwidth": 2,
            "linecolor": "white",
            "showbackground": true,
            "ticks": "",
            "zerolinecolor": "white"
           },
           "zaxis": {
            "backgroundcolor": "#E5ECF6",
            "gridcolor": "white",
            "gridwidth": 2,
            "linecolor": "white",
            "showbackground": true,
            "ticks": "",
            "zerolinecolor": "white"
           }
          },
          "shapedefaults": {
           "line": {
            "color": "#2a3f5f"
           }
          },
          "ternary": {
           "aaxis": {
            "gridcolor": "white",
            "linecolor": "white",
            "ticks": ""
           },
           "baxis": {
            "gridcolor": "white",
            "linecolor": "white",
            "ticks": ""
           },
           "bgcolor": "#E5ECF6",
           "caxis": {
            "gridcolor": "white",
            "linecolor": "white",
            "ticks": ""
           }
          },
          "title": {
           "x": 0.05
          },
          "xaxis": {
           "automargin": true,
           "gridcolor": "white",
           "linecolor": "white",
           "ticks": "",
           "title": {
            "standoff": 15
           },
           "zerolinecolor": "white",
           "zerolinewidth": 2
          },
          "yaxis": {
           "automargin": true,
           "gridcolor": "white",
           "linecolor": "white",
           "ticks": "",
           "title": {
            "standoff": 15
           },
           "zerolinecolor": "white",
           "zerolinewidth": 2
          }
         }
        },
        "xaxis": {
         "anchor": "y",
         "domain": [
          0,
          1
         ],
         "title": {
          "text": "HRD-sum"
         }
        },
        "yaxis": {
         "anchor": "x",
         "domain": [
          0,
          1
         ],
         "title": {
          "text": "soft prob"
         }
        }
       }
      }
     },
     "metadata": {},
     "output_type": "display_data"
    }
   ],
   "source": [
    "px.scatter(metadata_sub, x = 'HRD-sum', y= 'soft prob')"
   ]
  },
  {
   "cell_type": "code",
   "execution_count": 98,
   "metadata": {},
   "outputs": [
    {
     "data": {
      "text/plain": [
       "(857, 40)"
      ]
     },
     "execution_count": 98,
     "metadata": {},
     "output_type": "execute_result"
    }
   ],
   "source": [
    "metadata_sub.shape"
   ]
  },
  {
   "cell_type": "code",
   "execution_count": 99,
   "metadata": {},
   "outputs": [
    {
     "data": {
      "text/html": [
       "<div>\n",
       "<style scoped>\n",
       "    .dataframe tbody tr th:only-of-type {\n",
       "        vertical-align: middle;\n",
       "    }\n",
       "\n",
       "    .dataframe tbody tr th {\n",
       "        vertical-align: top;\n",
       "    }\n",
       "\n",
       "    .dataframe thead th {\n",
       "        text-align: right;\n",
       "    }\n",
       "</style>\n",
       "<table border=\"1\" class=\"dataframe\">\n",
       "  <thead>\n",
       "    <tr style=\"text-align: right;\">\n",
       "      <th></th>\n",
       "      <th>HRD</th>\n",
       "      <th>Telomeric AI</th>\n",
       "      <th>LST</th>\n",
       "      <th>HRD-sum</th>\n",
       "      <th>BRCA1_somatic_null</th>\n",
       "      <th>BRCA1_germ_bi_allelic</th>\n",
       "      <th>BRCA1_germ_mono_allelic</th>\n",
       "      <th>BRCA1_deletion</th>\n",
       "      <th>BRCA1_epigenetic_silencing</th>\n",
       "      <th>BRCA1_mRNA</th>\n",
       "      <th>...</th>\n",
       "      <th>event.BRCA1</th>\n",
       "      <th>event.BRCA2</th>\n",
       "      <th>event.RAD51C</th>\n",
       "      <th>event.PALB2</th>\n",
       "      <th>event.All Events</th>\n",
       "      <th>event.PAM50</th>\n",
       "      <th>event.TNBC</th>\n",
       "      <th>HRD_status_base</th>\n",
       "      <th>HRD_adjust</th>\n",
       "      <th>soft prob</th>\n",
       "    </tr>\n",
       "    <tr>\n",
       "      <th>sample</th>\n",
       "      <th></th>\n",
       "      <th></th>\n",
       "      <th></th>\n",
       "      <th></th>\n",
       "      <th></th>\n",
       "      <th></th>\n",
       "      <th></th>\n",
       "      <th></th>\n",
       "      <th></th>\n",
       "      <th></th>\n",
       "      <th></th>\n",
       "      <th></th>\n",
       "      <th></th>\n",
       "      <th></th>\n",
       "      <th></th>\n",
       "      <th></th>\n",
       "      <th></th>\n",
       "      <th></th>\n",
       "      <th></th>\n",
       "      <th></th>\n",
       "      <th></th>\n",
       "    </tr>\n",
       "  </thead>\n",
       "  <tbody>\n",
       "  </tbody>\n",
       "</table>\n",
       "<p>0 rows × 40 columns</p>\n",
       "</div>"
      ],
      "text/plain": [
       "Empty DataFrame\n",
       "Columns: [HRD, Telomeric AI, LST, HRD-sum, BRCA1_somatic_null, BRCA1_germ_bi_allelic, BRCA1_germ_mono_allelic, BRCA1_deletion, BRCA1_epigenetic_silencing, BRCA1_mRNA, BRCA2_somatic_null, BRCA2_germ_bi_allelic, BRCA2_germ_undetermined, BRCA2_germ_mono_allelic, BRCA2_deletion, RAD51C_germ, RAD51C_deletion, RAD51C_epigenetic_silencing, RAD51C_mRNA, PALB2_somatic_null, PALB2_germ, TP53_somatic, H1, H2, H3, H4, H1.norm, H2.norm, H3.norm, H4.norm, event.BRCA1, event.BRCA2, event.RAD51C, event.PALB2, event.All Events, event.PAM50, event.TNBC, HRD_status_base, HRD_adjust, soft prob]\n",
       "Index: []\n",
       "\n",
       "[0 rows x 40 columns]"
      ]
     },
     "execution_count": 99,
     "metadata": {},
     "output_type": "execute_result"
    }
   ],
   "source": [
    "metadata_sub[metadata_sub['HRD_adjust'] == 'None']"
   ]
  },
  {
   "cell_type": "code",
   "execution_count": 100,
   "metadata": {},
   "outputs": [
    {
     "data": {
      "application/vnd.plotly.v1+json": {
       "config": {
        "plotlyServerURL": "https://plot.ly"
       },
       "data": [
        {
         "alignmentgroup": "True",
         "hovertemplate": "HRD_adjust=HRP<br>event.PAM50=%{x}<br>HRD-sum=%{y}<extra></extra>",
         "legendgroup": "HRP",
         "marker": {
          "color": "#636efa"
         },
         "name": "HRP",
         "notched": false,
         "offsetgroup": "HRP",
         "orientation": "v",
         "showlegend": true,
         "type": "box",
         "x": [
          null,
          "LumA",
          "LumA",
          "LumA",
          "LumA",
          "LumA",
          "LumA",
          "LumA",
          "LumA",
          "LumA",
          "LumA",
          "LumA",
          "LumA",
          "LumA",
          "LumA",
          "LumA",
          "LumA",
          "LumA",
          "LumA",
          "LumA",
          "LumA",
          "LumA",
          "LumA",
          "LumA",
          null,
          "LumA",
          "LumA",
          "LumA",
          "LumA",
          "LumA",
          "Her2",
          "Basal",
          "LumA",
          "LumA",
          "LumA",
          "LumA",
          "LumA",
          "LumA",
          "LumA",
          "LumA",
          "LumA",
          "LumA",
          "LumA",
          "LumB",
          "LumB",
          "LumA",
          "LumA",
          "LumB",
          "LumA",
          "LumA",
          "LumA",
          "LumA",
          "LumA",
          "LumA",
          "LumA",
          "LumA",
          "LumA",
          "LumA",
          "LumA",
          "LumA",
          "LumA",
          "LumA",
          "LumA",
          "LumA",
          null,
          "LumB",
          "LumA",
          "LumA",
          "LumA",
          "LumA",
          "LumA",
          null,
          "LumA",
          "LumB",
          "LumB",
          "LumA",
          "LumA",
          "LumB",
          "LumA",
          "LumA",
          "LumA",
          "LumA",
          "LumA",
          "LumA",
          "LumB",
          "LumA",
          "LumA",
          "LumA",
          "LumA",
          "LumA",
          "LumA",
          "LumA",
          "LumA",
          "LumA",
          "LumA",
          "LumB",
          "LumA",
          "LumA",
          "LumA",
          "LumA",
          "LumA",
          "LumB",
          "LumA",
          "LumA",
          "LumA",
          "LumA",
          "LumA",
          "LumA",
          "LumA",
          "LumA",
          "LumA",
          "LumA",
          "LumA",
          "LumA",
          "LumA",
          "LumB",
          "LumA",
          "LumA",
          "LumA",
          "LumA",
          "LumA",
          "LumA",
          "LumA",
          "LumA",
          "LumA",
          "LumB",
          "LumA",
          "LumA",
          "LumA",
          "LumA",
          "LumA",
          "LumA",
          "LumB",
          "LumA",
          "LumA",
          "LumA",
          "LumB",
          "LumB",
          "LumA",
          "LumA",
          "LumA",
          "LumB",
          "LumA",
          "LumA",
          "LumA",
          "LumA",
          "LumA",
          "LumA",
          "LumA",
          "LumA",
          "LumA",
          "LumA",
          "LumB",
          "LumA",
          "LumA",
          "LumA",
          "LumA",
          "LumA",
          "LumA",
          "LumA",
          "LumA",
          "LumA",
          "LumA",
          "LumA",
          "LumA",
          "LumA",
          "LumA",
          "LumA",
          "LumA",
          "LumA",
          "LumA",
          "LumA",
          "LumA",
          "LumA",
          "LumA",
          "LumA",
          "LumA",
          "LumA",
          "LumB",
          "LumA",
          "LumA",
          "LumB",
          "LumA",
          "LumB",
          "LumA",
          "LumA",
          "LumA",
          "LumA",
          "LumB",
          "LumA",
          "LumA",
          "LumA",
          "LumA",
          "LumA",
          "LumA",
          "LumA",
          "LumA",
          "LumA",
          "LumA",
          "LumA",
          "LumA",
          "LumA",
          "LumA",
          "LumA",
          "LumA",
          "LumA",
          "LumA"
         ],
         "x0": " ",
         "xaxis": "x",
         "y": [
          0,
          9,
          5,
          9,
          5,
          3,
          7,
          5,
          9,
          4,
          6,
          8,
          0,
          7,
          10,
          7,
          4,
          10,
          10,
          4,
          6,
          7,
          7,
          8,
          7,
          8,
          4,
          8,
          7,
          9,
          8,
          0,
          10,
          9,
          8,
          6,
          0,
          7,
          3,
          4,
          10,
          7,
          3,
          8,
          5,
          6,
          3,
          9,
          6,
          1,
          9,
          9,
          8,
          9,
          9,
          7,
          5,
          8,
          1,
          5,
          8,
          4,
          8,
          7,
          0,
          4,
          3,
          10,
          5,
          4,
          6,
          1,
          8,
          10,
          10,
          10,
          9,
          8,
          10,
          5,
          10,
          4,
          6,
          9,
          9,
          8,
          6,
          4,
          5,
          6,
          5,
          5,
          5,
          7,
          5,
          5,
          8,
          10,
          10,
          9,
          8,
          8,
          7,
          3,
          3,
          5,
          3,
          6,
          9,
          5,
          8,
          7,
          9,
          3,
          3,
          9,
          7,
          4,
          7,
          10,
          6,
          3,
          6,
          4,
          9,
          4,
          6,
          7,
          10,
          7,
          6,
          5,
          6,
          7,
          6,
          5,
          5,
          5,
          7,
          9,
          2,
          9,
          1,
          8,
          3,
          10,
          3,
          4,
          10,
          8,
          10,
          5,
          8,
          10,
          7,
          4,
          4,
          9,
          4,
          8,
          3,
          6,
          5,
          10,
          5,
          5,
          9,
          4,
          4,
          10,
          6,
          4,
          6,
          3,
          0,
          5,
          3,
          3,
          6,
          4,
          8,
          7,
          8,
          9,
          10,
          4,
          9,
          3,
          9,
          9,
          4,
          8,
          7,
          10,
          10,
          9,
          8,
          9,
          3,
          4,
          5,
          0,
          9,
          8,
          8,
          5,
          7
         ],
         "y0": " ",
         "yaxis": "y"
        },
        {
         "alignmentgroup": "True",
         "hovertemplate": "HRD_adjust=HRP ambiguous<br>event.PAM50=%{x}<br>HRD-sum=%{y}<extra></extra>",
         "legendgroup": "HRP ambiguous",
         "marker": {
          "color": "#EF553B"
         },
         "name": "HRP ambiguous",
         "notched": false,
         "offsetgroup": "HRP ambiguous",
         "orientation": "v",
         "showlegend": true,
         "type": "box",
         "x": [
          "LumA",
          "LumA",
          "LumA",
          "LumB",
          "LumA",
          "LumA",
          "LumB",
          "Basal",
          "Her2",
          "Her2",
          "LumB",
          "LumA",
          "LumA",
          "Her2",
          "LumA",
          "LumA",
          "Basal",
          "LumA",
          "LumA",
          "LumB",
          "Basal",
          "LumB",
          "LumB",
          "LumA",
          "Basal",
          "Basal",
          "Her2",
          "Basal",
          "LumA",
          "LumA",
          "LumA",
          "LumA",
          "LumA",
          "LumA",
          "Her2",
          "LumB",
          "LumA",
          "LumA",
          "LumB",
          "LumB",
          "LumA",
          "LumA",
          "Her2",
          "Basal",
          "LumA",
          "LumA",
          "LumB",
          "LumB",
          "LumA",
          "LumA",
          "LumB",
          "LumA",
          "LumB",
          "LumA",
          "LumA",
          "LumA",
          "LumB",
          "LumA",
          "LumA",
          "LumA",
          "LumB",
          "LumA",
          "LumB",
          "Her2",
          "LumA",
          "LumB",
          "LumB",
          "Her2",
          "LumA",
          "LumA",
          "LumA",
          "LumA",
          "Her2",
          "LumA",
          "LumA",
          "LumA",
          "LumA",
          "LumA",
          "LumA",
          "LumB",
          "LumA",
          "LumA",
          "LumA",
          "LumA",
          "LumB",
          "LumA",
          "LumA",
          "LumA",
          "LumB",
          "LumA",
          "LumB",
          "LumA",
          "LumB",
          "LumA",
          "LumA",
          "Basal",
          "LumA",
          "LumA",
          "LumB",
          "LumA",
          "LumB",
          "LumB",
          null,
          "LumA",
          "LumA",
          "LumA",
          "LumA",
          "LumA",
          "Basal",
          "LumA",
          "LumA",
          "LumB",
          "LumB",
          "LumA",
          "LumA",
          "LumA",
          "Her2",
          "LumA",
          "Basal",
          "LumA",
          "LumA",
          "LumA",
          "Basal",
          "LumA",
          "LumA",
          "LumA",
          "LumB",
          "LumA",
          "LumB",
          "LumB",
          "Her2",
          "LumA",
          "Her2",
          "LumA",
          "LumA",
          "LumA",
          "LumA",
          "LumA",
          "LumB",
          "LumA",
          "LumA",
          "LumA",
          "Her2",
          "LumA",
          "LumB",
          "LumA",
          "Her2",
          "LumA",
          "LumB",
          "LumA",
          "LumA",
          "LumA",
          "LumA",
          "LumB",
          "LumA",
          "Basal",
          "LumA",
          "LumA",
          "Basal",
          "LumA",
          "LumA",
          "LumA",
          "LumB",
          "LumA",
          "LumA",
          "LumB",
          "LumB",
          "LumA",
          "LumA",
          "LumA",
          "LumA",
          "Her2",
          "LumA",
          "LumA",
          "LumB",
          "LumA",
          "LumA",
          "LumA",
          "LumB",
          "Basal",
          "LumA",
          "Basal",
          "LumA",
          "LumA",
          "LumB",
          "LumA",
          "Her2",
          "LumA",
          "Her2",
          "LumA",
          "LumA",
          "Her2",
          "Basal",
          "LumA",
          null,
          "LumA",
          "LumB",
          "LumB",
          "LumA",
          "Her2",
          "LumB",
          "LumA",
          "LumA",
          "Basal",
          "LumA",
          "Her2",
          "LumA",
          "LumB",
          "LumA",
          "LumA",
          "LumA",
          "LumB",
          "Her2",
          "Her2",
          "LumB",
          "LumA",
          "LumA",
          "LumB",
          "Her2",
          "LumB",
          "LumB",
          "LumB",
          "LumA",
          "LumA",
          "LumB",
          "LumA",
          "LumA",
          "LumB",
          "LumB",
          "LumA",
          "LumA",
          "LumB",
          "LumB",
          "LumA",
          "LumB",
          "LumA",
          "LumB",
          "LumA",
          "LumA",
          "LumA",
          "LumB",
          "LumA",
          "LumA",
          "LumB",
          "Basal",
          "LumB",
          "Basal",
          "LumA",
          "LumA",
          "LumA",
          "LumA",
          "LumB",
          "LumA",
          "LumA",
          "LumA",
          "LumA",
          "Her2",
          "Basal",
          "LumA",
          "LumA",
          "LumB",
          "LumA",
          "LumA",
          "LumA",
          "Basal",
          "LumA",
          "LumB",
          "LumA",
          "LumA",
          "LumA",
          "LumB",
          "LumA",
          "LumA",
          "LumB",
          "LumB",
          "LumA",
          "LumB",
          "LumB",
          "Her2",
          "LumB",
          "LumB",
          "LumA",
          "LumA",
          "LumA",
          "LumA",
          "LumA",
          "LumA",
          "LumB",
          "LumA",
          "LumA",
          "Her2",
          "LumA",
          "LumA",
          "LumB",
          "LumA",
          "LumA",
          "LumA",
          "LumA",
          "LumA",
          "LumA",
          "LumA",
          "LumA",
          "LumA",
          "LumA",
          "LumA",
          "LumA",
          "LumA",
          "LumB",
          "Her2",
          "LumA",
          "Basal",
          "LumA",
          "LumA",
          null,
          "LumA",
          "LumA",
          "Her2",
          "LumA",
          "LumA",
          "LumA"
         ],
         "x0": " ",
         "xaxis": "x",
         "y": [
          27,
          13,
          26,
          13,
          29,
          14,
          22,
          16,
          28,
          17,
          19,
          11,
          12,
          25,
          28,
          17,
          23,
          15,
          14,
          17,
          17,
          11,
          13,
          15,
          13,
          22,
          22,
          28,
          12,
          13,
          19,
          16,
          11,
          23,
          28,
          25,
          13,
          30,
          28,
          28,
          21,
          12,
          26,
          18,
          25,
          17,
          13,
          22,
          12,
          12,
          28,
          26,
          12,
          12,
          15,
          12,
          28,
          11,
          11,
          13,
          27,
          26,
          18,
          20,
          24,
          27,
          27,
          26,
          17,
          17,
          28,
          15,
          22,
          13,
          20,
          17,
          28,
          11,
          22,
          26,
          23,
          23,
          11,
          13,
          27,
          19,
          16,
          11,
          11,
          18,
          15,
          27,
          11,
          11,
          27,
          30,
          19,
          27,
          13,
          19,
          22,
          28,
          12,
          19,
          18,
          14,
          11,
          19,
          25,
          12,
          29,
          17,
          29,
          27,
          26,
          17,
          19,
          27,
          28,
          14,
          30,
          21,
          28,
          23,
          14,
          11,
          27,
          13,
          16,
          29,
          28,
          17,
          22,
          25,
          11,
          16,
          13,
          26,
          28,
          24,
          28,
          30,
          26,
          16,
          21,
          29,
          26,
          11,
          26,
          25,
          19,
          21,
          28,
          21,
          21,
          23,
          13,
          23,
          30,
          27,
          13,
          28,
          27,
          22,
          11,
          18,
          21,
          16,
          15,
          26,
          16,
          25,
          23,
          14,
          17,
          23,
          16,
          15,
          22,
          13,
          22,
          12,
          27,
          26,
          25,
          13,
          29,
          14,
          27,
          21,
          23,
          30,
          30,
          13,
          23,
          11,
          16,
          28,
          12,
          24,
          28,
          15,
          20,
          30,
          13,
          29,
          14,
          22,
          15,
          21,
          18,
          15,
          16,
          27,
          22,
          20,
          12,
          20,
          25,
          18,
          24,
          15,
          15,
          15,
          24,
          15,
          13,
          15,
          13,
          25,
          26,
          30,
          16,
          12,
          23,
          18,
          25,
          18,
          13,
          24,
          23,
          12,
          12,
          16,
          18,
          25,
          23,
          20,
          19,
          23,
          25,
          19,
          12,
          16,
          16,
          18,
          21,
          14,
          25,
          14,
          28,
          24,
          15,
          20,
          27,
          14,
          27,
          17,
          13,
          14,
          27,
          20,
          11,
          30,
          28,
          22,
          25,
          12,
          23,
          14,
          21,
          14,
          26,
          18,
          24,
          21,
          11,
          22,
          19,
          28,
          27,
          25,
          21,
          11,
          16,
          24,
          27,
          19,
          14,
          25,
          17,
          20,
          19,
          12,
          19,
          18,
          24,
          19,
          22,
          19,
          30,
          22,
          12,
          23,
          16,
          20,
          23,
          12,
          13,
          22
         ],
         "y0": " ",
         "yaxis": "y"
        },
        {
         "alignmentgroup": "True",
         "hovertemplate": "HRD_adjust=HRD ambiguous<br>event.PAM50=%{x}<br>HRD-sum=%{y}<extra></extra>",
         "legendgroup": "HRD ambiguous",
         "marker": {
          "color": "#00cc96"
         },
         "name": "HRD ambiguous",
         "notched": false,
         "offsetgroup": "HRD ambiguous",
         "orientation": "v",
         "showlegend": true,
         "type": "box",
         "x": [
          "LumA",
          "Basal",
          "Basal",
          "LumB",
          null,
          "Basal",
          "LumA",
          "LumA",
          "LumB",
          "Her2",
          "LumB",
          "Her2",
          "LumB",
          "LumB",
          "Basal",
          "Her2",
          "LumB",
          "LumA",
          "Basal",
          "LumB",
          "LumB",
          "Basal",
          "Basal",
          "LumB",
          "LumA",
          "LumB",
          "LumA",
          "Basal",
          "LumB",
          "Basal",
          "LumB",
          "LumB",
          "LumA",
          "LumA",
          "LumB",
          "LumB",
          "Her2",
          "LumB",
          "Her2",
          "LumA",
          "LumA",
          "LumB",
          "Her2",
          "LumA",
          "Basal",
          "Basal",
          "LumA",
          "LumA",
          "Her2",
          "LumB",
          "LumB",
          "LumA",
          "Basal",
          "Her2",
          "LumB",
          "LumA",
          "LumA",
          null,
          "LumA",
          "LumB",
          "LumA",
          "Her2",
          "LumB",
          "Her2",
          "Basal",
          "LumB",
          "LumB",
          "Basal",
          "LumB",
          "LumB",
          "Basal",
          "LumB",
          "LumA",
          "Basal",
          "Basal",
          "LumB",
          "Basal",
          "LumB",
          "LumA",
          "LumB",
          "Basal",
          "Basal",
          "Her2",
          "Basal",
          "LumA",
          "Basal",
          "LumB",
          "Basal",
          "LumA",
          "LumB",
          "Basal",
          "Basal",
          "LumB",
          "Her2",
          "Basal",
          "LumA",
          "LumB",
          "LumA",
          "LumA",
          "Basal",
          "LumA",
          "LumB",
          "LumA",
          "LumA",
          "LumB",
          "LumA",
          "LumB",
          "Basal",
          "LumB",
          "LumA",
          "LumB",
          "LumB",
          null,
          "LumB",
          "LumA",
          "LumB",
          "LumA",
          "Her2",
          "LumB",
          "Her2",
          "Her2",
          "Her2",
          "Her2",
          "LumB",
          "Her2",
          "LumB",
          "LumB",
          "LumB",
          "Her2",
          "Her2",
          "Her2",
          "Basal",
          "LumB",
          "Her2",
          "LumB",
          "Her2",
          "Basal",
          "LumB",
          "Her2",
          "Her2",
          "LumA",
          "LumB",
          "LumB",
          null,
          "LumB",
          "LumA",
          "Her2",
          "Her2",
          "Her2",
          "LumA",
          "Basal",
          "LumA",
          "Her2",
          "Basal",
          "Basal",
          "Basal",
          "LumB",
          "LumB",
          "LumB",
          "LumB",
          "LumA",
          "LumA",
          "LumB",
          "LumB",
          "Her2",
          "LumB",
          "Basal",
          "LumB",
          "Basal",
          "LumA",
          "Her2",
          null,
          "Her2",
          "LumA",
          "Basal",
          "Her2",
          "Basal",
          "LumA",
          "LumA"
         ],
         "x0": " ",
         "xaxis": "x",
         "y": [
          34,
          38,
          37,
          35,
          40,
          48,
          32,
          31,
          40,
          31,
          35,
          43,
          32,
          37,
          32,
          45,
          46,
          31,
          38,
          38,
          34,
          43,
          43,
          49,
          32,
          38,
          41,
          42,
          48,
          48,
          38,
          40,
          31,
          45,
          35,
          41,
          37,
          43,
          38,
          38,
          49,
          42,
          37,
          33,
          37,
          34,
          39,
          49,
          34,
          42,
          44,
          31,
          34,
          40,
          46,
          36,
          37,
          43,
          42,
          49,
          36,
          35,
          39,
          45,
          47,
          31,
          37,
          34,
          31,
          37,
          41,
          48,
          42,
          49,
          31,
          35,
          33,
          36,
          37,
          34,
          44,
          40,
          39,
          45,
          38,
          36,
          31,
          31,
          33,
          43,
          48,
          35,
          34,
          40,
          35,
          37,
          41,
          32,
          31,
          40,
          31,
          38,
          43,
          36,
          48,
          39,
          34,
          36,
          41,
          35,
          41,
          34,
          35,
          34,
          48,
          33,
          33,
          46,
          48,
          37,
          32,
          36,
          40,
          44,
          31,
          38,
          32,
          32,
          38,
          43,
          49,
          35,
          37,
          31,
          34,
          38,
          43,
          38,
          37,
          38,
          42,
          34,
          47,
          34,
          32,
          32,
          31,
          32,
          43,
          35,
          31,
          37,
          46,
          34,
          32,
          42,
          46,
          35,
          46,
          39,
          47,
          37,
          32,
          38,
          35,
          45,
          34,
          47,
          43,
          44,
          47,
          34,
          38,
          39,
          40,
          34,
          48,
          49,
          32
         ],
         "y0": " ",
         "yaxis": "y"
        },
        {
         "alignmentgroup": "True",
         "hovertemplate": "HRD_adjust=HRD<br>event.PAM50=%{x}<br>HRD-sum=%{y}<extra></extra>",
         "legendgroup": "HRD",
         "marker": {
          "color": "#ab63fa"
         },
         "name": "HRD",
         "notched": false,
         "offsetgroup": "HRD",
         "orientation": "v",
         "showlegend": true,
         "type": "box",
         "x": [
          "Basal",
          "Basal",
          "Basal",
          "Basal",
          "LumB",
          "Basal",
          "LumB",
          "LumB",
          "Basal",
          "Basal",
          "LumB",
          "LumB",
          "Basal",
          "Basal",
          "Basal",
          "LumB",
          "Basal",
          "LumB",
          "LumA",
          "LumB",
          "LumB",
          "LumB",
          "Basal",
          "Basal",
          "LumB",
          "LumB",
          "Her2",
          "Basal",
          "Her2",
          "Her2",
          "LumA",
          "LumB",
          "LumB",
          "LumB",
          "Basal",
          "Her2",
          "Basal",
          "Basal",
          "Basal",
          "Basal",
          "Basal",
          "Basal",
          "LumA",
          "Basal",
          "LumB",
          "Her2",
          "Basal",
          "Basal",
          "LumB",
          "Basal",
          "Basal",
          "Basal",
          "Basal",
          "Basal",
          "Basal",
          "Basal",
          "LumA",
          "Basal",
          "LumB",
          "LumA",
          "Basal",
          "Basal",
          "Basal",
          "Basal",
          "Basal",
          "LumA",
          "Basal",
          "Basal",
          "Her2",
          "Basal",
          "Basal",
          "LumA",
          "Basal",
          "LumA",
          "LumB",
          "LumB",
          "Basal",
          "Basal",
          "Basal",
          "Basal",
          "LumB",
          "LumB",
          "Her2",
          "Basal",
          "Her2",
          "Her2",
          "LumB",
          "Basal",
          "Basal",
          "LumB",
          "LumB",
          "Basal",
          "LumB",
          "Basal",
          "Basal",
          "LumA",
          "Basal",
          "Basal",
          "LumA",
          "LumA",
          "Basal",
          "LumB",
          "Basal",
          null,
          "Basal",
          "Basal",
          "Basal",
          "Basal",
          "Her2",
          "Basal",
          "LumB",
          "Basal",
          "LumB",
          "LumB",
          "LumA",
          "Basal",
          "Basal",
          "Basal",
          "Basal",
          "Basal",
          "Basal",
          "LumB",
          "LumA",
          "LumB",
          "LumA",
          "LumB",
          "Her2",
          "LumB",
          "Basal",
          "Basal",
          "Basal",
          "LumB",
          "LumB",
          "Basal",
          "Basal",
          "LumA",
          "LumB",
          "Basal",
          "Basal",
          "Basal",
          "Her2",
          "Basal",
          "Her2",
          "Basal",
          "Basal",
          null,
          "Basal",
          "Basal",
          "Basal",
          "Basal",
          "Basal"
         ],
         "x0": " ",
         "xaxis": "x",
         "y": [
          90,
          87,
          66,
          77,
          53,
          70,
          69,
          55,
          65,
          70,
          72,
          61,
          80,
          50,
          56,
          70,
          73,
          64,
          67,
          60,
          61,
          53,
          101,
          50,
          54,
          80,
          77,
          88,
          53,
          57,
          82,
          72,
          60,
          57,
          50,
          55,
          62,
          74,
          76,
          69,
          62,
          69,
          62,
          85,
          50,
          81,
          59,
          73,
          55,
          84,
          72,
          69,
          57,
          71,
          67,
          90,
          60,
          51,
          72,
          53,
          78,
          84,
          67,
          60,
          89,
          84,
          68,
          55,
          89,
          67,
          65,
          74,
          64,
          69,
          75,
          60,
          70,
          62,
          56,
          61,
          54,
          62,
          64,
          58,
          81,
          59,
          56,
          74,
          73,
          69,
          51,
          65,
          55,
          54,
          79,
          53,
          58,
          76,
          65,
          61,
          71,
          51,
          75,
          55,
          83,
          76,
          59,
          84,
          64,
          78,
          61,
          53,
          65,
          78,
          71,
          86,
          53,
          53,
          54,
          83,
          50,
          52,
          57,
          53,
          50,
          52,
          54,
          86,
          80,
          58,
          74,
          58,
          58,
          60,
          67,
          51,
          54,
          70,
          75,
          71,
          51,
          86,
          59,
          83,
          69,
          64,
          72,
          52,
          71,
          58,
          57
         ],
         "y0": " ",
         "yaxis": "y"
        }
       ],
       "layout": {
        "boxmode": "group",
        "legend": {
         "title": {
          "text": "HRD_adjust"
         },
         "tracegroupgap": 0
        },
        "margin": {
         "t": 60
        },
        "template": {
         "data": {
          "bar": [
           {
            "error_x": {
             "color": "#2a3f5f"
            },
            "error_y": {
             "color": "#2a3f5f"
            },
            "marker": {
             "line": {
              "color": "#E5ECF6",
              "width": 0.5
             },
             "pattern": {
              "fillmode": "overlay",
              "size": 10,
              "solidity": 0.2
             }
            },
            "type": "bar"
           }
          ],
          "barpolar": [
           {
            "marker": {
             "line": {
              "color": "#E5ECF6",
              "width": 0.5
             },
             "pattern": {
              "fillmode": "overlay",
              "size": 10,
              "solidity": 0.2
             }
            },
            "type": "barpolar"
           }
          ],
          "carpet": [
           {
            "aaxis": {
             "endlinecolor": "#2a3f5f",
             "gridcolor": "white",
             "linecolor": "white",
             "minorgridcolor": "white",
             "startlinecolor": "#2a3f5f"
            },
            "baxis": {
             "endlinecolor": "#2a3f5f",
             "gridcolor": "white",
             "linecolor": "white",
             "minorgridcolor": "white",
             "startlinecolor": "#2a3f5f"
            },
            "type": "carpet"
           }
          ],
          "choropleth": [
           {
            "colorbar": {
             "outlinewidth": 0,
             "ticks": ""
            },
            "type": "choropleth"
           }
          ],
          "contour": [
           {
            "colorbar": {
             "outlinewidth": 0,
             "ticks": ""
            },
            "colorscale": [
             [
              0,
              "#0d0887"
             ],
             [
              0.1111111111111111,
              "#46039f"
             ],
             [
              0.2222222222222222,
              "#7201a8"
             ],
             [
              0.3333333333333333,
              "#9c179e"
             ],
             [
              0.4444444444444444,
              "#bd3786"
             ],
             [
              0.5555555555555556,
              "#d8576b"
             ],
             [
              0.6666666666666666,
              "#ed7953"
             ],
             [
              0.7777777777777778,
              "#fb9f3a"
             ],
             [
              0.8888888888888888,
              "#fdca26"
             ],
             [
              1,
              "#f0f921"
             ]
            ],
            "type": "contour"
           }
          ],
          "contourcarpet": [
           {
            "colorbar": {
             "outlinewidth": 0,
             "ticks": ""
            },
            "type": "contourcarpet"
           }
          ],
          "heatmap": [
           {
            "colorbar": {
             "outlinewidth": 0,
             "ticks": ""
            },
            "colorscale": [
             [
              0,
              "#0d0887"
             ],
             [
              0.1111111111111111,
              "#46039f"
             ],
             [
              0.2222222222222222,
              "#7201a8"
             ],
             [
              0.3333333333333333,
              "#9c179e"
             ],
             [
              0.4444444444444444,
              "#bd3786"
             ],
             [
              0.5555555555555556,
              "#d8576b"
             ],
             [
              0.6666666666666666,
              "#ed7953"
             ],
             [
              0.7777777777777778,
              "#fb9f3a"
             ],
             [
              0.8888888888888888,
              "#fdca26"
             ],
             [
              1,
              "#f0f921"
             ]
            ],
            "type": "heatmap"
           }
          ],
          "heatmapgl": [
           {
            "colorbar": {
             "outlinewidth": 0,
             "ticks": ""
            },
            "colorscale": [
             [
              0,
              "#0d0887"
             ],
             [
              0.1111111111111111,
              "#46039f"
             ],
             [
              0.2222222222222222,
              "#7201a8"
             ],
             [
              0.3333333333333333,
              "#9c179e"
             ],
             [
              0.4444444444444444,
              "#bd3786"
             ],
             [
              0.5555555555555556,
              "#d8576b"
             ],
             [
              0.6666666666666666,
              "#ed7953"
             ],
             [
              0.7777777777777778,
              "#fb9f3a"
             ],
             [
              0.8888888888888888,
              "#fdca26"
             ],
             [
              1,
              "#f0f921"
             ]
            ],
            "type": "heatmapgl"
           }
          ],
          "histogram": [
           {
            "marker": {
             "pattern": {
              "fillmode": "overlay",
              "size": 10,
              "solidity": 0.2
             }
            },
            "type": "histogram"
           }
          ],
          "histogram2d": [
           {
            "colorbar": {
             "outlinewidth": 0,
             "ticks": ""
            },
            "colorscale": [
             [
              0,
              "#0d0887"
             ],
             [
              0.1111111111111111,
              "#46039f"
             ],
             [
              0.2222222222222222,
              "#7201a8"
             ],
             [
              0.3333333333333333,
              "#9c179e"
             ],
             [
              0.4444444444444444,
              "#bd3786"
             ],
             [
              0.5555555555555556,
              "#d8576b"
             ],
             [
              0.6666666666666666,
              "#ed7953"
             ],
             [
              0.7777777777777778,
              "#fb9f3a"
             ],
             [
              0.8888888888888888,
              "#fdca26"
             ],
             [
              1,
              "#f0f921"
             ]
            ],
            "type": "histogram2d"
           }
          ],
          "histogram2dcontour": [
           {
            "colorbar": {
             "outlinewidth": 0,
             "ticks": ""
            },
            "colorscale": [
             [
              0,
              "#0d0887"
             ],
             [
              0.1111111111111111,
              "#46039f"
             ],
             [
              0.2222222222222222,
              "#7201a8"
             ],
             [
              0.3333333333333333,
              "#9c179e"
             ],
             [
              0.4444444444444444,
              "#bd3786"
             ],
             [
              0.5555555555555556,
              "#d8576b"
             ],
             [
              0.6666666666666666,
              "#ed7953"
             ],
             [
              0.7777777777777778,
              "#fb9f3a"
             ],
             [
              0.8888888888888888,
              "#fdca26"
             ],
             [
              1,
              "#f0f921"
             ]
            ],
            "type": "histogram2dcontour"
           }
          ],
          "mesh3d": [
           {
            "colorbar": {
             "outlinewidth": 0,
             "ticks": ""
            },
            "type": "mesh3d"
           }
          ],
          "parcoords": [
           {
            "line": {
             "colorbar": {
              "outlinewidth": 0,
              "ticks": ""
             }
            },
            "type": "parcoords"
           }
          ],
          "pie": [
           {
            "automargin": true,
            "type": "pie"
           }
          ],
          "scatter": [
           {
            "fillpattern": {
             "fillmode": "overlay",
             "size": 10,
             "solidity": 0.2
            },
            "type": "scatter"
           }
          ],
          "scatter3d": [
           {
            "line": {
             "colorbar": {
              "outlinewidth": 0,
              "ticks": ""
             }
            },
            "marker": {
             "colorbar": {
              "outlinewidth": 0,
              "ticks": ""
             }
            },
            "type": "scatter3d"
           }
          ],
          "scattercarpet": [
           {
            "marker": {
             "colorbar": {
              "outlinewidth": 0,
              "ticks": ""
             }
            },
            "type": "scattercarpet"
           }
          ],
          "scattergeo": [
           {
            "marker": {
             "colorbar": {
              "outlinewidth": 0,
              "ticks": ""
             }
            },
            "type": "scattergeo"
           }
          ],
          "scattergl": [
           {
            "marker": {
             "colorbar": {
              "outlinewidth": 0,
              "ticks": ""
             }
            },
            "type": "scattergl"
           }
          ],
          "scattermapbox": [
           {
            "marker": {
             "colorbar": {
              "outlinewidth": 0,
              "ticks": ""
             }
            },
            "type": "scattermapbox"
           }
          ],
          "scatterpolar": [
           {
            "marker": {
             "colorbar": {
              "outlinewidth": 0,
              "ticks": ""
             }
            },
            "type": "scatterpolar"
           }
          ],
          "scatterpolargl": [
           {
            "marker": {
             "colorbar": {
              "outlinewidth": 0,
              "ticks": ""
             }
            },
            "type": "scatterpolargl"
           }
          ],
          "scatterternary": [
           {
            "marker": {
             "colorbar": {
              "outlinewidth": 0,
              "ticks": ""
             }
            },
            "type": "scatterternary"
           }
          ],
          "surface": [
           {
            "colorbar": {
             "outlinewidth": 0,
             "ticks": ""
            },
            "colorscale": [
             [
              0,
              "#0d0887"
             ],
             [
              0.1111111111111111,
              "#46039f"
             ],
             [
              0.2222222222222222,
              "#7201a8"
             ],
             [
              0.3333333333333333,
              "#9c179e"
             ],
             [
              0.4444444444444444,
              "#bd3786"
             ],
             [
              0.5555555555555556,
              "#d8576b"
             ],
             [
              0.6666666666666666,
              "#ed7953"
             ],
             [
              0.7777777777777778,
              "#fb9f3a"
             ],
             [
              0.8888888888888888,
              "#fdca26"
             ],
             [
              1,
              "#f0f921"
             ]
            ],
            "type": "surface"
           }
          ],
          "table": [
           {
            "cells": {
             "fill": {
              "color": "#EBF0F8"
             },
             "line": {
              "color": "white"
             }
            },
            "header": {
             "fill": {
              "color": "#C8D4E3"
             },
             "line": {
              "color": "white"
             }
            },
            "type": "table"
           }
          ]
         },
         "layout": {
          "annotationdefaults": {
           "arrowcolor": "#2a3f5f",
           "arrowhead": 0,
           "arrowwidth": 1
          },
          "autotypenumbers": "strict",
          "coloraxis": {
           "colorbar": {
            "outlinewidth": 0,
            "ticks": ""
           }
          },
          "colorscale": {
           "diverging": [
            [
             0,
             "#8e0152"
            ],
            [
             0.1,
             "#c51b7d"
            ],
            [
             0.2,
             "#de77ae"
            ],
            [
             0.3,
             "#f1b6da"
            ],
            [
             0.4,
             "#fde0ef"
            ],
            [
             0.5,
             "#f7f7f7"
            ],
            [
             0.6,
             "#e6f5d0"
            ],
            [
             0.7,
             "#b8e186"
            ],
            [
             0.8,
             "#7fbc41"
            ],
            [
             0.9,
             "#4d9221"
            ],
            [
             1,
             "#276419"
            ]
           ],
           "sequential": [
            [
             0,
             "#0d0887"
            ],
            [
             0.1111111111111111,
             "#46039f"
            ],
            [
             0.2222222222222222,
             "#7201a8"
            ],
            [
             0.3333333333333333,
             "#9c179e"
            ],
            [
             0.4444444444444444,
             "#bd3786"
            ],
            [
             0.5555555555555556,
             "#d8576b"
            ],
            [
             0.6666666666666666,
             "#ed7953"
            ],
            [
             0.7777777777777778,
             "#fb9f3a"
            ],
            [
             0.8888888888888888,
             "#fdca26"
            ],
            [
             1,
             "#f0f921"
            ]
           ],
           "sequentialminus": [
            [
             0,
             "#0d0887"
            ],
            [
             0.1111111111111111,
             "#46039f"
            ],
            [
             0.2222222222222222,
             "#7201a8"
            ],
            [
             0.3333333333333333,
             "#9c179e"
            ],
            [
             0.4444444444444444,
             "#bd3786"
            ],
            [
             0.5555555555555556,
             "#d8576b"
            ],
            [
             0.6666666666666666,
             "#ed7953"
            ],
            [
             0.7777777777777778,
             "#fb9f3a"
            ],
            [
             0.8888888888888888,
             "#fdca26"
            ],
            [
             1,
             "#f0f921"
            ]
           ]
          },
          "colorway": [
           "#636efa",
           "#EF553B",
           "#00cc96",
           "#ab63fa",
           "#FFA15A",
           "#19d3f3",
           "#FF6692",
           "#B6E880",
           "#FF97FF",
           "#FECB52"
          ],
          "font": {
           "color": "#2a3f5f"
          },
          "geo": {
           "bgcolor": "white",
           "lakecolor": "white",
           "landcolor": "#E5ECF6",
           "showlakes": true,
           "showland": true,
           "subunitcolor": "white"
          },
          "hoverlabel": {
           "align": "left"
          },
          "hovermode": "closest",
          "mapbox": {
           "style": "light"
          },
          "paper_bgcolor": "white",
          "plot_bgcolor": "#E5ECF6",
          "polar": {
           "angularaxis": {
            "gridcolor": "white",
            "linecolor": "white",
            "ticks": ""
           },
           "bgcolor": "#E5ECF6",
           "radialaxis": {
            "gridcolor": "white",
            "linecolor": "white",
            "ticks": ""
           }
          },
          "scene": {
           "xaxis": {
            "backgroundcolor": "#E5ECF6",
            "gridcolor": "white",
            "gridwidth": 2,
            "linecolor": "white",
            "showbackground": true,
            "ticks": "",
            "zerolinecolor": "white"
           },
           "yaxis": {
            "backgroundcolor": "#E5ECF6",
            "gridcolor": "white",
            "gridwidth": 2,
            "linecolor": "white",
            "showbackground": true,
            "ticks": "",
            "zerolinecolor": "white"
           },
           "zaxis": {
            "backgroundcolor": "#E5ECF6",
            "gridcolor": "white",
            "gridwidth": 2,
            "linecolor": "white",
            "showbackground": true,
            "ticks": "",
            "zerolinecolor": "white"
           }
          },
          "shapedefaults": {
           "line": {
            "color": "#2a3f5f"
           }
          },
          "ternary": {
           "aaxis": {
            "gridcolor": "white",
            "linecolor": "white",
            "ticks": ""
           },
           "baxis": {
            "gridcolor": "white",
            "linecolor": "white",
            "ticks": ""
           },
           "bgcolor": "#E5ECF6",
           "caxis": {
            "gridcolor": "white",
            "linecolor": "white",
            "ticks": ""
           }
          },
          "title": {
           "x": 0.05
          },
          "xaxis": {
           "automargin": true,
           "gridcolor": "white",
           "linecolor": "white",
           "ticks": "",
           "title": {
            "standoff": 15
           },
           "zerolinecolor": "white",
           "zerolinewidth": 2
          },
          "yaxis": {
           "automargin": true,
           "gridcolor": "white",
           "linecolor": "white",
           "ticks": "",
           "title": {
            "standoff": 15
           },
           "zerolinecolor": "white",
           "zerolinewidth": 2
          }
         }
        },
        "xaxis": {
         "anchor": "y",
         "domain": [
          0,
          1
         ],
         "title": {
          "text": "event.PAM50"
         }
        },
        "yaxis": {
         "anchor": "x",
         "domain": [
          0,
          1
         ],
         "title": {
          "text": "HRD-sum"
         }
        }
       }
      }
     },
     "metadata": {},
     "output_type": "display_data"
    }
   ],
   "source": [
    "px.box(metadata_sub, x = 'event.PAM50', y = 'HRD-sum', color = 'HRD_adjust')"
   ]
  },
  {
   "cell_type": "code",
   "execution_count": 103,
   "metadata": {},
   "outputs": [],
   "source": [
    "metadata_sub.to_csv('../data/softlabels_per_Subtype.csv')"
   ]
  },
  {
   "cell_type": "markdown",
   "metadata": {},
   "source": [
    "## Visualization graphs"
   ]
  },
  {
   "cell_type": "code",
   "execution_count": 107,
   "metadata": {},
   "outputs": [
    {
     "data": {
      "application/vnd.plotly.v1+json": {
       "config": {
        "plotlyServerURL": "https://plot.ly"
       },
       "data": [
        {
         "hovertemplate": "HRD-sum=%{x}<br>Confidence=%{y}<extra></extra>",
         "legendgroup": "",
         "marker": {
          "color": "#636efa",
          "symbol": "circle"
         },
         "mode": "markers",
         "name": "",
         "orientation": "v",
         "showlegend": false,
         "type": "scatter",
         "x": [
          0,
          27,
          13,
          26,
          9,
          34,
          13,
          29,
          38,
          14,
          22,
          90,
          16,
          5,
          37,
          35,
          87,
          9,
          28,
          17,
          19,
          11,
          40,
          48,
          12,
          5,
          3,
          7,
          5,
          32,
          9,
          40,
          25,
          66,
          77,
          4,
          35,
          6,
          8,
          0,
          43,
          7,
          7,
          28,
          4,
          53,
          17,
          32,
          37,
          32,
          70,
          45,
          23,
          46,
          15,
          4,
          6,
          7,
          7,
          38,
          14,
          38,
          34,
          8,
          43,
          7,
          8,
          43,
          49,
          32,
          38,
          17,
          4,
          8,
          17,
          11,
          7,
          69,
          13,
          41,
          55,
          9,
          15,
          42,
          65,
          13,
          8,
          22,
          22,
          70,
          0,
          28,
          72,
          9,
          12,
          61,
          80,
          13,
          48,
          8,
          19,
          6,
          16,
          0,
          11,
          7,
          23,
          28,
          56,
          3,
          48,
          70,
          73,
          25,
          38,
          13,
          40,
          64,
          30,
          67,
          60,
          4,
          28,
          61,
          28,
          53,
          101,
          21,
          12,
          45,
          26,
          18,
          25,
          54,
          17,
          35,
          13,
          7,
          22,
          41,
          12,
          12,
          37,
          3,
          80,
          28,
          43,
          38,
          77,
          26,
          88,
          12,
          12,
          53,
          15,
          38,
          12,
          28,
          11,
          57,
          8,
          5,
          49,
          11,
          82,
          13,
          27,
          26,
          18,
          20,
          42,
          24,
          72,
          27,
          60,
          27,
          6,
          3,
          57,
          26,
          9,
          17,
          17,
          28,
          15,
          22,
          13,
          20,
          17,
          28,
          11,
          6,
          37,
          22,
          26,
          1,
          9,
          9,
          23,
          23,
          8,
          11,
          13,
          9,
          9,
          7,
          5,
          55,
          8,
          1,
          33,
          27,
          37,
          19,
          16,
          34,
          5,
          11,
          11,
          18,
          39,
          49,
          34,
          62,
          42,
          15,
          74,
          44,
          76,
          69,
          27,
          11,
          34,
          8,
          62,
          11,
          40,
          27,
          69,
          46,
          30,
          19,
          62,
          27,
          4,
          13,
          8,
          36,
          85,
          7,
          37,
          19,
          22,
          28,
          12,
          43,
          0,
          42,
          81,
          49,
          59,
          19,
          73,
          4,
          3,
          36,
          55,
          35,
          5,
          18,
          14,
          11,
          39,
          84,
          4,
          19,
          25,
          72,
          6,
          12,
          45,
          69,
          29,
          1,
          17,
          47,
          37,
          29,
          57,
          27,
          26,
          8,
          34,
          71,
          17,
          67,
          90,
          60,
          19,
          37,
          27,
          41,
          48,
          42,
          49,
          51,
          28,
          14,
          30,
          21,
          28,
          9,
          23,
          14,
          35,
          11,
          33,
          72,
          27,
          53,
          13,
          8,
          5,
          78,
          16,
          29,
          28,
          17,
          4,
          36,
          84,
          22,
          37,
          67,
          6,
          9,
          9,
          34,
          8,
          6,
          25,
          60,
          11,
          16,
          13,
          44,
          40,
          4,
          89,
          84,
          39,
          26,
          28,
          5,
          24,
          28,
          30,
          68,
          26,
          16,
          21,
          29,
          6,
          55,
          45,
          38,
          26,
          11,
          26,
          5,
          5,
          25,
          5,
          89,
          36,
          19,
          21,
          28,
          21,
          33,
          7,
          5,
          5,
          21,
          23,
          8,
          43,
          48,
          67,
          13,
          35,
          23,
          30,
          9,
          34,
          65,
          40,
          8,
          27,
          74,
          13,
          28,
          35,
          8,
          27,
          64,
          69,
          7,
          37,
          22,
          75,
          11,
          18,
          41,
          21,
          16,
          32,
          3,
          15,
          3,
          26,
          40,
          5,
          16,
          3,
          6,
          25,
          9,
          23,
          14,
          17,
          5,
          8,
          7,
          9,
          23,
          16,
          3,
          15,
          3,
          38,
          22,
          43,
          60,
          13,
          9,
          7,
          4,
          22,
          70,
          7,
          12,
          36,
          27,
          26,
          25,
          13,
          6,
          62,
          29,
          14,
          56,
          48,
          27,
          21,
          3,
          23,
          30,
          6,
          39,
          61,
          54,
          4,
          30,
          34,
          36,
          41,
          9,
          35,
          4,
          13,
          41,
          62,
          23,
          11,
          16,
          64,
          34,
          35,
          28,
          12,
          6,
          34,
          7,
          48,
          58,
          81,
          33,
          7,
          33,
          59,
          46,
          24,
          48,
          28,
          15,
          20,
          37,
          56,
          30,
          74,
          32,
          36,
          40,
          13,
          29,
          44,
          14,
          73,
          22,
          69,
          38,
          15,
          32,
          32,
          38,
          43,
          21,
          18,
          15,
          16,
          27,
          51,
          65,
          6,
          22,
          55,
          49,
          20,
          5,
          54,
          35,
          12,
          79,
          6,
          37,
          53,
          34,
          20,
          25,
          38,
          18,
          24,
          58,
          76,
          43,
          7,
          65,
          6,
          15,
          5,
          38,
          5,
          5,
          15,
          61,
          15,
          7,
          24,
          9,
          37,
          71,
          51,
          15,
          13,
          75,
          15,
          13,
          38,
          25,
          2,
          55,
          26,
          30,
          42,
          9,
          16,
          34,
          1,
          83,
          8,
          76,
          12,
          3,
          59,
          23,
          3,
          47,
          18,
          25,
          4,
          8,
          18,
          13,
          34,
          32,
          24,
          5,
          23,
          12,
          84,
          8,
          64,
          12,
          78,
          16,
          32,
          61,
          18,
          53,
          32,
          25,
          7,
          23,
          4,
          4,
          20,
          9,
          19,
          23,
          25,
          65,
          19,
          43,
          4,
          8,
          35,
          3,
          12,
          6,
          16,
          16,
          37,
          5,
          78,
          18,
          5,
          71,
          21,
          46,
          14,
          86,
          53,
          34,
          53,
          25,
          14,
          5,
          28,
          9,
          4,
          32,
          42,
          24,
          4,
          15,
          20,
          27,
          54,
          46,
          83,
          52,
          14,
          27,
          6,
          57,
          17,
          53,
          13,
          14,
          35,
          4,
          27,
          20,
          6,
          46,
          52,
          54,
          11,
          30,
          3,
          28,
          22,
          25,
          39,
          86,
          80,
          12,
          58,
          74,
          0,
          47,
          23,
          14,
          5,
          37,
          58,
          58,
          3,
          60,
          3,
          6,
          32,
          4,
          67,
          21,
          8,
          14,
          26,
          18,
          7,
          8,
          24,
          21,
          11,
          51,
          38,
          35,
          9,
          45,
          54,
          22,
          70,
          19,
          4,
          34,
          28,
          75,
          47,
          9,
          43,
          27,
          25,
          21,
          11,
          16,
          71,
          24,
          27,
          51,
          44,
          86,
          19,
          14,
          47,
          25,
          34,
          59,
          17,
          20,
          3,
          9,
          19,
          12,
          83,
          9,
          19,
          4,
          8,
          69,
          7,
          38,
          18,
          64,
          9,
          24,
          19,
          39,
          22,
          72,
          19,
          8,
          52,
          30,
          22,
          12,
          9,
          23,
          40,
          16,
          20,
          3,
          4,
          71,
          5,
          23,
          58,
          0,
          57,
          9,
          8,
          8,
          5,
          12,
          34,
          48,
          13,
          49,
          22,
          32,
          7
         ],
         "xaxis": "x",
         "y": [
          0.0003353501304664781,
          0.06913842034334682,
          0.004496273160941178,
          0.057324175898868755,
          0.002025320389049882,
          0.23147521650098238,
          0.004496273160941178,
          0.09975048911968513,
          0.401312339887548,
          0.005486298899450404,
          0.026596993576865856,
          0.9999546021312976,
          0.008162571153159897,
          0.0009110511944006454,
          0.35434369377420455,
          0.2689414213699951,
          0.9999172827771484,
          0.002025320389049882,
          0.08317269649392238,
          0.009951801866904324,
          0.014774031693273055,
          0.003018416324708424,
          0.5,
          0.8320183851339245,
          0.003684239899435989,
          0.0009110511944006454,
          0.000610879359434401,
          0.0013585199504289591,
          0.0009110511944006454,
          0.16798161486607552,
          0.002025320389049882,
          0.5,
          0.04742587317756678,
          0.9945137011005495,
          0.9993891206405656,
          0.000746028833836697,
          0.2689414213699951,
          0.0011125360328603216,
          0.0016588010801744215,
          0.0003353501304664781,
          0.6456563062257954,
          0.0013585199504289591,
          0.0013585199504289591,
          0.08317269649392238,
          0.000746028833836697,
          0.9308615796566533,
          0.009951801866904324,
          0.16798161486607552,
          0.35434369377420455,
          0.16798161486607552,
          0.9975273768433653,
          0.7310585786300049,
          0.032295464698450516,
          0.7685247834990175,
          0.0066928509242848554,
          0.000746028833836697,
          0.0011125360328603216,
          0.0013585199504289591,
          0.0013585199504289591,
          0.401312339887548,
          0.005486298899450404,
          0.401312339887548,
          0.23147521650098238,
          0.0016588010801744215,
          0.6456563062257954,
          0.0013585199504289591,
          0.0016588010801744215,
          0.6456563062257954,
          0.8581489350995123,
          0.16798161486607552,
          0.401312339887548,
          0.009951801866904324,
          0.000746028833836697,
          0.0016588010801744215,
          0.009951801866904324,
          0.003018416324708424,
          0.0013585199504289591,
          0.9969815836752917,
          0.004496273160941178,
          0.549833997312478,
          0.9525741268224334,
          0.002025320389049882,
          0.0066928509242848554,
          0.598687660112452,
          0.9933071490757153,
          0.004496273160941178,
          0.0016588010801744215,
          0.026596993576865856,
          0.026596993576865856,
          0.9975273768433653,
          0.0003353501304664781,
          0.08317269649392238,
          0.9983411989198255,
          0.002025320389049882,
          0.003684239899435989,
          0.9852259683067269,
          0.9996646498695336,
          0.004496273160941178,
          0.8320183851339245,
          0.0016588010801744215,
          0.014774031693273055,
          0.0011125360328603216,
          0.008162571153159897,
          0.0003353501304664781,
          0.003018416324708424,
          0.0013585199504289591,
          0.032295464698450516,
          0.08317269649392238,
          0.9608342772032357,
          0.000610879359434401,
          0.8320183851339245,
          0.9975273768433653,
          0.9986414800495711,
          0.04742587317756678,
          0.401312339887548,
          0.004496273160941178,
          0.5,
          0.9918374288468401,
          0.11920292202211755,
          0.9955037268390589,
          0.9820137900379085,
          0.000746028833836697,
          0.08317269649392238,
          0.9852259683067269,
          0.08317269649392238,
          0.9308615796566533,
          0.9999949695696981,
          0.021881270936130476,
          0.003684239899435989,
          0.7310585786300049,
          0.057324175898868755,
          0.012128434984274237,
          0.04742587317756678,
          0.9426758241011313,
          0.009951801866904324,
          0.2689414213699951,
          0.004496273160941178,
          0.0013585199504289591,
          0.026596993576865856,
          0.549833997312478,
          0.003684239899435989,
          0.003684239899435989,
          0.35434369377420455,
          0.000610879359434401,
          0.9996646498695336,
          0.08317269649392238,
          0.6456563062257954,
          0.401312339887548,
          0.9993891206405656,
          0.057324175898868755,
          0.9999322758503804,
          0.003684239899435989,
          0.003684239899435989,
          0.9308615796566533,
          0.0066928509242848554,
          0.401312339887548,
          0.003684239899435989,
          0.08317269649392238,
          0.003018416324708424,
          0.9677045353015494,
          0.0016588010801744215,
          0.0009110511944006454,
          0.8581489350995123,
          0.003018416324708424,
          0.9997751832297667,
          0.004496273160941178,
          0.06913842034334682,
          0.057324175898868755,
          0.012128434984274237,
          0.01798620996209156,
          0.598687660112452,
          0.039165722796764356,
          0.9983411989198255,
          0.06913842034334682,
          0.9820137900379085,
          0.06913842034334682,
          0.0011125360328603216,
          0.000610879359434401,
          0.9677045353015494,
          0.057324175898868755,
          0.002025320389049882,
          0.009951801866904324,
          0.009951801866904324,
          0.08317269649392238,
          0.0066928509242848554,
          0.026596993576865856,
          0.004496273160941178,
          0.01798620996209156,
          0.009951801866904324,
          0.08317269649392238,
          0.003018416324708424,
          0.0011125360328603216,
          0.35434369377420455,
          0.026596993576865856,
          0.057324175898868755,
          0.00040956716498605043,
          0.002025320389049882,
          0.002025320389049882,
          0.032295464698450516,
          0.032295464698450516,
          0.0016588010801744215,
          0.003018416324708424,
          0.004496273160941178,
          0.002025320389049882,
          0.002025320389049882,
          0.0013585199504289591,
          0.0009110511944006454,
          0.9525741268224334,
          0.0016588010801744215,
          0.00040956716498605043,
          0.19781611144141825,
          0.06913842034334682,
          0.35434369377420455,
          0.014774031693273055,
          0.008162571153159897,
          0.23147521650098238,
          0.0009110511944006454,
          0.003018416324708424,
          0.003018416324708424,
          0.012128434984274237,
          0.45016600268752216,
          0.8581489350995123,
          0.23147521650098238,
          0.9878715650157257,
          0.598687660112452,
          0.0066928509242848554,
          0.9988874639671398,
          0.6899744811276125,
          0.9992539711661633,
          0.9969815836752917,
          0.06913842034334682,
          0.003018416324708424,
          0.23147521650098238,
          0.0016588010801744215,
          0.9878715650157257,
          0.003018416324708424,
          0.5,
          0.06913842034334682,
          0.9969815836752917,
          0.7685247834990175,
          0.11920292202211755,
          0.014774031693273055,
          0.9878715650157257,
          0.06913842034334682,
          0.000746028833836697,
          0.004496273160941178,
          0.0016588010801744215,
          0.31002551887238755,
          0.9998766054240137,
          0.0013585199504289591,
          0.35434369377420455,
          0.014774031693273055,
          0.026596993576865856,
          0.08317269649392238,
          0.003684239899435989,
          0.6456563062257954,
          0.0003353501304664781,
          0.598687660112452,
          0.9997254218438986,
          0.8581489350995123,
          0.9781187290638694,
          0.014774031693273055,
          0.9986414800495711,
          0.000746028833836697,
          0.000610879359434401,
          0.31002551887238755,
          0.9525741268224334,
          0.2689414213699951,
          0.0009110511944006454,
          0.012128434984274237,
          0.005486298899450404,
          0.003018416324708424,
          0.45016600268752216,
          0.9998492896419403,
          0.000746028833836697,
          0.014774031693273055,
          0.04742587317756678,
          0.9983411989198255,
          0.0011125360328603216,
          0.003684239899435989,
          0.7310585786300049,
          0.9969815836752917,
          0.09975048911968513,
          0.00040956716498605043,
          0.009951801866904324,
          0.8021838885585817,
          0.35434369377420455,
          0.09975048911968513,
          0.9677045353015494,
          0.06913842034334682,
          0.057324175898868755,
          0.0016588010801744215,
          0.23147521650098238,
          0.9979746796109501,
          0.009951801866904324,
          0.9955037268390589,
          0.9999546021312976,
          0.9820137900379085,
          0.014774031693273055,
          0.35434369377420455,
          0.06913842034334682,
          0.549833997312478,
          0.8320183851339245,
          0.598687660112452,
          0.8581489350995123,
          0.9002495108803148,
          0.08317269649392238,
          0.005486298899450404,
          0.11920292202211755,
          0.021881270936130476,
          0.08317269649392238,
          0.002025320389049882,
          0.032295464698450516,
          0.005486298899450404,
          0.2689414213699951,
          0.003018416324708424,
          0.19781611144141825,
          0.9983411989198255,
          0.06913842034334682,
          0.9308615796566533,
          0.004496273160941178,
          0.0016588010801744215,
          0.0009110511944006454,
          0.9994997988929205,
          0.008162571153159897,
          0.09975048911968513,
          0.08317269649392238,
          0.009951801866904324,
          0.000746028833836697,
          0.31002551887238755,
          0.9998492896419403,
          0.026596993576865856,
          0.35434369377420455,
          0.9955037268390589,
          0.0011125360328603216,
          0.002025320389049882,
          0.002025320389049882,
          0.23147521650098238,
          0.0016588010801744215,
          0.0011125360328603216,
          0.04742587317756678,
          0.9820137900379085,
          0.003018416324708424,
          0.008162571153159897,
          0.004496273160941178,
          0.6899744811276125,
          0.5,
          0.000746028833836697,
          0.9999445514752772,
          0.9998492896419403,
          0.45016600268752216,
          0.057324175898868755,
          0.08317269649392238,
          0.0009110511944006454,
          0.039165722796764356,
          0.08317269649392238,
          0.11920292202211755,
          0.9963157601005641,
          0.057324175898868755,
          0.008162571153159897,
          0.021881270936130476,
          0.09975048911968513,
          0.0011125360328603216,
          0.9525741268224334,
          0.7310585786300049,
          0.401312339887548,
          0.057324175898868755,
          0.003018416324708424,
          0.057324175898868755,
          0.0009110511944006454,
          0.0009110511944006454,
          0.04742587317756678,
          0.0009110511944006454,
          0.9999445514752772,
          0.31002551887238755,
          0.014774031693273055,
          0.021881270936130476,
          0.08317269649392238,
          0.021881270936130476,
          0.19781611144141825,
          0.0013585199504289591,
          0.0009110511944006454,
          0.0009110511944006454,
          0.021881270936130476,
          0.032295464698450516,
          0.0016588010801744215,
          0.6456563062257954,
          0.8320183851339245,
          0.9955037268390589,
          0.004496273160941178,
          0.2689414213699951,
          0.032295464698450516,
          0.11920292202211755,
          0.002025320389049882,
          0.23147521650098238,
          0.9933071490757153,
          0.5,
          0.0016588010801744215,
          0.06913842034334682,
          0.9988874639671398,
          0.004496273160941178,
          0.08317269649392238,
          0.2689414213699951,
          0.0016588010801744215,
          0.06913842034334682,
          0.9918374288468401,
          0.9969815836752917,
          0.0013585199504289591,
          0.35434369377420455,
          0.026596993576865856,
          0.9990889488055994,
          0.003018416324708424,
          0.012128434984274237,
          0.549833997312478,
          0.021881270936130476,
          0.008162571153159897,
          0.16798161486607552,
          0.000610879359434401,
          0.0066928509242848554,
          0.000610879359434401,
          0.057324175898868755,
          0.5,
          0.0009110511944006454,
          0.008162571153159897,
          0.000610879359434401,
          0.0011125360328603216,
          0.04742587317756678,
          0.002025320389049882,
          0.032295464698450516,
          0.005486298899450404,
          0.009951801866904324,
          0.0009110511944006454,
          0.0016588010801744215,
          0.0013585199504289591,
          0.002025320389049882,
          0.032295464698450516,
          0.008162571153159897,
          0.000610879359434401,
          0.0066928509242848554,
          0.000610879359434401,
          0.401312339887548,
          0.026596993576865856,
          0.6456563062257954,
          0.9820137900379085,
          0.004496273160941178,
          0.002025320389049882,
          0.0013585199504289591,
          0.000746028833836697,
          0.026596993576865856,
          0.9975273768433653,
          0.0013585199504289591,
          0.003684239899435989,
          0.31002551887238755,
          0.06913842034334682,
          0.057324175898868755,
          0.04742587317756678,
          0.004496273160941178,
          0.0011125360328603216,
          0.9878715650157257,
          0.09975048911968513,
          0.005486298899450404,
          0.9608342772032357,
          0.8320183851339245,
          0.06913842034334682,
          0.021881270936130476,
          0.000610879359434401,
          0.032295464698450516,
          0.11920292202211755,
          0.0011125360328603216,
          0.45016600268752216,
          0.9852259683067269,
          0.9426758241011313,
          0.000746028833836697,
          0.11920292202211755,
          0.23147521650098238,
          0.31002551887238755,
          0.549833997312478,
          0.002025320389049882,
          0.2689414213699951,
          0.000746028833836697,
          0.004496273160941178,
          0.549833997312478,
          0.9878715650157257,
          0.032295464698450516,
          0.003018416324708424,
          0.008162571153159897,
          0.9918374288468401,
          0.23147521650098238,
          0.2689414213699951,
          0.08317269649392238,
          0.003684239899435989,
          0.0011125360328603216,
          0.23147521650098238,
          0.0013585199504289591,
          0.8320183851339245,
          0.973403006423134,
          0.9997254218438986,
          0.19781611144141825,
          0.0013585199504289591,
          0.19781611144141825,
          0.9781187290638694,
          0.7685247834990175,
          0.039165722796764356,
          0.8320183851339245,
          0.08317269649392238,
          0.0066928509242848554,
          0.01798620996209156,
          0.35434369377420455,
          0.9608342772032357,
          0.11920292202211755,
          0.9988874639671398,
          0.16798161486607552,
          0.31002551887238755,
          0.5,
          0.004496273160941178,
          0.09975048911968513,
          0.6899744811276125,
          0.005486298899450404,
          0.9986414800495711,
          0.026596993576865856,
          0.9969815836752917,
          0.401312339887548,
          0.0066928509242848554,
          0.16798161486607552,
          0.16798161486607552,
          0.401312339887548,
          0.6456563062257954,
          0.021881270936130476,
          0.012128434984274237,
          0.0066928509242848554,
          0.008162571153159897,
          0.06913842034334682,
          0.9002495108803148,
          0.9933071490757153,
          0.0011125360328603216,
          0.026596993576865856,
          0.9525741268224334,
          0.8581489350995123,
          0.01798620996209156,
          0.0009110511944006454,
          0.9426758241011313,
          0.2689414213699951,
          0.003684239899435989,
          0.9995904328350139,
          0.0011125360328603216,
          0.35434369377420455,
          0.9308615796566533,
          0.23147521650098238,
          0.01798620996209156,
          0.04742587317756678,
          0.401312339887548,
          0.012128434984274237,
          0.039165722796764356,
          0.973403006423134,
          0.9992539711661633,
          0.6456563062257954,
          0.0013585199504289591,
          0.9933071490757153,
          0.0011125360328603216,
          0.0066928509242848554,
          0.0009110511944006454,
          0.401312339887548,
          0.0009110511944006454,
          0.0009110511944006454,
          0.0066928509242848554,
          0.9852259683067269,
          0.0066928509242848554,
          0.0013585199504289591,
          0.039165722796764356,
          0.002025320389049882,
          0.35434369377420455,
          0.9979746796109501,
          0.9002495108803148,
          0.0066928509242848554,
          0.004496273160941178,
          0.9990889488055994,
          0.0066928509242848554,
          0.004496273160941178,
          0.401312339887548,
          0.04742587317756678,
          0.0005002011070795643,
          0.9525741268224334,
          0.057324175898868755,
          0.11920292202211755,
          0.598687660112452,
          0.002025320389049882,
          0.008162571153159897,
          0.23147521650098238,
          0.00040956716498605043,
          0.9998159280950366,
          0.0016588010801744215,
          0.9992539711661633,
          0.003684239899435989,
          0.000610879359434401,
          0.9781187290638694,
          0.032295464698450516,
          0.000610879359434401,
          0.8021838885585817,
          0.012128434984274237,
          0.04742587317756678,
          0.000746028833836697,
          0.0016588010801744215,
          0.012128434984274237,
          0.004496273160941178,
          0.23147521650098238,
          0.16798161486607552,
          0.039165722796764356,
          0.0009110511944006454,
          0.032295464698450516,
          0.003684239899435989,
          0.9998492896419403,
          0.0016588010801744215,
          0.9918374288468401,
          0.003684239899435989,
          0.9994997988929205,
          0.008162571153159897,
          0.16798161486607552,
          0.9852259683067269,
          0.012128434984274237,
          0.9308615796566533,
          0.16798161486607552,
          0.04742587317756678,
          0.0013585199504289591,
          0.032295464698450516,
          0.000746028833836697,
          0.000746028833836697,
          0.01798620996209156,
          0.002025320389049882,
          0.014774031693273055,
          0.032295464698450516,
          0.04742587317756678,
          0.9933071490757153,
          0.014774031693273055,
          0.6456563062257954,
          0.000746028833836697,
          0.0016588010801744215,
          0.2689414213699951,
          0.000610879359434401,
          0.003684239899435989,
          0.0011125360328603216,
          0.008162571153159897,
          0.008162571153159897,
          0.35434369377420455,
          0.0009110511944006454,
          0.9994997988929205,
          0.012128434984274237,
          0.0009110511944006454,
          0.9979746796109501,
          0.021881270936130476,
          0.7685247834990175,
          0.005486298899450404,
          0.9998989708060922,
          0.9308615796566533,
          0.23147521650098238,
          0.9308615796566533,
          0.04742587317756678,
          0.005486298899450404,
          0.0009110511944006454,
          0.08317269649392238,
          0.002025320389049882,
          0.000746028833836697,
          0.16798161486607552,
          0.598687660112452,
          0.039165722796764356,
          0.000746028833836697,
          0.0066928509242848554,
          0.01798620996209156,
          0.06913842034334682,
          0.9426758241011313,
          0.7685247834990175,
          0.9998159280950366,
          0.9168273035060777,
          0.005486298899450404,
          0.06913842034334682,
          0.0011125360328603216,
          0.9677045353015494,
          0.009951801866904324,
          0.9308615796566533,
          0.004496273160941178,
          0.005486298899450404,
          0.2689414213699951,
          0.000746028833836697,
          0.06913842034334682,
          0.01798620996209156,
          0.0011125360328603216,
          0.7685247834990175,
          0.9168273035060777,
          0.9426758241011313,
          0.003018416324708424,
          0.11920292202211755,
          0.000610879359434401,
          0.08317269649392238,
          0.026596993576865856,
          0.04742587317756678,
          0.45016600268752216,
          0.9998989708060922,
          0.9996646498695336,
          0.003684239899435989,
          0.973403006423134,
          0.9988874639671398,
          0.0003353501304664781,
          0.8021838885585817,
          0.032295464698450516,
          0.005486298899450404,
          0.0009110511944006454,
          0.35434369377420455,
          0.973403006423134,
          0.973403006423134,
          0.000610879359434401,
          0.9820137900379085,
          0.000610879359434401,
          0.0011125360328603216,
          0.16798161486607552,
          0.000746028833836697,
          0.9955037268390589,
          0.021881270936130476,
          0.0016588010801744215,
          0.005486298899450404,
          0.057324175898868755,
          0.012128434984274237,
          0.0013585199504289591,
          0.0016588010801744215,
          0.039165722796764356,
          0.021881270936130476,
          0.003018416324708424,
          0.9002495108803148,
          0.401312339887548,
          0.2689414213699951,
          0.002025320389049882,
          0.7310585786300049,
          0.9426758241011313,
          0.026596993576865856,
          0.9975273768433653,
          0.014774031693273055,
          0.000746028833836697,
          0.23147521650098238,
          0.08317269649392238,
          0.9990889488055994,
          0.8021838885585817,
          0.002025320389049882,
          0.6456563062257954,
          0.06913842034334682,
          0.04742587317756678,
          0.021881270936130476,
          0.003018416324708424,
          0.008162571153159897,
          0.9979746796109501,
          0.039165722796764356,
          0.06913842034334682,
          0.9002495108803148,
          0.6899744811276125,
          0.9998989708060922,
          0.014774031693273055,
          0.005486298899450404,
          0.8021838885585817,
          0.04742587317756678,
          0.23147521650098238,
          0.9781187290638694,
          0.009951801866904324,
          0.01798620996209156,
          0.000610879359434401,
          0.002025320389049882,
          0.014774031693273055,
          0.003684239899435989,
          0.9998159280950366,
          0.002025320389049882,
          0.014774031693273055,
          0.000746028833836697,
          0.0016588010801744215,
          0.9969815836752917,
          0.0013585199504289591,
          0.401312339887548,
          0.012128434984274237,
          0.9918374288468401,
          0.002025320389049882,
          0.039165722796764356,
          0.014774031693273055,
          0.45016600268752216,
          0.026596993576865856,
          0.9983411989198255,
          0.014774031693273055,
          0.0016588010801744215,
          0.9168273035060777,
          0.11920292202211755,
          0.026596993576865856,
          0.003684239899435989,
          0.002025320389049882,
          0.032295464698450516,
          0.5,
          0.008162571153159897,
          0.01798620996209156,
          0.000610879359434401,
          0.000746028833836697,
          0.9979746796109501,
          0.0009110511944006454,
          0.032295464698450516,
          0.973403006423134,
          0.0003353501304664781,
          0.9677045353015494,
          0.002025320389049882,
          0.0016588010801744215,
          0.0016588010801744215,
          0.0009110511944006454,
          0.003684239899435989,
          0.23147521650098238,
          0.8320183851339245,
          0.004496273160941178,
          0.8581489350995123,
          0.026596993576865856,
          0.16798161486607552,
          0.0013585199504289591
         ],
         "yaxis": "y"
        }
       ],
       "layout": {
        "legend": {
         "tracegroupgap": 0
        },
        "margin": {
         "t": 60
        },
        "template": {
         "data": {
          "bar": [
           {
            "error_x": {
             "color": "#2a3f5f"
            },
            "error_y": {
             "color": "#2a3f5f"
            },
            "marker": {
             "line": {
              "color": "#E5ECF6",
              "width": 0.5
             },
             "pattern": {
              "fillmode": "overlay",
              "size": 10,
              "solidity": 0.2
             }
            },
            "type": "bar"
           }
          ],
          "barpolar": [
           {
            "marker": {
             "line": {
              "color": "#E5ECF6",
              "width": 0.5
             },
             "pattern": {
              "fillmode": "overlay",
              "size": 10,
              "solidity": 0.2
             }
            },
            "type": "barpolar"
           }
          ],
          "carpet": [
           {
            "aaxis": {
             "endlinecolor": "#2a3f5f",
             "gridcolor": "white",
             "linecolor": "white",
             "minorgridcolor": "white",
             "startlinecolor": "#2a3f5f"
            },
            "baxis": {
             "endlinecolor": "#2a3f5f",
             "gridcolor": "white",
             "linecolor": "white",
             "minorgridcolor": "white",
             "startlinecolor": "#2a3f5f"
            },
            "type": "carpet"
           }
          ],
          "choropleth": [
           {
            "colorbar": {
             "outlinewidth": 0,
             "ticks": ""
            },
            "type": "choropleth"
           }
          ],
          "contour": [
           {
            "colorbar": {
             "outlinewidth": 0,
             "ticks": ""
            },
            "colorscale": [
             [
              0,
              "#0d0887"
             ],
             [
              0.1111111111111111,
              "#46039f"
             ],
             [
              0.2222222222222222,
              "#7201a8"
             ],
             [
              0.3333333333333333,
              "#9c179e"
             ],
             [
              0.4444444444444444,
              "#bd3786"
             ],
             [
              0.5555555555555556,
              "#d8576b"
             ],
             [
              0.6666666666666666,
              "#ed7953"
             ],
             [
              0.7777777777777778,
              "#fb9f3a"
             ],
             [
              0.8888888888888888,
              "#fdca26"
             ],
             [
              1,
              "#f0f921"
             ]
            ],
            "type": "contour"
           }
          ],
          "contourcarpet": [
           {
            "colorbar": {
             "outlinewidth": 0,
             "ticks": ""
            },
            "type": "contourcarpet"
           }
          ],
          "heatmap": [
           {
            "colorbar": {
             "outlinewidth": 0,
             "ticks": ""
            },
            "colorscale": [
             [
              0,
              "#0d0887"
             ],
             [
              0.1111111111111111,
              "#46039f"
             ],
             [
              0.2222222222222222,
              "#7201a8"
             ],
             [
              0.3333333333333333,
              "#9c179e"
             ],
             [
              0.4444444444444444,
              "#bd3786"
             ],
             [
              0.5555555555555556,
              "#d8576b"
             ],
             [
              0.6666666666666666,
              "#ed7953"
             ],
             [
              0.7777777777777778,
              "#fb9f3a"
             ],
             [
              0.8888888888888888,
              "#fdca26"
             ],
             [
              1,
              "#f0f921"
             ]
            ],
            "type": "heatmap"
           }
          ],
          "heatmapgl": [
           {
            "colorbar": {
             "outlinewidth": 0,
             "ticks": ""
            },
            "colorscale": [
             [
              0,
              "#0d0887"
             ],
             [
              0.1111111111111111,
              "#46039f"
             ],
             [
              0.2222222222222222,
              "#7201a8"
             ],
             [
              0.3333333333333333,
              "#9c179e"
             ],
             [
              0.4444444444444444,
              "#bd3786"
             ],
             [
              0.5555555555555556,
              "#d8576b"
             ],
             [
              0.6666666666666666,
              "#ed7953"
             ],
             [
              0.7777777777777778,
              "#fb9f3a"
             ],
             [
              0.8888888888888888,
              "#fdca26"
             ],
             [
              1,
              "#f0f921"
             ]
            ],
            "type": "heatmapgl"
           }
          ],
          "histogram": [
           {
            "marker": {
             "pattern": {
              "fillmode": "overlay",
              "size": 10,
              "solidity": 0.2
             }
            },
            "type": "histogram"
           }
          ],
          "histogram2d": [
           {
            "colorbar": {
             "outlinewidth": 0,
             "ticks": ""
            },
            "colorscale": [
             [
              0,
              "#0d0887"
             ],
             [
              0.1111111111111111,
              "#46039f"
             ],
             [
              0.2222222222222222,
              "#7201a8"
             ],
             [
              0.3333333333333333,
              "#9c179e"
             ],
             [
              0.4444444444444444,
              "#bd3786"
             ],
             [
              0.5555555555555556,
              "#d8576b"
             ],
             [
              0.6666666666666666,
              "#ed7953"
             ],
             [
              0.7777777777777778,
              "#fb9f3a"
             ],
             [
              0.8888888888888888,
              "#fdca26"
             ],
             [
              1,
              "#f0f921"
             ]
            ],
            "type": "histogram2d"
           }
          ],
          "histogram2dcontour": [
           {
            "colorbar": {
             "outlinewidth": 0,
             "ticks": ""
            },
            "colorscale": [
             [
              0,
              "#0d0887"
             ],
             [
              0.1111111111111111,
              "#46039f"
             ],
             [
              0.2222222222222222,
              "#7201a8"
             ],
             [
              0.3333333333333333,
              "#9c179e"
             ],
             [
              0.4444444444444444,
              "#bd3786"
             ],
             [
              0.5555555555555556,
              "#d8576b"
             ],
             [
              0.6666666666666666,
              "#ed7953"
             ],
             [
              0.7777777777777778,
              "#fb9f3a"
             ],
             [
              0.8888888888888888,
              "#fdca26"
             ],
             [
              1,
              "#f0f921"
             ]
            ],
            "type": "histogram2dcontour"
           }
          ],
          "mesh3d": [
           {
            "colorbar": {
             "outlinewidth": 0,
             "ticks": ""
            },
            "type": "mesh3d"
           }
          ],
          "parcoords": [
           {
            "line": {
             "colorbar": {
              "outlinewidth": 0,
              "ticks": ""
             }
            },
            "type": "parcoords"
           }
          ],
          "pie": [
           {
            "automargin": true,
            "type": "pie"
           }
          ],
          "scatter": [
           {
            "fillpattern": {
             "fillmode": "overlay",
             "size": 10,
             "solidity": 0.2
            },
            "type": "scatter"
           }
          ],
          "scatter3d": [
           {
            "line": {
             "colorbar": {
              "outlinewidth": 0,
              "ticks": ""
             }
            },
            "marker": {
             "colorbar": {
              "outlinewidth": 0,
              "ticks": ""
             }
            },
            "type": "scatter3d"
           }
          ],
          "scattercarpet": [
           {
            "marker": {
             "colorbar": {
              "outlinewidth": 0,
              "ticks": ""
             }
            },
            "type": "scattercarpet"
           }
          ],
          "scattergeo": [
           {
            "marker": {
             "colorbar": {
              "outlinewidth": 0,
              "ticks": ""
             }
            },
            "type": "scattergeo"
           }
          ],
          "scattergl": [
           {
            "marker": {
             "colorbar": {
              "outlinewidth": 0,
              "ticks": ""
             }
            },
            "type": "scattergl"
           }
          ],
          "scattermapbox": [
           {
            "marker": {
             "colorbar": {
              "outlinewidth": 0,
              "ticks": ""
             }
            },
            "type": "scattermapbox"
           }
          ],
          "scatterpolar": [
           {
            "marker": {
             "colorbar": {
              "outlinewidth": 0,
              "ticks": ""
             }
            },
            "type": "scatterpolar"
           }
          ],
          "scatterpolargl": [
           {
            "marker": {
             "colorbar": {
              "outlinewidth": 0,
              "ticks": ""
             }
            },
            "type": "scatterpolargl"
           }
          ],
          "scatterternary": [
           {
            "marker": {
             "colorbar": {
              "outlinewidth": 0,
              "ticks": ""
             }
            },
            "type": "scatterternary"
           }
          ],
          "surface": [
           {
            "colorbar": {
             "outlinewidth": 0,
             "ticks": ""
            },
            "colorscale": [
             [
              0,
              "#0d0887"
             ],
             [
              0.1111111111111111,
              "#46039f"
             ],
             [
              0.2222222222222222,
              "#7201a8"
             ],
             [
              0.3333333333333333,
              "#9c179e"
             ],
             [
              0.4444444444444444,
              "#bd3786"
             ],
             [
              0.5555555555555556,
              "#d8576b"
             ],
             [
              0.6666666666666666,
              "#ed7953"
             ],
             [
              0.7777777777777778,
              "#fb9f3a"
             ],
             [
              0.8888888888888888,
              "#fdca26"
             ],
             [
              1,
              "#f0f921"
             ]
            ],
            "type": "surface"
           }
          ],
          "table": [
           {
            "cells": {
             "fill": {
              "color": "#EBF0F8"
             },
             "line": {
              "color": "white"
             }
            },
            "header": {
             "fill": {
              "color": "#C8D4E3"
             },
             "line": {
              "color": "white"
             }
            },
            "type": "table"
           }
          ]
         },
         "layout": {
          "annotationdefaults": {
           "arrowcolor": "#2a3f5f",
           "arrowhead": 0,
           "arrowwidth": 1
          },
          "autotypenumbers": "strict",
          "coloraxis": {
           "colorbar": {
            "outlinewidth": 0,
            "ticks": ""
           }
          },
          "colorscale": {
           "diverging": [
            [
             0,
             "#8e0152"
            ],
            [
             0.1,
             "#c51b7d"
            ],
            [
             0.2,
             "#de77ae"
            ],
            [
             0.3,
             "#f1b6da"
            ],
            [
             0.4,
             "#fde0ef"
            ],
            [
             0.5,
             "#f7f7f7"
            ],
            [
             0.6,
             "#e6f5d0"
            ],
            [
             0.7,
             "#b8e186"
            ],
            [
             0.8,
             "#7fbc41"
            ],
            [
             0.9,
             "#4d9221"
            ],
            [
             1,
             "#276419"
            ]
           ],
           "sequential": [
            [
             0,
             "#0d0887"
            ],
            [
             0.1111111111111111,
             "#46039f"
            ],
            [
             0.2222222222222222,
             "#7201a8"
            ],
            [
             0.3333333333333333,
             "#9c179e"
            ],
            [
             0.4444444444444444,
             "#bd3786"
            ],
            [
             0.5555555555555556,
             "#d8576b"
            ],
            [
             0.6666666666666666,
             "#ed7953"
            ],
            [
             0.7777777777777778,
             "#fb9f3a"
            ],
            [
             0.8888888888888888,
             "#fdca26"
            ],
            [
             1,
             "#f0f921"
            ]
           ],
           "sequentialminus": [
            [
             0,
             "#0d0887"
            ],
            [
             0.1111111111111111,
             "#46039f"
            ],
            [
             0.2222222222222222,
             "#7201a8"
            ],
            [
             0.3333333333333333,
             "#9c179e"
            ],
            [
             0.4444444444444444,
             "#bd3786"
            ],
            [
             0.5555555555555556,
             "#d8576b"
            ],
            [
             0.6666666666666666,
             "#ed7953"
            ],
            [
             0.7777777777777778,
             "#fb9f3a"
            ],
            [
             0.8888888888888888,
             "#fdca26"
            ],
            [
             1,
             "#f0f921"
            ]
           ]
          },
          "colorway": [
           "#636efa",
           "#EF553B",
           "#00cc96",
           "#ab63fa",
           "#FFA15A",
           "#19d3f3",
           "#FF6692",
           "#B6E880",
           "#FF97FF",
           "#FECB52"
          ],
          "font": {
           "color": "#2a3f5f"
          },
          "geo": {
           "bgcolor": "white",
           "lakecolor": "white",
           "landcolor": "#E5ECF6",
           "showlakes": true,
           "showland": true,
           "subunitcolor": "white"
          },
          "hoverlabel": {
           "align": "left"
          },
          "hovermode": "closest",
          "mapbox": {
           "style": "light"
          },
          "paper_bgcolor": "white",
          "plot_bgcolor": "#E5ECF6",
          "polar": {
           "angularaxis": {
            "gridcolor": "white",
            "linecolor": "white",
            "ticks": ""
           },
           "bgcolor": "#E5ECF6",
           "radialaxis": {
            "gridcolor": "white",
            "linecolor": "white",
            "ticks": ""
           }
          },
          "scene": {
           "xaxis": {
            "backgroundcolor": "#E5ECF6",
            "gridcolor": "white",
            "gridwidth": 2,
            "linecolor": "white",
            "showbackground": true,
            "ticks": "",
            "zerolinecolor": "white"
           },
           "yaxis": {
            "backgroundcolor": "#E5ECF6",
            "gridcolor": "white",
            "gridwidth": 2,
            "linecolor": "white",
            "showbackground": true,
            "ticks": "",
            "zerolinecolor": "white"
           },
           "zaxis": {
            "backgroundcolor": "#E5ECF6",
            "gridcolor": "white",
            "gridwidth": 2,
            "linecolor": "white",
            "showbackground": true,
            "ticks": "",
            "zerolinecolor": "white"
           }
          },
          "shapedefaults": {
           "line": {
            "color": "#2a3f5f"
           }
          },
          "ternary": {
           "aaxis": {
            "gridcolor": "white",
            "linecolor": "white",
            "ticks": ""
           },
           "baxis": {
            "gridcolor": "white",
            "linecolor": "white",
            "ticks": ""
           },
           "bgcolor": "#E5ECF6",
           "caxis": {
            "gridcolor": "white",
            "linecolor": "white",
            "ticks": ""
           }
          },
          "title": {
           "x": 0.05
          },
          "xaxis": {
           "automargin": true,
           "gridcolor": "white",
           "linecolor": "white",
           "ticks": "",
           "title": {
            "standoff": 15
           },
           "zerolinecolor": "white",
           "zerolinewidth": 2
          },
          "yaxis": {
           "automargin": true,
           "gridcolor": "white",
           "linecolor": "white",
           "ticks": "",
           "title": {
            "standoff": 15
           },
           "zerolinecolor": "white",
           "zerolinewidth": 2
          }
         }
        },
        "xaxis": {
         "anchor": "y",
         "domain": [
          0,
          1
         ],
         "title": {
          "text": "HRD-sum"
         }
        },
        "yaxis": {
         "anchor": "x",
         "domain": [
          0,
          1
         ],
         "title": {
          "text": "Confidence"
         }
        }
       }
      }
     },
     "metadata": {},
     "output_type": "display_data"
    }
   ],
   "source": [
    "px.scatter(df, x = 'HRD-sum', y = 'Confidence')"
   ]
  },
  {
   "cell_type": "code",
   "execution_count": 144,
   "metadata": {},
   "outputs": [
    {
     "data": {
      "image/png": "[encoded data removed]",
      "text/plain": [
       "<Figure size 1000x600 with 1 Axes>"
      ]
     },
     "metadata": {},
     "output_type": "display_data"
    }
   ],
   "source": [
    "import seaborn as sns\n",
    "import matplotlib.pyplot as plt\n",
    "\n",
    "# Create figure\n",
    "plt.figure(figsize=(10, 6))\n",
    "\n",
    "# Create scatter plot\n",
    "sns.scatterplot(data=df, x='HRD-sum', y='Confidence', hue = 'HRD_adjust', alpha=0.6)\n",
    "\n",
    "# Add title and labels\n",
    "plt.title('HRD-sum vs Confidence Score')\n",
    "plt.xlabel('HRD-sum')\n",
    "plt.ylabel('Confidence Score')\n",
    "\n",
    "# Add grid\n",
    "plt.grid(True, linestyle='--', alpha=0.7)\n",
    "\n",
    "# Set y-axis limits for confidence\n",
    "plt.ylim(0, 1)\n",
    "\n",
    "plt.show()"
   ]
  }
 ],
 "metadata": {
  "kernelspec": {
   "display_name": "HRDclass",
   "language": "python",
   "name": "python3"
  },
  "language_info": {
   "codemirror_mode": {
    "name": "ipython",
    "version": 3
   },
   "file_extension": ".py",
   "mimetype": "text/x-python",
   "name": "python",
   "nbconvert_exporter": "python",
   "pygments_lexer": "ipython3",
   "version": "3.12.7"
  }
 },
 "nbformat": 4,
 "nbformat_minor": 2
}
